{
 "cells": [
  {
   "cell_type": "markdown",
   "id": "2b26f9cb",
   "metadata": {},
   "source": [
    "# polymorphism = multiple + forms"
   ]
  },
  {
   "cell_type": "code",
   "execution_count": 1,
   "id": "054d5714",
   "metadata": {},
   "outputs": [],
   "source": [
    "def test(a,b):\n",
    "    return a+b"
   ]
  },
  {
   "cell_type": "code",
   "execution_count": 2,
   "id": "5ef02bca",
   "metadata": {},
   "outputs": [
    {
     "data": {
      "text/plain": [
       "7"
      ]
     },
     "execution_count": 2,
     "metadata": {},
     "output_type": "execute_result"
    }
   ],
   "source": [
    "test(3,4)"
   ]
  },
  {
   "cell_type": "code",
   "execution_count": 4,
   "id": "bbdbc624",
   "metadata": {},
   "outputs": [
    {
     "data": {
      "text/plain": [
       "'Utkarsh Choubey'"
      ]
     },
     "execution_count": 4,
     "metadata": {},
     "output_type": "execute_result"
    }
   ],
   "source": [
    "test(\"Utkarsh\" , \" Choubey\")"
   ]
  },
  {
   "cell_type": "code",
   "execution_count": 5,
   "id": "a363031c",
   "metadata": {},
   "outputs": [],
   "source": [
    "class instagram():\n",
    "    def Share_Stories(self):\n",
    "        print(\"This will share my instagram story\")\n",
    "class facebook():\n",
    "    def Share_Stories(self):\n",
    "        print(\"This will share my facebook story\")\n"
   ]
  },
  {
   "cell_type": "code",
   "execution_count": 6,
   "id": "914d02f9",
   "metadata": {},
   "outputs": [],
   "source": [
    "def sharestories(app):\n",
    "    app.Share_Stories()"
   ]
  },
  {
   "cell_type": "code",
   "execution_count": 7,
   "id": "837abefc",
   "metadata": {},
   "outputs": [],
   "source": [
    "i = instagram()\n",
    "f = facebook()"
   ]
  },
  {
   "cell_type": "code",
   "execution_count": 8,
   "id": "55705375",
   "metadata": {},
   "outputs": [
    {
     "name": "stdout",
     "output_type": "stream",
     "text": [
      "This will share my instagram story\n"
     ]
    }
   ],
   "source": [
    "sharestories(i)"
   ]
  },
  {
   "cell_type": "code",
   "execution_count": 9,
   "id": "181cbfb8",
   "metadata": {},
   "outputs": [
    {
     "name": "stdout",
     "output_type": "stream",
     "text": [
      "This will share my facebook story\n"
     ]
    }
   ],
   "source": [
    "sharestories(f)"
   ]
  },
  {
   "cell_type": "markdown",
   "id": "e08111cf",
   "metadata": {},
   "source": [
    "### in case of polymorphism, method is same, but behaviour is changed because nature is different because the method of calling is different"
   ]
  },
  {
   "cell_type": "markdown",
   "id": "414c8b44",
   "metadata": {},
   "source": [
    "### now, we will try to do same thing with inheritance"
   ]
  },
  {
   "cell_type": "code",
   "execution_count": 11,
   "id": "68ecf4da",
   "metadata": {},
   "outputs": [],
   "source": [
    "class social_media:\n",
    "    def share_stories(self):\n",
    "        print(\"share stories\")\n",
    "    def upload_pic(self):\n",
    "        print(\"this will help you to upload pic on social media\")\n",
    "        \n",
    "class facebook(social_media):\n",
    "    def share_stories(self):\n",
    "        print(\"share stories of facebook\")\n",
    "\n",
    "class instagram(social_media):\n",
    "    def share_stories(self):\n",
    "        print(\"share stories of instagram\")"
   ]
  },
  {
   "cell_type": "code",
   "execution_count": 12,
   "id": "24e04f60",
   "metadata": {},
   "outputs": [],
   "source": [
    "i = instagram()\n",
    "f =facebook()"
   ]
  },
  {
   "cell_type": "code",
   "execution_count": 13,
   "id": "03752822",
   "metadata": {},
   "outputs": [
    {
     "name": "stdout",
     "output_type": "stream",
     "text": [
      "share stories of facebook\n"
     ]
    }
   ],
   "source": [
    "f.share_stories()"
   ]
  },
  {
   "cell_type": "code",
   "execution_count": 14,
   "id": "b356b696",
   "metadata": {},
   "outputs": [
    {
     "name": "stdout",
     "output_type": "stream",
     "text": [
      "this will help you to upload pic on social media\n"
     ]
    }
   ],
   "source": [
    "i.upload_pic()"
   ]
  },
  {
   "cell_type": "code",
   "execution_count": 15,
   "id": "f28f3efb",
   "metadata": {},
   "outputs": [
    {
     "name": "stdout",
     "output_type": "stream",
     "text": [
      "share stories of instagram\n"
     ]
    }
   ],
   "source": [
    "i.share_stories()"
   ]
  },
  {
   "cell_type": "code",
   "execution_count": 16,
   "id": "8b5cf8ce",
   "metadata": {},
   "outputs": [],
   "source": [
    "class test(Exception):\n",
    "    def __init__(self, message):\n",
    "        self.message=message"
   ]
  },
  {
   "cell_type": "code",
   "execution_count": 17,
   "id": "d423594b",
   "metadata": {},
   "outputs": [
    {
     "name": "stdout",
     "output_type": "stream",
     "text": [
      "This is my own exception class\n"
     ]
    }
   ],
   "source": [
    "try:\n",
    "    raise(test(\"This is my own exception class\"))\n",
    "except test as t:\n",
    "    print(t)"
   ]
  },
  {
   "cell_type": "markdown",
   "id": "ed263b4d",
   "metadata": {},
   "source": [
    "### in the above codes, we are not calling Exception as e,,,,instead we are calling our own class"
   ]
  },
  {
   "cell_type": "code",
   "execution_count": 18,
   "id": "fa9e4f85",
   "metadata": {},
   "outputs": [
    {
     "ename": "ZeroDivisionError",
     "evalue": "division by zero",
     "output_type": "error",
     "traceback": [
      "\u001b[1;31m---------------------------------------------------------------------------\u001b[0m",
      "\u001b[1;31mZeroDivisionError\u001b[0m                         Traceback (most recent call last)",
      "\u001b[1;32m~\\AppData\\Local\\Temp/ipykernel_10128/616537507.py\u001b[0m in \u001b[0;36m<module>\u001b[1;34m\u001b[0m\n\u001b[0;32m      1\u001b[0m \u001b[1;32mtry\u001b[0m\u001b[1;33m:\u001b[0m\u001b[1;33m\u001b[0m\u001b[1;33m\u001b[0m\u001b[0m\n\u001b[1;32m----> 2\u001b[1;33m     \u001b[1;36m5\u001b[0m\u001b[1;33m/\u001b[0m\u001b[1;36m0\u001b[0m\u001b[1;33m\u001b[0m\u001b[1;33m\u001b[0m\u001b[0m\n\u001b[0m\u001b[0;32m      3\u001b[0m \u001b[1;32mexcept\u001b[0m \u001b[0mtest\u001b[0m \u001b[1;32mas\u001b[0m \u001b[0mt\u001b[0m\u001b[1;33m:\u001b[0m\u001b[1;33m\u001b[0m\u001b[1;33m\u001b[0m\u001b[0m\n\u001b[0;32m      4\u001b[0m     \u001b[0mprint\u001b[0m\u001b[1;33m(\u001b[0m\u001b[0mt\u001b[0m\u001b[1;33m)\u001b[0m\u001b[1;33m\u001b[0m\u001b[1;33m\u001b[0m\u001b[0m\n",
      "\u001b[1;31mZeroDivisionError\u001b[0m: division by zero"
     ]
    }
   ],
   "source": [
    "try:\n",
    "    5/0\n",
    "except test as t:\n",
    "    print(t)"
   ]
  },
  {
   "cell_type": "code",
   "execution_count": 19,
   "id": "5623b6f8",
   "metadata": {},
   "outputs": [
    {
     "ename": "ZeroDivisionError",
     "evalue": "division by zero",
     "output_type": "error",
     "traceback": [
      "\u001b[1;31m---------------------------------------------------------------------------\u001b[0m",
      "\u001b[1;31mZeroDivisionError\u001b[0m                         Traceback (most recent call last)",
      "\u001b[1;32m~\\AppData\\Local\\Temp/ipykernel_10128/1224103994.py\u001b[0m in \u001b[0;36m<module>\u001b[1;34m\u001b[0m\n\u001b[0;32m      1\u001b[0m \u001b[1;32mtry\u001b[0m\u001b[1;33m:\u001b[0m\u001b[1;33m\u001b[0m\u001b[1;33m\u001b[0m\u001b[0m\n\u001b[1;32m----> 2\u001b[1;33m     \u001b[1;36m5\u001b[0m\u001b[1;33m/\u001b[0m\u001b[1;36m0\u001b[0m\u001b[1;33m\u001b[0m\u001b[1;33m\u001b[0m\u001b[0m\n\u001b[0m\u001b[0;32m      3\u001b[0m     \u001b[1;32mraise\u001b[0m\u001b[1;33m(\u001b[0m\u001b[0mtest\u001b[0m\u001b[1;33m(\u001b[0m\u001b[1;34m\"This is my own exception class\"\u001b[0m\u001b[1;33m)\u001b[0m\u001b[1;33m)\u001b[0m\u001b[1;33m\u001b[0m\u001b[1;33m\u001b[0m\u001b[0m\n\u001b[0;32m      4\u001b[0m \u001b[1;32mexcept\u001b[0m \u001b[0mtest\u001b[0m \u001b[1;32mas\u001b[0m \u001b[0mt\u001b[0m\u001b[1;33m:\u001b[0m\u001b[1;33m\u001b[0m\u001b[1;33m\u001b[0m\u001b[0m\n\u001b[0;32m      5\u001b[0m     \u001b[0mprint\u001b[0m\u001b[1;33m(\u001b[0m\u001b[0mt\u001b[0m\u001b[1;33m)\u001b[0m\u001b[1;33m\u001b[0m\u001b[1;33m\u001b[0m\u001b[0m\n",
      "\u001b[1;31mZeroDivisionError\u001b[0m: division by zero"
     ]
    }
   ],
   "source": [
    "try:\n",
    "    5/0\n",
    "    raise(test(\"This is my own exception class\"))\n",
    "except test as t:\n",
    "    print(t)"
   ]
  },
  {
   "cell_type": "code",
   "execution_count": 20,
   "id": "1f0ed058",
   "metadata": {},
   "outputs": [
    {
     "name": "stdout",
     "output_type": "stream",
     "text": [
      "This is my own exception class\n"
     ]
    }
   ],
   "source": [
    "try:\n",
    "    raise(test(\"This is my own exception class\"))\n",
    "    5/0\n",
    "except test as t:\n",
    "    print(t)"
   ]
  },
  {
   "cell_type": "markdown",
   "id": "cf5958e0",
   "metadata": {},
   "source": [
    "### syntax : raise + created_class"
   ]
  },
  {
   "cell_type": "code",
   "execution_count": 23,
   "id": "1de60022",
   "metadata": {},
   "outputs": [],
   "source": [
    "class test(Exception):\n",
    "    def __init__(self, message,myvalue):\n",
    "        self.message=message\n",
    "        self.myvalue=myvalue"
   ]
  },
  {
   "cell_type": "code",
   "execution_count": 24,
   "id": "2fc944d4",
   "metadata": {},
   "outputs": [
    {
     "name": "stdout",
     "output_type": "stream",
     "text": [
      "('This is my own exception class', 567567)\n"
     ]
    }
   ],
   "source": [
    "try:\n",
    "    raise(test(\"This is my own exception class\",567567))\n",
    "except test as t:\n",
    "    print(t)"
   ]
  },
  {
   "cell_type": "markdown",
   "id": "3d160179",
   "metadata": {},
   "source": [
    "#### Q1. \n",
    "Create your own class to achieve multiple, multilevel inheritance\n",
    "\n",
    "#### Q2. \n",
    "Create your own class to represent polymorphism\n",
    "\n",
    "#### Q3.\n",
    "Create yor own class for custom exception\n",
    "\n",
    "#### Q4. \n",
    "Create your own class to achieve encaptulation\n",
    "\n",
    "#### Q5. \n",
    "Create your own class to achieve method overloading and overriding"
   ]
  },
  {
   "cell_type": "code",
   "execution_count": null,
   "id": "7ac990b8",
   "metadata": {},
   "outputs": [],
   "source": [
    "#Multilevel inheritance\n",
    "\n",
    "class university:\n",
    "    def campus_area(self):\n",
    "        area = int(input(\"Enter the area of the campus:   \"))\n",
    "        print (\"The area of the campus is : \", area)\n",
    "    \n",
    "class school(university):\n",
    "        print(\"University officers published the area of our campus. On their website, we were given option to enter our campus area\")\n",
    "    \n",
    "Object = school()\n",
    "Object.campus_area()"
   ]
  },
  {
   "cell_type": "code",
   "execution_count": 38,
   "id": "cf5b7d1e",
   "metadata": {},
   "outputs": [],
   "source": [
    "class batch_number:\n",
    "    batchnumber =\"\" #static or class variable\n",
    "    def __init__(self,a,b,c): #a,b,c are object or instance variable\n",
    "        self.a=a\n",
    "        self.b=b\n",
    "        self.c=c\n",
    "        "
   ]
  },
  {
   "cell_type": "markdown",
   "id": "4ee8f320",
   "metadata": {},
   "source": [
    "### decorator is nothing but a tool to decorate a respective class or function"
   ]
  },
  {
   "cell_type": "code",
   "execution_count": 41,
   "id": "b91b7398",
   "metadata": {},
   "outputs": [],
   "source": [
    "# multiple inheritance\n",
    "\n",
    "# parent class1\n",
    "\n",
    "class Batch_number:\n",
    "    batchnumber=\"\"\n",
    "    def __init__(self,a,b,c):\n",
    "        self.a=a\n",
    "        self.b=b\n",
    "        self.c=c\n",
    "    @staticmethod\n",
    "    def batch():\n",
    "        print(\"this is a staic method\")"
   ]
  },
  {
   "cell_type": "code",
   "execution_count": 43,
   "id": "fc91d37d",
   "metadata": {},
   "outputs": [],
   "source": [
    "bn = Batch_number(3,4,5)"
   ]
  },
  {
   "cell_type": "code",
   "execution_count": 44,
   "id": "5a02c901",
   "metadata": {},
   "outputs": [
    {
     "name": "stdout",
     "output_type": "stream",
     "text": [
      "this is a staic method\n"
     ]
    }
   ],
   "source": [
    "bn.batch()"
   ]
  },
  {
   "cell_type": "code",
   "execution_count": 45,
   "id": "3d075de1",
   "metadata": {},
   "outputs": [
    {
     "data": {
      "text/plain": [
       "''"
      ]
     },
     "execution_count": 45,
     "metadata": {},
     "output_type": "execute_result"
    }
   ],
   "source": [
    "Batch_number.batchnumber"
   ]
  },
  {
   "cell_type": "code",
   "execution_count": 56,
   "id": "c77c1113",
   "metadata": {},
   "outputs": [],
   "source": [
    "# multiple inheritance\n",
    "\n",
    "# parent class1\n",
    "\n",
    "class Batch_number:\n",
    "    batchnumber=\"FSDS\"\n",
    "    def __init__(self,a,b,c):\n",
    "        self.a=a\n",
    "        self.b=b\n",
    "        self.c=c\n",
    "    @staticmethod #decorator\n",
    "    def batch():\n",
    "        print(\"this is a staic method\")\n",
    "        \n",
    "    def batch1(self):\n",
    "        print(\"this is an unknown method\")"
   ]
  },
  {
   "cell_type": "code",
   "execution_count": 57,
   "id": "a074e830",
   "metadata": {},
   "outputs": [
    {
     "ename": "AttributeError",
     "evalue": "type object 'Batch_number' has no attribute 'a'",
     "output_type": "error",
     "traceback": [
      "\u001b[1;31m---------------------------------------------------------------------------\u001b[0m",
      "\u001b[1;31mAttributeError\u001b[0m                            Traceback (most recent call last)",
      "\u001b[1;32m~\\AppData\\Local\\Temp/ipykernel_10128/1348857264.py\u001b[0m in \u001b[0;36m<module>\u001b[1;34m\u001b[0m\n\u001b[1;32m----> 1\u001b[1;33m \u001b[0mBatch_number\u001b[0m\u001b[1;33m.\u001b[0m\u001b[0ma\u001b[0m\u001b[1;33m\u001b[0m\u001b[1;33m\u001b[0m\u001b[0m\n\u001b[0m",
      "\u001b[1;31mAttributeError\u001b[0m: type object 'Batch_number' has no attribute 'a'"
     ]
    }
   ],
   "source": [
    "Batch_number.a"
   ]
  },
  {
   "cell_type": "code",
   "execution_count": 58,
   "id": "bd392bbe",
   "metadata": {},
   "outputs": [
    {
     "name": "stdout",
     "output_type": "stream",
     "text": [
      "this is a staic method\n"
     ]
    }
   ],
   "source": [
    "Batch_number.batch()"
   ]
  },
  {
   "cell_type": "code",
   "execution_count": 59,
   "id": "dc13711e",
   "metadata": {},
   "outputs": [
    {
     "ename": "TypeError",
     "evalue": "batch1() missing 1 required positional argument: 'self'",
     "output_type": "error",
     "traceback": [
      "\u001b[1;31m---------------------------------------------------------------------------\u001b[0m",
      "\u001b[1;31mTypeError\u001b[0m                                 Traceback (most recent call last)",
      "\u001b[1;32m~\\AppData\\Local\\Temp/ipykernel_10128/1380430957.py\u001b[0m in \u001b[0;36m<module>\u001b[1;34m\u001b[0m\n\u001b[1;32m----> 1\u001b[1;33m \u001b[0mBatch_number\u001b[0m\u001b[1;33m.\u001b[0m\u001b[0mbatch1\u001b[0m\u001b[1;33m(\u001b[0m\u001b[1;33m)\u001b[0m\u001b[1;33m\u001b[0m\u001b[1;33m\u001b[0m\u001b[0m\n\u001b[0m",
      "\u001b[1;31mTypeError\u001b[0m: batch1() missing 1 required positional argument: 'self'"
     ]
    }
   ],
   "source": [
    "Batch_number.batch1()"
   ]
  },
  {
   "cell_type": "code",
   "execution_count": 60,
   "id": "7ba6e16d",
   "metadata": {},
   "outputs": [],
   "source": [
    "bn = Batch_number(2345,3245,345)"
   ]
  },
  {
   "cell_type": "code",
   "execution_count": 61,
   "id": "b792992d",
   "metadata": {},
   "outputs": [
    {
     "name": "stdout",
     "output_type": "stream",
     "text": [
      "this is an unknown method\n"
     ]
    }
   ],
   "source": [
    "bn.batch1()"
   ]
  },
  {
   "cell_type": "code",
   "execution_count": 62,
   "id": "5bfb5542",
   "metadata": {},
   "outputs": [
    {
     "data": {
      "text/plain": [
       "2345"
      ]
     },
     "execution_count": 62,
     "metadata": {},
     "output_type": "execute_result"
    }
   ],
   "source": [
    "bn.a"
   ]
  },
  {
   "cell_type": "markdown",
   "id": "928f98cb",
   "metadata": {},
   "source": [
    "##### decorator or utility function "
   ]
  },
  {
   "cell_type": "code",
   "execution_count": 63,
   "id": "25c3d179",
   "metadata": {},
   "outputs": [],
   "source": [
    "# multiple inheritance\n",
    "\n",
    "# parent class1\n",
    "\n",
    "class Batch_number:\n",
    "    batchnumber=\"FSDS\"\n",
    "    def __init__(self,a,b,c):\n",
    "        self.a=a\n",
    "        self.b=b\n",
    "        self.c=c\n",
    "    @staticmethod #decorator\n",
    "    def batch():\n",
    "        print(\"this is a staic method\")\n",
    "    def batch1(self):\n",
    "        print(\"this is an unknown method\")"
   ]
  },
  {
   "cell_type": "code",
   "execution_count": 64,
   "id": "a01fb99f",
   "metadata": {},
   "outputs": [
    {
     "name": "stdout",
     "output_type": "stream",
     "text": [
      "this is a staic method\n"
     ]
    }
   ],
   "source": [
    "Batch_number.batch()"
   ]
  },
  {
   "cell_type": "code",
   "execution_count": 55,
   "id": "80c7ae8e",
   "metadata": {},
   "outputs": [
    {
     "ename": "TypeError",
     "evalue": "batch1() missing 1 required positional argument: 'self'",
     "output_type": "error",
     "traceback": [
      "\u001b[1;31m---------------------------------------------------------------------------\u001b[0m",
      "\u001b[1;31mTypeError\u001b[0m                                 Traceback (most recent call last)",
      "\u001b[1;32m~\\AppData\\Local\\Temp/ipykernel_10128/1380430957.py\u001b[0m in \u001b[0;36m<module>\u001b[1;34m\u001b[0m\n\u001b[1;32m----> 1\u001b[1;33m \u001b[0mBatch_number\u001b[0m\u001b[1;33m.\u001b[0m\u001b[0mbatch1\u001b[0m\u001b[1;33m(\u001b[0m\u001b[1;33m)\u001b[0m\u001b[1;33m\u001b[0m\u001b[1;33m\u001b[0m\u001b[0m\n\u001b[0m",
      "\u001b[1;31mTypeError\u001b[0m: batch1() missing 1 required positional argument: 'self'"
     ]
    }
   ],
   "source": [
    "Batch_number.batch1()"
   ]
  },
  {
   "cell_type": "markdown",
   "id": "e3f531f9",
   "metadata": {},
   "source": [
    "### abstract classes"
   ]
  },
  {
   "cell_type": "code",
   "execution_count": 65,
   "id": "a5737eaf",
   "metadata": {},
   "outputs": [],
   "source": [
    "class abc:\n",
    "    pass"
   ]
  },
  {
   "cell_type": "code",
   "execution_count": 66,
   "id": "3a5319d2",
   "metadata": {},
   "outputs": [],
   "source": [
    "class data_project:\n",
    "    def read_file(self):\n",
    "        pass\n",
    "    def validate_file_name(self):\n",
    "        pass\n",
    "    def validate_datatype(self):\n",
    "        pass\n",
    "    def validate_db_connn(self):\n",
    "        pass\n",
    "    def create_connn(self):\n",
    "        pass\n",
    "    def insert_data(self):\n",
    "        pass\n",
    "    def delete_data(self):\n",
    "        pass\n",
    "    def update_data(self):\n",
    "        pass\n",
    "    def perform_stats(self):\n",
    "        pass\n",
    "    def perform_eda(self):\n",
    "        pass"
   ]
  },
  {
   "cell_type": "code",
   "execution_count": null,
   "id": "f15ee334",
   "metadata": {},
   "outputs": [],
   "source": [
    "class db_ops(data_project):\n",
    "    #abstraction is nothing but creating a blueprint\n",
    "    "
   ]
  },
  {
   "cell_type": "code",
   "execution_count": 67,
   "id": "2315f359",
   "metadata": {},
   "outputs": [],
   "source": [
    "from abc import abstractmethod\n",
    "class data_project:\n",
    "    \n",
    "    @abstractmethod\n",
    "    def read_file(self):\n",
    "        pass\n",
    "    def validate_file_name(self):\n",
    "        pass\n",
    "    def validate_datatype(self):\n",
    "        pass\n",
    "    def validate_db_connn(self):\n",
    "        pass\n",
    "    def create_connn(self):\n",
    "        pass\n",
    "    def insert_data(self):\n",
    "        pass\n",
    "    def delete_data(self):\n",
    "        pass\n",
    "    def update_data(self):\n",
    "        pass\n",
    "    def perform_stats(self):\n",
    "        pass\n",
    "    def perform_eda(self):\n",
    "        pass"
   ]
  },
  {
   "cell_type": "code",
   "execution_count": 68,
   "id": "7af7e8cc",
   "metadata": {},
   "outputs": [],
   "source": [
    "class test:\n",
    "    def fun(self):\n",
    "        print(\"this is my sample class\")"
   ]
  },
  {
   "cell_type": "code",
   "execution_count": 69,
   "id": "41dc55b8",
   "metadata": {},
   "outputs": [],
   "source": [
    "t = test()"
   ]
  },
  {
   "cell_type": "code",
   "execution_count": 70,
   "id": "84285aea",
   "metadata": {},
   "outputs": [
    {
     "name": "stdout",
     "output_type": "stream",
     "text": [
      "<__main__.test object at 0x000002AD309DA850>\n"
     ]
    }
   ],
   "source": [
    "print(t)"
   ]
  },
  {
   "cell_type": "code",
   "execution_count": 71,
   "id": "98ed107c",
   "metadata": {},
   "outputs": [
    {
     "data": {
      "text/plain": [
       "<__main__.test at 0x2ad309da850>"
      ]
     },
     "execution_count": 71,
     "metadata": {},
     "output_type": "execute_result"
    }
   ],
   "source": [
    "t"
   ]
  },
  {
   "cell_type": "code",
   "execution_count": 79,
   "id": "99c6c3a5",
   "metadata": {},
   "outputs": [],
   "source": [
    "class test:\n",
    "    def fun(self):\n",
    "        print(\"this is my sample class\")\n",
    "        \n",
    "    def __str__(self):\n",
    "        return str(\"this is a funncn called at a time of object print\")"
   ]
  },
  {
   "cell_type": "code",
   "execution_count": 80,
   "id": "508b0763",
   "metadata": {},
   "outputs": [],
   "source": [
    "t = test()"
   ]
  },
  {
   "cell_type": "code",
   "execution_count": 81,
   "id": "ab3fb57e",
   "metadata": {},
   "outputs": [
    {
     "data": {
      "text/plain": [
       "<__main__.test at 0x2ad308a59d0>"
      ]
     },
     "execution_count": 81,
     "metadata": {},
     "output_type": "execute_result"
    }
   ],
   "source": [
    "t "
   ]
  },
  {
   "cell_type": "code",
   "execution_count": 82,
   "id": "d340bc9b",
   "metadata": {},
   "outputs": [
    {
     "name": "stdout",
     "output_type": "stream",
     "text": [
      "this is a funncn called at a time of object print\n"
     ]
    }
   ],
   "source": [
    "print(t) #this is called overloading"
   ]
  },
  {
   "cell_type": "code",
   "execution_count": null,
   "id": "642ad21f",
   "metadata": {},
   "outputs": [],
   "source": []
  }
 ],
 "metadata": {
  "kernelspec": {
   "display_name": "Python 3 (ipykernel)",
   "language": "python",
   "name": "python3"
  },
  "language_info": {
   "codemirror_mode": {
    "name": "ipython",
    "version": 3
   },
   "file_extension": ".py",
   "mimetype": "text/x-python",
   "name": "python",
   "nbconvert_exporter": "python",
   "pygments_lexer": "ipython3",
   "version": "3.9.7"
  }
 },
 "nbformat": 4,
 "nbformat_minor": 5
}
