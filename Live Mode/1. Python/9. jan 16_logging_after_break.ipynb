{
 "cells": [
  {
   "cell_type": "code",
   "execution_count": 1,
   "id": "ab724159",
   "metadata": {},
   "outputs": [],
   "source": [
    "import logging\n",
    "logging.basicConfig(filename = \"TESTTTT.log\" )"
   ]
  },
  {
   "cell_type": "code",
   "execution_count": 2,
   "id": "4a1c92f4",
   "metadata": {},
   "outputs": [],
   "source": [
    "logging.info(\"This is my info log\")\n",
    "logging.warning(\"This is my warning log\")\n",
    "logging.error(\"This is my error log\")"
   ]
  },
  {
   "cell_type": "code",
   "execution_count": 3,
   "id": "910c20c0",
   "metadata": {},
   "outputs": [],
   "source": [
    "    logging.shutdown()"
   ]
  },
  {
   "cell_type": "code",
   "execution_count": 1,
   "id": "3d066767",
   "metadata": {},
   "outputs": [],
   "source": [
    "import logging\n",
    "logging.basicConfig(filename = \"TESTTTT.log\", level = logging.INFO)"
   ]
  },
  {
   "cell_type": "code",
   "execution_count": 2,
   "id": "d7ab2bbd",
   "metadata": {},
   "outputs": [],
   "source": [
    "logging.info(\"This is my info log\")\n",
    "logging.warning(\"This is my warning log\")\n",
    "logging.error(\"This is my error log\")"
   ]
  },
  {
   "cell_type": "code",
   "execution_count": 3,
   "id": "2167f90f",
   "metadata": {},
   "outputs": [],
   "source": [
    "    logging.shutdown()"
   ]
  },
  {
   "cell_type": "code",
   "execution_count": 1,
   "id": "22d91b84",
   "metadata": {},
   "outputs": [],
   "source": [
    "import logging\n",
    "logging.basicConfig(filename = \"TESTTTT2.log\", level = logging.DEBUG, format = '%(asctime)s %(message)s')"
   ]
  },
  {
   "cell_type": "code",
   "execution_count": 2,
   "id": "54bdcaec",
   "metadata": {},
   "outputs": [],
   "source": [
    "logging.info(\"this is my info log\")\n",
    "logging.warning(\"this is my warning log\")\n",
    "logging.debug(\"this is my debug log\")"
   ]
  },
  {
   "cell_type": "code",
   "execution_count": 1,
   "id": "c13e9b11",
   "metadata": {},
   "outputs": [],
   "source": [
    "import logging\n",
    "logging.basicConfig(filename = \"TESTTTT2.log\", level = logging.DEBUG, format = '%(asctime)s %(levelname)s %(message)s')\n",
    "\n",
    "logging.info(\"this is my info log\")\n",
    "logging.warning(\"this is my warning log\")\n",
    "logging.debug(\"this is my debug log\")"
   ]
  },
  {
   "cell_type": "code",
   "execution_count": 1,
   "id": "8977ac20",
   "metadata": {},
   "outputs": [],
   "source": [
    "import logging\n",
    "logging.basicConfig(filename = \"TESTTTT2.log\", level = logging.ERROR, format = '%(asctime)s %(levelname)s %(message)s')\n",
    "\n",
    "logging.info(\"this is my info log\")\n",
    "logging.warning(\"this is my warning log\")\n",
    "logging.debug(\"this is my debug log\")"
   ]
  },
  {
   "cell_type": "code",
   "execution_count": 1,
   "id": "5585fb20",
   "metadata": {},
   "outputs": [],
   "source": [
    "import logging\n",
    "logging.basicConfig(filename = \"TESTTTT2.log\", level = logging.DEBUG, format = '%(asctime)s %(levelname)s %(message)s')\n",
    "\n",
    "logging.info(\"this is my info log\")\n",
    "logging.warning(\"this is my warning log\")\n",
    "logging.debug(\"this is my debug log\")\n",
    "logging.error(\"this is my error log\")"
   ]
  },
  {
   "cell_type": "code",
   "execution_count": 1,
   "id": "ad198263",
   "metadata": {},
   "outputs": [],
   "source": [
    "import logging\n",
    "logging.basicConfig(filename = \"TESTTTT2.log\", level = logging.DEBUG, format = '%(asctime)s %(levelname)s %(message)s')\n",
    "\n",
    "logging.info(\"this is my info log\")\n",
    "logging.warning(\"this is my warning log\")\n",
    "logging.debug(\"this is my debug log\")\n"
   ]
  },
  {
   "cell_type": "code",
   "execution_count": 1,
   "id": "d9d7bce8",
   "metadata": {},
   "outputs": [],
   "source": [
    "import logging\n",
    "logging.basicConfig(filename = \"TESTTTT3.log\", level = logging.DEBUG, format = '%(asctime)s %(levelname)s %(message)s')\n",
    "\n",
    "\n",
    "def DivisionByZero(a,b):\n",
    "    \n",
    "    logging.info(\"this is the start of my code and i am trying to enter %s and %s\", a, b)\n",
    "    \n",
    "    \n",
    "    try:\n",
    "        result = a/b\n",
    "        logging.info(\"executed successfully\")\n",
    "    \n",
    "    except Exception as e:\n",
    "        logging.error(\"Error has occured\")\n",
    "        logging.exception(\"Exception occured: \" + str(e))\n",
    "\n",
    "        \n",
    "DivisionByZero(4,0)"
   ]
  },
  {
   "cell_type": "code",
   "execution_count": 1,
   "id": "3b269da1",
   "metadata": {},
   "outputs": [],
   "source": [
    "import logging\n",
    "logging.basicConfig(filename = \"TESTTTT3.log\", level = logging.DEBUG, format = '%(asctime)s %(levelname)s %(message)s')\n",
    "\n",
    "\n",
    "def DivisionByZero(a,b):\n",
    "    \n",
    "    logging.info(\"this is the start of my code and i am trying to enter %s and %s\", a, b)\n",
    "    \n",
    "    \n",
    "    try:\n",
    "        result = a/b\n",
    "        logging.info(\"executed successfully\")\n",
    "    \n",
    "    except Exception as e:\n",
    "        logging.error(\"Error has occured\")\n",
    "        logging.exception(\"Exception occured: \" + str(e))\n",
    "\n",
    "        \n",
    "DivisionByZero(4,0)"
   ]
  },
  {
   "cell_type": "code",
   "execution_count": 2,
   "id": "4164f5f1",
   "metadata": {},
   "outputs": [],
   "source": [
    "# %s and %s\n",
    "\n",
    "#these are placeholders"
   ]
  },
  {
   "cell_type": "code",
   "execution_count": null,
   "id": "27ab6430",
   "metadata": {},
   "outputs": [],
   "source": []
  }
 ],
 "metadata": {
  "kernelspec": {
   "display_name": "Python 3 (ipykernel)",
   "language": "python",
   "name": "python3"
  },
  "language_info": {
   "codemirror_mode": {
    "name": "ipython",
    "version": 3
   },
   "file_extension": ".py",
   "mimetype": "text/x-python",
   "name": "python",
   "nbconvert_exporter": "python",
   "pygments_lexer": "ipython3",
   "version": "3.9.7"
  }
 },
 "nbformat": 4,
 "nbformat_minor": 5
}
