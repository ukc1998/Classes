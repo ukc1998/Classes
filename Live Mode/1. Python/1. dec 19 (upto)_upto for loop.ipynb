{
 "cells": [
  {
   "cell_type": "code",
   "execution_count": 1,
   "id": "454c5e93",
   "metadata": {},
   "outputs": [
    {
     "name": "stdout",
     "output_type": "stream",
     "text": [
      "The Zen of Python, by Tim Peters\n",
      "\n",
      "Beautiful is better than ugly.\n",
      "Explicit is better than implicit.\n",
      "Simple is better than complex.\n",
      "Complex is better than complicated.\n",
      "Flat is better than nested.\n",
      "Sparse is better than dense.\n",
      "Readability counts.\n",
      "Special cases aren't special enough to break the rules.\n",
      "Although practicality beats purity.\n",
      "Errors should never pass silently.\n",
      "Unless explicitly silenced.\n",
      "In the face of ambiguity, refuse the temptation to guess.\n",
      "There should be one-- and preferably only one --obvious way to do it.\n",
      "Although that way may not be obvious at first unless you're Dutch.\n",
      "Now is better than never.\n",
      "Although never is often better than *right* now.\n",
      "If the implementation is hard to explain, it's a bad idea.\n",
      "If the implementation is easy to explain, it may be a good idea.\n",
      "Namespaces are one honking great idea -- let's do more of those!\n"
     ]
    }
   ],
   "source": [
    "import this"
   ]
  },
  {
   "cell_type": "code",
   "execution_count": 2,
   "id": "ada2b123",
   "metadata": {},
   "outputs": [
    {
     "name": "stdout",
     "output_type": "stream",
     "text": [
      "This is my first prog\n"
     ]
    }
   ],
   "source": [
    "print(\"This is my first prog\")"
   ]
  },
  {
   "cell_type": "code",
   "execution_count": 3,
   "id": "4e216186",
   "metadata": {},
   "outputs": [
    {
     "data": {
      "text/plain": [
       "3"
      ]
     },
     "execution_count": 3,
     "metadata": {},
     "output_type": "execute_result"
    }
   ],
   "source": [
    "1+2"
   ]
  },
  {
   "cell_type": "code",
   "execution_count": 4,
   "id": "5a62d4be",
   "metadata": {},
   "outputs": [
    {
     "data": {
      "text/plain": [
       "0.42857142857142855"
      ]
     },
     "execution_count": 4,
     "metadata": {},
     "output_type": "execute_result"
    }
   ],
   "source": [
    "3/7"
   ]
  },
  {
   "cell_type": "code",
   "execution_count": 5,
   "id": "4cc803f7",
   "metadata": {},
   "outputs": [
    {
     "data": {
      "text/plain": [
       "3"
      ]
     },
     "execution_count": 5,
     "metadata": {},
     "output_type": "execute_result"
    }
   ],
   "source": [
    "1+2"
   ]
  },
  {
   "cell_type": "code",
   "execution_count": 6,
   "id": "5be6bb83",
   "metadata": {},
   "outputs": [],
   "source": [
    "a=10"
   ]
  },
  {
   "cell_type": "code",
   "execution_count": 7,
   "id": "66c75386",
   "metadata": {
    "scrolled": true
   },
   "outputs": [],
   "source": [
    "ukc= 10000"
   ]
  },
  {
   "cell_type": "code",
   "execution_count": 8,
   "id": "28c373e0",
   "metadata": {},
   "outputs": [
    {
     "data": {
      "text/plain": [
       "10000"
      ]
     },
     "execution_count": 8,
     "metadata": {},
     "output_type": "execute_result"
    }
   ],
   "source": [
    "ukc"
   ]
  },
  {
   "cell_type": "code",
   "execution_count": 9,
   "id": "50169172",
   "metadata": {},
   "outputs": [
    {
     "data": {
      "text/plain": [
       "10"
      ]
     },
     "execution_count": 9,
     "metadata": {},
     "output_type": "execute_result"
    }
   ],
   "source": [
    "a"
   ]
  },
  {
   "cell_type": "code",
   "execution_count": 10,
   "id": "06ed6a2a",
   "metadata": {},
   "outputs": [
    {
     "data": {
      "text/plain": [
       "int"
      ]
     },
     "execution_count": 10,
     "metadata": {},
     "output_type": "execute_result"
    }
   ],
   "source": [
    "type(ukc)"
   ]
  },
  {
   "cell_type": "code",
   "execution_count": 11,
   "id": "7ff9c036",
   "metadata": {},
   "outputs": [],
   "source": [
    "b=0.66667"
   ]
  },
  {
   "cell_type": "code",
   "execution_count": 12,
   "id": "e37d2ed5",
   "metadata": {},
   "outputs": [
    {
     "data": {
      "text/plain": [
       "float"
      ]
     },
     "execution_count": 12,
     "metadata": {},
     "output_type": "execute_result"
    }
   ],
   "source": [
    "type(b)"
   ]
  },
  {
   "cell_type": "code",
   "execution_count": 13,
   "id": "b050c771",
   "metadata": {},
   "outputs": [],
   "source": [
    "c=\"utkarsh\""
   ]
  },
  {
   "cell_type": "code",
   "execution_count": 14,
   "id": "07c9e7f9",
   "metadata": {},
   "outputs": [
    {
     "data": {
      "text/plain": [
       "str"
      ]
     },
     "execution_count": 14,
     "metadata": {},
     "output_type": "execute_result"
    }
   ],
   "source": [
    "type(c)"
   ]
  },
  {
   "cell_type": "code",
   "execution_count": 16,
   "id": "2627a019",
   "metadata": {},
   "outputs": [],
   "source": [
    "d= 5 + 6j"
   ]
  },
  {
   "cell_type": "code",
   "execution_count": 17,
   "id": "c4699ccb",
   "metadata": {},
   "outputs": [
    {
     "data": {
      "text/plain": [
       "complex"
      ]
     },
     "execution_count": 17,
     "metadata": {},
     "output_type": "execute_result"
    }
   ],
   "source": [
    "type(d)"
   ]
  },
  {
   "cell_type": "code",
   "execution_count": 18,
   "id": "0c234663",
   "metadata": {},
   "outputs": [
    {
     "name": "stdout",
     "output_type": "stream",
     "text": [
      "(5+6j)\n"
     ]
    }
   ],
   "source": [
    "print(d)"
   ]
  },
  {
   "cell_type": "code",
   "execution_count": 19,
   "id": "15c567e3",
   "metadata": {},
   "outputs": [
    {
     "data": {
      "text/plain": [
       "(5+6j)"
      ]
     },
     "execution_count": 19,
     "metadata": {},
     "output_type": "execute_result"
    }
   ],
   "source": [
    "d"
   ]
  },
  {
   "cell_type": "code",
   "execution_count": 20,
   "id": "5f46384c",
   "metadata": {},
   "outputs": [
    {
     "data": {
      "text/plain": [
       "'utkarsh'"
      ]
     },
     "execution_count": 20,
     "metadata": {},
     "output_type": "execute_result"
    }
   ],
   "source": [
    "c"
   ]
  },
  {
   "cell_type": "code",
   "execution_count": 23,
   "id": "36f070ed",
   "metadata": {},
   "outputs": [
    {
     "name": "stdout",
     "output_type": "stream",
     "text": [
      "utkarsh\n"
     ]
    }
   ],
   "source": [
    "(print(c))"
   ]
  },
  {
   "cell_type": "code",
   "execution_count": 24,
   "id": "7319f018",
   "metadata": {},
   "outputs": [],
   "source": [
    "gdgg= \"fgfgijhljljjjljjlgdgfdsgdg\""
   ]
  },
  {
   "cell_type": "code",
   "execution_count": 25,
   "id": "c0efa027",
   "metadata": {},
   "outputs": [
    {
     "data": {
      "text/plain": [
       "'fgfgijhljljjjljjlgdgfdsgdg'"
      ]
     },
     "execution_count": 25,
     "metadata": {},
     "output_type": "execute_result"
    }
   ],
   "source": [
    "gdgg"
   ]
  },
  {
   "cell_type": "code",
   "execution_count": 26,
   "id": "8d59977c",
   "metadata": {},
   "outputs": [
    {
     "name": "stdout",
     "output_type": "stream",
     "text": [
      "fgfgijhljljjjljjlgdgfdsgdg\n"
     ]
    }
   ],
   "source": [
    "print(gdgg)"
   ]
  },
  {
   "cell_type": "code",
   "execution_count": 27,
   "id": "c09687f6",
   "metadata": {},
   "outputs": [],
   "source": [
    "g=True"
   ]
  },
  {
   "cell_type": "code",
   "execution_count": 28,
   "id": "ac42388f",
   "metadata": {},
   "outputs": [
    {
     "data": {
      "text/plain": [
       "bool"
      ]
     },
     "execution_count": 28,
     "metadata": {},
     "output_type": "execute_result"
    }
   ],
   "source": [
    "type(g)"
   ]
  },
  {
   "cell_type": "code",
   "execution_count": 29,
   "id": "ea09e494",
   "metadata": {},
   "outputs": [
    {
     "ename": "NameError",
     "evalue": "name 'hgggjghljljl' is not defined",
     "output_type": "error",
     "traceback": [
      "\u001b[1;31m---------------------------------------------------------------------------\u001b[0m",
      "\u001b[1;31mNameError\u001b[0m                                 Traceback (most recent call last)",
      "\u001b[1;32m~\\AppData\\Local\\Temp/ipykernel_7828/3135061474.py\u001b[0m in \u001b[0;36m<module>\u001b[1;34m\u001b[0m\n\u001b[1;32m----> 1\u001b[1;33m \u001b[0mf\u001b[0m\u001b[1;33m=\u001b[0m\u001b[0mhgggjghljljl\u001b[0m\u001b[1;33m\u001b[0m\u001b[1;33m\u001b[0m\u001b[0m\n\u001b[0m",
      "\u001b[1;31mNameError\u001b[0m: name 'hgggjghljljl' is not defined"
     ]
    }
   ],
   "source": [
    "f=hgggjghljljl"
   ]
  },
  {
   "cell_type": "code",
   "execution_count": 30,
   "id": "30e7f785",
   "metadata": {},
   "outputs": [
    {
     "ename": "SyntaxError",
     "evalue": "starred assignment target must be in a list or tuple (Temp/ipykernel_7828/903280737.py, line 1)",
     "output_type": "error",
     "traceback": [
      "\u001b[1;36m  File \u001b[1;32m\"C:\\Users\\Utkarsh\\AppData\\Local\\Temp/ipykernel_7828/903280737.py\"\u001b[1;36m, line \u001b[1;32m1\u001b[0m\n\u001b[1;33m    *a=868\u001b[0m\n\u001b[1;37m    ^\u001b[0m\n\u001b[1;31mSyntaxError\u001b[0m\u001b[1;31m:\u001b[0m starred assignment target must be in a list or tuple\n"
     ]
    }
   ],
   "source": [
    "*a=868"
   ]
  },
  {
   "cell_type": "code",
   "execution_count": 31,
   "id": "a57e9814",
   "metadata": {},
   "outputs": [],
   "source": [
    "a=34"
   ]
  },
  {
   "cell_type": "code",
   "execution_count": 32,
   "id": "8789f95c",
   "metadata": {},
   "outputs": [
    {
     "data": {
      "text/plain": [
       "34"
      ]
     },
     "execution_count": 32,
     "metadata": {},
     "output_type": "execute_result"
    }
   ],
   "source": [
    "a"
   ]
  },
  {
   "cell_type": "code",
   "execution_count": 33,
   "id": "419efe8c",
   "metadata": {},
   "outputs": [],
   "source": [
    "a1=62"
   ]
  },
  {
   "cell_type": "code",
   "execution_count": 34,
   "id": "ab0cf4fd",
   "metadata": {},
   "outputs": [
    {
     "data": {
      "text/plain": [
       "96"
      ]
     },
     "execution_count": 34,
     "metadata": {},
     "output_type": "execute_result"
    }
   ],
   "source": [
    "a+a1"
   ]
  },
  {
   "cell_type": "code",
   "execution_count": 35,
   "id": "0d847a59",
   "metadata": {},
   "outputs": [],
   "source": [
    "a,b,c,d,e=54,\"hello\",True,5+6j,56.67"
   ]
  },
  {
   "cell_type": "code",
   "execution_count": 36,
   "id": "fdb26393",
   "metadata": {},
   "outputs": [
    {
     "data": {
      "text/plain": [
       "54"
      ]
     },
     "execution_count": 36,
     "metadata": {},
     "output_type": "execute_result"
    }
   ],
   "source": [
    "a"
   ]
  },
  {
   "cell_type": "code",
   "execution_count": 37,
   "id": "670525a4",
   "metadata": {},
   "outputs": [
    {
     "data": {
      "text/plain": [
       "'hello'"
      ]
     },
     "execution_count": 37,
     "metadata": {},
     "output_type": "execute_result"
    }
   ],
   "source": [
    "b"
   ]
  },
  {
   "cell_type": "code",
   "execution_count": 38,
   "id": "43c628cc",
   "metadata": {},
   "outputs": [
    {
     "name": "stdout",
     "output_type": "stream",
     "text": [
      "hello\n"
     ]
    }
   ],
   "source": [
    "print(b)"
   ]
  },
  {
   "cell_type": "code",
   "execution_count": 39,
   "id": "7dc9118a",
   "metadata": {},
   "outputs": [
    {
     "data": {
      "text/plain": [
       "True"
      ]
     },
     "execution_count": 39,
     "metadata": {},
     "output_type": "execute_result"
    }
   ],
   "source": [
    "c"
   ]
  },
  {
   "cell_type": "code",
   "execution_count": 40,
   "id": "8e1887d4",
   "metadata": {},
   "outputs": [
    {
     "data": {
      "text/plain": [
       "(5+6j)"
      ]
     },
     "execution_count": 40,
     "metadata": {},
     "output_type": "execute_result"
    }
   ],
   "source": [
    "d"
   ]
  },
  {
   "cell_type": "code",
   "execution_count": 41,
   "id": "3c641ea8",
   "metadata": {},
   "outputs": [
    {
     "data": {
      "text/plain": [
       "56.67"
      ]
     },
     "execution_count": 41,
     "metadata": {},
     "output_type": "execute_result"
    }
   ],
   "source": [
    "e"
   ]
  },
  {
   "cell_type": "code",
   "execution_count": 42,
   "id": "0a28bfd0",
   "metadata": {},
   "outputs": [
    {
     "data": {
      "text/plain": [
       "0"
      ]
     },
     "execution_count": 42,
     "metadata": {},
     "output_type": "execute_result"
    }
   ],
   "source": [
    "c.imag"
   ]
  },
  {
   "cell_type": "code",
   "execution_count": 44,
   "id": "a576c1b0",
   "metadata": {},
   "outputs": [
    {
     "data": {
      "text/plain": [
       "6.0"
      ]
     },
     "execution_count": 44,
     "metadata": {},
     "output_type": "execute_result"
    }
   ],
   "source": [
    "d.imag"
   ]
  },
  {
   "cell_type": "code",
   "execution_count": 45,
   "id": "148554f3",
   "metadata": {},
   "outputs": [
    {
     "data": {
      "text/plain": [
       "5.0"
      ]
     },
     "execution_count": 45,
     "metadata": {},
     "output_type": "execute_result"
    }
   ],
   "source": [
    "d.real"
   ]
  },
  {
   "cell_type": "code",
   "execution_count": 46,
   "id": "77f0df24",
   "metadata": {},
   "outputs": [],
   "source": [
    "a=5"
   ]
  },
  {
   "cell_type": "code",
   "execution_count": 47,
   "id": "5e23a443",
   "metadata": {},
   "outputs": [],
   "source": [
    "a1=9"
   ]
  },
  {
   "cell_type": "code",
   "execution_count": 48,
   "id": "7be38d97",
   "metadata": {},
   "outputs": [
    {
     "data": {
      "text/plain": [
       "14"
      ]
     },
     "execution_count": 48,
     "metadata": {},
     "output_type": "execute_result"
    }
   ],
   "source": [
    "a+a1"
   ]
  },
  {
   "cell_type": "code",
   "execution_count": 49,
   "id": "37987797",
   "metadata": {},
   "outputs": [],
   "source": [
    "a1=\"ghgjg\""
   ]
  },
  {
   "cell_type": "code",
   "execution_count": 50,
   "id": "54d0a800",
   "metadata": {},
   "outputs": [
    {
     "ename": "TypeError",
     "evalue": "unsupported operand type(s) for +: 'int' and 'str'",
     "output_type": "error",
     "traceback": [
      "\u001b[1;31m---------------------------------------------------------------------------\u001b[0m",
      "\u001b[1;31mTypeError\u001b[0m                                 Traceback (most recent call last)",
      "\u001b[1;32m~\\AppData\\Local\\Temp/ipykernel_7828/1320887385.py\u001b[0m in \u001b[0;36m<module>\u001b[1;34m\u001b[0m\n\u001b[1;32m----> 1\u001b[1;33m \u001b[0ma\u001b[0m\u001b[1;33m+\u001b[0m\u001b[0ma1\u001b[0m\u001b[1;33m\u001b[0m\u001b[1;33m\u001b[0m\u001b[0m\n\u001b[0m",
      "\u001b[1;31mTypeError\u001b[0m: unsupported operand type(s) for +: 'int' and 'str'"
     ]
    }
   ],
   "source": [
    "a+a1"
   ]
  },
  {
   "cell_type": "code",
   "execution_count": 51,
   "id": "6152ade3",
   "metadata": {},
   "outputs": [
    {
     "data": {
      "text/plain": [
       "'ghgjg4'"
      ]
     },
     "execution_count": 51,
     "metadata": {},
     "output_type": "execute_result"
    }
   ],
   "source": [
    "a1+str(4)"
   ]
  },
  {
   "cell_type": "code",
   "execution_count": 52,
   "id": "849e5ee9",
   "metadata": {},
   "outputs": [
    {
     "data": {
      "text/plain": [
       "'4ghgjg'"
      ]
     },
     "execution_count": 52,
     "metadata": {},
     "output_type": "execute_result"
    }
   ],
   "source": [
    "str(4)+a1"
   ]
  },
  {
   "cell_type": "code",
   "execution_count": 53,
   "id": "734dfc3e",
   "metadata": {},
   "outputs": [
    {
     "data": {
      "text/plain": [
       "'ghgjg4'"
      ]
     },
     "execution_count": 53,
     "metadata": {},
     "output_type": "execute_result"
    }
   ],
   "source": [
    "a1+\"4\""
   ]
  },
  {
   "cell_type": "code",
   "execution_count": 54,
   "id": "4d83b04f",
   "metadata": {},
   "outputs": [
    {
     "data": {
      "text/plain": [
       "2"
      ]
     },
     "execution_count": 54,
     "metadata": {},
     "output_type": "execute_result"
    }
   ],
   "source": [
    "True + True"
   ]
  },
  {
   "cell_type": "code",
   "execution_count": 55,
   "id": "ccaaaffb",
   "metadata": {},
   "outputs": [
    {
     "data": {
      "text/plain": [
       "1"
      ]
     },
     "execution_count": 55,
     "metadata": {},
     "output_type": "execute_result"
    }
   ],
   "source": [
    "True+ False"
   ]
  },
  {
   "cell_type": "code",
   "execution_count": null,
   "id": "a83d2818",
   "metadata": {},
   "outputs": [],
   "source": [
    "True-False"
   ]
  },
  {
   "cell_type": "code",
   "execution_count": 56,
   "id": "f5b201b9",
   "metadata": {},
   "outputs": [
    {
     "data": {
      "text/plain": [
       "2"
      ]
     },
     "execution_count": 56,
     "metadata": {},
     "output_type": "execute_result"
    }
   ],
   "source": [
    "1+ True"
   ]
  },
  {
   "cell_type": "code",
   "execution_count": 63,
   "id": "12815b05",
   "metadata": {},
   "outputs": [
    {
     "name": "stdout",
     "output_type": "stream",
     "text": [
      "sdfghjnkm,./;[[poiugfhvnmlpoi\n"
     ]
    }
   ],
   "source": [
    "a=input()"
   ]
  },
  {
   "cell_type": "code",
   "execution_count": 58,
   "id": "c36275c6",
   "metadata": {},
   "outputs": [],
   "source": [
    "a=\"ukc\""
   ]
  },
  {
   "cell_type": "code",
   "execution_count": 64,
   "id": "3b781ee9",
   "metadata": {},
   "outputs": [
    {
     "name": "stdout",
     "output_type": "stream",
     "text": [
      "12345678998765478987654323456789\n"
     ]
    }
   ],
   "source": [
    "a=input()"
   ]
  },
  {
   "cell_type": "code",
   "execution_count": 65,
   "id": "f7c23735",
   "metadata": {},
   "outputs": [
    {
     "data": {
      "text/plain": [
       "'12345678998765478987654323456789'"
      ]
     },
     "execution_count": 65,
     "metadata": {},
     "output_type": "execute_result"
    }
   ],
   "source": [
    "a"
   ]
  },
  {
   "cell_type": "code",
   "execution_count": 66,
   "id": "41cbbbe4",
   "metadata": {},
   "outputs": [],
   "source": [
    "b=45"
   ]
  },
  {
   "cell_type": "code",
   "execution_count": 67,
   "id": "1e3c0990",
   "metadata": {},
   "outputs": [
    {
     "ename": "TypeError",
     "evalue": "can only concatenate str (not \"int\") to str",
     "output_type": "error",
     "traceback": [
      "\u001b[1;31m---------------------------------------------------------------------------\u001b[0m",
      "\u001b[1;31mTypeError\u001b[0m                                 Traceback (most recent call last)",
      "\u001b[1;32m~\\AppData\\Local\\Temp/ipykernel_7828/3553919051.py\u001b[0m in \u001b[0;36m<module>\u001b[1;34m\u001b[0m\n\u001b[1;32m----> 1\u001b[1;33m \u001b[0ma\u001b[0m\u001b[1;33m+\u001b[0m\u001b[0mb\u001b[0m\u001b[1;33m\u001b[0m\u001b[1;33m\u001b[0m\u001b[0m\n\u001b[0m",
      "\u001b[1;31mTypeError\u001b[0m: can only concatenate str (not \"int\") to str"
     ]
    }
   ],
   "source": [
    "a+b"
   ]
  },
  {
   "cell_type": "code",
   "execution_count": 68,
   "id": "456edfae",
   "metadata": {},
   "outputs": [
    {
     "data": {
      "text/plain": [
       "12345678998765478987654323456834"
      ]
     },
     "execution_count": 68,
     "metadata": {},
     "output_type": "execute_result"
    }
   ],
   "source": [
    "int(a)+b"
   ]
  },
  {
   "cell_type": "code",
   "execution_count": 69,
   "id": "f9747cd1",
   "metadata": {},
   "outputs": [],
   "source": [
    "s=\"utkarsh\""
   ]
  },
  {
   "cell_type": "code",
   "execution_count": 70,
   "id": "83d2254c",
   "metadata": {},
   "outputs": [
    {
     "data": {
      "text/plain": [
       "str"
      ]
     },
     "execution_count": 70,
     "metadata": {},
     "output_type": "execute_result"
    }
   ],
   "source": [
    "type(s)"
   ]
  },
  {
   "cell_type": "code",
   "execution_count": 71,
   "id": "1e314b68",
   "metadata": {},
   "outputs": [
    {
     "data": {
      "text/plain": [
       "'u'"
      ]
     },
     "execution_count": 71,
     "metadata": {},
     "output_type": "execute_result"
    }
   ],
   "source": [
    "s[0]"
   ]
  },
  {
   "cell_type": "code",
   "execution_count": 72,
   "id": "ad2107c7",
   "metadata": {},
   "outputs": [
    {
     "data": {
      "text/plain": [
       "'t'"
      ]
     },
     "execution_count": 72,
     "metadata": {},
     "output_type": "execute_result"
    }
   ],
   "source": [
    "s[1]"
   ]
  },
  {
   "cell_type": "code",
   "execution_count": 73,
   "id": "f50397d9",
   "metadata": {},
   "outputs": [
    {
     "data": {
      "text/plain": [
       "'k'"
      ]
     },
     "execution_count": 73,
     "metadata": {},
     "output_type": "execute_result"
    }
   ],
   "source": [
    "s[2]"
   ]
  },
  {
   "cell_type": "code",
   "execution_count": 74,
   "id": "fc9abc06",
   "metadata": {},
   "outputs": [
    {
     "data": {
      "text/plain": [
       "'a'"
      ]
     },
     "execution_count": 74,
     "metadata": {},
     "output_type": "execute_result"
    }
   ],
   "source": [
    "s[3]"
   ]
  },
  {
   "cell_type": "code",
   "execution_count": 75,
   "id": "ff3df880",
   "metadata": {},
   "outputs": [
    {
     "data": {
      "text/plain": [
       "'r'"
      ]
     },
     "execution_count": 75,
     "metadata": {},
     "output_type": "execute_result"
    }
   ],
   "source": [
    "s[4]"
   ]
  },
  {
   "cell_type": "code",
   "execution_count": 76,
   "id": "c59edd4d",
   "metadata": {},
   "outputs": [
    {
     "data": {
      "text/plain": [
       "'s'"
      ]
     },
     "execution_count": 76,
     "metadata": {},
     "output_type": "execute_result"
    }
   ],
   "source": [
    "s[5]"
   ]
  },
  {
   "cell_type": "code",
   "execution_count": 77,
   "id": "6e8af9b4",
   "metadata": {},
   "outputs": [
    {
     "data": {
      "text/plain": [
       "'h'"
      ]
     },
     "execution_count": 77,
     "metadata": {},
     "output_type": "execute_result"
    }
   ],
   "source": [
    "s[6]"
   ]
  },
  {
   "cell_type": "code",
   "execution_count": 78,
   "id": "9c74a64d",
   "metadata": {},
   "outputs": [
    {
     "data": {
      "text/plain": [
       "'u'"
      ]
     },
     "execution_count": 78,
     "metadata": {},
     "output_type": "execute_result"
    }
   ],
   "source": [
    "s[-7]"
   ]
  },
  {
   "cell_type": "code",
   "execution_count": 79,
   "id": "41052618",
   "metadata": {},
   "outputs": [
    {
     "data": {
      "text/plain": [
       "'t'"
      ]
     },
     "execution_count": 79,
     "metadata": {},
     "output_type": "execute_result"
    }
   ],
   "source": [
    "s[-6]"
   ]
  },
  {
   "cell_type": "code",
   "execution_count": 80,
   "id": "db0af20a",
   "metadata": {},
   "outputs": [
    {
     "data": {
      "text/plain": [
       "'k'"
      ]
     },
     "execution_count": 80,
     "metadata": {},
     "output_type": "execute_result"
    }
   ],
   "source": [
    "s[-5]"
   ]
  },
  {
   "cell_type": "code",
   "execution_count": 81,
   "id": "2cd52c88",
   "metadata": {},
   "outputs": [
    {
     "data": {
      "text/plain": [
       "'a'"
      ]
     },
     "execution_count": 81,
     "metadata": {},
     "output_type": "execute_result"
    }
   ],
   "source": [
    "s[-4]"
   ]
  },
  {
   "cell_type": "code",
   "execution_count": 82,
   "id": "df34f65a",
   "metadata": {},
   "outputs": [
    {
     "data": {
      "text/plain": [
       "'r'"
      ]
     },
     "execution_count": 82,
     "metadata": {},
     "output_type": "execute_result"
    }
   ],
   "source": [
    "s[-3]"
   ]
  },
  {
   "cell_type": "code",
   "execution_count": 83,
   "id": "cb4f6185",
   "metadata": {},
   "outputs": [
    {
     "data": {
      "text/plain": [
       "'s'"
      ]
     },
     "execution_count": 83,
     "metadata": {},
     "output_type": "execute_result"
    }
   ],
   "source": [
    "s[-2]"
   ]
  },
  {
   "cell_type": "code",
   "execution_count": 84,
   "id": "02704351",
   "metadata": {},
   "outputs": [
    {
     "data": {
      "text/plain": [
       "'h'"
      ]
     },
     "execution_count": 84,
     "metadata": {},
     "output_type": "execute_result"
    }
   ],
   "source": [
    "s[-1]"
   ]
  },
  {
   "cell_type": "code",
   "execution_count": 85,
   "id": "a50af557",
   "metadata": {},
   "outputs": [
    {
     "ename": "IndexError",
     "evalue": "string index out of range",
     "output_type": "error",
     "traceback": [
      "\u001b[1;31m---------------------------------------------------------------------------\u001b[0m",
      "\u001b[1;31mIndexError\u001b[0m                                Traceback (most recent call last)",
      "\u001b[1;32m~\\AppData\\Local\\Temp/ipykernel_7828/2390001549.py\u001b[0m in \u001b[0;36m<module>\u001b[1;34m\u001b[0m\n\u001b[1;32m----> 1\u001b[1;33m \u001b[0ms\u001b[0m\u001b[1;33m[\u001b[0m\u001b[1;36m100\u001b[0m\u001b[1;33m]\u001b[0m\u001b[1;33m\u001b[0m\u001b[1;33m\u001b[0m\u001b[0m\n\u001b[0m",
      "\u001b[1;31mIndexError\u001b[0m: string index out of range"
     ]
    }
   ],
   "source": [
    "s[100]"
   ]
  },
  {
   "cell_type": "code",
   "execution_count": 86,
   "id": "c2befc56",
   "metadata": {},
   "outputs": [],
   "source": [
    "a=\"my name is utkarsh\""
   ]
  },
  {
   "cell_type": "code",
   "execution_count": 87,
   "id": "14bba6f6",
   "metadata": {},
   "outputs": [
    {
     "data": {
      "text/plain": [
       "'h'"
      ]
     },
     "execution_count": 87,
     "metadata": {},
     "output_type": "execute_result"
    }
   ],
   "source": [
    "a[-1]"
   ]
  },
  {
   "cell_type": "code",
   "execution_count": 88,
   "id": "bedba503",
   "metadata": {},
   "outputs": [
    {
     "data": {
      "text/plain": [
       "' '"
      ]
     },
     "execution_count": 88,
     "metadata": {},
     "output_type": "execute_result"
    }
   ],
   "source": [
    "a[2]"
   ]
  },
  {
   "cell_type": "code",
   "execution_count": 89,
   "id": "0dfbff89",
   "metadata": {},
   "outputs": [
    {
     "data": {
      "text/plain": [
       "'a'"
      ]
     },
     "execution_count": 89,
     "metadata": {},
     "output_type": "execute_result"
    }
   ],
   "source": [
    "a[4]"
   ]
  },
  {
   "cell_type": "code",
   "execution_count": 90,
   "id": "e8669224",
   "metadata": {},
   "outputs": [
    {
     "data": {
      "text/plain": [
       "'my name is utkarsh'"
      ]
     },
     "execution_count": 90,
     "metadata": {},
     "output_type": "execute_result"
    }
   ],
   "source": [
    "a"
   ]
  },
  {
   "cell_type": "code",
   "execution_count": 91,
   "id": "a7472ba4",
   "metadata": {},
   "outputs": [
    {
     "data": {
      "text/plain": [
       "'my name is'"
      ]
     },
     "execution_count": 91,
     "metadata": {},
     "output_type": "execute_result"
    }
   ],
   "source": [
    "a[0:10]"
   ]
  },
  {
   "cell_type": "code",
   "execution_count": 92,
   "id": "d206fd34",
   "metadata": {},
   "outputs": [
    {
     "data": {
      "text/plain": [
       "'my name is utkarsh'"
      ]
     },
     "execution_count": 92,
     "metadata": {},
     "output_type": "execute_result"
    }
   ],
   "source": [
    "a[0:100]"
   ]
  },
  {
   "cell_type": "code",
   "execution_count": 93,
   "id": "aec219d7",
   "metadata": {},
   "outputs": [
    {
     "data": {
      "text/plain": [
       "'my name is utkars'"
      ]
     },
     "execution_count": 93,
     "metadata": {},
     "output_type": "execute_result"
    }
   ],
   "source": [
    "a[-18:-1]"
   ]
  },
  {
   "cell_type": "code",
   "execution_count": 94,
   "id": "53465356",
   "metadata": {},
   "outputs": [
    {
     "data": {
      "text/plain": [
       "'my name is utkars'"
      ]
     },
     "execution_count": 94,
     "metadata": {},
     "output_type": "execute_result"
    }
   ],
   "source": [
    "a[-18:-1]"
   ]
  },
  {
   "cell_type": "code",
   "execution_count": 95,
   "id": "14e0c07e",
   "metadata": {},
   "outputs": [
    {
     "data": {
      "text/plain": [
       "''"
      ]
     },
     "execution_count": 95,
     "metadata": {},
     "output_type": "execute_result"
    }
   ],
   "source": [
    "a[-1:-18]"
   ]
  },
  {
   "cell_type": "code",
   "execution_count": 96,
   "id": "e0b66cbd",
   "metadata": {},
   "outputs": [
    {
     "data": {
      "text/plain": [
       "''"
      ]
     },
     "execution_count": 96,
     "metadata": {},
     "output_type": "execute_result"
    }
   ],
   "source": [
    "a[-18:0]"
   ]
  },
  {
   "cell_type": "code",
   "execution_count": 97,
   "id": "48d0654e",
   "metadata": {},
   "outputs": [
    {
     "data": {
      "text/plain": [
       "'m aei tas'"
      ]
     },
     "execution_count": 97,
     "metadata": {},
     "output_type": "execute_result"
    }
   ],
   "source": [
    "a[0:17:2]"
   ]
  },
  {
   "cell_type": "code",
   "execution_count": 98,
   "id": "80c6b135",
   "metadata": {},
   "outputs": [
    {
     "ename": "TypeError",
     "evalue": "slice indices must be integers or None or have an __index__ method",
     "output_type": "error",
     "traceback": [
      "\u001b[1;31m---------------------------------------------------------------------------\u001b[0m",
      "\u001b[1;31mTypeError\u001b[0m                                 Traceback (most recent call last)",
      "\u001b[1;32m~\\AppData\\Local\\Temp/ipykernel_7828/1693982951.py\u001b[0m in \u001b[0;36m<module>\u001b[1;34m\u001b[0m\n\u001b[1;32m----> 1\u001b[1;33m \u001b[0ma\u001b[0m\u001b[1;33m[\u001b[0m\u001b[1;36m0\u001b[0m\u001b[1;33m:\u001b[0m\u001b[1;36m17\u001b[0m\u001b[1;33m:\u001b[0m\u001b[1;36m1.5\u001b[0m\u001b[1;33m]\u001b[0m\u001b[1;33m\u001b[0m\u001b[1;33m\u001b[0m\u001b[0m\n\u001b[0m",
      "\u001b[1;31mTypeError\u001b[0m: slice indices must be integers or None or have an __index__ method"
     ]
    }
   ],
   "source": [
    "a[0:17:1.5]"
   ]
  },
  {
   "cell_type": "code",
   "execution_count": 99,
   "id": "72a6f94c",
   "metadata": {},
   "outputs": [
    {
     "data": {
      "text/plain": [
       "''"
      ]
     },
     "execution_count": 99,
     "metadata": {},
     "output_type": "execute_result"
    }
   ],
   "source": [
    "a[0:100:-1]"
   ]
  },
  {
   "cell_type": "code",
   "execution_count": 100,
   "id": "1b937214",
   "metadata": {},
   "outputs": [
    {
     "data": {
      "text/plain": [
       "'hsraktu si eman y'"
      ]
     },
     "execution_count": 100,
     "metadata": {},
     "output_type": "execute_result"
    }
   ],
   "source": [
    "a[100:0:-1]"
   ]
  },
  {
   "cell_type": "code",
   "execution_count": 101,
   "id": "a01624de",
   "metadata": {},
   "outputs": [
    {
     "data": {
      "text/plain": [
       "'my name is utkarsh'"
      ]
     },
     "execution_count": 101,
     "metadata": {},
     "output_type": "execute_result"
    }
   ],
   "source": [
    "a[::]"
   ]
  },
  {
   "cell_type": "code",
   "execution_count": 102,
   "id": "28aec538",
   "metadata": {},
   "outputs": [
    {
     "data": {
      "text/plain": [
       "'m'"
      ]
     },
     "execution_count": 102,
     "metadata": {},
     "output_type": "execute_result"
    }
   ],
   "source": [
    "a[0:-1000:-1]"
   ]
  },
  {
   "cell_type": "code",
   "execution_count": 103,
   "id": "e0cecbba",
   "metadata": {},
   "outputs": [
    {
     "data": {
      "text/plain": [
       "'hsraktu si eman ym'"
      ]
     },
     "execution_count": 103,
     "metadata": {},
     "output_type": "execute_result"
    }
   ],
   "source": [
    "a[-1:-1000:-1]"
   ]
  },
  {
   "cell_type": "code",
   "execution_count": 104,
   "id": "d59014d6",
   "metadata": {},
   "outputs": [
    {
     "data": {
      "text/plain": [
       "'sh'"
      ]
     },
     "execution_count": 104,
     "metadata": {},
     "output_type": "execute_result"
    }
   ],
   "source": [
    "a[-2:]"
   ]
  },
  {
   "cell_type": "code",
   "execution_count": 105,
   "id": "53212c3e",
   "metadata": {},
   "outputs": [
    {
     "data": {
      "text/plain": [
       "'hsraktu si eman ym'"
      ]
     },
     "execution_count": 105,
     "metadata": {},
     "output_type": "execute_result"
    }
   ],
   "source": [
    "a[::-1]"
   ]
  },
  {
   "cell_type": "code",
   "execution_count": 106,
   "id": "5e8ab5d6",
   "metadata": {},
   "outputs": [],
   "source": [
    "a=\"i am working with ineuron\""
   ]
  },
  {
   "cell_type": "code",
   "execution_count": 107,
   "id": "d6ffb091",
   "metadata": {},
   "outputs": [
    {
     "data": {
      "text/plain": [
       "'i am working with ineuron'"
      ]
     },
     "execution_count": 107,
     "metadata": {},
     "output_type": "execute_result"
    }
   ],
   "source": [
    "a"
   ]
  },
  {
   "cell_type": "code",
   "execution_count": 108,
   "id": "e4600ad2",
   "metadata": {},
   "outputs": [
    {
     "data": {
      "text/plain": [
       "'norueni htiw gnikrow ma i'"
      ]
     },
     "execution_count": 108,
     "metadata": {},
     "output_type": "execute_result"
    }
   ],
   "source": [
    "a[::-1]"
   ]
  },
  {
   "cell_type": "code",
   "execution_count": 109,
   "id": "1832fc57",
   "metadata": {},
   "outputs": [
    {
     "data": {
      "text/plain": [
       "''"
      ]
     },
     "execution_count": 109,
     "metadata": {},
     "output_type": "execute_result"
    }
   ],
   "source": [
    "a[-5:5]"
   ]
  },
  {
   "cell_type": "code",
   "execution_count": 110,
   "id": "6ad13ec6",
   "metadata": {},
   "outputs": [
    {
     "data": {
      "text/plain": [
       "'eni htiw gnikro'"
      ]
     },
     "execution_count": 110,
     "metadata": {},
     "output_type": "execute_result"
    }
   ],
   "source": [
    "a[-5:5:-1]"
   ]
  },
  {
   "cell_type": "code",
   "execution_count": 111,
   "id": "71290318",
   "metadata": {},
   "outputs": [
    {
     "data": {
      "text/plain": [
       "'ukcukcukc'"
      ]
     },
     "execution_count": 111,
     "metadata": {},
     "output_type": "execute_result"
    }
   ],
   "source": [
    "\"ukc\"*3"
   ]
  },
  {
   "cell_type": "code",
   "execution_count": 112,
   "id": "fa6946c6",
   "metadata": {},
   "outputs": [
    {
     "data": {
      "text/plain": [
       "25"
      ]
     },
     "execution_count": 112,
     "metadata": {},
     "output_type": "execute_result"
    }
   ],
   "source": [
    "len(a)"
   ]
  },
  {
   "cell_type": "code",
   "execution_count": 113,
   "id": "3a27bb0c",
   "metadata": {},
   "outputs": [
    {
     "data": {
      "text/plain": [
       "'i am working with ineuron'"
      ]
     },
     "execution_count": 113,
     "metadata": {},
     "output_type": "execute_result"
    }
   ],
   "source": [
    "a"
   ]
  },
  {
   "cell_type": "code",
   "execution_count": 114,
   "id": "bf6afff1",
   "metadata": {},
   "outputs": [
    {
     "name": "stdout",
     "output_type": "stream",
     "text": [
      "i am working with ineuron\n"
     ]
    }
   ],
   "source": [
    "print(a)"
   ]
  },
  {
   "cell_type": "code",
   "execution_count": 115,
   "id": "14fa3272",
   "metadata": {},
   "outputs": [
    {
     "data": {
      "text/plain": [
       "'i am working with ineuron'"
      ]
     },
     "execution_count": 115,
     "metadata": {},
     "output_type": "execute_result"
    }
   ],
   "source": [
    "a"
   ]
  },
  {
   "cell_type": "code",
   "execution_count": 120,
   "id": "78cd8bd3",
   "metadata": {},
   "outputs": [
    {
     "data": {
      "text/plain": [
       "10"
      ]
     },
     "execution_count": 120,
     "metadata": {},
     "output_type": "execute_result"
    }
   ],
   "source": [
    "a.find('n')"
   ]
  },
  {
   "cell_type": "code",
   "execution_count": 117,
   "id": "6db9f469",
   "metadata": {},
   "outputs": [
    {
     "data": {
      "text/plain": [
       "4"
      ]
     },
     "execution_count": 117,
     "metadata": {},
     "output_type": "execute_result"
    }
   ],
   "source": [
    "a.count('i')"
   ]
  },
  {
   "cell_type": "code",
   "execution_count": 118,
   "id": "fea13ffe",
   "metadata": {},
   "outputs": [
    {
     "data": {
      "text/plain": [
       "2"
      ]
     },
     "execution_count": 118,
     "metadata": {},
     "output_type": "execute_result"
    }
   ],
   "source": [
    "a.count(\"o\")"
   ]
  },
  {
   "cell_type": "code",
   "execution_count": 119,
   "id": "430835fc",
   "metadata": {},
   "outputs": [
    {
     "data": {
      "text/plain": [
       "['i', 'am', 'working', 'with', 'ineuron']"
      ]
     },
     "execution_count": 119,
     "metadata": {},
     "output_type": "execute_result"
    }
   ],
   "source": [
    "a.split()"
   ]
  },
  {
   "cell_type": "code",
   "execution_count": 121,
   "id": "76202f4c",
   "metadata": {},
   "outputs": [
    {
     "data": {
      "text/plain": [
       "str"
      ]
     },
     "execution_count": 121,
     "metadata": {},
     "output_type": "execute_result"
    }
   ],
   "source": [
    "type(a)"
   ]
  },
  {
   "cell_type": "code",
   "execution_count": 122,
   "id": "3a1494f2",
   "metadata": {},
   "outputs": [
    {
     "data": {
      "text/plain": [
       "list"
      ]
     },
     "execution_count": 122,
     "metadata": {},
     "output_type": "execute_result"
    }
   ],
   "source": [
    "type(a.split())"
   ]
  },
  {
   "cell_type": "code",
   "execution_count": 123,
   "id": "b03b649d",
   "metadata": {},
   "outputs": [],
   "source": [
    " l=a.split()"
   ]
  },
  {
   "cell_type": "code",
   "execution_count": 124,
   "id": "cbcb8410",
   "metadata": {},
   "outputs": [
    {
     "data": {
      "text/plain": [
       "['i', 'am', 'working', 'with', 'ineuron']"
      ]
     },
     "execution_count": 124,
     "metadata": {},
     "output_type": "execute_result"
    }
   ],
   "source": [
    "l"
   ]
  },
  {
   "cell_type": "code",
   "execution_count": 125,
   "id": "281a46c9",
   "metadata": {},
   "outputs": [
    {
     "data": {
      "text/plain": [
       "'working'"
      ]
     },
     "execution_count": 125,
     "metadata": {},
     "output_type": "execute_result"
    }
   ],
   "source": [
    "l[2]"
   ]
  },
  {
   "cell_type": "code",
   "execution_count": 126,
   "id": "362579c5",
   "metadata": {},
   "outputs": [
    {
     "data": {
      "text/plain": [
       "'i'"
      ]
     },
     "execution_count": 126,
     "metadata": {},
     "output_type": "execute_result"
    }
   ],
   "source": [
    "l[0]"
   ]
  },
  {
   "cell_type": "code",
   "execution_count": 127,
   "id": "62febb0c",
   "metadata": {},
   "outputs": [
    {
     "data": {
      "text/plain": [
       "'am'"
      ]
     },
     "execution_count": 127,
     "metadata": {},
     "output_type": "execute_result"
    }
   ],
   "source": [
    "l[1]"
   ]
  },
  {
   "cell_type": "code",
   "execution_count": 128,
   "id": "6f2057b4",
   "metadata": {},
   "outputs": [
    {
     "data": {
      "text/plain": [
       "'working'"
      ]
     },
     "execution_count": 128,
     "metadata": {},
     "output_type": "execute_result"
    }
   ],
   "source": [
    "l[2]"
   ]
  },
  {
   "cell_type": "code",
   "execution_count": 129,
   "id": "ab7adf1f",
   "metadata": {},
   "outputs": [
    {
     "data": {
      "text/plain": [
       "'i'"
      ]
     },
     "execution_count": 129,
     "metadata": {},
     "output_type": "execute_result"
    }
   ],
   "source": [
    "l[-5]"
   ]
  },
  {
   "cell_type": "code",
   "execution_count": 130,
   "id": "6d37cd27",
   "metadata": {},
   "outputs": [
    {
     "data": {
      "text/plain": [
       "['i am ', 'orking ', 'ith ineuron']"
      ]
     },
     "execution_count": 130,
     "metadata": {},
     "output_type": "execute_result"
    }
   ],
   "source": [
    "a.split('w')"
   ]
  },
  {
   "cell_type": "code",
   "execution_count": 131,
   "id": "90cee670",
   "metadata": {},
   "outputs": [
    {
     "data": {
      "text/plain": [
       "['i am ', 'rking with ineuron']"
      ]
     },
     "execution_count": 131,
     "metadata": {},
     "output_type": "execute_result"
    }
   ],
   "source": [
    "a.split('wo')"
   ]
  },
  {
   "cell_type": "code",
   "execution_count": 132,
   "id": "14f4bcce",
   "metadata": {},
   "outputs": [
    {
     "data": {
      "text/plain": [
       "'I AM WORKING WITH INEURON'"
      ]
     },
     "execution_count": 132,
     "metadata": {},
     "output_type": "execute_result"
    }
   ],
   "source": [
    "a.upper()"
   ]
  },
  {
   "cell_type": "code",
   "execution_count": 133,
   "id": "ac50569f",
   "metadata": {},
   "outputs": [
    {
     "ename": "AttributeError",
     "evalue": "'list' object has no attribute 'upper'",
     "output_type": "error",
     "traceback": [
      "\u001b[1;31m---------------------------------------------------------------------------\u001b[0m",
      "\u001b[1;31mAttributeError\u001b[0m                            Traceback (most recent call last)",
      "\u001b[1;32m~\\AppData\\Local\\Temp/ipykernel_7828/447581512.py\u001b[0m in \u001b[0;36m<module>\u001b[1;34m\u001b[0m\n\u001b[1;32m----> 1\u001b[1;33m \u001b[0ml\u001b[0m\u001b[1;33m.\u001b[0m\u001b[0mupper\u001b[0m\u001b[1;33m(\u001b[0m\u001b[1;33m)\u001b[0m\u001b[1;33m\u001b[0m\u001b[1;33m\u001b[0m\u001b[0m\n\u001b[0m",
      "\u001b[1;31mAttributeError\u001b[0m: 'list' object has no attribute 'upper'"
     ]
    }
   ],
   "source": [
    "l.upper()"
   ]
  },
  {
   "cell_type": "code",
   "execution_count": 134,
   "id": "b1baed5b",
   "metadata": {},
   "outputs": [],
   "source": [
    "s='sUdh'"
   ]
  },
  {
   "cell_type": "code",
   "execution_count": 135,
   "id": "c0afe353",
   "metadata": {},
   "outputs": [
    {
     "data": {
      "text/plain": [
       "'sUdh'"
      ]
     },
     "execution_count": 135,
     "metadata": {},
     "output_type": "execute_result"
    }
   ],
   "source": [
    "s"
   ]
  },
  {
   "cell_type": "code",
   "execution_count": 136,
   "id": "c74398d0",
   "metadata": {},
   "outputs": [
    {
     "data": {
      "text/plain": [
       "'SuDH'"
      ]
     },
     "execution_count": 136,
     "metadata": {},
     "output_type": "execute_result"
    }
   ],
   "source": [
    "s.swapcase()"
   ]
  },
  {
   "cell_type": "code",
   "execution_count": 137,
   "id": "42324d27",
   "metadata": {},
   "outputs": [
    {
     "data": {
      "text/plain": [
       "'Sudh'"
      ]
     },
     "execution_count": 137,
     "metadata": {},
     "output_type": "execute_result"
    }
   ],
   "source": [
    "s.title()"
   ]
  },
  {
   "cell_type": "code",
   "execution_count": 138,
   "id": "f1d24388",
   "metadata": {},
   "outputs": [],
   "source": [
    "s=\" sudh \""
   ]
  },
  {
   "cell_type": "code",
   "execution_count": 139,
   "id": "a1575dc8",
   "metadata": {},
   "outputs": [
    {
     "data": {
      "text/plain": [
       "' sudh '"
      ]
     },
     "execution_count": 139,
     "metadata": {},
     "output_type": "execute_result"
    }
   ],
   "source": [
    "s"
   ]
  },
  {
   "cell_type": "code",
   "execution_count": 140,
   "id": "ff4098e0",
   "metadata": {},
   "outputs": [
    {
     "data": {
      "text/plain": [
       "'sudh'"
      ]
     },
     "execution_count": 140,
     "metadata": {},
     "output_type": "execute_result"
    }
   ],
   "source": [
    "s.strip()"
   ]
  },
  {
   "cell_type": "code",
   "execution_count": 141,
   "id": "c4b05c22",
   "metadata": {},
   "outputs": [
    {
     "data": {
      "text/plain": [
       "' sudh'"
      ]
     },
     "execution_count": 141,
     "metadata": {},
     "output_type": "execute_result"
    }
   ],
   "source": [
    "s.rstrip()"
   ]
  },
  {
   "cell_type": "code",
   "execution_count": 142,
   "id": "3fb41281",
   "metadata": {},
   "outputs": [
    {
     "data": {
      "text/plain": [
       "'sudh '"
      ]
     },
     "execution_count": 142,
     "metadata": {},
     "output_type": "execute_result"
    }
   ],
   "source": [
    "s.lstrip()"
   ]
  },
  {
   "cell_type": "code",
   "execution_count": 143,
   "id": "83c378e7",
   "metadata": {},
   "outputs": [],
   "source": [
    "a=\"   ukc   \""
   ]
  },
  {
   "cell_type": "code",
   "execution_count": 144,
   "id": "26b8f172",
   "metadata": {},
   "outputs": [
    {
     "data": {
      "text/plain": [
       "'   ukc   '"
      ]
     },
     "execution_count": 144,
     "metadata": {},
     "output_type": "execute_result"
    }
   ],
   "source": [
    "a"
   ]
  },
  {
   "cell_type": "code",
   "execution_count": 145,
   "id": "b341b063",
   "metadata": {},
   "outputs": [
    {
     "data": {
      "text/plain": [
       "'ukc'"
      ]
     },
     "execution_count": 145,
     "metadata": {},
     "output_type": "execute_result"
    }
   ],
   "source": [
    "a.strip()"
   ]
  },
  {
   "cell_type": "code",
   "execution_count": 147,
   "id": "46e7c85a",
   "metadata": {},
   "outputs": [],
   "source": [
    "s=\"sudh\""
   ]
  },
  {
   "cell_type": "code",
   "execution_count": 148,
   "id": "0705d058",
   "metadata": {},
   "outputs": [
    {
     "data": {
      "text/plain": [
       "'sudh'"
      ]
     },
     "execution_count": 148,
     "metadata": {},
     "output_type": "execute_result"
    }
   ],
   "source": [
    "s"
   ]
  },
  {
   "cell_type": "code",
   "execution_count": 149,
   "id": "a2229622",
   "metadata": {},
   "outputs": [
    {
     "data": {
      "text/plain": [
       "'hjhfigudh'"
      ]
     },
     "execution_count": 149,
     "metadata": {},
     "output_type": "execute_result"
    }
   ],
   "source": [
    "s.replace(\"s\",\"hjhfig\")"
   ]
  },
  {
   "cell_type": "code",
   "execution_count": 150,
   "id": "85350346",
   "metadata": {},
   "outputs": [
    {
     "data": {
      "text/plain": [
       "'sudh'"
      ]
     },
     "execution_count": 150,
     "metadata": {},
     "output_type": "execute_result"
    }
   ],
   "source": [
    "s.replace(\"g\",\"hjhfig\")"
   ]
  },
  {
   "cell_type": "code",
   "execution_count": 151,
   "id": "22c53d7f",
   "metadata": {},
   "outputs": [
    {
     "data": {
      "text/plain": [
       "'utkarsh choubey'"
      ]
     },
     "execution_count": 151,
     "metadata": {},
     "output_type": "execute_result"
    }
   ],
   "source": [
    "\"utkarsh\\tchoubey\".expandtabs()"
   ]
  },
  {
   "cell_type": "code",
   "execution_count": 152,
   "id": "26b87285",
   "metadata": {},
   "outputs": [
    {
     "data": {
      "text/plain": [
       "'utkarsh                       choubey'"
      ]
     },
     "execution_count": 152,
     "metadata": {},
     "output_type": "execute_result"
    }
   ],
   "source": [
    "\"utkarsh\\tchoubey\".expandtabs(30)"
   ]
  },
  {
   "cell_type": "code",
   "execution_count": 153,
   "id": "053785d0",
   "metadata": {},
   "outputs": [],
   "source": [
    "s=\"sudh\""
   ]
  },
  {
   "cell_type": "code",
   "execution_count": 154,
   "id": "de199289",
   "metadata": {},
   "outputs": [
    {
     "data": {
      "text/plain": [
       "'sudh'"
      ]
     },
     "execution_count": 154,
     "metadata": {},
     "output_type": "execute_result"
    }
   ],
   "source": [
    "s"
   ]
  },
  {
   "cell_type": "code",
   "execution_count": 155,
   "id": "4fc1e3d7",
   "metadata": {},
   "outputs": [
    {
     "data": {
      "text/plain": [
       "'ttsudht'"
      ]
     },
     "execution_count": 155,
     "metadata": {},
     "output_type": "execute_result"
    }
   ],
   "source": [
    "s.center(7,'t')"
   ]
  },
  {
   "cell_type": "code",
   "execution_count": 156,
   "id": "c11de146",
   "metadata": {},
   "outputs": [
    {
     "data": {
      "text/plain": [
       "True"
      ]
     },
     "execution_count": 156,
     "metadata": {},
     "output_type": "execute_result"
    }
   ],
   "source": [
    "s.islower()"
   ]
  },
  {
   "cell_type": "code",
   "execution_count": 157,
   "id": "f3f91d63",
   "metadata": {},
   "outputs": [
    {
     "data": {
      "text/plain": [
       "False"
      ]
     },
     "execution_count": 157,
     "metadata": {},
     "output_type": "execute_result"
    }
   ],
   "source": [
    "s.isupper()"
   ]
  },
  {
   "cell_type": "code",
   "execution_count": 158,
   "id": "6a7b3d69",
   "metadata": {},
   "outputs": [],
   "source": [
    "s=\"        sudh tt \""
   ]
  },
  {
   "cell_type": "code",
   "execution_count": 159,
   "id": "250cc2c8",
   "metadata": {},
   "outputs": [
    {
     "data": {
      "text/plain": [
       "'        sudh tt '"
      ]
     },
     "execution_count": 159,
     "metadata": {},
     "output_type": "execute_result"
    }
   ],
   "source": [
    "s"
   ]
  },
  {
   "cell_type": "code",
   "execution_count": 160,
   "id": "bca6ceb5",
   "metadata": {},
   "outputs": [
    {
     "data": {
      "text/plain": [
       "False"
      ]
     },
     "execution_count": 160,
     "metadata": {},
     "output_type": "execute_result"
    }
   ],
   "source": [
    "s.isspace()"
   ]
  },
  {
   "cell_type": "code",
   "execution_count": 170,
   "id": "401ce781",
   "metadata": {},
   "outputs": [
    {
     "data": {
      "text/plain": [
       "False"
      ]
     },
     "execution_count": 170,
     "metadata": {},
     "output_type": "execute_result"
    }
   ],
   "source": [
    "s.isdigit()"
   ]
  },
  {
   "cell_type": "code",
   "execution_count": 171,
   "id": "42193349",
   "metadata": {},
   "outputs": [],
   "source": [
    "s='sudh'"
   ]
  },
  {
   "cell_type": "code",
   "execution_count": 162,
   "id": "5215c4d9",
   "metadata": {},
   "outputs": [
    {
     "data": {
      "text/plain": [
       "'sudh'"
      ]
     },
     "execution_count": 162,
     "metadata": {},
     "output_type": "execute_result"
    }
   ],
   "source": [
    "s"
   ]
  },
  {
   "cell_type": "code",
   "execution_count": 163,
   "id": "fb97da69",
   "metadata": {},
   "outputs": [
    {
     "data": {
      "text/plain": [
       "True"
      ]
     },
     "execution_count": 163,
     "metadata": {},
     "output_type": "execute_result"
    }
   ],
   "source": [
    "s.endswith('h')"
   ]
  },
  {
   "cell_type": "code",
   "execution_count": 164,
   "id": "e94ed574",
   "metadata": {},
   "outputs": [
    {
     "data": {
      "text/plain": [
       "False"
      ]
     },
     "execution_count": 164,
     "metadata": {},
     "output_type": "execute_result"
    }
   ],
   "source": [
    "s.endswith('t')"
   ]
  },
  {
   "cell_type": "code",
   "execution_count": 165,
   "id": "f4dfcb4b",
   "metadata": {},
   "outputs": [
    {
     "data": {
      "text/plain": [
       "False"
      ]
     },
     "execution_count": 165,
     "metadata": {},
     "output_type": "execute_result"
    }
   ],
   "source": [
    "s.istitle()"
   ]
  },
  {
   "cell_type": "code",
   "execution_count": 166,
   "id": "3b80a52d",
   "metadata": {},
   "outputs": [],
   "source": [
    "s=\"Sudh\""
   ]
  },
  {
   "cell_type": "code",
   "execution_count": 167,
   "id": "0b7cf5e6",
   "metadata": {},
   "outputs": [
    {
     "data": {
      "text/plain": [
       "'Sudh'"
      ]
     },
     "execution_count": 167,
     "metadata": {},
     "output_type": "execute_result"
    }
   ],
   "source": [
    "s"
   ]
  },
  {
   "cell_type": "code",
   "execution_count": 168,
   "id": "b0a9d082",
   "metadata": {},
   "outputs": [
    {
     "data": {
      "text/plain": [
       "True"
      ]
     },
     "execution_count": 168,
     "metadata": {},
     "output_type": "execute_result"
    }
   ],
   "source": [
    "s.istitle()"
   ]
  },
  {
   "cell_type": "code",
   "execution_count": 172,
   "id": "dcce8f76",
   "metadata": {},
   "outputs": [],
   "source": [
    "l=[\"ukc\", \"choubey\", 37873587, True, 4845.96868, 5+6j]"
   ]
  },
  {
   "cell_type": "code",
   "execution_count": 173,
   "id": "6a1933bf",
   "metadata": {},
   "outputs": [
    {
     "data": {
      "text/plain": [
       "['ukc', 'choubey', 37873587, True, 4845.96868, (5+6j)]"
      ]
     },
     "execution_count": 173,
     "metadata": {},
     "output_type": "execute_result"
    }
   ],
   "source": [
    "l"
   ]
  },
  {
   "cell_type": "code",
   "execution_count": 174,
   "id": "0685011c",
   "metadata": {},
   "outputs": [
    {
     "data": {
      "text/plain": [
       "list"
      ]
     },
     "execution_count": 174,
     "metadata": {},
     "output_type": "execute_result"
    }
   ],
   "source": [
    "type(l)"
   ]
  },
  {
   "cell_type": "code",
   "execution_count": 175,
   "id": "19918cf3",
   "metadata": {},
   "outputs": [
    {
     "data": {
      "text/plain": [
       "'ukc'"
      ]
     },
     "execution_count": 175,
     "metadata": {},
     "output_type": "execute_result"
    }
   ],
   "source": [
    "l[0]"
   ]
  },
  {
   "cell_type": "code",
   "execution_count": 176,
   "id": "e3a5eff0",
   "metadata": {},
   "outputs": [
    {
     "data": {
      "text/plain": [
       "'choubey'"
      ]
     },
     "execution_count": 176,
     "metadata": {},
     "output_type": "execute_result"
    }
   ],
   "source": [
    "l[-5]"
   ]
  },
  {
   "cell_type": "code",
   "execution_count": 177,
   "id": "42d910c5",
   "metadata": {},
   "outputs": [
    {
     "data": {
      "text/plain": [
       "['ukc', 'choubey', 37873587, True]"
      ]
     },
     "execution_count": 177,
     "metadata": {},
     "output_type": "execute_result"
    }
   ],
   "source": [
    "l[0:4]"
   ]
  },
  {
   "cell_type": "code",
   "execution_count": 178,
   "id": "f6acc742",
   "metadata": {},
   "outputs": [
    {
     "data": {
      "text/plain": [
       "[4845.96868, True, 37873587]"
      ]
     },
     "execution_count": 178,
     "metadata": {},
     "output_type": "execute_result"
    }
   ],
   "source": [
    "l[4:1:-1]"
   ]
  },
  {
   "cell_type": "code",
   "execution_count": 179,
   "id": "2232f909",
   "metadata": {},
   "outputs": [
    {
     "data": {
      "text/plain": [
       "[(5+6j), 4845.96868, True, 37873587, 'choubey', 'ukc']"
      ]
     },
     "execution_count": 179,
     "metadata": {},
     "output_type": "execute_result"
    }
   ],
   "source": [
    "l[::-1]"
   ]
  },
  {
   "cell_type": "code",
   "execution_count": 180,
   "id": "f80e9c64",
   "metadata": {},
   "outputs": [
    {
     "data": {
      "text/plain": [
       "[(5+6j)]"
      ]
     },
     "execution_count": 180,
     "metadata": {},
     "output_type": "execute_result"
    }
   ],
   "source": [
    "l[-1:6]"
   ]
  },
  {
   "cell_type": "code",
   "execution_count": 181,
   "id": "f49f3080",
   "metadata": {},
   "outputs": [
    {
     "data": {
      "text/plain": [
       "'ukc'"
      ]
     },
     "execution_count": 181,
     "metadata": {},
     "output_type": "execute_result"
    }
   ],
   "source": [
    "l[0]"
   ]
  },
  {
   "cell_type": "code",
   "execution_count": 182,
   "id": "949183ac",
   "metadata": {},
   "outputs": [
    {
     "data": {
      "text/plain": [
       "float"
      ]
     },
     "execution_count": 182,
     "metadata": {},
     "output_type": "execute_result"
    }
   ],
   "source": [
    "type(l[4])"
   ]
  },
  {
   "cell_type": "code",
   "execution_count": 183,
   "id": "11322044",
   "metadata": {},
   "outputs": [
    {
     "name": "stderr",
     "output_type": "stream",
     "text": [
      "<>:1: SyntaxWarning: 'int' object is not subscriptable; perhaps you missed a comma?\n",
      "<>:1: SyntaxWarning: 'int' object is not subscriptable; perhaps you missed a comma?\n",
      "C:\\Users\\Utkarsh\\AppData\\Local\\Temp/ipykernel_7828/1160528311.py:1: SyntaxWarning: 'int' object is not subscriptable; perhaps you missed a comma?\n",
      "  l[0[1]]\n"
     ]
    },
    {
     "ename": "TypeError",
     "evalue": "'int' object is not subscriptable",
     "output_type": "error",
     "traceback": [
      "\u001b[1;31m---------------------------------------------------------------------------\u001b[0m",
      "\u001b[1;31mTypeError\u001b[0m                                 Traceback (most recent call last)",
      "\u001b[1;32m~\\AppData\\Local\\Temp/ipykernel_7828/1160528311.py\u001b[0m in \u001b[0;36m<module>\u001b[1;34m\u001b[0m\n\u001b[1;32m----> 1\u001b[1;33m \u001b[0ml\u001b[0m\u001b[1;33m[\u001b[0m\u001b[1;36m0\u001b[0m\u001b[1;33m[\u001b[0m\u001b[1;36m1\u001b[0m\u001b[1;33m]\u001b[0m\u001b[1;33m]\u001b[0m\u001b[1;33m\u001b[0m\u001b[1;33m\u001b[0m\u001b[0m\n\u001b[0m",
      "\u001b[1;31mTypeError\u001b[0m: 'int' object is not subscriptable"
     ]
    }
   ],
   "source": [
    "l[0[1]]"
   ]
  },
  {
   "cell_type": "code",
   "execution_count": 184,
   "id": "d489d65f",
   "metadata": {},
   "outputs": [
    {
     "data": {
      "text/plain": [
       "'k'"
      ]
     },
     "execution_count": 184,
     "metadata": {},
     "output_type": "execute_result"
    }
   ],
   "source": [
    "l[0][1]"
   ]
  },
  {
   "cell_type": "code",
   "execution_count": 185,
   "id": "3ff6ef02",
   "metadata": {},
   "outputs": [],
   "source": [
    "b=l[0]"
   ]
  },
  {
   "cell_type": "code",
   "execution_count": 186,
   "id": "fc7752be",
   "metadata": {},
   "outputs": [
    {
     "data": {
      "text/plain": [
       "'ukc'"
      ]
     },
     "execution_count": 186,
     "metadata": {},
     "output_type": "execute_result"
    }
   ],
   "source": [
    "b"
   ]
  },
  {
   "cell_type": "code",
   "execution_count": 187,
   "id": "79430efb",
   "metadata": {},
   "outputs": [
    {
     "data": {
      "text/plain": [
       "'k'"
      ]
     },
     "execution_count": 187,
     "metadata": {},
     "output_type": "execute_result"
    }
   ],
   "source": [
    "b[1]"
   ]
  },
  {
   "cell_type": "code",
   "execution_count": 188,
   "id": "3a11e3bd",
   "metadata": {},
   "outputs": [],
   "source": [
    "l=[\"sudh\", \"kumar\", 3543, 4+6j, True, 345.56]"
   ]
  },
  {
   "cell_type": "code",
   "execution_count": 189,
   "id": "93a38ec9",
   "metadata": {},
   "outputs": [
    {
     "data": {
      "text/plain": [
       "list"
      ]
     },
     "execution_count": 189,
     "metadata": {},
     "output_type": "execute_result"
    }
   ],
   "source": [
    "type(l)"
   ]
  },
  {
   "cell_type": "code",
   "execution_count": 190,
   "id": "db56d169",
   "metadata": {},
   "outputs": [
    {
     "data": {
      "text/plain": [
       "['sudh', 'kumar', 3543, (4+6j), True, 345.56]"
      ]
     },
     "execution_count": 190,
     "metadata": {},
     "output_type": "execute_result"
    }
   ],
   "source": [
    "l"
   ]
  },
  {
   "cell_type": "code",
   "execution_count": 191,
   "id": "5bc5933e",
   "metadata": {},
   "outputs": [
    {
     "data": {
      "text/plain": [
       "(4+6j)"
      ]
     },
     "execution_count": 191,
     "metadata": {},
     "output_type": "execute_result"
    }
   ],
   "source": [
    "l[3]"
   ]
  },
  {
   "cell_type": "code",
   "execution_count": 192,
   "id": "c368f5a1",
   "metadata": {},
   "outputs": [
    {
     "data": {
      "text/plain": [
       "4.0"
      ]
     },
     "execution_count": 192,
     "metadata": {},
     "output_type": "execute_result"
    }
   ],
   "source": [
    "(l[3]).real"
   ]
  },
  {
   "cell_type": "code",
   "execution_count": 193,
   "id": "2fc87a72",
   "metadata": {},
   "outputs": [
    {
     "data": {
      "text/plain": [
       "4.0"
      ]
     },
     "execution_count": 193,
     "metadata": {},
     "output_type": "execute_result"
    }
   ],
   "source": [
    "l[3].real"
   ]
  },
  {
   "cell_type": "code",
   "execution_count": 194,
   "id": "3c2badcc",
   "metadata": {},
   "outputs": [
    {
     "data": {
      "text/plain": [
       "6.0"
      ]
     },
     "execution_count": 194,
     "metadata": {},
     "output_type": "execute_result"
    }
   ],
   "source": [
    "l[3].imag"
   ]
  },
  {
   "cell_type": "code",
   "execution_count": 195,
   "id": "5c05906a",
   "metadata": {},
   "outputs": [],
   "source": [
    "l1=[\"sudh\", \"kumar\", 4356]\n",
    "l2=[\"xyz\", \"pqr\", 546.567]"
   ]
  },
  {
   "cell_type": "code",
   "execution_count": 196,
   "id": "0eafca68",
   "metadata": {},
   "outputs": [
    {
     "data": {
      "text/plain": [
       "['sudh', 'kumar', 4356, 'xyz', 'pqr', 546.567]"
      ]
     },
     "execution_count": 196,
     "metadata": {},
     "output_type": "execute_result"
    }
   ],
   "source": [
    "l1+l2"
   ]
  },
  {
   "cell_type": "code",
   "execution_count": 197,
   "id": "70b22e33",
   "metadata": {},
   "outputs": [
    {
     "ename": "TypeError",
     "evalue": "can only concatenate list (not \"str\") to list",
     "output_type": "error",
     "traceback": [
      "\u001b[1;31m---------------------------------------------------------------------------\u001b[0m",
      "\u001b[1;31mTypeError\u001b[0m                                 Traceback (most recent call last)",
      "\u001b[1;32m~\\AppData\\Local\\Temp/ipykernel_7828/724032503.py\u001b[0m in \u001b[0;36m<module>\u001b[1;34m\u001b[0m\n\u001b[1;32m----> 1\u001b[1;33m \u001b[0ml1\u001b[0m\u001b[1;33m+\u001b[0m \u001b[1;34m\"sudh\"\u001b[0m\u001b[1;33m\u001b[0m\u001b[1;33m\u001b[0m\u001b[0m\n\u001b[0m",
      "\u001b[1;31mTypeError\u001b[0m: can only concatenate list (not \"str\") to list"
     ]
    }
   ],
   "source": [
    "l1+ \"sudh\""
   ]
  },
  {
   "cell_type": "code",
   "execution_count": 198,
   "id": "578925d2",
   "metadata": {},
   "outputs": [
    {
     "data": {
      "text/plain": [
       "['sudh', 'kumar', 4356, 'sudh']"
      ]
     },
     "execution_count": 198,
     "metadata": {},
     "output_type": "execute_result"
    }
   ],
   "source": [
    "l1+[\"sudh\"]"
   ]
  },
  {
   "cell_type": "code",
   "execution_count": 199,
   "id": "1afaee27",
   "metadata": {},
   "outputs": [
    {
     "data": {
      "text/plain": [
       "['sudh',\n",
       " 'kumar',\n",
       " 4356,\n",
       " 'sudh',\n",
       " 'kumar',\n",
       " 4356,\n",
       " 'sudh',\n",
       " 'kumar',\n",
       " 4356,\n",
       " 'sudh',\n",
       " 'kumar',\n",
       " 4356]"
      ]
     },
     "execution_count": 199,
     "metadata": {},
     "output_type": "execute_result"
    }
   ],
   "source": [
    "l1*4"
   ]
  },
  {
   "cell_type": "code",
   "execution_count": 200,
   "id": "9c37e1ba",
   "metadata": {},
   "outputs": [
    {
     "data": {
      "text/plain": [
       "['sudh', 'kumar', 4356]"
      ]
     },
     "execution_count": 200,
     "metadata": {},
     "output_type": "execute_result"
    }
   ],
   "source": [
    "l1"
   ]
  },
  {
   "cell_type": "code",
   "execution_count": 201,
   "id": "b1b213c7",
   "metadata": {},
   "outputs": [
    {
     "ename": "TypeError",
     "evalue": "replace expected at least 2 arguments, got 1",
     "output_type": "error",
     "traceback": [
      "\u001b[1;31m---------------------------------------------------------------------------\u001b[0m",
      "\u001b[1;31mTypeError\u001b[0m                                 Traceback (most recent call last)",
      "\u001b[1;32m~\\AppData\\Local\\Temp/ipykernel_7828/512061948.py\u001b[0m in \u001b[0;36m<module>\u001b[1;34m\u001b[0m\n\u001b[1;32m----> 1\u001b[1;33m \u001b[1;33m(\u001b[0m\u001b[0ml1\u001b[0m\u001b[1;33m[\u001b[0m\u001b[1;36m0\u001b[0m\u001b[1;33m]\u001b[0m\u001b[1;33m)\u001b[0m\u001b[1;33m.\u001b[0m\u001b[0mreplace\u001b[0m\u001b[1;33m(\u001b[0m\u001b[1;34m\"utkarsh\"\u001b[0m\u001b[1;33m)\u001b[0m\u001b[1;33m\u001b[0m\u001b[1;33m\u001b[0m\u001b[0m\n\u001b[0m",
      "\u001b[1;31mTypeError\u001b[0m: replace expected at least 2 arguments, got 1"
     ]
    }
   ],
   "source": [
    "(l1[0]).replace(\"utkarsh\")"
   ]
  },
  {
   "cell_type": "code",
   "execution_count": 202,
   "id": "a47dad68",
   "metadata": {},
   "outputs": [],
   "source": [
    "l1[0]=\"yourname\""
   ]
  },
  {
   "cell_type": "code",
   "execution_count": 203,
   "id": "20c8fb97",
   "metadata": {},
   "outputs": [
    {
     "data": {
      "text/plain": [
       "['yourname', 'kumar', 4356]"
      ]
     },
     "execution_count": 203,
     "metadata": {},
     "output_type": "execute_result"
    }
   ],
   "source": [
    "l1"
   ]
  },
  {
   "cell_type": "code",
   "execution_count": 204,
   "id": "78b11135",
   "metadata": {},
   "outputs": [
    {
     "data": {
      "text/plain": [
       "'utkarsh'"
      ]
     },
     "execution_count": 204,
     "metadata": {},
     "output_type": "execute_result"
    }
   ],
   "source": [
    "l1[0].replace(\"yourname\",\"utkarsh\")"
   ]
  },
  {
   "cell_type": "code",
   "execution_count": 205,
   "id": "72478139",
   "metadata": {},
   "outputs": [
    {
     "data": {
      "text/plain": [
       "['yourname', 'kumar', 4356]"
      ]
     },
     "execution_count": 205,
     "metadata": {},
     "output_type": "execute_result"
    }
   ],
   "source": [
    "l1"
   ]
  },
  {
   "cell_type": "code",
   "execution_count": 206,
   "id": "e56cb143",
   "metadata": {},
   "outputs": [],
   "source": [
    "l1[0]=823748782347"
   ]
  },
  {
   "cell_type": "code",
   "execution_count": 207,
   "id": "b6145174",
   "metadata": {},
   "outputs": [
    {
     "data": {
      "text/plain": [
       "[823748782347, 'kumar', 4356]"
      ]
     },
     "execution_count": 207,
     "metadata": {},
     "output_type": "execute_result"
    }
   ],
   "source": [
    "l1"
   ]
  },
  {
   "cell_type": "code",
   "execution_count": 208,
   "id": "f1a04856",
   "metadata": {},
   "outputs": [
    {
     "data": {
      "text/plain": [
       "'sumar'"
      ]
     },
     "execution_count": 208,
     "metadata": {},
     "output_type": "execute_result"
    }
   ],
   "source": [
    "(l1[1]).replace(\"k\",\"s\")"
   ]
  },
  {
   "cell_type": "code",
   "execution_count": 210,
   "id": "6a6114d4",
   "metadata": {},
   "outputs": [],
   "source": [
    "s=\"sudh\""
   ]
  },
  {
   "cell_type": "code",
   "execution_count": 211,
   "id": "8fe3ecbd",
   "metadata": {},
   "outputs": [
    {
     "ename": "TypeError",
     "evalue": "'str' object does not support item assignment",
     "output_type": "error",
     "traceback": [
      "\u001b[1;31m---------------------------------------------------------------------------\u001b[0m",
      "\u001b[1;31mTypeError\u001b[0m                                 Traceback (most recent call last)",
      "\u001b[1;32m~\\AppData\\Local\\Temp/ipykernel_7828/759112081.py\u001b[0m in \u001b[0;36m<module>\u001b[1;34m\u001b[0m\n\u001b[1;32m----> 1\u001b[1;33m \u001b[0ms\u001b[0m\u001b[1;33m[\u001b[0m\u001b[1;36m0\u001b[0m\u001b[1;33m]\u001b[0m\u001b[1;33m=\u001b[0m\u001b[1;34m\"k\"\u001b[0m\u001b[1;33m\u001b[0m\u001b[1;33m\u001b[0m\u001b[0m\n\u001b[0m",
      "\u001b[1;31mTypeError\u001b[0m: 'str' object does not support item assignment"
     ]
    }
   ],
   "source": [
    "s[0]=\"k\""
   ]
  },
  {
   "cell_type": "code",
   "execution_count": 212,
   "id": "093275a0",
   "metadata": {},
   "outputs": [
    {
     "data": {
      "text/plain": [
       "'kudh'"
      ]
     },
     "execution_count": 212,
     "metadata": {},
     "output_type": "execute_result"
    }
   ],
   "source": [
    "s.replace(\"s\", \"k\")"
   ]
  },
  {
   "cell_type": "code",
   "execution_count": 213,
   "id": "3d78f0fd",
   "metadata": {},
   "outputs": [
    {
     "data": {
      "text/plain": [
       "'sudh'"
      ]
     },
     "execution_count": 213,
     "metadata": {},
     "output_type": "execute_result"
    }
   ],
   "source": [
    "s"
   ]
  },
  {
   "cell_type": "code",
   "execution_count": 214,
   "id": "490e1da8",
   "metadata": {},
   "outputs": [
    {
     "data": {
      "text/plain": [
       "3"
      ]
     },
     "execution_count": 214,
     "metadata": {},
     "output_type": "execute_result"
    }
   ],
   "source": [
    "len(l1)"
   ]
  },
  {
   "cell_type": "code",
   "execution_count": 215,
   "id": "f0211098",
   "metadata": {},
   "outputs": [
    {
     "data": {
      "text/plain": [
       "False"
      ]
     },
     "execution_count": 215,
     "metadata": {},
     "output_type": "execute_result"
    }
   ],
   "source": [
    "34534 in l1"
   ]
  },
  {
   "cell_type": "code",
   "execution_count": 216,
   "id": "e42e2abf",
   "metadata": {},
   "outputs": [
    {
     "data": {
      "text/plain": [
       "['xyz', 'pqr', 546.567]"
      ]
     },
     "execution_count": 216,
     "metadata": {},
     "output_type": "execute_result"
    }
   ],
   "source": [
    "l2"
   ]
  },
  {
   "cell_type": "code",
   "execution_count": 217,
   "id": "01d66293",
   "metadata": {},
   "outputs": [
    {
     "ename": "NameError",
     "evalue": "name 'sudh' is not defined",
     "output_type": "error",
     "traceback": [
      "\u001b[1;31m---------------------------------------------------------------------------\u001b[0m",
      "\u001b[1;31mNameError\u001b[0m                                 Traceback (most recent call last)",
      "\u001b[1;32m~\\AppData\\Local\\Temp/ipykernel_7828/1537647222.py\u001b[0m in \u001b[0;36m<module>\u001b[1;34m\u001b[0m\n\u001b[1;32m----> 1\u001b[1;33m \u001b[0ml2\u001b[0m\u001b[1;33m.\u001b[0m\u001b[0mappend\u001b[0m\u001b[1;33m(\u001b[0m\u001b[0msudh\u001b[0m\u001b[1;33m)\u001b[0m\u001b[1;33m\u001b[0m\u001b[1;33m\u001b[0m\u001b[0m\n\u001b[0m",
      "\u001b[1;31mNameError\u001b[0m: name 'sudh' is not defined"
     ]
    }
   ],
   "source": [
    "l2.append(sudh)"
   ]
  },
  {
   "cell_type": "code",
   "execution_count": 218,
   "id": "5dd6daac",
   "metadata": {},
   "outputs": [],
   "source": [
    "l2.append(\"sudh\")"
   ]
  },
  {
   "cell_type": "code",
   "execution_count": 219,
   "id": "c7c027d8",
   "metadata": {},
   "outputs": [
    {
     "data": {
      "text/plain": [
       "['xyz', 'pqr', 546.567, 'sudh']"
      ]
     },
     "execution_count": 219,
     "metadata": {},
     "output_type": "execute_result"
    }
   ],
   "source": [
    "l2"
   ]
  },
  {
   "cell_type": "code",
   "execution_count": 220,
   "id": "7bec6603",
   "metadata": {},
   "outputs": [
    {
     "ename": "TypeError",
     "evalue": "'str' object cannot be interpreted as an integer",
     "output_type": "error",
     "traceback": [
      "\u001b[1;31m---------------------------------------------------------------------------\u001b[0m",
      "\u001b[1;31mTypeError\u001b[0m                                 Traceback (most recent call last)",
      "\u001b[1;32m~\\AppData\\Local\\Temp/ipykernel_7828/3152389837.py\u001b[0m in \u001b[0;36m<module>\u001b[1;34m\u001b[0m\n\u001b[1;32m----> 1\u001b[1;33m \u001b[0ml2\u001b[0m\u001b[1;33m.\u001b[0m\u001b[0mpop\u001b[0m\u001b[1;33m(\u001b[0m\u001b[1;34m\"sudh\"\u001b[0m\u001b[1;33m)\u001b[0m\u001b[1;33m\u001b[0m\u001b[1;33m\u001b[0m\u001b[0m\n\u001b[0m",
      "\u001b[1;31mTypeError\u001b[0m: 'str' object cannot be interpreted as an integer"
     ]
    }
   ],
   "source": [
    "l2.pop(\"sudh\")"
   ]
  },
  {
   "cell_type": "code",
   "execution_count": 221,
   "id": "96157b01",
   "metadata": {},
   "outputs": [
    {
     "data": {
      "text/plain": [
       "'sudh'"
      ]
     },
     "execution_count": 221,
     "metadata": {},
     "output_type": "execute_result"
    }
   ],
   "source": [
    "l2.pop(-1)"
   ]
  },
  {
   "cell_type": "code",
   "execution_count": 222,
   "id": "b1195c38",
   "metadata": {},
   "outputs": [
    {
     "data": {
      "text/plain": [
       "['xyz', 'pqr', 546.567]"
      ]
     },
     "execution_count": 222,
     "metadata": {},
     "output_type": "execute_result"
    }
   ],
   "source": [
    "l2"
   ]
  },
  {
   "cell_type": "code",
   "execution_count": 223,
   "id": "eafe4c68",
   "metadata": {},
   "outputs": [],
   "source": [
    "l2=[\"sfgd\", 6456, True, 345.5643]"
   ]
  },
  {
   "cell_type": "code",
   "execution_count": 224,
   "id": "887bbab8",
   "metadata": {},
   "outputs": [
    {
     "data": {
      "text/plain": [
       "['sfgd', 6456, True, 345.5643]"
      ]
     },
     "execution_count": 224,
     "metadata": {},
     "output_type": "execute_result"
    }
   ],
   "source": [
    "l2"
   ]
  },
  {
   "cell_type": "code",
   "execution_count": 225,
   "id": "773335d5",
   "metadata": {},
   "outputs": [
    {
     "data": {
      "text/plain": [
       "True"
      ]
     },
     "execution_count": 225,
     "metadata": {},
     "output_type": "execute_result"
    }
   ],
   "source": [
    "l2.pop(-2)"
   ]
  },
  {
   "cell_type": "code",
   "execution_count": 226,
   "id": "a29ee56b",
   "metadata": {},
   "outputs": [
    {
     "data": {
      "text/plain": [
       "['sfgd', 6456, 345.5643]"
      ]
     },
     "execution_count": 226,
     "metadata": {},
     "output_type": "execute_result"
    }
   ],
   "source": [
    "l2"
   ]
  },
  {
   "cell_type": "code",
   "execution_count": 227,
   "id": "dbbaa047",
   "metadata": {},
   "outputs": [
    {
     "data": {
      "text/plain": [
       "345.5643"
      ]
     },
     "execution_count": 227,
     "metadata": {},
     "output_type": "execute_result"
    }
   ],
   "source": [
    "l2.pop()"
   ]
  },
  {
   "cell_type": "code",
   "execution_count": 228,
   "id": "c6808fea",
   "metadata": {},
   "outputs": [
    {
     "data": {
      "text/plain": [
       "['sfgd', 6456]"
      ]
     },
     "execution_count": 228,
     "metadata": {},
     "output_type": "execute_result"
    }
   ],
   "source": [
    "l2"
   ]
  },
  {
   "cell_type": "code",
   "execution_count": 229,
   "id": "ea0cd679",
   "metadata": {},
   "outputs": [],
   "source": [
    "l2=[\"xyz\", \"pqr\"]"
   ]
  },
  {
   "cell_type": "code",
   "execution_count": 230,
   "id": "7554ef10",
   "metadata": {},
   "outputs": [
    {
     "data": {
      "text/plain": [
       "['xyz', 'pqr']"
      ]
     },
     "execution_count": 230,
     "metadata": {},
     "output_type": "execute_result"
    }
   ],
   "source": [
    "l2"
   ]
  },
  {
   "cell_type": "code",
   "execution_count": 231,
   "id": "b8f2d8c2",
   "metadata": {},
   "outputs": [],
   "source": [
    "l2.append(3423432)"
   ]
  },
  {
   "cell_type": "code",
   "execution_count": 232,
   "id": "ac01576b",
   "metadata": {},
   "outputs": [
    {
     "data": {
      "text/plain": [
       "['xyz', 'pqr', 3423432]"
      ]
     },
     "execution_count": 232,
     "metadata": {},
     "output_type": "execute_result"
    }
   ],
   "source": [
    "l2"
   ]
  },
  {
   "cell_type": "code",
   "execution_count": 233,
   "id": "212e5018",
   "metadata": {},
   "outputs": [],
   "source": [
    "l2.insert(1, \"fjhdfhjhzfg\")"
   ]
  },
  {
   "cell_type": "code",
   "execution_count": 234,
   "id": "9e684b31",
   "metadata": {},
   "outputs": [
    {
     "data": {
      "text/plain": [
       "['xyz', 'fjhdfhjhzfg', 'pqr', 3423432]"
      ]
     },
     "execution_count": 234,
     "metadata": {},
     "output_type": "execute_result"
    }
   ],
   "source": [
    "l2"
   ]
  },
  {
   "cell_type": "code",
   "execution_count": 235,
   "id": "ef4b86fe",
   "metadata": {},
   "outputs": [],
   "source": [
    "l2.insert(3, [534, \"fdgdf\", 554.34534534, True])"
   ]
  },
  {
   "cell_type": "code",
   "execution_count": 236,
   "id": "ec1d60b8",
   "metadata": {},
   "outputs": [
    {
     "data": {
      "text/plain": [
       "['xyz', 'fjhdfhjhzfg', 'pqr', [534, 'fdgdf', 554.34534534, True], 3423432]"
      ]
     },
     "execution_count": 236,
     "metadata": {},
     "output_type": "execute_result"
    }
   ],
   "source": [
    "l2"
   ]
  },
  {
   "cell_type": "code",
   "execution_count": 237,
   "id": "c135b85a",
   "metadata": {},
   "outputs": [
    {
     "data": {
      "text/plain": [
       "[3423432, [534, 'fdgdf', 554.34534534, True], 'pqr', 'fjhdfhjhzfg', 'xyz']"
      ]
     },
     "execution_count": 237,
     "metadata": {},
     "output_type": "execute_result"
    }
   ],
   "source": [
    "l2[::-1]"
   ]
  },
  {
   "cell_type": "code",
   "execution_count": 240,
   "id": "b7efba43",
   "metadata": {},
   "outputs": [
    {
     "data": {
      "text/plain": [
       "[3423432, [534, 'fdgdf', 554.34534534, True], 'pqr', 'fjhdfhjhzfg', 'xyz']"
      ]
     },
     "execution_count": 240,
     "metadata": {},
     "output_type": "execute_result"
    }
   ],
   "source": [
    "l2"
   ]
  },
  {
   "cell_type": "code",
   "execution_count": 241,
   "id": "fd68a13c",
   "metadata": {},
   "outputs": [],
   "source": [
    "l2.reverse()"
   ]
  },
  {
   "cell_type": "code",
   "execution_count": 242,
   "id": "bcee1ef0",
   "metadata": {},
   "outputs": [
    {
     "data": {
      "text/plain": [
       "['xyz', 'fjhdfhjhzfg', 'pqr', [534, 'fdgdf', 554.34534534, True], 3423432]"
      ]
     },
     "execution_count": 242,
     "metadata": {},
     "output_type": "execute_result"
    }
   ],
   "source": [
    "l2"
   ]
  },
  {
   "cell_type": "code",
   "execution_count": 246,
   "id": "9d07ef0e",
   "metadata": {},
   "outputs": [
    {
     "data": {
      "text/plain": [
       "['xyz', 'fjhdfhjhzfg', 'pqr', [534, 'fdgdf', 554.34534534, True], 3423432]"
      ]
     },
     "execution_count": 246,
     "metadata": {},
     "output_type": "execute_result"
    }
   ],
   "source": [
    "l2"
   ]
  },
  {
   "cell_type": "code",
   "execution_count": 247,
   "id": "de56f524",
   "metadata": {},
   "outputs": [],
   "source": [
    "l2.reverse()"
   ]
  },
  {
   "cell_type": "code",
   "execution_count": 248,
   "id": "73886eb7",
   "metadata": {},
   "outputs": [
    {
     "data": {
      "text/plain": [
       "[3423432, [534, 'fdgdf', 554.34534534, True], 'pqr', 'fjhdfhjhzfg', 'xyz']"
      ]
     },
     "execution_count": 248,
     "metadata": {},
     "output_type": "execute_result"
    }
   ],
   "source": [
    "l2"
   ]
  },
  {
   "cell_type": "code",
   "execution_count": 249,
   "id": "fd612b00",
   "metadata": {},
   "outputs": [],
   "source": [
    "l2.reverse()"
   ]
  },
  {
   "cell_type": "code",
   "execution_count": 250,
   "id": "5043472e",
   "metadata": {},
   "outputs": [
    {
     "data": {
      "text/plain": [
       "['xyz', 'fjhdfhjhzfg', 'pqr', [534, 'fdgdf', 554.34534534, True], 3423432]"
      ]
     },
     "execution_count": 250,
     "metadata": {},
     "output_type": "execute_result"
    }
   ],
   "source": [
    "l2"
   ]
  },
  {
   "cell_type": "code",
   "execution_count": 252,
   "id": "e3f522c1",
   "metadata": {},
   "outputs": [],
   "source": [
    "l2.reverse()"
   ]
  },
  {
   "cell_type": "code",
   "execution_count": 253,
   "id": "3df88cb2",
   "metadata": {},
   "outputs": [
    {
     "data": {
      "text/plain": [
       "[3423432, [534, 'fdgdf', 554.34534534, True], 'pqr', 'fjhdfhjhzfg', 'xyz']"
      ]
     },
     "execution_count": 253,
     "metadata": {},
     "output_type": "execute_result"
    }
   ],
   "source": [
    "l2"
   ]
  },
  {
   "cell_type": "code",
   "execution_count": 254,
   "id": "af4e80d5",
   "metadata": {},
   "outputs": [
    {
     "data": {
      "text/plain": [
       "['xyz', 'fjhdfhjhzfg', 'pqr', [534, 'fdgdf', 554.34534534, True], 3423432]"
      ]
     },
     "execution_count": 254,
     "metadata": {},
     "output_type": "execute_result"
    }
   ],
   "source": [
    "l2[::-1]"
   ]
  },
  {
   "cell_type": "code",
   "execution_count": 255,
   "id": "4ed9c784",
   "metadata": {},
   "outputs": [
    {
     "data": {
      "text/plain": [
       "[3423432, [534, 'fdgdf', 554.34534534, True], 'pqr', 'fjhdfhjhzfg', 'xyz']"
      ]
     },
     "execution_count": 255,
     "metadata": {},
     "output_type": "execute_result"
    }
   ],
   "source": [
    "l2"
   ]
  },
  {
   "cell_type": "code",
   "execution_count": 256,
   "id": "43d2095e",
   "metadata": {},
   "outputs": [
    {
     "data": {
      "text/plain": [
       "'h'"
      ]
     },
     "execution_count": 256,
     "metadata": {},
     "output_type": "execute_result"
    }
   ],
   "source": [
    "l2[3][2]"
   ]
  },
  {
   "cell_type": "code",
   "execution_count": 257,
   "id": "28378216",
   "metadata": {},
   "outputs": [
    {
     "data": {
      "text/plain": [
       "[3423432, [534, 'fdgdf', 554.34534534, True], 'pqr', 'fjhdfhjhzfg', 'xyz']"
      ]
     },
     "execution_count": 257,
     "metadata": {},
     "output_type": "execute_result"
    }
   ],
   "source": [
    "l2"
   ]
  },
  {
   "cell_type": "code",
   "execution_count": 258,
   "id": "97a790a4",
   "metadata": {},
   "outputs": [
    {
     "data": {
      "text/plain": [
       "0"
      ]
     },
     "execution_count": 258,
     "metadata": {},
     "output_type": "execute_result"
    }
   ],
   "source": [
    "l2.count(534)"
   ]
  },
  {
   "cell_type": "code",
   "execution_count": 259,
   "id": "f3d18935",
   "metadata": {},
   "outputs": [
    {
     "data": {
      "text/plain": [
       "1"
      ]
     },
     "execution_count": 259,
     "metadata": {},
     "output_type": "execute_result"
    }
   ],
   "source": [
    "l2.count('xyz')"
   ]
  },
  {
   "cell_type": "code",
   "execution_count": 260,
   "id": "11245622",
   "metadata": {},
   "outputs": [],
   "source": [
    "t={1,2,3,4,5}"
   ]
  },
  {
   "cell_type": "code",
   "execution_count": 261,
   "id": "0c05f6fc",
   "metadata": {},
   "outputs": [
    {
     "data": {
      "text/plain": [
       "{1, 2, 3, 4, 5}"
      ]
     },
     "execution_count": 261,
     "metadata": {},
     "output_type": "execute_result"
    }
   ],
   "source": [
    "t"
   ]
  },
  {
   "cell_type": "code",
   "execution_count": 262,
   "id": "88d6b007",
   "metadata": {},
   "outputs": [
    {
     "data": {
      "text/plain": [
       "set"
      ]
     },
     "execution_count": 262,
     "metadata": {},
     "output_type": "execute_result"
    }
   ],
   "source": [
    "type(t)"
   ]
  },
  {
   "cell_type": "code",
   "execution_count": 263,
   "id": "275c062d",
   "metadata": {},
   "outputs": [],
   "source": [
    "t=(1,2,3,4,5)"
   ]
  },
  {
   "cell_type": "code",
   "execution_count": 264,
   "id": "317304c2",
   "metadata": {},
   "outputs": [
    {
     "data": {
      "text/plain": [
       "(1, 2, 3, 4, 5)"
      ]
     },
     "execution_count": 264,
     "metadata": {},
     "output_type": "execute_result"
    }
   ],
   "source": [
    "t"
   ]
  },
  {
   "cell_type": "code",
   "execution_count": 265,
   "id": "2cbb472a",
   "metadata": {},
   "outputs": [
    {
     "data": {
      "text/plain": [
       "tuple"
      ]
     },
     "execution_count": 265,
     "metadata": {},
     "output_type": "execute_result"
    }
   ],
   "source": [
    "type(t)"
   ]
  },
  {
   "cell_type": "code",
   "execution_count": 266,
   "id": "009c95c1",
   "metadata": {},
   "outputs": [],
   "source": [
    "t1= (\"sudh\", 345, 45+78j, 546.56, True)"
   ]
  },
  {
   "cell_type": "code",
   "execution_count": 267,
   "id": "2d5428a6",
   "metadata": {},
   "outputs": [],
   "source": [
    "l=[\"sudh\", 345, 45+78j, 546.56, True]"
   ]
  },
  {
   "cell_type": "code",
   "execution_count": 268,
   "id": "c3ce7790",
   "metadata": {},
   "outputs": [
    {
     "data": {
      "text/plain": [
       "tuple"
      ]
     },
     "execution_count": 268,
     "metadata": {},
     "output_type": "execute_result"
    }
   ],
   "source": [
    "type(t1)"
   ]
  },
  {
   "cell_type": "code",
   "execution_count": 269,
   "id": "bd3abc3d",
   "metadata": {},
   "outputs": [
    {
     "data": {
      "text/plain": [
       "list"
      ]
     },
     "execution_count": 269,
     "metadata": {},
     "output_type": "execute_result"
    }
   ],
   "source": [
    "type(l)"
   ]
  },
  {
   "cell_type": "code",
   "execution_count": 270,
   "id": "6abc6850",
   "metadata": {},
   "outputs": [],
   "source": [
    "t2=()"
   ]
  },
  {
   "cell_type": "code",
   "execution_count": 271,
   "id": "c4fbdc3e",
   "metadata": {},
   "outputs": [
    {
     "data": {
      "text/plain": [
       "tuple"
      ]
     },
     "execution_count": 271,
     "metadata": {},
     "output_type": "execute_result"
    }
   ],
   "source": [
    "type(t2)"
   ]
  },
  {
   "cell_type": "code",
   "execution_count": 272,
   "id": "6064443d",
   "metadata": {},
   "outputs": [
    {
     "data": {
      "text/plain": [
       "('sudh', 345, (45+78j), 546.56, True)"
      ]
     },
     "execution_count": 272,
     "metadata": {},
     "output_type": "execute_result"
    }
   ],
   "source": [
    "t1"
   ]
  },
  {
   "cell_type": "code",
   "execution_count": 273,
   "id": "f55f7272",
   "metadata": {},
   "outputs": [
    {
     "data": {
      "text/plain": [
       "['sudh', 345, (45+78j), 546.56, True]"
      ]
     },
     "execution_count": 273,
     "metadata": {},
     "output_type": "execute_result"
    }
   ],
   "source": [
    "l"
   ]
  },
  {
   "cell_type": "code",
   "execution_count": 274,
   "id": "4084375d",
   "metadata": {},
   "outputs": [
    {
     "data": {
      "text/plain": [
       "['sudh', 345]"
      ]
     },
     "execution_count": 274,
     "metadata": {},
     "output_type": "execute_result"
    }
   ],
   "source": [
    "l[0:2]"
   ]
  },
  {
   "cell_type": "code",
   "execution_count": 275,
   "id": "8d018f60",
   "metadata": {},
   "outputs": [
    {
     "data": {
      "text/plain": [
       "('sudh', 345)"
      ]
     },
     "execution_count": 275,
     "metadata": {},
     "output_type": "execute_result"
    }
   ],
   "source": [
    "t1[0:2]"
   ]
  },
  {
   "cell_type": "code",
   "execution_count": 276,
   "id": "4dcc18a6",
   "metadata": {},
   "outputs": [
    {
     "data": {
      "text/plain": [
       "(True, 546.56, (45+78j), 345, 'sudh')"
      ]
     },
     "execution_count": 276,
     "metadata": {},
     "output_type": "execute_result"
    }
   ],
   "source": [
    "t1[::-1]"
   ]
  },
  {
   "cell_type": "code",
   "execution_count": 277,
   "id": "e6f4f2cf",
   "metadata": {},
   "outputs": [
    {
     "data": {
      "text/plain": [
       "True"
      ]
     },
     "execution_count": 277,
     "metadata": {},
     "output_type": "execute_result"
    }
   ],
   "source": [
    "t1[-1]"
   ]
  },
  {
   "cell_type": "code",
   "execution_count": 278,
   "id": "552e1174",
   "metadata": {},
   "outputs": [
    {
     "ename": "AttributeError",
     "evalue": "'tuple' object has no attribute 'reverse'",
     "output_type": "error",
     "traceback": [
      "\u001b[1;31m---------------------------------------------------------------------------\u001b[0m",
      "\u001b[1;31mAttributeError\u001b[0m                            Traceback (most recent call last)",
      "\u001b[1;32m~\\AppData\\Local\\Temp/ipykernel_7828/1375662193.py\u001b[0m in \u001b[0;36m<module>\u001b[1;34m\u001b[0m\n\u001b[1;32m----> 1\u001b[1;33m \u001b[0mt1\u001b[0m\u001b[1;33m.\u001b[0m\u001b[0mreverse\u001b[0m\u001b[1;33m(\u001b[0m\u001b[1;33m)\u001b[0m\u001b[1;33m\u001b[0m\u001b[1;33m\u001b[0m\u001b[0m\n\u001b[0m",
      "\u001b[1;31mAttributeError\u001b[0m: 'tuple' object has no attribute 'reverse'"
     ]
    }
   ],
   "source": [
    "t1.reverse()"
   ]
  },
  {
   "cell_type": "code",
   "execution_count": 279,
   "id": "ef14a653",
   "metadata": {},
   "outputs": [
    {
     "data": {
      "text/plain": [
       "('sudh', (45+78j), True)"
      ]
     },
     "execution_count": 279,
     "metadata": {},
     "output_type": "execute_result"
    }
   ],
   "source": [
    "t1[0::2]"
   ]
  },
  {
   "cell_type": "code",
   "execution_count": 280,
   "id": "9678ecef",
   "metadata": {},
   "outputs": [
    {
     "data": {
      "text/plain": [
       "['sudh', 345, (45+78j), 546.56, True]"
      ]
     },
     "execution_count": 280,
     "metadata": {},
     "output_type": "execute_result"
    }
   ],
   "source": [
    "l"
   ]
  },
  {
   "cell_type": "code",
   "execution_count": 281,
   "id": "7ddbeb06",
   "metadata": {},
   "outputs": [],
   "source": [
    "l1=[4,5,6,7]"
   ]
  },
  {
   "cell_type": "code",
   "execution_count": 282,
   "id": "1be06a68",
   "metadata": {},
   "outputs": [],
   "source": [
    "l[0]=\"kumar\""
   ]
  },
  {
   "cell_type": "code",
   "execution_count": 283,
   "id": "881aadb7",
   "metadata": {},
   "outputs": [
    {
     "data": {
      "text/plain": [
       "['kumar', 345, (45+78j), 546.56, True]"
      ]
     },
     "execution_count": 283,
     "metadata": {},
     "output_type": "execute_result"
    }
   ],
   "source": [
    "l"
   ]
  },
  {
   "cell_type": "code",
   "execution_count": 284,
   "id": "d3746e6b",
   "metadata": {},
   "outputs": [
    {
     "data": {
      "text/plain": [
       "('sudh', 345, (45+78j), 546.56, True)"
      ]
     },
     "execution_count": 284,
     "metadata": {},
     "output_type": "execute_result"
    }
   ],
   "source": [
    "t1"
   ]
  },
  {
   "cell_type": "code",
   "execution_count": 285,
   "id": "acbfe0c3",
   "metadata": {},
   "outputs": [
    {
     "data": {
      "text/plain": [
       "'sudh'"
      ]
     },
     "execution_count": 285,
     "metadata": {},
     "output_type": "execute_result"
    }
   ],
   "source": [
    "t1[0]"
   ]
  },
  {
   "cell_type": "code",
   "execution_count": 286,
   "id": "9e00e90f",
   "metadata": {},
   "outputs": [
    {
     "ename": "TypeError",
     "evalue": "'tuple' object does not support item assignment",
     "output_type": "error",
     "traceback": [
      "\u001b[1;31m---------------------------------------------------------------------------\u001b[0m",
      "\u001b[1;31mTypeError\u001b[0m                                 Traceback (most recent call last)",
      "\u001b[1;32m~\\AppData\\Local\\Temp/ipykernel_7828/3644338778.py\u001b[0m in \u001b[0;36m<module>\u001b[1;34m\u001b[0m\n\u001b[1;32m----> 1\u001b[1;33m \u001b[0mt1\u001b[0m\u001b[1;33m[\u001b[0m\u001b[1;36m0\u001b[0m\u001b[1;33m]\u001b[0m\u001b[1;33m=\u001b[0m\u001b[1;34m\"xyz\"\u001b[0m\u001b[1;33m\u001b[0m\u001b[1;33m\u001b[0m\u001b[0m\n\u001b[0m",
      "\u001b[1;31mTypeError\u001b[0m: 'tuple' object does not support item assignment"
     ]
    }
   ],
   "source": [
    "t1[0]=\"xyz\""
   ]
  },
  {
   "cell_type": "code",
   "execution_count": 287,
   "id": "89eb4a5f",
   "metadata": {},
   "outputs": [
    {
     "data": {
      "text/plain": [
       "('sudh', 345, (45+78j), 546.56, True)"
      ]
     },
     "execution_count": 287,
     "metadata": {},
     "output_type": "execute_result"
    }
   ],
   "source": [
    "t1"
   ]
  },
  {
   "cell_type": "code",
   "execution_count": 288,
   "id": "bc7d86d8",
   "metadata": {},
   "outputs": [],
   "source": [
    "t2=(34,56,56,56,5,656)"
   ]
  },
  {
   "cell_type": "code",
   "execution_count": 289,
   "id": "5334f6f3",
   "metadata": {},
   "outputs": [
    {
     "data": {
      "text/plain": [
       "('sudh', 345, (45+78j), 546.56, True, 34, 56, 56, 56, 5, 656)"
      ]
     },
     "execution_count": 289,
     "metadata": {},
     "output_type": "execute_result"
    }
   ],
   "source": [
    "t1+t2"
   ]
  },
  {
   "cell_type": "code",
   "execution_count": 290,
   "id": "11bc38a4",
   "metadata": {},
   "outputs": [
    {
     "data": {
      "text/plain": [
       "('sudh', 345, (45+78j), 546.56, True, 'sudh', 345, (45+78j), 546.56, True)"
      ]
     },
     "execution_count": 290,
     "metadata": {},
     "output_type": "execute_result"
    }
   ],
   "source": [
    "t1*2"
   ]
  },
  {
   "cell_type": "code",
   "execution_count": 291,
   "id": "8b115b6e",
   "metadata": {},
   "outputs": [
    {
     "data": {
      "text/plain": [
       "('sudh', 345, (45+78j), 546.56, True)"
      ]
     },
     "execution_count": 291,
     "metadata": {},
     "output_type": "execute_result"
    }
   ],
   "source": [
    "t1"
   ]
  },
  {
   "cell_type": "code",
   "execution_count": 292,
   "id": "673039f7",
   "metadata": {},
   "outputs": [
    {
     "data": {
      "text/plain": [
       "1"
      ]
     },
     "execution_count": 292,
     "metadata": {},
     "output_type": "execute_result"
    }
   ],
   "source": [
    "t1.count(\"sudh\")"
   ]
  },
  {
   "cell_type": "code",
   "execution_count": 293,
   "id": "31f66820",
   "metadata": {},
   "outputs": [
    {
     "data": {
      "text/plain": [
       "1"
      ]
     },
     "execution_count": 293,
     "metadata": {},
     "output_type": "execute_result"
    }
   ],
   "source": [
    "t1.index(345)"
   ]
  },
  {
   "cell_type": "code",
   "execution_count": 294,
   "id": "776fe13a",
   "metadata": {},
   "outputs": [],
   "source": [
    "t1=([3,4,54,6], (\"sd\", 435, 56), \"ushd\")"
   ]
  },
  {
   "cell_type": "code",
   "execution_count": 295,
   "id": "72e76fcf",
   "metadata": {},
   "outputs": [
    {
     "data": {
      "text/plain": [
       "([3, 4, 54, 6], ('sd', 435, 56), 'ushd')"
      ]
     },
     "execution_count": 295,
     "metadata": {},
     "output_type": "execute_result"
    }
   ],
   "source": [
    "t1"
   ]
  },
  {
   "cell_type": "code",
   "execution_count": 296,
   "id": "399044fa",
   "metadata": {},
   "outputs": [
    {
     "data": {
      "text/plain": [
       "'sd'"
      ]
     },
     "execution_count": 296,
     "metadata": {},
     "output_type": "execute_result"
    }
   ],
   "source": [
    "t1[1][0]"
   ]
  },
  {
   "cell_type": "code",
   "execution_count": 298,
   "id": "e8a57400",
   "metadata": {},
   "outputs": [],
   "source": [
    "t1[0][2]=\"yourname\""
   ]
  },
  {
   "cell_type": "code",
   "execution_count": 299,
   "id": "7c8387b0",
   "metadata": {},
   "outputs": [
    {
     "data": {
      "text/plain": [
       "([3, 4, 'yourname', 6], ('sd', 435, 56), 'ushd')"
      ]
     },
     "execution_count": 299,
     "metadata": {},
     "output_type": "execute_result"
    }
   ],
   "source": [
    "t1"
   ]
  },
  {
   "cell_type": "code",
   "execution_count": 300,
   "id": "aa1a6c9f",
   "metadata": {},
   "outputs": [
    {
     "ename": "TypeError",
     "evalue": "'tuple' object does not support item assignment",
     "output_type": "error",
     "traceback": [
      "\u001b[1;31m---------------------------------------------------------------------------\u001b[0m",
      "\u001b[1;31mTypeError\u001b[0m                                 Traceback (most recent call last)",
      "\u001b[1;32m~\\AppData\\Local\\Temp/ipykernel_7828/310556866.py\u001b[0m in \u001b[0;36m<module>\u001b[1;34m\u001b[0m\n\u001b[1;32m----> 1\u001b[1;33m \u001b[0mt1\u001b[0m\u001b[1;33m[\u001b[0m\u001b[1;36m0\u001b[0m\u001b[1;33m]\u001b[0m\u001b[1;33m=\u001b[0m\u001b[1;34m\"vhgbjhj\"\u001b[0m\u001b[1;33m\u001b[0m\u001b[1;33m\u001b[0m\u001b[0m\n\u001b[0m",
      "\u001b[1;31mTypeError\u001b[0m: 'tuple' object does not support item assignment"
     ]
    }
   ],
   "source": [
    "t1[0]=\"vhgbjhj\""
   ]
  },
  {
   "cell_type": "code",
   "execution_count": 301,
   "id": "ea2b983d",
   "metadata": {},
   "outputs": [
    {
     "data": {
      "text/plain": [
       "[[3, 4, 'yourname', 6], ('sd', 435, 56), 'ushd']"
      ]
     },
     "execution_count": 301,
     "metadata": {},
     "output_type": "execute_result"
    }
   ],
   "source": [
    "list(t1)"
   ]
  },
  {
   "cell_type": "code",
   "execution_count": 302,
   "id": "ad33d4b9",
   "metadata": {},
   "outputs": [
    {
     "data": {
      "text/plain": [
       "('kumar', 345, (45+78j), 546.56, True)"
      ]
     },
     "execution_count": 302,
     "metadata": {},
     "output_type": "execute_result"
    }
   ],
   "source": [
    "tuple(l)"
   ]
  },
  {
   "cell_type": "code",
   "execution_count": 303,
   "id": "f8b33d38",
   "metadata": {},
   "outputs": [],
   "source": [
    "l=[565,7777,33,4,5,6,3,5,7,8,9,222,6676,6,7,8,3]"
   ]
  },
  {
   "cell_type": "code",
   "execution_count": 304,
   "id": "f9889432",
   "metadata": {},
   "outputs": [
    {
     "data": {
      "text/plain": [
       "[565, 7777, 33, 4, 5, 6, 3, 5, 7, 8, 9, 222, 6676, 6, 7, 8, 3]"
      ]
     },
     "execution_count": 304,
     "metadata": {},
     "output_type": "execute_result"
    }
   ],
   "source": [
    "l"
   ]
  },
  {
   "cell_type": "code",
   "execution_count": 305,
   "id": "badb910a",
   "metadata": {},
   "outputs": [
    {
     "data": {
      "text/plain": [
       "{3, 4, 5, 6, 7, 8, 9, 33, 222, 565, 6676, 7777}"
      ]
     },
     "execution_count": 305,
     "metadata": {},
     "output_type": "execute_result"
    }
   ],
   "source": [
    "set(l)"
   ]
  },
  {
   "cell_type": "code",
   "execution_count": 306,
   "id": "68ce6870",
   "metadata": {},
   "outputs": [],
   "source": [
    "s={}"
   ]
  },
  {
   "cell_type": "code",
   "execution_count": 307,
   "id": "d33d1ee9",
   "metadata": {},
   "outputs": [
    {
     "data": {
      "text/plain": [
       "{}"
      ]
     },
     "execution_count": 307,
     "metadata": {},
     "output_type": "execute_result"
    }
   ],
   "source": [
    "s"
   ]
  },
  {
   "cell_type": "code",
   "execution_count": 308,
   "id": "2fd01f0b",
   "metadata": {},
   "outputs": [
    {
     "data": {
      "text/plain": [
       "dict"
      ]
     },
     "execution_count": 308,
     "metadata": {},
     "output_type": "execute_result"
    }
   ],
   "source": [
    "type(s)"
   ]
  },
  {
   "cell_type": "code",
   "execution_count": 309,
   "id": "738c32fb",
   "metadata": {},
   "outputs": [],
   "source": [
    "s1={2,3,4}"
   ]
  },
  {
   "cell_type": "code",
   "execution_count": 310,
   "id": "0d2af30b",
   "metadata": {},
   "outputs": [
    {
     "data": {
      "text/plain": [
       "{2, 3, 4}"
      ]
     },
     "execution_count": 310,
     "metadata": {},
     "output_type": "execute_result"
    }
   ],
   "source": [
    "s1"
   ]
  },
  {
   "cell_type": "code",
   "execution_count": 311,
   "id": "815d5057",
   "metadata": {},
   "outputs": [
    {
     "data": {
      "text/plain": [
       "set"
      ]
     },
     "execution_count": 311,
     "metadata": {},
     "output_type": "execute_result"
    }
   ],
   "source": [
    "type(s1)"
   ]
  },
  {
   "cell_type": "code",
   "execution_count": 312,
   "id": "11ae8c2c",
   "metadata": {},
   "outputs": [],
   "source": [
    "s2={555, 5,5,1,1,1,1,2,3,4,4,4,2,2,3,3,3}"
   ]
  },
  {
   "cell_type": "code",
   "execution_count": 313,
   "id": "5bbd8aed",
   "metadata": {},
   "outputs": [
    {
     "data": {
      "text/plain": [
       "{1, 2, 3, 4, 5, 555}"
      ]
     },
     "execution_count": 313,
     "metadata": {},
     "output_type": "execute_result"
    }
   ],
   "source": [
    "s2"
   ]
  },
  {
   "cell_type": "code",
   "execution_count": 315,
   "id": "573d878f",
   "metadata": {},
   "outputs": [
    {
     "ename": "SyntaxError",
     "evalue": "invalid syntax (Temp/ipykernel_7828/1761915911.py, line 1)",
     "output_type": "error",
     "traceback": [
      "\u001b[1;36m  File \u001b[1;32m\"C:\\Users\\Utkarsh\\AppData\\Local\\Temp/ipykernel_7828/1761915911.py\"\u001b[1;36m, line \u001b[1;32m1\u001b[0m\n\u001b[1;33m    s2{}\u001b[0m\n\u001b[1;37m      ^\u001b[0m\n\u001b[1;31mSyntaxError\u001b[0m\u001b[1;31m:\u001b[0m invalid syntax\n"
     ]
    }
   ],
   "source": [
    "s2{}"
   ]
  },
  {
   "cell_type": "code",
   "execution_count": 316,
   "id": "88c49c5a",
   "metadata": {},
   "outputs": [
    {
     "ename": "TypeError",
     "evalue": "'set' object is not subscriptable",
     "output_type": "error",
     "traceback": [
      "\u001b[1;31m---------------------------------------------------------------------------\u001b[0m",
      "\u001b[1;31mTypeError\u001b[0m                                 Traceback (most recent call last)",
      "\u001b[1;32m~\\AppData\\Local\\Temp/ipykernel_7828/2344841457.py\u001b[0m in \u001b[0;36m<module>\u001b[1;34m\u001b[0m\n\u001b[1;32m----> 1\u001b[1;33m \u001b[0ms2\u001b[0m\u001b[1;33m[\u001b[0m\u001b[1;36m0\u001b[0m\u001b[1;33m]\u001b[0m\u001b[1;33m\u001b[0m\u001b[1;33m\u001b[0m\u001b[0m\n\u001b[0m",
      "\u001b[1;31mTypeError\u001b[0m: 'set' object is not subscriptable"
     ]
    }
   ],
   "source": [
    "s2[0]"
   ]
  },
  {
   "cell_type": "code",
   "execution_count": 317,
   "id": "217497ae",
   "metadata": {},
   "outputs": [],
   "source": [
    "l=list[s2]"
   ]
  },
  {
   "cell_type": "code",
   "execution_count": 318,
   "id": "97341873",
   "metadata": {},
   "outputs": [
    {
     "data": {
      "text/plain": [
       "list[{1, 2, 3, 4, 5, 555}]"
      ]
     },
     "execution_count": 318,
     "metadata": {},
     "output_type": "execute_result"
    }
   ],
   "source": [
    "l"
   ]
  },
  {
   "cell_type": "code",
   "execution_count": 319,
   "id": "bf370017",
   "metadata": {},
   "outputs": [
    {
     "ename": "TypeError",
     "evalue": "There are no type variables left in list[{1, 2, 3, 4, 5, 555}]",
     "output_type": "error",
     "traceback": [
      "\u001b[1;31m---------------------------------------------------------------------------\u001b[0m",
      "\u001b[1;31mTypeError\u001b[0m                                 Traceback (most recent call last)",
      "\u001b[1;32m~\\AppData\\Local\\Temp/ipykernel_7828/3849991813.py\u001b[0m in \u001b[0;36m<module>\u001b[1;34m\u001b[0m\n\u001b[1;32m----> 1\u001b[1;33m \u001b[0ml\u001b[0m\u001b[1;33m[\u001b[0m\u001b[1;36m0\u001b[0m\u001b[1;33m]\u001b[0m\u001b[1;33m\u001b[0m\u001b[1;33m\u001b[0m\u001b[0m\n\u001b[0m",
      "\u001b[1;31mTypeError\u001b[0m: There are no type variables left in list[{1, 2, 3, 4, 5, 555}]"
     ]
    }
   ],
   "source": [
    "l[0]"
   ]
  },
  {
   "cell_type": "code",
   "execution_count": 320,
   "id": "773527b7",
   "metadata": {},
   "outputs": [
    {
     "data": {
      "text/plain": [
       "{1, 2, 3, 4, 5, 555}"
      ]
     },
     "execution_count": 320,
     "metadata": {},
     "output_type": "execute_result"
    }
   ],
   "source": [
    "s2"
   ]
  },
  {
   "cell_type": "code",
   "execution_count": 324,
   "id": "90b707da",
   "metadata": {},
   "outputs": [],
   "source": [
    "s2.add(\"sudh\")"
   ]
  },
  {
   "cell_type": "code",
   "execution_count": 322,
   "id": "e024c9c4",
   "metadata": {},
   "outputs": [
    {
     "data": {
      "text/plain": [
       "{1, 2, 3, 4, 5, 555, 'sudh'}"
      ]
     },
     "execution_count": 322,
     "metadata": {},
     "output_type": "execute_result"
    }
   ],
   "source": [
    "s2"
   ]
  },
  {
   "cell_type": "code",
   "execution_count": 323,
   "id": "b4c295c3",
   "metadata": {},
   "outputs": [
    {
     "data": {
      "text/plain": [
       "{1, 2, 3, 4, 5, 555, 'sudh'}"
      ]
     },
     "execution_count": 323,
     "metadata": {},
     "output_type": "execute_result"
    }
   ],
   "source": [
    "s2"
   ]
  },
  {
   "cell_type": "code",
   "execution_count": 325,
   "id": "e3926f22",
   "metadata": {},
   "outputs": [
    {
     "ename": "TypeError",
     "evalue": "unhashable type: 'list'",
     "output_type": "error",
     "traceback": [
      "\u001b[1;31m---------------------------------------------------------------------------\u001b[0m",
      "\u001b[1;31mTypeError\u001b[0m                                 Traceback (most recent call last)",
      "\u001b[1;32m~\\AppData\\Local\\Temp/ipykernel_7828/865997819.py\u001b[0m in \u001b[0;36m<module>\u001b[1;34m\u001b[0m\n\u001b[1;32m----> 1\u001b[1;33m \u001b[0ms2\u001b[0m\u001b[1;33m.\u001b[0m\u001b[0madd\u001b[0m\u001b[1;33m(\u001b[0m\u001b[1;33m[\u001b[0m\u001b[1;36m3\u001b[0m\u001b[1;33m,\u001b[0m\u001b[1;36m4\u001b[0m\u001b[1;33m,\u001b[0m\u001b[1;36m5\u001b[0m\u001b[1;33m,\u001b[0m\u001b[1;36m6\u001b[0m\u001b[1;33m]\u001b[0m\u001b[1;33m)\u001b[0m\u001b[1;33m\u001b[0m\u001b[1;33m\u001b[0m\u001b[0m\n\u001b[0m",
      "\u001b[1;31mTypeError\u001b[0m: unhashable type: 'list'"
     ]
    }
   ],
   "source": [
    "s2.add([3,4,5,6])"
   ]
  },
  {
   "cell_type": "code",
   "execution_count": 326,
   "id": "25922fc4",
   "metadata": {},
   "outputs": [
    {
     "data": {
      "text/plain": [
       "([3, 4, 'yourname', 6], ('sd', 435, 56), 'ushd')"
      ]
     },
     "execution_count": 326,
     "metadata": {},
     "output_type": "execute_result"
    }
   ],
   "source": [
    "t1"
   ]
  },
  {
   "cell_type": "code",
   "execution_count": 327,
   "id": "da6f1f28",
   "metadata": {},
   "outputs": [
    {
     "ename": "TypeError",
     "evalue": "unhashable type: 'list'",
     "output_type": "error",
     "traceback": [
      "\u001b[1;31m---------------------------------------------------------------------------\u001b[0m",
      "\u001b[1;31mTypeError\u001b[0m                                 Traceback (most recent call last)",
      "\u001b[1;32m~\\AppData\\Local\\Temp/ipykernel_7828/4103858593.py\u001b[0m in \u001b[0;36m<module>\u001b[1;34m\u001b[0m\n\u001b[1;32m----> 1\u001b[1;33m \u001b[1;33m{\u001b[0m\u001b[1;33m[\u001b[0m\u001b[1;36m3\u001b[0m\u001b[1;33m,\u001b[0m\u001b[1;36m4\u001b[0m\u001b[1;33m,\u001b[0m\u001b[1;36m5\u001b[0m\u001b[1;33m,\u001b[0m\u001b[1;36m6\u001b[0m\u001b[1;33m]\u001b[0m\u001b[1;33m,\u001b[0m\u001b[1;36m3\u001b[0m\u001b[1;33m,\u001b[0m\u001b[1;36m4\u001b[0m\u001b[1;33m,\u001b[0m\u001b[1;36m5\u001b[0m\u001b[1;33m,\u001b[0m\u001b[1;36m3\u001b[0m\u001b[1;33m,\u001b[0m\u001b[1;36m4\u001b[0m\u001b[1;33m,\u001b[0m\u001b[1;36m5\u001b[0m\u001b[1;33m}\u001b[0m\u001b[1;33m\u001b[0m\u001b[1;33m\u001b[0m\u001b[0m\n\u001b[0m",
      "\u001b[1;31mTypeError\u001b[0m: unhashable type: 'list'"
     ]
    }
   ],
   "source": [
    "{[3,4,5,6],3,4,5,3,4,5}"
   ]
  },
  {
   "cell_type": "code",
   "execution_count": 328,
   "id": "25f04b1f",
   "metadata": {},
   "outputs": [
    {
     "data": {
      "text/plain": [
       "{(3, 4, 5, 6), 3, 4, 5}"
      ]
     },
     "execution_count": 328,
     "metadata": {},
     "output_type": "execute_result"
    }
   ],
   "source": [
    "{(3,4,5,6),3,4,5,3,4,5}"
   ]
  },
  {
   "cell_type": "code",
   "execution_count": 330,
   "id": "04aae0df",
   "metadata": {},
   "outputs": [],
   "source": [
    "s={(3,4,5,6),(3,4,5,6),3,4,5,3,4,5}"
   ]
  },
  {
   "cell_type": "code",
   "execution_count": 331,
   "id": "0137caad",
   "metadata": {},
   "outputs": [
    {
     "data": {
      "text/plain": [
       "{(3, 4, 5, 6), 3, 4, 5}"
      ]
     },
     "execution_count": 331,
     "metadata": {},
     "output_type": "execute_result"
    }
   ],
   "source": [
    "s"
   ]
  },
  {
   "cell_type": "code",
   "execution_count": 332,
   "id": "80c37643",
   "metadata": {},
   "outputs": [],
   "source": [
    "s.remove(4)"
   ]
  },
  {
   "cell_type": "code",
   "execution_count": 333,
   "id": "26c71e89",
   "metadata": {},
   "outputs": [
    {
     "data": {
      "text/plain": [
       "{(3, 4, 5, 6), 3, 5}"
      ]
     },
     "execution_count": 333,
     "metadata": {},
     "output_type": "execute_result"
    }
   ],
   "source": [
    "s"
   ]
  },
  {
   "cell_type": "code",
   "execution_count": 334,
   "id": "21c48387",
   "metadata": {},
   "outputs": [],
   "source": [
    " s.discard(5)"
   ]
  },
  {
   "cell_type": "code",
   "execution_count": 335,
   "id": "8d51b887",
   "metadata": {},
   "outputs": [
    {
     "data": {
      "text/plain": [
       "{(3, 4, 5, 6), 3}"
      ]
     },
     "execution_count": 335,
     "metadata": {},
     "output_type": "execute_result"
    }
   ],
   "source": [
    "s"
   ]
  },
  {
   "cell_type": "code",
   "execution_count": 336,
   "id": "9ee9a41e",
   "metadata": {},
   "outputs": [
    {
     "ename": "KeyError",
     "evalue": "7",
     "output_type": "error",
     "traceback": [
      "\u001b[1;31m---------------------------------------------------------------------------\u001b[0m",
      "\u001b[1;31mKeyError\u001b[0m                                  Traceback (most recent call last)",
      "\u001b[1;32m~\\AppData\\Local\\Temp/ipykernel_7828/3088759934.py\u001b[0m in \u001b[0;36m<module>\u001b[1;34m\u001b[0m\n\u001b[1;32m----> 1\u001b[1;33m \u001b[0ms\u001b[0m\u001b[1;33m.\u001b[0m\u001b[0mremove\u001b[0m\u001b[1;33m(\u001b[0m\u001b[1;36m7\u001b[0m\u001b[1;33m)\u001b[0m\u001b[1;33m\u001b[0m\u001b[1;33m\u001b[0m\u001b[0m\n\u001b[0m",
      "\u001b[1;31mKeyError\u001b[0m: 7"
     ]
    }
   ],
   "source": [
    "s.remove(7)"
   ]
  },
  {
   "cell_type": "code",
   "execution_count": 339,
   "id": "ad538951",
   "metadata": {},
   "outputs": [],
   "source": [
    "s.discard(7)"
   ]
  },
  {
   "cell_type": "code",
   "execution_count": 340,
   "id": "f43a5a28",
   "metadata": {},
   "outputs": [
    {
     "data": {
      "text/plain": [
       "{(3, 4, 5, 6), 3}"
      ]
     },
     "execution_count": 340,
     "metadata": {},
     "output_type": "execute_result"
    }
   ],
   "source": [
    "s"
   ]
  },
  {
   "cell_type": "code",
   "execution_count": 341,
   "id": "e2dec439",
   "metadata": {},
   "outputs": [],
   "source": [
    "s={\"sudh\", \"Sudh\"}"
   ]
  },
  {
   "cell_type": "code",
   "execution_count": 342,
   "id": "d107a4f5",
   "metadata": {},
   "outputs": [
    {
     "data": {
      "text/plain": [
       "{'Sudh', 'sudh'}"
      ]
     },
     "execution_count": 342,
     "metadata": {},
     "output_type": "execute_result"
    }
   ],
   "source": [
    "s"
   ]
  },
  {
   "cell_type": "code",
   "execution_count": 343,
   "id": "f9034a29",
   "metadata": {},
   "outputs": [
    {
     "ename": "TypeError",
     "evalue": "'set' object is not subscriptable",
     "output_type": "error",
     "traceback": [
      "\u001b[1;31m---------------------------------------------------------------------------\u001b[0m",
      "\u001b[1;31mTypeError\u001b[0m                                 Traceback (most recent call last)",
      "\u001b[1;32m~\\AppData\\Local\\Temp/ipykernel_7828/3199264858.py\u001b[0m in \u001b[0;36m<module>\u001b[1;34m\u001b[0m\n\u001b[1;32m----> 1\u001b[1;33m \u001b[0ms\u001b[0m\u001b[1;33m[\u001b[0m\u001b[1;33m:\u001b[0m\u001b[1;33m:\u001b[0m\u001b[1;33m-\u001b[0m\u001b[1;36m1\u001b[0m\u001b[1;33m]\u001b[0m\u001b[1;33m\u001b[0m\u001b[1;33m\u001b[0m\u001b[0m\n\u001b[0m",
      "\u001b[1;31mTypeError\u001b[0m: 'set' object is not subscriptable"
     ]
    }
   ],
   "source": [
    "s[::-1]"
   ]
  },
  {
   "cell_type": "code",
   "execution_count": 344,
   "id": "ea1b9cac",
   "metadata": {},
   "outputs": [
    {
     "ename": "AttributeError",
     "evalue": "'set' object has no attribute 'reverse'",
     "output_type": "error",
     "traceback": [
      "\u001b[1;31m---------------------------------------------------------------------------\u001b[0m",
      "\u001b[1;31mAttributeError\u001b[0m                            Traceback (most recent call last)",
      "\u001b[1;32m~\\AppData\\Local\\Temp/ipykernel_7828/3781647117.py\u001b[0m in \u001b[0;36m<module>\u001b[1;34m\u001b[0m\n\u001b[1;32m----> 1\u001b[1;33m \u001b[0ms\u001b[0m\u001b[1;33m.\u001b[0m\u001b[0mreverse\u001b[0m\u001b[1;33m(\u001b[0m\u001b[1;33m)\u001b[0m\u001b[1;33m\u001b[0m\u001b[1;33m\u001b[0m\u001b[0m\n\u001b[0m",
      "\u001b[1;31mAttributeError\u001b[0m: 'set' object has no attribute 'reverse'"
     ]
    }
   ],
   "source": [
    "s.reverse()"
   ]
  },
  {
   "cell_type": "code",
   "execution_count": 345,
   "id": "fb3ef1f1",
   "metadata": {},
   "outputs": [],
   "source": [
    "l=[3,4,4,4,4,5,5,5,5,6,6,6,6,6,6,6,67,7,7,7,7,7]"
   ]
  },
  {
   "cell_type": "code",
   "execution_count": 346,
   "id": "e83607c4",
   "metadata": {},
   "outputs": [
    {
     "data": {
      "text/plain": [
       "[3, 4, 4, 4, 4, 5, 5, 5, 5, 6, 6, 6, 6, 6, 6, 6, 67, 7, 7, 7, 7, 7]"
      ]
     },
     "execution_count": 346,
     "metadata": {},
     "output_type": "execute_result"
    }
   ],
   "source": [
    "l"
   ]
  },
  {
   "cell_type": "code",
   "execution_count": 347,
   "id": "926f3bde",
   "metadata": {},
   "outputs": [],
   "source": [
    "s=set(l)"
   ]
  },
  {
   "cell_type": "code",
   "execution_count": 348,
   "id": "3159a9c6",
   "metadata": {},
   "outputs": [
    {
     "data": {
      "text/plain": [
       "[3, 4, 4, 4, 4, 5, 5, 5, 5, 6, 6, 6, 6, 6, 6, 6, 67, 7, 7, 7, 7, 7]"
      ]
     },
     "execution_count": 348,
     "metadata": {},
     "output_type": "execute_result"
    }
   ],
   "source": [
    "l"
   ]
  },
  {
   "cell_type": "code",
   "execution_count": 349,
   "id": "0b3fe5ba",
   "metadata": {},
   "outputs": [
    {
     "data": {
      "text/plain": [
       "{3, 4, 5, 6, 7, 67}"
      ]
     },
     "execution_count": 349,
     "metadata": {},
     "output_type": "execute_result"
    }
   ],
   "source": [
    "s"
   ]
  },
  {
   "cell_type": "code",
   "execution_count": 350,
   "id": "674a23ea",
   "metadata": {},
   "outputs": [],
   "source": [
    "d={}"
   ]
  },
  {
   "cell_type": "code",
   "execution_count": 351,
   "id": "a87808a6",
   "metadata": {},
   "outputs": [
    {
     "data": {
      "text/plain": [
       "dict"
      ]
     },
     "execution_count": 351,
     "metadata": {},
     "output_type": "execute_result"
    }
   ],
   "source": [
    "type(d)"
   ]
  },
  {
   "cell_type": "code",
   "execution_count": 352,
   "id": "c4cd36d7",
   "metadata": {},
   "outputs": [],
   "source": [
    "d={4:\"sudh\"}"
   ]
  },
  {
   "cell_type": "code",
   "execution_count": 353,
   "id": "f5d20deb",
   "metadata": {},
   "outputs": [],
   "source": [
    "d1={\"key1\":5445, \"key2\": \"sudh\", 45: [3,4,5,6]}"
   ]
  },
  {
   "cell_type": "code",
   "execution_count": 354,
   "id": "e35e54c7",
   "metadata": {},
   "outputs": [
    {
     "data": {
      "text/plain": [
       "{'key1': 5445, 'key2': 'sudh', 45: [3, 4, 5, 6]}"
      ]
     },
     "execution_count": 354,
     "metadata": {},
     "output_type": "execute_result"
    }
   ],
   "source": [
    "d1"
   ]
  },
  {
   "cell_type": "code",
   "execution_count": 355,
   "id": "2e93d613",
   "metadata": {},
   "outputs": [
    {
     "data": {
      "text/plain": [
       "3"
      ]
     },
     "execution_count": 355,
     "metadata": {},
     "output_type": "execute_result"
    }
   ],
   "source": [
    "d1[45][0]"
   ]
  },
  {
   "cell_type": "code",
   "execution_count": 356,
   "id": "ff1f1873",
   "metadata": {},
   "outputs": [
    {
     "data": {
      "text/plain": [
       "5445"
      ]
     },
     "execution_count": 356,
     "metadata": {},
     "output_type": "execute_result"
    }
   ],
   "source": [
    "d1[\"key1\"]"
   ]
  },
  {
   "cell_type": "code",
   "execution_count": 391,
   "id": "896d4ef1",
   "metadata": {},
   "outputs": [],
   "source": [
    "d = {.4: [\"dfsaf\" , \"dfsf\" , 4,5,6,7,7]}"
   ]
  },
  {
   "cell_type": "code",
   "execution_count": 392,
   "id": "fc030207",
   "metadata": {},
   "outputs": [
    {
     "ename": "KeyError",
     "evalue": "0.42857142857142855",
     "output_type": "error",
     "traceback": [
      "\u001b[1;31m---------------------------------------------------------------------------\u001b[0m",
      "\u001b[1;31mKeyError\u001b[0m                                  Traceback (most recent call last)",
      "\u001b[1;32m~\\AppData\\Local\\Temp/ipykernel_7828/3871199040.py\u001b[0m in \u001b[0;36m<module>\u001b[1;34m\u001b[0m\n\u001b[1;32m----> 1\u001b[1;33m \u001b[0md\u001b[0m\u001b[1;33m[\u001b[0m\u001b[0m_4\u001b[0m\u001b[1;33m]\u001b[0m\u001b[1;33m\u001b[0m\u001b[1;33m\u001b[0m\u001b[0m\n\u001b[0m",
      "\u001b[1;31mKeyError\u001b[0m: 0.42857142857142855"
     ]
    }
   ],
   "source": [
    "d[_4]"
   ]
  },
  {
   "cell_type": "code",
   "execution_count": 393,
   "id": "592ab578",
   "metadata": {},
   "outputs": [
    {
     "ename": "KeyError",
     "evalue": "0.42857142857142855",
     "output_type": "error",
     "traceback": [
      "\u001b[1;31m---------------------------------------------------------------------------\u001b[0m",
      "\u001b[1;31mKeyError\u001b[0m                                  Traceback (most recent call last)",
      "\u001b[1;32m~\\AppData\\Local\\Temp/ipykernel_7828/3871199040.py\u001b[0m in \u001b[0;36m<module>\u001b[1;34m\u001b[0m\n\u001b[1;32m----> 1\u001b[1;33m \u001b[0md\u001b[0m\u001b[1;33m[\u001b[0m\u001b[0m_4\u001b[0m\u001b[1;33m]\u001b[0m\u001b[1;33m\u001b[0m\u001b[1;33m\u001b[0m\u001b[0m\n\u001b[0m",
      "\u001b[1;31mKeyError\u001b[0m: 0.42857142857142855"
     ]
    }
   ],
   "source": [
    "d[_4]"
   ]
  },
  {
   "cell_type": "code",
   "execution_count": 394,
   "id": "6af373f0",
   "metadata": {},
   "outputs": [
    {
     "ename": "SyntaxError",
     "evalue": "invalid syntax (Temp/ipykernel_7828/1669552608.py, line 1)",
     "output_type": "error",
     "traceback": [
      "\u001b[1;36m  File \u001b[1;32m\"C:\\Users\\Utkarsh\\AppData\\Local\\Temp/ipykernel_7828/1669552608.py\"\u001b[1;36m, line \u001b[1;32m1\u001b[0m\n\u001b[1;33m    d = {/4 : 766687878}\u001b[0m\n\u001b[1;37m         ^\u001b[0m\n\u001b[1;31mSyntaxError\u001b[0m\u001b[1;31m:\u001b[0m invalid syntax\n"
     ]
    }
   ],
   "source": [
    "d = {/4 : 766687878}"
   ]
  },
  {
   "cell_type": "code",
   "execution_count": 395,
   "id": "26ea1462",
   "metadata": {},
   "outputs": [
    {
     "data": {
      "text/plain": [
       "{0.4: ['dfsaf', 'dfsf', 4, 5, 6, 7, 7]}"
      ]
     },
     "execution_count": 395,
     "metadata": {},
     "output_type": "execute_result"
    }
   ],
   "source": [
    "d"
   ]
  },
  {
   "cell_type": "code",
   "execution_count": 396,
   "id": "95768338",
   "metadata": {},
   "outputs": [],
   "source": [
    "d1={\"key1\":[2,3,4,5], \"key2\":\"sudh\", \"key1\":45}"
   ]
  },
  {
   "cell_type": "code",
   "execution_count": 397,
   "id": "b51c9290",
   "metadata": {},
   "outputs": [
    {
     "data": {
      "text/plain": [
       "45"
      ]
     },
     "execution_count": 397,
     "metadata": {},
     "output_type": "execute_result"
    }
   ],
   "source": [
    "d1[\"key1\"]"
   ]
  },
  {
   "cell_type": "code",
   "execution_count": 398,
   "id": "a56e741d",
   "metadata": {},
   "outputs": [],
   "source": [
    "d={\"name\" : \"sudhanshu\", \"mo_no\":657689798776, \"mail_id\":\"sudhanshu@xyz.com\", \"key1\":[4,5,6,7], \"key2\": (3,4,5,6), \"key3\":{3,4,5,6,6,7,8,9,3,4,5,6,5,4,4,3,1}, \"key4\": {1:5,4:6}}"
   ]
  },
  {
   "cell_type": "code",
   "execution_count": 366,
   "id": "296673f8",
   "metadata": {},
   "outputs": [
    {
     "data": {
      "text/plain": [
       "{'name': 'sudhanshu',\n",
       " 'mo_no': 657689798776,\n",
       " 'mail_id': 'sudhanshu@xyz.com',\n",
       " 'key1': [4, 5, 6, 7],\n",
       " 'key2': (3, 4, 5, 6),\n",
       " 'key3': {1, 3, 4, 5, 6, 7, 8, 9},\n",
       " 'key4': {1: 5, 4: 6}}"
      ]
     },
     "execution_count": 366,
     "metadata": {},
     "output_type": "execute_result"
    }
   ],
   "source": [
    "d"
   ]
  },
  {
   "cell_type": "code",
   "execution_count": 399,
   "id": "a8a1ffd5",
   "metadata": {},
   "outputs": [
    {
     "data": {
      "text/plain": [
       "dict_keys(['name', 'mo_no', 'mail_id', 'key1', 'key2', 'key3', 'key4'])"
      ]
     },
     "execution_count": 399,
     "metadata": {},
     "output_type": "execute_result"
    }
   ],
   "source": [
    "d.keys()"
   ]
  },
  {
   "cell_type": "code",
   "execution_count": 400,
   "id": "392892ae",
   "metadata": {},
   "outputs": [
    {
     "data": {
      "text/plain": [
       "dict_items"
      ]
     },
     "execution_count": 400,
     "metadata": {},
     "output_type": "execute_result"
    }
   ],
   "source": [
    "type(d.items())"
   ]
  },
  {
   "cell_type": "code",
   "execution_count": 401,
   "id": "7f7d3e8d",
   "metadata": {},
   "outputs": [],
   "source": [
    "d={\"key1\": \"sudh\", \"key2\":[1,2,3,4]}"
   ]
  },
  {
   "cell_type": "code",
   "execution_count": 370,
   "id": "30d4dbc3",
   "metadata": {},
   "outputs": [
    {
     "data": {
      "text/plain": [
       "{'key1': 'sudh', 'key2': [1, 2, 3, 4]}"
      ]
     },
     "execution_count": 370,
     "metadata": {},
     "output_type": "execute_result"
    }
   ],
   "source": [
    "d"
   ]
  },
  {
   "cell_type": "code",
   "execution_count": 402,
   "id": "91ae301c",
   "metadata": {},
   "outputs": [
    {
     "ename": "TypeError",
     "evalue": "unhashable type: 'slice'",
     "output_type": "error",
     "traceback": [
      "\u001b[1;31m---------------------------------------------------------------------------\u001b[0m",
      "\u001b[1;31mTypeError\u001b[0m                                 Traceback (most recent call last)",
      "\u001b[1;32m~\\AppData\\Local\\Temp/ipykernel_7828/4009866558.py\u001b[0m in \u001b[0;36m<module>\u001b[1;34m\u001b[0m\n\u001b[1;32m----> 1\u001b[1;33m \u001b[0md\u001b[0m\u001b[1;33m[\u001b[0m\u001b[1;34m\"key3\"\u001b[0m\u001b[1;33m:\u001b[0m \u001b[1;34m\"kumar\"\u001b[0m\u001b[1;33m]\u001b[0m\u001b[1;33m\u001b[0m\u001b[1;33m\u001b[0m\u001b[0m\n\u001b[0m",
      "\u001b[1;31mTypeError\u001b[0m: unhashable type: 'slice'"
     ]
    }
   ],
   "source": [
    "d[\"key3\": \"kumar\"]"
   ]
  },
  {
   "cell_type": "code",
   "execution_count": 403,
   "id": "ae768435",
   "metadata": {},
   "outputs": [],
   "source": [
    "d[\"key3\"]= \"kumar\""
   ]
  },
  {
   "cell_type": "code",
   "execution_count": 404,
   "id": "db8b87ac",
   "metadata": {},
   "outputs": [
    {
     "data": {
      "text/plain": [
       "{'key1': 'sudh', 'key2': [1, 2, 3, 4], 'key3': 'kumar'}"
      ]
     },
     "execution_count": 404,
     "metadata": {},
     "output_type": "execute_result"
    }
   ],
   "source": [
    "d"
   ]
  },
  {
   "cell_type": "code",
   "execution_count": 405,
   "id": "8a52918c",
   "metadata": {},
   "outputs": [],
   "source": [
    "d[\"key4\"]=[2,34,5,3,]"
   ]
  },
  {
   "cell_type": "code",
   "execution_count": 385,
   "id": "eca7d4f3",
   "metadata": {},
   "outputs": [
    {
     "data": {
      "text/plain": [
       "{'key2': [1, 2, 3, 4], 'key3': 'kumar', 'key4': [2, 34, 5, 3]}"
      ]
     },
     "execution_count": 385,
     "metadata": {},
     "output_type": "execute_result"
    }
   ],
   "source": [
    "d"
   ]
  },
  {
   "cell_type": "code",
   "execution_count": 412,
   "id": "f66e9cda",
   "metadata": {},
   "outputs": [],
   "source": [
    "d[\"key1\"]=\"hsgdjfhjksdf\""
   ]
  },
  {
   "cell_type": "code",
   "execution_count": 413,
   "id": "62609467",
   "metadata": {},
   "outputs": [
    {
     "data": {
      "text/plain": [
       "{'key2': [1, 2, 3, 4],\n",
       " 'key3': 'kumar',\n",
       " 'key4': [2, 34, 5, 3],\n",
       " 'key1': 'hsgdjfhjksdf'}"
      ]
     },
     "execution_count": 413,
     "metadata": {},
     "output_type": "execute_result"
    }
   ],
   "source": [
    "d"
   ]
  },
  {
   "cell_type": "code",
   "execution_count": 414,
   "id": "add3b241",
   "metadata": {},
   "outputs": [
    {
     "data": {
      "text/plain": [
       "{'key2': [1, 2, 3, 4],\n",
       " 'key3': 'kumar',\n",
       " 'key4': [2, 34, 5, 3],\n",
       " 'key1': 'hsgdjfhjksdf'}"
      ]
     },
     "execution_count": 414,
     "metadata": {},
     "output_type": "execute_result"
    }
   ],
   "source": [
    "d"
   ]
  },
  {
   "cell_type": "code",
   "execution_count": 415,
   "id": "d5f37d08",
   "metadata": {},
   "outputs": [],
   "source": [
    "del d['key1']"
   ]
  },
  {
   "cell_type": "code",
   "execution_count": 416,
   "id": "1ecf8cfc",
   "metadata": {},
   "outputs": [
    {
     "data": {
      "text/plain": [
       "{'key2': [1, 2, 3, 4], 'key3': 'kumar', 'key4': [2, 34, 5, 3]}"
      ]
     },
     "execution_count": 416,
     "metadata": {},
     "output_type": "execute_result"
    }
   ],
   "source": [
    "d"
   ]
  },
  {
   "cell_type": "code",
   "execution_count": 417,
   "id": "9e11c490",
   "metadata": {},
   "outputs": [
    {
     "data": {
      "text/plain": [
       "{'k': 46576, 'e': 46576, 'y': 46576, '2': 46576}"
      ]
     },
     "execution_count": 417,
     "metadata": {},
     "output_type": "execute_result"
    }
   ],
   "source": [
    "d.fromkeys(\"key2\", 46576)"
   ]
  },
  {
   "cell_type": "code",
   "execution_count": 419,
   "id": "222a7fbe",
   "metadata": {},
   "outputs": [
    {
     "data": {
      "text/plain": [
       "{'key2': [1, 2, 3, 4], 'key3': 'kumar', 'key4': [2, 34, 5, 3]}"
      ]
     },
     "execution_count": 419,
     "metadata": {},
     "output_type": "execute_result"
    }
   ],
   "source": [
    "d"
   ]
  },
  {
   "cell_type": "code",
   "execution_count": 420,
   "id": "299dcabe",
   "metadata": {},
   "outputs": [],
   "source": [
    "a=10"
   ]
  },
  {
   "cell_type": "code",
   "execution_count": 421,
   "id": "81db562a",
   "metadata": {},
   "outputs": [
    {
     "ename": "SyntaxError",
     "evalue": "invalid syntax (Temp/ipykernel_7828/3513270752.py, line 1)",
     "output_type": "error",
     "traceback": [
      "\u001b[1;36m  File \u001b[1;32m\"C:\\Users\\Utkarsh\\AppData\\Local\\Temp/ipykernel_7828/3513270752.py\"\u001b[1;36m, line \u001b[1;32m1\u001b[0m\n\u001b[1;33m    if a<15\u001b[0m\n\u001b[1;37m           ^\u001b[0m\n\u001b[1;31mSyntaxError\u001b[0m\u001b[1;31m:\u001b[0m invalid syntax\n"
     ]
    }
   ],
   "source": [
    "if a<15"
   ]
  },
  {
   "cell_type": "code",
   "execution_count": 422,
   "id": "cf2dcf8d",
   "metadata": {},
   "outputs": [
    {
     "data": {
      "text/plain": [
       "False"
      ]
     },
     "execution_count": 422,
     "metadata": {},
     "output_type": "execute_result"
    }
   ],
   "source": [
    "a>20"
   ]
  },
  {
   "cell_type": "code",
   "execution_count": 423,
   "id": "6f60a907",
   "metadata": {},
   "outputs": [
    {
     "data": {
      "text/plain": [
       "False"
      ]
     },
     "execution_count": 423,
     "metadata": {},
     "output_type": "execute_result"
    }
   ],
   "source": [
    "a<10"
   ]
  },
  {
   "cell_type": "code",
   "execution_count": 424,
   "id": "aae50f65",
   "metadata": {},
   "outputs": [],
   "source": [
    "a=10"
   ]
  },
  {
   "cell_type": "code",
   "execution_count": 425,
   "id": "d3882c2b",
   "metadata": {},
   "outputs": [
    {
     "ename": "SyntaxError",
     "evalue": "invalid syntax (Temp/ipykernel_7828/3513270752.py, line 1)",
     "output_type": "error",
     "traceback": [
      "\u001b[1;36m  File \u001b[1;32m\"C:\\Users\\Utkarsh\\AppData\\Local\\Temp/ipykernel_7828/3513270752.py\"\u001b[1;36m, line \u001b[1;32m1\u001b[0m\n\u001b[1;33m    if a<15\u001b[0m\n\u001b[1;37m           ^\u001b[0m\n\u001b[1;31mSyntaxError\u001b[0m\u001b[1;31m:\u001b[0m invalid syntax\n"
     ]
    }
   ],
   "source": [
    "if a<15"
   ]
  },
  {
   "cell_type": "code",
   "execution_count": 426,
   "id": "5f19a5f2",
   "metadata": {},
   "outputs": [
    {
     "data": {
      "text/plain": [
       "False"
      ]
     },
     "execution_count": 426,
     "metadata": {},
     "output_type": "execute_result"
    }
   ],
   "source": [
    "a<10"
   ]
  },
  {
   "cell_type": "code",
   "execution_count": 427,
   "id": "37e94942",
   "metadata": {},
   "outputs": [
    {
     "data": {
      "text/plain": [
       "False"
      ]
     },
     "execution_count": 427,
     "metadata": {},
     "output_type": "execute_result"
    }
   ],
   "source": [
    "a>15"
   ]
  },
  {
   "cell_type": "code",
   "execution_count": 428,
   "id": "7d5dc463",
   "metadata": {},
   "outputs": [
    {
     "data": {
      "text/plain": [
       "True"
      ]
     },
     "execution_count": 428,
     "metadata": {},
     "output_type": "execute_result"
    }
   ],
   "source": [
    "a<15"
   ]
  },
  {
   "cell_type": "code",
   "execution_count": 429,
   "id": "32c9758e",
   "metadata": {},
   "outputs": [],
   "source": [
    "a=10"
   ]
  },
  {
   "cell_type": "code",
   "execution_count": 430,
   "id": "41e2251b",
   "metadata": {},
   "outputs": [
    {
     "name": "stdout",
     "output_type": "stream",
     "text": [
      "my name is sudhanshu\n"
     ]
    }
   ],
   "source": [
    "if a<15:\n",
    "    print(\"my name is sudhanshu\")"
   ]
  },
  {
   "cell_type": "code",
   "execution_count": 431,
   "id": "452161b7",
   "metadata": {},
   "outputs": [],
   "source": [
    "if a>15:\n",
    "    pass"
   ]
  },
  {
   "cell_type": "code",
   "execution_count": 432,
   "id": "115b3028",
   "metadata": {},
   "outputs": [
    {
     "data": {
      "text/plain": [
       "True"
      ]
     },
     "execution_count": 432,
     "metadata": {},
     "output_type": "execute_result"
    }
   ],
   "source": [
    "a<15"
   ]
  },
  {
   "cell_type": "code",
   "execution_count": 433,
   "id": "964ca996",
   "metadata": {},
   "outputs": [
    {
     "name": "stdout",
     "output_type": "stream",
     "text": [
      "my name is sudhanshu\n"
     ]
    }
   ],
   "source": [
    "if a<15:\n",
    "    print(\"my name is sudhanshu\")"
   ]
  },
  {
   "cell_type": "code",
   "execution_count": 434,
   "id": "52dbd5ca",
   "metadata": {},
   "outputs": [],
   "source": [
    "if 24<15:\n",
    "    print(\"my name is sudhanshu\")"
   ]
  },
  {
   "cell_type": "code",
   "execution_count": 435,
   "id": "49f9f3c5",
   "metadata": {},
   "outputs": [
    {
     "data": {
      "text/plain": [
       "False"
      ]
     },
     "execution_count": 435,
     "metadata": {},
     "output_type": "execute_result"
    }
   ],
   "source": [
    "24<15"
   ]
  },
  {
   "cell_type": "code",
   "execution_count": 436,
   "id": "2227b46a",
   "metadata": {},
   "outputs": [
    {
     "name": "stdout",
     "output_type": "stream",
     "text": [
      "the given statement is wrong\n"
     ]
    }
   ],
   "source": [
    "if 10<3:\n",
    "    print(\"10 is lesser than 3\")\n",
    "else:\n",
    "    print(\"the given statement is wrong\")"
   ]
  },
  {
   "cell_type": "code",
   "execution_count": 437,
   "id": "ac6bdc49",
   "metadata": {},
   "outputs": [
    {
     "name": "stdout",
     "output_type": "stream",
     "text": [
      "10 is lesser than 3\n"
     ]
    }
   ],
   "source": [
    "if 1<3:\n",
    "    print(\"10 is lesser than 3\")\n",
    "else:\n",
    "    print(\"the given statement is wrong\")"
   ]
  },
  {
   "cell_type": "code",
   "execution_count": 438,
   "id": "35e4f0d0",
   "metadata": {},
   "outputs": [
    {
     "name": "stdout",
     "output_type": "stream",
     "text": [
      "I will not be able to buy anything\n"
     ]
    }
   ],
   "source": [
    "income=100\n",
    "if income<50:\n",
    "    print(\"I will be able to buy phone\")\n",
    "elif income<70:\n",
    "    print(\"i will be able to buy a car\")\n",
    "elif income<90:\n",
    "    print(\"i will be able to rent a house\")\n",
    "else:\n",
    "    print(\"I will not be able to buy anything\")"
   ]
  },
  {
   "cell_type": "code",
   "execution_count": 439,
   "id": "cf4b175f",
   "metadata": {},
   "outputs": [
    {
     "name": "stdout",
     "output_type": "stream",
     "text": [
      "3456\n",
      "I will not be able to buy anything\n"
     ]
    }
   ],
   "source": [
    "income=int(input())\n",
    "if income<50:\n",
    "    print(\"I will be able to buy phone\")\n",
    "elif income<70:\n",
    "    print(\"i will be able to buy a car\")\n",
    "elif income<90:\n",
    "    print(\"i will be able to rent a house\")\n",
    "else:\n",
    "    print(\"I will not be able to buy anything\")"
   ]
  },
  {
   "cell_type": "code",
   "execution_count": 475,
   "id": "e36ffcc5",
   "metadata": {},
   "outputs": [
    {
     "name": "stdout",
     "output_type": "stream",
     "text": [
      "1234\n",
      "Discount will be 61.7\n"
     ]
    }
   ],
   "source": [
    " Total_price = int(input())\n",
    "if Total_price > 20000:\n",
    "    discount = Total_price*0.2\n",
    "    print(\"Discount will be\", discount)\n",
    "elif Total_price <= 7000:\n",
    "    discount = Total_price*.05\n",
    "    print(\"Discount will be\", discount)\n",
    "else:\n",
    "    print(\"Wont be given any discount\")"
   ]
  },
  {
   "cell_type": "code",
   "execution_count": 441,
   "id": "20aeb5c5",
   "metadata": {},
   "outputs": [
    {
     "name": "stdout",
     "output_type": "stream",
     "text": [
      "3456\n",
      "kindly use a valid coupon code\n"
     ]
    }
   ],
   "source": [
    "coup=input()\n",
    "if coup==\"SUDHANSHU5\":\n",
    "    print(\"You will be able to avail a discount of 5%\")\n",
    "    paid_amount=7080*.95\n",
    "    print(\"you would be able to get one neuron subscription at this amount of\", paid_amount)\n",
    "else:\n",
    "    print(\"kindly use a valid coupon code\")"
   ]
  },
  {
   "cell_type": "code",
   "execution_count": 442,
   "id": "ed3b57ed",
   "metadata": {},
   "outputs": [
    {
     "name": "stdout",
     "output_type": "stream",
     "text": [
      "45678\n",
      "It may take 6 months of time to make a transition\n"
     ]
    }
   ],
   "source": [
    "study_hour=float(input())\n",
    "if study_hour<=1:\n",
    "    print(\"It may take 8-9 months of time to make a transition\")\n",
    "elif study_hour<4 and study_hour>1:\n",
    "    print(\"It may take 6 months of time to make a transition\")\n",
    "elif study_hour>10:\n",
    "    print(\"It may take 6 months of time to make a transition\")\n",
    "else:\n",
    "    print(\"It will be difficult\")\n",
    "    "
   ]
  },
  {
   "cell_type": "code",
   "execution_count": 443,
   "id": "f896fc73",
   "metadata": {},
   "outputs": [
    {
     "name": "stdout",
     "output_type": "stream",
     "text": [
      "It is valid even if you use if and print in a single line\n"
     ]
    }
   ],
   "source": [
    "a=9\n",
    "if a==9:print(\"It is valid even if you use if and print in a single line\")"
   ]
  },
  {
   "cell_type": "code",
   "execution_count": 444,
   "id": "a2a4ad21",
   "metadata": {},
   "outputs": [
    {
     "name": "stdout",
     "output_type": "stream",
     "text": [
      "enter a string to startdfghj\n",
      "enter a course namefghjkl\n",
      "enter a service namefghjkl;\n",
      "kindly connect with our team\n"
     ]
    }
   ],
   "source": [
    "s=input(\"enter a string to start\")\n",
    "course=input(\"enter a course name\")\n",
    "service=input(\"enter a service name\")\n",
    "if s==\"oneneuron\":\n",
    "    if course==\"DSA\":\n",
    "        print(\"yes its available under one neuron and in multiple mode for core concept\")\n",
    "    elif course==\"Blockchain\":\n",
    "        print(\"this is not available as of now, kindly raise your demand and we will fulfil in 60 days\")\n",
    "    elif course==\"FSDS\":\n",
    "        print(\"yes its available, you can start learning\")\n",
    "    else:\n",
    "        print(\"this course is not available, kindly raise your demand\")\n",
    "elif s==\"oneneuronservice\":\n",
    "    if service==\"courserequest\":\n",
    "        print(\"*NOTE: Dear Learner, you can raise demand related to any new course, and we will fulfil your need in the next 60 days.\")\n",
    "    elif service==\"module\":\n",
    "        print(\"*NOTE: Dear Learner, you can raise demand related to any new course module, and we will fulfil your need in the next 30 days.\")\n",
    "    elif service==\"doubt\":\n",
    "        print(\"*NOTE: Dear Learner, you can raise demand related to any new course, and we will fulfil your need in the next 30 days.\")\n",
    "    elif service==\"workwithus\":\n",
    "        print(\"*NOTE: Dear Learner, you can raise demand related to any new course, and we will fulfil your need in the next 30 days.\")\n",
    "    else:\n",
    "        print(\"kindly provide us your feedback and we will fulfil\")\n",
    "else:\n",
    "    print(\"kindly connect with our team\")"
   ]
  },
  {
   "cell_type": "code",
   "execution_count": 445,
   "id": "e4f4050e",
   "metadata": {},
   "outputs": [
    {
     "name": "stdout",
     "output_type": "stream",
     "text": [
      "1\n",
      "2\n",
      "3\n",
      "4\n",
      "5\n",
      "6\n",
      "7\n"
     ]
    }
   ],
   "source": [
    "l=[1,2,3,4,5,6,7]\n",
    "for i in l:\n",
    "    print(i)"
   ]
  },
  {
   "cell_type": "code",
   "execution_count": 446,
   "id": "efda78ef",
   "metadata": {},
   "outputs": [
    {
     "name": "stdout",
     "output_type": "stream",
     "text": [
      "s\n",
      "u\n",
      "d\n",
      "h\n"
     ]
    }
   ],
   "source": [
    "s=\"sudh\"\n",
    "for i in s:print(i)"
   ]
  },
  {
   "cell_type": "code",
   "execution_count": 447,
   "id": "5ad8ffa4",
   "metadata": {},
   "outputs": [],
   "source": [
    "t=(1,2,3,4,5,6)"
   ]
  },
  {
   "cell_type": "code",
   "execution_count": 448,
   "id": "9afbbb5b",
   "metadata": {},
   "outputs": [
    {
     "name": "stdout",
     "output_type": "stream",
     "text": [
      "1\n",
      "2\n",
      "3\n",
      "4\n",
      "5\n",
      "6\n"
     ]
    }
   ],
   "source": [
    "for i in t: print(i)"
   ]
  },
  {
   "cell_type": "code",
   "execution_count": 449,
   "id": "1fef4b42",
   "metadata": {},
   "outputs": [],
   "source": [
    "l=[1,4,5.6,4+7j,\"sudh\"]"
   ]
  },
  {
   "cell_type": "code",
   "execution_count": 450,
   "id": "d1b161eb",
   "metadata": {},
   "outputs": [
    {
     "name": "stdout",
     "output_type": "stream",
     "text": [
      "<class 'int'> type of 1\n",
      "<class 'int'> type of 4\n",
      "<class 'float'> type of 5.6\n",
      "<class 'complex'> type of (4+7j)\n",
      "<class 'str'> type of sudh\n"
     ]
    }
   ],
   "source": [
    "for i in l: print(type(i), \"type of\", i)"
   ]
  },
  {
   "cell_type": "code",
   "execution_count": 451,
   "id": "74b67757",
   "metadata": {},
   "outputs": [
    {
     "data": {
      "text/plain": [
       "int"
      ]
     },
     "execution_count": 451,
     "metadata": {},
     "output_type": "execute_result"
    }
   ],
   "source": [
    "type(1)"
   ]
  },
  {
   "cell_type": "code",
   "execution_count": 452,
   "id": "d11f4591",
   "metadata": {},
   "outputs": [
    {
     "name": "stdout",
     "output_type": "stream",
     "text": [
      "3\n",
      "6\n",
      "7\n",
      "8\n"
     ]
    }
   ],
   "source": [
    "l=[1,4,5,6]\n",
    "for i in l:\n",
    "    print(i+2)"
   ]
  },
  {
   "cell_type": "code",
   "execution_count": 479,
   "id": "e19a0865",
   "metadata": {},
   "outputs": [
    {
     "name": "stdout",
     "output_type": "stream",
     "text": [
      "3\n",
      "6\n",
      "7\n",
      "8\n",
      "[3, 6, 7, 8]\n"
     ]
    }
   ],
   "source": [
    "l=[1,4,5,6]\n",
    "l1=[]\n",
    "for i in l:\n",
    "    print(i+2)\n",
    "    l1.append(i+2)\n",
    "print(l1) "
   ]
  },
  {
   "cell_type": "code",
   "execution_count": 481,
   "id": "1f377436",
   "metadata": {},
   "outputs": [
    {
     "name": "stdout",
     "output_type": "stream",
     "text": [
      "[3, 6, 7, 8]\n"
     ]
    }
   ],
   "source": [
    "l=[1,4,5,6]\n",
    "l1=[]\n",
    "for i in l:\n",
    "    l1.append(i+2)\n",
    "print(l1) "
   ]
  },
  {
   "cell_type": "code",
   "execution_count": 454,
   "id": "bbcb4798",
   "metadata": {},
   "outputs": [
    {
     "data": {
      "text/plain": [
       "[3, 6, 7, 8]"
      ]
     },
     "execution_count": 454,
     "metadata": {},
     "output_type": "execute_result"
    }
   ],
   "source": [
    "l1"
   ]
  },
  {
   "cell_type": "code",
   "execution_count": 455,
   "id": "e59b61b2",
   "metadata": {},
   "outputs": [],
   "source": [
    "l=[2,45,78,12,\"sudh\", 6+7j, [56,67,78]]"
   ]
  },
  {
   "cell_type": "code",
   "execution_count": 456,
   "id": "7bb1e0c3",
   "metadata": {},
   "outputs": [
    {
     "name": "stdout",
     "output_type": "stream",
     "text": [
      "2\n",
      "45\n",
      "78\n",
      "12\n"
     ]
    }
   ],
   "source": [
    "for i in l:\n",
    "    if type(i)== int:\n",
    "        print(i)\n",
    "    "
   ]
  },
  {
   "cell_type": "code",
   "execution_count": 457,
   "id": "80d47d26",
   "metadata": {},
   "outputs": [
    {
     "name": "stdout",
     "output_type": "stream",
     "text": [
      "2\n",
      "45\n",
      "78\n",
      "12\n",
      "56\n",
      "67\n",
      "78\n"
     ]
    }
   ],
   "source": [
    "for i in l:\n",
    "    if type(i)== int:\n",
    "        print(i)\n",
    "    elif type(i)==list:\n",
    "        for j in i:\n",
    "            if type(j)==int:\n",
    "                print(j)"
   ]
  },
  {
   "cell_type": "code",
   "execution_count": 458,
   "id": "e8e11cec",
   "metadata": {},
   "outputs": [
    {
     "ename": "SyntaxError",
     "evalue": "invalid syntax (Temp/ipykernel_7828/2662426837.py, line 1)",
     "output_type": "error",
     "traceback": [
      "\u001b[1;36m  File \u001b[1;32m\"C:\\Users\\Utkarsh\\AppData\\Local\\Temp/ipykernel_7828/2662426837.py\"\u001b[1;36m, line \u001b[1;32m1\u001b[0m\n\u001b[1;33m    for in 6565646546:\u001b[0m\n\u001b[1;37m        ^\u001b[0m\n\u001b[1;31mSyntaxError\u001b[0m\u001b[1;31m:\u001b[0m invalid syntax\n"
     ]
    }
   ],
   "source": [
    "for in 6565646546:"
   ]
  },
  {
   "cell_type": "code",
   "execution_count": 486,
   "id": "95d51861",
   "metadata": {},
   "outputs": [],
   "source": [
    "l=[2,45,78,12,12,12,12,\"sudh\" , 6+7j, [56,67,78,\"dsfdsf\"]]\n",
    "\n",
    "#q1 try to print index of all the element\n",
    "#q2 try to extract all the list of char if element is string\n",
    "#q2 try to return a list after doing a square of all the int element"
   ]
  },
  {
   "cell_type": "code",
   "execution_count": 487,
   "id": "b702ab16",
   "metadata": {},
   "outputs": [
    {
     "name": "stdout",
     "output_type": "stream",
     "text": [
      "0 is the index of 2\n",
      "1 is the index of 45\n",
      "2 is the index of 78\n",
      "3 is the index of 12\n",
      "3 is the index of 12\n",
      "3 is the index of 12\n",
      "3 is the index of 12\n",
      "7 is the index of sudh\n",
      "8 is the index of (6+7j)\n",
      "9 is the index of [56, 67, 78, 'dsfdsf']\n"
     ]
    }
   ],
   "source": [
    "for i in l:\n",
    "    print(l.index(i), \"is the index of\", i)"
   ]
  },
  {
   "cell_type": "code",
   "execution_count": 490,
   "id": "54b09666",
   "metadata": {},
   "outputs": [
    {
     "name": "stdout",
     "output_type": "stream",
     "text": [
      "sudh\n"
     ]
    }
   ],
   "source": [
    "l1=[]\n",
    "for i in l:\n",
    "    if type(i)==str:\n",
    "        print(i)\n",
    "        l1.append(i)"
   ]
  },
  {
   "cell_type": "code",
   "execution_count": 491,
   "id": "128cdbf8",
   "metadata": {},
   "outputs": [
    {
     "name": "stdout",
     "output_type": "stream",
     "text": [
      "index 0 for the element 2\n",
      "index 1 for the element 45\n",
      "index 2 for the element 78\n",
      "index 3 for the element 12\n",
      "index 4 for the element 12\n",
      "index 5 for the element 12\n",
      "index 6 for the element 12\n",
      "index 7 for the element sudh\n",
      "index 8 for the element (6+7j)\n",
      "index 9 for the element [56, 67, 78, 'dsfdsf']\n"
     ]
    }
   ],
   "source": [
    "for i in range(len(l)):\n",
    "    print(\"index\", i, \"for the element\", l[i])"
   ]
  },
  {
   "cell_type": "code",
   "execution_count": 492,
   "id": "2519525b",
   "metadata": {},
   "outputs": [
    {
     "name": "stdout",
     "output_type": "stream",
     "text": [
      "(0, 2)\n",
      "(1, 45)\n",
      "(2, 78)\n",
      "(3, 12)\n",
      "(4, 12)\n",
      "(5, 12)\n",
      "(6, 12)\n",
      "(7, 'sudh')\n",
      "(8, (6+7j))\n",
      "(9, [56, 67, 78, 'dsfdsf'])\n"
     ]
    }
   ],
   "source": [
    "for i in enumerate(l):\n",
    "    print(i)"
   ]
  },
  {
   "cell_type": "code",
   "execution_count": 493,
   "id": "958836e4",
   "metadata": {},
   "outputs": [
    {
     "data": {
      "text/plain": [
       "[2, 45, 78, 12, 12, 12, 12, 'sudh', (6+7j), [56, 67, 78, 'dsfdsf']]"
      ]
     },
     "execution_count": 493,
     "metadata": {},
     "output_type": "execute_result"
    }
   ],
   "source": [
    "l"
   ]
  },
  {
   "cell_type": "code",
   "execution_count": 494,
   "id": "45254383",
   "metadata": {},
   "outputs": [
    {
     "name": "stdout",
     "output_type": "stream",
     "text": [
      "['s', 'u', 'd', 'h']\n"
     ]
    }
   ],
   "source": [
    "for i in l:\n",
    "    if type(i)==str:\n",
    "        l1=[]\n",
    "        for j in i:\n",
    "            l1.append(j)\n",
    "        print(l1)\n",
    "        \n",
    "        "
   ]
  },
  {
   "cell_type": "code",
   "execution_count": 466,
   "id": "bc5091f9",
   "metadata": {},
   "outputs": [
    {
     "name": "stdout",
     "output_type": "stream",
     "text": [
      "['s']\n",
      "['s', 'u']\n",
      "['s', 'u', 'd']\n",
      "['s', 'u', 'd', 'h']\n"
     ]
    }
   ],
   "source": [
    "for i in l:\n",
    "    if type(i)==str:\n",
    "        l1=[]\n",
    "        for j in i:\n",
    "            l1.append(j)\n",
    "            print(l1)\n",
    "        \n",
    "        "
   ]
  },
  {
   "cell_type": "code",
   "execution_count": 495,
   "id": "ab297b36",
   "metadata": {},
   "outputs": [
    {
     "data": {
      "text/plain": [
       "[2, 45, 78, 12, 12, 12, 12, 'sudh', (6+7j), [56, 67, 78, 'dsfdsf']]"
      ]
     },
     "execution_count": 495,
     "metadata": {},
     "output_type": "execute_result"
    }
   ],
   "source": [
    "l"
   ]
  },
  {
   "cell_type": "code",
   "execution_count": 496,
   "id": "f3354f61",
   "metadata": {},
   "outputs": [],
   "source": [
    "l=[2,45,78,12,12,12,12,\"sudh\" ,\"kumar\" , 6+7j, [56,67,78,\"dsfdsf\"]]"
   ]
  },
  {
   "cell_type": "code",
   "execution_count": 497,
   "id": "31bf5329",
   "metadata": {},
   "outputs": [
    {
     "data": {
      "text/plain": [
       "[2, 45, 78, 12, 12, 12, 12, 'sudh', 'kumar', (6+7j), [56, 67, 78, 'dsfdsf']]"
      ]
     },
     "execution_count": 497,
     "metadata": {},
     "output_type": "execute_result"
    }
   ],
   "source": [
    "l"
   ]
  },
  {
   "cell_type": "code",
   "execution_count": 469,
   "id": "6e679744",
   "metadata": {},
   "outputs": [
    {
     "name": "stdout",
     "output_type": "stream",
     "text": [
      "[4]\n",
      "[4, 2025]\n",
      "[4, 2025, 6084]\n",
      "[4, 2025, 6084, 144]\n",
      "[4, 2025, 6084, 144, 144]\n",
      "[4, 2025, 6084, 144, 144, 144]\n",
      "[4, 2025, 6084, 144, 144, 144, 144]\n"
     ]
    }
   ],
   "source": [
    "l2=[]\n",
    "for i in l:\n",
    "    if type(i)==int:\n",
    "        l2.append(i**2)\n",
    "        print(l2)\n",
    "        "
   ]
  },
  {
   "cell_type": "code",
   "execution_count": 498,
   "id": "c94b2c9f",
   "metadata": {},
   "outputs": [
    {
     "data": {
      "text/plain": [
       "[4, 2025, 6084, 144, 144, 144, 144]"
      ]
     },
     "execution_count": 498,
     "metadata": {},
     "output_type": "execute_result"
    }
   ],
   "source": [
    "l2"
   ]
  },
  {
   "cell_type": "code",
   "execution_count": 499,
   "id": "e21b1647",
   "metadata": {},
   "outputs": [
    {
     "name": "stdout",
     "output_type": "stream",
     "text": [
      "[4]\n",
      "[4, 2025]\n",
      "[4, 2025, 6084]\n",
      "[4, 2025, 6084, 144]\n",
      "[4, 2025, 6084, 144, 144]\n",
      "[4, 2025, 6084, 144, 144, 144]\n",
      "[4, 2025, 6084, 144, 144, 144, 144]\n",
      "[4, 2025, 6084, 144, 144, 144, 144]\n",
      "[4, 2025, 6084, 144, 144, 144, 144]\n",
      "[4, 2025, 6084, 144, 144, 144, 144]\n",
      "[4, 2025, 6084, 144, 144, 144, 144]\n"
     ]
    }
   ],
   "source": [
    "l2=[]\n",
    "for i in l:\n",
    "    if type(i)==int:\n",
    "        l2.append(i**2)\n",
    "    print(l2)\n",
    "        "
   ]
  },
  {
   "cell_type": "code",
   "execution_count": 500,
   "id": "7c7e9930",
   "metadata": {},
   "outputs": [
    {
     "data": {
      "text/plain": [
       "[4, 2025, 6084, 144, 144, 144, 144]"
      ]
     },
     "execution_count": 500,
     "metadata": {},
     "output_type": "execute_result"
    }
   ],
   "source": [
    "l2"
   ]
  }
 ],
 "metadata": {
  "kernelspec": {
   "display_name": "Python 3 (ipykernel)",
   "language": "python",
   "name": "python3"
  },
  "language_info": {
   "codemirror_mode": {
    "name": "ipython",
    "version": 3
   },
   "file_extension": ".py",
   "mimetype": "text/x-python",
   "name": "python",
   "nbconvert_exporter": "python",
   "pygments_lexer": "ipython3",
   "version": "3.9.7"
  }
 },
 "nbformat": 4,
 "nbformat_minor": 5
}
