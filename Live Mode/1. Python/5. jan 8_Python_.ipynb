{
 "cells": [
  {
   "cell_type": "code",
   "execution_count": 1,
   "id": "458012f3",
   "metadata": {},
   "outputs": [],
   "source": [
    "def  test(a,b,c,d,e):\n",
    "    return a,b,c,d,e"
   ]
  },
  {
   "cell_type": "code",
   "execution_count": 2,
   "id": "60674846",
   "metadata": {},
   "outputs": [
    {
     "data": {
      "text/plain": [
       "(234, 345345, 3445, 345, 345)"
      ]
     },
     "execution_count": 2,
     "metadata": {},
     "output_type": "execute_result"
    }
   ],
   "source": [
    "test(234,345345,3445,345,345)"
   ]
  },
  {
   "cell_type": "code",
   "execution_count": 3,
   "id": "0b4fa832",
   "metadata": {},
   "outputs": [],
   "source": [
    "def test1(*args):\n",
    "    return args"
   ]
  },
  {
   "cell_type": "code",
   "execution_count": 4,
   "id": "05b55d78",
   "metadata": {},
   "outputs": [
    {
     "data": {
      "text/plain": [
       "(45, 345, 345)"
      ]
     },
     "execution_count": 4,
     "metadata": {},
     "output_type": "execute_result"
    }
   ],
   "source": [
    "test1(45,345,345)"
   ]
  },
  {
   "cell_type": "code",
   "execution_count": 5,
   "id": "feaae746",
   "metadata": {},
   "outputs": [
    {
     "data": {
      "text/plain": [
       "(45, 345, 345, 'thgrhtr, 45345.3453445,34534+4345j')"
      ]
     },
     "execution_count": 5,
     "metadata": {},
     "output_type": "execute_result"
    }
   ],
   "source": [
    "test1(45,345,345, \"thgrhtr, 45345.3453445,34534+4345j\")"
   ]
  },
  {
   "cell_type": "code",
   "execution_count": 6,
   "id": "2c345a19",
   "metadata": {},
   "outputs": [
    {
     "data": {
      "text/plain": [
       "(45,\n",
       " 345,\n",
       " 345,\n",
       " 'thgrhtr, 45345.3453445,34534+4345j',\n",
       " [123, 234, 2343, 45],\n",
       " (43, 'efg', 2345))"
      ]
     },
     "execution_count": 6,
     "metadata": {},
     "output_type": "execute_result"
    }
   ],
   "source": [
    "test1(45,345,345, \"thgrhtr, 45345.3453445,34534+4345j\", [123,234,2343,45],(43,\"efg\", 2345))"
   ]
  },
  {
   "cell_type": "code",
   "execution_count": 7,
   "id": "39d2cea0",
   "metadata": {},
   "outputs": [],
   "source": [
    "def test2(*ukc):\n",
    "    return ukc"
   ]
  },
  {
   "cell_type": "code",
   "execution_count": 8,
   "id": "bce0fa2d",
   "metadata": {},
   "outputs": [
    {
     "data": {
      "text/plain": [
       "('erytry', (23, '235346', 35643))"
      ]
     },
     "execution_count": 8,
     "metadata": {},
     "output_type": "execute_result"
    }
   ],
   "source": [
    "test2(\"erytry\", (23,\"235346\", 35643))"
   ]
  },
  {
   "cell_type": "code",
   "execution_count": 9,
   "id": "ac9723d2",
   "metadata": {},
   "outputs": [],
   "source": [
    "def test3(*sudh, a):\n",
    "    return sudh,a"
   ]
  },
  {
   "cell_type": "code",
   "execution_count": 10,
   "id": "f080de6e",
   "metadata": {},
   "outputs": [
    {
     "ename": "TypeError",
     "evalue": "test3() missing 1 required keyword-only argument: 'a'",
     "output_type": "error",
     "traceback": [
      "\u001b[1;31m---------------------------------------------------------------------------\u001b[0m",
      "\u001b[1;31mTypeError\u001b[0m                                 Traceback (most recent call last)",
      "\u001b[1;32m~\\AppData\\Local\\Temp/ipykernel_8256/2591984803.py\u001b[0m in \u001b[0;36m<module>\u001b[1;34m\u001b[0m\n\u001b[1;32m----> 1\u001b[1;33m \u001b[0mtest3\u001b[0m\u001b[1;33m(\u001b[0m\u001b[1;36m1124\u001b[0m\u001b[1;33m,\u001b[0m\u001b[1;36m435\u001b[0m\u001b[1;33m,\u001b[0m\u001b[1;36m346\u001b[0m\u001b[1;33m)\u001b[0m\u001b[1;33m\u001b[0m\u001b[1;33m\u001b[0m\u001b[0m\n\u001b[0m",
      "\u001b[1;31mTypeError\u001b[0m: test3() missing 1 required keyword-only argument: 'a'"
     ]
    }
   ],
   "source": [
    "test3(1124,435,346)"
   ]
  },
  {
   "cell_type": "code",
   "execution_count": 11,
   "id": "b6a3e7d4",
   "metadata": {},
   "outputs": [
    {
     "data": {
      "text/plain": [
       "((1124, 435, 346), 6546)"
      ]
     },
     "execution_count": 11,
     "metadata": {},
     "output_type": "execute_result"
    }
   ],
   "source": [
    "test3(1124,435,346, a = 6546)"
   ]
  },
  {
   "cell_type": "code",
   "execution_count": 12,
   "id": "220aeddb",
   "metadata": {},
   "outputs": [],
   "source": [
    "def test3(*sudh, a):\n",
    "    return a, sudh"
   ]
  },
  {
   "cell_type": "code",
   "execution_count": 13,
   "id": "26691c99",
   "metadata": {},
   "outputs": [
    {
     "ename": "TypeError",
     "evalue": "test3() missing 1 required keyword-only argument: 'a'",
     "output_type": "error",
     "traceback": [
      "\u001b[1;31m---------------------------------------------------------------------------\u001b[0m",
      "\u001b[1;31mTypeError\u001b[0m                                 Traceback (most recent call last)",
      "\u001b[1;32m~\\AppData\\Local\\Temp/ipykernel_8256/2591984803.py\u001b[0m in \u001b[0;36m<module>\u001b[1;34m\u001b[0m\n\u001b[1;32m----> 1\u001b[1;33m \u001b[0mtest3\u001b[0m\u001b[1;33m(\u001b[0m\u001b[1;36m1124\u001b[0m\u001b[1;33m,\u001b[0m\u001b[1;36m435\u001b[0m\u001b[1;33m,\u001b[0m\u001b[1;36m346\u001b[0m\u001b[1;33m)\u001b[0m\u001b[1;33m\u001b[0m\u001b[1;33m\u001b[0m\u001b[0m\n\u001b[0m",
      "\u001b[1;31mTypeError\u001b[0m: test3() missing 1 required keyword-only argument: 'a'"
     ]
    }
   ],
   "source": [
    "test3(1124,435,346)"
   ]
  },
  {
   "cell_type": "code",
   "execution_count": 14,
   "id": "a4bd3c82",
   "metadata": {},
   "outputs": [
    {
     "data": {
      "text/plain": [
       "(6546, (1124, 435, 346))"
      ]
     },
     "execution_count": 14,
     "metadata": {},
     "output_type": "execute_result"
    }
   ],
   "source": [
    "test3(1124,435,346, a = 6546)"
   ]
  },
  {
   "cell_type": "code",
   "execution_count": 15,
   "id": "4a722ab3",
   "metadata": {},
   "outputs": [],
   "source": [
    "def test4(*sudh, a,b,c,d):\n",
    "    return a,b,c,d"
   ]
  },
  {
   "cell_type": "code",
   "execution_count": 17,
   "id": "c1de3ce2",
   "metadata": {},
   "outputs": [
    {
     "data": {
      "text/plain": [
       "(234, 'dfgdgf', 234.7656, 23445)"
      ]
     },
     "execution_count": 17,
     "metadata": {},
     "output_type": "execute_result"
    }
   ],
   "source": [
    "test4(23234,345,3454,3456,3456, \"rthgfht\", [234,456987,87,67], a=234, b= \"dfgdgf\",c=  234.7656, d=23445)"
   ]
  },
  {
   "cell_type": "code",
   "execution_count": 18,
   "id": "a17a5bca",
   "metadata": {},
   "outputs": [],
   "source": [
    "def test3(a, *sudh):\n",
    "    return sudh, a"
   ]
  },
  {
   "cell_type": "code",
   "execution_count": 19,
   "id": "98ff8a22",
   "metadata": {},
   "outputs": [
    {
     "ename": "TypeError",
     "evalue": "test3() got multiple values for argument 'a'",
     "output_type": "error",
     "traceback": [
      "\u001b[1;31m---------------------------------------------------------------------------\u001b[0m",
      "\u001b[1;31mTypeError\u001b[0m                                 Traceback (most recent call last)",
      "\u001b[1;32m~\\AppData\\Local\\Temp/ipykernel_8256/268913884.py\u001b[0m in \u001b[0;36m<module>\u001b[1;34m\u001b[0m\n\u001b[1;32m----> 1\u001b[1;33m \u001b[0mtest3\u001b[0m\u001b[1;33m(\u001b[0m\u001b[1;34m\"rwrer\"\u001b[0m\u001b[1;33m,\u001b[0m \u001b[1;36m34243\u001b[0m\u001b[1;33m,\u001b[0m\u001b[1;36m345\u001b[0m\u001b[1;33m,\u001b[0m\u001b[1;36m345\u001b[0m\u001b[1;33m,\u001b[0m\u001b[1;36m345345\u001b[0m\u001b[1;33m,\u001b[0m \u001b[0ma\u001b[0m \u001b[1;33m=\u001b[0m \u001b[1;34m\"feggf\"\u001b[0m\u001b[1;33m)\u001b[0m\u001b[1;33m\u001b[0m\u001b[1;33m\u001b[0m\u001b[0m\n\u001b[0m",
      "\u001b[1;31mTypeError\u001b[0m: test3() got multiple values for argument 'a'"
     ]
    }
   ],
   "source": [
    "test3(\"rwrer\", 34243,345,345,345345, a = \"feggf\")"
   ]
  },
  {
   "cell_type": "code",
   "execution_count": 21,
   "id": "c7932f51",
   "metadata": {},
   "outputs": [
    {
     "data": {
      "text/plain": [
       "((34243, 345, 345, 345345, 'feggf'), 'rwrer')"
      ]
     },
     "execution_count": 21,
     "metadata": {},
     "output_type": "execute_result"
    }
   ],
   "source": [
    "test3(\"rwrer\", 34243,345,345,345345,\"feggf\")"
   ]
  },
  {
   "cell_type": "code",
   "execution_count": null,
   "id": "023db59f",
   "metadata": {},
   "outputs": [],
   "source": [
    "def test3(a,b,*sudh):\n",
    "    return sudh, a,b"
   ]
  },
  {
   "cell_type": "code",
   "execution_count": 22,
   "id": "6811ccbd",
   "metadata": {},
   "outputs": [
    {
     "data": {
      "text/plain": [
       "((34243, 345, 345, 345345), 'rwrer')"
      ]
     },
     "execution_count": 22,
     "metadata": {},
     "output_type": "execute_result"
    }
   ],
   "source": [
    "test3(\"rwrer\", 34243,345,345,345345)"
   ]
  },
  {
   "cell_type": "code",
   "execution_count": 24,
   "id": "27952b88",
   "metadata": {},
   "outputs": [],
   "source": [
    "def test3(a,b,*sudh):\n",
    "    print(sudh, a,b)"
   ]
  },
  {
   "cell_type": "code",
   "execution_count": 25,
   "id": "04541fd7",
   "metadata": {},
   "outputs": [
    {
     "name": "stdout",
     "output_type": "stream",
     "text": [
      "(345, 345, 345345) rwrer 34243\n"
     ]
    }
   ],
   "source": [
    "test3(\"rwrer\", 34243,345,345,345345)"
   ]
  },
  {
   "cell_type": "code",
   "execution_count": 26,
   "id": "b54052b6",
   "metadata": {},
   "outputs": [],
   "source": [
    "def test3(a, *sudh):\n",
    "    return sudh, a"
   ]
  },
  {
   "cell_type": "code",
   "execution_count": 27,
   "id": "61e65c50",
   "metadata": {},
   "outputs": [
    {
     "ename": "SyntaxError",
     "evalue": "positional argument follows keyword argument (Temp/ipykernel_8256/1572251197.py, line 1)",
     "output_type": "error",
     "traceback": [
      "\u001b[1;36m  File \u001b[1;32m\"C:\\Users\\Utkarsh\\AppData\\Local\\Temp/ipykernel_8256/1572251197.py\"\u001b[1;36m, line \u001b[1;32m1\u001b[0m\n\u001b[1;33m    test3(a = \"rwrer\", 34243,345,345,345345,\"feggf\")\u001b[0m\n\u001b[1;37m                                                   ^\u001b[0m\n\u001b[1;31mSyntaxError\u001b[0m\u001b[1;31m:\u001b[0m positional argument follows keyword argument\n"
     ]
    }
   ],
   "source": [
    "test3(a = \"rwrer\", 34243,345,345,345345,\"feggf\")"
   ]
  },
  {
   "cell_type": "code",
   "execution_count": 28,
   "id": "7649bf50",
   "metadata": {},
   "outputs": [
    {
     "data": {
      "text/plain": [
       "((34243, 345, 345, 345345, 'feggf'), 'rwrer')"
      ]
     },
     "execution_count": 28,
     "metadata": {},
     "output_type": "execute_result"
    }
   ],
   "source": [
    "test3(\"rwrer\", 34243,345,345,345345,\"feggf\")"
   ]
  },
  {
   "cell_type": "code",
   "execution_count": 29,
   "id": "b1461313",
   "metadata": {},
   "outputs": [],
   "source": [
    "def test5(a,*sudh, b,c):\n",
    "    return a, sudh, b, c"
   ]
  },
  {
   "cell_type": "code",
   "execution_count": 30,
   "id": "a1b5fc3f",
   "metadata": {},
   "outputs": [
    {
     "ename": "TypeError",
     "evalue": "test5() missing 2 required keyword-only arguments: 'b' and 'c'",
     "output_type": "error",
     "traceback": [
      "\u001b[1;31m---------------------------------------------------------------------------\u001b[0m",
      "\u001b[1;31mTypeError\u001b[0m                                 Traceback (most recent call last)",
      "\u001b[1;32m~\\AppData\\Local\\Temp/ipykernel_8256/3365173999.py\u001b[0m in \u001b[0;36m<module>\u001b[1;34m\u001b[0m\n\u001b[1;32m----> 1\u001b[1;33m \u001b[0mtest5\u001b[0m\u001b[1;33m(\u001b[0m\u001b[1;34m\"tfhkj\"\u001b[0m\u001b[1;33m,\u001b[0m \u001b[1;33m[\u001b[0m\u001b[1;36m54\u001b[0m\u001b[1;33m,\u001b[0m\u001b[1;36m765\u001b[0m\u001b[1;33m]\u001b[0m\u001b[1;33m,\u001b[0m\u001b[1;36m487\u001b[0m\u001b[1;33m,\u001b[0m\u001b[1;36m895\u001b[0m\u001b[1;33m,\u001b[0m\u001b[1;36m6789\u001b[0m\u001b[1;33m,\u001b[0m\u001b[1;36m69\u001b[0m\u001b[1;33m,\u001b[0m\u001b[1;36m6587\u001b[0m\u001b[1;33m)\u001b[0m\u001b[1;33m\u001b[0m\u001b[1;33m\u001b[0m\u001b[0m\n\u001b[0m",
      "\u001b[1;31mTypeError\u001b[0m: test5() missing 2 required keyword-only arguments: 'b' and 'c'"
     ]
    }
   ],
   "source": [
    "test5(\"tfhkj\", [54,765],487,895,6789,69,6587)"
   ]
  },
  {
   "cell_type": "code",
   "execution_count": 31,
   "id": "91e05ead",
   "metadata": {},
   "outputs": [
    {
     "data": {
      "text/plain": [
       "('tfhkj', ([54, 765], 487, 895, 6789), 69, 6587)"
      ]
     },
     "execution_count": 31,
     "metadata": {},
     "output_type": "execute_result"
    }
   ],
   "source": [
    "test5(\"tfhkj\", [54,765],487,895,6789,b=69,c=6587)"
   ]
  },
  {
   "cell_type": "code",
   "execution_count": 32,
   "id": "878df31d",
   "metadata": {},
   "outputs": [],
   "source": [
    "def test6(*args):\n",
    "    for i in args:\n",
    "        if type(i) == list:\n",
    "            return i"
   ]
  },
  {
   "cell_type": "code",
   "execution_count": 33,
   "id": "eb32e900",
   "metadata": {},
   "outputs": [
    {
     "data": {
      "text/plain": [
       "[245, 3445, 3456, 345]"
      ]
     },
     "execution_count": 33,
     "metadata": {},
     "output_type": "execute_result"
    }
   ],
   "source": [
    "test6(234345,345,3456,3456,456,[245,3445,3456,345])"
   ]
  },
  {
   "cell_type": "code",
   "execution_count": 34,
   "id": "9111af32",
   "metadata": {},
   "outputs": [
    {
     "data": {
      "text/plain": [
       "[5, 34456, 356, 'dgf']"
      ]
     },
     "execution_count": 34,
     "metadata": {},
     "output_type": "execute_result"
    }
   ],
   "source": [
    "test6(4233,2453345,34534,[5,34456,356,\"dgf\"], [5,354,435,54], \"dgdf\")"
   ]
  },
  {
   "cell_type": "code",
   "execution_count": 35,
   "id": "78b193fb",
   "metadata": {},
   "outputs": [],
   "source": [
    "def test6(*args):\n",
    "    l= []\n",
    "    for i in args:\n",
    "        if type(i) == list:\n",
    "            l.append(i)\n",
    "    return l"
   ]
  },
  {
   "cell_type": "code",
   "execution_count": 36,
   "id": "99a9075d",
   "metadata": {},
   "outputs": [
    {
     "data": {
      "text/plain": [
       "[[5, 34456, 356, 'dgf'], [5, 354, 435, 54]]"
      ]
     },
     "execution_count": 36,
     "metadata": {},
     "output_type": "execute_result"
    }
   ],
   "source": [
    "test6(4233,2453345,34534,[5,34456,356,\"dgf\"], [5,354,435,54], \"dgdf\")"
   ]
  },
  {
   "cell_type": "code",
   "execution_count": 37,
   "id": "f5c87cd1",
   "metadata": {},
   "outputs": [],
   "source": [
    "d={\"a\": [234,453,2345,345,32], 6: [2453,345,345,789]}"
   ]
  },
  {
   "cell_type": "code",
   "execution_count": 38,
   "id": "80315674",
   "metadata": {},
   "outputs": [
    {
     "data": {
      "text/plain": [
       "[234, 453, 2345, 345, 32]"
      ]
     },
     "execution_count": 38,
     "metadata": {},
     "output_type": "execute_result"
    }
   ],
   "source": [
    "d[\"a\"]"
   ]
  },
  {
   "cell_type": "code",
   "execution_count": 39,
   "id": "e5d4e18c",
   "metadata": {},
   "outputs": [],
   "source": [
    "def test7(**kwargs):\n",
    "    return kwargs"
   ]
  },
  {
   "cell_type": "code",
   "execution_count": 40,
   "id": "67e8c95c",
   "metadata": {},
   "outputs": [
    {
     "ename": "TypeError",
     "evalue": "test7() takes 0 positional arguments but 5 were given",
     "output_type": "error",
     "traceback": [
      "\u001b[1;31m---------------------------------------------------------------------------\u001b[0m",
      "\u001b[1;31mTypeError\u001b[0m                                 Traceback (most recent call last)",
      "\u001b[1;32m~\\AppData\\Local\\Temp/ipykernel_8256/3535932820.py\u001b[0m in \u001b[0;36m<module>\u001b[1;34m\u001b[0m\n\u001b[1;32m----> 1\u001b[1;33m \u001b[0mtest7\u001b[0m\u001b[1;33m(\u001b[0m\u001b[1;36m2345\u001b[0m\u001b[1;33m,\u001b[0m\u001b[1;36m2345\u001b[0m\u001b[1;33m,\u001b[0m\u001b[1;36m345\u001b[0m\u001b[1;33m,\u001b[0m\u001b[1;36m345\u001b[0m\u001b[1;33m,\u001b[0m\u001b[1;36m543\u001b[0m\u001b[1;33m)\u001b[0m\u001b[1;33m\u001b[0m\u001b[1;33m\u001b[0m\u001b[0m\n\u001b[0m",
      "\u001b[1;31mTypeError\u001b[0m: test7() takes 0 positional arguments but 5 were given"
     ]
    }
   ],
   "source": [
    "test7(2345,2345,345,345,543)"
   ]
  },
  {
   "cell_type": "code",
   "execution_count": 41,
   "id": "874577b7",
   "metadata": {},
   "outputs": [
    {
     "ename": "SyntaxError",
     "evalue": "expression cannot contain assignment, perhaps you meant \"==\"? (Temp/ipykernel_8256/3588626708.py, line 1)",
     "output_type": "error",
     "traceback": [
      "\u001b[1;36m  File \u001b[1;32m\"C:\\Users\\Utkarsh\\AppData\\Local\\Temp/ipykernel_8256/3588626708.py\"\u001b[1;36m, line \u001b[1;32m1\u001b[0m\n\u001b[1;33m    test7('a' = [2345,2345,345,345,543], 'b' = \"dfhghg\" )\u001b[0m\n\u001b[1;37m          ^\u001b[0m\n\u001b[1;31mSyntaxError\u001b[0m\u001b[1;31m:\u001b[0m expression cannot contain assignment, perhaps you meant \"==\"?\n"
     ]
    }
   ],
   "source": [
    "test7('a' = [2345,2345,345,345,543], 'b' = \"dfhghg\" )"
   ]
  },
  {
   "cell_type": "code",
   "execution_count": 42,
   "id": "e2f65a61",
   "metadata": {},
   "outputs": [
    {
     "data": {
      "text/plain": [
       "{'a': [2345, 2345, 345, 345, 543], 'b': 'dfhghg'}"
      ]
     },
     "execution_count": 42,
     "metadata": {},
     "output_type": "execute_result"
    }
   ],
   "source": [
    "test7(a = [2345,2345,345,345,543], b = \"dfhghg\" )"
   ]
  },
  {
   "cell_type": "code",
   "execution_count": 43,
   "id": "66e1153d",
   "metadata": {},
   "outputs": [],
   "source": [
    "def test8(**sudh):\n",
    "    return sudh"
   ]
  },
  {
   "cell_type": "code",
   "execution_count": 44,
   "id": "d7ca5abe",
   "metadata": {},
   "outputs": [
    {
     "data": {
      "text/plain": [
       "{'b': 324, 'g': 123, 'f': [124, 2345, 45, 5432]}"
      ]
     },
     "execution_count": 44,
     "metadata": {},
     "output_type": "execute_result"
    }
   ],
   "source": [
    "test8(b = 324, g = 123, f= [124,2345,45,5432])"
   ]
  },
  {
   "cell_type": "code",
   "execution_count": 45,
   "id": "7d7acb7b",
   "metadata": {},
   "outputs": [
    {
     "ename": "SyntaxError",
     "evalue": "expression cannot contain assignment, perhaps you meant \"==\"? (Temp/ipykernel_8256/4263617290.py, line 1)",
     "output_type": "error",
     "traceback": [
      "\u001b[1;36m  File \u001b[1;32m\"C:\\Users\\Utkarsh\\AppData\\Local\\Temp/ipykernel_8256/4263617290.py\"\u001b[1;36m, line \u001b[1;32m1\u001b[0m\n\u001b[1;33m    test8(1 = 324, g = 123, f= [124,2345,45,5432])\u001b[0m\n\u001b[1;37m          ^\u001b[0m\n\u001b[1;31mSyntaxError\u001b[0m\u001b[1;31m:\u001b[0m expression cannot contain assignment, perhaps you meant \"==\"?\n"
     ]
    }
   ],
   "source": [
    "test8(1 = 324, g = 123, f= [124,2345,45,5432])"
   ]
  },
  {
   "cell_type": "code",
   "execution_count": 46,
   "id": "74970793",
   "metadata": {},
   "outputs": [
    {
     "ename": "SyntaxError",
     "evalue": "expression cannot contain assignment, perhaps you meant \"==\"? (Temp/ipykernel_8256/1629134803.py, line 1)",
     "output_type": "error",
     "traceback": [
      "\u001b[1;36m  File \u001b[1;32m\"C:\\Users\\Utkarsh\\AppData\\Local\\Temp/ipykernel_8256/1629134803.py\"\u001b[1;36m, line \u001b[1;32m1\u001b[0m\n\u001b[1;33m    test8(\"4\" = 324, g = 123, f= [124,2345,45,5432])\u001b[0m\n\u001b[1;37m          ^\u001b[0m\n\u001b[1;31mSyntaxError\u001b[0m\u001b[1;31m:\u001b[0m expression cannot contain assignment, perhaps you meant \"==\"?\n"
     ]
    }
   ],
   "source": [
    "test8(\"4\" = 324, g = 123, f= [124,2345,45,5432])"
   ]
  },
  {
   "cell_type": "code",
   "execution_count": 47,
   "id": "4fdc618a",
   "metadata": {},
   "outputs": [],
   "source": [
    "def test9(**sudh):\n",
    "    return sudh"
   ]
  },
  {
   "cell_type": "code",
   "execution_count": 48,
   "id": "32015bab",
   "metadata": {},
   "outputs": [
    {
     "data": {
      "text/plain": [
       "{'name': 'sudh', 'age': '31', 'phno': '234', 'mailid': 'dgdgf@gmail.com'}"
      ]
     },
     "execution_count": 48,
     "metadata": {},
     "output_type": "execute_result"
    }
   ],
   "source": [
    "test9(name = \"sudh\", age = \"31\", phno = \"234\", mailid = \"dgdgf@gmail.com\" )"
   ]
  },
  {
   "cell_type": "code",
   "execution_count": 49,
   "id": "f25e2331",
   "metadata": {},
   "outputs": [],
   "source": [
    "def test10(a, **sudh):\n",
    "    return sudh, a"
   ]
  },
  {
   "cell_type": "code",
   "execution_count": 50,
   "id": "498e02b7",
   "metadata": {},
   "outputs": [
    {
     "ename": "TypeError",
     "evalue": "test10() got multiple values for argument 'a'",
     "output_type": "error",
     "traceback": [
      "\u001b[1;31m---------------------------------------------------------------------------\u001b[0m",
      "\u001b[1;31mTypeError\u001b[0m                                 Traceback (most recent call last)",
      "\u001b[1;32m~\\AppData\\Local\\Temp/ipykernel_8256/4029508639.py\u001b[0m in \u001b[0;36m<module>\u001b[1;34m\u001b[0m\n\u001b[1;32m----> 1\u001b[1;33m \u001b[0mtest10\u001b[0m\u001b[1;33m(\u001b[0m\u001b[1;36m45\u001b[0m\u001b[1;33m,\u001b[0m \u001b[0ma\u001b[0m \u001b[1;33m=\u001b[0m \u001b[1;34m\"213\"\u001b[0m\u001b[1;33m,\u001b[0m \u001b[0mb\u001b[0m \u001b[1;33m=\u001b[0m\u001b[1;34m\"34\"\u001b[0m\u001b[1;33m,\u001b[0m \u001b[0mc\u001b[0m\u001b[1;33m=\u001b[0m \u001b[1;36m7\u001b[0m\u001b[1;33m,\u001b[0m \u001b[0md\u001b[0m \u001b[1;33m=\u001b[0m\u001b[1;36m234534\u001b[0m\u001b[1;33m,\u001b[0m \u001b[0me\u001b[0m \u001b[1;33m=\u001b[0m\u001b[1;36m2345345\u001b[0m \u001b[1;33m)\u001b[0m\u001b[1;33m\u001b[0m\u001b[1;33m\u001b[0m\u001b[0m\n\u001b[0m",
      "\u001b[1;31mTypeError\u001b[0m: test10() got multiple values for argument 'a'"
     ]
    }
   ],
   "source": [
    "test10(45, a = \"213\", b =\"34\", c= 7, d =234534, e =2345345 )"
   ]
  },
  {
   "cell_type": "code",
   "execution_count": 51,
   "id": "a44ab282",
   "metadata": {},
   "outputs": [
    {
     "data": {
      "text/plain": [
       "({'t': '213', 'b': '34', 'c': 7, 'd': 234534, 'e': 2345345}, 45)"
      ]
     },
     "execution_count": 51,
     "metadata": {},
     "output_type": "execute_result"
    }
   ],
   "source": [
    "test10(45, t = \"213\", b =\"34\", c= 7, d =234534, e =2345345 )"
   ]
  },
  {
   "cell_type": "code",
   "execution_count": 52,
   "id": "d53e36ba",
   "metadata": {},
   "outputs": [
    {
     "ename": "SyntaxError",
     "evalue": "invalid syntax (Temp/ipykernel_8256/3633435666.py, line 1)",
     "output_type": "error",
     "traceback": [
      "\u001b[1;36m  File \u001b[1;32m\"C:\\Users\\Utkarsh\\AppData\\Local\\Temp/ipykernel_8256/3633435666.py\"\u001b[1;36m, line \u001b[1;32m1\u001b[0m\n\u001b[1;33m    def test11(a, **sudh, *args):\u001b[0m\n\u001b[1;37m                          ^\u001b[0m\n\u001b[1;31mSyntaxError\u001b[0m\u001b[1;31m:\u001b[0m invalid syntax\n"
     ]
    }
   ],
   "source": [
    "def test11(a, **sudh, *args):\n",
    "    return sudh, a, args"
   ]
  },
  {
   "cell_type": "code",
   "execution_count": 53,
   "id": "da1d1292",
   "metadata": {},
   "outputs": [],
   "source": [
    "def test12(a, *args, **kwargs):\n",
    "    return a, args, kwargs"
   ]
  },
  {
   "cell_type": "code",
   "execution_count": 54,
   "id": "13e715ba",
   "metadata": {},
   "outputs": [
    {
     "data": {
      "text/plain": [
       "(43, (524, 345, 345, 345), {'g': 234523, 'l': 24})"
      ]
     },
     "execution_count": 54,
     "metadata": {},
     "output_type": "execute_result"
    }
   ],
   "source": [
    "test12(43,524,345,345,345, g= 234523, l = 24)"
   ]
  },
  {
   "cell_type": "code",
   "execution_count": 55,
   "id": "61b21eb9",
   "metadata": {},
   "outputs": [],
   "source": [
    "def test13(a,b):\n",
    "    return a*b"
   ]
  },
  {
   "cell_type": "code",
   "execution_count": 56,
   "id": "5e5a9e72",
   "metadata": {},
   "outputs": [
    {
     "data": {
      "text/plain": [
       "808704"
      ]
     },
     "execution_count": 56,
     "metadata": {},
     "output_type": "execute_result"
    }
   ],
   "source": [
    "test13(234,3456)"
   ]
  },
  {
   "cell_type": "code",
   "execution_count": 57,
   "id": "92266e3c",
   "metadata": {},
   "outputs": [
    {
     "data": {
      "text/plain": [
       "<function __main__.<lambda>(a, b)>"
      ]
     },
     "execution_count": 57,
     "metadata": {},
     "output_type": "execute_result"
    }
   ],
   "source": [
    "lambda a,b : a*b"
   ]
  },
  {
   "cell_type": "code",
   "execution_count": 58,
   "id": "a25235d8",
   "metadata": {},
   "outputs": [],
   "source": [
    "v = lambda a,b : a*b"
   ]
  },
  {
   "cell_type": "code",
   "execution_count": 59,
   "id": "d889eed8",
   "metadata": {},
   "outputs": [
    {
     "data": {
      "text/plain": [
       "29182656"
      ]
     },
     "execution_count": 59,
     "metadata": {},
     "output_type": "execute_result"
    }
   ],
   "source": [
    "v(124,235344)"
   ]
  },
  {
   "cell_type": "code",
   "execution_count": 60,
   "id": "255c4f4a",
   "metadata": {},
   "outputs": [],
   "source": [
    "v = lambda a,b : (a*b, a+b)"
   ]
  },
  {
   "cell_type": "code",
   "execution_count": 61,
   "id": "12558d3f",
   "metadata": {},
   "outputs": [
    {
     "data": {
      "text/plain": [
       "(536790, 1669)"
      ]
     },
     "execution_count": 61,
     "metadata": {},
     "output_type": "execute_result"
    }
   ],
   "source": [
    "v(1234,435)"
   ]
  },
  {
   "cell_type": "code",
   "execution_count": 62,
   "id": "89faca2f",
   "metadata": {},
   "outputs": [],
   "source": [
    "v = lambda *args : args"
   ]
  },
  {
   "cell_type": "code",
   "execution_count": 63,
   "id": "67f593b4",
   "metadata": {},
   "outputs": [
    {
     "data": {
      "text/plain": [
       "(234, 435, 345)"
      ]
     },
     "execution_count": 63,
     "metadata": {},
     "output_type": "execute_result"
    }
   ],
   "source": [
    "v(234,435,345)"
   ]
  },
  {
   "cell_type": "code",
   "execution_count": 64,
   "id": "d3826a26",
   "metadata": {},
   "outputs": [],
   "source": [
    "v = lambda *i : i*i"
   ]
  },
  {
   "cell_type": "code",
   "execution_count": 65,
   "id": "cff27920",
   "metadata": {},
   "outputs": [
    {
     "ename": "TypeError",
     "evalue": "can't multiply sequence by non-int of type 'tuple'",
     "output_type": "error",
     "traceback": [
      "\u001b[1;31m---------------------------------------------------------------------------\u001b[0m",
      "\u001b[1;31mTypeError\u001b[0m                                 Traceback (most recent call last)",
      "\u001b[1;32m~\\AppData\\Local\\Temp/ipykernel_8256/1280780546.py\u001b[0m in \u001b[0;36m<module>\u001b[1;34m\u001b[0m\n\u001b[1;32m----> 1\u001b[1;33m \u001b[0mv\u001b[0m\u001b[1;33m(\u001b[0m\u001b[1;36m234\u001b[0m\u001b[1;33m,\u001b[0m\u001b[1;36m435\u001b[0m\u001b[1;33m,\u001b[0m\u001b[1;36m345\u001b[0m\u001b[1;33m)\u001b[0m\u001b[1;33m\u001b[0m\u001b[1;33m\u001b[0m\u001b[0m\n\u001b[0m",
      "\u001b[1;32m~\\AppData\\Local\\Temp/ipykernel_8256/3560185312.py\u001b[0m in \u001b[0;36m<lambda>\u001b[1;34m(*i)\u001b[0m\n\u001b[1;32m----> 1\u001b[1;33m \u001b[0mv\u001b[0m \u001b[1;33m=\u001b[0m \u001b[1;32mlambda\u001b[0m \u001b[1;33m*\u001b[0m\u001b[0mi\u001b[0m \u001b[1;33m:\u001b[0m \u001b[0mi\u001b[0m\u001b[1;33m*\u001b[0m\u001b[0mi\u001b[0m\u001b[1;33m\u001b[0m\u001b[1;33m\u001b[0m\u001b[0m\n\u001b[0m",
      "\u001b[1;31mTypeError\u001b[0m: can't multiply sequence by non-int of type 'tuple'"
     ]
    }
   ],
   "source": [
    "v(234,435,345)"
   ]
  },
  {
   "cell_type": "code",
   "execution_count": 66,
   "id": "cff0a690",
   "metadata": {},
   "outputs": [],
   "source": [
    "v = lambda *args : args**2"
   ]
  },
  {
   "cell_type": "code",
   "execution_count": 67,
   "id": "32915b67",
   "metadata": {},
   "outputs": [
    {
     "ename": "TypeError",
     "evalue": "unsupported operand type(s) for ** or pow(): 'tuple' and 'int'",
     "output_type": "error",
     "traceback": [
      "\u001b[1;31m---------------------------------------------------------------------------\u001b[0m",
      "\u001b[1;31mTypeError\u001b[0m                                 Traceback (most recent call last)",
      "\u001b[1;32m~\\AppData\\Local\\Temp/ipykernel_8256/4223654857.py\u001b[0m in \u001b[0;36m<module>\u001b[1;34m\u001b[0m\n\u001b[1;32m----> 1\u001b[1;33m \u001b[0mv\u001b[0m\u001b[1;33m(\u001b[0m\u001b[1;36m2\u001b[0m\u001b[1;33m)\u001b[0m\u001b[1;33m\u001b[0m\u001b[1;33m\u001b[0m\u001b[0m\n\u001b[0m",
      "\u001b[1;32m~\\AppData\\Local\\Temp/ipykernel_8256/2805499966.py\u001b[0m in \u001b[0;36m<lambda>\u001b[1;34m(*args)\u001b[0m\n\u001b[1;32m----> 1\u001b[1;33m \u001b[0mv\u001b[0m \u001b[1;33m=\u001b[0m \u001b[1;32mlambda\u001b[0m \u001b[1;33m*\u001b[0m\u001b[0margs\u001b[0m \u001b[1;33m:\u001b[0m \u001b[0margs\u001b[0m\u001b[1;33m**\u001b[0m\u001b[1;36m2\u001b[0m\u001b[1;33m\u001b[0m\u001b[1;33m\u001b[0m\u001b[0m\n\u001b[0m",
      "\u001b[1;31mTypeError\u001b[0m: unsupported operand type(s) for ** or pow(): 'tuple' and 'int'"
     ]
    }
   ],
   "source": [
    "v(2)"
   ]
  },
  {
   "cell_type": "code",
   "execution_count": 68,
   "id": "839369bf",
   "metadata": {},
   "outputs": [
    {
     "ename": "SyntaxError",
     "evalue": "invalid syntax (Temp/ipykernel_8256/2944939286.py, line 1)",
     "output_type": "error",
     "traceback": [
      "\u001b[1;36m  File \u001b[1;32m\"C:\\Users\\Utkarsh\\AppData\\Local\\Temp/ipykernel_8256/2944939286.py\"\u001b[1;36m, line \u001b[1;32m1\u001b[0m\n\u001b[1;33m    v = lambda x : (for i in x: print(i))\u001b[0m\n\u001b[1;37m                    ^\u001b[0m\n\u001b[1;31mSyntaxError\u001b[0m\u001b[1;31m:\u001b[0m invalid syntax\n"
     ]
    }
   ],
   "source": [
    "v = lambda x : (for i in x: print(i))"
   ]
  },
  {
   "cell_type": "code",
   "execution_count": 69,
   "id": "2b015fd6",
   "metadata": {},
   "outputs": [
    {
     "ename": "SyntaxError",
     "evalue": "invalid syntax (Temp/ipykernel_8256/3544444813.py, line 1)",
     "output_type": "error",
     "traceback": [
      "\u001b[1;36m  File \u001b[1;32m\"C:\\Users\\Utkarsh\\AppData\\Local\\Temp/ipykernel_8256/3544444813.py\"\u001b[1;36m, line \u001b[1;32m1\u001b[0m\n\u001b[1;33m    v = lambda x : i for i in x\u001b[0m\n\u001b[1;37m                     ^\u001b[0m\n\u001b[1;31mSyntaxError\u001b[0m\u001b[1;31m:\u001b[0m invalid syntax\n"
     ]
    }
   ],
   "source": [
    "v = lambda x : i for i in x"
   ]
  },
  {
   "cell_type": "code",
   "execution_count": 70,
   "id": "6c660582",
   "metadata": {},
   "outputs": [
    {
     "ename": "NameError",
     "evalue": "name 'x' is not defined",
     "output_type": "error",
     "traceback": [
      "\u001b[1;31m---------------------------------------------------------------------------\u001b[0m",
      "\u001b[1;31mNameError\u001b[0m                                 Traceback (most recent call last)",
      "\u001b[1;32m~\\AppData\\Local\\Temp/ipykernel_8256/3329868706.py\u001b[0m in \u001b[0;36m<module>\u001b[1;34m\u001b[0m\n\u001b[1;32m----> 1\u001b[1;33m \u001b[0mv\u001b[0m \u001b[1;33m=\u001b[0m \u001b[1;33m(\u001b[0m\u001b[1;32mlambda\u001b[0m \u001b[0mx\u001b[0m \u001b[1;33m:\u001b[0m \u001b[0mprint\u001b[0m\u001b[1;33m(\u001b[0m\u001b[0mi\u001b[0m\u001b[1;33m)\u001b[0m \u001b[1;32mfor\u001b[0m \u001b[0mi\u001b[0m \u001b[1;32min\u001b[0m \u001b[0mx\u001b[0m\u001b[1;33m)\u001b[0m\u001b[1;33m\u001b[0m\u001b[1;33m\u001b[0m\u001b[0m\n\u001b[0m",
      "\u001b[1;31mNameError\u001b[0m: name 'x' is not defined"
     ]
    }
   ],
   "source": [
    "v = (lambda x : print(i) for i in x)"
   ]
  },
  {
   "cell_type": "code",
   "execution_count": 71,
   "id": "aa13e5a3",
   "metadata": {},
   "outputs": [],
   "source": [
    "v = lambda x : (print(i) for i in x)"
   ]
  },
  {
   "cell_type": "code",
   "execution_count": 72,
   "id": "ae42066a",
   "metadata": {},
   "outputs": [
    {
     "data": {
      "text/plain": [
       "<generator object <lambda>.<locals>.<genexpr> at 0x000001F582744970>"
      ]
     },
     "execution_count": 72,
     "metadata": {},
     "output_type": "execute_result"
    }
   ],
   "source": [
    "v([43,65,7,43])"
   ]
  },
  {
   "cell_type": "code",
   "execution_count": 73,
   "id": "6d8a2aac",
   "metadata": {},
   "outputs": [
    {
     "ename": "TypeError",
     "evalue": "<lambda>() takes 1 positional argument but 4 were given",
     "output_type": "error",
     "traceback": [
      "\u001b[1;31m---------------------------------------------------------------------------\u001b[0m",
      "\u001b[1;31mTypeError\u001b[0m                                 Traceback (most recent call last)",
      "\u001b[1;32m~\\AppData\\Local\\Temp/ipykernel_8256/2580123372.py\u001b[0m in \u001b[0;36m<module>\u001b[1;34m\u001b[0m\n\u001b[1;32m----> 1\u001b[1;33m \u001b[0mv\u001b[0m\u001b[1;33m(\u001b[0m\u001b[1;36m43\u001b[0m\u001b[1;33m,\u001b[0m\u001b[1;36m65\u001b[0m\u001b[1;33m,\u001b[0m\u001b[1;36m7\u001b[0m\u001b[1;33m,\u001b[0m\u001b[1;36m43\u001b[0m\u001b[1;33m)\u001b[0m\u001b[1;33m\u001b[0m\u001b[1;33m\u001b[0m\u001b[0m\n\u001b[0m",
      "\u001b[1;31mTypeError\u001b[0m: <lambda>() takes 1 positional argument but 4 were given"
     ]
    }
   ],
   "source": [
    "v(43,65,7,43)"
   ]
  },
  {
   "cell_type": "code",
   "execution_count": 74,
   "id": "43cd530f",
   "metadata": {},
   "outputs": [
    {
     "ename": "SyntaxError",
     "evalue": "unexpected EOF while parsing (Temp/ipykernel_8256/557775655.py, line 1)",
     "output_type": "error",
     "traceback": [
      "\u001b[1;36m  File \u001b[1;32m\"C:\\Users\\Utkarsh\\AppData\\Local\\Temp/ipykernel_8256/557775655.py\"\u001b[1;36m, line \u001b[1;32m1\u001b[0m\n\u001b[1;33m    v((43,65,7,43)\u001b[0m\n\u001b[1;37m                  ^\u001b[0m\n\u001b[1;31mSyntaxError\u001b[0m\u001b[1;31m:\u001b[0m unexpected EOF while parsing\n"
     ]
    }
   ],
   "source": [
    "v((43,65,7,43)"
   ]
  },
  {
   "cell_type": "code",
   "execution_count": 75,
   "id": "8f617771",
   "metadata": {},
   "outputs": [],
   "source": [
    "v = lambda x : [print(i) for i in x]"
   ]
  },
  {
   "cell_type": "code",
   "execution_count": 76,
   "id": "e7d3410c",
   "metadata": {},
   "outputs": [
    {
     "name": "stdout",
     "output_type": "stream",
     "text": [
      "43\n",
      "65\n",
      "7\n",
      "43\n"
     ]
    },
    {
     "data": {
      "text/plain": [
       "[None, None, None, None]"
      ]
     },
     "execution_count": 76,
     "metadata": {},
     "output_type": "execute_result"
    }
   ],
   "source": [
    "v([43,65,7,43])"
   ]
  },
  {
   "cell_type": "code",
   "execution_count": 77,
   "id": "55ac35a2",
   "metadata": {},
   "outputs": [],
   "source": [
    "v = lambda x : [(i) for i in x]"
   ]
  },
  {
   "cell_type": "code",
   "execution_count": 78,
   "id": "d3df097a",
   "metadata": {},
   "outputs": [
    {
     "ename": "TypeError",
     "evalue": "'int' object is not iterable",
     "output_type": "error",
     "traceback": [
      "\u001b[1;31m---------------------------------------------------------------------------\u001b[0m",
      "\u001b[1;31mTypeError\u001b[0m                                 Traceback (most recent call last)",
      "\u001b[1;32m~\\AppData\\Local\\Temp/ipykernel_8256/530873991.py\u001b[0m in \u001b[0;36m<module>\u001b[1;34m\u001b[0m\n\u001b[1;32m----> 1\u001b[1;33m \u001b[0mv\u001b[0m\u001b[1;33m(\u001b[0m\u001b[1;36m12\u001b[0m\u001b[1;33m)\u001b[0m\u001b[1;33m\u001b[0m\u001b[1;33m\u001b[0m\u001b[0m\n\u001b[0m",
      "\u001b[1;32m~\\AppData\\Local\\Temp/ipykernel_8256/4263462784.py\u001b[0m in \u001b[0;36m<lambda>\u001b[1;34m(x)\u001b[0m\n\u001b[1;32m----> 1\u001b[1;33m \u001b[0mv\u001b[0m \u001b[1;33m=\u001b[0m \u001b[1;32mlambda\u001b[0m \u001b[0mx\u001b[0m \u001b[1;33m:\u001b[0m \u001b[1;33m[\u001b[0m\u001b[1;33m(\u001b[0m\u001b[0mi\u001b[0m\u001b[1;33m)\u001b[0m \u001b[1;32mfor\u001b[0m \u001b[0mi\u001b[0m \u001b[1;32min\u001b[0m \u001b[0mx\u001b[0m\u001b[1;33m]\u001b[0m\u001b[1;33m\u001b[0m\u001b[1;33m\u001b[0m\u001b[0m\n\u001b[0m",
      "\u001b[1;31mTypeError\u001b[0m: 'int' object is not iterable"
     ]
    }
   ],
   "source": [
    "v(12)"
   ]
  },
  {
   "cell_type": "code",
   "execution_count": 79,
   "id": "e5b5d17e",
   "metadata": {},
   "outputs": [
    {
     "ename": "TypeError",
     "evalue": "<lambda>() takes 1 positional argument but 5 were given",
     "output_type": "error",
     "traceback": [
      "\u001b[1;31m---------------------------------------------------------------------------\u001b[0m",
      "\u001b[1;31mTypeError\u001b[0m                                 Traceback (most recent call last)",
      "\u001b[1;32m~\\AppData\\Local\\Temp/ipykernel_8256/987153302.py\u001b[0m in \u001b[0;36m<module>\u001b[1;34m\u001b[0m\n\u001b[1;32m----> 1\u001b[1;33m \u001b[0mv\u001b[0m\u001b[1;33m(\u001b[0m\u001b[1;36m23\u001b[0m\u001b[1;33m,\u001b[0m\u001b[1;36m123\u001b[0m\u001b[1;33m,\u001b[0m\u001b[1;36m123\u001b[0m\u001b[1;33m,\u001b[0m\u001b[1;36m123\u001b[0m\u001b[1;33m,\u001b[0m\u001b[1;36m123\u001b[0m\u001b[1;33m)\u001b[0m\u001b[1;33m\u001b[0m\u001b[1;33m\u001b[0m\u001b[0m\n\u001b[0m",
      "\u001b[1;31mTypeError\u001b[0m: <lambda>() takes 1 positional argument but 5 were given"
     ]
    }
   ],
   "source": [
    "v(23,123,123,123,123)"
   ]
  },
  {
   "cell_type": "code",
   "execution_count": 87,
   "id": "65a3fa90",
   "metadata": {},
   "outputs": [
    {
     "data": {
      "text/plain": [
       "[23, 123, 123, 123, 123]"
      ]
     },
     "execution_count": 87,
     "metadata": {},
     "output_type": "execute_result"
    }
   ],
   "source": [
    "v((23,123,123,123,123))"
   ]
  },
  {
   "cell_type": "code",
   "execution_count": 80,
   "id": "c8541334",
   "metadata": {},
   "outputs": [
    {
     "data": {
      "text/plain": [
       "[123, 123, 123, 123, 3423]"
      ]
     },
     "execution_count": 80,
     "metadata": {},
     "output_type": "execute_result"
    }
   ],
   "source": [
    "v([123,123,123,123,3423])"
   ]
  },
  {
   "cell_type": "code",
   "execution_count": 81,
   "id": "0838402b",
   "metadata": {},
   "outputs": [],
   "source": [
    "a = lambda **kwargs : kwargs"
   ]
  },
  {
   "cell_type": "code",
   "execution_count": 82,
   "id": "978b80f3",
   "metadata": {},
   "outputs": [
    {
     "data": {
      "text/plain": [
       "{'a': 45, 'b': 324}"
      ]
     },
     "execution_count": 82,
     "metadata": {},
     "output_type": "execute_result"
    }
   ],
   "source": [
    "a(a=45,b=324)"
   ]
  },
  {
   "cell_type": "code",
   "execution_count": 83,
   "id": "18edd47a",
   "metadata": {},
   "outputs": [
    {
     "data": {
      "text/plain": [
       "[123, 123, 123, 123, 3423]"
      ]
     },
     "execution_count": 83,
     "metadata": {},
     "output_type": "execute_result"
    }
   ],
   "source": [
    "v((123,123,123,123,3423))"
   ]
  },
  {
   "cell_type": "code",
   "execution_count": 84,
   "id": "49daa97b",
   "metadata": {},
   "outputs": [],
   "source": [
    "a = 10\n",
    "def test16(c,d):\n",
    "    return c*d"
   ]
  },
  {
   "cell_type": "code",
   "execution_count": 85,
   "id": "446e8309",
   "metadata": {},
   "outputs": [
    {
     "data": {
      "text/plain": [
       "500"
      ]
     },
     "execution_count": 85,
     "metadata": {},
     "output_type": "execute_result"
    }
   ],
   "source": [
    "test16(a, 50)"
   ]
  },
  {
   "cell_type": "code",
   "execution_count": 88,
   "id": "6aafe10e",
   "metadata": {},
   "outputs": [],
   "source": [
    "a = 10\n",
    "def test16(c,d):\n",
    "    a=5\n",
    "    return c*d"
   ]
  },
  {
   "cell_type": "code",
   "execution_count": 89,
   "id": "624e75d6",
   "metadata": {},
   "outputs": [
    {
     "data": {
      "text/plain": [
       "500"
      ]
     },
     "execution_count": 89,
     "metadata": {},
     "output_type": "execute_result"
    }
   ],
   "source": [
    "test16(a, 50)"
   ]
  },
  {
   "cell_type": "code",
   "execution_count": 90,
   "id": "ab8a6f79",
   "metadata": {},
   "outputs": [],
   "source": [
    "a = 10\n",
    "def test16(c,d):\n",
    "    c=5\n",
    "    return c*d"
   ]
  },
  {
   "cell_type": "code",
   "execution_count": 91,
   "id": "5a3b985c",
   "metadata": {},
   "outputs": [
    {
     "data": {
      "text/plain": [
       "250"
      ]
     },
     "execution_count": 91,
     "metadata": {},
     "output_type": "execute_result"
    }
   ],
   "source": [
    "test16(a, 50)"
   ]
  },
  {
   "cell_type": "code",
   "execution_count": 92,
   "id": "ae5dc5c2",
   "metadata": {},
   "outputs": [
    {
     "data": {
      "text/plain": [
       "250"
      ]
     },
     "execution_count": 92,
     "metadata": {},
     "output_type": "execute_result"
    }
   ],
   "source": [
    "test16(15, 50)"
   ]
  },
  {
   "cell_type": "code",
   "execution_count": 93,
   "id": "e5768624",
   "metadata": {},
   "outputs": [],
   "source": [
    "c = 10\n",
    "def test16(c,d):\n",
    "    c=5\n",
    "    return c*d"
   ]
  },
  {
   "cell_type": "code",
   "execution_count": 94,
   "id": "571ccf85",
   "metadata": {},
   "outputs": [
    {
     "data": {
      "text/plain": [
       "250"
      ]
     },
     "execution_count": 94,
     "metadata": {},
     "output_type": "execute_result"
    }
   ],
   "source": [
    "test16(15, 50)"
   ]
  },
  {
   "cell_type": "code",
   "execution_count": 95,
   "id": "bc6c8f25",
   "metadata": {},
   "outputs": [],
   "source": [
    "c = 10\n",
    "def test16(c,d):\n",
    "    return c*d"
   ]
  },
  {
   "cell_type": "code",
   "execution_count": 96,
   "id": "bd493fea",
   "metadata": {},
   "outputs": [
    {
     "data": {
      "text/plain": [
       "750"
      ]
     },
     "execution_count": 96,
     "metadata": {},
     "output_type": "execute_result"
    }
   ],
   "source": [
    "test16(15, 50)"
   ]
  },
  {
   "cell_type": "code",
   "execution_count": 97,
   "id": "28c4600d",
   "metadata": {},
   "outputs": [],
   "source": [
    "l = [1,2,3,4,4,5,5,345,234]"
   ]
  },
  {
   "cell_type": "code",
   "execution_count": 98,
   "id": "352879ea",
   "metadata": {},
   "outputs": [],
   "source": [
    "l1=[]"
   ]
  },
  {
   "cell_type": "code",
   "execution_count": 99,
   "id": "8b1c883d",
   "metadata": {},
   "outputs": [],
   "source": [
    "for i in l:\n",
    "    l1.append(i+2)"
   ]
  },
  {
   "cell_type": "code",
   "execution_count": 100,
   "id": "9d14c85a",
   "metadata": {},
   "outputs": [
    {
     "data": {
      "text/plain": [
       "[3, 4, 5, 6, 6, 7, 7, 347, 236]"
      ]
     },
     "execution_count": 100,
     "metadata": {},
     "output_type": "execute_result"
    }
   ],
   "source": [
    "l1"
   ]
  },
  {
   "cell_type": "code",
   "execution_count": 101,
   "id": "c5c647f1",
   "metadata": {},
   "outputs": [],
   "source": [
    "def test17(a):\n",
    "    l1=[]\n",
    "    for i in a:\n",
    "        l1.append(i+2)\n",
    "    return l1"
   ]
  },
  {
   "cell_type": "code",
   "execution_count": 102,
   "id": "372c58d4",
   "metadata": {},
   "outputs": [
    {
     "data": {
      "text/plain": [
       "[5, 6, 7, 8, 8, 9, 9, 349, 238]"
      ]
     },
     "execution_count": 102,
     "metadata": {},
     "output_type": "execute_result"
    }
   ],
   "source": [
    "test17(l1)"
   ]
  },
  {
   "cell_type": "code",
   "execution_count": 103,
   "id": "6791fea7",
   "metadata": {},
   "outputs": [],
   "source": [
    "v = lambda a:[i +2 for i in a]"
   ]
  },
  {
   "cell_type": "code",
   "execution_count": 104,
   "id": "727b9854",
   "metadata": {},
   "outputs": [
    {
     "data": {
      "text/plain": [
       "[5, 6, 7, 8, 8, 9, 9, 349, 238]"
      ]
     },
     "execution_count": 104,
     "metadata": {},
     "output_type": "execute_result"
    }
   ],
   "source": [
    "v(l1)"
   ]
  },
  {
   "cell_type": "code",
   "execution_count": 105,
   "id": "1e4a0958",
   "metadata": {},
   "outputs": [
    {
     "data": {
      "text/plain": [
       "[3, 4, 5, 6, 6, 7, 7, 347, 236]"
      ]
     },
     "execution_count": 105,
     "metadata": {},
     "output_type": "execute_result"
    }
   ],
   "source": [
    "l1"
   ]
  },
  {
   "cell_type": "code",
   "execution_count": 106,
   "id": "813def8a",
   "metadata": {},
   "outputs": [
    {
     "data": {
      "text/plain": [
       "[3, 4, 5, 6, 6, 7, 7, 347, 236]"
      ]
     },
     "execution_count": 106,
     "metadata": {},
     "output_type": "execute_result"
    }
   ],
   "source": [
    "[i+2 for i in l]"
   ]
  },
  {
   "cell_type": "code",
   "execution_count": 107,
   "id": "f0cdcc62",
   "metadata": {},
   "outputs": [
    {
     "ename": "SyntaxError",
     "evalue": "invalid syntax (Temp/ipykernel_8256/116061736.py, line 1)",
     "output_type": "error",
     "traceback": [
      "\u001b[1;36m  File \u001b[1;32m\"C:\\Users\\Utkarsh\\AppData\\Local\\Temp/ipykernel_8256/116061736.py\"\u001b[1;36m, line \u001b[1;32m1\u001b[0m\n\u001b[1;33m    [i+2, 2*i for i in l]\u001b[0m\n\u001b[1;37m              ^\u001b[0m\n\u001b[1;31mSyntaxError\u001b[0m\u001b[1;31m:\u001b[0m invalid syntax\n"
     ]
    }
   ],
   "source": [
    "[i+2, 2*i for i in l]"
   ]
  },
  {
   "cell_type": "code",
   "execution_count": 108,
   "id": "be81bc1d",
   "metadata": {},
   "outputs": [
    {
     "data": {
      "text/plain": [
       "[(3, 2),\n",
       " (4, 4),\n",
       " (5, 6),\n",
       " (6, 8),\n",
       " (6, 8),\n",
       " (7, 10),\n",
       " (7, 10),\n",
       " (347, 690),\n",
       " (236, 468)]"
      ]
     },
     "execution_count": 108,
     "metadata": {},
     "output_type": "execute_result"
    }
   ],
   "source": [
    "[(i+2, 2*i) for i in l]"
   ]
  },
  {
   "cell_type": "code",
   "execution_count": 109,
   "id": "9830449c",
   "metadata": {},
   "outputs": [
    {
     "data": {
      "text/plain": [
       "[(1, 2), (4, 4), (9, 6)]"
      ]
     },
     "execution_count": 109,
     "metadata": {},
     "output_type": "execute_result"
    }
   ],
   "source": [
    "[(i**2, 2*i) for i in l if i<4]"
   ]
  },
  {
   "cell_type": "code",
   "execution_count": 110,
   "id": "40726868",
   "metadata": {},
   "outputs": [],
   "source": [
    "l1=[]"
   ]
  },
  {
   "cell_type": "code",
   "execution_count": 111,
   "id": "df1658ad",
   "metadata": {},
   "outputs": [],
   "source": [
    "for i in l:\n",
    "    if i <4:\n",
    "        l1.append((i**2, 2*i))"
   ]
  },
  {
   "cell_type": "code",
   "execution_count": 112,
   "id": "02039b84",
   "metadata": {},
   "outputs": [
    {
     "data": {
      "text/plain": [
       "[(1, 2), (4, 4), (9, 6)]"
      ]
     },
     "execution_count": 112,
     "metadata": {},
     "output_type": "execute_result"
    }
   ],
   "source": [
    "l1"
   ]
  },
  {
   "cell_type": "code",
   "execution_count": 113,
   "id": "768dd6e8",
   "metadata": {},
   "outputs": [
    {
     "data": {
      "text/plain": [
       "[(4, 4), (9, 6)]"
      ]
     },
     "execution_count": 113,
     "metadata": {},
     "output_type": "execute_result"
    }
   ],
   "source": [
    "#multiple conditions\n",
    "[(i**2, 2*i) for i in l if i<4 if i>1]"
   ]
  },
  {
   "cell_type": "code",
   "execution_count": 114,
   "id": "c5d3fa0d",
   "metadata": {},
   "outputs": [],
   "source": [
    "d = {1:1, 2:4, 3:9}"
   ]
  },
  {
   "cell_type": "code",
   "execution_count": null,
   "id": "a70cfa87",
   "metadata": {},
   "outputs": [],
   "source": [
    "{i:i**2 for i in range(10)}"
   ]
  },
  {
   "cell_type": "code",
   "execution_count": 115,
   "id": "b9104157",
   "metadata": {},
   "outputs": [],
   "source": [
    "d1={}\n",
    "for i in range(10):\n",
    "    d1[i] = i**2"
   ]
  },
  {
   "cell_type": "code",
   "execution_count": 116,
   "id": "ad319b0c",
   "metadata": {},
   "outputs": [
    {
     "data": {
      "text/plain": [
       "{0: 0, 1: 1, 2: 4, 3: 9, 4: 16, 5: 25, 6: 36, 7: 49, 8: 64, 9: 81}"
      ]
     },
     "execution_count": 116,
     "metadata": {},
     "output_type": "execute_result"
    }
   ],
   "source": [
    "d1"
   ]
  },
  {
   "cell_type": "code",
   "execution_count": 117,
   "id": "12b4a447",
   "metadata": {},
   "outputs": [
    {
     "ename": "SyntaxError",
     "evalue": "invalid syntax (Temp/ipykernel_8256/1440166264.py, line 1)",
     "output_type": "error",
     "traceback": [
      "\u001b[1;36m  File \u001b[1;32m\"C:\\Users\\Utkarsh\\AppData\\Local\\Temp/ipykernel_8256/1440166264.py\"\u001b[1;36m, line \u001b[1;32m1\u001b[0m\n\u001b[1;33m    (for i in a range(10))\u001b[0m\n\u001b[1;37m     ^\u001b[0m\n\u001b[1;31mSyntaxError\u001b[0m\u001b[1;31m:\u001b[0m invalid syntax\n"
     ]
    }
   ],
   "source": [
    "(for i in a range(10))"
   ]
  },
  {
   "cell_type": "code",
   "execution_count": 118,
   "id": "98461876",
   "metadata": {},
   "outputs": [
    {
     "ename": "SyntaxError",
     "evalue": "invalid syntax (Temp/ipykernel_8256/40237872.py, line 1)",
     "output_type": "error",
     "traceback": [
      "\u001b[1;36m  File \u001b[1;32m\"C:\\Users\\Utkarsh\\AppData\\Local\\Temp/ipykernel_8256/40237872.py\"\u001b[1;36m, line \u001b[1;32m1\u001b[0m\n\u001b[1;33m    (for i in range(10))\u001b[0m\n\u001b[1;37m     ^\u001b[0m\n\u001b[1;31mSyntaxError\u001b[0m\u001b[1;31m:\u001b[0m invalid syntax\n"
     ]
    }
   ],
   "source": [
    "(for i in range(10))"
   ]
  },
  {
   "cell_type": "code",
   "execution_count": 119,
   "id": "d9021c85",
   "metadata": {},
   "outputs": [
    {
     "ename": "SyntaxError",
     "evalue": "invalid syntax (Temp/ipykernel_8256/1445817651.py, line 1)",
     "output_type": "error",
     "traceback": [
      "\u001b[1;36m  File \u001b[1;32m\"C:\\Users\\Utkarsh\\AppData\\Local\\Temp/ipykernel_8256/1445817651.py\"\u001b[1;36m, line \u001b[1;32m1\u001b[0m\n\u001b[1;33m    (i for i in a range(10))\u001b[0m\n\u001b[1;37m                  ^\u001b[0m\n\u001b[1;31mSyntaxError\u001b[0m\u001b[1;31m:\u001b[0m invalid syntax\n"
     ]
    }
   ],
   "source": [
    "(i for i in a range(10))"
   ]
  },
  {
   "cell_type": "code",
   "execution_count": 120,
   "id": "60f1a172",
   "metadata": {},
   "outputs": [
    {
     "data": {
      "text/plain": [
       "<generator object <genexpr> at 0x000001F58274E820>"
      ]
     },
     "execution_count": 120,
     "metadata": {},
     "output_type": "execute_result"
    }
   ],
   "source": [
    "(i for i in range(10))"
   ]
  },
  {
   "cell_type": "code",
   "execution_count": 121,
   "id": "dbd98ace",
   "metadata": {},
   "outputs": [
    {
     "data": {
      "text/plain": [
       "(0, 1, 2, 3, 4, 5, 6, 7, 8, 9)"
      ]
     },
     "execution_count": 121,
     "metadata": {},
     "output_type": "execute_result"
    }
   ],
   "source": [
    "tuple(i for i in range(10))"
   ]
  },
  {
   "cell_type": "code",
   "execution_count": 122,
   "id": "590cfa29",
   "metadata": {},
   "outputs": [
    {
     "ename": "TypeError",
     "evalue": "'int' object is not iterable",
     "output_type": "error",
     "traceback": [
      "\u001b[1;31m---------------------------------------------------------------------------\u001b[0m",
      "\u001b[1;31mTypeError\u001b[0m                                 Traceback (most recent call last)",
      "\u001b[1;32m~\\AppData\\Local\\Temp/ipykernel_8256/815125379.py\u001b[0m in \u001b[0;36m<module>\u001b[1;34m\u001b[0m\n\u001b[0;32m      1\u001b[0m \u001b[0ma\u001b[0m \u001b[1;33m=\u001b[0m \u001b[1;36m56\u001b[0m\u001b[1;33m\u001b[0m\u001b[1;33m\u001b[0m\u001b[0m\n\u001b[1;32m----> 2\u001b[1;33m \u001b[1;32mfor\u001b[0m \u001b[0mi\u001b[0m \u001b[1;32min\u001b[0m \u001b[0ma\u001b[0m\u001b[1;33m:\u001b[0m\u001b[1;33m\u001b[0m\u001b[1;33m\u001b[0m\u001b[0m\n\u001b[0m\u001b[0;32m      3\u001b[0m     \u001b[0mprint\u001b[0m\u001b[1;33m(\u001b[0m\u001b[0mi\u001b[0m\u001b[1;33m)\u001b[0m\u001b[1;33m\u001b[0m\u001b[1;33m\u001b[0m\u001b[0m\n",
      "\u001b[1;31mTypeError\u001b[0m: 'int' object is not iterable"
     ]
    }
   ],
   "source": [
    "a = 56\n",
    "for i in a:\n",
    "    print(i)"
   ]
  },
  {
   "cell_type": "code",
   "execution_count": 123,
   "id": "4d7c636e",
   "metadata": {},
   "outputs": [
    {
     "name": "stdout",
     "output_type": "stream",
     "text": [
      "5\n",
      "6\n"
     ]
    }
   ],
   "source": [
    "a = \"56\"\n",
    "for i in a:\n",
    "    print(i)"
   ]
  },
  {
   "cell_type": "code",
   "execution_count": 124,
   "id": "41e6258b",
   "metadata": {},
   "outputs": [
    {
     "name": "stdout",
     "output_type": "stream",
     "text": [
      "s\n",
      "u\n",
      "d\n",
      "h\n"
     ]
    }
   ],
   "source": [
    "s = \"sudh\"\n",
    "for i in s:\n",
    "    print(i)"
   ]
  },
  {
   "cell_type": "code",
   "execution_count": 125,
   "id": "8ddb5fc8",
   "metadata": {},
   "outputs": [
    {
     "ename": "TypeError",
     "evalue": "'str' object is not an iterator",
     "output_type": "error",
     "traceback": [
      "\u001b[1;31m---------------------------------------------------------------------------\u001b[0m",
      "\u001b[1;31mTypeError\u001b[0m                                 Traceback (most recent call last)",
      "\u001b[1;32m~\\AppData\\Local\\Temp/ipykernel_8256/1977886155.py\u001b[0m in \u001b[0;36m<module>\u001b[1;34m\u001b[0m\n\u001b[1;32m----> 1\u001b[1;33m \u001b[0mnext\u001b[0m\u001b[1;33m(\u001b[0m\u001b[0ms\u001b[0m\u001b[1;33m)\u001b[0m\u001b[1;33m\u001b[0m\u001b[1;33m\u001b[0m\u001b[0m\n\u001b[0m",
      "\u001b[1;31mTypeError\u001b[0m: 'str' object is not an iterator"
     ]
    }
   ],
   "source": [
    "next(s)"
   ]
  },
  {
   "cell_type": "code",
   "execution_count": 126,
   "id": "7b995211",
   "metadata": {},
   "outputs": [],
   "source": [
    "b = iter(s)"
   ]
  },
  {
   "cell_type": "code",
   "execution_count": 127,
   "id": "8fd5a670",
   "metadata": {},
   "outputs": [
    {
     "data": {
      "text/plain": [
       "<str_iterator at 0x1f582755ac0>"
      ]
     },
     "execution_count": 127,
     "metadata": {},
     "output_type": "execute_result"
    }
   ],
   "source": [
    "b"
   ]
  },
  {
   "cell_type": "code",
   "execution_count": 128,
   "id": "71e72738",
   "metadata": {},
   "outputs": [
    {
     "ename": "TypeError",
     "evalue": "'str' object is not an iterator",
     "output_type": "error",
     "traceback": [
      "\u001b[1;31m---------------------------------------------------------------------------\u001b[0m",
      "\u001b[1;31mTypeError\u001b[0m                                 Traceback (most recent call last)",
      "\u001b[1;32m~\\AppData\\Local\\Temp/ipykernel_8256/1977886155.py\u001b[0m in \u001b[0;36m<module>\u001b[1;34m\u001b[0m\n\u001b[1;32m----> 1\u001b[1;33m \u001b[0mnext\u001b[0m\u001b[1;33m(\u001b[0m\u001b[0ms\u001b[0m\u001b[1;33m)\u001b[0m\u001b[1;33m\u001b[0m\u001b[1;33m\u001b[0m\u001b[0m\n\u001b[0m",
      "\u001b[1;31mTypeError\u001b[0m: 'str' object is not an iterator"
     ]
    }
   ],
   "source": [
    "next(s)"
   ]
  },
  {
   "cell_type": "code",
   "execution_count": 129,
   "id": "f6c0e2ad",
   "metadata": {},
   "outputs": [
    {
     "data": {
      "text/plain": [
       "'s'"
      ]
     },
     "execution_count": 129,
     "metadata": {},
     "output_type": "execute_result"
    }
   ],
   "source": [
    "next(b)"
   ]
  },
  {
   "cell_type": "code",
   "execution_count": 130,
   "id": "079869f4",
   "metadata": {},
   "outputs": [
    {
     "data": {
      "text/plain": [
       "'u'"
      ]
     },
     "execution_count": 130,
     "metadata": {},
     "output_type": "execute_result"
    }
   ],
   "source": [
    "next(b)"
   ]
  },
  {
   "cell_type": "code",
   "execution_count": 131,
   "id": "f8054448",
   "metadata": {},
   "outputs": [
    {
     "data": {
      "text/plain": [
       "'d'"
      ]
     },
     "execution_count": 131,
     "metadata": {},
     "output_type": "execute_result"
    }
   ],
   "source": [
    "next(b)"
   ]
  },
  {
   "cell_type": "code",
   "execution_count": 132,
   "id": "2e288a34",
   "metadata": {},
   "outputs": [
    {
     "data": {
      "text/plain": [
       "'h'"
      ]
     },
     "execution_count": 132,
     "metadata": {},
     "output_type": "execute_result"
    }
   ],
   "source": [
    "next(b)"
   ]
  },
  {
   "cell_type": "code",
   "execution_count": 133,
   "id": "c8ebade7",
   "metadata": {},
   "outputs": [
    {
     "ename": "StopIteration",
     "evalue": "",
     "output_type": "error",
     "traceback": [
      "\u001b[1;31m---------------------------------------------------------------------------\u001b[0m",
      "\u001b[1;31mStopIteration\u001b[0m                             Traceback (most recent call last)",
      "\u001b[1;32m~\\AppData\\Local\\Temp/ipykernel_8256/973617480.py\u001b[0m in \u001b[0;36m<module>\u001b[1;34m\u001b[0m\n\u001b[1;32m----> 1\u001b[1;33m \u001b[0mnext\u001b[0m\u001b[1;33m(\u001b[0m\u001b[0mb\u001b[0m\u001b[1;33m)\u001b[0m\u001b[1;33m\u001b[0m\u001b[1;33m\u001b[0m\u001b[0m\n\u001b[0m",
      "\u001b[1;31mStopIteration\u001b[0m: "
     ]
    }
   ],
   "source": [
    "next(b)"
   ]
  },
  {
   "cell_type": "code",
   "execution_count": 134,
   "id": "ab9dc840",
   "metadata": {},
   "outputs": [
    {
     "name": "stdout",
     "output_type": "stream",
     "text": [
      "s\n",
      "u\n",
      "d\n",
      "h\n"
     ]
    }
   ],
   "source": [
    "s = \"sudh\"\n",
    "for i in s:\n",
    "    print(i)"
   ]
  },
  {
   "cell_type": "code",
   "execution_count": 135,
   "id": "d412f88b",
   "metadata": {},
   "outputs": [],
   "source": [
    "l=[2453,3445,345,3,45]"
   ]
  },
  {
   "cell_type": "code",
   "execution_count": 136,
   "id": "a03ac8e3",
   "metadata": {},
   "outputs": [
    {
     "ename": "TypeError",
     "evalue": "'list' object is not an iterator",
     "output_type": "error",
     "traceback": [
      "\u001b[1;31m---------------------------------------------------------------------------\u001b[0m",
      "\u001b[1;31mTypeError\u001b[0m                                 Traceback (most recent call last)",
      "\u001b[1;32m~\\AppData\\Local\\Temp/ipykernel_8256/2016234150.py\u001b[0m in \u001b[0;36m<module>\u001b[1;34m\u001b[0m\n\u001b[1;32m----> 1\u001b[1;33m \u001b[0mnext\u001b[0m\u001b[1;33m(\u001b[0m\u001b[0ml\u001b[0m\u001b[1;33m)\u001b[0m\u001b[1;33m\u001b[0m\u001b[1;33m\u001b[0m\u001b[0m\n\u001b[0m",
      "\u001b[1;31mTypeError\u001b[0m: 'list' object is not an iterator"
     ]
    }
   ],
   "source": [
    "next(l)"
   ]
  },
  {
   "cell_type": "code",
   "execution_count": 137,
   "id": "828df892",
   "metadata": {},
   "outputs": [
    {
     "data": {
      "text/plain": [
       "<list_iterator at 0x1f582755cd0>"
      ]
     },
     "execution_count": 137,
     "metadata": {},
     "output_type": "execute_result"
    }
   ],
   "source": [
    "iter(l)"
   ]
  },
  {
   "cell_type": "code",
   "execution_count": 138,
   "id": "0b26b7ee",
   "metadata": {},
   "outputs": [
    {
     "ename": "TypeError",
     "evalue": "'list' object is not an iterator",
     "output_type": "error",
     "traceback": [
      "\u001b[1;31m---------------------------------------------------------------------------\u001b[0m",
      "\u001b[1;31mTypeError\u001b[0m                                 Traceback (most recent call last)",
      "\u001b[1;32m~\\AppData\\Local\\Temp/ipykernel_8256/2016234150.py\u001b[0m in \u001b[0;36m<module>\u001b[1;34m\u001b[0m\n\u001b[1;32m----> 1\u001b[1;33m \u001b[0mnext\u001b[0m\u001b[1;33m(\u001b[0m\u001b[0ml\u001b[0m\u001b[1;33m)\u001b[0m\u001b[1;33m\u001b[0m\u001b[1;33m\u001b[0m\u001b[0m\n\u001b[0m",
      "\u001b[1;31mTypeError\u001b[0m: 'list' object is not an iterator"
     ]
    }
   ],
   "source": [
    "next(l)"
   ]
  },
  {
   "cell_type": "code",
   "execution_count": 139,
   "id": "6ee909a7",
   "metadata": {},
   "outputs": [],
   "source": [
    "v = iter(l)"
   ]
  },
  {
   "cell_type": "code",
   "execution_count": 140,
   "id": "a2fb6534",
   "metadata": {},
   "outputs": [
    {
     "data": {
      "text/plain": [
       "2453"
      ]
     },
     "execution_count": 140,
     "metadata": {},
     "output_type": "execute_result"
    }
   ],
   "source": [
    "next(v)"
   ]
  },
  {
   "cell_type": "code",
   "execution_count": 141,
   "id": "a5461343",
   "metadata": {},
   "outputs": [
    {
     "data": {
      "text/plain": [
       "3445"
      ]
     },
     "execution_count": 141,
     "metadata": {},
     "output_type": "execute_result"
    }
   ],
   "source": [
    "next(v)"
   ]
  },
  {
   "cell_type": "code",
   "execution_count": 142,
   "id": "b597cfb8",
   "metadata": {},
   "outputs": [
    {
     "data": {
      "text/plain": [
       "345"
      ]
     },
     "execution_count": 142,
     "metadata": {},
     "output_type": "execute_result"
    }
   ],
   "source": [
    "next(v)"
   ]
  },
  {
   "cell_type": "code",
   "execution_count": 143,
   "id": "413594df",
   "metadata": {},
   "outputs": [
    {
     "data": {
      "text/plain": [
       "3"
      ]
     },
     "execution_count": 143,
     "metadata": {},
     "output_type": "execute_result"
    }
   ],
   "source": [
    "next(v)"
   ]
  },
  {
   "cell_type": "code",
   "execution_count": 144,
   "id": "d7718b43",
   "metadata": {},
   "outputs": [
    {
     "data": {
      "text/plain": [
       "45"
      ]
     },
     "execution_count": 144,
     "metadata": {},
     "output_type": "execute_result"
    }
   ],
   "source": [
    "next(v)"
   ]
  },
  {
   "cell_type": "code",
   "execution_count": 145,
   "id": "ead47b18",
   "metadata": {},
   "outputs": [
    {
     "ename": "StopIteration",
     "evalue": "",
     "output_type": "error",
     "traceback": [
      "\u001b[1;31m---------------------------------------------------------------------------\u001b[0m",
      "\u001b[1;31mStopIteration\u001b[0m                             Traceback (most recent call last)",
      "\u001b[1;32m~\\AppData\\Local\\Temp/ipykernel_8256/4181702973.py\u001b[0m in \u001b[0;36m<module>\u001b[1;34m\u001b[0m\n\u001b[1;32m----> 1\u001b[1;33m \u001b[0mnext\u001b[0m\u001b[1;33m(\u001b[0m\u001b[0mv\u001b[0m\u001b[1;33m)\u001b[0m\u001b[1;33m\u001b[0m\u001b[1;33m\u001b[0m\u001b[0m\n\u001b[0m",
      "\u001b[1;31mStopIteration\u001b[0m: "
     ]
    }
   ],
   "source": [
    "next(v)"
   ]
  },
  {
   "cell_type": "code",
   "execution_count": 146,
   "id": "0be720aa",
   "metadata": {},
   "outputs": [
    {
     "ename": "StopIteration",
     "evalue": "",
     "output_type": "error",
     "traceback": [
      "\u001b[1;31m---------------------------------------------------------------------------\u001b[0m",
      "\u001b[1;31mStopIteration\u001b[0m                             Traceback (most recent call last)",
      "\u001b[1;32m~\\AppData\\Local\\Temp/ipykernel_8256/4181702973.py\u001b[0m in \u001b[0;36m<module>\u001b[1;34m\u001b[0m\n\u001b[1;32m----> 1\u001b[1;33m \u001b[0mnext\u001b[0m\u001b[1;33m(\u001b[0m\u001b[0mv\u001b[0m\u001b[1;33m)\u001b[0m\u001b[1;33m\u001b[0m\u001b[1;33m\u001b[0m\u001b[0m\n\u001b[0m",
      "\u001b[1;31mStopIteration\u001b[0m: "
     ]
    }
   ],
   "source": [
    "next(v)"
   ]
  },
  {
   "cell_type": "code",
   "execution_count": 147,
   "id": "6bedf902",
   "metadata": {},
   "outputs": [
    {
     "ename": "TypeError",
     "evalue": "'int' object is not iterable",
     "output_type": "error",
     "traceback": [
      "\u001b[1;31m---------------------------------------------------------------------------\u001b[0m",
      "\u001b[1;31mTypeError\u001b[0m                                 Traceback (most recent call last)",
      "\u001b[1;32m~\\AppData\\Local\\Temp/ipykernel_8256/1638671874.py\u001b[0m in \u001b[0;36m<module>\u001b[1;34m\u001b[0m\n\u001b[1;32m----> 1\u001b[1;33m \u001b[0miter\u001b[0m\u001b[1;33m(\u001b[0m\u001b[1;36m345\u001b[0m\u001b[1;33m)\u001b[0m\u001b[1;33m\u001b[0m\u001b[1;33m\u001b[0m\u001b[0m\n\u001b[0m",
      "\u001b[1;31mTypeError\u001b[0m: 'int' object is not iterable"
     ]
    }
   ],
   "source": [
    "iter(345)"
   ]
  },
  {
   "cell_type": "code",
   "execution_count": 148,
   "id": "edbb4b23",
   "metadata": {},
   "outputs": [
    {
     "ename": "SyntaxError",
     "evalue": "invalid syntax (Temp/ipykernel_8256/2640411788.py, line 1)",
     "output_type": "error",
     "traceback": [
      "\u001b[1;36m  File \u001b[1;32m\"C:\\Users\\Utkarsh\\AppData\\Local\\Temp/ipykernel_8256/2640411788.py\"\u001b[1;36m, line \u001b[1;32m1\u001b[0m\n\u001b[1;33m    iter\"wsaefsf\"\u001b[0m\n\u001b[1;37m        ^\u001b[0m\n\u001b[1;31mSyntaxError\u001b[0m\u001b[1;31m:\u001b[0m invalid syntax\n"
     ]
    }
   ],
   "source": [
    "iter\"wsaefsf\""
   ]
  },
  {
   "cell_type": "code",
   "execution_count": 149,
   "id": "78eaab91",
   "metadata": {},
   "outputs": [
    {
     "data": {
      "text/plain": [
       "<str_iterator at 0x1f582755250>"
      ]
     },
     "execution_count": 149,
     "metadata": {},
     "output_type": "execute_result"
    }
   ],
   "source": [
    "iter(\"wsaefsf\")"
   ]
  },
  {
   "cell_type": "code",
   "execution_count": 150,
   "id": "c997d595",
   "metadata": {},
   "outputs": [
    {
     "ename": "TypeError",
     "evalue": "'str' object is not an iterator",
     "output_type": "error",
     "traceback": [
      "\u001b[1;31m---------------------------------------------------------------------------\u001b[0m",
      "\u001b[1;31mTypeError\u001b[0m                                 Traceback (most recent call last)",
      "\u001b[1;32m~\\AppData\\Local\\Temp/ipykernel_8256/3820406126.py\u001b[0m in \u001b[0;36m<module>\u001b[1;34m\u001b[0m\n\u001b[1;32m----> 1\u001b[1;33m \u001b[0mnext\u001b[0m\u001b[1;33m(\u001b[0m\u001b[1;34m\"wsaefsf\"\u001b[0m\u001b[1;33m)\u001b[0m\u001b[1;33m\u001b[0m\u001b[1;33m\u001b[0m\u001b[0m\n\u001b[0m",
      "\u001b[1;31mTypeError\u001b[0m: 'str' object is not an iterator"
     ]
    }
   ],
   "source": [
    "next(\"wsaefsf\")"
   ]
  },
  {
   "cell_type": "code",
   "execution_count": 151,
   "id": "e5338674",
   "metadata": {},
   "outputs": [],
   "source": [
    "v = iter(\"wsaefsf\")"
   ]
  },
  {
   "cell_type": "code",
   "execution_count": 152,
   "id": "056c929d",
   "metadata": {},
   "outputs": [
    {
     "data": {
      "text/plain": [
       "'w'"
      ]
     },
     "execution_count": 152,
     "metadata": {},
     "output_type": "execute_result"
    }
   ],
   "source": [
    "next(v)"
   ]
  },
  {
   "cell_type": "code",
   "execution_count": 153,
   "id": "6c543924",
   "metadata": {},
   "outputs": [
    {
     "data": {
      "text/plain": [
       "'s'"
      ]
     },
     "execution_count": 153,
     "metadata": {},
     "output_type": "execute_result"
    }
   ],
   "source": [
    "next(v)"
   ]
  },
  {
   "cell_type": "code",
   "execution_count": 154,
   "id": "097dd47c",
   "metadata": {},
   "outputs": [
    {
     "data": {
      "text/plain": [
       "'a'"
      ]
     },
     "execution_count": 154,
     "metadata": {},
     "output_type": "execute_result"
    }
   ],
   "source": [
    "next(v)"
   ]
  },
  {
   "cell_type": "code",
   "execution_count": 155,
   "id": "1f892a7e",
   "metadata": {},
   "outputs": [
    {
     "data": {
      "text/plain": [
       "'e'"
      ]
     },
     "execution_count": 155,
     "metadata": {},
     "output_type": "execute_result"
    }
   ],
   "source": [
    "next(v)"
   ]
  },
  {
   "cell_type": "code",
   "execution_count": 156,
   "id": "d4350181",
   "metadata": {},
   "outputs": [
    {
     "data": {
      "text/plain": [
       "'f'"
      ]
     },
     "execution_count": 156,
     "metadata": {},
     "output_type": "execute_result"
    }
   ],
   "source": [
    "next(v)"
   ]
  },
  {
   "cell_type": "code",
   "execution_count": 157,
   "id": "2fe7cdcd",
   "metadata": {},
   "outputs": [
    {
     "data": {
      "text/plain": [
       "'s'"
      ]
     },
     "execution_count": 157,
     "metadata": {},
     "output_type": "execute_result"
    }
   ],
   "source": [
    "next(v)"
   ]
  },
  {
   "cell_type": "code",
   "execution_count": 158,
   "id": "6a1a3e05",
   "metadata": {},
   "outputs": [
    {
     "data": {
      "text/plain": [
       "'f'"
      ]
     },
     "execution_count": 158,
     "metadata": {},
     "output_type": "execute_result"
    }
   ],
   "source": [
    "next(v)"
   ]
  },
  {
   "cell_type": "code",
   "execution_count": 159,
   "id": "db3eb549",
   "metadata": {},
   "outputs": [
    {
     "ename": "StopIteration",
     "evalue": "",
     "output_type": "error",
     "traceback": [
      "\u001b[1;31m---------------------------------------------------------------------------\u001b[0m",
      "\u001b[1;31mStopIteration\u001b[0m                             Traceback (most recent call last)",
      "\u001b[1;32m~\\AppData\\Local\\Temp/ipykernel_8256/4181702973.py\u001b[0m in \u001b[0;36m<module>\u001b[1;34m\u001b[0m\n\u001b[1;32m----> 1\u001b[1;33m \u001b[0mnext\u001b[0m\u001b[1;33m(\u001b[0m\u001b[0mv\u001b[0m\u001b[1;33m)\u001b[0m\u001b[1;33m\u001b[0m\u001b[1;33m\u001b[0m\u001b[0m\n\u001b[0m",
      "\u001b[1;31mStopIteration\u001b[0m: "
     ]
    }
   ],
   "source": [
    "next(v)"
   ]
  }
 ],
 "metadata": {
  "kernelspec": {
   "display_name": "Python 3 (ipykernel)",
   "language": "python",
   "name": "python3"
  },
  "language_info": {
   "codemirror_mode": {
    "name": "ipython",
    "version": 3
   },
   "file_extension": ".py",
   "mimetype": "text/x-python",
   "name": "python",
   "nbconvert_exporter": "python",
   "pygments_lexer": "ipython3",
   "version": "3.9.7"
  }
 },
 "nbformat": 4,
 "nbformat_minor": 5
}
