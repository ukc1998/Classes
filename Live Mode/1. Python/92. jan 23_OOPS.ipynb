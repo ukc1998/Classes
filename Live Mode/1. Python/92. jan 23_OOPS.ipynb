{
 "cells": [
  {
   "cell_type": "code",
   "execution_count": null,
   "id": "455dfe87",
   "metadata": {},
   "outputs": [],
   "source": [
    "class car:\n",
    "    def __init__(self, body_type, engine, fuel_type):\n",
    "        self.body_type = body_type\n",
    "        self.engine = engine\n",
    "        self.fuel_type = \"ewrtert\"\n",
    "        \n",
    "#its okay"
   ]
  },
  {
   "cell_type": "code",
   "execution_count": null,
   "id": "b469801b",
   "metadata": {},
   "outputs": [],
   "source": [
    "class car:\n",
    "    def __init__(self, body_type, engine, fuel_type):\n",
    "        self.body_type = body_type\n",
    "        self.engine = engine\n",
    "        self.fuel_type = input()\n",
    "        \n",
    "#its okay"
   ]
  },
  {
   "cell_type": "code",
   "execution_count": 1,
   "id": "0a8136f6",
   "metadata": {},
   "outputs": [],
   "source": [
    "class car:\n",
    "    def __init__(self, body_type, engine, fuel_type):\n",
    "        self.body_type = body_type\n",
    "        self.engine = engine\n",
    "        self.fuel_type = fuel_type\n",
    "        \n",
    "    def test(self):\n",
    "        print(\"this is my first method in my car class\")"
   ]
  },
  {
   "cell_type": "code",
   "execution_count": 2,
   "id": "7bfb8bce",
   "metadata": {},
   "outputs": [
    {
     "ename": "TypeError",
     "evalue": "__init__() missing 3 required positional arguments: 'body_type', 'engine', and 'fuel_type'",
     "output_type": "error",
     "traceback": [
      "\u001b[1;31m---------------------------------------------------------------------------\u001b[0m",
      "\u001b[1;31mTypeError\u001b[0m                                 Traceback (most recent call last)",
      "\u001b[1;32m~\\AppData\\Local\\Temp/ipykernel_5432/2452137074.py\u001b[0m in \u001b[0;36m<module>\u001b[1;34m\u001b[0m\n\u001b[1;32m----> 1\u001b[1;33m \u001b[0mfortuner\u001b[0m \u001b[1;33m=\u001b[0m \u001b[0mcar\u001b[0m\u001b[1;33m(\u001b[0m\u001b[1;33m)\u001b[0m\u001b[1;33m\u001b[0m\u001b[1;33m\u001b[0m\u001b[0m\n\u001b[0m",
      "\u001b[1;31mTypeError\u001b[0m: __init__() missing 3 required positional arguments: 'body_type', 'engine', and 'fuel_type'"
     ]
    }
   ],
   "source": [
    "fortuner = car()"
   ]
  },
  {
   "cell_type": "code",
   "execution_count": 3,
   "id": "4c3da52c",
   "metadata": {},
   "outputs": [],
   "source": [
    "fortuner = car(\"SUV\", \"BS4\", \"Petrol\")"
   ]
  },
  {
   "cell_type": "code",
   "execution_count": 4,
   "id": "33505a53",
   "metadata": {},
   "outputs": [],
   "source": [
    "nexon = car(\"SUV\", \"abc\", \"Petrol\")"
   ]
  },
  {
   "cell_type": "code",
   "execution_count": 6,
   "id": "f2ab47b8",
   "metadata": {},
   "outputs": [
    {
     "data": {
      "text/plain": [
       "'BS4'"
      ]
     },
     "execution_count": 6,
     "metadata": {},
     "output_type": "execute_result"
    }
   ],
   "source": [
    "fortuner.engine"
   ]
  },
  {
   "cell_type": "code",
   "execution_count": 7,
   "id": "2b91c7ec",
   "metadata": {},
   "outputs": [
    {
     "ename": "TypeError",
     "evalue": "'str' object is not callable",
     "output_type": "error",
     "traceback": [
      "\u001b[1;31m---------------------------------------------------------------------------\u001b[0m",
      "\u001b[1;31mTypeError\u001b[0m                                 Traceback (most recent call last)",
      "\u001b[1;32m~\\AppData\\Local\\Temp/ipykernel_5432/2223312467.py\u001b[0m in \u001b[0;36m<module>\u001b[1;34m\u001b[0m\n\u001b[1;32m----> 1\u001b[1;33m \u001b[0mfortuner\u001b[0m\u001b[1;33m.\u001b[0m\u001b[0mengine\u001b[0m\u001b[1;33m(\u001b[0m\u001b[1;33m)\u001b[0m\u001b[1;33m\u001b[0m\u001b[1;33m\u001b[0m\u001b[0m\n\u001b[0m",
      "\u001b[1;31mTypeError\u001b[0m: 'str' object is not callable"
     ]
    }
   ],
   "source": [
    "fortuner.engine()"
   ]
  },
  {
   "cell_type": "code",
   "execution_count": 8,
   "id": "9629e823",
   "metadata": {},
   "outputs": [
    {
     "data": {
      "text/plain": [
       "'abc'"
      ]
     },
     "execution_count": 8,
     "metadata": {},
     "output_type": "execute_result"
    }
   ],
   "source": [
    "nexon.engine"
   ]
  },
  {
   "cell_type": "code",
   "execution_count": 9,
   "id": "7e6293d8",
   "metadata": {},
   "outputs": [],
   "source": [
    "class car:\n",
    "    def __init__(self, body_type, engine, fuel_type):\n",
    "        self.body_type1 = body_type #trying to understand calling procedure\n",
    "        self.engine = engine\n",
    "        self.fuel_type = fuel_type\n",
    "        \n",
    "    def test(self):\n",
    "        print(\"this is my first method in my car class\")"
   ]
  },
  {
   "cell_type": "code",
   "execution_count": 10,
   "id": "1b113b70",
   "metadata": {},
   "outputs": [],
   "source": [
    "fortuner = car(\"SUV\", \"BS4\", \"Petrol\")"
   ]
  },
  {
   "cell_type": "code",
   "execution_count": 11,
   "id": "1766ac5a",
   "metadata": {},
   "outputs": [
    {
     "data": {
      "text/plain": [
       "'SUV'"
      ]
     },
     "execution_count": 11,
     "metadata": {},
     "output_type": "execute_result"
    }
   ],
   "source": [
    "fortuner.body_type1"
   ]
  },
  {
   "cell_type": "code",
   "execution_count": 12,
   "id": "35f04ba7",
   "metadata": {},
   "outputs": [
    {
     "ename": "AttributeError",
     "evalue": "'car' object has no attribute 'body_type'",
     "output_type": "error",
     "traceback": [
      "\u001b[1;31m---------------------------------------------------------------------------\u001b[0m",
      "\u001b[1;31mAttributeError\u001b[0m                            Traceback (most recent call last)",
      "\u001b[1;32m~\\AppData\\Local\\Temp/ipykernel_5432/3138332200.py\u001b[0m in \u001b[0;36m<module>\u001b[1;34m\u001b[0m\n\u001b[1;32m----> 1\u001b[1;33m \u001b[0mfortuner\u001b[0m\u001b[1;33m.\u001b[0m\u001b[0mbody_type\u001b[0m\u001b[1;33m\u001b[0m\u001b[1;33m\u001b[0m\u001b[0m\n\u001b[0m",
      "\u001b[1;31mAttributeError\u001b[0m: 'car' object has no attribute 'body_type'"
     ]
    }
   ],
   "source": [
    "fortuner.body_type"
   ]
  },
  {
   "cell_type": "code",
   "execution_count": 13,
   "id": "88f39ab4",
   "metadata": {},
   "outputs": [],
   "source": [
    "class car:\n",
    "    def __init__(self, body_type, engine, fuel_type):\n",
    "        self.a = body_type #trying to understand calling procedure\n",
    "        self.b = engine\n",
    "        self.c = fuel_type\n",
    "        \n",
    "    def test(self):\n",
    "        print(\"this is my first method in my car class\")"
   ]
  },
  {
   "cell_type": "code",
   "execution_count": 14,
   "id": "bdaec46b",
   "metadata": {},
   "outputs": [
    {
     "data": {
      "text/plain": [
       "'SUV'"
      ]
     },
     "execution_count": 14,
     "metadata": {},
     "output_type": "execute_result"
    }
   ],
   "source": [
    "fortuner = car(\"SUV\", \"BS4\", \"Petrol\")\n",
    "fortuner.a"
   ]
  },
  {
   "cell_type": "code",
   "execution_count": 15,
   "id": "df075510",
   "metadata": {},
   "outputs": [],
   "source": [
    "class car:\n",
    "    def __init__(sudh, body_type, engine, fuel_type):\n",
    "        sudh.a = body_type #trying to understand calling procedure\n",
    "        sudh.b = engine\n",
    "        sudh.c = fuel_type\n",
    "        \n",
    "    def test(self):\n",
    "        print(\"this is my first method in my car class\")"
   ]
  },
  {
   "cell_type": "code",
   "execution_count": 16,
   "id": "90e54b42",
   "metadata": {},
   "outputs": [
    {
     "data": {
      "text/plain": [
       "'BS4'"
      ]
     },
     "execution_count": 16,
     "metadata": {},
     "output_type": "execute_result"
    }
   ],
   "source": [
    "fortuner.b"
   ]
  },
  {
   "cell_type": "code",
   "execution_count": 17,
   "id": "d6ebd602",
   "metadata": {},
   "outputs": [
    {
     "name": "stdout",
     "output_type": "stream",
     "text": [
      "this is my first method in my car class\n"
     ]
    }
   ],
   "source": [
    "fortuner.test()"
   ]
  },
  {
   "cell_type": "code",
   "execution_count": 18,
   "id": "ae9c3d0c",
   "metadata": {},
   "outputs": [],
   "source": [
    "def test(self):\n",
    "        print(\"this is my first method in my car class\")"
   ]
  },
  {
   "cell_type": "code",
   "execution_count": 19,
   "id": "59660882",
   "metadata": {},
   "outputs": [
    {
     "ename": "TypeError",
     "evalue": "test() missing 1 required positional argument: 'self'",
     "output_type": "error",
     "traceback": [
      "\u001b[1;31m---------------------------------------------------------------------------\u001b[0m",
      "\u001b[1;31mTypeError\u001b[0m                                 Traceback (most recent call last)",
      "\u001b[1;32m~\\AppData\\Local\\Temp/ipykernel_5432/756179265.py\u001b[0m in \u001b[0;36m<module>\u001b[1;34m\u001b[0m\n\u001b[1;32m----> 1\u001b[1;33m \u001b[0mtest\u001b[0m\u001b[1;33m(\u001b[0m\u001b[1;33m)\u001b[0m\u001b[1;33m\u001b[0m\u001b[1;33m\u001b[0m\u001b[0m\n\u001b[0m",
      "\u001b[1;31mTypeError\u001b[0m: test() missing 1 required positional argument: 'self'"
     ]
    }
   ],
   "source": [
    "test()"
   ]
  },
  {
   "cell_type": "code",
   "execution_count": 20,
   "id": "3fecc0ea",
   "metadata": {},
   "outputs": [],
   "source": [
    "class car:\n",
    "        \n",
    "    def test(self):\n",
    "        print(\"this is my first method in my car class\")"
   ]
  },
  {
   "cell_type": "code",
   "execution_count": 21,
   "id": "c14f24ca",
   "metadata": {},
   "outputs": [],
   "source": [
    "x = car()"
   ]
  },
  {
   "cell_type": "code",
   "execution_count": 22,
   "id": "6ac0be9e",
   "metadata": {},
   "outputs": [
    {
     "name": "stdout",
     "output_type": "stream",
     "text": [
      "this is my first method in my car class\n"
     ]
    }
   ],
   "source": [
    "x.test()"
   ]
  },
  {
   "cell_type": "code",
   "execution_count": 23,
   "id": "1351e7fc",
   "metadata": {},
   "outputs": [],
   "source": [
    "class car:\n",
    "        \n",
    "    def test(self, b,c):\n",
    "        print(\"this is my first method in my car class\")"
   ]
  },
  {
   "cell_type": "code",
   "execution_count": 25,
   "id": "d02d5ca8",
   "metadata": {},
   "outputs": [],
   "source": [
    "x = car()"
   ]
  },
  {
   "cell_type": "code",
   "execution_count": 26,
   "id": "73cdb8fc",
   "metadata": {},
   "outputs": [
    {
     "ename": "TypeError",
     "evalue": "test() missing 2 required positional arguments: 'b' and 'c'",
     "output_type": "error",
     "traceback": [
      "\u001b[1;31m---------------------------------------------------------------------------\u001b[0m",
      "\u001b[1;31mTypeError\u001b[0m                                 Traceback (most recent call last)",
      "\u001b[1;32m~\\AppData\\Local\\Temp/ipykernel_5432/3462424469.py\u001b[0m in \u001b[0;36m<module>\u001b[1;34m\u001b[0m\n\u001b[1;32m----> 1\u001b[1;33m \u001b[0mx\u001b[0m\u001b[1;33m.\u001b[0m\u001b[0mtest\u001b[0m\u001b[1;33m(\u001b[0m\u001b[1;33m)\u001b[0m\u001b[1;33m\u001b[0m\u001b[1;33m\u001b[0m\u001b[0m\n\u001b[0m",
      "\u001b[1;31mTypeError\u001b[0m: test() missing 2 required positional arguments: 'b' and 'c'"
     ]
    }
   ],
   "source": [
    "x.test()"
   ]
  },
  {
   "cell_type": "code",
   "execution_count": 27,
   "id": "36dd7da7",
   "metadata": {},
   "outputs": [
    {
     "name": "stdout",
     "output_type": "stream",
     "text": [
      "this is my first method in my car class\n"
     ]
    }
   ],
   "source": [
    "x.test(2345,\"efgdfg\")"
   ]
  },
  {
   "cell_type": "code",
   "execution_count": 28,
   "id": "f4e8bb33",
   "metadata": {},
   "outputs": [
    {
     "ename": "TypeError",
     "evalue": "test() takes 3 positional arguments but 4 were given",
     "output_type": "error",
     "traceback": [
      "\u001b[1;31m---------------------------------------------------------------------------\u001b[0m",
      "\u001b[1;31mTypeError\u001b[0m                                 Traceback (most recent call last)",
      "\u001b[1;32m~\\AppData\\Local\\Temp/ipykernel_5432/639545826.py\u001b[0m in \u001b[0;36m<module>\u001b[1;34m\u001b[0m\n\u001b[1;32m----> 1\u001b[1;33m \u001b[0mx\u001b[0m\u001b[1;33m.\u001b[0m\u001b[0mtest\u001b[0m\u001b[1;33m(\u001b[0m\u001b[1;36m2345\u001b[0m\u001b[1;33m,\u001b[0m\u001b[1;34m\"efgdfg\"\u001b[0m\u001b[1;33m,\u001b[0m \u001b[1;36m345456\u001b[0m\u001b[1;33m)\u001b[0m\u001b[1;33m\u001b[0m\u001b[1;33m\u001b[0m\u001b[0m\n\u001b[0m",
      "\u001b[1;31mTypeError\u001b[0m: test() takes 3 positional arguments but 4 were given"
     ]
    }
   ],
   "source": [
    "x.test(2345,\"efgdfg\", 345456)"
   ]
  },
  {
   "cell_type": "code",
   "execution_count": 29,
   "id": "d60d9e2d",
   "metadata": {},
   "outputs": [
    {
     "name": "stdout",
     "output_type": "stream",
     "text": [
      "<class '__main__.car'>\n"
     ]
    }
   ],
   "source": [
    "print(type(x))"
   ]
  },
  {
   "cell_type": "code",
   "execution_count": 30,
   "id": "dff8e0ea",
   "metadata": {},
   "outputs": [],
   "source": [
    "class list_parser:\n",
    "    def parser(self,a):\n",
    "        if type(a)== list:\n",
    "            for i in a:\n",
    "                print(i)"
   ]
  },
  {
   "cell_type": "code",
   "execution_count": 31,
   "id": "351dca6e",
   "metadata": {},
   "outputs": [
    {
     "name": "stdout",
     "output_type": "stream",
     "text": [
      "145\n",
      "235\n",
      "2345\n",
      "235\n"
     ]
    }
   ],
   "source": [
    "object = list_parser()\n",
    "object.parser([145,235,2345,235])"
   ]
  },
  {
   "cell_type": "code",
   "execution_count": 32,
   "id": "ec0a8153",
   "metadata": {},
   "outputs": [],
   "source": [
    "class list_parser:\n",
    "    \n",
    "    def parser(self,a):\n",
    "        if type(a)== list:\n",
    "            for i in a:\n",
    "                print(i)\n",
    "     \n",
    "    def reverser(self, z):\n",
    "        if type(z)== list:\n",
    "            return z[::-1]"
   ]
  },
  {
   "cell_type": "code",
   "execution_count": 33,
   "id": "472117ee",
   "metadata": {},
   "outputs": [
    {
     "data": {
      "text/plain": [
       "[235, 2345, 235, 145]"
      ]
     },
     "execution_count": 33,
     "metadata": {},
     "output_type": "execute_result"
    }
   ],
   "source": [
    "object = list_parser()\n",
    "object.reverser([145,235,2345,235])"
   ]
  },
  {
   "cell_type": "code",
   "execution_count": 34,
   "id": "581422b3",
   "metadata": {},
   "outputs": [],
   "source": [
    "class list_parser:\n",
    "    \n",
    "    def __init__(self, l):\n",
    "        self.l = l\n",
    "    \n",
    "    def parser(self,a):\n",
    "        if type(a)== list:\n",
    "            for i in a:\n",
    "                print(i)\n",
    "     \n",
    "    def reverser(self, z):\n",
    "        if type(z)== list:\n",
    "            return z[::-1]"
   ]
  },
  {
   "cell_type": "code",
   "execution_count": 35,
   "id": "0f76783a",
   "metadata": {},
   "outputs": [
    {
     "data": {
      "text/plain": [
       "[235, 2345, 235, 145]"
      ]
     },
     "execution_count": 35,
     "metadata": {},
     "output_type": "execute_result"
    }
   ],
   "source": [
    "object = list_parser([145,235,2345,235])\n",
    "object.reverser([145,235,2345,235])"
   ]
  },
  {
   "cell_type": "code",
   "execution_count": 36,
   "id": "3a0c4299",
   "metadata": {},
   "outputs": [
    {
     "data": {
      "text/plain": [
       "[235, 2345, 235, 145]"
      ]
     },
     "execution_count": 36,
     "metadata": {},
     "output_type": "execute_result"
    }
   ],
   "source": [
    "object = list_parser([23,452345,345,453])\n",
    "object.reverser([145,235,2345,235])"
   ]
  },
  {
   "cell_type": "code",
   "execution_count": 39,
   "id": "37de2f94",
   "metadata": {},
   "outputs": [],
   "source": [
    "class list_parser:\n",
    "    \n",
    "    def __init__(self, l):\n",
    "        self.l = l\n",
    "    \n",
    "    def parser(self):\n",
    "        if type(self.l)== list:\n",
    "            for i in self.l:\n",
    "                print(i)\n",
    "     \n",
    "    def reverser(self):\n",
    "        if type(self.l)== list:\n",
    "            return self.l[::-1]"
   ]
  },
  {
   "cell_type": "code",
   "execution_count": 40,
   "id": "e998ebc4",
   "metadata": {},
   "outputs": [
    {
     "data": {
      "text/plain": [
       "[453, 345, 452345, 23]"
      ]
     },
     "execution_count": 40,
     "metadata": {},
     "output_type": "execute_result"
    }
   ],
   "source": [
    "object = list_parser([23,452345,345,453])\n",
    "object.reverser()"
   ]
  },
  {
   "cell_type": "code",
   "execution_count": 41,
   "id": "352734ff",
   "metadata": {},
   "outputs": [],
   "source": [
    "class dictionary_parser:\n",
    "    \n",
    "    def __init__(self, a):\n",
    "        self.a = a\n",
    "        \n",
    "    def key_provider(self):\n",
    "        if self.notdict():\n",
    "            return list(self.a.keys())\n",
    "        \n",
    "    def value_provider(self):\n",
    "        if self.notdict():\n",
    "            return list(self.a.values())\n",
    "        \n",
    "    def notdict(self):\n",
    "        if type(self.a) != dict:\n",
    "            raise Exception(self.a, \" is not a dictionary\")\n",
    "        return 1\n",
    "    \n",
    "    def userinput(self):\n",
    "        self.a = eval(input())\n",
    "        print(self.a, \" is of type\",type(self.a))\n",
    "        print(self.key_provider())\n",
    "        print(self.value_provider())\n",
    "      \n",
    "    def insertion(self, key , value):\n",
    "        self.a[key] = value\n",
    "        return self.a"
   ]
  },
  {
   "cell_type": "code",
   "execution_count": null,
   "id": "88b0877f",
   "metadata": {},
   "outputs": [],
   "source": []
  },
  {
   "cell_type": "code",
   "execution_count": 42,
   "id": "71267797",
   "metadata": {},
   "outputs": [
    {
     "data": {
      "text/plain": [
       "<_io.TextIOWrapper name='mydict.py' mode='w' encoding='cp1252'>"
      ]
     },
     "execution_count": 42,
     "metadata": {},
     "output_type": "execute_result"
    }
   ],
   "source": [
    "open(\"mydict.py\",\"w\")"
   ]
  },
  {
   "cell_type": "code",
   "execution_count": 43,
   "id": "0e25153b",
   "metadata": {},
   "outputs": [
    {
     "name": "stdout",
     "output_type": "stream",
     "text": [
      " Volume in drive C is Windows\n",
      " Volume Serial Number is C21A-2381\n",
      "\n",
      " Directory of C:\\Users\\Utkarsh\\Classes\\Live Mode\\Python\n",
      "\n",
      "23-01-2022  12:22    <DIR>          .\n",
      "23-01-2022  12:22    <DIR>          ..\n",
      "23-01-2022  10:15    <DIR>          .ipynb_checkpoints\n",
      "22-01-2022  11:13    <DIR>          __pycache__\n",
      "30-12-2021  17:27           148,722 live class_dec 19 (upto)_Python_upto for loop.ipynb\n",
      "30-12-2021  18:53           161,483 live class_dec 19_Python.ipynb\n",
      "30-12-2021  18:12           720,493 live class_dec 20_Python.ipynb\n",
      "29-12-2021  19:42            29,253 live class_dec 23_Python_define and create function.ipynb\n",
      "15-01-2022  11:07             8,502 live class_jan 15_Python_.ipynb\n",
      "22-01-2022  23:37            46,153 live class_jan 16_Python_exception handling_before_break.ipynb\n",
      "16-01-2022  13:53             6,165 live class_jan 16_Python_logging_after_break.ipynb\n",
      "22-01-2022  11:22             9,798 live class_jan 22_Python_modules and packages.ipynb\n",
      "23-01-2022  12:21            19,029 live class_jan 23_Python_OOPS.ipynb\n",
      "14-01-2022  12:26            70,246 live class_jan 8_Python_.ipynb\n",
      "14-01-2022  21:44           746,823 live class_jan 9_Python_.ipynb\n",
      "22-01-2022  11:13               249 my_module.py\n",
      "22-01-2022  11:07               239 my_module.py.bak\n",
      "23-01-2022  12:22               719 mydict.py\n",
      "23-01-2022  12:21                 0 mydict.py.bak\n",
      "22-01-2022  10:48               178 new1.py\n",
      "22-01-2022  10:39               108 new1.py.bak\n",
      "              17 File(s)      1,968,160 bytes\n",
      "               4 Dir(s)  95,937,835,008 bytes free\n"
     ]
    }
   ],
   "source": [
    "%ls"
   ]
  },
  {
   "cell_type": "code",
   "execution_count": null,
   "id": "f0fce8ca",
   "metadata": {},
   "outputs": [],
   "source": []
  }
 ],
 "metadata": {
  "kernelspec": {
   "display_name": "Python 3 (ipykernel)",
   "language": "python",
   "name": "python3"
  },
  "language_info": {
   "codemirror_mode": {
    "name": "ipython",
    "version": 3
   },
   "file_extension": ".py",
   "mimetype": "text/x-python",
   "name": "python",
   "nbconvert_exporter": "python",
   "pygments_lexer": "ipython3",
   "version": "3.9.7"
  }
 },
 "nbformat": 4,
 "nbformat_minor": 5
}
