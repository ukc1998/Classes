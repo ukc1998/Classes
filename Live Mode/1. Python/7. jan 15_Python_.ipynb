{
 "cells": [
  {
   "cell_type": "code",
   "execution_count": 1,
   "id": "025e6a42",
   "metadata": {},
   "outputs": [
    {
     "ename": "SyntaxError",
     "evalue": "unexpected EOF while parsing (Temp/ipykernel_5696/726823610.py, line 4)",
     "output_type": "error",
     "traceback": [
      "\u001b[1;36m  File \u001b[1;32m\"C:\\Users\\Utkarsh\\AppData\\Local\\Temp/ipykernel_5696/726823610.py\"\u001b[1;36m, line \u001b[1;32m4\u001b[0m\n\u001b[1;33m    \u001b[0m\n\u001b[1;37m    ^\u001b[0m\n\u001b[1;31mSyntaxError\u001b[0m\u001b[1;31m:\u001b[0m unexpected EOF while parsing\n"
     ]
    }
   ],
   "source": [
    "try:\n",
    "    f = open(\"testexceptionhandling.txt\", \"r\")\n",
    "    f.write(\"We are trying to nderstand the try block in exception handling\")\n",
    "    "
   ]
  },
  {
   "cell_type": "code",
   "execution_count": 2,
   "id": "4babea6f",
   "metadata": {},
   "outputs": [
    {
     "name": "stdout",
     "output_type": "stream",
     "text": [
      "there was a mistake\n"
     ]
    }
   ],
   "source": [
    "try:\n",
    "    f = open(\"testexceptionhandling.txt\", \"r\")\n",
    "    f.write(\"We are trying to nderstand the try block in exception handling\")\n",
    "except:\n",
    "    print(\"there was a mistake\")\n"
   ]
  },
  {
   "cell_type": "code",
   "execution_count": 3,
   "id": "c2c11cde",
   "metadata": {},
   "outputs": [
    {
     "name": "stdout",
     "output_type": "stream",
     "text": [
      "there was a mistake\n",
      "this is my code\n"
     ]
    }
   ],
   "source": [
    "try:\n",
    "    f = open(\"testexceptionhandling.txt\", \"r\")\n",
    "    f.write(\"We are trying to nderstand the try block in exception handling\")\n",
    "except:\n",
    "    print(\"there was a mistake\")\n",
    "print(\"this is my code\")"
   ]
  },
  {
   "cell_type": "code",
   "execution_count": 5,
   "id": "9a760829",
   "metadata": {},
   "outputs": [
    {
     "name": "stdout",
     "output_type": "stream",
     "text": [
      "[435, 345, 6456, 4, 56]\n",
      "[435, 345, 6456, 4, 56]\n",
      "[435, 345, 6456, 4, 56]\n",
      "[435, 345, 6456, 4, 56]\n",
      "[435, 345, 6456, 4, 56]\n"
     ]
    }
   ],
   "source": [
    "l =[435,345,6456,4,56]\n",
    "\n",
    "for i in range(len(l)):\n",
    "        print(l)"
   ]
  },
  {
   "cell_type": "code",
   "execution_count": 6,
   "id": "723eaa80",
   "metadata": {},
   "outputs": [
    {
     "name": "stdout",
     "output_type": "stream",
     "text": [
      "435\n",
      "345\n",
      "6456\n",
      "4\n",
      "56\n"
     ]
    },
    {
     "ename": "IndexError",
     "evalue": "list index out of range",
     "output_type": "error",
     "traceback": [
      "\u001b[1;31m---------------------------------------------------------------------------\u001b[0m",
      "\u001b[1;31mIndexError\u001b[0m                                Traceback (most recent call last)",
      "\u001b[1;32m~\\AppData\\Local\\Temp/ipykernel_5696/1027040485.py\u001b[0m in \u001b[0;36m<module>\u001b[1;34m\u001b[0m\n\u001b[0;32m      2\u001b[0m \u001b[1;33m\u001b[0m\u001b[0m\n\u001b[0;32m      3\u001b[0m \u001b[1;32mfor\u001b[0m \u001b[0mi\u001b[0m \u001b[1;32min\u001b[0m \u001b[0mrange\u001b[0m\u001b[1;33m(\u001b[0m\u001b[0mlen\u001b[0m\u001b[1;33m(\u001b[0m\u001b[0ml\u001b[0m\u001b[1;33m)\u001b[0m \u001b[1;33m+\u001b[0m \u001b[1;36m1\u001b[0m\u001b[1;33m)\u001b[0m\u001b[1;33m:\u001b[0m\u001b[1;33m\u001b[0m\u001b[1;33m\u001b[0m\u001b[0m\n\u001b[1;32m----> 4\u001b[1;33m     \u001b[0mprint\u001b[0m\u001b[1;33m(\u001b[0m\u001b[0ml\u001b[0m\u001b[1;33m[\u001b[0m\u001b[0mi\u001b[0m\u001b[1;33m]\u001b[0m\u001b[1;33m)\u001b[0m\u001b[1;33m\u001b[0m\u001b[1;33m\u001b[0m\u001b[0m\n\u001b[0m",
      "\u001b[1;31mIndexError\u001b[0m: list index out of range"
     ]
    }
   ],
   "source": [
    "l =[435,345,6456,4,56]\n",
    "\n",
    "for i in range(len(l) + 1):\n",
    "    print(l[i])"
   ]
  },
  {
   "cell_type": "code",
   "execution_count": 7,
   "id": "1773ab93",
   "metadata": {},
   "outputs": [
    {
     "name": "stdout",
     "output_type": "stream",
     "text": [
      "435\n",
      "345\n",
      "6456\n",
      "4\n",
      "56\n",
      "this is my code\n"
     ]
    }
   ],
   "source": [
    "l =[435,345,6456,4,56]\n",
    "try:\n",
    "    \n",
    "    for i in range(len(l) + 1):\n",
    "        print(l[i])\n",
    "        \n",
    "except:\n",
    "    print(\"this is my code\")"
   ]
  },
  {
   "cell_type": "code",
   "execution_count": 8,
   "id": "6a775cc9",
   "metadata": {},
   "outputs": [
    {
     "ename": "ZeroDivisionError",
     "evalue": "division by zero",
     "output_type": "error",
     "traceback": [
      "\u001b[1;31m---------------------------------------------------------------------------\u001b[0m",
      "\u001b[1;31mZeroDivisionError\u001b[0m                         Traceback (most recent call last)",
      "\u001b[1;32m~\\AppData\\Local\\Temp/ipykernel_5696/2874912419.py\u001b[0m in \u001b[0;36m<module>\u001b[1;34m\u001b[0m\n\u001b[1;32m----> 1\u001b[1;33m \u001b[1;36m5\u001b[0m\u001b[1;33m/\u001b[0m\u001b[1;36m0\u001b[0m\u001b[1;33m\u001b[0m\u001b[1;33m\u001b[0m\u001b[0m\n\u001b[0m",
      "\u001b[1;31mZeroDivisionError\u001b[0m: division by zero"
     ]
    }
   ],
   "source": [
    "5/0"
   ]
  },
  {
   "cell_type": "code",
   "execution_count": 15,
   "id": "e2b1112a",
   "metadata": {},
   "outputs": [
    {
     "name": "stdout",
     "output_type": "stream",
     "text": [
      "435\n",
      "345\n",
      "6456\n",
      "4\n",
      "56\n",
      "this was the error: \n",
      "<class 'Exception'>\n"
     ]
    }
   ],
   "source": [
    "l =[435,345,6456,4,56]\n",
    "try:\n",
    "    \n",
    "    for i in range(len(l) + 1):\n",
    "        print(l[i])\n",
    "        \n",
    "except Exception:\n",
    "    print(\"this was the error: \")\n",
    "    print(Exception)"
   ]
  },
  {
   "cell_type": "code",
   "execution_count": 16,
   "id": "d8e1a38b",
   "metadata": {},
   "outputs": [
    {
     "name": "stdout",
     "output_type": "stream",
     "text": [
      "435\n",
      "345\n",
      "6456\n",
      "4\n",
      "56\n",
      "this was the error: \n",
      "list index out of range\n"
     ]
    }
   ],
   "source": [
    "l =[435,345,6456,4,56]\n",
    "try:\n",
    "    \n",
    "    for i in range(len(l) + 1):\n",
    "        print(l[i])\n",
    "        \n",
    "except Exception as e:\n",
    "    print(\"this was the error: \")\n",
    "    print(e)"
   ]
  },
  {
   "cell_type": "code",
   "execution_count": 17,
   "id": "7575cf4c",
   "metadata": {},
   "outputs": [
    {
     "name": "stdout",
     "output_type": "stream",
     "text": [
      "sdfsdgfg\n",
      "invalid literal for int() with base 10: 'sdfsdgfg'\n"
     ]
    }
   ],
   "source": [
    "try:\n",
    "    a=int(input())\n",
    "    b=int(input())\n",
    "    \n",
    "except Exception as e:\n",
    "    print(e)"
   ]
  },
  {
   "cell_type": "code",
   "execution_count": 18,
   "id": "687b13cc",
   "metadata": {},
   "outputs": [
    {
     "name": "stdout",
     "output_type": "stream",
     "text": [
      "xdfgf\n",
      "<class 'Exception'>\n"
     ]
    }
   ],
   "source": [
    "try:\n",
    "    a=int(input())\n",
    "    b=int(input())\n",
    "    \n",
    "except Exception:\n",
    "    print(Exception)"
   ]
  },
  {
   "cell_type": "code",
   "execution_count": 19,
   "id": "befe0886",
   "metadata": {},
   "outputs": [
    {
     "name": "stdout",
     "output_type": "stream",
     "text": [
      "dsfgsdfh\n",
      "invalid literal for int() with base 10: 'dsfgsdfh'\n",
      "It will be printed\n"
     ]
    }
   ],
   "source": [
    "try:\n",
    "    a=int(input())\n",
    "    b=int(input())\n",
    "    \n",
    "except Exception as e:\n",
    "    print(e)\n",
    "print(\"It will be printed\")"
   ]
  },
  {
   "cell_type": "code",
   "execution_count": null,
   "id": "1f7b5cf4",
   "metadata": {},
   "outputs": [],
   "source": []
  }
 ],
 "metadata": {
  "kernelspec": {
   "display_name": "Python 3 (ipykernel)",
   "language": "python",
   "name": "python3"
  },
  "language_info": {
   "codemirror_mode": {
    "name": "ipython",
    "version": 3
   },
   "file_extension": ".py",
   "mimetype": "text/x-python",
   "name": "python",
   "nbconvert_exporter": "python",
   "pygments_lexer": "ipython3",
   "version": "3.9.7"
  }
 },
 "nbformat": 4,
 "nbformat_minor": 5
}
