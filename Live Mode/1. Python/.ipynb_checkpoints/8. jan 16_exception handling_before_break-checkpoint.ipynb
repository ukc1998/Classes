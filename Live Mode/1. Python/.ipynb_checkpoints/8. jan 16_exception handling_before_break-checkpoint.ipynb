{
 "cells": [
  {
   "cell_type": "code",
   "execution_count": 1,
   "id": "b51d8c2b",
   "metadata": {},
   "outputs": [
    {
     "ename": "SyntaxError",
     "evalue": "unexpected EOF while parsing (Temp/ipykernel_840/1007323365.py, line 1)",
     "output_type": "error",
     "traceback": [
      "\u001b[1;36m  File \u001b[1;32m\"C:\\Users\\Utkarsh\\AppData\\Local\\Temp/ipykernel_840/1007323365.py\"\u001b[1;36m, line \u001b[1;32m1\u001b[0m\n\u001b[1;33m    print(\"fdghdfhrytrt\"\u001b[0m\n\u001b[1;37m                        ^\u001b[0m\n\u001b[1;31mSyntaxError\u001b[0m\u001b[1;31m:\u001b[0m unexpected EOF while parsing\n"
     ]
    }
   ],
   "source": [
    "print(\"fdghdfhrytrt\""
   ]
  },
  {
   "cell_type": "code",
   "execution_count": 2,
   "id": "920e6276",
   "metadata": {},
   "outputs": [
    {
     "name": "stdout",
     "output_type": "stream",
     "text": [
      "husdhfjshdfhjfhsdhfjsdfhujsdfhiusdhdfshfdhsuihdfuhsdufjhsuddhfushfhsfhhiddjhfijshifjsiddfjsdjfio\n"
     ]
    },
    {
     "ename": "ValueError",
     "evalue": "invalid literal for int() with base 10: 'husdhfjshdfhjfhsdhfjsdfhujsdfhiusdhdfshfdhsuihdfuhsdufjhsuddhfushfhsfhhiddjhfijshifjsiddfjsdjfio'",
     "output_type": "error",
     "traceback": [
      "\u001b[1;31m---------------------------------------------------------------------------\u001b[0m",
      "\u001b[1;31mValueError\u001b[0m                                Traceback (most recent call last)",
      "\u001b[1;32m~\\AppData\\Local\\Temp/ipykernel_840/2305843072.py\u001b[0m in \u001b[0;36m<module>\u001b[1;34m\u001b[0m\n\u001b[1;32m----> 1\u001b[1;33m \u001b[0ma\u001b[0m \u001b[1;33m=\u001b[0m \u001b[0mint\u001b[0m\u001b[1;33m(\u001b[0m\u001b[0minput\u001b[0m\u001b[1;33m(\u001b[0m\u001b[1;33m)\u001b[0m\u001b[1;33m)\u001b[0m\u001b[1;33m\u001b[0m\u001b[1;33m\u001b[0m\u001b[0m\n\u001b[0m",
      "\u001b[1;31mValueError\u001b[0m: invalid literal for int() with base 10: 'husdhfjshdfhjfhsdhfjsdfhujsdfhiusdhdfshfdhsuihdfuhsdufjhsuddhfushfhsfhhiddjhfijshifjsiddfjsdjfio'"
     ]
    }
   ],
   "source": [
    "a = int(input())"
   ]
  },
  {
   "cell_type": "code",
   "execution_count": 3,
   "id": "9f499f1d",
   "metadata": {},
   "outputs": [
    {
     "ename": "SyntaxError",
     "evalue": "unexpected EOF while parsing (Temp/ipykernel_840/2989312263.py, line 4)",
     "output_type": "error",
     "traceback": [
      "\u001b[1;36m  File \u001b[1;32m\"C:\\Users\\Utkarsh\\AppData\\Local\\Temp/ipykernel_840/2989312263.py\"\u001b[1;36m, line \u001b[1;32m4\u001b[0m\n\u001b[1;33m    print(\"This is my code after write operation\")\u001b[0m\n\u001b[1;37m                                                  ^\u001b[0m\n\u001b[1;31mSyntaxError\u001b[0m\u001b[1;31m:\u001b[0m unexpected EOF while parsing\n"
     ]
    }
   ],
   "source": [
    "try:\n",
    "    f = open(\"test1\", \"r\")\n",
    "    f.write(\"This is my code with exception handling\")\n",
    "    print(\"This is my code after write operation\")"
   ]
  },
  {
   "cell_type": "code",
   "execution_count": 6,
   "id": "fc748694",
   "metadata": {},
   "outputs": [
    {
     "ename": "UnsupportedOperation",
     "evalue": "not writable",
     "output_type": "error",
     "traceback": [
      "\u001b[1;31m---------------------------------------------------------------------------\u001b[0m",
      "\u001b[1;31mUnsupportedOperation\u001b[0m                      Traceback (most recent call last)",
      "\u001b[1;32m~\\AppData\\Local\\Temp/ipykernel_840/1944728147.py\u001b[0m in \u001b[0;36m<module>\u001b[1;34m\u001b[0m\n\u001b[0;32m      1\u001b[0m \u001b[0mf\u001b[0m \u001b[1;33m=\u001b[0m \u001b[0mopen\u001b[0m\u001b[1;33m(\u001b[0m\u001b[1;34m\"test1.txt\"\u001b[0m\u001b[1;33m,\u001b[0m \u001b[1;34m\"r\"\u001b[0m\u001b[1;33m)\u001b[0m\u001b[1;33m\u001b[0m\u001b[1;33m\u001b[0m\u001b[0m\n\u001b[1;32m----> 2\u001b[1;33m \u001b[0mf\u001b[0m\u001b[1;33m.\u001b[0m\u001b[0mwrite\u001b[0m\u001b[1;33m(\u001b[0m\u001b[1;34m\"This is my code with exception handling\"\u001b[0m\u001b[1;33m)\u001b[0m\u001b[1;33m\u001b[0m\u001b[1;33m\u001b[0m\u001b[0m\n\u001b[0m\u001b[0;32m      3\u001b[0m \u001b[0mprint\u001b[0m\u001b[1;33m(\u001b[0m\u001b[1;34m\"This is my code after write operation\"\u001b[0m\u001b[1;33m)\u001b[0m\u001b[1;33m\u001b[0m\u001b[1;33m\u001b[0m\u001b[0m\n\u001b[0;32m      4\u001b[0m \u001b[1;33m\u001b[0m\u001b[0m\n\u001b[0;32m      5\u001b[0m \u001b[0ml\u001b[0m \u001b[1;33m=\u001b[0m \u001b[1;33m[\u001b[0m\u001b[1;36m1\u001b[0m\u001b[1;33m,\u001b[0m\u001b[1;36m2\u001b[0m\u001b[1;33m,\u001b[0m\u001b[1;36m3\u001b[0m\u001b[1;33m,\u001b[0m\u001b[1;36m4\u001b[0m\u001b[1;33m,\u001b[0m\u001b[1;36m5\u001b[0m\u001b[1;33m]\u001b[0m\u001b[1;33m\u001b[0m\u001b[1;33m\u001b[0m\u001b[0m\n",
      "\u001b[1;31mUnsupportedOperation\u001b[0m: not writable"
     ]
    }
   ],
   "source": [
    "f = open(\"test1.txt\", \"r\")\n",
    "f.write(\"This is my code with exception handling\")\n",
    "print(\"This is my code after write operation\")\n",
    "\n",
    "l = [1,2,3,4,5]\n",
    "for i in l:\n",
    "    print(i)"
   ]
  },
  {
   "cell_type": "code",
   "execution_count": 7,
   "id": "e1016351",
   "metadata": {},
   "outputs": [
    {
     "name": "stdout",
     "output_type": "stream",
     "text": [
      "This is my handler\n",
      "1\n",
      "2\n",
      "3\n",
      "4\n",
      "5\n"
     ]
    }
   ],
   "source": [
    "try:\n",
    "    f = open(\"test1.txt\", \"r\")\n",
    "    f.write(\"This is my code with exception handling\")\n",
    "    print(\"This is my code after write operation\")\n",
    "    \n",
    "except:\n",
    "    print(\"This is my handler\")\n",
    "    \n",
    "l = [1,2,3,4,5]\n",
    "for i in l:\n",
    "    print(i)"
   ]
  },
  {
   "cell_type": "code",
   "execution_count": 8,
   "id": "50213040",
   "metadata": {},
   "outputs": [
    {
     "ename": "SyntaxError",
     "evalue": "invalid syntax (Temp/ipykernel_840/3931920582.py, line 13)",
     "output_type": "error",
     "traceback": [
      "\u001b[1;36m  File \u001b[1;32m\"C:\\Users\\Utkarsh\\AppData\\Local\\Temp/ipykernel_840/3931920582.py\"\u001b[1;36m, line \u001b[1;32m13\u001b[0m\n\u001b[1;33m    except:\u001b[0m\n\u001b[1;37m    ^\u001b[0m\n\u001b[1;31mSyntaxError\u001b[0m\u001b[1;31m:\u001b[0m invalid syntax\n"
     ]
    }
   ],
   "source": [
    "try:\n",
    "    f = open(\"test1.txt\", \"r\")\n",
    "    f.write(\"This is my code with exception handling\")\n",
    "    print(\"This is my code after write operation\")\n",
    "    \n",
    "except:\n",
    "    print(\"This is my handler\")\n",
    "    \n",
    "l = [1,2,3,4,5]\n",
    "for i in l:\n",
    "    print(i)\n",
    "    \n",
    "except:\n",
    "    print(\"This is a handler of for-loop\")"
   ]
  },
  {
   "cell_type": "code",
   "execution_count": 9,
   "id": "9446b33a",
   "metadata": {},
   "outputs": [
    {
     "name": "stdout",
     "output_type": "stream",
     "text": [
      "This is my handler\n",
      "1\n",
      "2\n",
      "3\n",
      "4\n",
      "5\n"
     ]
    }
   ],
   "source": [
    "try:\n",
    "    f = open(\"test1.txt\", \"r\")\n",
    "    f.write(\"This is my code with exception handling\")\n",
    "    print(\"This is my code after write operation\")\n",
    "    \n",
    "except:\n",
    "    print(\"This is my handler\")\n",
    "    \n",
    "try:\n",
    "    l = [1,2,3,4,5]\n",
    "    for i in l:\n",
    "        print(i)\n",
    "    \n",
    "except:\n",
    "    print(\"This is a handler of for-loop\")"
   ]
  },
  {
   "cell_type": "code",
   "execution_count": 10,
   "id": "a561eeb7",
   "metadata": {},
   "outputs": [],
   "source": [
    "f.close()"
   ]
  },
  {
   "cell_type": "code",
   "execution_count": 14,
   "id": "9bc4188d",
   "metadata": {},
   "outputs": [
    {
     "name": "stdout",
     "output_type": "stream",
     "text": [
      "24234\n"
     ]
    }
   ],
   "source": [
    "try:\n",
    "    d = {\"key1\": \"sudh\", \"key2\": [1,2,3,4,5], \"key3\": (4,5,6,7,78)}\n",
    "    d[\"key4\"] = int(input())\n",
    "    \n",
    "except Exception as Alias:\n",
    "    print(Alias)"
   ]
  },
  {
   "cell_type": "code",
   "execution_count": 15,
   "id": "4271b33b",
   "metadata": {},
   "outputs": [
    {
     "name": "stdout",
     "output_type": "stream",
     "text": [
      "dstghdryhdt\n",
      "invalid literal for int() with base 10: 'dstghdryhdt'\n"
     ]
    }
   ],
   "source": [
    "try:\n",
    "    d = {\"key1\": \"sudh\", \"key2\": [1,2,3,4,5], \"key3\": (4,5,6,7,78)}\n",
    "    d[\"key4\"] = int(input())\n",
    "    \n",
    "except Exception as Alias:\n",
    "    print(Alias)"
   ]
  },
  {
   "cell_type": "code",
   "execution_count": 16,
   "id": "040f8409",
   "metadata": {},
   "outputs": [
    {
     "name": "stdout",
     "output_type": "stream",
     "text": [
      "fghgh\n"
     ]
    },
    {
     "ename": "ValueError",
     "evalue": "invalid literal for int() with base 10: 'fghgh'",
     "output_type": "error",
     "traceback": [
      "\u001b[1;31m---------------------------------------------------------------------------\u001b[0m",
      "\u001b[1;31mValueError\u001b[0m                                Traceback (most recent call last)",
      "\u001b[1;32m~\\AppData\\Local\\Temp/ipykernel_840/1161432424.py\u001b[0m in \u001b[0;36m<module>\u001b[1;34m\u001b[0m\n\u001b[0;32m      1\u001b[0m \u001b[0md\u001b[0m \u001b[1;33m=\u001b[0m \u001b[1;33m{\u001b[0m\u001b[1;34m\"key1\"\u001b[0m\u001b[1;33m:\u001b[0m \u001b[1;34m\"sudh\"\u001b[0m\u001b[1;33m,\u001b[0m \u001b[1;34m\"key2\"\u001b[0m\u001b[1;33m:\u001b[0m \u001b[1;33m[\u001b[0m\u001b[1;36m1\u001b[0m\u001b[1;33m,\u001b[0m\u001b[1;36m2\u001b[0m\u001b[1;33m,\u001b[0m\u001b[1;36m3\u001b[0m\u001b[1;33m,\u001b[0m\u001b[1;36m4\u001b[0m\u001b[1;33m,\u001b[0m\u001b[1;36m5\u001b[0m\u001b[1;33m]\u001b[0m\u001b[1;33m,\u001b[0m \u001b[1;34m\"key3\"\u001b[0m\u001b[1;33m:\u001b[0m \u001b[1;33m(\u001b[0m\u001b[1;36m4\u001b[0m\u001b[1;33m,\u001b[0m\u001b[1;36m5\u001b[0m\u001b[1;33m,\u001b[0m\u001b[1;36m6\u001b[0m\u001b[1;33m,\u001b[0m\u001b[1;36m7\u001b[0m\u001b[1;33m,\u001b[0m\u001b[1;36m78\u001b[0m\u001b[1;33m)\u001b[0m\u001b[1;33m}\u001b[0m\u001b[1;33m\u001b[0m\u001b[1;33m\u001b[0m\u001b[0m\n\u001b[1;32m----> 2\u001b[1;33m \u001b[0md\u001b[0m\u001b[1;33m[\u001b[0m\u001b[1;34m\"key4\"\u001b[0m\u001b[1;33m]\u001b[0m \u001b[1;33m=\u001b[0m \u001b[0mint\u001b[0m\u001b[1;33m(\u001b[0m\u001b[0minput\u001b[0m\u001b[1;33m(\u001b[0m\u001b[1;33m)\u001b[0m\u001b[1;33m)\u001b[0m\u001b[1;33m\u001b[0m\u001b[1;33m\u001b[0m\u001b[0m\n\u001b[0m",
      "\u001b[1;31mValueError\u001b[0m: invalid literal for int() with base 10: 'fghgh'"
     ]
    }
   ],
   "source": [
    "d = {\"key1\": \"sudh\", \"key2\": [1,2,3,4,5], \"key3\": (4,5,6,7,78)}\n",
    "d[\"key4\"] = int(input())"
   ]
  },
  {
   "cell_type": "code",
   "execution_count": 17,
   "id": "e66470af",
   "metadata": {},
   "outputs": [
    {
     "name": "stdout",
     "output_type": "stream",
     "text": [
      "sdfgfdsgh\n",
      "invalid literal for int() with base 10: 'sdfgfdsgh'\n"
     ]
    }
   ],
   "source": [
    "try:\n",
    "    d = {\"key1\": \"sudh\", \"key2\": [1,2,3,4,5], \"key3\": (4,5,6,7,78)}\n",
    "    d[\"key4\"] = int(input())\n",
    "    \n",
    "except ValueError as Alias:\n",
    "    print(Alias)"
   ]
  },
  {
   "cell_type": "code",
   "execution_count": 18,
   "id": "de3bdd44",
   "metadata": {},
   "outputs": [
    {
     "name": "stdout",
     "output_type": "stream",
     "text": [
      "23453\n"
     ]
    },
    {
     "ename": "FileNotFoundError",
     "evalue": "[Errno 2] No such file or directory: 'test2'",
     "output_type": "error",
     "traceback": [
      "\u001b[1;31m---------------------------------------------------------------------------\u001b[0m",
      "\u001b[1;31mFileNotFoundError\u001b[0m                         Traceback (most recent call last)",
      "\u001b[1;32m~\\AppData\\Local\\Temp/ipykernel_840/434636941.py\u001b[0m in \u001b[0;36m<module>\u001b[1;34m\u001b[0m\n\u001b[0;32m      2\u001b[0m     \u001b[0md\u001b[0m \u001b[1;33m=\u001b[0m \u001b[1;33m{\u001b[0m\u001b[1;34m\"key1\"\u001b[0m\u001b[1;33m:\u001b[0m \u001b[1;34m\"sudh\"\u001b[0m\u001b[1;33m,\u001b[0m \u001b[1;34m\"key2\"\u001b[0m\u001b[1;33m:\u001b[0m \u001b[1;33m[\u001b[0m\u001b[1;36m1\u001b[0m\u001b[1;33m,\u001b[0m\u001b[1;36m2\u001b[0m\u001b[1;33m,\u001b[0m\u001b[1;36m3\u001b[0m\u001b[1;33m,\u001b[0m\u001b[1;36m4\u001b[0m\u001b[1;33m,\u001b[0m\u001b[1;36m5\u001b[0m\u001b[1;33m]\u001b[0m\u001b[1;33m,\u001b[0m \u001b[1;34m\"key3\"\u001b[0m\u001b[1;33m:\u001b[0m \u001b[1;33m(\u001b[0m\u001b[1;36m4\u001b[0m\u001b[1;33m,\u001b[0m\u001b[1;36m5\u001b[0m\u001b[1;33m,\u001b[0m\u001b[1;36m6\u001b[0m\u001b[1;33m,\u001b[0m\u001b[1;36m7\u001b[0m\u001b[1;33m,\u001b[0m\u001b[1;36m78\u001b[0m\u001b[1;33m)\u001b[0m\u001b[1;33m}\u001b[0m\u001b[1;33m\u001b[0m\u001b[1;33m\u001b[0m\u001b[0m\n\u001b[0;32m      3\u001b[0m     \u001b[0md\u001b[0m\u001b[1;33m[\u001b[0m\u001b[1;34m\"key4\"\u001b[0m\u001b[1;33m]\u001b[0m \u001b[1;33m=\u001b[0m \u001b[0mint\u001b[0m\u001b[1;33m(\u001b[0m\u001b[0minput\u001b[0m\u001b[1;33m(\u001b[0m\u001b[1;33m)\u001b[0m\u001b[1;33m)\u001b[0m\u001b[1;33m\u001b[0m\u001b[1;33m\u001b[0m\u001b[0m\n\u001b[1;32m----> 4\u001b[1;33m     \u001b[0mf\u001b[0m \u001b[1;33m=\u001b[0m \u001b[0mopen\u001b[0m\u001b[1;33m(\u001b[0m\u001b[1;34m\"test2\"\u001b[0m\u001b[1;33m,\u001b[0m \u001b[1;34m\"r\"\u001b[0m\u001b[1;33m)\u001b[0m\u001b[1;33m\u001b[0m\u001b[1;33m\u001b[0m\u001b[0m\n\u001b[0m\u001b[0;32m      5\u001b[0m \u001b[1;33m\u001b[0m\u001b[0m\n\u001b[0;32m      6\u001b[0m \u001b[1;32mexcept\u001b[0m \u001b[0mValueError\u001b[0m \u001b[1;32mas\u001b[0m \u001b[0mAlias\u001b[0m\u001b[1;33m:\u001b[0m\u001b[1;33m\u001b[0m\u001b[1;33m\u001b[0m\u001b[0m\n",
      "\u001b[1;31mFileNotFoundError\u001b[0m: [Errno 2] No such file or directory: 'test2'"
     ]
    }
   ],
   "source": [
    "try:\n",
    "    d = {\"key1\": \"sudh\", \"key2\": [1,2,3,4,5], \"key3\": (4,5,6,7,78)}\n",
    "    d[\"key4\"] = int(input())\n",
    "    f = open(\"test2\", \"r\")\n",
    "    \n",
    "except ValueError as Alias:\n",
    "    print(Alias)\n",
    "    \n",
    "    #ValueError is a subclass of Exception class(main class or super class)\n",
    "    #and here, we are only handling value error exceptions, not all types of exceptions...\n",
    "    #therefore, we are getting error"
   ]
  },
  {
   "cell_type": "code",
   "execution_count": 19,
   "id": "435a95aa",
   "metadata": {},
   "outputs": [
    {
     "name": "stdout",
     "output_type": "stream",
     "text": [
      "fdgfgfd\n",
      "invalid literal for int() with base 10: 'fdgfgfd'\n"
     ]
    }
   ],
   "source": [
    "try:\n",
    "    d = {\"key1\": \"sudh\", \"key2\": [1,2,3,4,5], \"key3\": (4,5,6,7,78)}\n",
    "    d[\"key4\"] = int(input())\n",
    "    f = open(\"test2\", \"r\")\n",
    "    \n",
    "except Exception as Alias:\n",
    "    print(Alias)"
   ]
  },
  {
   "cell_type": "code",
   "execution_count": 20,
   "id": "8caa7811",
   "metadata": {},
   "outputs": [
    {
     "name": "stdout",
     "output_type": "stream",
     "text": [
      "1242345\n",
      "[Errno 2] No such file or directory: 'test2'\n"
     ]
    }
   ],
   "source": [
    "try:\n",
    "    d = {\"key1\": \"sudh\", \"key2\": [1,2,3,4,5], \"key3\": (4,5,6,7,78)}\n",
    "    d[\"key4\"] = int(input())\n",
    "    f = open(\"test2\", \"r\")\n",
    "    \n",
    "except Exception as Alias:\n",
    "    print(Alias)"
   ]
  },
  {
   "cell_type": "code",
   "execution_count": 21,
   "id": "9c809f8f",
   "metadata": {},
   "outputs": [
    {
     "name": "stdout",
     "output_type": "stream",
     "text": [
      "23432453\n",
      "[Errno 2] No such file or directory: 'test2'\n"
     ]
    }
   ],
   "source": [
    "try:\n",
    "    d = {\"key1\": \"sudh\", \"key2\": [1,2,3,4,5], \"key3\": (4,5,6,7,78)}\n",
    "    d[\"key4\"] = int(input())\n",
    "    f = open(\"test2\", \"r\")\n",
    "    \n",
    "except ValueError as Alias:\n",
    "    print(Alias)\n",
    "    \n",
    "except FileNotFoundError as e:\n",
    "    print(e)"
   ]
  },
  {
   "cell_type": "code",
   "execution_count": 22,
   "id": "a3bd42e4",
   "metadata": {},
   "outputs": [
    {
     "name": "stdout",
     "output_type": "stream",
     "text": [
      "ergdhtfghgfhd\n",
      "this is my exception class invalid literal for int() with base 10: 'ergdhtfghgfhd'\n"
     ]
    }
   ],
   "source": [
    "try:\n",
    "    d = {\"key1\": \"sudh\", \"key2\": [1,2,3,4,5], \"key3\": (4,5,6,7,78)}\n",
    "    d[\"key4\"] = int(input())\n",
    "    f = open(\"test2\", \"r\")\n",
    "    \n",
    "except Exception as eee:\n",
    "    print(\"this is my exception class\", eee)\n",
    "    \n",
    "except ValueError as Alias:\n",
    "    print(Alias)\n",
    "    \n",
    "except FileNotFoundError as e:\n",
    "    print(e)"
   ]
  },
  {
   "cell_type": "code",
   "execution_count": 23,
   "id": "8e9fac8f",
   "metadata": {},
   "outputs": [
    {
     "name": "stdout",
     "output_type": "stream",
     "text": [
      "sdrdrfhg\n",
      "invalid literal for int() with base 10: 'sdrdrfhg'\n"
     ]
    }
   ],
   "source": [
    "try:\n",
    "    d = {\"key1\": \"sudh\", \"key2\": [1,2,3,4,5], \"key3\": (4,5,6,7,78)}\n",
    "    d[\"key4\"] = int(input())\n",
    "    f = open(\"test2\", \"r\")\n",
    "    \n",
    "\n",
    "    \n",
    "except ValueError as Alias:\n",
    "    print(Alias)\n",
    "    \n",
    "except FileNotFoundError as e:\n",
    "    print(e)\n",
    "    \n",
    "except Exception as eee:\n",
    "    print(\"this is my exception class\", eee)"
   ]
  },
  {
   "cell_type": "code",
   "execution_count": 24,
   "id": "0b10c075",
   "metadata": {},
   "outputs": [
    {
     "name": "stdout",
     "output_type": "stream",
     "text": [
      "12342345345\n",
      "[Errno 2] No such file or directory: 'test2'\n"
     ]
    }
   ],
   "source": [
    "try:\n",
    "    d = {\"key1\": \"sudh\", \"key2\": [1,2,3,4,5], \"key3\": (4,5,6,7,78)}\n",
    "    d[\"key4\"] = int(input())\n",
    "    f = open(\"test2\", \"r\")\n",
    "    \n",
    "\n",
    "    \n",
    "except ValueError as Alias:\n",
    "    print(Alias)\n",
    "    \n",
    "except FileNotFoundError as e:\n",
    "    print(e)\n",
    "    \n",
    "except Exception as eee:\n",
    "    print(\"this is my exception class\", eee)"
   ]
  },
  {
   "cell_type": "code",
   "execution_count": 29,
   "id": "f826ab0c",
   "metadata": {},
   "outputs": [
    {
     "name": "stdout",
     "output_type": "stream",
     "text": [
      "this will execute once my child block is able to execute itself successfully\n"
     ]
    }
   ],
   "source": [
    "try:\n",
    "    f = open(\"test1.txt\", \"w\")\n",
    "    f.write(\"this is my code in try\")\n",
    "except Exception as e:\n",
    "    print(\"this will handle an error\")\n",
    "else:\n",
    "    print(\"this will execute once my child block is able to execute itself successfully\")\n",
    "    f.close()"
   ]
  },
  {
   "cell_type": "code",
   "execution_count": 31,
   "id": "e6f49510",
   "metadata": {},
   "outputs": [
    {
     "name": "stdout",
     "output_type": "stream",
     "text": [
      "this will handle an error [Errno 2] No such file or directory: 'test123.txt'\n"
     ]
    }
   ],
   "source": [
    "try:\n",
    "    f = open(\"test123.txt\", \"r\")\n",
    "    f.write(\"this is my code in try\")\n",
    "except Exception as e:\n",
    "    print(\"this will handle an error\",e)\n",
    "else:\n",
    "    print(\"this will execute once my child block is able to execute itself successfully\")\n",
    "    f.close()"
   ]
  },
  {
   "cell_type": "code",
   "execution_count": 32,
   "id": "c6b9ef42",
   "metadata": {},
   "outputs": [
    {
     "name": "stdout",
     "output_type": "stream",
     "text": [
      "dfgdfgfdgdsfg [Errno 2] No such file or directory: 'test234'\n",
      "do this for sure...it does not matter if try block has been executed successfully or not\n"
     ]
    }
   ],
   "source": [
    "try:\n",
    "    f = open(\"test234\", \"r\")\n",
    "    \n",
    "except Exception as e:\n",
    "    print(\"dfgdfgfdgdsfg\", e)\n",
    "finally:\n",
    "    print(\"do this for sure...it does not matter if try block has been executed successfully or not\")"
   ]
  },
  {
   "cell_type": "code",
   "execution_count": 33,
   "id": "abcdaa89",
   "metadata": {},
   "outputs": [
    {
     "name": "stdout",
     "output_type": "stream",
     "text": [
      "dfgdfgfdgdsfg [Errno 2] No such file or directory: 'test234'\n",
      "do this for sure...it does not matter if try block has been executed successfully or not\n"
     ]
    }
   ],
   "source": [
    "try:\n",
    "    f = open(\"test234\", \"r\")\n",
    "    \n",
    "except Exception as e:\n",
    "    print(\"dfgdfgfdgdsfg\", e)\n",
    "else:\n",
    "    print(\"it has been printed on successfull execution of try block\")\n",
    "finally:\n",
    "    print(\"do this for sure...it does not matter if try block has been executed successfully or not\")"
   ]
  },
  {
   "cell_type": "code",
   "execution_count": 34,
   "id": "6255b695",
   "metadata": {},
   "outputs": [
    {
     "name": "stdout",
     "output_type": "stream",
     "text": [
      "it has been printed on successfull execution of try block\n",
      "do this for sure...it does not matter if try block has been executed successfully or not\n"
     ]
    }
   ],
   "source": [
    "try:\n",
    "    f = open(\"test1.txt\", \"w\")\n",
    "    \n",
    "except Exception as e:\n",
    "    print(\"dfgdfgfdgdsfg\", e)\n",
    "else:\n",
    "    print(\"it has been printed on successfull execution of try block\")\n",
    "finally:\n",
    "    print(\"do this for sure...it does not matter if try block has been executed successfully or not\")"
   ]
  },
  {
   "cell_type": "code",
   "execution_count": 35,
   "id": "886e55b3",
   "metadata": {},
   "outputs": [
    {
     "name": "stdout",
     "output_type": "stream",
     "text": [
      "it has been printed on successfull execution of try block\n",
      "do this for sure...it does not matter if try block has been executed successfully or not\n"
     ]
    },
    {
     "ename": "FileNotFoundError",
     "evalue": "[Errno 2] No such file or directory: 'dsgfdfhgfd'",
     "output_type": "error",
     "traceback": [
      "\u001b[1;31m---------------------------------------------------------------------------\u001b[0m",
      "\u001b[1;31mFileNotFoundError\u001b[0m                         Traceback (most recent call last)",
      "\u001b[1;32m~\\AppData\\Local\\Temp/ipykernel_840/4000029338.py\u001b[0m in \u001b[0;36m<module>\u001b[1;34m\u001b[0m\n\u001b[0;32m      8\u001b[0m \u001b[1;32mfinally\u001b[0m\u001b[1;33m:\u001b[0m\u001b[1;33m\u001b[0m\u001b[1;33m\u001b[0m\u001b[0m\n\u001b[0;32m      9\u001b[0m     \u001b[0mprint\u001b[0m\u001b[1;33m(\u001b[0m\u001b[1;34m\"do this for sure...it does not matter if try block has been executed successfully or not\"\u001b[0m\u001b[1;33m)\u001b[0m\u001b[1;33m\u001b[0m\u001b[1;33m\u001b[0m\u001b[0m\n\u001b[1;32m---> 10\u001b[1;33m     \u001b[0mf\u001b[0m \u001b[1;33m=\u001b[0m \u001b[0mopen\u001b[0m\u001b[1;33m(\u001b[0m\u001b[1;34m\"dsgfdfhgfd\"\u001b[0m\u001b[1;33m,\u001b[0m \u001b[1;34m\"r\"\u001b[0m\u001b[1;33m)\u001b[0m\u001b[1;33m\u001b[0m\u001b[1;33m\u001b[0m\u001b[0m\n\u001b[0m",
      "\u001b[1;31mFileNotFoundError\u001b[0m: [Errno 2] No such file or directory: 'dsgfdfhgfd'"
     ]
    }
   ],
   "source": [
    "try:\n",
    "    f = open(\"test1.txt\", \"w\")\n",
    "    \n",
    "except Exception as e:\n",
    "    print(\"dfgdfgfdgdsfg\", e)\n",
    "else:\n",
    "    print(\"it has been printed on successfull execution of try block\")\n",
    "finally:\n",
    "    print(\"do this for sure...it does not matter if try block has been executed successfully or not\")\n",
    "    f = open(\"dsgfdfhgfd\", \"r\")"
   ]
  },
  {
   "cell_type": "code",
   "execution_count": 36,
   "id": "c05f4f61",
   "metadata": {},
   "outputs": [
    {
     "name": "stdout",
     "output_type": "stream",
     "text": [
      "it has been printed on successfull execution of try block\n",
      "do this for sure...it does not matter if try block has been executed successfully or not\n",
      "[Errno 2] No such file or directory: 'dsgfdfhgfd'\n",
      "Everything has been handled now!!!!\n"
     ]
    }
   ],
   "source": [
    "try:\n",
    "    f = open(\"test1.txt\", \"w\")\n",
    "    \n",
    "except Exception as e:\n",
    "    print(\"dfgdfgfdgdsfg\", e)\n",
    "else:\n",
    "    print(\"it has been printed on successfull execution of try block\")\n",
    "finally:\n",
    "    print(\"do this for sure...it does not matter if try block has been executed successfully or not\")\n",
    "    try:\n",
    "        f = open(\"dsgfdfhgfd\", \"r\")\n",
    "    except Exception as haha:\n",
    "        print(haha)\n",
    "        \n",
    "    finally:\n",
    "        print(\"Everything has been handled now!!!!\")"
   ]
  },
  {
   "cell_type": "code",
   "execution_count": 37,
   "id": "f6338775",
   "metadata": {},
   "outputs": [],
   "source": [
    "def askint():\n",
    "    a = int(input())\n",
    "    return a"
   ]
  },
  {
   "cell_type": "code",
   "execution_count": 38,
   "id": "e547b4c8",
   "metadata": {},
   "outputs": [
    {
     "name": "stdout",
     "output_type": "stream",
     "text": [
      "sdgfdf\n"
     ]
    },
    {
     "ename": "ValueError",
     "evalue": "invalid literal for int() with base 10: 'sdgfdf'",
     "output_type": "error",
     "traceback": [
      "\u001b[1;31m---------------------------------------------------------------------------\u001b[0m",
      "\u001b[1;31mValueError\u001b[0m                                Traceback (most recent call last)",
      "\u001b[1;32m~\\AppData\\Local\\Temp/ipykernel_840/577270890.py\u001b[0m in \u001b[0;36m<module>\u001b[1;34m\u001b[0m\n\u001b[1;32m----> 1\u001b[1;33m \u001b[0maskint\u001b[0m\u001b[1;33m(\u001b[0m\u001b[1;33m)\u001b[0m\u001b[1;33m\u001b[0m\u001b[1;33m\u001b[0m\u001b[0m\n\u001b[0m",
      "\u001b[1;32m~\\AppData\\Local\\Temp/ipykernel_840/3304994160.py\u001b[0m in \u001b[0;36maskint\u001b[1;34m()\u001b[0m\n\u001b[0;32m      1\u001b[0m \u001b[1;32mdef\u001b[0m \u001b[0maskint\u001b[0m\u001b[1;33m(\u001b[0m\u001b[1;33m)\u001b[0m\u001b[1;33m:\u001b[0m\u001b[1;33m\u001b[0m\u001b[1;33m\u001b[0m\u001b[0m\n\u001b[1;32m----> 2\u001b[1;33m     \u001b[0ma\u001b[0m \u001b[1;33m=\u001b[0m \u001b[0mint\u001b[0m\u001b[1;33m(\u001b[0m\u001b[0minput\u001b[0m\u001b[1;33m(\u001b[0m\u001b[1;33m)\u001b[0m\u001b[1;33m)\u001b[0m\u001b[1;33m\u001b[0m\u001b[1;33m\u001b[0m\u001b[0m\n\u001b[0m\u001b[0;32m      3\u001b[0m     \u001b[1;32mreturn\u001b[0m \u001b[0ma\u001b[0m\u001b[1;33m\u001b[0m\u001b[1;33m\u001b[0m\u001b[0m\n",
      "\u001b[1;31mValueError\u001b[0m: invalid literal for int() with base 10: 'sdgfdf'"
     ]
    }
   ],
   "source": [
    "askint()"
   ]
  },
  {
   "cell_type": "code",
   "execution_count": 39,
   "id": "ac8a44c4",
   "metadata": {},
   "outputs": [
    {
     "name": "stdout",
     "output_type": "stream",
     "text": [
      "2342345\n"
     ]
    },
    {
     "data": {
      "text/plain": [
       "2342345"
      ]
     },
     "execution_count": 39,
     "metadata": {},
     "output_type": "execute_result"
    }
   ],
   "source": [
    "askint()"
   ]
  },
  {
   "cell_type": "code",
   "execution_count": 40,
   "id": "b109a9d8",
   "metadata": {},
   "outputs": [],
   "source": [
    "def askint():\n",
    "    try:\n",
    "        \n",
    "        a = int(input())\n",
    "        return a\n",
    "    \n",
    "    except Exception as e:\n",
    "        print(\"this is my input error\", e)"
   ]
  },
  {
   "cell_type": "code",
   "execution_count": 41,
   "id": "397a18fc",
   "metadata": {},
   "outputs": [
    {
     "name": "stdout",
     "output_type": "stream",
     "text": [
      "12342\n"
     ]
    },
    {
     "data": {
      "text/plain": [
       "12342"
      ]
     },
     "execution_count": 41,
     "metadata": {},
     "output_type": "execute_result"
    }
   ],
   "source": [
    "askint()"
   ]
  },
  {
   "cell_type": "code",
   "execution_count": 42,
   "id": "1d8729ed",
   "metadata": {},
   "outputs": [
    {
     "name": "stdout",
     "output_type": "stream",
     "text": [
      "sdfgfdhtg\n",
      "this is my input error invalid literal for int() with base 10: 'sdfgfdhtg'\n"
     ]
    }
   ],
   "source": [
    "askint()"
   ]
  },
  {
   "cell_type": "code",
   "execution_count": 59,
   "id": "64800447",
   "metadata": {},
   "outputs": [
    {
     "name": "stdout",
     "output_type": "stream",
     "text": [
      "rt\n",
      "this is input error!!!!you are supposed to enter integer invalid literal for int() with base 10: 'rt'\n",
      "dsrg\n",
      "this is input error!!!!you are supposed to enter integer invalid literal for int() with base 10: 'dsrg'\n",
      "dfhg\n",
      "this is input error!!!!you are supposed to enter integer invalid literal for int() with base 10: 'dfhg'\n",
      "1234\n"
     ]
    },
    {
     "data": {
      "text/plain": [
       "(1234, 'is an integer')"
      ]
     },
     "execution_count": 59,
     "metadata": {},
     "output_type": "execute_result"
    }
   ],
   "source": [
    "def askint():\n",
    "    while True:\n",
    "        try:\n",
    "            a = int(input())\n",
    "            if type(a) == int:\n",
    "                return a, \"is an integer\"\n",
    "                break\n",
    "\n",
    "        except Exception as e:\n",
    "            print(\"this is input error!!!!you are supposed to enter integer\", e)\n",
    "            \n",
    "            \n",
    "askint()"
   ]
  },
  {
   "cell_type": "code",
   "execution_count": 60,
   "id": "a6fd1728",
   "metadata": {},
   "outputs": [
    {
     "name": "stdout",
     "output_type": "stream",
     "text": [
      "dsgrr\n",
      "this is input error!!!!you are supposed to enter integer invalid literal for int() with base 10: 'dsgrr'\n",
      "dfg\n",
      "this is input error!!!!you are supposed to enter integer invalid literal for int() with base 10: 'dfg'\n",
      "234345\n"
     ]
    },
    {
     "data": {
      "text/plain": [
       "(234345, 'is an integer')"
      ]
     },
     "execution_count": 60,
     "metadata": {},
     "output_type": "execute_result"
    }
   ],
   "source": [
    "def askint():\n",
    "    while True:\n",
    "        try:\n",
    "            a = int(input())\n",
    "            return a, \"is an integer\"\n",
    "\n",
    "        except Exception as e:\n",
    "            print(\"this is input error!!!!you are supposed to enter integer\", e)\n",
    "            continue\n",
    "            \n",
    "            \n",
    "askint()"
   ]
  },
  {
   "cell_type": "code",
   "execution_count": 64,
   "id": "d5665bbc",
   "metadata": {},
   "outputs": [],
   "source": [
    "a = 6/10"
   ]
  },
  {
   "cell_type": "code",
   "execution_count": 65,
   "id": "552bca2c",
   "metadata": {},
   "outputs": [
    {
     "ename": "ZeroDivisionError",
     "evalue": "division by zero",
     "output_type": "error",
     "traceback": [
      "\u001b[1;31m---------------------------------------------------------------------------\u001b[0m",
      "\u001b[1;31mZeroDivisionError\u001b[0m                         Traceback (most recent call last)",
      "\u001b[1;32m~\\AppData\\Local\\Temp/ipykernel_840/2874912419.py\u001b[0m in \u001b[0;36m<module>\u001b[1;34m\u001b[0m\n\u001b[1;32m----> 1\u001b[1;33m \u001b[1;36m5\u001b[0m\u001b[1;33m/\u001b[0m\u001b[1;36m0\u001b[0m\u001b[1;33m\u001b[0m\u001b[1;33m\u001b[0m\u001b[0m\n\u001b[0m",
      "\u001b[1;31mZeroDivisionError\u001b[0m: division by zero"
     ]
    }
   ],
   "source": [
    "5/0"
   ]
  },
  {
   "cell_type": "code",
   "execution_count": 66,
   "id": "ef5335b5",
   "metadata": {},
   "outputs": [],
   "source": [
    "def test(a):\n",
    "    if a < 0:\n",
    "        #raising exception for a\n",
    "        raise Exception(a) \n",
    "    return a"
   ]
  },
  {
   "cell_type": "code",
   "execution_count": 67,
   "id": "a8bd2d24",
   "metadata": {},
   "outputs": [
    {
     "ename": "Exception",
     "evalue": "-2",
     "output_type": "error",
     "traceback": [
      "\u001b[1;31m---------------------------------------------------------------------------\u001b[0m",
      "\u001b[1;31mException\u001b[0m                                 Traceback (most recent call last)",
      "\u001b[1;32m~\\AppData\\Local\\Temp/ipykernel_840/847413613.py\u001b[0m in \u001b[0;36m<module>\u001b[1;34m\u001b[0m\n\u001b[1;32m----> 1\u001b[1;33m \u001b[0mtest\u001b[0m\u001b[1;33m(\u001b[0m\u001b[1;33m-\u001b[0m\u001b[1;36m2\u001b[0m\u001b[1;33m)\u001b[0m\u001b[1;33m\u001b[0m\u001b[1;33m\u001b[0m\u001b[0m\n\u001b[0m",
      "\u001b[1;32m~\\AppData\\Local\\Temp/ipykernel_840/1417147858.py\u001b[0m in \u001b[0;36mtest\u001b[1;34m(a)\u001b[0m\n\u001b[0;32m      2\u001b[0m     \u001b[1;32mif\u001b[0m \u001b[0ma\u001b[0m \u001b[1;33m<\u001b[0m \u001b[1;36m0\u001b[0m\u001b[1;33m:\u001b[0m\u001b[1;33m\u001b[0m\u001b[1;33m\u001b[0m\u001b[0m\n\u001b[0;32m      3\u001b[0m         \u001b[1;31m#raising exception for a\u001b[0m\u001b[1;33m\u001b[0m\u001b[1;33m\u001b[0m\u001b[0m\n\u001b[1;32m----> 4\u001b[1;33m         \u001b[1;32mraise\u001b[0m \u001b[0mException\u001b[0m\u001b[1;33m(\u001b[0m\u001b[0ma\u001b[0m\u001b[1;33m)\u001b[0m\u001b[1;33m\u001b[0m\u001b[1;33m\u001b[0m\u001b[0m\n\u001b[0m\u001b[0;32m      5\u001b[0m     \u001b[1;32mreturn\u001b[0m \u001b[0ma\u001b[0m\u001b[1;33m\u001b[0m\u001b[1;33m\u001b[0m\u001b[0m\n",
      "\u001b[1;31mException\u001b[0m: -2"
     ]
    }
   ],
   "source": [
    "test(-2)"
   ]
  },
  {
   "cell_type": "code",
   "execution_count": 68,
   "id": "0b962e28",
   "metadata": {},
   "outputs": [
    {
     "data": {
      "text/plain": [
       "2"
      ]
     },
     "execution_count": 68,
     "metadata": {},
     "output_type": "execute_result"
    }
   ],
   "source": [
    "test(2)"
   ]
  },
  {
   "cell_type": "code",
   "execution_count": 69,
   "id": "e0190fd7",
   "metadata": {},
   "outputs": [
    {
     "ename": "FileNotFoundError",
     "evalue": "[Errno 2] No such file or directory: 'sdfgfdhfgh'",
     "output_type": "error",
     "traceback": [
      "\u001b[1;31m---------------------------------------------------------------------------\u001b[0m",
      "\u001b[1;31mFileNotFoundError\u001b[0m                         Traceback (most recent call last)",
      "\u001b[1;32m~\\AppData\\Local\\Temp/ipykernel_840/2384253189.py\u001b[0m in \u001b[0;36m<module>\u001b[1;34m\u001b[0m\n\u001b[1;32m----> 1\u001b[1;33m \u001b[0mdreg\u001b[0m \u001b[1;33m=\u001b[0m \u001b[0mopen\u001b[0m\u001b[1;33m(\u001b[0m\u001b[1;34m\"sdfgfdhfgh\"\u001b[0m\u001b[1;33m,\u001b[0m \u001b[1;34m\"r\"\u001b[0m\u001b[1;33m)\u001b[0m\u001b[1;33m\u001b[0m\u001b[1;33m\u001b[0m\u001b[0m\n\u001b[0m",
      "\u001b[1;31mFileNotFoundError\u001b[0m: [Errno 2] No such file or directory: 'sdfgfdhfgh'"
     ]
    }
   ],
   "source": [
    "dreg = open(\"sdfgfdhfgh\", \"r\")"
   ]
  },
  {
   "cell_type": "code",
   "execution_count": 70,
   "id": "7f68399e",
   "metadata": {},
   "outputs": [],
   "source": [
    "def test(a):\n",
    "    if a < 0:\n",
    "        #raising exception for a\n",
    "        raise Exception(\"you have entered a negative value\") \n",
    "    return a"
   ]
  },
  {
   "cell_type": "code",
   "execution_count": 71,
   "id": "2e265e1e",
   "metadata": {},
   "outputs": [
    {
     "ename": "Exception",
     "evalue": "you have entered a negative value",
     "output_type": "error",
     "traceback": [
      "\u001b[1;31m---------------------------------------------------------------------------\u001b[0m",
      "\u001b[1;31mException\u001b[0m                                 Traceback (most recent call last)",
      "\u001b[1;32m~\\AppData\\Local\\Temp/ipykernel_840/847413613.py\u001b[0m in \u001b[0;36m<module>\u001b[1;34m\u001b[0m\n\u001b[1;32m----> 1\u001b[1;33m \u001b[0mtest\u001b[0m\u001b[1;33m(\u001b[0m\u001b[1;33m-\u001b[0m\u001b[1;36m2\u001b[0m\u001b[1;33m)\u001b[0m\u001b[1;33m\u001b[0m\u001b[1;33m\u001b[0m\u001b[0m\n\u001b[0m",
      "\u001b[1;32m~\\AppData\\Local\\Temp/ipykernel_840/1681772672.py\u001b[0m in \u001b[0;36mtest\u001b[1;34m(a)\u001b[0m\n\u001b[0;32m      2\u001b[0m     \u001b[1;32mif\u001b[0m \u001b[0ma\u001b[0m \u001b[1;33m<\u001b[0m \u001b[1;36m0\u001b[0m\u001b[1;33m:\u001b[0m\u001b[1;33m\u001b[0m\u001b[1;33m\u001b[0m\u001b[0m\n\u001b[0;32m      3\u001b[0m         \u001b[1;31m#raising exception for a\u001b[0m\u001b[1;33m\u001b[0m\u001b[1;33m\u001b[0m\u001b[0m\n\u001b[1;32m----> 4\u001b[1;33m         \u001b[1;32mraise\u001b[0m \u001b[0mException\u001b[0m\u001b[1;33m(\u001b[0m\u001b[1;34m\"you have entered a negative value\"\u001b[0m\u001b[1;33m)\u001b[0m\u001b[1;33m\u001b[0m\u001b[1;33m\u001b[0m\u001b[0m\n\u001b[0m\u001b[0;32m      5\u001b[0m     \u001b[1;32mreturn\u001b[0m \u001b[0ma\u001b[0m\u001b[1;33m\u001b[0m\u001b[1;33m\u001b[0m\u001b[0m\n",
      "\u001b[1;31mException\u001b[0m: you have entered a negative value"
     ]
    }
   ],
   "source": [
    "test(-2)"
   ]
  },
  {
   "cell_type": "code",
   "execution_count": 72,
   "id": "b36a4245",
   "metadata": {},
   "outputs": [
    {
     "ename": "NameError",
     "evalue": "name 'dfgdfgdfg' is not defined",
     "output_type": "error",
     "traceback": [
      "\u001b[1;31m---------------------------------------------------------------------------\u001b[0m",
      "\u001b[1;31mNameError\u001b[0m                                 Traceback (most recent call last)",
      "\u001b[1;32m~\\AppData\\Local\\Temp/ipykernel_840/916170941.py\u001b[0m in \u001b[0;36m<module>\u001b[1;34m\u001b[0m\n\u001b[1;32m----> 1\u001b[1;33m \u001b[0mtest\u001b[0m\u001b[1;33m(\u001b[0m\u001b[0mdfgdfgdfg\u001b[0m\u001b[1;33m)\u001b[0m\u001b[1;33m\u001b[0m\u001b[1;33m\u001b[0m\u001b[0m\n\u001b[0m",
      "\u001b[1;31mNameError\u001b[0m: name 'dfgdfgdfg' is not defined"
     ]
    }
   ],
   "source": [
    "test(dfgdfgdfg)"
   ]
  },
  {
   "cell_type": "code",
   "execution_count": 73,
   "id": "e8747a42",
   "metadata": {},
   "outputs": [],
   "source": [
    "def test(a):\n",
    "    if a < 0:\n",
    "        #raising exception for a\n",
    "        raise ZeroDivisionError(\"you have entered a negative value\") \n",
    "    return a"
   ]
  },
  {
   "cell_type": "code",
   "execution_count": 74,
   "id": "00280417",
   "metadata": {},
   "outputs": [
    {
     "ename": "ZeroDivisionError",
     "evalue": "you have entered a negative value",
     "output_type": "error",
     "traceback": [
      "\u001b[1;31m---------------------------------------------------------------------------\u001b[0m",
      "\u001b[1;31mZeroDivisionError\u001b[0m                         Traceback (most recent call last)",
      "\u001b[1;32m~\\AppData\\Local\\Temp/ipykernel_840/2430745927.py\u001b[0m in \u001b[0;36m<module>\u001b[1;34m\u001b[0m\n\u001b[1;32m----> 1\u001b[1;33m \u001b[0mtest\u001b[0m\u001b[1;33m(\u001b[0m\u001b[1;33m-\u001b[0m\u001b[1;36m4\u001b[0m\u001b[1;33m)\u001b[0m\u001b[1;33m\u001b[0m\u001b[1;33m\u001b[0m\u001b[0m\n\u001b[0m",
      "\u001b[1;32m~\\AppData\\Local\\Temp/ipykernel_840/3322838316.py\u001b[0m in \u001b[0;36mtest\u001b[1;34m(a)\u001b[0m\n\u001b[0;32m      2\u001b[0m     \u001b[1;32mif\u001b[0m \u001b[0ma\u001b[0m \u001b[1;33m<\u001b[0m \u001b[1;36m0\u001b[0m\u001b[1;33m:\u001b[0m\u001b[1;33m\u001b[0m\u001b[1;33m\u001b[0m\u001b[0m\n\u001b[0;32m      3\u001b[0m         \u001b[1;31m#raising exception for a\u001b[0m\u001b[1;33m\u001b[0m\u001b[1;33m\u001b[0m\u001b[0m\n\u001b[1;32m----> 4\u001b[1;33m         \u001b[1;32mraise\u001b[0m \u001b[0mZeroDivisionError\u001b[0m\u001b[1;33m(\u001b[0m\u001b[1;34m\"you have entered a negative value\"\u001b[0m\u001b[1;33m)\u001b[0m\u001b[1;33m\u001b[0m\u001b[1;33m\u001b[0m\u001b[0m\n\u001b[0m\u001b[0;32m      5\u001b[0m     \u001b[1;32mreturn\u001b[0m \u001b[0ma\u001b[0m\u001b[1;33m\u001b[0m\u001b[1;33m\u001b[0m\u001b[0m\n",
      "\u001b[1;31mZeroDivisionError\u001b[0m: you have entered a negative value"
     ]
    }
   ],
   "source": [
    "test(-4)"
   ]
  },
  {
   "cell_type": "code",
   "execution_count": 75,
   "id": "d4b458db",
   "metadata": {},
   "outputs": [],
   "source": [
    "def test(a):\n",
    "    if a < 0:\n",
    "        #raising exception for a\n",
    "        raise ValueError(\"you have entered a negative value\") \n",
    "    return a"
   ]
  },
  {
   "cell_type": "code",
   "execution_count": 76,
   "id": "10045ec0",
   "metadata": {},
   "outputs": [
    {
     "ename": "ValueError",
     "evalue": "you have entered a negative value",
     "output_type": "error",
     "traceback": [
      "\u001b[1;31m---------------------------------------------------------------------------\u001b[0m",
      "\u001b[1;31mValueError\u001b[0m                                Traceback (most recent call last)",
      "\u001b[1;32m~\\AppData\\Local\\Temp/ipykernel_840/2430745927.py\u001b[0m in \u001b[0;36m<module>\u001b[1;34m\u001b[0m\n\u001b[1;32m----> 1\u001b[1;33m \u001b[0mtest\u001b[0m\u001b[1;33m(\u001b[0m\u001b[1;33m-\u001b[0m\u001b[1;36m4\u001b[0m\u001b[1;33m)\u001b[0m\u001b[1;33m\u001b[0m\u001b[1;33m\u001b[0m\u001b[0m\n\u001b[0m",
      "\u001b[1;32m~\\AppData\\Local\\Temp/ipykernel_840/4278879964.py\u001b[0m in \u001b[0;36mtest\u001b[1;34m(a)\u001b[0m\n\u001b[0;32m      2\u001b[0m     \u001b[1;32mif\u001b[0m \u001b[0ma\u001b[0m \u001b[1;33m<\u001b[0m \u001b[1;36m0\u001b[0m\u001b[1;33m:\u001b[0m\u001b[1;33m\u001b[0m\u001b[1;33m\u001b[0m\u001b[0m\n\u001b[0;32m      3\u001b[0m         \u001b[1;31m#raising exception for a\u001b[0m\u001b[1;33m\u001b[0m\u001b[1;33m\u001b[0m\u001b[0m\n\u001b[1;32m----> 4\u001b[1;33m         \u001b[1;32mraise\u001b[0m \u001b[0mValueError\u001b[0m\u001b[1;33m(\u001b[0m\u001b[1;34m\"you have entered a negative value\"\u001b[0m\u001b[1;33m)\u001b[0m\u001b[1;33m\u001b[0m\u001b[1;33m\u001b[0m\u001b[0m\n\u001b[0m\u001b[0;32m      5\u001b[0m     \u001b[1;32mreturn\u001b[0m \u001b[0ma\u001b[0m\u001b[1;33m\u001b[0m\u001b[1;33m\u001b[0m\u001b[0m\n",
      "\u001b[1;31mValueError\u001b[0m: you have entered a negative value"
     ]
    }
   ],
   "source": [
    "test(-4)"
   ]
  },
  {
   "cell_type": "code",
   "execution_count": 77,
   "id": "a5d5ed91",
   "metadata": {},
   "outputs": [],
   "source": [
    "def test(a):\n",
    "    if a  == \"sudh\":\n",
    "        #raising exception for a\n",
    "        raise ValueError(\"you have entered an unacceptable value\") \n",
    "    return a"
   ]
  },
  {
   "cell_type": "code",
   "execution_count": 79,
   "id": "318f37fd",
   "metadata": {},
   "outputs": [
    {
     "name": "stdout",
     "output_type": "stream",
     "text": [
      "234435\n"
     ]
    }
   ],
   "source": [
    "try:\n",
    "    a=input()\n",
    "    test(a)\n",
    "except Exception as e:\n",
    "    print(\"calling my raise exception\" , e)"
   ]
  },
  {
   "cell_type": "code",
   "execution_count": 80,
   "id": "b18c2de2",
   "metadata": {},
   "outputs": [
    {
     "name": "stdout",
     "output_type": "stream",
     "text": [
      "sudh\n",
      "calling my raise exception you have entered an unacceptable value\n"
     ]
    }
   ],
   "source": [
    "try:\n",
    "    a=input()\n",
    "    test(a)\n",
    "except Exception as e:\n",
    "    print(\"calling my raise exception\" , e)"
   ]
  },
  {
   "cell_type": "code",
   "execution_count": 81,
   "id": "aa396b99",
   "metadata": {},
   "outputs": [
    {
     "name": "stdout",
     "output_type": "stream",
     "text": [
      "sudh\n",
      "calling my raise exception you have entered an unacceptable value\n"
     ]
    }
   ],
   "source": [
    "def test(a):\n",
    "    if a  == \"sudh\":\n",
    "        #raising exception for a\n",
    "        raise ValueError(\"you have entered an unacceptable value\") \n",
    "    return a\n",
    "\n",
    "try:\n",
    "    a=input()\n",
    "    test(a)\n",
    "except Exception as e:\n",
    "    print(\"calling my raise exception\" , e)"
   ]
  },
  {
   "cell_type": "code",
   "execution_count": 82,
   "id": "f84db0a8",
   "metadata": {},
   "outputs": [
    {
     "name": "stdout",
     "output_type": "stream",
     "text": [
      "345453\n"
     ]
    }
   ],
   "source": [
    "def test(a):\n",
    "    if a  == \"sudh\":\n",
    "        #raising exception for a\n",
    "        raise ValueError(\"you have entered an unacceptable value\") \n",
    "    return a\n",
    "\n",
    "try:\n",
    "    a=input()\n",
    "    test(a)\n",
    "except Exception as e:\n",
    "    print(\"calling my raise exception\" , e)"
   ]
  },
  {
   "cell_type": "code",
   "execution_count": 84,
   "id": "0617a28d",
   "metadata": {},
   "outputs": [
    {
     "name": "stdout",
     "output_type": "stream",
     "text": [
      "fgf\n",
      "calling my raise exception you have entered an unacceptable value\n"
     ]
    }
   ],
   "source": [
    "def test(a):\n",
    "    if a  == \"sudh\" or type(a)!= int:\n",
    "        #raising exception for a\n",
    "        raise ValueError(\"you have entered an unacceptable value\") \n",
    "    return a\n",
    "\n",
    "try:\n",
    "    a=input()\n",
    "    test(a)\n",
    "except Exception as e:\n",
    "    print(\"calling my raise exception\" , e)"
   ]
  }
 ],
 "metadata": {
  "kernelspec": {
   "display_name": "Python 3 (ipykernel)",
   "language": "python",
   "name": "python3"
  },
  "language_info": {
   "codemirror_mode": {
    "name": "ipython",
    "version": 3
   },
   "file_extension": ".py",
   "mimetype": "text/x-python",
   "name": "python",
   "nbconvert_exporter": "python",
   "pygments_lexer": "ipython3",
   "version": "3.9.7"
  }
 },
 "nbformat": 4,
 "nbformat_minor": 5
}
