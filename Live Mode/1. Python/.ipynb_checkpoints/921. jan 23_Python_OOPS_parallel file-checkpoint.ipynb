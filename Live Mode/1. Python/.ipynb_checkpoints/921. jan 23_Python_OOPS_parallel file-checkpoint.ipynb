{
 "cells": [
  {
   "cell_type": "code",
   "execution_count": 3,
   "id": "be72446f",
   "metadata": {},
   "outputs": [],
   "source": [
    "import mydict"
   ]
  },
  {
   "cell_type": "code",
   "execution_count": 4,
   "id": "ab2f9fdc",
   "metadata": {},
   "outputs": [],
   "source": [
    "d = mydict.dictionary_parser({\"a\":1,\"b\":2,\"c\":3})"
   ]
  },
  {
   "cell_type": "code",
   "execution_count": 5,
   "id": "4054f8fb",
   "metadata": {},
   "outputs": [
    {
     "data": {
      "text/plain": [
       "['a', 'b', 'c']"
      ]
     },
     "execution_count": 5,
     "metadata": {},
     "output_type": "execute_result"
    }
   ],
   "source": [
    "d.key_provider()"
   ]
  },
  {
   "cell_type": "code",
   "execution_count": 6,
   "id": "7fdaffc5",
   "metadata": {},
   "outputs": [
    {
     "data": {
      "text/plain": [
       "[1, 2, 3]"
      ]
     },
     "execution_count": 6,
     "metadata": {},
     "output_type": "execute_result"
    }
   ],
   "source": [
    "d.value_provider()"
   ]
  },
  {
   "cell_type": "code",
   "execution_count": 7,
   "id": "2e927fe5",
   "metadata": {},
   "outputs": [
    {
     "name": "stdout",
     "output_type": "stream",
     "text": [
      "{\"rthgrtyrt\":234234}\n",
      "{'rthgrtyrt': 234234}  is of type <class 'dict'>\n",
      "['rthgrtyrt']\n",
      "[234234]\n"
     ]
    }
   ],
   "source": [
    "d.userinput()"
   ]
  }
 ],
 "metadata": {
  "kernelspec": {
   "display_name": "Python 3 (ipykernel)",
   "language": "python",
   "name": "python3"
  },
  "language_info": {
   "codemirror_mode": {
    "name": "ipython",
    "version": 3
   },
   "file_extension": ".py",
   "mimetype": "text/x-python",
   "name": "python",
   "nbconvert_exporter": "python",
   "pygments_lexer": "ipython3",
   "version": "3.9.7"
  }
 },
 "nbformat": 4,
 "nbformat_minor": 5
}
