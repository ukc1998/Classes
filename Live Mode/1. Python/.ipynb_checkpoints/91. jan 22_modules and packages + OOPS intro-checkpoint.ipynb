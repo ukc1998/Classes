{
 "cells": [
  {
   "cell_type": "code",
   "execution_count": 1,
   "id": "877c9f0f",
   "metadata": {},
   "outputs": [],
   "source": [
    "import os"
   ]
  },
  {
   "cell_type": "code",
   "execution_count": 2,
   "id": "e0a11f39",
   "metadata": {},
   "outputs": [],
   "source": [
    "def test(a,b):\n",
    "    return a+b"
   ]
  },
  {
   "cell_type": "code",
   "execution_count": 3,
   "id": "a23f5ebd",
   "metadata": {},
   "outputs": [
    {
     "data": {
      "text/plain": [
       "9"
      ]
     },
     "execution_count": 3,
     "metadata": {},
     "output_type": "execute_result"
    }
   ],
   "source": [
    "test(4,5)"
   ]
  },
  {
   "cell_type": "code",
   "execution_count": 4,
   "id": "ca39e915",
   "metadata": {},
   "outputs": [
    {
     "data": {
      "text/plain": [
       "'C:\\\\Users\\\\Utkarsh\\\\Classes\\\\Live Mode\\\\Python'"
      ]
     },
     "execution_count": 4,
     "metadata": {},
     "output_type": "execute_result"
    }
   ],
   "source": [
    "pwd()"
   ]
  },
  {
   "cell_type": "code",
   "execution_count": 5,
   "id": "7d82ec31",
   "metadata": {},
   "outputs": [
    {
     "data": {
      "text/plain": [
       "['.ipynb_checkpoints',\n",
       " 'live class_dec 19 (upto)_Python_upto for loop.ipynb',\n",
       " 'live class_dec 19_Python.ipynb',\n",
       " 'live class_dec 20_Python.ipynb',\n",
       " 'live class_dec 23_Python_define and create function.ipynb',\n",
       " 'live class_jan 15_Python_.ipynb',\n",
       " 'live class_jan 16_Python_exception handling_before_break.ipynb',\n",
       " 'live class_jan 16_Python_logging_after_break.ipynb',\n",
       " 'live class_jan 22_Python_.ipynb',\n",
       " 'live class_jan 8_Python_.ipynb',\n",
       " 'live class_jan 9_Python_.ipynb',\n",
       " 'new 1.py',\n",
       " 'Untitled.ipynb']"
      ]
     },
     "execution_count": 5,
     "metadata": {},
     "output_type": "execute_result"
    }
   ],
   "source": [
    "os.listdir()"
   ]
  },
  {
   "cell_type": "code",
   "execution_count": 7,
   "id": "9473815c",
   "metadata": {},
   "outputs": [],
   "source": [
    "import new1"
   ]
  },
  {
   "cell_type": "code",
   "execution_count": 8,
   "id": "afc53484",
   "metadata": {},
   "outputs": [
    {
     "data": {
      "text/plain": [
       "401801"
      ]
     },
     "execution_count": 8,
     "metadata": {},
     "output_type": "execute_result"
    }
   ],
   "source": [
    "test(345345,56456)"
   ]
  },
  {
   "cell_type": "code",
   "execution_count": 1,
   "id": "7cf92489",
   "metadata": {},
   "outputs": [],
   "source": [
    "import new1"
   ]
  },
  {
   "cell_type": "code",
   "execution_count": 2,
   "id": "a62cddb9",
   "metadata": {},
   "outputs": [
    {
     "data": {
      "text/plain": [
       "1.0012346032129567"
      ]
     },
     "execution_count": 2,
     "metadata": {},
     "output_type": "execute_result"
    }
   ],
   "source": [
    "new1.test2(2345345,2342453)"
   ]
  },
  {
   "cell_type": "code",
   "execution_count": 1,
   "id": "c61cf12b",
   "metadata": {},
   "outputs": [],
   "source": [
    "from new1 import test1"
   ]
  },
  {
   "cell_type": "code",
   "execution_count": 2,
   "id": "0a1fe391",
   "metadata": {},
   "outputs": [
    {
     "data": {
      "text/plain": [
       "157665878370"
      ]
     },
     "execution_count": 2,
     "metadata": {},
     "output_type": "execute_result"
    }
   ],
   "source": [
    "test1(345345,456546)"
   ]
  },
  {
   "cell_type": "code",
   "execution_count": 1,
   "id": "54dec8c3",
   "metadata": {},
   "outputs": [],
   "source": [
    "import new1"
   ]
  },
  {
   "cell_type": "code",
   "execution_count": 4,
   "id": "907417a9",
   "metadata": {},
   "outputs": [
    {
     "data": {
      "text/plain": [
       "745.4411764705883"
      ]
     },
     "execution_count": 4,
     "metadata": {},
     "output_type": "execute_result"
    }
   ],
   "source": [
    "new1.test2(25345,34)"
   ]
  },
  {
   "cell_type": "code",
   "execution_count": 6,
   "id": "99f1f819",
   "metadata": {},
   "outputs": [
    {
     "data": {
      "text/plain": [
       "1929534525"
      ]
     },
     "execution_count": 6,
     "metadata": {},
     "output_type": "execute_result"
    }
   ],
   "source": [
    "new1.test1(34245,56345)"
   ]
  },
  {
   "cell_type": "code",
   "execution_count": 7,
   "id": "9e928999",
   "metadata": {},
   "outputs": [],
   "source": [
    "from new1 import*"
   ]
  },
  {
   "cell_type": "code",
   "execution_count": 8,
   "id": "fbc945e8",
   "metadata": {},
   "outputs": [
    {
     "data": {
      "text/plain": [
       "7597132935"
      ]
     },
     "execution_count": 8,
     "metadata": {},
     "output_type": "execute_result"
    }
   ],
   "source": [
    "test1(23423,324345)"
   ]
  },
  {
   "cell_type": "code",
   "execution_count": 9,
   "id": "051ceeab",
   "metadata": {},
   "outputs": [
    {
     "data": {
      "text/plain": [
       "<_io.TextIOWrapper name='my_module.py' mode='w' encoding='cp1252'>"
      ]
     },
     "execution_count": 9,
     "metadata": {},
     "output_type": "execute_result"
    }
   ],
   "source": [
    "open(\"my_module.py\", \"w\")"
   ]
  },
  {
   "cell_type": "code",
   "execution_count": 10,
   "id": "6f2d84e4",
   "metadata": {},
   "outputs": [
    {
     "name": "stdout",
     "output_type": "stream",
     "text": [
      " Volume in drive C is Windows\n",
      " Volume Serial Number is C21A-2381\n",
      "\n",
      " Directory of C:\\Users\\Utkarsh\\Classes\\Live Mode\\Python\n",
      "\n",
      "22-01-2022  11:05    <DIR>          .\n",
      "22-01-2022  11:05    <DIR>          ..\n",
      "22-01-2022  10:20    <DIR>          .ipynb_checkpoints\n",
      "22-01-2022  10:49    <DIR>          __pycache__\n",
      "30-12-2021  17:27           148,722 live class_dec 19 (upto)_Python_upto for loop.ipynb\n",
      "30-12-2021  18:53           161,483 live class_dec 19_Python.ipynb\n",
      "30-12-2021  18:12           720,493 live class_dec 20_Python.ipynb\n",
      "29-12-2021  19:42            29,253 live class_dec 23_Python_define and create function.ipynb\n",
      "15-01-2022  11:07             8,502 live class_jan 15_Python_.ipynb\n",
      "16-01-2022  12:02            46,153 live class_jan 16_Python_exception handling_before_break.ipynb\n",
      "16-01-2022  13:53             6,165 live class_jan 16_Python_logging_after_break.ipynb\n",
      "22-01-2022  11:02             5,808 live class_jan 22_Python_.ipynb\n",
      "14-01-2022  12:26            70,246 live class_jan 8_Python_.ipynb\n",
      "14-01-2022  21:44           746,823 live class_jan 9_Python_.ipynb\n",
      "22-01-2022  11:05               239 my_module.py\n",
      "22-01-2022  11:01                 0 my_module.py.bak\n",
      "22-01-2022  10:48               178 new1.py\n",
      "22-01-2022  10:39               108 new1.py.bak\n",
      "22-01-2022  10:22             1,519 Untitled.ipynb\n",
      "              15 File(s)      1,945,692 bytes\n",
      "               4 Dir(s)  99,801,600,000 bytes free\n"
     ]
    }
   ],
   "source": [
    "%ls"
   ]
  },
  {
   "cell_type": "code",
   "execution_count": 2,
   "id": "849f23cf",
   "metadata": {},
   "outputs": [],
   "source": [
    "import my_module"
   ]
  },
  {
   "cell_type": "code",
   "execution_count": 3,
   "id": "fd6b75e8",
   "metadata": {},
   "outputs": [
    {
     "data": {
      "text/plain": [
       "'greetings from ineuron'"
      ]
     },
     "execution_count": 3,
     "metadata": {},
     "output_type": "execute_result"
    }
   ],
   "source": [
    "my_module.greetings()"
   ]
  },
  {
   "cell_type": "code",
   "execution_count": 4,
   "id": "626c59d2",
   "metadata": {},
   "outputs": [
    {
     "data": {
      "text/plain": [
       "['datascience', 'blockchain', 'drone', 'robotics', 'cloud']"
      ]
     },
     "execution_count": 4,
     "metadata": {},
     "output_type": "execute_result"
    }
   ],
   "source": [
    "my_module.get_course()"
   ]
  },
  {
   "cell_type": "code",
   "execution_count": 5,
   "id": "70153dc8",
   "metadata": {},
   "outputs": [],
   "source": [
    "import os"
   ]
  },
  {
   "cell_type": "code",
   "execution_count": 7,
   "id": "93661ca6",
   "metadata": {},
   "outputs": [
    {
     "data": {
      "text/plain": [
       "['In',\n",
       " 'Out',\n",
       " '_',\n",
       " '_3',\n",
       " '_4',\n",
       " '__',\n",
       " '___',\n",
       " '__builtin__',\n",
       " '__builtins__',\n",
       " '__doc__',\n",
       " '__loader__',\n",
       " '__name__',\n",
       " '__package__',\n",
       " '__spec__',\n",
       " '_dh',\n",
       " '_i',\n",
       " '_i1',\n",
       " '_i2',\n",
       " '_i3',\n",
       " '_i4',\n",
       " '_i5',\n",
       " '_i6',\n",
       " '_i7',\n",
       " '_ih',\n",
       " '_ii',\n",
       " '_iii',\n",
       " '_oh',\n",
       " 'exit',\n",
       " 'get_ipython',\n",
       " 'my_module',\n",
       " 'os',\n",
       " 'quit']"
      ]
     },
     "execution_count": 7,
     "metadata": {},
     "output_type": "execute_result"
    }
   ],
   "source": [
    "dir()"
   ]
  },
  {
   "cell_type": "code",
   "execution_count": null,
   "id": "b9386589",
   "metadata": {},
   "outputs": [],
   "source": []
  }
 ],
 "metadata": {
  "kernelspec": {
   "display_name": "Python 3 (ipykernel)",
   "language": "python",
   "name": "python3"
  },
  "language_info": {
   "codemirror_mode": {
    "name": "ipython",
    "version": 3
   },
   "file_extension": ".py",
   "mimetype": "text/x-python",
   "name": "python",
   "nbconvert_exporter": "python",
   "pygments_lexer": "ipython3",
   "version": "3.9.7"
  }
 },
 "nbformat": 4,
 "nbformat_minor": 5
}
