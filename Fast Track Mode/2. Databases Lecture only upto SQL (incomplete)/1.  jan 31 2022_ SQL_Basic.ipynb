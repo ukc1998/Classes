{
 "cells": [
  {
   "cell_type": "code",
   "execution_count": 1,
   "id": "9527a6d0",
   "metadata": {},
   "outputs": [
    {
     "name": "stdout",
     "output_type": "stream",
     "text": [
      "Requirement already satisfied: mysql-connector-python in c:\\users\\utkarsh\\anaconda3\\lib\\site-packages (8.0.28)\n",
      "Requirement already satisfied: protobuf>=3.0.0 in c:\\users\\utkarsh\\anaconda3\\lib\\site-packages (from mysql-connector-python) (3.19.4)\n"
     ]
    }
   ],
   "source": [
    "!pip install mysql-connector-python"
   ]
  },
  {
   "cell_type": "code",
   "execution_count": 2,
   "id": "18f47d3c",
   "metadata": {},
   "outputs": [],
   "source": [
    "import mysql.connector as connection"
   ]
  },
  {
   "cell_type": "code",
   "execution_count": 3,
   "id": "a6cb5af4",
   "metadata": {},
   "outputs": [
    {
     "data": {
      "text/plain": [
       "<mysql.connector.connection.MySQLConnection at 0x2aad05fc9d0>"
      ]
     },
     "execution_count": 3,
     "metadata": {},
     "output_type": "execute_result"
    }
   ],
   "source": [
    "connection.connect(host=\"localhost\",user=\"root\", passwd=\"Ineuron@ukc@5\",use_pure=True)"
   ]
  },
  {
   "cell_type": "code",
   "execution_count": 4,
   "id": "8646d8ad",
   "metadata": {},
   "outputs": [
    {
     "ename": "ProgrammingError",
     "evalue": "1045 (28000): Access denied for user 'root'@'localhost' (using password: YES)",
     "output_type": "error",
     "traceback": [
      "\u001b[1;31m---------------------------------------------------------------------------\u001b[0m",
      "\u001b[1;31mProgrammingError\u001b[0m                          Traceback (most recent call last)",
      "\u001b[1;32m~\\AppData\\Local\\Temp/ipykernel_6944/2882416106.py\u001b[0m in \u001b[0;36m<module>\u001b[1;34m\u001b[0m\n\u001b[1;32m----> 1\u001b[1;33m \u001b[0mconnection\u001b[0m\u001b[1;33m.\u001b[0m\u001b[0mconnect\u001b[0m\u001b[1;33m(\u001b[0m\u001b[0mhost\u001b[0m\u001b[1;33m=\u001b[0m\u001b[1;34m\"localhost\"\u001b[0m\u001b[1;33m,\u001b[0m\u001b[0muser\u001b[0m\u001b[1;33m=\u001b[0m\u001b[1;34m\"root\"\u001b[0m\u001b[1;33m,\u001b[0m \u001b[0mpasswd\u001b[0m\u001b[1;33m=\u001b[0m\u001b[1;34m\"Wrong password\"\u001b[0m\u001b[1;33m,\u001b[0m\u001b[0muse_pure\u001b[0m\u001b[1;33m=\u001b[0m\u001b[1;32mTrue\u001b[0m\u001b[1;33m)\u001b[0m\u001b[1;33m\u001b[0m\u001b[1;33m\u001b[0m\u001b[0m\n\u001b[0m",
      "\u001b[1;32m~\\anaconda3\\lib\\site-packages\\mysql\\connector\\__init__.py\u001b[0m in \u001b[0;36mconnect\u001b[1;34m(*args, **kwargs)\u001b[0m\n\u001b[0;32m    271\u001b[0m     \u001b[1;32mif\u001b[0m \u001b[0mHAVE_CEXT\u001b[0m \u001b[1;32mand\u001b[0m \u001b[1;32mnot\u001b[0m \u001b[0muse_pure\u001b[0m\u001b[1;33m:\u001b[0m\u001b[1;33m\u001b[0m\u001b[1;33m\u001b[0m\u001b[0m\n\u001b[0;32m    272\u001b[0m         \u001b[1;32mreturn\u001b[0m \u001b[0mCMySQLConnection\u001b[0m\u001b[1;33m(\u001b[0m\u001b[1;33m*\u001b[0m\u001b[0margs\u001b[0m\u001b[1;33m,\u001b[0m \u001b[1;33m**\u001b[0m\u001b[0mkwargs\u001b[0m\u001b[1;33m)\u001b[0m\u001b[1;33m\u001b[0m\u001b[1;33m\u001b[0m\u001b[0m\n\u001b[1;32m--> 273\u001b[1;33m     \u001b[1;32mreturn\u001b[0m \u001b[0mMySQLConnection\u001b[0m\u001b[1;33m(\u001b[0m\u001b[1;33m*\u001b[0m\u001b[0margs\u001b[0m\u001b[1;33m,\u001b[0m \u001b[1;33m**\u001b[0m\u001b[0mkwargs\u001b[0m\u001b[1;33m)\u001b[0m\u001b[1;33m\u001b[0m\u001b[1;33m\u001b[0m\u001b[0m\n\u001b[0m\u001b[0;32m    274\u001b[0m \u001b[0mConnect\u001b[0m \u001b[1;33m=\u001b[0m \u001b[0mconnect\u001b[0m  \u001b[1;31m# pylint: disable=C0103\u001b[0m\u001b[1;33m\u001b[0m\u001b[1;33m\u001b[0m\u001b[0m\n\u001b[0;32m    275\u001b[0m \u001b[1;33m\u001b[0m\u001b[0m\n",
      "\u001b[1;32m~\\anaconda3\\lib\\site-packages\\mysql\\connector\\connection.py\u001b[0m in \u001b[0;36m__init__\u001b[1;34m(self, *args, **kwargs)\u001b[0m\n\u001b[0;32m    113\u001b[0m         \u001b[1;32mif\u001b[0m \u001b[0mkwargs\u001b[0m\u001b[1;33m:\u001b[0m\u001b[1;33m\u001b[0m\u001b[1;33m\u001b[0m\u001b[0m\n\u001b[0;32m    114\u001b[0m             \u001b[1;32mtry\u001b[0m\u001b[1;33m:\u001b[0m\u001b[1;33m\u001b[0m\u001b[1;33m\u001b[0m\u001b[0m\n\u001b[1;32m--> 115\u001b[1;33m                 \u001b[0mself\u001b[0m\u001b[1;33m.\u001b[0m\u001b[0mconnect\u001b[0m\u001b[1;33m(\u001b[0m\u001b[1;33m**\u001b[0m\u001b[0mkwargs\u001b[0m\u001b[1;33m)\u001b[0m\u001b[1;33m\u001b[0m\u001b[1;33m\u001b[0m\u001b[0m\n\u001b[0m\u001b[0;32m    116\u001b[0m             \u001b[1;32mexcept\u001b[0m\u001b[1;33m:\u001b[0m\u001b[1;33m\u001b[0m\u001b[1;33m\u001b[0m\u001b[0m\n\u001b[0;32m    117\u001b[0m                 \u001b[1;31m# Tidy-up underlying socket on failure\u001b[0m\u001b[1;33m\u001b[0m\u001b[1;33m\u001b[0m\u001b[0m\n",
      "\u001b[1;32m~\\anaconda3\\lib\\site-packages\\mysql\\connector\\abstracts.py\u001b[0m in \u001b[0;36mconnect\u001b[1;34m(self, **kwargs)\u001b[0m\n\u001b[0;32m   1026\u001b[0m \u001b[1;33m\u001b[0m\u001b[0m\n\u001b[0;32m   1027\u001b[0m         \u001b[0mself\u001b[0m\u001b[1;33m.\u001b[0m\u001b[0mdisconnect\u001b[0m\u001b[1;33m(\u001b[0m\u001b[1;33m)\u001b[0m\u001b[1;33m\u001b[0m\u001b[1;33m\u001b[0m\u001b[0m\n\u001b[1;32m-> 1028\u001b[1;33m         \u001b[0mself\u001b[0m\u001b[1;33m.\u001b[0m\u001b[0m_open_connection\u001b[0m\u001b[1;33m(\u001b[0m\u001b[1;33m)\u001b[0m\u001b[1;33m\u001b[0m\u001b[1;33m\u001b[0m\u001b[0m\n\u001b[0m\u001b[0;32m   1029\u001b[0m         \u001b[1;31m# Server does not allow to run any other statement different from ALTER\u001b[0m\u001b[1;33m\u001b[0m\u001b[1;33m\u001b[0m\u001b[0m\n\u001b[0;32m   1030\u001b[0m         \u001b[1;31m# when user's password has been expired.\u001b[0m\u001b[1;33m\u001b[0m\u001b[1;33m\u001b[0m\u001b[0m\n",
      "\u001b[1;32m~\\anaconda3\\lib\\site-packages\\mysql\\connector\\connection.py\u001b[0m in \u001b[0;36m_open_connection\u001b[1;34m(self)\u001b[0m\n\u001b[0;32m    492\u001b[0m             \u001b[0mself\u001b[0m\u001b[1;33m.\u001b[0m\u001b[0m_socket\u001b[0m\u001b[1;33m.\u001b[0m\u001b[0mopen_connection\u001b[0m\u001b[1;33m(\u001b[0m\u001b[1;33m)\u001b[0m\u001b[1;33m\u001b[0m\u001b[1;33m\u001b[0m\u001b[0m\n\u001b[0;32m    493\u001b[0m             \u001b[0mself\u001b[0m\u001b[1;33m.\u001b[0m\u001b[0m_do_handshake\u001b[0m\u001b[1;33m(\u001b[0m\u001b[1;33m)\u001b[0m\u001b[1;33m\u001b[0m\u001b[1;33m\u001b[0m\u001b[0m\n\u001b[1;32m--> 494\u001b[1;33m             self._do_auth(self._user, self._password,\n\u001b[0m\u001b[0;32m    495\u001b[0m                           \u001b[0mself\u001b[0m\u001b[1;33m.\u001b[0m\u001b[0m_database\u001b[0m\u001b[1;33m,\u001b[0m \u001b[0mself\u001b[0m\u001b[1;33m.\u001b[0m\u001b[0m_client_flags\u001b[0m\u001b[1;33m,\u001b[0m \u001b[0mself\u001b[0m\u001b[1;33m.\u001b[0m\u001b[0m_charset_id\u001b[0m\u001b[1;33m,\u001b[0m\u001b[1;33m\u001b[0m\u001b[1;33m\u001b[0m\u001b[0m\n\u001b[0;32m    496\u001b[0m                           self._ssl, self._conn_attrs)\n",
      "\u001b[1;32m~\\anaconda3\\lib\\site-packages\\mysql\\connector\\connection.py\u001b[0m in \u001b[0;36m_do_auth\u001b[1;34m(self, username, password, database, client_flags, charset, ssl_options, conn_attrs)\u001b[0m\n\u001b[0;32m    234\u001b[0m             conn_attrs=conn_attrs)\n\u001b[0;32m    235\u001b[0m         \u001b[0mself\u001b[0m\u001b[1;33m.\u001b[0m\u001b[0m_socket\u001b[0m\u001b[1;33m.\u001b[0m\u001b[0msend\u001b[0m\u001b[1;33m(\u001b[0m\u001b[0mpacket\u001b[0m\u001b[1;33m)\u001b[0m\u001b[1;33m\u001b[0m\u001b[1;33m\u001b[0m\u001b[0m\n\u001b[1;32m--> 236\u001b[1;33m         \u001b[0mself\u001b[0m\u001b[1;33m.\u001b[0m\u001b[0m_auth_switch_request\u001b[0m\u001b[1;33m(\u001b[0m\u001b[0musername\u001b[0m\u001b[1;33m,\u001b[0m \u001b[0mpassword\u001b[0m\u001b[1;33m)\u001b[0m\u001b[1;33m\u001b[0m\u001b[1;33m\u001b[0m\u001b[0m\n\u001b[0m\u001b[0;32m    237\u001b[0m \u001b[1;33m\u001b[0m\u001b[0m\n\u001b[0;32m    238\u001b[0m         \u001b[1;32mif\u001b[0m \u001b[1;32mnot\u001b[0m \u001b[1;33m(\u001b[0m\u001b[0mclient_flags\u001b[0m \u001b[1;33m&\u001b[0m \u001b[0mClientFlag\u001b[0m\u001b[1;33m.\u001b[0m\u001b[0mCONNECT_WITH_DB\u001b[0m\u001b[1;33m)\u001b[0m \u001b[1;32mand\u001b[0m \u001b[0mdatabase\u001b[0m\u001b[1;33m:\u001b[0m\u001b[1;33m\u001b[0m\u001b[1;33m\u001b[0m\u001b[0m\n",
      "\u001b[1;32m~\\anaconda3\\lib\\site-packages\\mysql\\connector\\connection.py\u001b[0m in \u001b[0;36m_auth_switch_request\u001b[1;34m(self, username, password)\u001b[0m\n\u001b[0;32m    280\u001b[0m             \u001b[1;32mreturn\u001b[0m \u001b[0mself\u001b[0m\u001b[1;33m.\u001b[0m\u001b[0m_handle_mfa\u001b[0m\u001b[1;33m(\u001b[0m\u001b[0mpacket\u001b[0m\u001b[1;33m)\u001b[0m\u001b[1;33m\u001b[0m\u001b[1;33m\u001b[0m\u001b[0m\n\u001b[0;32m    281\u001b[0m         \u001b[1;32melif\u001b[0m \u001b[0mpacket\u001b[0m\u001b[1;33m[\u001b[0m\u001b[1;36m4\u001b[0m\u001b[1;33m]\u001b[0m \u001b[1;33m==\u001b[0m \u001b[1;36m255\u001b[0m\u001b[1;33m:\u001b[0m\u001b[1;33m\u001b[0m\u001b[1;33m\u001b[0m\u001b[0m\n\u001b[1;32m--> 282\u001b[1;33m             \u001b[1;32mraise\u001b[0m \u001b[0merrors\u001b[0m\u001b[1;33m.\u001b[0m\u001b[0mget_exception\u001b[0m\u001b[1;33m(\u001b[0m\u001b[0mpacket\u001b[0m\u001b[1;33m)\u001b[0m\u001b[1;33m\u001b[0m\u001b[1;33m\u001b[0m\u001b[0m\n\u001b[0m\u001b[0;32m    283\u001b[0m         \u001b[1;32mreturn\u001b[0m \u001b[1;32mNone\u001b[0m\u001b[1;33m\u001b[0m\u001b[1;33m\u001b[0m\u001b[0m\n\u001b[0;32m    284\u001b[0m \u001b[1;33m\u001b[0m\u001b[0m\n",
      "\u001b[1;31mProgrammingError\u001b[0m: 1045 (28000): Access denied for user 'root'@'localhost' (using password: YES)"
     ]
    }
   ],
   "source": [
    "connection.connect(host=\"localhost\",user=\"root\", passwd=\"Wrong password\",use_pure=True)"
   ]
  },
  {
   "cell_type": "code",
   "execution_count": 5,
   "id": "5facc626",
   "metadata": {},
   "outputs": [
    {
     "ename": "InterfaceError",
     "evalue": "2003: Can't connect to MySQL server on '%-.100s:%u' (%s) (Warning: %u format: a number is required, not str)",
     "output_type": "error",
     "traceback": [
      "\u001b[1;31m---------------------------------------------------------------------------\u001b[0m",
      "\u001b[1;31mgaierror\u001b[0m                                  Traceback (most recent call last)",
      "\u001b[1;32m~\\anaconda3\\lib\\site-packages\\mysql\\connector\\network.py\u001b[0m in \u001b[0;36mopen_connection\u001b[1;34m(self)\u001b[0m\n\u001b[0;32m    546\u001b[0m         \u001b[1;32mtry\u001b[0m\u001b[1;33m:\u001b[0m\u001b[1;33m\u001b[0m\u001b[1;33m\u001b[0m\u001b[0m\n\u001b[1;32m--> 547\u001b[1;33m             addrinfos = socket.getaddrinfo(self.server_host,\n\u001b[0m\u001b[0;32m    548\u001b[0m                                            \u001b[0mself\u001b[0m\u001b[1;33m.\u001b[0m\u001b[0mserver_port\u001b[0m\u001b[1;33m,\u001b[0m\u001b[1;33m\u001b[0m\u001b[1;33m\u001b[0m\u001b[0m\n",
      "\u001b[1;32m~\\anaconda3\\lib\\socket.py\u001b[0m in \u001b[0;36mgetaddrinfo\u001b[1;34m(host, port, family, type, proto, flags)\u001b[0m\n\u001b[0;32m    953\u001b[0m     \u001b[0maddrlist\u001b[0m \u001b[1;33m=\u001b[0m \u001b[1;33m[\u001b[0m\u001b[1;33m]\u001b[0m\u001b[1;33m\u001b[0m\u001b[1;33m\u001b[0m\u001b[0m\n\u001b[1;32m--> 954\u001b[1;33m     \u001b[1;32mfor\u001b[0m \u001b[0mres\u001b[0m \u001b[1;32min\u001b[0m \u001b[0m_socket\u001b[0m\u001b[1;33m.\u001b[0m\u001b[0mgetaddrinfo\u001b[0m\u001b[1;33m(\u001b[0m\u001b[0mhost\u001b[0m\u001b[1;33m,\u001b[0m \u001b[0mport\u001b[0m\u001b[1;33m,\u001b[0m \u001b[0mfamily\u001b[0m\u001b[1;33m,\u001b[0m \u001b[0mtype\u001b[0m\u001b[1;33m,\u001b[0m \u001b[0mproto\u001b[0m\u001b[1;33m,\u001b[0m \u001b[0mflags\u001b[0m\u001b[1;33m)\u001b[0m\u001b[1;33m:\u001b[0m\u001b[1;33m\u001b[0m\u001b[1;33m\u001b[0m\u001b[0m\n\u001b[0m\u001b[0;32m    955\u001b[0m         \u001b[0maf\u001b[0m\u001b[1;33m,\u001b[0m \u001b[0msocktype\u001b[0m\u001b[1;33m,\u001b[0m \u001b[0mproto\u001b[0m\u001b[1;33m,\u001b[0m \u001b[0mcanonname\u001b[0m\u001b[1;33m,\u001b[0m \u001b[0msa\u001b[0m \u001b[1;33m=\u001b[0m \u001b[0mres\u001b[0m\u001b[1;33m\u001b[0m\u001b[1;33m\u001b[0m\u001b[0m\n",
      "\u001b[1;31mgaierror\u001b[0m: [Errno 11001] getaddrinfo failed",
      "\nDuring handling of the above exception, another exception occurred:\n",
      "\u001b[1;31mInterfaceError\u001b[0m                            Traceback (most recent call last)",
      "\u001b[1;32m~\\AppData\\Local\\Temp/ipykernel_6944/3554700001.py\u001b[0m in \u001b[0;36m<module>\u001b[1;34m\u001b[0m\n\u001b[1;32m----> 1\u001b[1;33m \u001b[0mconnection\u001b[0m\u001b[1;33m.\u001b[0m\u001b[0mconnect\u001b[0m\u001b[1;33m(\u001b[0m\u001b[0mhost\u001b[0m\u001b[1;33m=\u001b[0m\u001b[1;34m\"incorrect username\"\u001b[0m\u001b[1;33m,\u001b[0m\u001b[0muser\u001b[0m\u001b[1;33m=\u001b[0m\u001b[1;34m\"root\"\u001b[0m\u001b[1;33m,\u001b[0m \u001b[0mpasswd\u001b[0m\u001b[1;33m=\u001b[0m\u001b[1;34m\"Ineuron@ukc@5\"\u001b[0m\u001b[1;33m,\u001b[0m\u001b[0muse_pure\u001b[0m\u001b[1;33m=\u001b[0m\u001b[1;32mTrue\u001b[0m\u001b[1;33m)\u001b[0m\u001b[1;33m\u001b[0m\u001b[1;33m\u001b[0m\u001b[0m\n\u001b[0m",
      "\u001b[1;32m~\\anaconda3\\lib\\site-packages\\mysql\\connector\\__init__.py\u001b[0m in \u001b[0;36mconnect\u001b[1;34m(*args, **kwargs)\u001b[0m\n\u001b[0;32m    271\u001b[0m     \u001b[1;32mif\u001b[0m \u001b[0mHAVE_CEXT\u001b[0m \u001b[1;32mand\u001b[0m \u001b[1;32mnot\u001b[0m \u001b[0muse_pure\u001b[0m\u001b[1;33m:\u001b[0m\u001b[1;33m\u001b[0m\u001b[1;33m\u001b[0m\u001b[0m\n\u001b[0;32m    272\u001b[0m         \u001b[1;32mreturn\u001b[0m \u001b[0mCMySQLConnection\u001b[0m\u001b[1;33m(\u001b[0m\u001b[1;33m*\u001b[0m\u001b[0margs\u001b[0m\u001b[1;33m,\u001b[0m \u001b[1;33m**\u001b[0m\u001b[0mkwargs\u001b[0m\u001b[1;33m)\u001b[0m\u001b[1;33m\u001b[0m\u001b[1;33m\u001b[0m\u001b[0m\n\u001b[1;32m--> 273\u001b[1;33m     \u001b[1;32mreturn\u001b[0m \u001b[0mMySQLConnection\u001b[0m\u001b[1;33m(\u001b[0m\u001b[1;33m*\u001b[0m\u001b[0margs\u001b[0m\u001b[1;33m,\u001b[0m \u001b[1;33m**\u001b[0m\u001b[0mkwargs\u001b[0m\u001b[1;33m)\u001b[0m\u001b[1;33m\u001b[0m\u001b[1;33m\u001b[0m\u001b[0m\n\u001b[0m\u001b[0;32m    274\u001b[0m \u001b[0mConnect\u001b[0m \u001b[1;33m=\u001b[0m \u001b[0mconnect\u001b[0m  \u001b[1;31m# pylint: disable=C0103\u001b[0m\u001b[1;33m\u001b[0m\u001b[1;33m\u001b[0m\u001b[0m\n\u001b[0;32m    275\u001b[0m \u001b[1;33m\u001b[0m\u001b[0m\n",
      "\u001b[1;32m~\\anaconda3\\lib\\site-packages\\mysql\\connector\\connection.py\u001b[0m in \u001b[0;36m__init__\u001b[1;34m(self, *args, **kwargs)\u001b[0m\n\u001b[0;32m    113\u001b[0m         \u001b[1;32mif\u001b[0m \u001b[0mkwargs\u001b[0m\u001b[1;33m:\u001b[0m\u001b[1;33m\u001b[0m\u001b[1;33m\u001b[0m\u001b[0m\n\u001b[0;32m    114\u001b[0m             \u001b[1;32mtry\u001b[0m\u001b[1;33m:\u001b[0m\u001b[1;33m\u001b[0m\u001b[1;33m\u001b[0m\u001b[0m\n\u001b[1;32m--> 115\u001b[1;33m                 \u001b[0mself\u001b[0m\u001b[1;33m.\u001b[0m\u001b[0mconnect\u001b[0m\u001b[1;33m(\u001b[0m\u001b[1;33m**\u001b[0m\u001b[0mkwargs\u001b[0m\u001b[1;33m)\u001b[0m\u001b[1;33m\u001b[0m\u001b[1;33m\u001b[0m\u001b[0m\n\u001b[0m\u001b[0;32m    116\u001b[0m             \u001b[1;32mexcept\u001b[0m\u001b[1;33m:\u001b[0m\u001b[1;33m\u001b[0m\u001b[1;33m\u001b[0m\u001b[0m\n\u001b[0;32m    117\u001b[0m                 \u001b[1;31m# Tidy-up underlying socket on failure\u001b[0m\u001b[1;33m\u001b[0m\u001b[1;33m\u001b[0m\u001b[0m\n",
      "\u001b[1;32m~\\anaconda3\\lib\\site-packages\\mysql\\connector\\abstracts.py\u001b[0m in \u001b[0;36mconnect\u001b[1;34m(self, **kwargs)\u001b[0m\n\u001b[0;32m   1026\u001b[0m \u001b[1;33m\u001b[0m\u001b[0m\n\u001b[0;32m   1027\u001b[0m         \u001b[0mself\u001b[0m\u001b[1;33m.\u001b[0m\u001b[0mdisconnect\u001b[0m\u001b[1;33m(\u001b[0m\u001b[1;33m)\u001b[0m\u001b[1;33m\u001b[0m\u001b[1;33m\u001b[0m\u001b[0m\n\u001b[1;32m-> 1028\u001b[1;33m         \u001b[0mself\u001b[0m\u001b[1;33m.\u001b[0m\u001b[0m_open_connection\u001b[0m\u001b[1;33m(\u001b[0m\u001b[1;33m)\u001b[0m\u001b[1;33m\u001b[0m\u001b[1;33m\u001b[0m\u001b[0m\n\u001b[0m\u001b[0;32m   1029\u001b[0m         \u001b[1;31m# Server does not allow to run any other statement different from ALTER\u001b[0m\u001b[1;33m\u001b[0m\u001b[1;33m\u001b[0m\u001b[0m\n\u001b[0;32m   1030\u001b[0m         \u001b[1;31m# when user's password has been expired.\u001b[0m\u001b[1;33m\u001b[0m\u001b[1;33m\u001b[0m\u001b[0m\n",
      "\u001b[1;32m~\\anaconda3\\lib\\site-packages\\mysql\\connector\\connection.py\u001b[0m in \u001b[0;36m_open_connection\u001b[1;34m(self)\u001b[0m\n\u001b[0;32m    490\u001b[0m         \u001b[0mself\u001b[0m\u001b[1;33m.\u001b[0m\u001b[0m_socket\u001b[0m \u001b[1;33m=\u001b[0m \u001b[0mself\u001b[0m\u001b[1;33m.\u001b[0m\u001b[0m_get_connection\u001b[0m\u001b[1;33m(\u001b[0m\u001b[1;33m)\u001b[0m\u001b[1;33m\u001b[0m\u001b[1;33m\u001b[0m\u001b[0m\n\u001b[0;32m    491\u001b[0m         \u001b[1;32mtry\u001b[0m\u001b[1;33m:\u001b[0m\u001b[1;33m\u001b[0m\u001b[1;33m\u001b[0m\u001b[0m\n\u001b[1;32m--> 492\u001b[1;33m             \u001b[0mself\u001b[0m\u001b[1;33m.\u001b[0m\u001b[0m_socket\u001b[0m\u001b[1;33m.\u001b[0m\u001b[0mopen_connection\u001b[0m\u001b[1;33m(\u001b[0m\u001b[1;33m)\u001b[0m\u001b[1;33m\u001b[0m\u001b[1;33m\u001b[0m\u001b[0m\n\u001b[0m\u001b[0;32m    493\u001b[0m             \u001b[0mself\u001b[0m\u001b[1;33m.\u001b[0m\u001b[0m_do_handshake\u001b[0m\u001b[1;33m(\u001b[0m\u001b[1;33m)\u001b[0m\u001b[1;33m\u001b[0m\u001b[1;33m\u001b[0m\u001b[0m\n\u001b[0;32m    494\u001b[0m             self._do_auth(self._user, self._password,\n",
      "\u001b[1;32m~\\anaconda3\\lib\\site-packages\\mysql\\connector\\network.py\u001b[0m in \u001b[0;36mopen_connection\u001b[1;34m(self)\u001b[0m\n\u001b[0;32m    563\u001b[0m                 \u001b[0maddrinfo\u001b[0m \u001b[1;33m=\u001b[0m \u001b[0maddrinfos\u001b[0m\u001b[1;33m[\u001b[0m\u001b[1;36m0\u001b[0m\u001b[1;33m]\u001b[0m\u001b[1;33m\u001b[0m\u001b[1;33m\u001b[0m\u001b[0m\n\u001b[0;32m    564\u001b[0m         \u001b[1;32mexcept\u001b[0m \u001b[0mIOError\u001b[0m \u001b[1;32mas\u001b[0m \u001b[0merr\u001b[0m\u001b[1;33m:\u001b[0m\u001b[1;33m\u001b[0m\u001b[1;33m\u001b[0m\u001b[0m\n\u001b[1;32m--> 565\u001b[1;33m             raise errors.InterfaceError(\n\u001b[0m\u001b[0;32m    566\u001b[0m                 errno=2003, values=(self.get_address(), _strioerror(err)))\n\u001b[0;32m    567\u001b[0m         \u001b[1;32melse\u001b[0m\u001b[1;33m:\u001b[0m\u001b[1;33m\u001b[0m\u001b[1;33m\u001b[0m\u001b[0m\n",
      "\u001b[1;31mInterfaceError\u001b[0m: 2003: Can't connect to MySQL server on '%-.100s:%u' (%s) (Warning: %u format: a number is required, not str)"
     ]
    }
   ],
   "source": [
    "connection.connect(host=\"incorrect username\",user=\"root\", passwd=\"Ineuron@ukc@5\",use_pure=True)"
   ]
  },
  {
   "cell_type": "markdown",
   "id": "269c0639",
   "metadata": {},
   "source": [
    "##### since there is possibility to make mistakes while typing username and password typing, that is why we use exception handling for this purpose."
   ]
  },
  {
   "cell_type": "code",
   "execution_count": 6,
   "id": "693b459e",
   "metadata": {},
   "outputs": [
    {
     "data": {
      "text/plain": [
       "<mysql.connector.connection.MySQLConnection at 0x2aad061e5e0>"
      ]
     },
     "execution_count": 6,
     "metadata": {},
     "output_type": "execute_result"
    }
   ],
   "source": [
    "connection.connect(host=\"localhost\",user=\"root\", passwd=\"Ineuron@ukc@5\",use_pure=True)"
   ]
  },
  {
   "cell_type": "markdown",
   "id": "c226c17b",
   "metadata": {},
   "source": [
    "##### if we are able get an mySQL connection object in the console, it simply means that we are able to establish a connection fromy my jupyter notebook to my SQL workbench."
   ]
  },
  {
   "cell_type": "markdown",
   "id": "57e859b8",
   "metadata": {},
   "source": [
    "##### now, we will try to know what all DBs are already available under mySQL server"
   ]
  },
  {
   "cell_type": "code",
   "execution_count": 7,
   "id": "e5ac0ab4",
   "metadata": {},
   "outputs": [],
   "source": [
    "conn = connection.connect(host=\"localhost\",user=\"root\", passwd=\"Ineuron@ukc@5\",use_pure=True)\n",
    "# check if the connection is established\n",
    "#here we have stored the established connection in an object called conn"
   ]
  },
  {
   "cell_type": "code",
   "execution_count": 8,
   "id": "a6d2d11e",
   "metadata": {},
   "outputs": [],
   "source": [
    "cur = conn.cursor()\n",
    "#create a cursor to execute queries\n",
    "#with the help of connection, we are using cursor as here: conn.cursor()\n",
    "#we are setting a cursor i.e. pointer ....to reach to particular index of DB contents\n",
    "#by default pointer is set to very first index of whateve query we are going to execute"
   ]
  },
  {
   "cell_type": "markdown",
   "id": "497c32df",
   "metadata": {},
   "source": [
    "###### \n",
    "query = \"show databases\"\n",
    "\n",
    "this is my query that will be executed"
   ]
  },
  {
   "cell_type": "code",
   "execution_count": 9,
   "id": "84999b77",
   "metadata": {},
   "outputs": [],
   "source": [
    "cur.execute(\"show databases\")\n",
    "# here we are executing the query with the help of cursor to show databases already available in mySQL server\n",
    "#it is executing on whatever communication which we have established"
   ]
  },
  {
   "cell_type": "code",
   "execution_count": 10,
   "id": "ceba1635",
   "metadata": {},
   "outputs": [
    {
     "ename": "InternalError",
     "evalue": "Unread result found",
     "output_type": "error",
     "traceback": [
      "\u001b[1;31m---------------------------------------------------------------------------\u001b[0m",
      "\u001b[1;31mInternalError\u001b[0m                             Traceback (most recent call last)",
      "\u001b[1;32m~\\AppData\\Local\\Temp/ipykernel_6944/820941224.py\u001b[0m in \u001b[0;36m<module>\u001b[1;34m\u001b[0m\n\u001b[1;32m----> 1\u001b[1;33m \u001b[0mtype\u001b[0m\u001b[1;33m(\u001b[0m\u001b[0mcur\u001b[0m\u001b[1;33m.\u001b[0m\u001b[0mexecute\u001b[0m\u001b[1;33m(\u001b[0m\u001b[1;34m\"show databases\"\u001b[0m\u001b[1;33m)\u001b[0m\u001b[1;33m)\u001b[0m\u001b[1;33m\u001b[0m\u001b[1;33m\u001b[0m\u001b[0m\n\u001b[0m",
      "\u001b[1;32m~\\anaconda3\\lib\\site-packages\\mysql\\connector\\cursor.py\u001b[0m in \u001b[0;36mexecute\u001b[1;34m(self, operation, params, multi)\u001b[0m\n\u001b[0;32m    536\u001b[0m             \u001b[1;32mraise\u001b[0m \u001b[0merrors\u001b[0m\u001b[1;33m.\u001b[0m\u001b[0mProgrammingError\u001b[0m\u001b[1;33m(\u001b[0m\u001b[1;34m\"Cursor is not connected\"\u001b[0m\u001b[1;33m)\u001b[0m\u001b[1;33m\u001b[0m\u001b[1;33m\u001b[0m\u001b[0m\n\u001b[0;32m    537\u001b[0m \u001b[1;33m\u001b[0m\u001b[0m\n\u001b[1;32m--> 538\u001b[1;33m         \u001b[0mself\u001b[0m\u001b[1;33m.\u001b[0m\u001b[0m_connection\u001b[0m\u001b[1;33m.\u001b[0m\u001b[0mhandle_unread_result\u001b[0m\u001b[1;33m(\u001b[0m\u001b[1;33m)\u001b[0m\u001b[1;33m\u001b[0m\u001b[1;33m\u001b[0m\u001b[0m\n\u001b[0m\u001b[0;32m    539\u001b[0m \u001b[1;33m\u001b[0m\u001b[0m\n\u001b[0;32m    540\u001b[0m         \u001b[0mself\u001b[0m\u001b[1;33m.\u001b[0m\u001b[0m_reset_result\u001b[0m\u001b[1;33m(\u001b[0m\u001b[1;33m)\u001b[0m\u001b[1;33m\u001b[0m\u001b[1;33m\u001b[0m\u001b[0m\n",
      "\u001b[1;32m~\\anaconda3\\lib\\site-packages\\mysql\\connector\\connection.py\u001b[0m in \u001b[0;36mhandle_unread_result\u001b[1;34m(self)\u001b[0m\n\u001b[0;32m   1546\u001b[0m             \u001b[0mself\u001b[0m\u001b[1;33m.\u001b[0m\u001b[0mconsume_results\u001b[0m\u001b[1;33m(\u001b[0m\u001b[1;33m)\u001b[0m\u001b[1;33m\u001b[0m\u001b[1;33m\u001b[0m\u001b[0m\n\u001b[0;32m   1547\u001b[0m         \u001b[1;32melif\u001b[0m \u001b[0mself\u001b[0m\u001b[1;33m.\u001b[0m\u001b[0munread_result\u001b[0m\u001b[1;33m:\u001b[0m\u001b[1;33m\u001b[0m\u001b[1;33m\u001b[0m\u001b[0m\n\u001b[1;32m-> 1548\u001b[1;33m             \u001b[1;32mraise\u001b[0m \u001b[0merrors\u001b[0m\u001b[1;33m.\u001b[0m\u001b[0mInternalError\u001b[0m\u001b[1;33m(\u001b[0m\u001b[1;34m\"Unread result found\"\u001b[0m\u001b[1;33m)\u001b[0m\u001b[1;33m\u001b[0m\u001b[1;33m\u001b[0m\u001b[0m\n\u001b[0m",
      "\u001b[1;31mInternalError\u001b[0m: Unread result found"
     ]
    }
   ],
   "source": [
    "type(cur.execute(\"show databases\"))"
   ]
  },
  {
   "cell_type": "code",
   "execution_count": 11,
   "id": "c7f6e216",
   "metadata": {},
   "outputs": [],
   "source": [
    "import mysql.connector as connection"
   ]
  },
  {
   "cell_type": "code",
   "execution_count": 12,
   "id": "0457fe9b",
   "metadata": {},
   "outputs": [],
   "source": [
    "conn = connection.connect(host=\"localhost\",user=\"root\", passwd=\"Ineuron@ukc@5\",use_pure=True)"
   ]
  },
  {
   "cell_type": "code",
   "execution_count": 13,
   "id": "8207325a",
   "metadata": {},
   "outputs": [],
   "source": [
    "cur = conn.cursor()"
   ]
  },
  {
   "cell_type": "code",
   "execution_count": 14,
   "id": "b2054a2d",
   "metadata": {},
   "outputs": [
    {
     "data": {
      "text/plain": [
       "NoneType"
      ]
     },
     "execution_count": 14,
     "metadata": {},
     "output_type": "execute_result"
    }
   ],
   "source": [
    "type(cur.execute(\"show databases\"))"
   ]
  },
  {
   "cell_type": "code",
   "execution_count": null,
   "id": "ea35960a",
   "metadata": {},
   "outputs": [],
   "source": [
    "import mysql.connector as connection"
   ]
  },
  {
   "cell_type": "code",
   "execution_count": 15,
   "id": "28d31395",
   "metadata": {},
   "outputs": [],
   "source": [
    "conn = connection.connect(host=\"localhost\",user=\"root\", passwd=\"Ineuron@ukc@5\",use_pure=True)"
   ]
  },
  {
   "cell_type": "code",
   "execution_count": 16,
   "id": "b68c853f",
   "metadata": {},
   "outputs": [],
   "source": [
    "cur = conn.cursor()"
   ]
  },
  {
   "cell_type": "code",
   "execution_count": 17,
   "id": "e43cf7a1",
   "metadata": {},
   "outputs": [],
   "source": [
    "cur.execute(\"show databases\")"
   ]
  },
  {
   "cell_type": "markdown",
   "id": "e7220c5e",
   "metadata": {},
   "source": [
    "#### we have to rewrite the same code because of cursor being set at last....that is why we were getting error"
   ]
  },
  {
   "cell_type": "code",
   "execution_count": 18,
   "id": "25e1541b",
   "metadata": {},
   "outputs": [
    {
     "data": {
      "text/plain": [
       "[('information_schema',),\n",
       " ('mysql',),\n",
       " ('performance_schema',),\n",
       " ('sakila',),\n",
       " ('sys',),\n",
       " ('world',)]"
      ]
     },
     "execution_count": 18,
     "metadata": {},
     "output_type": "execute_result"
    }
   ],
   "source": [
    "#### we will try to fetch data user has received\n",
    "# output is list of tuples\n",
    "\n",
    "cur.fetchall()"
   ]
  },
  {
   "cell_type": "markdown",
   "id": "961b7ca9",
   "metadata": {},
   "source": [
    "###### samethings will be shown in mySQL workbench on executing 'show databases' in query....just the format is different"
   ]
  },
  {
   "cell_type": "code",
   "execution_count": 19,
   "id": "80a3dbce",
   "metadata": {},
   "outputs": [],
   "source": [
    "import mysql.connector as connection"
   ]
  },
  {
   "cell_type": "code",
   "execution_count": 20,
   "id": "28809039",
   "metadata": {},
   "outputs": [],
   "source": [
    "conn = connection.connect(host=\"localhost\",user=\"root\", passwd=\"Ineuron@ukc@5\",use_pure=True)"
   ]
  },
  {
   "cell_type": "code",
   "execution_count": 21,
   "id": "d0249ddb",
   "metadata": {},
   "outputs": [],
   "source": [
    "cur = conn.cursor()"
   ]
  },
  {
   "cell_type": "code",
   "execution_count": 22,
   "id": "021a40fe",
   "metadata": {},
   "outputs": [],
   "source": [
    "cur.execute(\"show databases\")"
   ]
  },
  {
   "cell_type": "code",
   "execution_count": 23,
   "id": "509548f9",
   "metadata": {},
   "outputs": [],
   "source": [
    "res = cur.fetchall()"
   ]
  },
  {
   "cell_type": "code",
   "execution_count": 24,
   "id": "bee9094f",
   "metadata": {},
   "outputs": [
    {
     "data": {
      "text/plain": [
       "[('information_schema',),\n",
       " ('mysql',),\n",
       " ('performance_schema',),\n",
       " ('sakila',),\n",
       " ('sys',),\n",
       " ('world',)]"
      ]
     },
     "execution_count": 24,
     "metadata": {},
     "output_type": "execute_result"
    }
   ],
   "source": [
    "res"
   ]
  },
  {
   "cell_type": "code",
   "execution_count": 25,
   "id": "7809b4eb",
   "metadata": {},
   "outputs": [
    {
     "data": {
      "text/plain": [
       "('mysql',)"
      ]
     },
     "execution_count": 25,
     "metadata": {},
     "output_type": "execute_result"
    }
   ],
   "source": [
    "res[1]"
   ]
  },
  {
   "cell_type": "code",
   "execution_count": 26,
   "id": "7f3ae091",
   "metadata": {},
   "outputs": [
    {
     "data": {
      "text/plain": [
       "'mysql'"
      ]
     },
     "execution_count": 26,
     "metadata": {},
     "output_type": "execute_result"
    }
   ],
   "source": [
    "res[1][0]"
   ]
  },
  {
   "cell_type": "code",
   "execution_count": 27,
   "id": "6493f4af",
   "metadata": {},
   "outputs": [
    {
     "name": "stdout",
     "output_type": "stream",
     "text": [
      "information_schema\n",
      "mysql\n",
      "performance_schema\n",
      "sakila\n",
      "sys\n",
      "world\n"
     ]
    }
   ],
   "source": [
    "for i in res:\n",
    "    print(i[0])"
   ]
  },
  {
   "cell_type": "code",
   "execution_count": 28,
   "id": "1392a94c",
   "metadata": {},
   "outputs": [],
   "source": [
    "import mysql.connector as connection"
   ]
  },
  {
   "cell_type": "code",
   "execution_count": 29,
   "id": "87deaf85",
   "metadata": {},
   "outputs": [],
   "source": [
    "conn = connection.connect(host=\"localhost\",user=\"root\", passwd=\"Ineuron@ukc@5\",use_pure=True)"
   ]
  },
  {
   "cell_type": "code",
   "execution_count": 30,
   "id": "8dfa6ac8",
   "metadata": {},
   "outputs": [],
   "source": [
    "cur = conn.cursor()"
   ]
  },
  {
   "cell_type": "code",
   "execution_count": 31,
   "id": "9e09032d",
   "metadata": {},
   "outputs": [],
   "source": [
    "cur.execute(\"create database sudhanshu12345\")"
   ]
  },
  {
   "cell_type": "code",
   "execution_count": 32,
   "id": "3199abf4",
   "metadata": {},
   "outputs": [],
   "source": [
    "mydb = connection.connect(host=\"localhost\", database = 'sudhanshu12345',user=\"root\", passwd=\"Ineuron@ukc@5\",use_pure=True)"
   ]
  },
  {
   "cell_type": "code",
   "execution_count": 33,
   "id": "e44e7e11",
   "metadata": {},
   "outputs": [
    {
     "data": {
      "text/plain": [
       "True"
      ]
     },
     "execution_count": 33,
     "metadata": {},
     "output_type": "execute_result"
    }
   ],
   "source": [
    "mydb.is_connected()"
   ]
  },
  {
   "cell_type": "code",
   "execution_count": 34,
   "id": "cc78acbf",
   "metadata": {},
   "outputs": [],
   "source": [
    "cur = mydb.cursor()"
   ]
  },
  {
   "cell_type": "code",
   "execution_count": 35,
   "id": "a5e72ff2",
   "metadata": {},
   "outputs": [],
   "source": [
    "cur.execute(\"create table test(x1 INT(5), x2 VARCHAR(20), x3 DATE)\")"
   ]
  },
  {
   "cell_type": "markdown",
   "id": "78919dba",
   "metadata": {},
   "source": [
    "### mydb.close()"
   ]
  },
  {
   "cell_type": "code",
   "execution_count": 36,
   "id": "f868ffd7",
   "metadata": {},
   "outputs": [],
   "source": [
    "mydb = connection.connect(host=\"localhost\", database = \"sudhanshu12345\",user=\"root\", passwd=\"Ineuron@ukc@5\",use_pure=True)"
   ]
  },
  {
   "cell_type": "code",
   "execution_count": 37,
   "id": "e35abaf6",
   "metadata": {},
   "outputs": [],
   "source": [
    "cur = mydb.cursor()"
   ]
  },
  {
   "cell_type": "code",
   "execution_count": 38,
   "id": "4165963c",
   "metadata": {},
   "outputs": [],
   "source": [
    "cur.execute(\"insert into test values(23459, 'xyz', '2022-01-31')\")"
   ]
  },
  {
   "cell_type": "code",
   "execution_count": 39,
   "id": "9b6cc465",
   "metadata": {},
   "outputs": [
    {
     "data": {
      "text/plain": [
       "True"
      ]
     },
     "execution_count": 39,
     "metadata": {},
     "output_type": "execute_result"
    }
   ],
   "source": [
    "mydb.is_connected()"
   ]
  },
  {
   "cell_type": "code",
   "execution_count": 40,
   "id": "f92550d2",
   "metadata": {},
   "outputs": [],
   "source": [
    "mydb.commit()"
   ]
  },
  {
   "cell_type": "code",
   "execution_count": 41,
   "id": "0ef43f5f",
   "metadata": {},
   "outputs": [],
   "source": [
    "cur.execute(\"insert into test values(23459, 'xyz', '2022-01-31')\")"
   ]
  },
  {
   "cell_type": "code",
   "execution_count": 42,
   "id": "44597e6b",
   "metadata": {},
   "outputs": [],
   "source": [
    "mydb.commit()"
   ]
  },
  {
   "cell_type": "code",
   "execution_count": 47,
   "id": "2f803f8d",
   "metadata": {},
   "outputs": [],
   "source": [
    "cur.execute(\"insert into test values(23459, 'xyz', '2022-01-31')\")\n",
    "cur.execute(\"insert into test values(23459, 'xyz', '2022-01-31')\")\n",
    "cur.execute(\"insert into test values(23459, 'xyz', '2022-01-31')\")\n",
    "cur.execute(\"insert into test values(23459, 'xyz', '2022-01-31')\")\n",
    "cur.execute(\"insert into test values(23459, 'xyz', '2022-01-31')\")"
   ]
  },
  {
   "cell_type": "code",
   "execution_count": 48,
   "id": "149ef217",
   "metadata": {},
   "outputs": [],
   "source": [
    "mydb.commit()"
   ]
  },
  {
   "cell_type": "code",
   "execution_count": 49,
   "id": "b676b1e0",
   "metadata": {},
   "outputs": [],
   "source": [
    "cur.execute(\"insert into test values(345, 'sdf', '2022-01-31')\")\n",
    "cur.execute(\"insert into test values(2349, 'sdsf', '2022-01-31')\")\n",
    "cur.execute(\"insert into test values(68, 'sdf', '2022-01-31')\")\n",
    "cur.execute(\"insert into test values(6345, 'ui', '2022-01-31')\")\n",
    "cur.execute(\"insert into test values(45, 'ghhj', '2022-01-31')\")"
   ]
  },
  {
   "cell_type": "code",
   "execution_count": 50,
   "id": "f59a8bc2",
   "metadata": {},
   "outputs": [],
   "source": [
    "mydb.commit()"
   ]
  },
  {
   "cell_type": "code",
   "execution_count": 54,
   "id": "5025226c",
   "metadata": {},
   "outputs": [
    {
     "name": "stdout",
     "output_type": "stream",
     "text": [
      "True\n",
      "(23459, 'xyz', datetime.date(2022, 1, 31))\n",
      "(23459, 'xyz', datetime.date(2022, 1, 31))\n",
      "(23459, 'xyz', datetime.date(2022, 1, 31))\n",
      "(23459, 'xyz', datetime.date(2022, 1, 31))\n",
      "(23459, 'xyz', datetime.date(2022, 1, 31))\n",
      "(23459, 'xyz', datetime.date(2022, 1, 31))\n",
      "(23459, 'xyz', datetime.date(2022, 1, 31))\n",
      "(23459, 'xyz', datetime.date(2022, 1, 31))\n",
      "(23459, 'xyz', datetime.date(2022, 1, 31))\n",
      "(23459, 'xyz', datetime.date(2022, 1, 31))\n",
      "(23459, 'xyz', datetime.date(2022, 1, 31))\n",
      "(23459, 'xyz', datetime.date(2022, 1, 31))\n",
      "(23459, 'xyz', datetime.date(2022, 1, 31))\n",
      "(23459, 'xyz', datetime.date(2022, 1, 31))\n",
      "(23459, 'xyz', datetime.date(2022, 1, 31))\n",
      "(23459, 'xyz', datetime.date(2022, 1, 31))\n",
      "(23459, 'xyz', datetime.date(2022, 1, 31))\n",
      "(23459, 'xyz', datetime.date(2022, 1, 31))\n",
      "(23459, 'xyz', datetime.date(2022, 1, 31))\n",
      "(23459, 'xyz', datetime.date(2022, 1, 31))\n",
      "(23459, 'xyz', datetime.date(2022, 1, 31))\n",
      "(23459, 'xyz', datetime.date(2022, 1, 31))\n",
      "(23459, 'xyz', datetime.date(2022, 1, 31))\n",
      "(23459, 'xyz', datetime.date(2022, 1, 31))\n",
      "(23459, 'xyz', datetime.date(2022, 1, 31))\n",
      "(23459, 'xyz', datetime.date(2022, 1, 31))\n",
      "(23459, 'xyz', datetime.date(2022, 1, 31))\n",
      "(345, 'sdf', datetime.date(2022, 1, 31))\n",
      "(2349, 'sdsf', datetime.date(2022, 1, 31))\n",
      "(68, 'sdf', datetime.date(2022, 1, 31))\n",
      "(6345, 'ui', datetime.date(2022, 1, 31))\n",
      "(45, 'ghhj', datetime.date(2022, 1, 31))\n"
     ]
    }
   ],
   "source": [
    "mydb = connection.connect(host=\"localhost\", database = 'sudhanshu12345',user=\"root\", passwd=\"Ineuron@ukc@5\",use_pure=True)\n",
    "    #check if the connection is established\n",
    "print(mydb.is_connected())\n",
    "query = \"Select * from test;\"\n",
    "cursor = mydb.cursor() #create a cursor to execute queries\n",
    "cursor.execute(query)\n",
    "for result in cursor.fetchall():\n",
    "    print(result)"
   ]
  },
  {
   "cell_type": "code",
   "execution_count": 56,
   "id": "5ddcca59",
   "metadata": {},
   "outputs": [],
   "source": [
    "cur = mydb.cursor()\n",
    "cur.execute(\"select x1, x2 from test\")"
   ]
  },
  {
   "cell_type": "code",
   "execution_count": 57,
   "id": "38620c28",
   "metadata": {},
   "outputs": [
    {
     "name": "stdout",
     "output_type": "stream",
     "text": [
      "(23459, 'xyz')\n",
      "(23459, 'xyz')\n",
      "(23459, 'xyz')\n",
      "(23459, 'xyz')\n",
      "(23459, 'xyz')\n",
      "(23459, 'xyz')\n",
      "(23459, 'xyz')\n",
      "(23459, 'xyz')\n",
      "(23459, 'xyz')\n",
      "(23459, 'xyz')\n",
      "(23459, 'xyz')\n",
      "(23459, 'xyz')\n",
      "(23459, 'xyz')\n",
      "(23459, 'xyz')\n",
      "(23459, 'xyz')\n",
      "(23459, 'xyz')\n",
      "(23459, 'xyz')\n",
      "(23459, 'xyz')\n",
      "(23459, 'xyz')\n",
      "(23459, 'xyz')\n",
      "(23459, 'xyz')\n",
      "(23459, 'xyz')\n",
      "(23459, 'xyz')\n",
      "(23459, 'xyz')\n",
      "(23459, 'xyz')\n",
      "(23459, 'xyz')\n",
      "(23459, 'xyz')\n",
      "(345, 'sdf')\n",
      "(2349, 'sdsf')\n",
      "(68, 'sdf')\n",
      "(6345, 'ui')\n",
      "(45, 'ghhj')\n"
     ]
    }
   ],
   "source": [
    "for result in cur.fetchall():\n",
    "    print(result)"
   ]
  },
  {
   "cell_type": "code",
   "execution_count": 58,
   "id": "ee89302a",
   "metadata": {},
   "outputs": [],
   "source": [
    "import pandas as pd"
   ]
  },
  {
   "cell_type": "code",
   "execution_count": 59,
   "id": "7bf4b633",
   "metadata": {},
   "outputs": [
    {
     "data": {
      "text/plain": [
       "<mysql.connector.connection.MySQLConnection at 0x2aad264f400>"
      ]
     },
     "execution_count": 59,
     "metadata": {},
     "output_type": "execute_result"
    }
   ],
   "source": [
    "mydb"
   ]
  },
  {
   "cell_type": "code",
   "execution_count": 60,
   "id": "761488a0",
   "metadata": {},
   "outputs": [
    {
     "data": {
      "text/html": [
       "<div>\n",
       "<style scoped>\n",
       "    .dataframe tbody tr th:only-of-type {\n",
       "        vertical-align: middle;\n",
       "    }\n",
       "\n",
       "    .dataframe tbody tr th {\n",
       "        vertical-align: top;\n",
       "    }\n",
       "\n",
       "    .dataframe thead th {\n",
       "        text-align: right;\n",
       "    }\n",
       "</style>\n",
       "<table border=\"1\" class=\"dataframe\">\n",
       "  <thead>\n",
       "    <tr style=\"text-align: right;\">\n",
       "      <th></th>\n",
       "      <th>x1</th>\n",
       "      <th>x2</th>\n",
       "      <th>x3</th>\n",
       "    </tr>\n",
       "  </thead>\n",
       "  <tbody>\n",
       "    <tr>\n",
       "      <th>0</th>\n",
       "      <td>23459</td>\n",
       "      <td>xyz</td>\n",
       "      <td>2022-01-31</td>\n",
       "    </tr>\n",
       "    <tr>\n",
       "      <th>1</th>\n",
       "      <td>23459</td>\n",
       "      <td>xyz</td>\n",
       "      <td>2022-01-31</td>\n",
       "    </tr>\n",
       "    <tr>\n",
       "      <th>2</th>\n",
       "      <td>23459</td>\n",
       "      <td>xyz</td>\n",
       "      <td>2022-01-31</td>\n",
       "    </tr>\n",
       "    <tr>\n",
       "      <th>3</th>\n",
       "      <td>23459</td>\n",
       "      <td>xyz</td>\n",
       "      <td>2022-01-31</td>\n",
       "    </tr>\n",
       "    <tr>\n",
       "      <th>4</th>\n",
       "      <td>23459</td>\n",
       "      <td>xyz</td>\n",
       "      <td>2022-01-31</td>\n",
       "    </tr>\n",
       "    <tr>\n",
       "      <th>5</th>\n",
       "      <td>23459</td>\n",
       "      <td>xyz</td>\n",
       "      <td>2022-01-31</td>\n",
       "    </tr>\n",
       "    <tr>\n",
       "      <th>6</th>\n",
       "      <td>23459</td>\n",
       "      <td>xyz</td>\n",
       "      <td>2022-01-31</td>\n",
       "    </tr>\n",
       "    <tr>\n",
       "      <th>7</th>\n",
       "      <td>23459</td>\n",
       "      <td>xyz</td>\n",
       "      <td>2022-01-31</td>\n",
       "    </tr>\n",
       "    <tr>\n",
       "      <th>8</th>\n",
       "      <td>23459</td>\n",
       "      <td>xyz</td>\n",
       "      <td>2022-01-31</td>\n",
       "    </tr>\n",
       "    <tr>\n",
       "      <th>9</th>\n",
       "      <td>23459</td>\n",
       "      <td>xyz</td>\n",
       "      <td>2022-01-31</td>\n",
       "    </tr>\n",
       "    <tr>\n",
       "      <th>10</th>\n",
       "      <td>23459</td>\n",
       "      <td>xyz</td>\n",
       "      <td>2022-01-31</td>\n",
       "    </tr>\n",
       "    <tr>\n",
       "      <th>11</th>\n",
       "      <td>23459</td>\n",
       "      <td>xyz</td>\n",
       "      <td>2022-01-31</td>\n",
       "    </tr>\n",
       "    <tr>\n",
       "      <th>12</th>\n",
       "      <td>23459</td>\n",
       "      <td>xyz</td>\n",
       "      <td>2022-01-31</td>\n",
       "    </tr>\n",
       "    <tr>\n",
       "      <th>13</th>\n",
       "      <td>23459</td>\n",
       "      <td>xyz</td>\n",
       "      <td>2022-01-31</td>\n",
       "    </tr>\n",
       "    <tr>\n",
       "      <th>14</th>\n",
       "      <td>23459</td>\n",
       "      <td>xyz</td>\n",
       "      <td>2022-01-31</td>\n",
       "    </tr>\n",
       "    <tr>\n",
       "      <th>15</th>\n",
       "      <td>23459</td>\n",
       "      <td>xyz</td>\n",
       "      <td>2022-01-31</td>\n",
       "    </tr>\n",
       "    <tr>\n",
       "      <th>16</th>\n",
       "      <td>23459</td>\n",
       "      <td>xyz</td>\n",
       "      <td>2022-01-31</td>\n",
       "    </tr>\n",
       "    <tr>\n",
       "      <th>17</th>\n",
       "      <td>23459</td>\n",
       "      <td>xyz</td>\n",
       "      <td>2022-01-31</td>\n",
       "    </tr>\n",
       "    <tr>\n",
       "      <th>18</th>\n",
       "      <td>23459</td>\n",
       "      <td>xyz</td>\n",
       "      <td>2022-01-31</td>\n",
       "    </tr>\n",
       "    <tr>\n",
       "      <th>19</th>\n",
       "      <td>23459</td>\n",
       "      <td>xyz</td>\n",
       "      <td>2022-01-31</td>\n",
       "    </tr>\n",
       "    <tr>\n",
       "      <th>20</th>\n",
       "      <td>23459</td>\n",
       "      <td>xyz</td>\n",
       "      <td>2022-01-31</td>\n",
       "    </tr>\n",
       "    <tr>\n",
       "      <th>21</th>\n",
       "      <td>23459</td>\n",
       "      <td>xyz</td>\n",
       "      <td>2022-01-31</td>\n",
       "    </tr>\n",
       "    <tr>\n",
       "      <th>22</th>\n",
       "      <td>23459</td>\n",
       "      <td>xyz</td>\n",
       "      <td>2022-01-31</td>\n",
       "    </tr>\n",
       "    <tr>\n",
       "      <th>23</th>\n",
       "      <td>23459</td>\n",
       "      <td>xyz</td>\n",
       "      <td>2022-01-31</td>\n",
       "    </tr>\n",
       "    <tr>\n",
       "      <th>24</th>\n",
       "      <td>23459</td>\n",
       "      <td>xyz</td>\n",
       "      <td>2022-01-31</td>\n",
       "    </tr>\n",
       "    <tr>\n",
       "      <th>25</th>\n",
       "      <td>23459</td>\n",
       "      <td>xyz</td>\n",
       "      <td>2022-01-31</td>\n",
       "    </tr>\n",
       "    <tr>\n",
       "      <th>26</th>\n",
       "      <td>23459</td>\n",
       "      <td>xyz</td>\n",
       "      <td>2022-01-31</td>\n",
       "    </tr>\n",
       "    <tr>\n",
       "      <th>27</th>\n",
       "      <td>345</td>\n",
       "      <td>sdf</td>\n",
       "      <td>2022-01-31</td>\n",
       "    </tr>\n",
       "    <tr>\n",
       "      <th>28</th>\n",
       "      <td>2349</td>\n",
       "      <td>sdsf</td>\n",
       "      <td>2022-01-31</td>\n",
       "    </tr>\n",
       "    <tr>\n",
       "      <th>29</th>\n",
       "      <td>68</td>\n",
       "      <td>sdf</td>\n",
       "      <td>2022-01-31</td>\n",
       "    </tr>\n",
       "    <tr>\n",
       "      <th>30</th>\n",
       "      <td>6345</td>\n",
       "      <td>ui</td>\n",
       "      <td>2022-01-31</td>\n",
       "    </tr>\n",
       "    <tr>\n",
       "      <th>31</th>\n",
       "      <td>45</td>\n",
       "      <td>ghhj</td>\n",
       "      <td>2022-01-31</td>\n",
       "    </tr>\n",
       "  </tbody>\n",
       "</table>\n",
       "</div>"
      ],
      "text/plain": [
       "       x1    x2          x3\n",
       "0   23459   xyz  2022-01-31\n",
       "1   23459   xyz  2022-01-31\n",
       "2   23459   xyz  2022-01-31\n",
       "3   23459   xyz  2022-01-31\n",
       "4   23459   xyz  2022-01-31\n",
       "5   23459   xyz  2022-01-31\n",
       "6   23459   xyz  2022-01-31\n",
       "7   23459   xyz  2022-01-31\n",
       "8   23459   xyz  2022-01-31\n",
       "9   23459   xyz  2022-01-31\n",
       "10  23459   xyz  2022-01-31\n",
       "11  23459   xyz  2022-01-31\n",
       "12  23459   xyz  2022-01-31\n",
       "13  23459   xyz  2022-01-31\n",
       "14  23459   xyz  2022-01-31\n",
       "15  23459   xyz  2022-01-31\n",
       "16  23459   xyz  2022-01-31\n",
       "17  23459   xyz  2022-01-31\n",
       "18  23459   xyz  2022-01-31\n",
       "19  23459   xyz  2022-01-31\n",
       "20  23459   xyz  2022-01-31\n",
       "21  23459   xyz  2022-01-31\n",
       "22  23459   xyz  2022-01-31\n",
       "23  23459   xyz  2022-01-31\n",
       "24  23459   xyz  2022-01-31\n",
       "25  23459   xyz  2022-01-31\n",
       "26  23459   xyz  2022-01-31\n",
       "27    345   sdf  2022-01-31\n",
       "28   2349  sdsf  2022-01-31\n",
       "29     68   sdf  2022-01-31\n",
       "30   6345    ui  2022-01-31\n",
       "31     45  ghhj  2022-01-31"
      ]
     },
     "execution_count": 60,
     "metadata": {},
     "output_type": "execute_result"
    }
   ],
   "source": [
    "pd.read_sql(\"select * from sudhanshu12345.test\", mydb)"
   ]
  },
  {
   "cell_type": "code",
   "execution_count": 61,
   "id": "ff93394c",
   "metadata": {},
   "outputs": [
    {
     "data": {
      "text/html": [
       "<div>\n",
       "<style scoped>\n",
       "    .dataframe tbody tr th:only-of-type {\n",
       "        vertical-align: middle;\n",
       "    }\n",
       "\n",
       "    .dataframe tbody tr th {\n",
       "        vertical-align: top;\n",
       "    }\n",
       "\n",
       "    .dataframe thead th {\n",
       "        text-align: right;\n",
       "    }\n",
       "</style>\n",
       "<table border=\"1\" class=\"dataframe\">\n",
       "  <thead>\n",
       "    <tr style=\"text-align: right;\">\n",
       "      <th></th>\n",
       "      <th>x1</th>\n",
       "      <th>x2</th>\n",
       "    </tr>\n",
       "  </thead>\n",
       "  <tbody>\n",
       "    <tr>\n",
       "      <th>0</th>\n",
       "      <td>23459</td>\n",
       "      <td>xyz</td>\n",
       "    </tr>\n",
       "    <tr>\n",
       "      <th>1</th>\n",
       "      <td>23459</td>\n",
       "      <td>xyz</td>\n",
       "    </tr>\n",
       "    <tr>\n",
       "      <th>2</th>\n",
       "      <td>23459</td>\n",
       "      <td>xyz</td>\n",
       "    </tr>\n",
       "    <tr>\n",
       "      <th>3</th>\n",
       "      <td>23459</td>\n",
       "      <td>xyz</td>\n",
       "    </tr>\n",
       "    <tr>\n",
       "      <th>4</th>\n",
       "      <td>23459</td>\n",
       "      <td>xyz</td>\n",
       "    </tr>\n",
       "    <tr>\n",
       "      <th>5</th>\n",
       "      <td>23459</td>\n",
       "      <td>xyz</td>\n",
       "    </tr>\n",
       "    <tr>\n",
       "      <th>6</th>\n",
       "      <td>23459</td>\n",
       "      <td>xyz</td>\n",
       "    </tr>\n",
       "    <tr>\n",
       "      <th>7</th>\n",
       "      <td>23459</td>\n",
       "      <td>xyz</td>\n",
       "    </tr>\n",
       "    <tr>\n",
       "      <th>8</th>\n",
       "      <td>23459</td>\n",
       "      <td>xyz</td>\n",
       "    </tr>\n",
       "    <tr>\n",
       "      <th>9</th>\n",
       "      <td>23459</td>\n",
       "      <td>xyz</td>\n",
       "    </tr>\n",
       "    <tr>\n",
       "      <th>10</th>\n",
       "      <td>23459</td>\n",
       "      <td>xyz</td>\n",
       "    </tr>\n",
       "    <tr>\n",
       "      <th>11</th>\n",
       "      <td>23459</td>\n",
       "      <td>xyz</td>\n",
       "    </tr>\n",
       "    <tr>\n",
       "      <th>12</th>\n",
       "      <td>23459</td>\n",
       "      <td>xyz</td>\n",
       "    </tr>\n",
       "    <tr>\n",
       "      <th>13</th>\n",
       "      <td>23459</td>\n",
       "      <td>xyz</td>\n",
       "    </tr>\n",
       "    <tr>\n",
       "      <th>14</th>\n",
       "      <td>23459</td>\n",
       "      <td>xyz</td>\n",
       "    </tr>\n",
       "    <tr>\n",
       "      <th>15</th>\n",
       "      <td>23459</td>\n",
       "      <td>xyz</td>\n",
       "    </tr>\n",
       "    <tr>\n",
       "      <th>16</th>\n",
       "      <td>23459</td>\n",
       "      <td>xyz</td>\n",
       "    </tr>\n",
       "    <tr>\n",
       "      <th>17</th>\n",
       "      <td>23459</td>\n",
       "      <td>xyz</td>\n",
       "    </tr>\n",
       "    <tr>\n",
       "      <th>18</th>\n",
       "      <td>23459</td>\n",
       "      <td>xyz</td>\n",
       "    </tr>\n",
       "    <tr>\n",
       "      <th>19</th>\n",
       "      <td>23459</td>\n",
       "      <td>xyz</td>\n",
       "    </tr>\n",
       "    <tr>\n",
       "      <th>20</th>\n",
       "      <td>23459</td>\n",
       "      <td>xyz</td>\n",
       "    </tr>\n",
       "    <tr>\n",
       "      <th>21</th>\n",
       "      <td>23459</td>\n",
       "      <td>xyz</td>\n",
       "    </tr>\n",
       "    <tr>\n",
       "      <th>22</th>\n",
       "      <td>23459</td>\n",
       "      <td>xyz</td>\n",
       "    </tr>\n",
       "    <tr>\n",
       "      <th>23</th>\n",
       "      <td>23459</td>\n",
       "      <td>xyz</td>\n",
       "    </tr>\n",
       "    <tr>\n",
       "      <th>24</th>\n",
       "      <td>23459</td>\n",
       "      <td>xyz</td>\n",
       "    </tr>\n",
       "    <tr>\n",
       "      <th>25</th>\n",
       "      <td>23459</td>\n",
       "      <td>xyz</td>\n",
       "    </tr>\n",
       "    <tr>\n",
       "      <th>26</th>\n",
       "      <td>23459</td>\n",
       "      <td>xyz</td>\n",
       "    </tr>\n",
       "    <tr>\n",
       "      <th>27</th>\n",
       "      <td>345</td>\n",
       "      <td>sdf</td>\n",
       "    </tr>\n",
       "    <tr>\n",
       "      <th>28</th>\n",
       "      <td>2349</td>\n",
       "      <td>sdsf</td>\n",
       "    </tr>\n",
       "    <tr>\n",
       "      <th>29</th>\n",
       "      <td>68</td>\n",
       "      <td>sdf</td>\n",
       "    </tr>\n",
       "    <tr>\n",
       "      <th>30</th>\n",
       "      <td>6345</td>\n",
       "      <td>ui</td>\n",
       "    </tr>\n",
       "    <tr>\n",
       "      <th>31</th>\n",
       "      <td>45</td>\n",
       "      <td>ghhj</td>\n",
       "    </tr>\n",
       "  </tbody>\n",
       "</table>\n",
       "</div>"
      ],
      "text/plain": [
       "       x1    x2\n",
       "0   23459   xyz\n",
       "1   23459   xyz\n",
       "2   23459   xyz\n",
       "3   23459   xyz\n",
       "4   23459   xyz\n",
       "5   23459   xyz\n",
       "6   23459   xyz\n",
       "7   23459   xyz\n",
       "8   23459   xyz\n",
       "9   23459   xyz\n",
       "10  23459   xyz\n",
       "11  23459   xyz\n",
       "12  23459   xyz\n",
       "13  23459   xyz\n",
       "14  23459   xyz\n",
       "15  23459   xyz\n",
       "16  23459   xyz\n",
       "17  23459   xyz\n",
       "18  23459   xyz\n",
       "19  23459   xyz\n",
       "20  23459   xyz\n",
       "21  23459   xyz\n",
       "22  23459   xyz\n",
       "23  23459   xyz\n",
       "24  23459   xyz\n",
       "25  23459   xyz\n",
       "26  23459   xyz\n",
       "27    345   sdf\n",
       "28   2349  sdsf\n",
       "29     68   sdf\n",
       "30   6345    ui\n",
       "31     45  ghhj"
      ]
     },
     "execution_count": 61,
     "metadata": {},
     "output_type": "execute_result"
    }
   ],
   "source": [
    "pd.read_sql(\"select x1, x2 from sudhanshu12345.test\", mydb)"
   ]
  },
  {
   "cell_type": "code",
   "execution_count": 62,
   "id": "a467b83f",
   "metadata": {},
   "outputs": [
    {
     "data": {
      "text/html": [
       "<div>\n",
       "<style scoped>\n",
       "    .dataframe tbody tr th:only-of-type {\n",
       "        vertical-align: middle;\n",
       "    }\n",
       "\n",
       "    .dataframe tbody tr th {\n",
       "        vertical-align: top;\n",
       "    }\n",
       "\n",
       "    .dataframe thead th {\n",
       "        text-align: right;\n",
       "    }\n",
       "</style>\n",
       "<table border=\"1\" class=\"dataframe\">\n",
       "  <thead>\n",
       "    <tr style=\"text-align: right;\">\n",
       "      <th></th>\n",
       "      <th>x1</th>\n",
       "      <th>x2</th>\n",
       "    </tr>\n",
       "  </thead>\n",
       "  <tbody>\n",
       "    <tr>\n",
       "      <th>0</th>\n",
       "      <td>23459</td>\n",
       "      <td>xyz</td>\n",
       "    </tr>\n",
       "    <tr>\n",
       "      <th>1</th>\n",
       "      <td>23459</td>\n",
       "      <td>xyz</td>\n",
       "    </tr>\n",
       "    <tr>\n",
       "      <th>2</th>\n",
       "      <td>23459</td>\n",
       "      <td>xyz</td>\n",
       "    </tr>\n",
       "    <tr>\n",
       "      <th>3</th>\n",
       "      <td>23459</td>\n",
       "      <td>xyz</td>\n",
       "    </tr>\n",
       "    <tr>\n",
       "      <th>4</th>\n",
       "      <td>23459</td>\n",
       "      <td>xyz</td>\n",
       "    </tr>\n",
       "    <tr>\n",
       "      <th>5</th>\n",
       "      <td>23459</td>\n",
       "      <td>xyz</td>\n",
       "    </tr>\n",
       "    <tr>\n",
       "      <th>6</th>\n",
       "      <td>23459</td>\n",
       "      <td>xyz</td>\n",
       "    </tr>\n",
       "    <tr>\n",
       "      <th>7</th>\n",
       "      <td>23459</td>\n",
       "      <td>xyz</td>\n",
       "    </tr>\n",
       "    <tr>\n",
       "      <th>8</th>\n",
       "      <td>23459</td>\n",
       "      <td>xyz</td>\n",
       "    </tr>\n",
       "    <tr>\n",
       "      <th>9</th>\n",
       "      <td>23459</td>\n",
       "      <td>xyz</td>\n",
       "    </tr>\n",
       "    <tr>\n",
       "      <th>10</th>\n",
       "      <td>23459</td>\n",
       "      <td>xyz</td>\n",
       "    </tr>\n",
       "    <tr>\n",
       "      <th>11</th>\n",
       "      <td>23459</td>\n",
       "      <td>xyz</td>\n",
       "    </tr>\n",
       "    <tr>\n",
       "      <th>12</th>\n",
       "      <td>23459</td>\n",
       "      <td>xyz</td>\n",
       "    </tr>\n",
       "    <tr>\n",
       "      <th>13</th>\n",
       "      <td>23459</td>\n",
       "      <td>xyz</td>\n",
       "    </tr>\n",
       "    <tr>\n",
       "      <th>14</th>\n",
       "      <td>23459</td>\n",
       "      <td>xyz</td>\n",
       "    </tr>\n",
       "    <tr>\n",
       "      <th>15</th>\n",
       "      <td>23459</td>\n",
       "      <td>xyz</td>\n",
       "    </tr>\n",
       "    <tr>\n",
       "      <th>16</th>\n",
       "      <td>23459</td>\n",
       "      <td>xyz</td>\n",
       "    </tr>\n",
       "    <tr>\n",
       "      <th>17</th>\n",
       "      <td>23459</td>\n",
       "      <td>xyz</td>\n",
       "    </tr>\n",
       "    <tr>\n",
       "      <th>18</th>\n",
       "      <td>23459</td>\n",
       "      <td>xyz</td>\n",
       "    </tr>\n",
       "    <tr>\n",
       "      <th>19</th>\n",
       "      <td>23459</td>\n",
       "      <td>xyz</td>\n",
       "    </tr>\n",
       "    <tr>\n",
       "      <th>20</th>\n",
       "      <td>23459</td>\n",
       "      <td>xyz</td>\n",
       "    </tr>\n",
       "    <tr>\n",
       "      <th>21</th>\n",
       "      <td>23459</td>\n",
       "      <td>xyz</td>\n",
       "    </tr>\n",
       "    <tr>\n",
       "      <th>22</th>\n",
       "      <td>23459</td>\n",
       "      <td>xyz</td>\n",
       "    </tr>\n",
       "    <tr>\n",
       "      <th>23</th>\n",
       "      <td>23459</td>\n",
       "      <td>xyz</td>\n",
       "    </tr>\n",
       "    <tr>\n",
       "      <th>24</th>\n",
       "      <td>23459</td>\n",
       "      <td>xyz</td>\n",
       "    </tr>\n",
       "    <tr>\n",
       "      <th>25</th>\n",
       "      <td>23459</td>\n",
       "      <td>xyz</td>\n",
       "    </tr>\n",
       "    <tr>\n",
       "      <th>26</th>\n",
       "      <td>23459</td>\n",
       "      <td>xyz</td>\n",
       "    </tr>\n",
       "    <tr>\n",
       "      <th>27</th>\n",
       "      <td>345</td>\n",
       "      <td>sdf</td>\n",
       "    </tr>\n",
       "    <tr>\n",
       "      <th>28</th>\n",
       "      <td>2349</td>\n",
       "      <td>sdsf</td>\n",
       "    </tr>\n",
       "    <tr>\n",
       "      <th>29</th>\n",
       "      <td>68</td>\n",
       "      <td>sdf</td>\n",
       "    </tr>\n",
       "    <tr>\n",
       "      <th>30</th>\n",
       "      <td>6345</td>\n",
       "      <td>ui</td>\n",
       "    </tr>\n",
       "    <tr>\n",
       "      <th>31</th>\n",
       "      <td>45</td>\n",
       "      <td>ghhj</td>\n",
       "    </tr>\n",
       "  </tbody>\n",
       "</table>\n",
       "</div>"
      ],
      "text/plain": [
       "       x1    x2\n",
       "0   23459   xyz\n",
       "1   23459   xyz\n",
       "2   23459   xyz\n",
       "3   23459   xyz\n",
       "4   23459   xyz\n",
       "5   23459   xyz\n",
       "6   23459   xyz\n",
       "7   23459   xyz\n",
       "8   23459   xyz\n",
       "9   23459   xyz\n",
       "10  23459   xyz\n",
       "11  23459   xyz\n",
       "12  23459   xyz\n",
       "13  23459   xyz\n",
       "14  23459   xyz\n",
       "15  23459   xyz\n",
       "16  23459   xyz\n",
       "17  23459   xyz\n",
       "18  23459   xyz\n",
       "19  23459   xyz\n",
       "20  23459   xyz\n",
       "21  23459   xyz\n",
       "22  23459   xyz\n",
       "23  23459   xyz\n",
       "24  23459   xyz\n",
       "25  23459   xyz\n",
       "26  23459   xyz\n",
       "27    345   sdf\n",
       "28   2349  sdsf\n",
       "29     68   sdf\n",
       "30   6345    ui\n",
       "31     45  ghhj"
      ]
     },
     "execution_count": 62,
     "metadata": {},
     "output_type": "execute_result"
    }
   ],
   "source": [
    "pd.read_sql(\"select x1, x2 from test\", mydb)"
   ]
  },
  {
   "cell_type": "code",
   "execution_count": 63,
   "id": "710a74a3",
   "metadata": {},
   "outputs": [
    {
     "data": {
      "text/html": [
       "<div>\n",
       "<style scoped>\n",
       "    .dataframe tbody tr th:only-of-type {\n",
       "        vertical-align: middle;\n",
       "    }\n",
       "\n",
       "    .dataframe tbody tr th {\n",
       "        vertical-align: top;\n",
       "    }\n",
       "\n",
       "    .dataframe thead th {\n",
       "        text-align: right;\n",
       "    }\n",
       "</style>\n",
       "<table border=\"1\" class=\"dataframe\">\n",
       "  <thead>\n",
       "    <tr style=\"text-align: right;\">\n",
       "      <th></th>\n",
       "      <th>x1</th>\n",
       "      <th>x1</th>\n",
       "    </tr>\n",
       "  </thead>\n",
       "  <tbody>\n",
       "    <tr>\n",
       "      <th>0</th>\n",
       "      <td>23459</td>\n",
       "      <td>23459</td>\n",
       "    </tr>\n",
       "    <tr>\n",
       "      <th>1</th>\n",
       "      <td>23459</td>\n",
       "      <td>23459</td>\n",
       "    </tr>\n",
       "    <tr>\n",
       "      <th>2</th>\n",
       "      <td>23459</td>\n",
       "      <td>23459</td>\n",
       "    </tr>\n",
       "    <tr>\n",
       "      <th>3</th>\n",
       "      <td>23459</td>\n",
       "      <td>23459</td>\n",
       "    </tr>\n",
       "    <tr>\n",
       "      <th>4</th>\n",
       "      <td>23459</td>\n",
       "      <td>23459</td>\n",
       "    </tr>\n",
       "    <tr>\n",
       "      <th>5</th>\n",
       "      <td>23459</td>\n",
       "      <td>23459</td>\n",
       "    </tr>\n",
       "    <tr>\n",
       "      <th>6</th>\n",
       "      <td>23459</td>\n",
       "      <td>23459</td>\n",
       "    </tr>\n",
       "    <tr>\n",
       "      <th>7</th>\n",
       "      <td>23459</td>\n",
       "      <td>23459</td>\n",
       "    </tr>\n",
       "    <tr>\n",
       "      <th>8</th>\n",
       "      <td>23459</td>\n",
       "      <td>23459</td>\n",
       "    </tr>\n",
       "    <tr>\n",
       "      <th>9</th>\n",
       "      <td>23459</td>\n",
       "      <td>23459</td>\n",
       "    </tr>\n",
       "    <tr>\n",
       "      <th>10</th>\n",
       "      <td>23459</td>\n",
       "      <td>23459</td>\n",
       "    </tr>\n",
       "    <tr>\n",
       "      <th>11</th>\n",
       "      <td>23459</td>\n",
       "      <td>23459</td>\n",
       "    </tr>\n",
       "    <tr>\n",
       "      <th>12</th>\n",
       "      <td>23459</td>\n",
       "      <td>23459</td>\n",
       "    </tr>\n",
       "    <tr>\n",
       "      <th>13</th>\n",
       "      <td>23459</td>\n",
       "      <td>23459</td>\n",
       "    </tr>\n",
       "    <tr>\n",
       "      <th>14</th>\n",
       "      <td>23459</td>\n",
       "      <td>23459</td>\n",
       "    </tr>\n",
       "    <tr>\n",
       "      <th>15</th>\n",
       "      <td>23459</td>\n",
       "      <td>23459</td>\n",
       "    </tr>\n",
       "    <tr>\n",
       "      <th>16</th>\n",
       "      <td>23459</td>\n",
       "      <td>23459</td>\n",
       "    </tr>\n",
       "    <tr>\n",
       "      <th>17</th>\n",
       "      <td>23459</td>\n",
       "      <td>23459</td>\n",
       "    </tr>\n",
       "    <tr>\n",
       "      <th>18</th>\n",
       "      <td>23459</td>\n",
       "      <td>23459</td>\n",
       "    </tr>\n",
       "    <tr>\n",
       "      <th>19</th>\n",
       "      <td>23459</td>\n",
       "      <td>23459</td>\n",
       "    </tr>\n",
       "    <tr>\n",
       "      <th>20</th>\n",
       "      <td>23459</td>\n",
       "      <td>23459</td>\n",
       "    </tr>\n",
       "    <tr>\n",
       "      <th>21</th>\n",
       "      <td>23459</td>\n",
       "      <td>23459</td>\n",
       "    </tr>\n",
       "    <tr>\n",
       "      <th>22</th>\n",
       "      <td>23459</td>\n",
       "      <td>23459</td>\n",
       "    </tr>\n",
       "    <tr>\n",
       "      <th>23</th>\n",
       "      <td>23459</td>\n",
       "      <td>23459</td>\n",
       "    </tr>\n",
       "    <tr>\n",
       "      <th>24</th>\n",
       "      <td>23459</td>\n",
       "      <td>23459</td>\n",
       "    </tr>\n",
       "    <tr>\n",
       "      <th>25</th>\n",
       "      <td>23459</td>\n",
       "      <td>23459</td>\n",
       "    </tr>\n",
       "    <tr>\n",
       "      <th>26</th>\n",
       "      <td>23459</td>\n",
       "      <td>23459</td>\n",
       "    </tr>\n",
       "    <tr>\n",
       "      <th>27</th>\n",
       "      <td>345</td>\n",
       "      <td>345</td>\n",
       "    </tr>\n",
       "    <tr>\n",
       "      <th>28</th>\n",
       "      <td>2349</td>\n",
       "      <td>2349</td>\n",
       "    </tr>\n",
       "    <tr>\n",
       "      <th>29</th>\n",
       "      <td>68</td>\n",
       "      <td>68</td>\n",
       "    </tr>\n",
       "    <tr>\n",
       "      <th>30</th>\n",
       "      <td>6345</td>\n",
       "      <td>6345</td>\n",
       "    </tr>\n",
       "    <tr>\n",
       "      <th>31</th>\n",
       "      <td>45</td>\n",
       "      <td>45</td>\n",
       "    </tr>\n",
       "  </tbody>\n",
       "</table>\n",
       "</div>"
      ],
      "text/plain": [
       "       x1     x1\n",
       "0   23459  23459\n",
       "1   23459  23459\n",
       "2   23459  23459\n",
       "3   23459  23459\n",
       "4   23459  23459\n",
       "5   23459  23459\n",
       "6   23459  23459\n",
       "7   23459  23459\n",
       "8   23459  23459\n",
       "9   23459  23459\n",
       "10  23459  23459\n",
       "11  23459  23459\n",
       "12  23459  23459\n",
       "13  23459  23459\n",
       "14  23459  23459\n",
       "15  23459  23459\n",
       "16  23459  23459\n",
       "17  23459  23459\n",
       "18  23459  23459\n",
       "19  23459  23459\n",
       "20  23459  23459\n",
       "21  23459  23459\n",
       "22  23459  23459\n",
       "23  23459  23459\n",
       "24  23459  23459\n",
       "25  23459  23459\n",
       "26  23459  23459\n",
       "27    345    345\n",
       "28   2349   2349\n",
       "29     68     68\n",
       "30   6345   6345\n",
       "31     45     45"
      ]
     },
     "execution_count": 63,
     "metadata": {},
     "output_type": "execute_result"
    }
   ],
   "source": [
    "pd.read_sql(\"select x1, x1 from test\", mydb)"
   ]
  },
  {
   "cell_type": "code",
   "execution_count": 64,
   "id": "2480208f",
   "metadata": {},
   "outputs": [
    {
     "data": {
      "text/html": [
       "<div>\n",
       "<style scoped>\n",
       "    .dataframe tbody tr th:only-of-type {\n",
       "        vertical-align: middle;\n",
       "    }\n",
       "\n",
       "    .dataframe tbody tr th {\n",
       "        vertical-align: top;\n",
       "    }\n",
       "\n",
       "    .dataframe thead th {\n",
       "        text-align: right;\n",
       "    }\n",
       "</style>\n",
       "<table border=\"1\" class=\"dataframe\">\n",
       "  <thead>\n",
       "    <tr style=\"text-align: right;\">\n",
       "      <th></th>\n",
       "      <th>x1</th>\n",
       "      <th>x1</th>\n",
       "      <th>x3</th>\n",
       "    </tr>\n",
       "  </thead>\n",
       "  <tbody>\n",
       "    <tr>\n",
       "      <th>0</th>\n",
       "      <td>23459</td>\n",
       "      <td>23459</td>\n",
       "      <td>2022-01-31</td>\n",
       "    </tr>\n",
       "    <tr>\n",
       "      <th>1</th>\n",
       "      <td>23459</td>\n",
       "      <td>23459</td>\n",
       "      <td>2022-01-31</td>\n",
       "    </tr>\n",
       "    <tr>\n",
       "      <th>2</th>\n",
       "      <td>23459</td>\n",
       "      <td>23459</td>\n",
       "      <td>2022-01-31</td>\n",
       "    </tr>\n",
       "    <tr>\n",
       "      <th>3</th>\n",
       "      <td>23459</td>\n",
       "      <td>23459</td>\n",
       "      <td>2022-01-31</td>\n",
       "    </tr>\n",
       "    <tr>\n",
       "      <th>4</th>\n",
       "      <td>23459</td>\n",
       "      <td>23459</td>\n",
       "      <td>2022-01-31</td>\n",
       "    </tr>\n",
       "    <tr>\n",
       "      <th>5</th>\n",
       "      <td>23459</td>\n",
       "      <td>23459</td>\n",
       "      <td>2022-01-31</td>\n",
       "    </tr>\n",
       "    <tr>\n",
       "      <th>6</th>\n",
       "      <td>23459</td>\n",
       "      <td>23459</td>\n",
       "      <td>2022-01-31</td>\n",
       "    </tr>\n",
       "    <tr>\n",
       "      <th>7</th>\n",
       "      <td>23459</td>\n",
       "      <td>23459</td>\n",
       "      <td>2022-01-31</td>\n",
       "    </tr>\n",
       "    <tr>\n",
       "      <th>8</th>\n",
       "      <td>23459</td>\n",
       "      <td>23459</td>\n",
       "      <td>2022-01-31</td>\n",
       "    </tr>\n",
       "    <tr>\n",
       "      <th>9</th>\n",
       "      <td>23459</td>\n",
       "      <td>23459</td>\n",
       "      <td>2022-01-31</td>\n",
       "    </tr>\n",
       "    <tr>\n",
       "      <th>10</th>\n",
       "      <td>23459</td>\n",
       "      <td>23459</td>\n",
       "      <td>2022-01-31</td>\n",
       "    </tr>\n",
       "    <tr>\n",
       "      <th>11</th>\n",
       "      <td>23459</td>\n",
       "      <td>23459</td>\n",
       "      <td>2022-01-31</td>\n",
       "    </tr>\n",
       "    <tr>\n",
       "      <th>12</th>\n",
       "      <td>23459</td>\n",
       "      <td>23459</td>\n",
       "      <td>2022-01-31</td>\n",
       "    </tr>\n",
       "    <tr>\n",
       "      <th>13</th>\n",
       "      <td>23459</td>\n",
       "      <td>23459</td>\n",
       "      <td>2022-01-31</td>\n",
       "    </tr>\n",
       "    <tr>\n",
       "      <th>14</th>\n",
       "      <td>23459</td>\n",
       "      <td>23459</td>\n",
       "      <td>2022-01-31</td>\n",
       "    </tr>\n",
       "    <tr>\n",
       "      <th>15</th>\n",
       "      <td>23459</td>\n",
       "      <td>23459</td>\n",
       "      <td>2022-01-31</td>\n",
       "    </tr>\n",
       "    <tr>\n",
       "      <th>16</th>\n",
       "      <td>23459</td>\n",
       "      <td>23459</td>\n",
       "      <td>2022-01-31</td>\n",
       "    </tr>\n",
       "    <tr>\n",
       "      <th>17</th>\n",
       "      <td>23459</td>\n",
       "      <td>23459</td>\n",
       "      <td>2022-01-31</td>\n",
       "    </tr>\n",
       "    <tr>\n",
       "      <th>18</th>\n",
       "      <td>23459</td>\n",
       "      <td>23459</td>\n",
       "      <td>2022-01-31</td>\n",
       "    </tr>\n",
       "    <tr>\n",
       "      <th>19</th>\n",
       "      <td>23459</td>\n",
       "      <td>23459</td>\n",
       "      <td>2022-01-31</td>\n",
       "    </tr>\n",
       "    <tr>\n",
       "      <th>20</th>\n",
       "      <td>23459</td>\n",
       "      <td>23459</td>\n",
       "      <td>2022-01-31</td>\n",
       "    </tr>\n",
       "    <tr>\n",
       "      <th>21</th>\n",
       "      <td>23459</td>\n",
       "      <td>23459</td>\n",
       "      <td>2022-01-31</td>\n",
       "    </tr>\n",
       "    <tr>\n",
       "      <th>22</th>\n",
       "      <td>23459</td>\n",
       "      <td>23459</td>\n",
       "      <td>2022-01-31</td>\n",
       "    </tr>\n",
       "    <tr>\n",
       "      <th>23</th>\n",
       "      <td>23459</td>\n",
       "      <td>23459</td>\n",
       "      <td>2022-01-31</td>\n",
       "    </tr>\n",
       "    <tr>\n",
       "      <th>24</th>\n",
       "      <td>23459</td>\n",
       "      <td>23459</td>\n",
       "      <td>2022-01-31</td>\n",
       "    </tr>\n",
       "    <tr>\n",
       "      <th>25</th>\n",
       "      <td>23459</td>\n",
       "      <td>23459</td>\n",
       "      <td>2022-01-31</td>\n",
       "    </tr>\n",
       "    <tr>\n",
       "      <th>26</th>\n",
       "      <td>23459</td>\n",
       "      <td>23459</td>\n",
       "      <td>2022-01-31</td>\n",
       "    </tr>\n",
       "    <tr>\n",
       "      <th>27</th>\n",
       "      <td>345</td>\n",
       "      <td>345</td>\n",
       "      <td>2022-01-31</td>\n",
       "    </tr>\n",
       "    <tr>\n",
       "      <th>28</th>\n",
       "      <td>2349</td>\n",
       "      <td>2349</td>\n",
       "      <td>2022-01-31</td>\n",
       "    </tr>\n",
       "    <tr>\n",
       "      <th>29</th>\n",
       "      <td>68</td>\n",
       "      <td>68</td>\n",
       "      <td>2022-01-31</td>\n",
       "    </tr>\n",
       "    <tr>\n",
       "      <th>30</th>\n",
       "      <td>6345</td>\n",
       "      <td>6345</td>\n",
       "      <td>2022-01-31</td>\n",
       "    </tr>\n",
       "    <tr>\n",
       "      <th>31</th>\n",
       "      <td>45</td>\n",
       "      <td>45</td>\n",
       "      <td>2022-01-31</td>\n",
       "    </tr>\n",
       "  </tbody>\n",
       "</table>\n",
       "</div>"
      ],
      "text/plain": [
       "       x1     x1          x3\n",
       "0   23459  23459  2022-01-31\n",
       "1   23459  23459  2022-01-31\n",
       "2   23459  23459  2022-01-31\n",
       "3   23459  23459  2022-01-31\n",
       "4   23459  23459  2022-01-31\n",
       "5   23459  23459  2022-01-31\n",
       "6   23459  23459  2022-01-31\n",
       "7   23459  23459  2022-01-31\n",
       "8   23459  23459  2022-01-31\n",
       "9   23459  23459  2022-01-31\n",
       "10  23459  23459  2022-01-31\n",
       "11  23459  23459  2022-01-31\n",
       "12  23459  23459  2022-01-31\n",
       "13  23459  23459  2022-01-31\n",
       "14  23459  23459  2022-01-31\n",
       "15  23459  23459  2022-01-31\n",
       "16  23459  23459  2022-01-31\n",
       "17  23459  23459  2022-01-31\n",
       "18  23459  23459  2022-01-31\n",
       "19  23459  23459  2022-01-31\n",
       "20  23459  23459  2022-01-31\n",
       "21  23459  23459  2022-01-31\n",
       "22  23459  23459  2022-01-31\n",
       "23  23459  23459  2022-01-31\n",
       "24  23459  23459  2022-01-31\n",
       "25  23459  23459  2022-01-31\n",
       "26  23459  23459  2022-01-31\n",
       "27    345    345  2022-01-31\n",
       "28   2349   2349  2022-01-31\n",
       "29     68     68  2022-01-31\n",
       "30   6345   6345  2022-01-31\n",
       "31     45     45  2022-01-31"
      ]
     },
     "execution_count": 64,
     "metadata": {},
     "output_type": "execute_result"
    }
   ],
   "source": [
    "pd.read_sql(\"select x1, x1, x3 from test\", mydb)"
   ]
  },
  {
   "cell_type": "code",
   "execution_count": 65,
   "id": "c07c04b8",
   "metadata": {},
   "outputs": [
    {
     "data": {
      "text/html": [
       "<div>\n",
       "<style scoped>\n",
       "    .dataframe tbody tr th:only-of-type {\n",
       "        vertical-align: middle;\n",
       "    }\n",
       "\n",
       "    .dataframe tbody tr th {\n",
       "        vertical-align: top;\n",
       "    }\n",
       "\n",
       "    .dataframe thead th {\n",
       "        text-align: right;\n",
       "    }\n",
       "</style>\n",
       "<table border=\"1\" class=\"dataframe\">\n",
       "  <thead>\n",
       "    <tr style=\"text-align: right;\">\n",
       "      <th></th>\n",
       "      <th>x3</th>\n",
       "      <th>x1</th>\n",
       "    </tr>\n",
       "  </thead>\n",
       "  <tbody>\n",
       "    <tr>\n",
       "      <th>0</th>\n",
       "      <td>2022-01-31</td>\n",
       "      <td>23459</td>\n",
       "    </tr>\n",
       "    <tr>\n",
       "      <th>1</th>\n",
       "      <td>2022-01-31</td>\n",
       "      <td>23459</td>\n",
       "    </tr>\n",
       "    <tr>\n",
       "      <th>2</th>\n",
       "      <td>2022-01-31</td>\n",
       "      <td>23459</td>\n",
       "    </tr>\n",
       "    <tr>\n",
       "      <th>3</th>\n",
       "      <td>2022-01-31</td>\n",
       "      <td>23459</td>\n",
       "    </tr>\n",
       "    <tr>\n",
       "      <th>4</th>\n",
       "      <td>2022-01-31</td>\n",
       "      <td>23459</td>\n",
       "    </tr>\n",
       "    <tr>\n",
       "      <th>5</th>\n",
       "      <td>2022-01-31</td>\n",
       "      <td>23459</td>\n",
       "    </tr>\n",
       "    <tr>\n",
       "      <th>6</th>\n",
       "      <td>2022-01-31</td>\n",
       "      <td>23459</td>\n",
       "    </tr>\n",
       "    <tr>\n",
       "      <th>7</th>\n",
       "      <td>2022-01-31</td>\n",
       "      <td>23459</td>\n",
       "    </tr>\n",
       "    <tr>\n",
       "      <th>8</th>\n",
       "      <td>2022-01-31</td>\n",
       "      <td>23459</td>\n",
       "    </tr>\n",
       "    <tr>\n",
       "      <th>9</th>\n",
       "      <td>2022-01-31</td>\n",
       "      <td>23459</td>\n",
       "    </tr>\n",
       "    <tr>\n",
       "      <th>10</th>\n",
       "      <td>2022-01-31</td>\n",
       "      <td>23459</td>\n",
       "    </tr>\n",
       "    <tr>\n",
       "      <th>11</th>\n",
       "      <td>2022-01-31</td>\n",
       "      <td>23459</td>\n",
       "    </tr>\n",
       "    <tr>\n",
       "      <th>12</th>\n",
       "      <td>2022-01-31</td>\n",
       "      <td>23459</td>\n",
       "    </tr>\n",
       "    <tr>\n",
       "      <th>13</th>\n",
       "      <td>2022-01-31</td>\n",
       "      <td>23459</td>\n",
       "    </tr>\n",
       "    <tr>\n",
       "      <th>14</th>\n",
       "      <td>2022-01-31</td>\n",
       "      <td>23459</td>\n",
       "    </tr>\n",
       "    <tr>\n",
       "      <th>15</th>\n",
       "      <td>2022-01-31</td>\n",
       "      <td>23459</td>\n",
       "    </tr>\n",
       "    <tr>\n",
       "      <th>16</th>\n",
       "      <td>2022-01-31</td>\n",
       "      <td>23459</td>\n",
       "    </tr>\n",
       "    <tr>\n",
       "      <th>17</th>\n",
       "      <td>2022-01-31</td>\n",
       "      <td>23459</td>\n",
       "    </tr>\n",
       "    <tr>\n",
       "      <th>18</th>\n",
       "      <td>2022-01-31</td>\n",
       "      <td>23459</td>\n",
       "    </tr>\n",
       "    <tr>\n",
       "      <th>19</th>\n",
       "      <td>2022-01-31</td>\n",
       "      <td>23459</td>\n",
       "    </tr>\n",
       "    <tr>\n",
       "      <th>20</th>\n",
       "      <td>2022-01-31</td>\n",
       "      <td>23459</td>\n",
       "    </tr>\n",
       "    <tr>\n",
       "      <th>21</th>\n",
       "      <td>2022-01-31</td>\n",
       "      <td>23459</td>\n",
       "    </tr>\n",
       "    <tr>\n",
       "      <th>22</th>\n",
       "      <td>2022-01-31</td>\n",
       "      <td>23459</td>\n",
       "    </tr>\n",
       "    <tr>\n",
       "      <th>23</th>\n",
       "      <td>2022-01-31</td>\n",
       "      <td>23459</td>\n",
       "    </tr>\n",
       "    <tr>\n",
       "      <th>24</th>\n",
       "      <td>2022-01-31</td>\n",
       "      <td>23459</td>\n",
       "    </tr>\n",
       "    <tr>\n",
       "      <th>25</th>\n",
       "      <td>2022-01-31</td>\n",
       "      <td>23459</td>\n",
       "    </tr>\n",
       "    <tr>\n",
       "      <th>26</th>\n",
       "      <td>2022-01-31</td>\n",
       "      <td>23459</td>\n",
       "    </tr>\n",
       "    <tr>\n",
       "      <th>27</th>\n",
       "      <td>2022-01-31</td>\n",
       "      <td>345</td>\n",
       "    </tr>\n",
       "    <tr>\n",
       "      <th>28</th>\n",
       "      <td>2022-01-31</td>\n",
       "      <td>2349</td>\n",
       "    </tr>\n",
       "    <tr>\n",
       "      <th>29</th>\n",
       "      <td>2022-01-31</td>\n",
       "      <td>68</td>\n",
       "    </tr>\n",
       "    <tr>\n",
       "      <th>30</th>\n",
       "      <td>2022-01-31</td>\n",
       "      <td>6345</td>\n",
       "    </tr>\n",
       "    <tr>\n",
       "      <th>31</th>\n",
       "      <td>2022-01-31</td>\n",
       "      <td>45</td>\n",
       "    </tr>\n",
       "  </tbody>\n",
       "</table>\n",
       "</div>"
      ],
      "text/plain": [
       "            x3     x1\n",
       "0   2022-01-31  23459\n",
       "1   2022-01-31  23459\n",
       "2   2022-01-31  23459\n",
       "3   2022-01-31  23459\n",
       "4   2022-01-31  23459\n",
       "5   2022-01-31  23459\n",
       "6   2022-01-31  23459\n",
       "7   2022-01-31  23459\n",
       "8   2022-01-31  23459\n",
       "9   2022-01-31  23459\n",
       "10  2022-01-31  23459\n",
       "11  2022-01-31  23459\n",
       "12  2022-01-31  23459\n",
       "13  2022-01-31  23459\n",
       "14  2022-01-31  23459\n",
       "15  2022-01-31  23459\n",
       "16  2022-01-31  23459\n",
       "17  2022-01-31  23459\n",
       "18  2022-01-31  23459\n",
       "19  2022-01-31  23459\n",
       "20  2022-01-31  23459\n",
       "21  2022-01-31  23459\n",
       "22  2022-01-31  23459\n",
       "23  2022-01-31  23459\n",
       "24  2022-01-31  23459\n",
       "25  2022-01-31  23459\n",
       "26  2022-01-31  23459\n",
       "27  2022-01-31    345\n",
       "28  2022-01-31   2349\n",
       "29  2022-01-31     68\n",
       "30  2022-01-31   6345\n",
       "31  2022-01-31     45"
      ]
     },
     "execution_count": 65,
     "metadata": {},
     "output_type": "execute_result"
    }
   ],
   "source": [
    "pd.read_sql(\"select x3, x1 from test\", mydb)"
   ]
  },
  {
   "cell_type": "code",
   "execution_count": 66,
   "id": "72ce0c9b",
   "metadata": {},
   "outputs": [],
   "source": [
    "a = pd.read_sql(\"select x3, x1 from test\", mydb)"
   ]
  },
  {
   "cell_type": "code",
   "execution_count": 67,
   "id": "9f9b4b0b",
   "metadata": {},
   "outputs": [
    {
     "data": {
      "text/html": [
       "<div>\n",
       "<style scoped>\n",
       "    .dataframe tbody tr th:only-of-type {\n",
       "        vertical-align: middle;\n",
       "    }\n",
       "\n",
       "    .dataframe tbody tr th {\n",
       "        vertical-align: top;\n",
       "    }\n",
       "\n",
       "    .dataframe thead th {\n",
       "        text-align: right;\n",
       "    }\n",
       "</style>\n",
       "<table border=\"1\" class=\"dataframe\">\n",
       "  <thead>\n",
       "    <tr style=\"text-align: right;\">\n",
       "      <th></th>\n",
       "      <th>x3</th>\n",
       "      <th>x1</th>\n",
       "    </tr>\n",
       "  </thead>\n",
       "  <tbody>\n",
       "    <tr>\n",
       "      <th>0</th>\n",
       "      <td>2022-01-31</td>\n",
       "      <td>23459</td>\n",
       "    </tr>\n",
       "    <tr>\n",
       "      <th>1</th>\n",
       "      <td>2022-01-31</td>\n",
       "      <td>23459</td>\n",
       "    </tr>\n",
       "    <tr>\n",
       "      <th>2</th>\n",
       "      <td>2022-01-31</td>\n",
       "      <td>23459</td>\n",
       "    </tr>\n",
       "    <tr>\n",
       "      <th>3</th>\n",
       "      <td>2022-01-31</td>\n",
       "      <td>23459</td>\n",
       "    </tr>\n",
       "    <tr>\n",
       "      <th>4</th>\n",
       "      <td>2022-01-31</td>\n",
       "      <td>23459</td>\n",
       "    </tr>\n",
       "    <tr>\n",
       "      <th>5</th>\n",
       "      <td>2022-01-31</td>\n",
       "      <td>23459</td>\n",
       "    </tr>\n",
       "    <tr>\n",
       "      <th>6</th>\n",
       "      <td>2022-01-31</td>\n",
       "      <td>23459</td>\n",
       "    </tr>\n",
       "    <tr>\n",
       "      <th>7</th>\n",
       "      <td>2022-01-31</td>\n",
       "      <td>23459</td>\n",
       "    </tr>\n",
       "    <tr>\n",
       "      <th>8</th>\n",
       "      <td>2022-01-31</td>\n",
       "      <td>23459</td>\n",
       "    </tr>\n",
       "    <tr>\n",
       "      <th>9</th>\n",
       "      <td>2022-01-31</td>\n",
       "      <td>23459</td>\n",
       "    </tr>\n",
       "    <tr>\n",
       "      <th>10</th>\n",
       "      <td>2022-01-31</td>\n",
       "      <td>23459</td>\n",
       "    </tr>\n",
       "    <tr>\n",
       "      <th>11</th>\n",
       "      <td>2022-01-31</td>\n",
       "      <td>23459</td>\n",
       "    </tr>\n",
       "    <tr>\n",
       "      <th>12</th>\n",
       "      <td>2022-01-31</td>\n",
       "      <td>23459</td>\n",
       "    </tr>\n",
       "    <tr>\n",
       "      <th>13</th>\n",
       "      <td>2022-01-31</td>\n",
       "      <td>23459</td>\n",
       "    </tr>\n",
       "    <tr>\n",
       "      <th>14</th>\n",
       "      <td>2022-01-31</td>\n",
       "      <td>23459</td>\n",
       "    </tr>\n",
       "    <tr>\n",
       "      <th>15</th>\n",
       "      <td>2022-01-31</td>\n",
       "      <td>23459</td>\n",
       "    </tr>\n",
       "    <tr>\n",
       "      <th>16</th>\n",
       "      <td>2022-01-31</td>\n",
       "      <td>23459</td>\n",
       "    </tr>\n",
       "    <tr>\n",
       "      <th>17</th>\n",
       "      <td>2022-01-31</td>\n",
       "      <td>23459</td>\n",
       "    </tr>\n",
       "    <tr>\n",
       "      <th>18</th>\n",
       "      <td>2022-01-31</td>\n",
       "      <td>23459</td>\n",
       "    </tr>\n",
       "    <tr>\n",
       "      <th>19</th>\n",
       "      <td>2022-01-31</td>\n",
       "      <td>23459</td>\n",
       "    </tr>\n",
       "    <tr>\n",
       "      <th>20</th>\n",
       "      <td>2022-01-31</td>\n",
       "      <td>23459</td>\n",
       "    </tr>\n",
       "    <tr>\n",
       "      <th>21</th>\n",
       "      <td>2022-01-31</td>\n",
       "      <td>23459</td>\n",
       "    </tr>\n",
       "    <tr>\n",
       "      <th>22</th>\n",
       "      <td>2022-01-31</td>\n",
       "      <td>23459</td>\n",
       "    </tr>\n",
       "    <tr>\n",
       "      <th>23</th>\n",
       "      <td>2022-01-31</td>\n",
       "      <td>23459</td>\n",
       "    </tr>\n",
       "    <tr>\n",
       "      <th>24</th>\n",
       "      <td>2022-01-31</td>\n",
       "      <td>23459</td>\n",
       "    </tr>\n",
       "    <tr>\n",
       "      <th>25</th>\n",
       "      <td>2022-01-31</td>\n",
       "      <td>23459</td>\n",
       "    </tr>\n",
       "    <tr>\n",
       "      <th>26</th>\n",
       "      <td>2022-01-31</td>\n",
       "      <td>23459</td>\n",
       "    </tr>\n",
       "    <tr>\n",
       "      <th>27</th>\n",
       "      <td>2022-01-31</td>\n",
       "      <td>345</td>\n",
       "    </tr>\n",
       "    <tr>\n",
       "      <th>28</th>\n",
       "      <td>2022-01-31</td>\n",
       "      <td>2349</td>\n",
       "    </tr>\n",
       "    <tr>\n",
       "      <th>29</th>\n",
       "      <td>2022-01-31</td>\n",
       "      <td>68</td>\n",
       "    </tr>\n",
       "    <tr>\n",
       "      <th>30</th>\n",
       "      <td>2022-01-31</td>\n",
       "      <td>6345</td>\n",
       "    </tr>\n",
       "    <tr>\n",
       "      <th>31</th>\n",
       "      <td>2022-01-31</td>\n",
       "      <td>45</td>\n",
       "    </tr>\n",
       "  </tbody>\n",
       "</table>\n",
       "</div>"
      ],
      "text/plain": [
       "            x3     x1\n",
       "0   2022-01-31  23459\n",
       "1   2022-01-31  23459\n",
       "2   2022-01-31  23459\n",
       "3   2022-01-31  23459\n",
       "4   2022-01-31  23459\n",
       "5   2022-01-31  23459\n",
       "6   2022-01-31  23459\n",
       "7   2022-01-31  23459\n",
       "8   2022-01-31  23459\n",
       "9   2022-01-31  23459\n",
       "10  2022-01-31  23459\n",
       "11  2022-01-31  23459\n",
       "12  2022-01-31  23459\n",
       "13  2022-01-31  23459\n",
       "14  2022-01-31  23459\n",
       "15  2022-01-31  23459\n",
       "16  2022-01-31  23459\n",
       "17  2022-01-31  23459\n",
       "18  2022-01-31  23459\n",
       "19  2022-01-31  23459\n",
       "20  2022-01-31  23459\n",
       "21  2022-01-31  23459\n",
       "22  2022-01-31  23459\n",
       "23  2022-01-31  23459\n",
       "24  2022-01-31  23459\n",
       "25  2022-01-31  23459\n",
       "26  2022-01-31  23459\n",
       "27  2022-01-31    345\n",
       "28  2022-01-31   2349\n",
       "29  2022-01-31     68\n",
       "30  2022-01-31   6345\n",
       "31  2022-01-31     45"
      ]
     },
     "execution_count": 67,
     "metadata": {},
     "output_type": "execute_result"
    }
   ],
   "source": [
    "a"
   ]
  },
  {
   "cell_type": "code",
   "execution_count": 68,
   "id": "74b41408",
   "metadata": {},
   "outputs": [
    {
     "data": {
      "text/plain": [
       "<bound method NDFrame.to_sql of             x3     x1\n",
       "0   2022-01-31  23459\n",
       "1   2022-01-31  23459\n",
       "2   2022-01-31  23459\n",
       "3   2022-01-31  23459\n",
       "4   2022-01-31  23459\n",
       "5   2022-01-31  23459\n",
       "6   2022-01-31  23459\n",
       "7   2022-01-31  23459\n",
       "8   2022-01-31  23459\n",
       "9   2022-01-31  23459\n",
       "10  2022-01-31  23459\n",
       "11  2022-01-31  23459\n",
       "12  2022-01-31  23459\n",
       "13  2022-01-31  23459\n",
       "14  2022-01-31  23459\n",
       "15  2022-01-31  23459\n",
       "16  2022-01-31  23459\n",
       "17  2022-01-31  23459\n",
       "18  2022-01-31  23459\n",
       "19  2022-01-31  23459\n",
       "20  2022-01-31  23459\n",
       "21  2022-01-31  23459\n",
       "22  2022-01-31  23459\n",
       "23  2022-01-31  23459\n",
       "24  2022-01-31  23459\n",
       "25  2022-01-31  23459\n",
       "26  2022-01-31  23459\n",
       "27  2022-01-31    345\n",
       "28  2022-01-31   2349\n",
       "29  2022-01-31     68\n",
       "30  2022-01-31   6345\n",
       "31  2022-01-31     45>"
      ]
     },
     "execution_count": 68,
     "metadata": {},
     "output_type": "execute_result"
    }
   ],
   "source": [
    "a.to_sql"
   ]
  },
  {
   "cell_type": "code",
   "execution_count": 69,
   "id": "2d295386",
   "metadata": {},
   "outputs": [
    {
     "data": {
      "text/plain": [
       "<bound method DataFrame.to_html of             x3     x1\n",
       "0   2022-01-31  23459\n",
       "1   2022-01-31  23459\n",
       "2   2022-01-31  23459\n",
       "3   2022-01-31  23459\n",
       "4   2022-01-31  23459\n",
       "5   2022-01-31  23459\n",
       "6   2022-01-31  23459\n",
       "7   2022-01-31  23459\n",
       "8   2022-01-31  23459\n",
       "9   2022-01-31  23459\n",
       "10  2022-01-31  23459\n",
       "11  2022-01-31  23459\n",
       "12  2022-01-31  23459\n",
       "13  2022-01-31  23459\n",
       "14  2022-01-31  23459\n",
       "15  2022-01-31  23459\n",
       "16  2022-01-31  23459\n",
       "17  2022-01-31  23459\n",
       "18  2022-01-31  23459\n",
       "19  2022-01-31  23459\n",
       "20  2022-01-31  23459\n",
       "21  2022-01-31  23459\n",
       "22  2022-01-31  23459\n",
       "23  2022-01-31  23459\n",
       "24  2022-01-31  23459\n",
       "25  2022-01-31  23459\n",
       "26  2022-01-31  23459\n",
       "27  2022-01-31    345\n",
       "28  2022-01-31   2349\n",
       "29  2022-01-31     68\n",
       "30  2022-01-31   6345\n",
       "31  2022-01-31     45>"
      ]
     },
     "execution_count": 69,
     "metadata": {},
     "output_type": "execute_result"
    }
   ],
   "source": [
    "a.to_html"
   ]
  },
  {
   "cell_type": "code",
   "execution_count": 70,
   "id": "e4db65ea",
   "metadata": {},
   "outputs": [],
   "source": [
    "a.to_csv(\"mydata.csv\")"
   ]
  },
  {
   "cell_type": "code",
   "execution_count": 71,
   "id": "ba4ccc7c",
   "metadata": {},
   "outputs": [
    {
     "data": {
      "text/plain": [
       "<mysql.connector.connection.MySQLConnection at 0x2aad264f400>"
      ]
     },
     "execution_count": 71,
     "metadata": {},
     "output_type": "execute_result"
    }
   ],
   "source": [
    "mydb"
   ]
  },
  {
   "cell_type": "code",
   "execution_count": 72,
   "id": "de1d6be8",
   "metadata": {},
   "outputs": [],
   "source": [
    "cur = mydb.cursor()\n",
    "\n",
    "cur.execute(\"create table mydata(n1 int(20), n2 varchar(20), n3 date)\")"
   ]
  },
  {
   "cell_type": "code",
   "execution_count": 73,
   "id": "375412f6",
   "metadata": {},
   "outputs": [],
   "source": [
    "data_to_be_inserted = pd.read_csv(\"mydata.csv\")"
   ]
  },
  {
   "cell_type": "code",
   "execution_count": 74,
   "id": "26d76887",
   "metadata": {},
   "outputs": [
    {
     "name": "stderr",
     "output_type": "stream",
     "text": [
      "C:\\Users\\Utkarsh\\anaconda3\\lib\\site-packages\\pandas\\core\\generic.py:2872: UserWarning: The spaces in these column names will not be changed. In pandas versions < 0.14, spaces were converted to underscores.\n",
      "  sql.to_sql(\n"
     ]
    },
    {
     "ename": "DatabaseError",
     "evalue": "Execution failed on sql 'SELECT name FROM sqlite_master WHERE type='table' AND name=?;': Not all parameters were used in the SQL statement",
     "output_type": "error",
     "traceback": [
      "\u001b[1;31m---------------------------------------------------------------------------\u001b[0m",
      "\u001b[1;31mProgrammingError\u001b[0m                          Traceback (most recent call last)",
      "\u001b[1;32m~\\anaconda3\\lib\\site-packages\\pandas\\io\\sql.py\u001b[0m in \u001b[0;36mexecute\u001b[1;34m(self, *args, **kwargs)\u001b[0m\n\u001b[0;32m   2055\u001b[0m         \u001b[1;32mtry\u001b[0m\u001b[1;33m:\u001b[0m\u001b[1;33m\u001b[0m\u001b[1;33m\u001b[0m\u001b[0m\n\u001b[1;32m-> 2056\u001b[1;33m             \u001b[0mcur\u001b[0m\u001b[1;33m.\u001b[0m\u001b[0mexecute\u001b[0m\u001b[1;33m(\u001b[0m\u001b[1;33m*\u001b[0m\u001b[0margs\u001b[0m\u001b[1;33m,\u001b[0m \u001b[1;33m**\u001b[0m\u001b[0mkwargs\u001b[0m\u001b[1;33m)\u001b[0m\u001b[1;33m\u001b[0m\u001b[1;33m\u001b[0m\u001b[0m\n\u001b[0m\u001b[0;32m   2057\u001b[0m             \u001b[1;32mreturn\u001b[0m \u001b[0mcur\u001b[0m\u001b[1;33m\u001b[0m\u001b[1;33m\u001b[0m\u001b[0m\n",
      "\u001b[1;32m~\\anaconda3\\lib\\site-packages\\mysql\\connector\\cursor.py\u001b[0m in \u001b[0;36mexecute\u001b[1;34m(self, operation, params, multi)\u001b[0m\n\u001b[0;32m    558\u001b[0m                 \u001b[1;32mif\u001b[0m \u001b[0mpsub\u001b[0m\u001b[1;33m.\u001b[0m\u001b[0mremaining\u001b[0m \u001b[1;33m!=\u001b[0m \u001b[1;36m0\u001b[0m\u001b[1;33m:\u001b[0m\u001b[1;33m\u001b[0m\u001b[1;33m\u001b[0m\u001b[0m\n\u001b[1;32m--> 559\u001b[1;33m                     raise errors.ProgrammingError(\n\u001b[0m\u001b[0;32m    560\u001b[0m                         \"Not all parameters were used in the SQL statement\")\n",
      "\u001b[1;31mProgrammingError\u001b[0m: Not all parameters were used in the SQL statement",
      "\nThe above exception was the direct cause of the following exception:\n",
      "\u001b[1;31mDatabaseError\u001b[0m                             Traceback (most recent call last)",
      "\u001b[1;32m~\\AppData\\Local\\Temp/ipykernel_6944/1418331980.py\u001b[0m in \u001b[0;36m<module>\u001b[1;34m\u001b[0m\n\u001b[1;32m----> 1\u001b[1;33m \u001b[0mdata_to_be_inserted\u001b[0m\u001b[1;33m.\u001b[0m\u001b[0mto_sql\u001b[0m\u001b[1;33m(\u001b[0m\u001b[1;34m'mydata'\u001b[0m\u001b[1;33m,\u001b[0m \u001b[0mmydb\u001b[0m\u001b[1;33m)\u001b[0m\u001b[1;33m\u001b[0m\u001b[1;33m\u001b[0m\u001b[0m\n\u001b[0m",
      "\u001b[1;32m~\\anaconda3\\lib\\site-packages\\pandas\\core\\generic.py\u001b[0m in \u001b[0;36mto_sql\u001b[1;34m(self, name, con, schema, if_exists, index, index_label, chunksize, dtype, method)\u001b[0m\n\u001b[0;32m   2870\u001b[0m         \u001b[1;32mfrom\u001b[0m \u001b[0mpandas\u001b[0m\u001b[1;33m.\u001b[0m\u001b[0mio\u001b[0m \u001b[1;32mimport\u001b[0m \u001b[0msql\u001b[0m\u001b[1;33m\u001b[0m\u001b[1;33m\u001b[0m\u001b[0m\n\u001b[0;32m   2871\u001b[0m \u001b[1;33m\u001b[0m\u001b[0m\n\u001b[1;32m-> 2872\u001b[1;33m         sql.to_sql(\n\u001b[0m\u001b[0;32m   2873\u001b[0m             \u001b[0mself\u001b[0m\u001b[1;33m,\u001b[0m\u001b[1;33m\u001b[0m\u001b[1;33m\u001b[0m\u001b[0m\n\u001b[0;32m   2874\u001b[0m             \u001b[0mname\u001b[0m\u001b[1;33m,\u001b[0m\u001b[1;33m\u001b[0m\u001b[1;33m\u001b[0m\u001b[0m\n",
      "\u001b[1;32m~\\anaconda3\\lib\\site-packages\\pandas\\io\\sql.py\u001b[0m in \u001b[0;36mto_sql\u001b[1;34m(frame, name, con, schema, if_exists, index, index_label, chunksize, dtype, method, engine, **engine_kwargs)\u001b[0m\n\u001b[0;32m    715\u001b[0m         )\n\u001b[0;32m    716\u001b[0m \u001b[1;33m\u001b[0m\u001b[0m\n\u001b[1;32m--> 717\u001b[1;33m     pandas_sql.to_sql(\n\u001b[0m\u001b[0;32m    718\u001b[0m         \u001b[0mframe\u001b[0m\u001b[1;33m,\u001b[0m\u001b[1;33m\u001b[0m\u001b[1;33m\u001b[0m\u001b[0m\n\u001b[0;32m    719\u001b[0m         \u001b[0mname\u001b[0m\u001b[1;33m,\u001b[0m\u001b[1;33m\u001b[0m\u001b[1;33m\u001b[0m\u001b[0m\n",
      "\u001b[1;32m~\\anaconda3\\lib\\site-packages\\pandas\\io\\sql.py\u001b[0m in \u001b[0;36mto_sql\u001b[1;34m(self, frame, name, if_exists, index, index_label, schema, chunksize, dtype, method, **kwargs)\u001b[0m\n\u001b[0;32m   2223\u001b[0m             \u001b[0mdtype\u001b[0m\u001b[1;33m=\u001b[0m\u001b[0mdtype\u001b[0m\u001b[1;33m,\u001b[0m\u001b[1;33m\u001b[0m\u001b[1;33m\u001b[0m\u001b[0m\n\u001b[0;32m   2224\u001b[0m         )\n\u001b[1;32m-> 2225\u001b[1;33m         \u001b[0mtable\u001b[0m\u001b[1;33m.\u001b[0m\u001b[0mcreate\u001b[0m\u001b[1;33m(\u001b[0m\u001b[1;33m)\u001b[0m\u001b[1;33m\u001b[0m\u001b[1;33m\u001b[0m\u001b[0m\n\u001b[0m\u001b[0;32m   2226\u001b[0m         \u001b[0mtable\u001b[0m\u001b[1;33m.\u001b[0m\u001b[0minsert\u001b[0m\u001b[1;33m(\u001b[0m\u001b[0mchunksize\u001b[0m\u001b[1;33m,\u001b[0m \u001b[0mmethod\u001b[0m\u001b[1;33m)\u001b[0m\u001b[1;33m\u001b[0m\u001b[1;33m\u001b[0m\u001b[0m\n\u001b[0;32m   2227\u001b[0m \u001b[1;33m\u001b[0m\u001b[0m\n",
      "\u001b[1;32m~\\anaconda3\\lib\\site-packages\\pandas\\io\\sql.py\u001b[0m in \u001b[0;36mcreate\u001b[1;34m(self)\u001b[0m\n\u001b[0;32m    854\u001b[0m \u001b[1;33m\u001b[0m\u001b[0m\n\u001b[0;32m    855\u001b[0m     \u001b[1;32mdef\u001b[0m \u001b[0mcreate\u001b[0m\u001b[1;33m(\u001b[0m\u001b[0mself\u001b[0m\u001b[1;33m)\u001b[0m\u001b[1;33m:\u001b[0m\u001b[1;33m\u001b[0m\u001b[1;33m\u001b[0m\u001b[0m\n\u001b[1;32m--> 856\u001b[1;33m         \u001b[1;32mif\u001b[0m \u001b[0mself\u001b[0m\u001b[1;33m.\u001b[0m\u001b[0mexists\u001b[0m\u001b[1;33m(\u001b[0m\u001b[1;33m)\u001b[0m\u001b[1;33m:\u001b[0m\u001b[1;33m\u001b[0m\u001b[1;33m\u001b[0m\u001b[0m\n\u001b[0m\u001b[0;32m    857\u001b[0m             \u001b[1;32mif\u001b[0m \u001b[0mself\u001b[0m\u001b[1;33m.\u001b[0m\u001b[0mif_exists\u001b[0m \u001b[1;33m==\u001b[0m \u001b[1;34m\"fail\"\u001b[0m\u001b[1;33m:\u001b[0m\u001b[1;33m\u001b[0m\u001b[1;33m\u001b[0m\u001b[0m\n\u001b[0;32m    858\u001b[0m                 \u001b[1;32mraise\u001b[0m \u001b[0mValueError\u001b[0m\u001b[1;33m(\u001b[0m\u001b[1;34mf\"Table '{self.name}' already exists.\"\u001b[0m\u001b[1;33m)\u001b[0m\u001b[1;33m\u001b[0m\u001b[1;33m\u001b[0m\u001b[0m\n",
      "\u001b[1;32m~\\anaconda3\\lib\\site-packages\\pandas\\io\\sql.py\u001b[0m in \u001b[0;36mexists\u001b[1;34m(self)\u001b[0m\n\u001b[0;32m    838\u001b[0m \u001b[1;33m\u001b[0m\u001b[0m\n\u001b[0;32m    839\u001b[0m     \u001b[1;32mdef\u001b[0m \u001b[0mexists\u001b[0m\u001b[1;33m(\u001b[0m\u001b[0mself\u001b[0m\u001b[1;33m)\u001b[0m\u001b[1;33m:\u001b[0m\u001b[1;33m\u001b[0m\u001b[1;33m\u001b[0m\u001b[0m\n\u001b[1;32m--> 840\u001b[1;33m         \u001b[1;32mreturn\u001b[0m \u001b[0mself\u001b[0m\u001b[1;33m.\u001b[0m\u001b[0mpd_sql\u001b[0m\u001b[1;33m.\u001b[0m\u001b[0mhas_table\u001b[0m\u001b[1;33m(\u001b[0m\u001b[0mself\u001b[0m\u001b[1;33m.\u001b[0m\u001b[0mname\u001b[0m\u001b[1;33m,\u001b[0m \u001b[0mself\u001b[0m\u001b[1;33m.\u001b[0m\u001b[0mschema\u001b[0m\u001b[1;33m)\u001b[0m\u001b[1;33m\u001b[0m\u001b[1;33m\u001b[0m\u001b[0m\n\u001b[0m\u001b[0;32m    841\u001b[0m \u001b[1;33m\u001b[0m\u001b[0m\n\u001b[0;32m    842\u001b[0m     \u001b[1;32mdef\u001b[0m \u001b[0msql_schema\u001b[0m\u001b[1;33m(\u001b[0m\u001b[0mself\u001b[0m\u001b[1;33m)\u001b[0m\u001b[1;33m:\u001b[0m\u001b[1;33m\u001b[0m\u001b[1;33m\u001b[0m\u001b[0m\n",
      "\u001b[1;32m~\\anaconda3\\lib\\site-packages\\pandas\\io\\sql.py\u001b[0m in \u001b[0;36mhas_table\u001b[1;34m(self, name, schema)\u001b[0m\n\u001b[0;32m   2234\u001b[0m         \u001b[0mquery\u001b[0m \u001b[1;33m=\u001b[0m \u001b[1;34mf\"SELECT name FROM sqlite_master WHERE type='table' AND name={wld};\"\u001b[0m\u001b[1;33m\u001b[0m\u001b[1;33m\u001b[0m\u001b[0m\n\u001b[0;32m   2235\u001b[0m \u001b[1;33m\u001b[0m\u001b[0m\n\u001b[1;32m-> 2236\u001b[1;33m         \u001b[1;32mreturn\u001b[0m \u001b[0mlen\u001b[0m\u001b[1;33m(\u001b[0m\u001b[0mself\u001b[0m\u001b[1;33m.\u001b[0m\u001b[0mexecute\u001b[0m\u001b[1;33m(\u001b[0m\u001b[0mquery\u001b[0m\u001b[1;33m,\u001b[0m \u001b[1;33m[\u001b[0m\u001b[0mname\u001b[0m\u001b[1;33m]\u001b[0m\u001b[1;33m)\u001b[0m\u001b[1;33m.\u001b[0m\u001b[0mfetchall\u001b[0m\u001b[1;33m(\u001b[0m\u001b[1;33m)\u001b[0m\u001b[1;33m)\u001b[0m \u001b[1;33m>\u001b[0m \u001b[1;36m0\u001b[0m\u001b[1;33m\u001b[0m\u001b[1;33m\u001b[0m\u001b[0m\n\u001b[0m\u001b[0;32m   2237\u001b[0m \u001b[1;33m\u001b[0m\u001b[0m\n\u001b[0;32m   2238\u001b[0m     \u001b[1;32mdef\u001b[0m \u001b[0mget_table\u001b[0m\u001b[1;33m(\u001b[0m\u001b[0mself\u001b[0m\u001b[1;33m,\u001b[0m \u001b[0mtable_name\u001b[0m\u001b[1;33m:\u001b[0m \u001b[0mstr\u001b[0m\u001b[1;33m,\u001b[0m \u001b[0mschema\u001b[0m\u001b[1;33m:\u001b[0m \u001b[0mstr\u001b[0m \u001b[1;33m|\u001b[0m \u001b[1;32mNone\u001b[0m \u001b[1;33m=\u001b[0m \u001b[1;32mNone\u001b[0m\u001b[1;33m)\u001b[0m\u001b[1;33m:\u001b[0m\u001b[1;33m\u001b[0m\u001b[1;33m\u001b[0m\u001b[0m\n",
      "\u001b[1;32m~\\anaconda3\\lib\\site-packages\\pandas\\io\\sql.py\u001b[0m in \u001b[0;36mexecute\u001b[1;34m(self, *args, **kwargs)\u001b[0m\n\u001b[0;32m   2066\u001b[0m \u001b[1;33m\u001b[0m\u001b[0m\n\u001b[0;32m   2067\u001b[0m             \u001b[0mex\u001b[0m \u001b[1;33m=\u001b[0m \u001b[0mDatabaseError\u001b[0m\u001b[1;33m(\u001b[0m\u001b[1;34mf\"Execution failed on sql '{args[0]}': {exc}\"\u001b[0m\u001b[1;33m)\u001b[0m\u001b[1;33m\u001b[0m\u001b[1;33m\u001b[0m\u001b[0m\n\u001b[1;32m-> 2068\u001b[1;33m             \u001b[1;32mraise\u001b[0m \u001b[0mex\u001b[0m \u001b[1;32mfrom\u001b[0m \u001b[0mexc\u001b[0m\u001b[1;33m\u001b[0m\u001b[1;33m\u001b[0m\u001b[0m\n\u001b[0m\u001b[0;32m   2069\u001b[0m \u001b[1;33m\u001b[0m\u001b[0m\n\u001b[0;32m   2070\u001b[0m     \u001b[1;33m@\u001b[0m\u001b[0mstaticmethod\u001b[0m\u001b[1;33m\u001b[0m\u001b[1;33m\u001b[0m\u001b[0m\n",
      "\u001b[1;31mDatabaseError\u001b[0m: Execution failed on sql 'SELECT name FROM sqlite_master WHERE type='table' AND name=?;': Not all parameters were used in the SQL statement"
     ]
    }
   ],
   "source": [
    "data_to_be_inserted.to_sql('mydata', mydb)"
   ]
  },
  {
   "cell_type": "code",
   "execution_count": 81,
   "id": "59d55551",
   "metadata": {},
   "outputs": [],
   "source": [
    "data1 = pd.read_sql(\"select * from test\", mydb)"
   ]
  },
  {
   "cell_type": "code",
   "execution_count": 82,
   "id": "bb1ab74b",
   "metadata": {},
   "outputs": [
    {
     "data": {
      "text/plain": [
       "'<table border=\"1\" class=\"dataframe\">\\n  <thead>\\n    <tr style=\"text-align: right;\">\\n      <th></th>\\n      <th>x1</th>\\n      <th>x2</th>\\n      <th>x3</th>\\n    </tr>\\n  </thead>\\n  <tbody>\\n    <tr>\\n      <th>0</th>\\n      <td>23459</td>\\n      <td>xyz</td>\\n      <td>2022-01-31</td>\\n    </tr>\\n    <tr>\\n      <th>1</th>\\n      <td>23459</td>\\n      <td>xyz</td>\\n      <td>2022-01-31</td>\\n    </tr>\\n    <tr>\\n      <th>2</th>\\n      <td>23459</td>\\n      <td>xyz</td>\\n      <td>2022-01-31</td>\\n    </tr>\\n    <tr>\\n      <th>3</th>\\n      <td>23459</td>\\n      <td>xyz</td>\\n      <td>2022-01-31</td>\\n    </tr>\\n    <tr>\\n      <th>4</th>\\n      <td>23459</td>\\n      <td>xyz</td>\\n      <td>2022-01-31</td>\\n    </tr>\\n    <tr>\\n      <th>5</th>\\n      <td>23459</td>\\n      <td>xyz</td>\\n      <td>2022-01-31</td>\\n    </tr>\\n    <tr>\\n      <th>6</th>\\n      <td>23459</td>\\n      <td>xyz</td>\\n      <td>2022-01-31</td>\\n    </tr>\\n    <tr>\\n      <th>7</th>\\n      <td>23459</td>\\n      <td>xyz</td>\\n      <td>2022-01-31</td>\\n    </tr>\\n    <tr>\\n      <th>8</th>\\n      <td>23459</td>\\n      <td>xyz</td>\\n      <td>2022-01-31</td>\\n    </tr>\\n    <tr>\\n      <th>9</th>\\n      <td>23459</td>\\n      <td>xyz</td>\\n      <td>2022-01-31</td>\\n    </tr>\\n    <tr>\\n      <th>10</th>\\n      <td>23459</td>\\n      <td>xyz</td>\\n      <td>2022-01-31</td>\\n    </tr>\\n    <tr>\\n      <th>11</th>\\n      <td>23459</td>\\n      <td>xyz</td>\\n      <td>2022-01-31</td>\\n    </tr>\\n    <tr>\\n      <th>12</th>\\n      <td>23459</td>\\n      <td>xyz</td>\\n      <td>2022-01-31</td>\\n    </tr>\\n    <tr>\\n      <th>13</th>\\n      <td>23459</td>\\n      <td>xyz</td>\\n      <td>2022-01-31</td>\\n    </tr>\\n    <tr>\\n      <th>14</th>\\n      <td>23459</td>\\n      <td>xyz</td>\\n      <td>2022-01-31</td>\\n    </tr>\\n    <tr>\\n      <th>15</th>\\n      <td>23459</td>\\n      <td>xyz</td>\\n      <td>2022-01-31</td>\\n    </tr>\\n    <tr>\\n      <th>16</th>\\n      <td>23459</td>\\n      <td>xyz</td>\\n      <td>2022-01-31</td>\\n    </tr>\\n    <tr>\\n      <th>17</th>\\n      <td>23459</td>\\n      <td>xyz</td>\\n      <td>2022-01-31</td>\\n    </tr>\\n    <tr>\\n      <th>18</th>\\n      <td>23459</td>\\n      <td>xyz</td>\\n      <td>2022-01-31</td>\\n    </tr>\\n    <tr>\\n      <th>19</th>\\n      <td>23459</td>\\n      <td>xyz</td>\\n      <td>2022-01-31</td>\\n    </tr>\\n    <tr>\\n      <th>20</th>\\n      <td>23459</td>\\n      <td>xyz</td>\\n      <td>2022-01-31</td>\\n    </tr>\\n    <tr>\\n      <th>21</th>\\n      <td>23459</td>\\n      <td>xyz</td>\\n      <td>2022-01-31</td>\\n    </tr>\\n    <tr>\\n      <th>22</th>\\n      <td>23459</td>\\n      <td>xyz</td>\\n      <td>2022-01-31</td>\\n    </tr>\\n    <tr>\\n      <th>23</th>\\n      <td>23459</td>\\n      <td>xyz</td>\\n      <td>2022-01-31</td>\\n    </tr>\\n    <tr>\\n      <th>24</th>\\n      <td>23459</td>\\n      <td>xyz</td>\\n      <td>2022-01-31</td>\\n    </tr>\\n    <tr>\\n      <th>25</th>\\n      <td>23459</td>\\n      <td>xyz</td>\\n      <td>2022-01-31</td>\\n    </tr>\\n    <tr>\\n      <th>26</th>\\n      <td>23459</td>\\n      <td>xyz</td>\\n      <td>2022-01-31</td>\\n    </tr>\\n    <tr>\\n      <th>27</th>\\n      <td>345</td>\\n      <td>sdf</td>\\n      <td>2022-01-31</td>\\n    </tr>\\n    <tr>\\n      <th>28</th>\\n      <td>2349</td>\\n      <td>sdsf</td>\\n      <td>2022-01-31</td>\\n    </tr>\\n    <tr>\\n      <th>29</th>\\n      <td>68</td>\\n      <td>sdf</td>\\n      <td>2022-01-31</td>\\n    </tr>\\n    <tr>\\n      <th>30</th>\\n      <td>6345</td>\\n      <td>ui</td>\\n      <td>2022-01-31</td>\\n    </tr>\\n    <tr>\\n      <th>31</th>\\n      <td>45</td>\\n      <td>ghhj</td>\\n      <td>2022-01-31</td>\\n    </tr>\\n  </tbody>\\n</table>'"
      ]
     },
     "execution_count": 82,
     "metadata": {},
     "output_type": "execute_result"
    }
   ],
   "source": [
    "data1.to_html()"
   ]
  },
  {
   "cell_type": "code",
   "execution_count": 85,
   "id": "0203d0db",
   "metadata": {},
   "outputs": [],
   "source": [
    "data1.to_csv(\"mydata1.csv\")"
   ]
  },
  {
   "cell_type": "code",
   "execution_count": 86,
   "id": "5b54dcb0",
   "metadata": {},
   "outputs": [
    {
     "ename": "ProgrammingError",
     "evalue": "1050 (42S01): Table 'mydata1' already exists",
     "output_type": "error",
     "traceback": [
      "\u001b[1;31m---------------------------------------------------------------------------\u001b[0m",
      "\u001b[1;31mProgrammingError\u001b[0m                          Traceback (most recent call last)",
      "\u001b[1;32m~\\AppData\\Local\\Temp/ipykernel_6944/2290453364.py\u001b[0m in \u001b[0;36m<module>\u001b[1;34m\u001b[0m\n\u001b[0;32m      1\u001b[0m \u001b[0mcur\u001b[0m \u001b[1;33m=\u001b[0m \u001b[0mmydb\u001b[0m\u001b[1;33m.\u001b[0m\u001b[0mcursor\u001b[0m\u001b[1;33m(\u001b[0m\u001b[1;33m)\u001b[0m\u001b[1;33m\u001b[0m\u001b[1;33m\u001b[0m\u001b[0m\n\u001b[0;32m      2\u001b[0m \u001b[1;33m\u001b[0m\u001b[0m\n\u001b[1;32m----> 3\u001b[1;33m \u001b[0mcur\u001b[0m\u001b[1;33m.\u001b[0m\u001b[0mexecute\u001b[0m\u001b[1;33m(\u001b[0m\u001b[1;34m\"create table mydata1(n1 int(20), n2 varchar(20), n3 date)\"\u001b[0m\u001b[1;33m)\u001b[0m\u001b[1;33m\u001b[0m\u001b[1;33m\u001b[0m\u001b[0m\n\u001b[0m",
      "\u001b[1;32m~\\anaconda3\\lib\\site-packages\\mysql\\connector\\cursor.py\u001b[0m in \u001b[0;36mexecute\u001b[1;34m(self, operation, params, multi)\u001b[0m\n\u001b[0;32m    570\u001b[0m \u001b[1;33m\u001b[0m\u001b[0m\n\u001b[0;32m    571\u001b[0m         \u001b[1;32mtry\u001b[0m\u001b[1;33m:\u001b[0m\u001b[1;33m\u001b[0m\u001b[1;33m\u001b[0m\u001b[0m\n\u001b[1;32m--> 572\u001b[1;33m             \u001b[0mself\u001b[0m\u001b[1;33m.\u001b[0m\u001b[0m_handle_result\u001b[0m\u001b[1;33m(\u001b[0m\u001b[0mself\u001b[0m\u001b[1;33m.\u001b[0m\u001b[0m_connection\u001b[0m\u001b[1;33m.\u001b[0m\u001b[0mcmd_query\u001b[0m\u001b[1;33m(\u001b[0m\u001b[0mstmt\u001b[0m\u001b[1;33m)\u001b[0m\u001b[1;33m)\u001b[0m\u001b[1;33m\u001b[0m\u001b[1;33m\u001b[0m\u001b[0m\n\u001b[0m\u001b[0;32m    573\u001b[0m         \u001b[1;32mexcept\u001b[0m \u001b[0merrors\u001b[0m\u001b[1;33m.\u001b[0m\u001b[0mInterfaceError\u001b[0m\u001b[1;33m:\u001b[0m\u001b[1;33m\u001b[0m\u001b[1;33m\u001b[0m\u001b[0m\n\u001b[0;32m    574\u001b[0m             \u001b[1;32mif\u001b[0m \u001b[0mself\u001b[0m\u001b[1;33m.\u001b[0m\u001b[0m_connection\u001b[0m\u001b[1;33m.\u001b[0m\u001b[0m_have_next_result\u001b[0m\u001b[1;33m:\u001b[0m  \u001b[1;31m# pylint: disable=W0212\u001b[0m\u001b[1;33m\u001b[0m\u001b[1;33m\u001b[0m\u001b[0m\n",
      "\u001b[1;32m~\\anaconda3\\lib\\site-packages\\mysql\\connector\\connection.py\u001b[0m in \u001b[0;36mcmd_query\u001b[1;34m(self, query, raw, buffered, raw_as_string)\u001b[0m\n\u001b[0;32m    918\u001b[0m         \u001b[0mquery\u001b[0m \u001b[1;33m=\u001b[0m \u001b[0mbytes\u001b[0m\u001b[1;33m(\u001b[0m\u001b[0mpacket\u001b[0m\u001b[1;33m)\u001b[0m\u001b[1;33m\u001b[0m\u001b[1;33m\u001b[0m\u001b[0m\n\u001b[0;32m    919\u001b[0m         \u001b[1;32mtry\u001b[0m\u001b[1;33m:\u001b[0m\u001b[1;33m\u001b[0m\u001b[1;33m\u001b[0m\u001b[0m\n\u001b[1;32m--> 920\u001b[1;33m             \u001b[0mresult\u001b[0m \u001b[1;33m=\u001b[0m \u001b[0mself\u001b[0m\u001b[1;33m.\u001b[0m\u001b[0m_handle_result\u001b[0m\u001b[1;33m(\u001b[0m\u001b[0mself\u001b[0m\u001b[1;33m.\u001b[0m\u001b[0m_send_cmd\u001b[0m\u001b[1;33m(\u001b[0m\u001b[0mServerCmd\u001b[0m\u001b[1;33m.\u001b[0m\u001b[0mQUERY\u001b[0m\u001b[1;33m,\u001b[0m \u001b[0mquery\u001b[0m\u001b[1;33m)\u001b[0m\u001b[1;33m)\u001b[0m\u001b[1;33m\u001b[0m\u001b[1;33m\u001b[0m\u001b[0m\n\u001b[0m\u001b[0;32m    921\u001b[0m         \u001b[1;32mexcept\u001b[0m \u001b[0merrors\u001b[0m\u001b[1;33m.\u001b[0m\u001b[0mProgrammingError\u001b[0m \u001b[1;32mas\u001b[0m \u001b[0merr\u001b[0m\u001b[1;33m:\u001b[0m\u001b[1;33m\u001b[0m\u001b[1;33m\u001b[0m\u001b[0m\n\u001b[0;32m    922\u001b[0m             \u001b[1;32mif\u001b[0m \u001b[0merr\u001b[0m\u001b[1;33m.\u001b[0m\u001b[0merrno\u001b[0m \u001b[1;33m==\u001b[0m \u001b[1;36m3948\u001b[0m \u001b[1;32mand\u001b[0m\u001b[0;31m \u001b[0m\u001b[0;31m\\\u001b[0m\u001b[1;33m\u001b[0m\u001b[1;33m\u001b[0m\u001b[0m\n",
      "\u001b[1;32m~\\anaconda3\\lib\\site-packages\\mysql\\connector\\connection.py\u001b[0m in \u001b[0;36m_handle_result\u001b[1;34m(self, packet)\u001b[0m\n\u001b[0;32m    728\u001b[0m             \u001b[1;32mreturn\u001b[0m \u001b[0mself\u001b[0m\u001b[1;33m.\u001b[0m\u001b[0m_handle_eof\u001b[0m\u001b[1;33m(\u001b[0m\u001b[0mpacket\u001b[0m\u001b[1;33m)\u001b[0m\u001b[1;33m\u001b[0m\u001b[1;33m\u001b[0m\u001b[0m\n\u001b[0;32m    729\u001b[0m         \u001b[1;32melif\u001b[0m \u001b[0mpacket\u001b[0m\u001b[1;33m[\u001b[0m\u001b[1;36m4\u001b[0m\u001b[1;33m]\u001b[0m \u001b[1;33m==\u001b[0m \u001b[1;36m255\u001b[0m\u001b[1;33m:\u001b[0m\u001b[1;33m\u001b[0m\u001b[1;33m\u001b[0m\u001b[0m\n\u001b[1;32m--> 730\u001b[1;33m             \u001b[1;32mraise\u001b[0m \u001b[0merrors\u001b[0m\u001b[1;33m.\u001b[0m\u001b[0mget_exception\u001b[0m\u001b[1;33m(\u001b[0m\u001b[0mpacket\u001b[0m\u001b[1;33m)\u001b[0m\u001b[1;33m\u001b[0m\u001b[1;33m\u001b[0m\u001b[0m\n\u001b[0m\u001b[0;32m    731\u001b[0m \u001b[1;33m\u001b[0m\u001b[0m\n\u001b[0;32m    732\u001b[0m         \u001b[1;31m# We have a text result set\u001b[0m\u001b[1;33m\u001b[0m\u001b[1;33m\u001b[0m\u001b[0m\n",
      "\u001b[1;31mProgrammingError\u001b[0m: 1050 (42S01): Table 'mydata1' already exists"
     ]
    }
   ],
   "source": [
    "cur = mydb.cursor()\n",
    "\n",
    "cur.execute(\"create table mydata1(n1 int(20), n2 varchar(20), n3 date)\")"
   ]
  },
  {
   "cell_type": "code",
   "execution_count": 79,
   "id": "60ab09c4",
   "metadata": {},
   "outputs": [],
   "source": [
    "data_to_be_dumped = pd.read_csv(\"mydata1.csv\")"
   ]
  },
  {
   "cell_type": "code",
   "execution_count": 80,
   "id": "694bc9eb",
   "metadata": {},
   "outputs": [
    {
     "ename": "DatabaseError",
     "evalue": "Execution failed on sql 'SELECT name FROM sqlite_master WHERE type='table' AND name=?;': Not all parameters were used in the SQL statement",
     "output_type": "error",
     "traceback": [
      "\u001b[1;31m---------------------------------------------------------------------------\u001b[0m",
      "\u001b[1;31mProgrammingError\u001b[0m                          Traceback (most recent call last)",
      "\u001b[1;32m~\\anaconda3\\lib\\site-packages\\pandas\\io\\sql.py\u001b[0m in \u001b[0;36mexecute\u001b[1;34m(self, *args, **kwargs)\u001b[0m\n\u001b[0;32m   2055\u001b[0m         \u001b[1;32mtry\u001b[0m\u001b[1;33m:\u001b[0m\u001b[1;33m\u001b[0m\u001b[1;33m\u001b[0m\u001b[0m\n\u001b[1;32m-> 2056\u001b[1;33m             \u001b[0mcur\u001b[0m\u001b[1;33m.\u001b[0m\u001b[0mexecute\u001b[0m\u001b[1;33m(\u001b[0m\u001b[1;33m*\u001b[0m\u001b[0margs\u001b[0m\u001b[1;33m,\u001b[0m \u001b[1;33m**\u001b[0m\u001b[0mkwargs\u001b[0m\u001b[1;33m)\u001b[0m\u001b[1;33m\u001b[0m\u001b[1;33m\u001b[0m\u001b[0m\n\u001b[0m\u001b[0;32m   2057\u001b[0m             \u001b[1;32mreturn\u001b[0m \u001b[0mcur\u001b[0m\u001b[1;33m\u001b[0m\u001b[1;33m\u001b[0m\u001b[0m\n",
      "\u001b[1;32m~\\anaconda3\\lib\\site-packages\\mysql\\connector\\cursor.py\u001b[0m in \u001b[0;36mexecute\u001b[1;34m(self, operation, params, multi)\u001b[0m\n\u001b[0;32m    558\u001b[0m                 \u001b[1;32mif\u001b[0m \u001b[0mpsub\u001b[0m\u001b[1;33m.\u001b[0m\u001b[0mremaining\u001b[0m \u001b[1;33m!=\u001b[0m \u001b[1;36m0\u001b[0m\u001b[1;33m:\u001b[0m\u001b[1;33m\u001b[0m\u001b[1;33m\u001b[0m\u001b[0m\n\u001b[1;32m--> 559\u001b[1;33m                     raise errors.ProgrammingError(\n\u001b[0m\u001b[0;32m    560\u001b[0m                         \"Not all parameters were used in the SQL statement\")\n",
      "\u001b[1;31mProgrammingError\u001b[0m: Not all parameters were used in the SQL statement",
      "\nThe above exception was the direct cause of the following exception:\n",
      "\u001b[1;31mDatabaseError\u001b[0m                             Traceback (most recent call last)",
      "\u001b[1;32m~\\AppData\\Local\\Temp/ipykernel_6944/3877489421.py\u001b[0m in \u001b[0;36m<module>\u001b[1;34m\u001b[0m\n\u001b[1;32m----> 1\u001b[1;33m \u001b[0mdata_to_be_dumped\u001b[0m\u001b[1;33m.\u001b[0m\u001b[0mto_sql\u001b[0m\u001b[1;33m(\u001b[0m\u001b[1;34m'mydata1'\u001b[0m\u001b[1;33m,\u001b[0m \u001b[0mmydb\u001b[0m\u001b[1;33m)\u001b[0m\u001b[1;33m\u001b[0m\u001b[1;33m\u001b[0m\u001b[0m\n\u001b[0m",
      "\u001b[1;32m~\\anaconda3\\lib\\site-packages\\pandas\\core\\generic.py\u001b[0m in \u001b[0;36mto_sql\u001b[1;34m(self, name, con, schema, if_exists, index, index_label, chunksize, dtype, method)\u001b[0m\n\u001b[0;32m   2870\u001b[0m         \u001b[1;32mfrom\u001b[0m \u001b[0mpandas\u001b[0m\u001b[1;33m.\u001b[0m\u001b[0mio\u001b[0m \u001b[1;32mimport\u001b[0m \u001b[0msql\u001b[0m\u001b[1;33m\u001b[0m\u001b[1;33m\u001b[0m\u001b[0m\n\u001b[0;32m   2871\u001b[0m \u001b[1;33m\u001b[0m\u001b[0m\n\u001b[1;32m-> 2872\u001b[1;33m         sql.to_sql(\n\u001b[0m\u001b[0;32m   2873\u001b[0m             \u001b[0mself\u001b[0m\u001b[1;33m,\u001b[0m\u001b[1;33m\u001b[0m\u001b[1;33m\u001b[0m\u001b[0m\n\u001b[0;32m   2874\u001b[0m             \u001b[0mname\u001b[0m\u001b[1;33m,\u001b[0m\u001b[1;33m\u001b[0m\u001b[1;33m\u001b[0m\u001b[0m\n",
      "\u001b[1;32m~\\anaconda3\\lib\\site-packages\\pandas\\io\\sql.py\u001b[0m in \u001b[0;36mto_sql\u001b[1;34m(frame, name, con, schema, if_exists, index, index_label, chunksize, dtype, method, engine, **engine_kwargs)\u001b[0m\n\u001b[0;32m    715\u001b[0m         )\n\u001b[0;32m    716\u001b[0m \u001b[1;33m\u001b[0m\u001b[0m\n\u001b[1;32m--> 717\u001b[1;33m     pandas_sql.to_sql(\n\u001b[0m\u001b[0;32m    718\u001b[0m         \u001b[0mframe\u001b[0m\u001b[1;33m,\u001b[0m\u001b[1;33m\u001b[0m\u001b[1;33m\u001b[0m\u001b[0m\n\u001b[0;32m    719\u001b[0m         \u001b[0mname\u001b[0m\u001b[1;33m,\u001b[0m\u001b[1;33m\u001b[0m\u001b[1;33m\u001b[0m\u001b[0m\n",
      "\u001b[1;32m~\\anaconda3\\lib\\site-packages\\pandas\\io\\sql.py\u001b[0m in \u001b[0;36mto_sql\u001b[1;34m(self, frame, name, if_exists, index, index_label, schema, chunksize, dtype, method, **kwargs)\u001b[0m\n\u001b[0;32m   2223\u001b[0m             \u001b[0mdtype\u001b[0m\u001b[1;33m=\u001b[0m\u001b[0mdtype\u001b[0m\u001b[1;33m,\u001b[0m\u001b[1;33m\u001b[0m\u001b[1;33m\u001b[0m\u001b[0m\n\u001b[0;32m   2224\u001b[0m         )\n\u001b[1;32m-> 2225\u001b[1;33m         \u001b[0mtable\u001b[0m\u001b[1;33m.\u001b[0m\u001b[0mcreate\u001b[0m\u001b[1;33m(\u001b[0m\u001b[1;33m)\u001b[0m\u001b[1;33m\u001b[0m\u001b[1;33m\u001b[0m\u001b[0m\n\u001b[0m\u001b[0;32m   2226\u001b[0m         \u001b[0mtable\u001b[0m\u001b[1;33m.\u001b[0m\u001b[0minsert\u001b[0m\u001b[1;33m(\u001b[0m\u001b[0mchunksize\u001b[0m\u001b[1;33m,\u001b[0m \u001b[0mmethod\u001b[0m\u001b[1;33m)\u001b[0m\u001b[1;33m\u001b[0m\u001b[1;33m\u001b[0m\u001b[0m\n\u001b[0;32m   2227\u001b[0m \u001b[1;33m\u001b[0m\u001b[0m\n",
      "\u001b[1;32m~\\anaconda3\\lib\\site-packages\\pandas\\io\\sql.py\u001b[0m in \u001b[0;36mcreate\u001b[1;34m(self)\u001b[0m\n\u001b[0;32m    854\u001b[0m \u001b[1;33m\u001b[0m\u001b[0m\n\u001b[0;32m    855\u001b[0m     \u001b[1;32mdef\u001b[0m \u001b[0mcreate\u001b[0m\u001b[1;33m(\u001b[0m\u001b[0mself\u001b[0m\u001b[1;33m)\u001b[0m\u001b[1;33m:\u001b[0m\u001b[1;33m\u001b[0m\u001b[1;33m\u001b[0m\u001b[0m\n\u001b[1;32m--> 856\u001b[1;33m         \u001b[1;32mif\u001b[0m \u001b[0mself\u001b[0m\u001b[1;33m.\u001b[0m\u001b[0mexists\u001b[0m\u001b[1;33m(\u001b[0m\u001b[1;33m)\u001b[0m\u001b[1;33m:\u001b[0m\u001b[1;33m\u001b[0m\u001b[1;33m\u001b[0m\u001b[0m\n\u001b[0m\u001b[0;32m    857\u001b[0m             \u001b[1;32mif\u001b[0m \u001b[0mself\u001b[0m\u001b[1;33m.\u001b[0m\u001b[0mif_exists\u001b[0m \u001b[1;33m==\u001b[0m \u001b[1;34m\"fail\"\u001b[0m\u001b[1;33m:\u001b[0m\u001b[1;33m\u001b[0m\u001b[1;33m\u001b[0m\u001b[0m\n\u001b[0;32m    858\u001b[0m                 \u001b[1;32mraise\u001b[0m \u001b[0mValueError\u001b[0m\u001b[1;33m(\u001b[0m\u001b[1;34mf\"Table '{self.name}' already exists.\"\u001b[0m\u001b[1;33m)\u001b[0m\u001b[1;33m\u001b[0m\u001b[1;33m\u001b[0m\u001b[0m\n",
      "\u001b[1;32m~\\anaconda3\\lib\\site-packages\\pandas\\io\\sql.py\u001b[0m in \u001b[0;36mexists\u001b[1;34m(self)\u001b[0m\n\u001b[0;32m    838\u001b[0m \u001b[1;33m\u001b[0m\u001b[0m\n\u001b[0;32m    839\u001b[0m     \u001b[1;32mdef\u001b[0m \u001b[0mexists\u001b[0m\u001b[1;33m(\u001b[0m\u001b[0mself\u001b[0m\u001b[1;33m)\u001b[0m\u001b[1;33m:\u001b[0m\u001b[1;33m\u001b[0m\u001b[1;33m\u001b[0m\u001b[0m\n\u001b[1;32m--> 840\u001b[1;33m         \u001b[1;32mreturn\u001b[0m \u001b[0mself\u001b[0m\u001b[1;33m.\u001b[0m\u001b[0mpd_sql\u001b[0m\u001b[1;33m.\u001b[0m\u001b[0mhas_table\u001b[0m\u001b[1;33m(\u001b[0m\u001b[0mself\u001b[0m\u001b[1;33m.\u001b[0m\u001b[0mname\u001b[0m\u001b[1;33m,\u001b[0m \u001b[0mself\u001b[0m\u001b[1;33m.\u001b[0m\u001b[0mschema\u001b[0m\u001b[1;33m)\u001b[0m\u001b[1;33m\u001b[0m\u001b[1;33m\u001b[0m\u001b[0m\n\u001b[0m\u001b[0;32m    841\u001b[0m \u001b[1;33m\u001b[0m\u001b[0m\n\u001b[0;32m    842\u001b[0m     \u001b[1;32mdef\u001b[0m \u001b[0msql_schema\u001b[0m\u001b[1;33m(\u001b[0m\u001b[0mself\u001b[0m\u001b[1;33m)\u001b[0m\u001b[1;33m:\u001b[0m\u001b[1;33m\u001b[0m\u001b[1;33m\u001b[0m\u001b[0m\n",
      "\u001b[1;32m~\\anaconda3\\lib\\site-packages\\pandas\\io\\sql.py\u001b[0m in \u001b[0;36mhas_table\u001b[1;34m(self, name, schema)\u001b[0m\n\u001b[0;32m   2234\u001b[0m         \u001b[0mquery\u001b[0m \u001b[1;33m=\u001b[0m \u001b[1;34mf\"SELECT name FROM sqlite_master WHERE type='table' AND name={wld};\"\u001b[0m\u001b[1;33m\u001b[0m\u001b[1;33m\u001b[0m\u001b[0m\n\u001b[0;32m   2235\u001b[0m \u001b[1;33m\u001b[0m\u001b[0m\n\u001b[1;32m-> 2236\u001b[1;33m         \u001b[1;32mreturn\u001b[0m \u001b[0mlen\u001b[0m\u001b[1;33m(\u001b[0m\u001b[0mself\u001b[0m\u001b[1;33m.\u001b[0m\u001b[0mexecute\u001b[0m\u001b[1;33m(\u001b[0m\u001b[0mquery\u001b[0m\u001b[1;33m,\u001b[0m \u001b[1;33m[\u001b[0m\u001b[0mname\u001b[0m\u001b[1;33m]\u001b[0m\u001b[1;33m)\u001b[0m\u001b[1;33m.\u001b[0m\u001b[0mfetchall\u001b[0m\u001b[1;33m(\u001b[0m\u001b[1;33m)\u001b[0m\u001b[1;33m)\u001b[0m \u001b[1;33m>\u001b[0m \u001b[1;36m0\u001b[0m\u001b[1;33m\u001b[0m\u001b[1;33m\u001b[0m\u001b[0m\n\u001b[0m\u001b[0;32m   2237\u001b[0m \u001b[1;33m\u001b[0m\u001b[0m\n\u001b[0;32m   2238\u001b[0m     \u001b[1;32mdef\u001b[0m \u001b[0mget_table\u001b[0m\u001b[1;33m(\u001b[0m\u001b[0mself\u001b[0m\u001b[1;33m,\u001b[0m \u001b[0mtable_name\u001b[0m\u001b[1;33m:\u001b[0m \u001b[0mstr\u001b[0m\u001b[1;33m,\u001b[0m \u001b[0mschema\u001b[0m\u001b[1;33m:\u001b[0m \u001b[0mstr\u001b[0m \u001b[1;33m|\u001b[0m \u001b[1;32mNone\u001b[0m \u001b[1;33m=\u001b[0m \u001b[1;32mNone\u001b[0m\u001b[1;33m)\u001b[0m\u001b[1;33m:\u001b[0m\u001b[1;33m\u001b[0m\u001b[1;33m\u001b[0m\u001b[0m\n",
      "\u001b[1;32m~\\anaconda3\\lib\\site-packages\\pandas\\io\\sql.py\u001b[0m in \u001b[0;36mexecute\u001b[1;34m(self, *args, **kwargs)\u001b[0m\n\u001b[0;32m   2066\u001b[0m \u001b[1;33m\u001b[0m\u001b[0m\n\u001b[0;32m   2067\u001b[0m             \u001b[0mex\u001b[0m \u001b[1;33m=\u001b[0m \u001b[0mDatabaseError\u001b[0m\u001b[1;33m(\u001b[0m\u001b[1;34mf\"Execution failed on sql '{args[0]}': {exc}\"\u001b[0m\u001b[1;33m)\u001b[0m\u001b[1;33m\u001b[0m\u001b[1;33m\u001b[0m\u001b[0m\n\u001b[1;32m-> 2068\u001b[1;33m             \u001b[1;32mraise\u001b[0m \u001b[0mex\u001b[0m \u001b[1;32mfrom\u001b[0m \u001b[0mexc\u001b[0m\u001b[1;33m\u001b[0m\u001b[1;33m\u001b[0m\u001b[0m\n\u001b[0m\u001b[0;32m   2069\u001b[0m \u001b[1;33m\u001b[0m\u001b[0m\n\u001b[0;32m   2070\u001b[0m     \u001b[1;33m@\u001b[0m\u001b[0mstaticmethod\u001b[0m\u001b[1;33m\u001b[0m\u001b[1;33m\u001b[0m\u001b[0m\n",
      "\u001b[1;31mDatabaseError\u001b[0m: Execution failed on sql 'SELECT name FROM sqlite_master WHERE type='table' AND name=?;': Not all parameters were used in the SQL statement"
     ]
    }
   ],
   "source": [
    "data_to_be_dumped.to_sql('mydata1', mydb)"
   ]
  },
  {
   "cell_type": "markdown",
   "id": "a25af330",
   "metadata": {},
   "source": [
    ">>> from sqlalchemy import create_engine\n",
    ">>> engine = create_engine('sqlite://', echo=False)\n",
    "\n",
    "Create a table from scratch with 3 rows.\n",
    "\n",
    ">>> df = pd.DataFrame({'name' : ['User 1', 'User 2', 'User 3']})\n",
    ">>> df\n",
    "     name\n",
    "0  User 1\n",
    "1  User 2\n",
    "2  User 3\n",
    "\n",
    ">>> df.to_sql('users', con=engine)\n",
    ">>> engine.execute(\"SELECT * FROM users\").fetchall()\n",
    "[(0, 'User 1'), (1, 'User 2'), (2, 'User 3')]\n",
    "\n",
    "An `sqlalchemy.engine.Connection` can also be passed to `con`:\n",
    "\n",
    ">>> with engine.begin() as connection:\n",
    "...     df1 = pd.DataFrame({'name' : ['User 4', 'User 5']})\n",
    "...     df1.to_sql('users', con=connection, if_exists='append')\n",
    "\n",
    "This is allowed to support operations that require that the same\n",
    "DBAPI connection is used for the entire operation.\n",
    "\n",
    ">>> df2 = pd.DataFrame({'name' : ['User 6', 'User 7']})\n",
    ">>> df2.to_sql('users', con=engine, if_exists='append')\n",
    ">>> engine.execute(\"SELECT * FROM users\").fetchall()\n",
    "[(0, 'User 1'), (1, 'User 2'), (2, 'User 3'),\n",
    " (0, 'User 4'), (1, 'User 5'), (0, 'User 6'),\n",
    " (1, 'User 7')]\n",
    "\n",
    "Overwrite the table with just ``df2``.\n",
    "\n",
    ">>> df2.to_sql('users', con=engine, if_exists='replace',\n",
    "...            index_label='id')\n",
    ">>> engine.execute(\"SELECT * FROM users\").fetchall()\n",
    "[(0, 'User 6'), (1, 'User 7')]\n",
    "\n",
    "Specify the dtype (especially useful for integers with missing values).\n",
    "Notice that while pandas is forced to store the data as floating point,\n",
    "the database supports nullable integers. When fetching the data with\n",
    "Python, we get back integer scalars.\n",
    "\n",
    ">>> df = pd.DataFrame({\"A\": [1, None, 2]})\n",
    ">>> df\n",
    "     A\n",
    "0  1.0\n",
    "1  NaN\n",
    "2  2.0\n",
    "\n",
    ">>> from sqlalchemy.types import Integer\n",
    ">>> df.to_sql('integers', con=engine, index=False,\n",
    "...           dtype={\"A\": Integer()})\n",
    "\n",
    ">>> engine.execute(\"SELECT * FROM integers\").fetchall()"
   ]
  },
  {
   "cell_type": "code",
   "execution_count": 87,
   "id": "86103459",
   "metadata": {},
   "outputs": [],
   "source": [
    "import mysql.connector as connection\n",
    "import pandas as pd\n",
    "import csv\n",
    "mydb = connection.connect(host=\"localhost\", user =\"root\", passwd = \"Ineuron@ukc@5\", use_pure= True)"
   ]
  },
  {
   "cell_type": "code",
   "execution_count": 94,
   "id": "03ee3fc7",
   "metadata": {},
   "outputs": [],
   "source": [
    "cur = mydb.cursor()\n",
    "\n",
    "cur.execute(\"create table if not exists sudhanshu12345.glass(Index_Number int(10),RI float(10,5), Na float(10,5), Mg float(10,5),Al float(10,5), Si float(10,5), K float(10,5), Ca float(10,5), Ba float(10,5), Fe float(10,5), Class int(5))\")\n",
    "# we have given here databasename.tablename, because while creating the connection, we have not defined database name there"
   ]
  },
  {
   "cell_type": "code",
   "execution_count": 95,
   "id": "fe1bdbcb",
   "metadata": {},
   "outputs": [
    {
     "name": "stderr",
     "output_type": "stream",
     "text": [
      "'ls' is not recognized as an internal or external command,\n",
      "operable program or batch file.\n"
     ]
    }
   ],
   "source": [
    "!ls"
   ]
  },
  {
   "cell_type": "code",
   "execution_count": 99,
   "id": "d8f9c35d",
   "metadata": {},
   "outputs": [
    {
     "name": "stdout",
     "output_type": "stream",
     "text": [
      " Volume in drive C is Windows\n",
      " Volume Serial Number is C21A-2381\n",
      "\n",
      " Directory of C:\\Users\\Utkarsh\\Classes\\Fast Track Mode\\Databases Lecture\n",
      "\n",
      "01-02-2022  07:18    <DIR>          .\n",
      "01-02-2022  07:18    <DIR>          ..\n",
      "31-01-2022  11:54    <DIR>          .ipynb_checkpoints\n",
      "01-02-2022  07:18               915 filecontainingdataToBeDumped.data\n",
      "31-01-2022  20:30               652 mydata.csv\n",
      "31-01-2022  20:45               792 mydata1.csv\n",
      "31-01-2022  21:58           131,047 recorded DataBases jan 31 2022_ SQL_Basic.ipynb\n",
      "               4 File(s)        133,406 bytes\n",
      "               3 Dir(s)  110,612,865,024 bytes free\n"
     ]
    }
   ],
   "source": [
    "%ls"
   ]
  },
  {
   "cell_type": "code",
   "execution_count": 100,
   "id": "ad37cb2f",
   "metadata": {},
   "outputs": [
    {
     "data": {
      "text/plain": [
       "['.ipynb_checkpoints',\n",
       " 'filecontainingdataToBeDumped.data',\n",
       " 'mydata.csv',\n",
       " 'mydata1.csv',\n",
       " 'recorded DataBases jan 31 2022_ SQL_Basic.ipynb']"
      ]
     },
     "execution_count": 100,
     "metadata": {},
     "output_type": "execute_result"
    }
   ],
   "source": [
    "import os\n",
    "os.listdir()"
   ]
  },
  {
   "cell_type": "markdown",
   "id": "cd71ada1",
   "metadata": {},
   "source": [
    "with open('filecontainingdataToBeDumped.data',\"r\") as data :\n",
    "    next(data)\n",
    "    data_csv = csv.reader(data, delimiter= \"\\n\") # converting filecontainingdataToBeDumped.data to csv\n",
    "    print(data_csv)\n",
    "    for i in enumerate(data_csv):\n",
    "        print(i)\n",
    "        for j in i[1] :\n",
    "            print(type(j))\n",
    "            cur.execute('insert into sudhanshu12345.glass values ({data})'.format(data=(j)))\n",
    "    print(\"all the data inserted \")\n",
    "mydb.commit()"
   ]
  },
  {
   "cell_type": "code",
   "execution_count": 101,
   "id": "897770d9",
   "metadata": {},
   "outputs": [
    {
     "name": "stdout",
     "output_type": "stream",
     "text": [
      "<_csv.reader object at 0x000002AAD775A4C0>\n"
     ]
    }
   ],
   "source": [
    "with open('filecontainingdataToBeDumped.data',\"r\") as data :\n",
    "    data_csv = csv.reader(data, delimiter= \"\\n\") # converting filecontainingdataToBeDumped.data to csv\n",
    "    print(data_csv)"
   ]
  },
  {
   "cell_type": "code",
   "execution_count": 103,
   "id": "67550c3a",
   "metadata": {},
   "outputs": [
    {
     "name": "stdout",
     "output_type": "stream",
     "text": [
      "<_csv.reader object at 0x000002AAD5CE1400>\n",
      "['Index_Number,RI,Na,Mg,Al,Si,K,Ca,Ba,Fe,Class']\n",
      "['1,1.52101,13.64,4.49,1.10,71.78,0.06,8.75,0.00,0.00,1']\n",
      "['2,1.51761,13.89,3.60,1.36,72.73,0.48,7.83,0.00,0.00,1']\n",
      "['3,1.51618,13.53,3.55,1.54,72.99,0.39,7.78,0.00,0.00,1']\n",
      "['4,1.51766,13.21,3.69,1.29,72.61,0.57,8.22,0.00,0.00,1']\n",
      "['5,1.51742,13.27,3.62,1.24,73.08,0.55,8.07,0.00,0.00,1']\n",
      "['6,1.51596,12.79,3.61,1.62,72.97,0.64,8.07,0.00,0.26,1']\n",
      "['7,1.51743,13.30,3.60,1.14,73.09,0.58,8.17,0.00,0.00,1']\n",
      "['8,1.51756,13.15,3.61,1.05,73.24,0.57,8.24,0.00,0.00,1']\n",
      "['9,1.51918,14.04,3.58,1.37,72.08,0.56,8.30,0.00,0.00,1']\n",
      "['10,1.51755,13.00,3.60,1.36,72.99,0.57,8.40,0.00,0.11,1']\n",
      "['11,1.51571,12.72,3.46,1.56,73.20,0.67,8.09,0.00,0.24,1']\n",
      "['12,1.51763,12.80,3.66,1.27,73.01,0.60,8.56,0.00,0.00,1']\n",
      "['13,1.51589,12.88,3.43,1.40,73.28,0.69,8.05,0.00,0.24,1']\n",
      "['14,1.51748,12.86,3.56,1.27,73.21,0.54,8.38,0.00,0.17,1']\n",
      "['15,1.51763,12.61,3.59,1.31,73.29,0.58,8.50,0.00,0.00,1']\n",
      "['16,1.51761,12.81,3.54,1.23,73.24,0.58,8.39,0.00,0.00,1']\n"
     ]
    }
   ],
   "source": [
    "with open('filecontainingdataToBeDumped.data',\"r\") as data :\n",
    "    data_csv = csv.reader(data, delimiter= \"\\n\") # converting filecontainingdataToBeDumped.data to csv\n",
    "    print(data_csv)\n",
    "    for i in data_csv:\n",
    "        print(i)"
   ]
  },
  {
   "cell_type": "code",
   "execution_count": 104,
   "id": "17b4c523",
   "metadata": {},
   "outputs": [
    {
     "name": "stdout",
     "output_type": "stream",
     "text": [
      "<_csv.reader object at 0x000002AAD5A52160>\n",
      "(0, ['Index_Number,RI,Na,Mg,Al,Si,K,Ca,Ba,Fe,Class'])\n",
      "(1, ['1,1.52101,13.64,4.49,1.10,71.78,0.06,8.75,0.00,0.00,1'])\n",
      "(2, ['2,1.51761,13.89,3.60,1.36,72.73,0.48,7.83,0.00,0.00,1'])\n",
      "(3, ['3,1.51618,13.53,3.55,1.54,72.99,0.39,7.78,0.00,0.00,1'])\n",
      "(4, ['4,1.51766,13.21,3.69,1.29,72.61,0.57,8.22,0.00,0.00,1'])\n",
      "(5, ['5,1.51742,13.27,3.62,1.24,73.08,0.55,8.07,0.00,0.00,1'])\n",
      "(6, ['6,1.51596,12.79,3.61,1.62,72.97,0.64,8.07,0.00,0.26,1'])\n",
      "(7, ['7,1.51743,13.30,3.60,1.14,73.09,0.58,8.17,0.00,0.00,1'])\n",
      "(8, ['8,1.51756,13.15,3.61,1.05,73.24,0.57,8.24,0.00,0.00,1'])\n",
      "(9, ['9,1.51918,14.04,3.58,1.37,72.08,0.56,8.30,0.00,0.00,1'])\n",
      "(10, ['10,1.51755,13.00,3.60,1.36,72.99,0.57,8.40,0.00,0.11,1'])\n",
      "(11, ['11,1.51571,12.72,3.46,1.56,73.20,0.67,8.09,0.00,0.24,1'])\n",
      "(12, ['12,1.51763,12.80,3.66,1.27,73.01,0.60,8.56,0.00,0.00,1'])\n",
      "(13, ['13,1.51589,12.88,3.43,1.40,73.28,0.69,8.05,0.00,0.24,1'])\n",
      "(14, ['14,1.51748,12.86,3.56,1.27,73.21,0.54,8.38,0.00,0.17,1'])\n",
      "(15, ['15,1.51763,12.61,3.59,1.31,73.29,0.58,8.50,0.00,0.00,1'])\n",
      "(16, ['16,1.51761,12.81,3.54,1.23,73.24,0.58,8.39,0.00,0.00,1'])\n"
     ]
    }
   ],
   "source": [
    "with open('filecontainingdataToBeDumped.data',\"r\") as data :\n",
    "    data_csv = csv.reader(data, delimiter= \"\\n\") # converting filecontainingdataToBeDumped.data to csv\n",
    "    print(data_csv)\n",
    "    for i in enumerate(data_csv):\n",
    "        print(i)"
   ]
  },
  {
   "cell_type": "code",
   "execution_count": 106,
   "id": "3836cb78",
   "metadata": {},
   "outputs": [
    {
     "name": "stdout",
     "output_type": "stream",
     "text": [
      "<_csv.reader object at 0x000002AAD775A4C0>\n",
      "(0, ['Index_Number,RI,Na,Mg,Al,Si,K,Ca,Ba,Fe,Class'])\n",
      "(1, ['1,1.52101,13.64,4.49,1.10,71.78,0.06,8.75,0.00,0.00,1'])\n",
      "(2, ['2,1.51761,13.89,3.60,1.36,72.73,0.48,7.83,0.00,0.00,1'])\n",
      "(3, ['3,1.51618,13.53,3.55,1.54,72.99,0.39,7.78,0.00,0.00,1'])\n",
      "(4, ['4,1.51766,13.21,3.69,1.29,72.61,0.57,8.22,0.00,0.00,1'])\n",
      "(5, ['5,1.51742,13.27,3.62,1.24,73.08,0.55,8.07,0.00,0.00,1'])\n",
      "(6, ['6,1.51596,12.79,3.61,1.62,72.97,0.64,8.07,0.00,0.26,1'])\n",
      "(7, ['7,1.51743,13.30,3.60,1.14,73.09,0.58,8.17,0.00,0.00,1'])\n",
      "(8, ['8,1.51756,13.15,3.61,1.05,73.24,0.57,8.24,0.00,0.00,1'])\n",
      "(9, ['9,1.51918,14.04,3.58,1.37,72.08,0.56,8.30,0.00,0.00,1'])\n",
      "(10, ['10,1.51755,13.00,3.60,1.36,72.99,0.57,8.40,0.00,0.11,1'])\n",
      "(11, ['11,1.51571,12.72,3.46,1.56,73.20,0.67,8.09,0.00,0.24,1'])\n",
      "(12, ['12,1.51763,12.80,3.66,1.27,73.01,0.60,8.56,0.00,0.00,1'])\n",
      "(13, ['13,1.51589,12.88,3.43,1.40,73.28,0.69,8.05,0.00,0.24,1'])\n",
      "(14, ['14,1.51748,12.86,3.56,1.27,73.21,0.54,8.38,0.00,0.17,1'])\n",
      "(15, ['15,1.51763,12.61,3.59,1.31,73.29,0.58,8.50,0.00,0.00,1'])\n",
      "(16, ['16,1.51761,12.81,3.54,1.23,73.24,0.58,8.39,0.00,0.00,1'])\n",
      "All the data inserted\n"
     ]
    }
   ],
   "source": [
    "with open('filecontainingdataToBeDumped.data',\"r\") as data :\n",
    "    data_csv = csv.reader(data, delimiter= \"\\n\") # converting filecontainingdataToBeDumped.data to csv\n",
    "    print(data_csv)\n",
    "    for i in enumerate(data_csv):\n",
    "        print(i)\n",
    "        for j in i[1] :#i[1] because we want the data present in the list to be dumped...and the list is index 1 of the tuple\n",
    "            cur.execute('insert into sudhanshu12345.glass values ({data})'.format(data=(j))) #using format placeholder\n",
    "    print(\"All the data inserted\")        \n",
    "mydb.commit()"
   ]
  },
  {
   "cell_type": "markdown",
   "id": "2be05ded",
   "metadata": {},
   "source": [
    "##### we are getting NULL in the 1st row of the table in mySQL workbench because we are trying to insert indexnumber ,,,RI, Na,Mg,,,,,unnecessarily as there is already a row for all these things in the table of mySQL workbench\n",
    "\n",
    "##### therefore we will use next function to start from the next line"
   ]
  },
  {
   "cell_type": "code",
   "execution_count": 108,
   "id": "131bf7fd",
   "metadata": {},
   "outputs": [
    {
     "name": "stdout",
     "output_type": "stream",
     "text": [
      "<_csv.reader object at 0x000002AAD5DB8700>\n",
      "(0, ['1,1.52101,13.64,4.49,1.10,71.78,0.06,8.75,0.00,0.00,1'])\n",
      "(1, ['2,1.51761,13.89,3.60,1.36,72.73,0.48,7.83,0.00,0.00,1'])\n",
      "(2, ['3,1.51618,13.53,3.55,1.54,72.99,0.39,7.78,0.00,0.00,1'])\n",
      "(3, ['4,1.51766,13.21,3.69,1.29,72.61,0.57,8.22,0.00,0.00,1'])\n",
      "(4, ['5,1.51742,13.27,3.62,1.24,73.08,0.55,8.07,0.00,0.00,1'])\n",
      "(5, ['6,1.51596,12.79,3.61,1.62,72.97,0.64,8.07,0.00,0.26,1'])\n",
      "(6, ['7,1.51743,13.30,3.60,1.14,73.09,0.58,8.17,0.00,0.00,1'])\n",
      "(7, ['8,1.51756,13.15,3.61,1.05,73.24,0.57,8.24,0.00,0.00,1'])\n",
      "(8, ['9,1.51918,14.04,3.58,1.37,72.08,0.56,8.30,0.00,0.00,1'])\n",
      "(9, ['10,1.51755,13.00,3.60,1.36,72.99,0.57,8.40,0.00,0.11,1'])\n",
      "(10, ['11,1.51571,12.72,3.46,1.56,73.20,0.67,8.09,0.00,0.24,1'])\n",
      "(11, ['12,1.51763,12.80,3.66,1.27,73.01,0.60,8.56,0.00,0.00,1'])\n",
      "(12, ['13,1.51589,12.88,3.43,1.40,73.28,0.69,8.05,0.00,0.24,1'])\n",
      "(13, ['14,1.51748,12.86,3.56,1.27,73.21,0.54,8.38,0.00,0.17,1'])\n",
      "(14, ['15,1.51763,12.61,3.59,1.31,73.29,0.58,8.50,0.00,0.00,1'])\n",
      "(15, ['16,1.51761,12.81,3.54,1.23,73.24,0.58,8.39,0.00,0.00,1'])\n",
      "All the data inserted\n"
     ]
    }
   ],
   "source": [
    "with open('filecontainingdataToBeDumped.data',\"r\") as data :\n",
    "    next(data)\n",
    "    data_csv = csv.reader(data, delimiter= \"\\n\") # converting filecontainingdataToBeDumped.data to csv\n",
    "    print(data_csv)\n",
    "    for i in enumerate(data_csv):\n",
    "        print(i)\n",
    "        for j in i[1] :#i[1] because we want the data present in the list to be dumped...and the list is index 1 of the tuple\n",
    "            cur.execute('insert into sudhanshu12345.glass values ({data})'.format(data=(j))) #using format placeholder\n",
    "    print(\"All the data inserted\")        \n",
    "mydb.commit()"
   ]
  },
  {
   "cell_type": "code",
   "execution_count": 109,
   "id": "f1fbea6f",
   "metadata": {},
   "outputs": [
    {
     "name": "stdout",
     "output_type": "stream",
     "text": [
      "<_csv.reader object at 0x000002AAD775A4C0>\n",
      "['1,1.52101,13.64,4.49,1.10,71.78,0.06,8.75,0.00,0.00,1']\n",
      "['2,1.51761,13.89,3.60,1.36,72.73,0.48,7.83,0.00,0.00,1']\n",
      "['3,1.51618,13.53,3.55,1.54,72.99,0.39,7.78,0.00,0.00,1']\n",
      "['4,1.51766,13.21,3.69,1.29,72.61,0.57,8.22,0.00,0.00,1']\n",
      "['5,1.51742,13.27,3.62,1.24,73.08,0.55,8.07,0.00,0.00,1']\n",
      "['6,1.51596,12.79,3.61,1.62,72.97,0.64,8.07,0.00,0.26,1']\n",
      "['7,1.51743,13.30,3.60,1.14,73.09,0.58,8.17,0.00,0.00,1']\n",
      "['8,1.51756,13.15,3.61,1.05,73.24,0.57,8.24,0.00,0.00,1']\n",
      "['9,1.51918,14.04,3.58,1.37,72.08,0.56,8.30,0.00,0.00,1']\n",
      "['10,1.51755,13.00,3.60,1.36,72.99,0.57,8.40,0.00,0.11,1']\n",
      "['11,1.51571,12.72,3.46,1.56,73.20,0.67,8.09,0.00,0.24,1']\n",
      "['12,1.51763,12.80,3.66,1.27,73.01,0.60,8.56,0.00,0.00,1']\n",
      "['13,1.51589,12.88,3.43,1.40,73.28,0.69,8.05,0.00,0.24,1']\n",
      "['14,1.51748,12.86,3.56,1.27,73.21,0.54,8.38,0.00,0.17,1']\n",
      "['15,1.51763,12.61,3.59,1.31,73.29,0.58,8.50,0.00,0.00,1']\n",
      "['16,1.51761,12.81,3.54,1.23,73.24,0.58,8.39,0.00,0.00,1']\n",
      "All the data inserted\n"
     ]
    }
   ],
   "source": [
    "with open('filecontainingdataToBeDumped.data',\"r\") as data :\n",
    "    next(data)\n",
    "    data_csv = csv.reader(data, delimiter= \"\\n\") # converting filecontainingdataToBeDumped.data to csv\n",
    "    print(data_csv)\n",
    "    for i in data_csv:\n",
    "        print(i)\n",
    "        cur.execute('insert into sudhanshu12345.glass values ({data})'.format(data=str(i[0]))) #using format placeholder\n",
    "    print(\"All the data inserted\")        \n",
    "mydb.commit()"
   ]
  },
  {
   "cell_type": "code",
   "execution_count": 168,
   "id": "cd7b2fa9",
   "metadata": {},
   "outputs": [
    {
     "name": "stdout",
     "output_type": "stream",
     "text": [
      "[('1', '1.52101', '13.64', '4.49', '1.10', '71.78', '0.06', '8.75', '0.00', '0.00', '1'), ('2', '1.51761', '13.89', '3.60', '1.36', '72.73', '0.48', '7.83', '0.00', '0.00', '1'), ('3', '1.51618', '13.53', '3.55', '1.54', '72.99', '0.39', '7.78', '0.00', '0.00', '1'), ('4', '1.51766', '13.21', '3.69', '1.29', '72.61', '0.57', '8.22', '0.00', '0.00', '1'), ('5', '1.51742', '13.27', '3.62', '1.24', '73.08', '0.55', '8.07', '0.00', '0.00', '1'), ('6', '1.51596', '12.79', '3.61', '1.62', '72.97', '0.64', '8.07', '0.00', '0.26', '1'), ('7', '1.51743', '13.30', '3.60', '1.14', '73.09', '0.58', '8.17', '0.00', '0.00', '1'), ('8', '1.51756', '13.15', '3.61', '1.05', '73.24', '0.57', '8.24', '0.00', '0.00', '1'), ('9', '1.51918', '14.04', '3.58', '1.37', '72.08', '0.56', '8.30', '0.00', '0.00', '1'), ('10', '1.51755', '13.00', '3.60', '1.36', '72.99', '0.57', '8.40', '0.00', '0.11', '1'), ('11', '1.51571', '12.72', '3.46', '1.56', '73.20', '0.67', '8.09', '0.00', '0.24', '1'), ('12', '1.51763', '12.80', '3.66', '1.27', '73.01', '0.60', '8.56', '0.00', '0.00', '1'), ('13', '1.51589', '12.88', '3.43', '1.40', '73.28', '0.69', '8.05', '0.00', '0.24', '1'), ('14', '1.51748', '12.86', '3.56', '1.27', '73.21', '0.54', '8.38', '0.00', '0.17', '1'), ('15', '1.51763', '12.61', '3.59', '1.31', '73.29', '0.58', '8.50', '0.00', '0.00', '1'), ('16', '1.51761', '12.81', '3.54', '1.23', '73.24', '0.58', '8.39', '0.00', '0.00', '1')]\n",
      "All the data inserted\n"
     ]
    }
   ],
   "source": [
    "cur = mydb.cursor()\n",
    "\n",
    "query = \"\"\"insert into sudhanshu12345.glass(Index_Number ,RI, Na , Mg ,Al, Si , K , Ca , Ba , Fe , Class ) values(%s,%s,%s,%s,%s,%s,%s,%s,%s,%s,%s)\"\"\"\n",
    "\n",
    "\n",
    "with open('filecontainingdataToBeDumped.data',\"r\") as data :\n",
    "    next(data)\n",
    "    data_csv = csv.reader(data, delimiter= \"\\n\") # converting filecontainingdataToBeDumped.data to csv\n",
    "    listt=[]\n",
    "    for i in data_csv:\n",
    "        store = i[0].split(\",\")\n",
    "        new_store = tuple(store)\n",
    "        listt.append(new_store)\n",
    "    print(listt)\n",
    "    cur.executemany(query,listt) #withouusing format placeholder\n",
    "    print(\"All the data inserted\")        \n",
    "mydb.commit()"
   ]
  }
 ],
 "metadata": {
  "kernelspec": {
   "display_name": "Python 3 (ipykernel)",
   "language": "python",
   "name": "python3"
  },
  "language_info": {
   "codemirror_mode": {
    "name": "ipython",
    "version": 3
   },
   "file_extension": ".py",
   "mimetype": "text/x-python",
   "name": "python",
   "nbconvert_exporter": "python",
   "pygments_lexer": "ipython3",
   "version": "3.9.7"
  }
 },
 "nbformat": 4,
 "nbformat_minor": 5
}
