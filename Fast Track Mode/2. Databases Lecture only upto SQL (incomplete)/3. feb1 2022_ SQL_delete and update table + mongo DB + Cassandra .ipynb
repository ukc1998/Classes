{
 "cells": [
  {
   "cell_type": "code",
   "execution_count": 1,
   "id": "b1ebdfc4",
   "metadata": {},
   "outputs": [],
   "source": [
    "import mysql.connector as connection"
   ]
  },
  {
   "cell_type": "code",
   "execution_count": 3,
   "id": "e1f8e242",
   "metadata": {},
   "outputs": [],
   "source": [
    "mydb = connection.connect(host = \"localhost\",user = \"root\", passwd = \"Ineuron@ukc@5\",use_pure = True, database = \"sudhanshu12345\")"
   ]
  },
  {
   "cell_type": "code",
   "execution_count": 4,
   "id": "3b8f0e63",
   "metadata": {},
   "outputs": [
    {
     "data": {
      "text/plain": [
       "True"
      ]
     },
     "execution_count": 4,
     "metadata": {},
     "output_type": "execute_result"
    }
   ],
   "source": [
    "mydb.is_connected()"
   ]
  },
  {
   "cell_type": "code",
   "execution_count": 5,
   "id": "3459620e",
   "metadata": {},
   "outputs": [],
   "source": [
    "query = \"delete from test where x1 = 23459\" #learn the syntax"
   ]
  },
  {
   "cell_type": "code",
   "execution_count": 6,
   "id": "2c920dcb",
   "metadata": {},
   "outputs": [],
   "source": [
    "cur = mydb.cursor()"
   ]
  },
  {
   "cell_type": "code",
   "execution_count": 7,
   "id": "ff063ae6",
   "metadata": {},
   "outputs": [],
   "source": [
    "cur.execute(query)"
   ]
  },
  {
   "cell_type": "code",
   "execution_count": 8,
   "id": "8d8468c2",
   "metadata": {},
   "outputs": [],
   "source": [
    "mydb.commit()"
   ]
  },
  {
   "cell_type": "code",
   "execution_count": 9,
   "id": "6314a11f",
   "metadata": {},
   "outputs": [],
   "source": [
    "query = \"update test set x1 = 23423, x2 = 'Gaurav' where x1 = 345\" "
   ]
  },
  {
   "cell_type": "code",
   "execution_count": 10,
   "id": "bf90e899",
   "metadata": {},
   "outputs": [],
   "source": [
    "cur.execute(query)"
   ]
  },
  {
   "cell_type": "code",
   "execution_count": 11,
   "id": "66255d30",
   "metadata": {},
   "outputs": [],
   "source": [
    "mydb.commit()"
   ]
  },
  {
   "cell_type": "code",
   "execution_count": null,
   "id": "dc780cc6",
   "metadata": {},
   "outputs": [],
   "source": []
  }
 ],
 "metadata": {
  "kernelspec": {
   "display_name": "Python 3 (ipykernel)",
   "language": "python",
   "name": "python3"
  },
  "language_info": {
   "codemirror_mode": {
    "name": "ipython",
    "version": 3
   },
   "file_extension": ".py",
   "mimetype": "text/x-python",
   "name": "python",
   "nbconvert_exporter": "python",
   "pygments_lexer": "ipython3",
   "version": "3.9.7"
  }
 },
 "nbformat": 4,
 "nbformat_minor": 5
}
