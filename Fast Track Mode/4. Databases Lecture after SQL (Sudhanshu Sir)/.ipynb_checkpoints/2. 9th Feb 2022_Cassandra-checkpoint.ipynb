{
 "cells": [
  {
   "cell_type": "code",
   "execution_count": 1,
   "id": "0aead233",
   "metadata": {},
   "outputs": [
    {
     "name": "stdout",
     "output_type": "stream",
     "text": [
      "Requirement already satisfied: cassandra-driver in c:\\users\\utkarsh\\anaconda3\\lib\\site-packages (3.25.0)\n",
      "Requirement already satisfied: six>=1.9 in c:\\users\\utkarsh\\anaconda3\\lib\\site-packages (from cassandra-driver) (1.16.0)\n",
      "Requirement already satisfied: geomet<0.3,>=0.1 in c:\\users\\utkarsh\\anaconda3\\lib\\site-packages (from cassandra-driver) (0.2.1.post1)\n",
      "Requirement already satisfied: click in c:\\users\\utkarsh\\anaconda3\\lib\\site-packages (from geomet<0.3,>=0.1->cassandra-driver) (8.0.3)\n",
      "Requirement already satisfied: colorama in c:\\users\\utkarsh\\anaconda3\\lib\\site-packages (from click->geomet<0.3,>=0.1->cassandra-driver) (0.4.4)\n"
     ]
    }
   ],
   "source": [
    "!pip install cassandra-driver"
   ]
  },
  {
   "cell_type": "code",
   "execution_count": 2,
   "id": "870ec4f8",
   "metadata": {},
   "outputs": [
    {
     "name": "stdout",
     "output_type": "stream",
     "text": [
      "(3, 25, 0)\n"
     ]
    }
   ],
   "source": [
    "import cassandra\n",
    "print(cassandra.__version_info__)\n",
    "\n",
    "#just crosschecking our cassandra installed in local system is working fine or not"
   ]
  },
  {
   "cell_type": "code",
   "execution_count": 3,
   "id": "92726124",
   "metadata": {},
   "outputs": [
    {
     "name": "stdout",
     "output_type": "stream",
     "text": [
      "3.25.0\n"
     ]
    }
   ],
   "source": [
    "print(cassandra.__version__)"
   ]
  },
  {
   "cell_type": "code",
   "execution_count": 4,
   "id": "3dc5eeab",
   "metadata": {},
   "outputs": [
    {
     "name": "stdout",
     "output_type": "stream",
     "text": [
      "4.0.0.6816\n"
     ]
    }
   ],
   "source": [
    "#FOR CONNECTING TO CLOUD SYSTEM\n",
    "\n",
    "\n",
    "from cassandra.cluster import Cluster\n",
    "from cassandra.auth import PlainTextAuthProvider\n",
    "\n",
    "cloud_config= {\n",
    "        'secure_connect_bundle': 'C:\\secure-connect-test.zip'\n",
    "}\n",
    "auth_provider = PlainTextAuthProvider('IDNERMZjOsrpMCbjgRPADmYW', '_sCF8Ia.njY2wGTjFXd20YoJaYCR80lYkLcdBRfl51XHOpzkkvU,wdUBHhGsQ16CYyIKWZGtFxsMZELZtUyFzbhA-kPLBCe8oxkQeH.uaXvFU7H-41JeAebcZyjTn2t.')\n",
    "cluster = Cluster(cloud=cloud_config, auth_provider=auth_provider)\n",
    "session = cluster.connect()\n",
    "\n",
    "row = session.execute(\"select release_version from system.local\").one()\n",
    "if row:\n",
    "    print(row[0])\n",
    "else:\n",
    "    print(\"An error occurred.\")\n",
    "    \n",
    "#just crosschecking our cassandra logged into cloud system is working fine or not"
   ]
  },
  {
   "cell_type": "markdown",
   "id": "a62d6061",
   "metadata": {},
   "source": [
    "##### no error means that we are now connected with the cloud environment"
   ]
  },
  {
   "cell_type": "markdown",
   "id": "43be4afa",
   "metadata": {},
   "source": [
    "##### now we will try to connect with the local environment"
   ]
  },
  {
   "cell_type": "code",
   "execution_count": 5,
   "id": "4883e307",
   "metadata": {},
   "outputs": [],
   "source": [
    "from cassandra.cluster import Cluster\n",
    "\n",
    "cluster = Cluster()\n",
    "session_offline = cluster.connect()"
   ]
  },
  {
   "cell_type": "code",
   "execution_count": 6,
   "id": "3caeb3f2",
   "metadata": {},
   "outputs": [
    {
     "name": "stdout",
     "output_type": "stream",
     "text": [
      "3.11.11\n"
     ]
    }
   ],
   "source": [
    "from cassandra.cluster import Cluster\n",
    "\n",
    "cluster = Cluster()\n",
    "session_offline = cluster.connect()\n",
    "row = session_offline.execute(\"select release_version from system.local\").one()\n",
    "if row:\n",
    "    print(row[0])\n",
    "else:\n",
    "    print(\"An error occurred.\")\n",
    "    \n",
    "#just crosschecking our cassandra in local system is working fine or not"
   ]
  },
  {
   "cell_type": "markdown",
   "id": "898e1334",
   "metadata": {},
   "source": [
    "##### creating database in the local  with anaconda_cmd\n",
    "CREATE KEYSPACE sudh WITH replication = {'class': 'SimpleStrategy', 'replication_factor' : 1};"
   ]
  },
  {
   "cell_type": "code",
   "execution_count": 7,
   "id": "a4668de2",
   "metadata": {},
   "outputs": [
    {
     "name": "stdout",
     "output_type": "stream",
     "text": [
      "An error occurred.\n"
     ]
    }
   ],
   "source": [
    "##### creating database in the local  with jupyter nb\n",
    "\n",
    "from cassandra.cluster import Cluster\n",
    "\n",
    "cluster = Cluster()\n",
    "session_offline = cluster.connect()\n",
    "row = session_offline.execute(\"CREATE KEYSPACE sudh2 WITH replication = {'class': 'SimpleStrategy', 'replication_factor' : 1};\").one()\n",
    "if row:\n",
    "    print(row[0])\n",
    "else:\n",
    "    print(\"An error occurred.\")\n"
   ]
  },
  {
   "cell_type": "markdown",
   "id": "a62e3879",
   "metadata": {},
   "source": [
    "##### in above code, we got error bcoz, in anaconda cmd, we have activate python 2.7.18 env,,,,and here we are using python 3.9 or else there may be some issue in code"
   ]
  },
  {
   "cell_type": "code",
   "execution_count": 8,
   "id": "e8c998c7",
   "metadata": {},
   "outputs": [
    {
     "name": "stdout",
     "output_type": "stream",
     "text": [
      "Row(release_version='3.11.11')\n"
     ]
    }
   ],
   "source": [
    "##### creating database in the local  with jupyter nb\n",
    "\n",
    "from cassandra.cluster import Cluster\n",
    "\n",
    "cluster = Cluster()\n",
    "session_offline = cluster.connect()\n",
    "row = session_offline.execute(\"select release_version from system.local\").one()\n",
    "if row:\n",
    "    print(row)\n",
    "else:\n",
    "    print(\"An error occurred.\")\n"
   ]
  },
  {
   "cell_type": "code",
   "execution_count": 9,
   "id": "b5cae0cf",
   "metadata": {},
   "outputs": [
    {
     "name": "stdout",
     "output_type": "stream",
     "text": [
      "None\n"
     ]
    }
   ],
   "source": [
    "##### creating database in the local  with jupyter nb\n",
    "\n",
    "from cassandra.cluster import Cluster\n",
    "\n",
    "cluster = Cluster()\n",
    "session_offline = cluster.connect()\n",
    "row = session_offline.execute(\"CREATE KEYSPACE sudh3 WITH replication = {'class': 'SimpleStrategy', 'replication_factor' : 1};\").one()\n",
    "print(row)"
   ]
  },
  {
   "cell_type": "code",
   "execution_count": 10,
   "id": "a6716b33",
   "metadata": {},
   "outputs": [
    {
     "name": "stdout",
     "output_type": "stream",
     "text": [
      "None\n"
     ]
    }
   ],
   "source": [
    "##### creating database in the local  with jupyter nb\n",
    "\n",
    "from cassandra.cluster import Cluster\n",
    "\n",
    "cluster = Cluster()\n",
    "session_offline = cluster.connect()\n",
    "row = session_offline.execute(\"use sudh3;\").one()\n",
    "print(row)"
   ]
  },
  {
   "cell_type": "code",
   "execution_count": 11,
   "id": "560e5a6d",
   "metadata": {},
   "outputs": [
    {
     "ename": "Unauthorized",
     "evalue": "Error from server: code=2100 [Unauthorized] message=\"Missing correct permission on test1.\"",
     "output_type": "error",
     "traceback": [
      "\u001b[1;31m---------------------------------------------------------------------------\u001b[0m",
      "\u001b[1;31mUnauthorized\u001b[0m                              Traceback (most recent call last)",
      "\u001b[1;32m~\\AppData\\Local\\Temp/ipykernel_12256/710020750.py\u001b[0m in \u001b[0;36m<module>\u001b[1;34m\u001b[0m\n\u001b[0;32m     12\u001b[0m \u001b[0msession\u001b[0m \u001b[1;33m=\u001b[0m \u001b[0mcluster\u001b[0m\u001b[1;33m.\u001b[0m\u001b[0mconnect\u001b[0m\u001b[1;33m(\u001b[0m\u001b[1;33m)\u001b[0m\u001b[1;33m\u001b[0m\u001b[1;33m\u001b[0m\u001b[0m\n\u001b[0;32m     13\u001b[0m \u001b[1;33m\u001b[0m\u001b[0m\n\u001b[1;32m---> 14\u001b[1;33m \u001b[0mrow\u001b[0m \u001b[1;33m=\u001b[0m \u001b[0msession\u001b[0m\u001b[1;33m.\u001b[0m\u001b[0mexecute\u001b[0m\u001b[1;33m(\u001b[0m\u001b[1;34m\"CREATE KEYSPACE test1 WITH replication = {'class': 'SimpleStrategy', 'replication_factor' : 1};\"\u001b[0m\u001b[1;33m)\u001b[0m\u001b[1;33m.\u001b[0m\u001b[0mone\u001b[0m\u001b[1;33m(\u001b[0m\u001b[1;33m)\u001b[0m\u001b[1;33m\u001b[0m\u001b[1;33m\u001b[0m\u001b[0m\n\u001b[0m\u001b[0;32m     15\u001b[0m \u001b[0mprint\u001b[0m\u001b[1;33m(\u001b[0m\u001b[0mrow\u001b[0m\u001b[1;33m)\u001b[0m\u001b[1;33m\u001b[0m\u001b[1;33m\u001b[0m\u001b[0m\n\u001b[0;32m     16\u001b[0m \u001b[1;33m\u001b[0m\u001b[0m\n",
      "\u001b[1;32m~\\anaconda3\\lib\\site-packages\\cassandra\\cluster.py\u001b[0m in \u001b[0;36mexecute\u001b[1;34m(self, query, parameters, timeout, trace, custom_payload, execution_profile, paging_state, host, execute_as)\u001b[0m\n\u001b[0;32m   2616\u001b[0m         \"\"\"\n\u001b[0;32m   2617\u001b[0m \u001b[1;33m\u001b[0m\u001b[0m\n\u001b[1;32m-> 2618\u001b[1;33m         \u001b[1;32mreturn\u001b[0m \u001b[0mself\u001b[0m\u001b[1;33m.\u001b[0m\u001b[0mexecute_async\u001b[0m\u001b[1;33m(\u001b[0m\u001b[0mquery\u001b[0m\u001b[1;33m,\u001b[0m \u001b[0mparameters\u001b[0m\u001b[1;33m,\u001b[0m \u001b[0mtrace\u001b[0m\u001b[1;33m,\u001b[0m \u001b[0mcustom_payload\u001b[0m\u001b[1;33m,\u001b[0m \u001b[0mtimeout\u001b[0m\u001b[1;33m,\u001b[0m \u001b[0mexecution_profile\u001b[0m\u001b[1;33m,\u001b[0m \u001b[0mpaging_state\u001b[0m\u001b[1;33m,\u001b[0m \u001b[0mhost\u001b[0m\u001b[1;33m,\u001b[0m \u001b[0mexecute_as\u001b[0m\u001b[1;33m)\u001b[0m\u001b[1;33m.\u001b[0m\u001b[0mresult\u001b[0m\u001b[1;33m(\u001b[0m\u001b[1;33m)\u001b[0m\u001b[1;33m\u001b[0m\u001b[1;33m\u001b[0m\u001b[0m\n\u001b[0m\u001b[0;32m   2619\u001b[0m \u001b[1;33m\u001b[0m\u001b[0m\n\u001b[0;32m   2620\u001b[0m     def execute_async(self, query, parameters=None, trace=False, custom_payload=None,\n",
      "\u001b[1;32m~\\anaconda3\\lib\\site-packages\\cassandra\\cluster.py\u001b[0m in \u001b[0;36mresult\u001b[1;34m(self)\u001b[0m\n\u001b[0;32m   4892\u001b[0m             \u001b[1;32mreturn\u001b[0m \u001b[0mResultSet\u001b[0m\u001b[1;33m(\u001b[0m\u001b[0mself\u001b[0m\u001b[1;33m,\u001b[0m \u001b[0mself\u001b[0m\u001b[1;33m.\u001b[0m\u001b[0m_final_result\u001b[0m\u001b[1;33m)\u001b[0m\u001b[1;33m\u001b[0m\u001b[1;33m\u001b[0m\u001b[0m\n\u001b[0;32m   4893\u001b[0m         \u001b[1;32melse\u001b[0m\u001b[1;33m:\u001b[0m\u001b[1;33m\u001b[0m\u001b[1;33m\u001b[0m\u001b[0m\n\u001b[1;32m-> 4894\u001b[1;33m             \u001b[1;32mraise\u001b[0m \u001b[0mself\u001b[0m\u001b[1;33m.\u001b[0m\u001b[0m_final_exception\u001b[0m\u001b[1;33m\u001b[0m\u001b[1;33m\u001b[0m\u001b[0m\n\u001b[0m\u001b[0;32m   4895\u001b[0m \u001b[1;33m\u001b[0m\u001b[0m\n\u001b[0;32m   4896\u001b[0m     \u001b[1;32mdef\u001b[0m \u001b[0mget_query_trace_ids\u001b[0m\u001b[1;33m(\u001b[0m\u001b[0mself\u001b[0m\u001b[1;33m)\u001b[0m\u001b[1;33m:\u001b[0m\u001b[1;33m\u001b[0m\u001b[1;33m\u001b[0m\u001b[0m\n",
      "\u001b[1;31mUnauthorized\u001b[0m: Error from server: code=2100 [Unauthorized] message=\"Missing correct permission on test1.\""
     ]
    }
   ],
   "source": [
    "#FOR CONNECTING TO CLOUD SYSTEM\n",
    "\n",
    "\n",
    "from cassandra.cluster import Cluster\n",
    "from cassandra.auth import PlainTextAuthProvider\n",
    "\n",
    "cloud_config= {\n",
    "        'secure_connect_bundle': 'C:\\secure-connect-test.zip'\n",
    "}\n",
    "auth_provider = PlainTextAuthProvider('IDNERMZjOsrpMCbjgRPADmYW', '_sCF8Ia.njY2wGTjFXd20YoJaYCR80lYkLcdBRfl51XHOpzkkvU,wdUBHhGsQ16CYyIKWZGtFxsMZELZtUyFzbhA-kPLBCe8oxkQeH.uaXvFU7H-41JeAebcZyjTn2t.')\n",
    "cluster = Cluster(cloud=cloud_config, auth_provider=auth_provider)\n",
    "session = cluster.connect()\n",
    "\n",
    "row = session.execute(\"CREATE KEYSPACE test1 WITH replication = {'class': 'SimpleStrategy', 'replication_factor' : 1};\").one()\n",
    "print(row)\n",
    "\n",
    "    \n",
    "##### creating database in the cloud  with jupyter nb"
   ]
  },
  {
   "cell_type": "markdown",
   "id": "0e0906af",
   "metadata": {},
   "source": [
    "##### in the above, we are getting error bcoz we are not permitted to to do uch things by the hel of notebook jupyter.....but wewere able to create with the help of gui"
   ]
  },
  {
   "cell_type": "code",
   "execution_count": 12,
   "id": "eb1c7a18",
   "metadata": {},
   "outputs": [
    {
     "ename": "InvalidRequest",
     "evalue": "Error from server: code=2200 [Invalid query] message=\"Keyspace 'test' does not exist\"",
     "output_type": "error",
     "traceback": [
      "\u001b[1;31m---------------------------------------------------------------------------\u001b[0m",
      "\u001b[1;31mInvalidRequest\u001b[0m                            Traceback (most recent call last)",
      "\u001b[1;32m~\\AppData\\Local\\Temp/ipykernel_12256/664565979.py\u001b[0m in \u001b[0;36m<module>\u001b[1;34m\u001b[0m\n\u001b[0;32m     12\u001b[0m \u001b[0msession\u001b[0m \u001b[1;33m=\u001b[0m \u001b[0mcluster\u001b[0m\u001b[1;33m.\u001b[0m\u001b[0mconnect\u001b[0m\u001b[1;33m(\u001b[0m\u001b[1;33m)\u001b[0m\u001b[1;33m\u001b[0m\u001b[1;33m\u001b[0m\u001b[0m\n\u001b[0;32m     13\u001b[0m \u001b[1;33m\u001b[0m\u001b[0m\n\u001b[1;32m---> 14\u001b[1;33m \u001b[0mrow\u001b[0m \u001b[1;33m=\u001b[0m \u001b[0msession\u001b[0m\u001b[1;33m.\u001b[0m\u001b[0mexecute\u001b[0m\u001b[1;33m(\u001b[0m\u001b[1;34m\"use test\"\u001b[0m\u001b[1;33m)\u001b[0m\u001b[1;33m.\u001b[0m\u001b[0mone\u001b[0m\u001b[1;33m(\u001b[0m\u001b[1;33m)\u001b[0m\u001b[1;33m\u001b[0m\u001b[1;33m\u001b[0m\u001b[0m\n\u001b[0m\u001b[0;32m     15\u001b[0m \u001b[0mprint\u001b[0m\u001b[1;33m(\u001b[0m\u001b[0mrow\u001b[0m\u001b[1;33m)\u001b[0m\u001b[1;33m\u001b[0m\u001b[1;33m\u001b[0m\u001b[0m\n\u001b[0;32m     16\u001b[0m \u001b[1;33m\u001b[0m\u001b[0m\n",
      "\u001b[1;32m~\\anaconda3\\lib\\site-packages\\cassandra\\cluster.py\u001b[0m in \u001b[0;36mexecute\u001b[1;34m(self, query, parameters, timeout, trace, custom_payload, execution_profile, paging_state, host, execute_as)\u001b[0m\n\u001b[0;32m   2616\u001b[0m         \"\"\"\n\u001b[0;32m   2617\u001b[0m \u001b[1;33m\u001b[0m\u001b[0m\n\u001b[1;32m-> 2618\u001b[1;33m         \u001b[1;32mreturn\u001b[0m \u001b[0mself\u001b[0m\u001b[1;33m.\u001b[0m\u001b[0mexecute_async\u001b[0m\u001b[1;33m(\u001b[0m\u001b[0mquery\u001b[0m\u001b[1;33m,\u001b[0m \u001b[0mparameters\u001b[0m\u001b[1;33m,\u001b[0m \u001b[0mtrace\u001b[0m\u001b[1;33m,\u001b[0m \u001b[0mcustom_payload\u001b[0m\u001b[1;33m,\u001b[0m \u001b[0mtimeout\u001b[0m\u001b[1;33m,\u001b[0m \u001b[0mexecution_profile\u001b[0m\u001b[1;33m,\u001b[0m \u001b[0mpaging_state\u001b[0m\u001b[1;33m,\u001b[0m \u001b[0mhost\u001b[0m\u001b[1;33m,\u001b[0m \u001b[0mexecute_as\u001b[0m\u001b[1;33m)\u001b[0m\u001b[1;33m.\u001b[0m\u001b[0mresult\u001b[0m\u001b[1;33m(\u001b[0m\u001b[1;33m)\u001b[0m\u001b[1;33m\u001b[0m\u001b[1;33m\u001b[0m\u001b[0m\n\u001b[0m\u001b[0;32m   2619\u001b[0m \u001b[1;33m\u001b[0m\u001b[0m\n\u001b[0;32m   2620\u001b[0m     def execute_async(self, query, parameters=None, trace=False, custom_payload=None,\n",
      "\u001b[1;32m~\\anaconda3\\lib\\site-packages\\cassandra\\cluster.py\u001b[0m in \u001b[0;36mresult\u001b[1;34m(self)\u001b[0m\n\u001b[0;32m   4892\u001b[0m             \u001b[1;32mreturn\u001b[0m \u001b[0mResultSet\u001b[0m\u001b[1;33m(\u001b[0m\u001b[0mself\u001b[0m\u001b[1;33m,\u001b[0m \u001b[0mself\u001b[0m\u001b[1;33m.\u001b[0m\u001b[0m_final_result\u001b[0m\u001b[1;33m)\u001b[0m\u001b[1;33m\u001b[0m\u001b[1;33m\u001b[0m\u001b[0m\n\u001b[0;32m   4893\u001b[0m         \u001b[1;32melse\u001b[0m\u001b[1;33m:\u001b[0m\u001b[1;33m\u001b[0m\u001b[1;33m\u001b[0m\u001b[0m\n\u001b[1;32m-> 4894\u001b[1;33m             \u001b[1;32mraise\u001b[0m \u001b[0mself\u001b[0m\u001b[1;33m.\u001b[0m\u001b[0m_final_exception\u001b[0m\u001b[1;33m\u001b[0m\u001b[1;33m\u001b[0m\u001b[0m\n\u001b[0m\u001b[0;32m   4895\u001b[0m \u001b[1;33m\u001b[0m\u001b[0m\n\u001b[0;32m   4896\u001b[0m     \u001b[1;32mdef\u001b[0m \u001b[0mget_query_trace_ids\u001b[0m\u001b[1;33m(\u001b[0m\u001b[0mself\u001b[0m\u001b[1;33m)\u001b[0m\u001b[1;33m:\u001b[0m\u001b[1;33m\u001b[0m\u001b[1;33m\u001b[0m\u001b[0m\n",
      "\u001b[1;31mInvalidRequest\u001b[0m: Error from server: code=2200 [Invalid query] message=\"Keyspace 'test' does not exist\""
     ]
    }
   ],
   "source": [
    "#FOR CONNECTING TO CLOUD SYSTEM\n",
    "\n",
    "\n",
    "from cassandra.cluster import Cluster\n",
    "from cassandra.auth import PlainTextAuthProvider\n",
    "\n",
    "cloud_config= {\n",
    "        'secure_connect_bundle': 'C:\\secure-connect-test.zip'\n",
    "}\n",
    "auth_provider = PlainTextAuthProvider('IDNERMZjOsrpMCbjgRPADmYW', '_sCF8Ia.njY2wGTjFXd20YoJaYCR80lYkLcdBRfl51XHOpzkkvU,wdUBHhGsQ16CYyIKWZGtFxsMZELZtUyFzbhA-kPLBCe8oxkQeH.uaXvFU7H-41JeAebcZyjTn2t.')\n",
    "cluster = Cluster(cloud=cloud_config, auth_provider=auth_provider)\n",
    "session = cluster.connect()\n",
    "\n",
    "row = session.execute(\"use test\").one()\n",
    "print(row)\n",
    "\n",
    "    \n",
    "#####using database in the cloud  with jupyter nb"
   ]
  },
  {
   "cell_type": "code",
   "execution_count": 13,
   "id": "b0766df1",
   "metadata": {},
   "outputs": [
    {
     "name": "stdout",
     "output_type": "stream",
     "text": [
      "None\n"
     ]
    }
   ],
   "source": [
    "#FOR CONNECTING TO CLOUD SYSTEM\n",
    "\n",
    "\n",
    "from cassandra.cluster import Cluster\n",
    "from cassandra.auth import PlainTextAuthProvider\n",
    "\n",
    "cloud_config= {\n",
    "        'secure_connect_bundle': 'C:\\secure-connect-test.zip'\n",
    "}\n",
    "auth_provider = PlainTextAuthProvider('IDNERMZjOsrpMCbjgRPADmYW', '_sCF8Ia.njY2wGTjFXd20YoJaYCR80lYkLcdBRfl51XHOpzkkvU,wdUBHhGsQ16CYyIKWZGtFxsMZELZtUyFzbhA-kPLBCe8oxkQeH.uaXvFU7H-41JeAebcZyjTn2t.')\n",
    "cluster = Cluster(cloud=cloud_config, auth_provider=auth_provider)\n",
    "session = cluster.connect()\n",
    "\n",
    "row = session.execute(\"use ineuron\").one()\n",
    "print(row)\n",
    "\n",
    "    \n",
    "#####using database in the cloud  with jupyter nb"
   ]
  },
  {
   "cell_type": "code",
   "execution_count": 14,
   "id": "77824459",
   "metadata": {},
   "outputs": [
    {
     "ename": "SyntaxException",
     "evalue": "<Error from server: code=2000 [Syntax error in CQL query] message=\"line 1:0 no viable alternative at input 'DESCRIBE' ([DESCRIBE]...)\">",
     "output_type": "error",
     "traceback": [
      "\u001b[1;31m---------------------------------------------------------------------------\u001b[0m",
      "\u001b[1;31mSyntaxException\u001b[0m                           Traceback (most recent call last)",
      "\u001b[1;32m~\\AppData\\Local\\Temp/ipykernel_12256/1222291546.py\u001b[0m in \u001b[0;36m<module>\u001b[1;34m\u001b[0m\n\u001b[0;32m     12\u001b[0m \u001b[0msession\u001b[0m \u001b[1;33m=\u001b[0m \u001b[0mcluster\u001b[0m\u001b[1;33m.\u001b[0m\u001b[0mconnect\u001b[0m\u001b[1;33m(\u001b[0m\u001b[1;33m)\u001b[0m\u001b[1;33m\u001b[0m\u001b[1;33m\u001b[0m\u001b[0m\n\u001b[0;32m     13\u001b[0m \u001b[1;33m\u001b[0m\u001b[0m\n\u001b[1;32m---> 14\u001b[1;33m \u001b[0mrow\u001b[0m \u001b[1;33m=\u001b[0m \u001b[0msession\u001b[0m\u001b[1;33m.\u001b[0m\u001b[0mexecute\u001b[0m\u001b[1;33m(\u001b[0m\u001b[1;34m\"DESCRIBE ineuron\"\u001b[0m\u001b[1;33m)\u001b[0m\u001b[1;33m.\u001b[0m\u001b[0mone\u001b[0m\u001b[1;33m(\u001b[0m\u001b[1;33m)\u001b[0m\u001b[1;33m\u001b[0m\u001b[1;33m\u001b[0m\u001b[0m\n\u001b[0m\u001b[0;32m     15\u001b[0m \u001b[0mprint\u001b[0m\u001b[1;33m(\u001b[0m\u001b[0mrow\u001b[0m\u001b[1;33m)\u001b[0m\u001b[1;33m\u001b[0m\u001b[1;33m\u001b[0m\u001b[0m\n\u001b[0;32m     16\u001b[0m \u001b[1;33m\u001b[0m\u001b[0m\n",
      "\u001b[1;32m~\\anaconda3\\lib\\site-packages\\cassandra\\cluster.py\u001b[0m in \u001b[0;36mexecute\u001b[1;34m(self, query, parameters, timeout, trace, custom_payload, execution_profile, paging_state, host, execute_as)\u001b[0m\n\u001b[0;32m   2616\u001b[0m         \"\"\"\n\u001b[0;32m   2617\u001b[0m \u001b[1;33m\u001b[0m\u001b[0m\n\u001b[1;32m-> 2618\u001b[1;33m         \u001b[1;32mreturn\u001b[0m \u001b[0mself\u001b[0m\u001b[1;33m.\u001b[0m\u001b[0mexecute_async\u001b[0m\u001b[1;33m(\u001b[0m\u001b[0mquery\u001b[0m\u001b[1;33m,\u001b[0m \u001b[0mparameters\u001b[0m\u001b[1;33m,\u001b[0m \u001b[0mtrace\u001b[0m\u001b[1;33m,\u001b[0m \u001b[0mcustom_payload\u001b[0m\u001b[1;33m,\u001b[0m \u001b[0mtimeout\u001b[0m\u001b[1;33m,\u001b[0m \u001b[0mexecution_profile\u001b[0m\u001b[1;33m,\u001b[0m \u001b[0mpaging_state\u001b[0m\u001b[1;33m,\u001b[0m \u001b[0mhost\u001b[0m\u001b[1;33m,\u001b[0m \u001b[0mexecute_as\u001b[0m\u001b[1;33m)\u001b[0m\u001b[1;33m.\u001b[0m\u001b[0mresult\u001b[0m\u001b[1;33m(\u001b[0m\u001b[1;33m)\u001b[0m\u001b[1;33m\u001b[0m\u001b[1;33m\u001b[0m\u001b[0m\n\u001b[0m\u001b[0;32m   2619\u001b[0m \u001b[1;33m\u001b[0m\u001b[0m\n\u001b[0;32m   2620\u001b[0m     def execute_async(self, query, parameters=None, trace=False, custom_payload=None,\n",
      "\u001b[1;32m~\\anaconda3\\lib\\site-packages\\cassandra\\cluster.py\u001b[0m in \u001b[0;36mresult\u001b[1;34m(self)\u001b[0m\n\u001b[0;32m   4892\u001b[0m             \u001b[1;32mreturn\u001b[0m \u001b[0mResultSet\u001b[0m\u001b[1;33m(\u001b[0m\u001b[0mself\u001b[0m\u001b[1;33m,\u001b[0m \u001b[0mself\u001b[0m\u001b[1;33m.\u001b[0m\u001b[0m_final_result\u001b[0m\u001b[1;33m)\u001b[0m\u001b[1;33m\u001b[0m\u001b[1;33m\u001b[0m\u001b[0m\n\u001b[0;32m   4893\u001b[0m         \u001b[1;32melse\u001b[0m\u001b[1;33m:\u001b[0m\u001b[1;33m\u001b[0m\u001b[1;33m\u001b[0m\u001b[0m\n\u001b[1;32m-> 4894\u001b[1;33m             \u001b[1;32mraise\u001b[0m \u001b[0mself\u001b[0m\u001b[1;33m.\u001b[0m\u001b[0m_final_exception\u001b[0m\u001b[1;33m\u001b[0m\u001b[1;33m\u001b[0m\u001b[0m\n\u001b[0m\u001b[0;32m   4895\u001b[0m \u001b[1;33m\u001b[0m\u001b[0m\n\u001b[0;32m   4896\u001b[0m     \u001b[1;32mdef\u001b[0m \u001b[0mget_query_trace_ids\u001b[0m\u001b[1;33m(\u001b[0m\u001b[0mself\u001b[0m\u001b[1;33m)\u001b[0m\u001b[1;33m:\u001b[0m\u001b[1;33m\u001b[0m\u001b[1;33m\u001b[0m\u001b[0m\n",
      "\u001b[1;31mSyntaxException\u001b[0m: <Error from server: code=2000 [Syntax error in CQL query] message=\"line 1:0 no viable alternative at input 'DESCRIBE' ([DESCRIBE]...)\">"
     ]
    }
   ],
   "source": [
    "#FOR CONNECTING TO CLOUD SYSTEM\n",
    "\n",
    "\n",
    "from cassandra.cluster import Cluster\n",
    "from cassandra.auth import PlainTextAuthProvider\n",
    "\n",
    "cloud_config= {\n",
    "        'secure_connect_bundle': 'C:\\secure-connect-test.zip'\n",
    "}\n",
    "auth_provider = PlainTextAuthProvider('IDNERMZjOsrpMCbjgRPADmYW', '_sCF8Ia.njY2wGTjFXd20YoJaYCR80lYkLcdBRfl51XHOpzkkvU,wdUBHhGsQ16CYyIKWZGtFxsMZELZtUyFzbhA-kPLBCe8oxkQeH.uaXvFU7H-41JeAebcZyjTn2t.')\n",
    "cluster = Cluster(cloud=cloud_config, auth_provider=auth_provider)\n",
    "session = cluster.connect()\n",
    "\n",
    "row = session.execute(\"DESCRIBE ineuron\").one()\n",
    "print(row)\n",
    "\n",
    "    \n",
    "#####trying to get definition of database in the cloud  with jupyter nb"
   ]
  },
  {
   "cell_type": "code",
   "execution_count": 17,
   "id": "bf76bfbd",
   "metadata": {},
   "outputs": [
    {
     "ename": "SyntaxException",
     "evalue": "<Error from server: code=2000 [Syntax error in CQL query] message=\"line 1:0 no viable alternative at input 'DESCRIBE' ([DESCRIBE]...)\">",
     "output_type": "error",
     "traceback": [
      "\u001b[1;31m---------------------------------------------------------------------------\u001b[0m",
      "\u001b[1;31mSyntaxException\u001b[0m                           Traceback (most recent call last)",
      "\u001b[1;32m~\\AppData\\Local\\Temp/ipykernel_12256/533209934.py\u001b[0m in \u001b[0;36m<module>\u001b[1;34m\u001b[0m\n\u001b[0;32m     12\u001b[0m \u001b[0msession\u001b[0m \u001b[1;33m=\u001b[0m \u001b[0mcluster\u001b[0m\u001b[1;33m.\u001b[0m\u001b[0mconnect\u001b[0m\u001b[1;33m(\u001b[0m\u001b[1;33m)\u001b[0m\u001b[1;33m\u001b[0m\u001b[1;33m\u001b[0m\u001b[0m\n\u001b[0;32m     13\u001b[0m \u001b[1;33m\u001b[0m\u001b[0m\n\u001b[1;32m---> 14\u001b[1;33m \u001b[0mrow\u001b[0m \u001b[1;33m=\u001b[0m \u001b[0msession\u001b[0m\u001b[1;33m.\u001b[0m\u001b[0mexecute\u001b[0m\u001b[1;33m(\u001b[0m\u001b[1;34m\"DESCRIBE ineuron;\"\u001b[0m\u001b[1;33m)\u001b[0m\u001b[1;33m.\u001b[0m\u001b[0mone\u001b[0m\u001b[1;33m(\u001b[0m\u001b[1;33m)\u001b[0m\u001b[1;33m\u001b[0m\u001b[1;33m\u001b[0m\u001b[0m\n\u001b[0m\u001b[0;32m     15\u001b[0m \u001b[0mprint\u001b[0m\u001b[1;33m(\u001b[0m\u001b[0mrow\u001b[0m\u001b[1;33m)\u001b[0m\u001b[1;33m\u001b[0m\u001b[1;33m\u001b[0m\u001b[0m\n\u001b[0;32m     16\u001b[0m \u001b[1;33m\u001b[0m\u001b[0m\n",
      "\u001b[1;32m~\\anaconda3\\lib\\site-packages\\cassandra\\cluster.py\u001b[0m in \u001b[0;36mexecute\u001b[1;34m(self, query, parameters, timeout, trace, custom_payload, execution_profile, paging_state, host, execute_as)\u001b[0m\n\u001b[0;32m   2616\u001b[0m         \"\"\"\n\u001b[0;32m   2617\u001b[0m \u001b[1;33m\u001b[0m\u001b[0m\n\u001b[1;32m-> 2618\u001b[1;33m         \u001b[1;32mreturn\u001b[0m \u001b[0mself\u001b[0m\u001b[1;33m.\u001b[0m\u001b[0mexecute_async\u001b[0m\u001b[1;33m(\u001b[0m\u001b[0mquery\u001b[0m\u001b[1;33m,\u001b[0m \u001b[0mparameters\u001b[0m\u001b[1;33m,\u001b[0m \u001b[0mtrace\u001b[0m\u001b[1;33m,\u001b[0m \u001b[0mcustom_payload\u001b[0m\u001b[1;33m,\u001b[0m \u001b[0mtimeout\u001b[0m\u001b[1;33m,\u001b[0m \u001b[0mexecution_profile\u001b[0m\u001b[1;33m,\u001b[0m \u001b[0mpaging_state\u001b[0m\u001b[1;33m,\u001b[0m \u001b[0mhost\u001b[0m\u001b[1;33m,\u001b[0m \u001b[0mexecute_as\u001b[0m\u001b[1;33m)\u001b[0m\u001b[1;33m.\u001b[0m\u001b[0mresult\u001b[0m\u001b[1;33m(\u001b[0m\u001b[1;33m)\u001b[0m\u001b[1;33m\u001b[0m\u001b[1;33m\u001b[0m\u001b[0m\n\u001b[0m\u001b[0;32m   2619\u001b[0m \u001b[1;33m\u001b[0m\u001b[0m\n\u001b[0;32m   2620\u001b[0m     def execute_async(self, query, parameters=None, trace=False, custom_payload=None,\n",
      "\u001b[1;32m~\\anaconda3\\lib\\site-packages\\cassandra\\cluster.py\u001b[0m in \u001b[0;36mresult\u001b[1;34m(self)\u001b[0m\n\u001b[0;32m   4892\u001b[0m             \u001b[1;32mreturn\u001b[0m \u001b[0mResultSet\u001b[0m\u001b[1;33m(\u001b[0m\u001b[0mself\u001b[0m\u001b[1;33m,\u001b[0m \u001b[0mself\u001b[0m\u001b[1;33m.\u001b[0m\u001b[0m_final_result\u001b[0m\u001b[1;33m)\u001b[0m\u001b[1;33m\u001b[0m\u001b[1;33m\u001b[0m\u001b[0m\n\u001b[0;32m   4893\u001b[0m         \u001b[1;32melse\u001b[0m\u001b[1;33m:\u001b[0m\u001b[1;33m\u001b[0m\u001b[1;33m\u001b[0m\u001b[0m\n\u001b[1;32m-> 4894\u001b[1;33m             \u001b[1;32mraise\u001b[0m \u001b[0mself\u001b[0m\u001b[1;33m.\u001b[0m\u001b[0m_final_exception\u001b[0m\u001b[1;33m\u001b[0m\u001b[1;33m\u001b[0m\u001b[0m\n\u001b[0m\u001b[0;32m   4895\u001b[0m \u001b[1;33m\u001b[0m\u001b[0m\n\u001b[0;32m   4896\u001b[0m     \u001b[1;32mdef\u001b[0m \u001b[0mget_query_trace_ids\u001b[0m\u001b[1;33m(\u001b[0m\u001b[0mself\u001b[0m\u001b[1;33m)\u001b[0m\u001b[1;33m:\u001b[0m\u001b[1;33m\u001b[0m\u001b[1;33m\u001b[0m\u001b[0m\n",
      "\u001b[1;31mSyntaxException\u001b[0m: <Error from server: code=2000 [Syntax error in CQL query] message=\"line 1:0 no viable alternative at input 'DESCRIBE' ([DESCRIBE]...)\">"
     ]
    }
   ],
   "source": [
    "#FOR CONNECTING TO CLOUD SYSTEM\n",
    "\n",
    "\n",
    "from cassandra.cluster import Cluster\n",
    "from cassandra.auth import PlainTextAuthProvider\n",
    "\n",
    "cloud_config= {\n",
    "        'secure_connect_bundle': 'C:\\secure-connect-test.zip'\n",
    "}\n",
    "auth_provider = PlainTextAuthProvider('IDNERMZjOsrpMCbjgRPADmYW', '_sCF8Ia.njY2wGTjFXd20YoJaYCR80lYkLcdBRfl51XHOpzkkvU,wdUBHhGsQ16CYyIKWZGtFxsMZELZtUyFzbhA-kPLBCe8oxkQeH.uaXvFU7H-41JeAebcZyjTn2t.')\n",
    "cluster = Cluster(cloud=cloud_config, auth_provider=auth_provider)\n",
    "session = cluster.connect()\n",
    "\n",
    "row = session.execute(\"DESCRIBE ineuron;\").one()\n",
    "print(row)\n",
    "\n",
    "    \n",
    "#####trying to get definition of database in the cloud  with jupyter nb"
   ]
  },
  {
   "cell_type": "markdown",
   "id": "92fd31a9",
   "metadata": {},
   "source": [
    "#####  we are getting errors in the above codes because of admin priveleges"
   ]
  },
  {
   "cell_type": "code",
   "execution_count": 18,
   "id": "89079df1",
   "metadata": {},
   "outputs": [
    {
     "name": "stdout",
     "output_type": "stream",
     "text": [
      "Row(keyspace_name='system_auth', durable_writes=True, graph_engine=None, replication=OrderedMapSerializedKey([('asia-south1', '3'), ('class', 'org.apache.cassandra.locator.NetworkTopologyStrategy')]))\n"
     ]
    }
   ],
   "source": [
    "#FOR CONNECTING TO CLOUD SYSTEM\n",
    "\n",
    "\n",
    "from cassandra.cluster import Cluster\n",
    "from cassandra.auth import PlainTextAuthProvider\n",
    "\n",
    "cloud_config= {\n",
    "        'secure_connect_bundle': 'C:\\secure-connect-test.zip'\n",
    "}\n",
    "auth_provider = PlainTextAuthProvider('IDNERMZjOsrpMCbjgRPADmYW', '_sCF8Ia.njY2wGTjFXd20YoJaYCR80lYkLcdBRfl51XHOpzkkvU,wdUBHhGsQ16CYyIKWZGtFxsMZELZtUyFzbhA-kPLBCe8oxkQeH.uaXvFU7H-41JeAebcZyjTn2t.')\n",
    "cluster = Cluster(cloud=cloud_config, auth_provider=auth_provider)\n",
    "session = cluster.connect()\n",
    "\n",
    "row = session.execute(\"SELECT * FROM system_schema.keyspaces;\").one()\n",
    "print(row)\n",
    "\n",
    "    \n",
    "#####trying to get definition of database in the cloud  with jupyter nb"
   ]
  },
  {
   "cell_type": "code",
   "execution_count": 21,
   "id": "377b3b3a",
   "metadata": {},
   "outputs": [
    {
     "name": "stdout",
     "output_type": "stream",
     "text": [
      "None\n"
     ]
    }
   ],
   "source": [
    "#FOR CONNECTING TO CLOUD SYSTEM\n",
    "\n",
    "\n",
    "from cassandra.cluster import Cluster\n",
    "from cassandra.auth import PlainTextAuthProvider\n",
    "\n",
    "cloud_config= {\n",
    "        'secure_connect_bundle': 'C:\\secure-connect-test.zip'\n",
    "}\n",
    "auth_provider = PlainTextAuthProvider('IDNERMZjOsrpMCbjgRPADmYW', '_sCF8Ia.njY2wGTjFXd20YoJaYCR80lYkLcdBRfl51XHOpzkkvU,wdUBHhGsQ16CYyIKWZGtFxsMZELZtUyFzbhA-kPLBCe8oxkQeH.uaXvFU7H-41JeAebcZyjTn2t.')\n",
    "cluster = Cluster(cloud=cloud_config, auth_provider=auth_provider)\n",
    "session = cluster.connect()\n",
    "\n",
    "row = session.execute(\"CREATE TABLE ineuron.emp(emp_id int PRIMARY KEY,emp_name text,emp_city text,emp_sal varint, emp_phone varint);\").one()\n",
    "print(row)\n",
    "\n",
    "    \n",
    "#####trying to create table in the database in the cloud  with jupyter nb\n",
    "#### syntax is keyspace.table.....i.e. database.table as same as mySQL"
   ]
  },
  {
   "cell_type": "code",
   "execution_count": 24,
   "id": "d65a7793",
   "metadata": {},
   "outputs": [
    {
     "name": "stdout",
     "output_type": "stream",
     "text": [
      "None\n"
     ]
    }
   ],
   "source": [
    "#FOR CONNECTING TO LOCAL SYSTEM\n",
    "\n",
    "\n",
    "from cassandra.cluster import Cluster\n",
    "cluster = Cluster()\n",
    "\n",
    "\n",
    "session_offline = cluster.connect()\n",
    "\n",
    "row = session_offline.execute(\"CREATE TABLE sudh1.emp(emp_id int PRIMARY KEY,emp_name text,emp_city text,emp_sal varint, emp_phone varint);\").one()\n",
    "print(row)\n",
    "\n",
    "    \n",
    "#####trying to create table in the database in the local  with jupyter nb\n",
    "#### syntax is keyspace.table.....i.e. database.table as same as mySQL"
   ]
  },
  {
   "cell_type": "code",
   "execution_count": 25,
   "id": "6d424057",
   "metadata": {},
   "outputs": [
    {
     "name": "stdout",
     "output_type": "stream",
     "text": [
      "<cassandra.cluster.ResultSet object at 0x0000024521EB96A0>\n"
     ]
    }
   ],
   "source": [
    "row = session_offline.execute(\"select * from sudh1.emp;\")\n",
    "print(row)"
   ]
  },
  {
   "cell_type": "code",
   "execution_count": 26,
   "id": "2743f59c",
   "metadata": {},
   "outputs": [],
   "source": [
    "row = session_offline.execute(\"select * from sudh1.emp;\")\n",
    "for i in row:\n",
    "    print(row)\n",
    "    \n",
    "## giving no output because no data has been inserted"
   ]
  },
  {
   "cell_type": "code",
   "execution_count": 27,
   "id": "01f784f8",
   "metadata": {},
   "outputs": [
    {
     "name": "stdout",
     "output_type": "stream",
     "text": [
      "None\n"
     ]
    }
   ],
   "source": [
    "#FOR CONNECTING TO LOCAL SYSTEM\n",
    "\n",
    "\n",
    "from cassandra.cluster import Cluster\n",
    "cluster = Cluster()\n",
    "\n",
    "\n",
    "session_offline = cluster.connect()\n",
    "\n",
    "row = session_offline.execute(\"INSERT INTO sudh1.emp1(emp_id, emp_name) values(345343446,344363456);\").one()\n",
    "print(row)\n",
    "\n",
    "    \n",
    "#####trying to INSERT RCORDS in the database in the local  with jupyter nb"
   ]
  },
  {
   "cell_type": "code",
   "execution_count": 29,
   "id": "95fcd0de",
   "metadata": {},
   "outputs": [],
   "source": [
    "session.execute(\"CREATE TABLE ineuron.emp1(emp_id int PRIMARY KEY,emp_name int);\").one()\n",
    "session.execute(\"INSERT INTO ineuron.emp1(emp_id, emp_name) values(345343446,344363456);\").one()\n",
    "\n",
    "#####trying to INSERT RCORDS in the database in the local  with jupyter nb"
   ]
  }
 ],
 "metadata": {
  "kernelspec": {
   "display_name": "Python 3 (ipykernel)",
   "language": "python",
   "name": "python3"
  },
  "language_info": {
   "codemirror_mode": {
    "name": "ipython",
    "version": 3
   },
   "file_extension": ".py",
   "mimetype": "text/x-python",
   "name": "python",
   "nbconvert_exporter": "python",
   "pygments_lexer": "ipython3",
   "version": "3.9.7"
  }
 },
 "nbformat": 4,
 "nbformat_minor": 5
}
