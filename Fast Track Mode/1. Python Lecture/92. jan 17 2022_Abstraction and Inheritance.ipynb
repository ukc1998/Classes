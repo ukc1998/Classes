{
 "cells": [
  {
   "cell_type": "code",
   "execution_count": 1,
   "id": "8167c874",
   "metadata": {},
   "outputs": [],
   "source": [
    "class test:\n",
    "    def __init__(self,a,b,c,d):\n",
    "        self.a=a\n",
    "        self.b=b\n",
    "        self.c=c\n",
    "        self.d=d\n",
    "        \n",
    "    def test_custom(self,v):\n",
    "        return v-self.a\n",
    "    \n",
    "    def __str__(self):\n",
    "        return \"this is my test code for abstraction\""
   ]
  },
  {
   "cell_type": "code",
   "execution_count": 2,
   "id": "bd9d2dd7",
   "metadata": {},
   "outputs": [],
   "source": [
    "object = test(4536,456,456,56)"
   ]
  },
  {
   "cell_type": "code",
   "execution_count": 3,
   "id": "acd41716",
   "metadata": {},
   "outputs": [
    {
     "data": {
      "text/plain": [
       "-4191"
      ]
     },
     "execution_count": 3,
     "metadata": {},
     "output_type": "execute_result"
    }
   ],
   "source": [
    "object.test_custom(345)"
   ]
  },
  {
   "cell_type": "code",
   "execution_count": 4,
   "id": "4858f0db",
   "metadata": {},
   "outputs": [
    {
     "name": "stdout",
     "output_type": "stream",
     "text": [
      "this is my test code for abstraction\n"
     ]
    }
   ],
   "source": [
    "print(object)"
   ]
  },
  {
   "cell_type": "code",
   "execution_count": 5,
   "id": "410a4a36",
   "metadata": {},
   "outputs": [],
   "source": [
    "class test:\n",
    "    def __init__(self,a,b,c,d):\n",
    "        self._a=a\n",
    "        self.b=b\n",
    "        self.c=c\n",
    "        self.d=d\n",
    "        \n",
    "    def test_custom(self,v):\n",
    "        return v-self.a\n",
    "    \n",
    "    def __str__(self):\n",
    "        return \"this is my test code for abstraction\""
   ]
  },
  {
   "cell_type": "code",
   "execution_count": 6,
   "id": "85aca86c",
   "metadata": {},
   "outputs": [],
   "source": [
    "object = test(4536,456,456,56)"
   ]
  },
  {
   "cell_type": "code",
   "execution_count": 7,
   "id": "ed7aeb62",
   "metadata": {},
   "outputs": [
    {
     "ename": "AttributeError",
     "evalue": "'test' object has no attribute 'a'",
     "output_type": "error",
     "traceback": [
      "\u001b[1;31m---------------------------------------------------------------------------\u001b[0m",
      "\u001b[1;31mAttributeError\u001b[0m                            Traceback (most recent call last)",
      "\u001b[1;32m~\\AppData\\Local\\Temp/ipykernel_604/749734602.py\u001b[0m in \u001b[0;36m<module>\u001b[1;34m\u001b[0m\n\u001b[1;32m----> 1\u001b[1;33m \u001b[0mobject\u001b[0m\u001b[1;33m.\u001b[0m\u001b[0mtest_custom\u001b[0m\u001b[1;33m(\u001b[0m\u001b[1;36m345\u001b[0m\u001b[1;33m)\u001b[0m\u001b[1;33m\u001b[0m\u001b[1;33m\u001b[0m\u001b[0m\n\u001b[0m",
      "\u001b[1;32m~\\AppData\\Local\\Temp/ipykernel_604/240969121.py\u001b[0m in \u001b[0;36mtest_custom\u001b[1;34m(self, v)\u001b[0m\n\u001b[0;32m      7\u001b[0m \u001b[1;33m\u001b[0m\u001b[0m\n\u001b[0;32m      8\u001b[0m     \u001b[1;32mdef\u001b[0m \u001b[0mtest_custom\u001b[0m\u001b[1;33m(\u001b[0m\u001b[0mself\u001b[0m\u001b[1;33m,\u001b[0m\u001b[0mv\u001b[0m\u001b[1;33m)\u001b[0m\u001b[1;33m:\u001b[0m\u001b[1;33m\u001b[0m\u001b[1;33m\u001b[0m\u001b[0m\n\u001b[1;32m----> 9\u001b[1;33m         \u001b[1;32mreturn\u001b[0m \u001b[0mv\u001b[0m\u001b[1;33m-\u001b[0m\u001b[0mself\u001b[0m\u001b[1;33m.\u001b[0m\u001b[0ma\u001b[0m\u001b[1;33m\u001b[0m\u001b[1;33m\u001b[0m\u001b[0m\n\u001b[0m\u001b[0;32m     10\u001b[0m \u001b[1;33m\u001b[0m\u001b[0m\n\u001b[0;32m     11\u001b[0m     \u001b[1;32mdef\u001b[0m \u001b[0m__str__\u001b[0m\u001b[1;33m(\u001b[0m\u001b[0mself\u001b[0m\u001b[1;33m)\u001b[0m\u001b[1;33m:\u001b[0m\u001b[1;33m\u001b[0m\u001b[1;33m\u001b[0m\u001b[0m\n",
      "\u001b[1;31mAttributeError\u001b[0m: 'test' object has no attribute 'a'"
     ]
    }
   ],
   "source": [
    "object.test_custom(345)"
   ]
  },
  {
   "cell_type": "code",
   "execution_count": 8,
   "id": "3fe32135",
   "metadata": {},
   "outputs": [],
   "source": [
    "class test:\n",
    "    def __init__(self,a,b,c,d):\n",
    "        self._a=a\n",
    "        self.b=b\n",
    "        self.c=c\n",
    "        self.d=d\n",
    "        \n",
    "    def test_custom(self,v):\n",
    "        return v-self._a\n",
    "    \n",
    "    def __str__(self):\n",
    "        return \"this is my test code for abstraction\""
   ]
  },
  {
   "cell_type": "code",
   "execution_count": 9,
   "id": "c6ad09ab",
   "metadata": {},
   "outputs": [],
   "source": [
    "object = test(4536,456,456,56)"
   ]
  },
  {
   "cell_type": "code",
   "execution_count": 10,
   "id": "800b7ac1",
   "metadata": {},
   "outputs": [
    {
     "data": {
      "text/plain": [
       "-4191"
      ]
     },
     "execution_count": 10,
     "metadata": {},
     "output_type": "execute_result"
    }
   ],
   "source": [
    "object.test_custom(345)"
   ]
  },
  {
   "cell_type": "code",
   "execution_count": 11,
   "id": "0d59914e",
   "metadata": {},
   "outputs": [
    {
     "name": "stdout",
     "output_type": "stream",
     "text": [
      "The Zen of Python, by Tim Peters\n",
      "\n",
      "Beautiful is better than ugly.\n",
      "Explicit is better than implicit.\n",
      "Simple is better than complex.\n",
      "Complex is better than complicated.\n",
      "Flat is better than nested.\n",
      "Sparse is better than dense.\n",
      "Readability counts.\n",
      "Special cases aren't special enough to break the rules.\n",
      "Although practicality beats purity.\n",
      "Errors should never pass silently.\n",
      "Unless explicitly silenced.\n",
      "In the face of ambiguity, refuse the temptation to guess.\n",
      "There should be one-- and preferably only one --obvious way to do it.\n",
      "Although that way may not be obvious at first unless you're Dutch.\n",
      "Now is better than never.\n",
      "Although never is often better than *right* now.\n",
      "If the implementation is hard to explain, it's a bad idea.\n",
      "If the implementation is easy to explain, it may be a good idea.\n",
      "Namespaces are one honking great idea -- let's do more of those!\n"
     ]
    }
   ],
   "source": [
    "import this"
   ]
  },
  {
   "cell_type": "code",
   "execution_count": 12,
   "id": "e70e5ba3",
   "metadata": {},
   "outputs": [
    {
     "ename": "AttributeError",
     "evalue": "'test' object has no attribute 'a'",
     "output_type": "error",
     "traceback": [
      "\u001b[1;31m---------------------------------------------------------------------------\u001b[0m",
      "\u001b[1;31mAttributeError\u001b[0m                            Traceback (most recent call last)",
      "\u001b[1;32m~\\AppData\\Local\\Temp/ipykernel_604/2763421941.py\u001b[0m in \u001b[0;36m<module>\u001b[1;34m\u001b[0m\n\u001b[1;32m----> 1\u001b[1;33m \u001b[0mobject\u001b[0m\u001b[1;33m.\u001b[0m\u001b[0ma\u001b[0m\u001b[1;33m\u001b[0m\u001b[1;33m\u001b[0m\u001b[0m\n\u001b[0m",
      "\u001b[1;31mAttributeError\u001b[0m: 'test' object has no attribute 'a'"
     ]
    }
   ],
   "source": [
    "object.a"
   ]
  },
  {
   "cell_type": "code",
   "execution_count": 13,
   "id": "98e41569",
   "metadata": {},
   "outputs": [
    {
     "data": {
      "text/plain": [
       "4536"
      ]
     },
     "execution_count": 13,
     "metadata": {},
     "output_type": "execute_result"
    }
   ],
   "source": [
    "object._a"
   ]
  },
  {
   "cell_type": "code",
   "execution_count": 14,
   "id": "d4b17294",
   "metadata": {},
   "outputs": [],
   "source": [
    "class test:\n",
    "    def __init__(self,a,b,c,d):\n",
    "        self.__a=a\n",
    "        self.b=b\n",
    "        self.c=c\n",
    "        self.d=d\n",
    "        \n",
    "    def test_custom(self,v):\n",
    "        return v-self.__a\n",
    "    \n",
    "    def __str__(self):\n",
    "        return \"this is my test code for abstraction\""
   ]
  },
  {
   "cell_type": "code",
   "execution_count": 15,
   "id": "e872d804",
   "metadata": {},
   "outputs": [],
   "source": [
    "object = test(4536,456,456,56)"
   ]
  },
  {
   "cell_type": "code",
   "execution_count": 16,
   "id": "17c7d726",
   "metadata": {},
   "outputs": [
    {
     "data": {
      "text/plain": [
       "-4191"
      ]
     },
     "execution_count": 16,
     "metadata": {},
     "output_type": "execute_result"
    }
   ],
   "source": [
    "object.test_custom(345)"
   ]
  },
  {
   "cell_type": "code",
   "execution_count": 17,
   "id": "4d6b5143",
   "metadata": {},
   "outputs": [
    {
     "ename": "AttributeError",
     "evalue": "'test' object has no attribute '__a'",
     "output_type": "error",
     "traceback": [
      "\u001b[1;31m---------------------------------------------------------------------------\u001b[0m",
      "\u001b[1;31mAttributeError\u001b[0m                            Traceback (most recent call last)",
      "\u001b[1;32m~\\AppData\\Local\\Temp/ipykernel_604/3860886589.py\u001b[0m in \u001b[0;36m<module>\u001b[1;34m\u001b[0m\n\u001b[1;32m----> 1\u001b[1;33m \u001b[0mobject\u001b[0m\u001b[1;33m.\u001b[0m\u001b[0m__a\u001b[0m\u001b[1;33m\u001b[0m\u001b[1;33m\u001b[0m\u001b[0m\n\u001b[0m",
      "\u001b[1;31mAttributeError\u001b[0m: 'test' object has no attribute '__a'"
     ]
    }
   ],
   "source": [
    "object.__a #trying to call outside"
   ]
  },
  {
   "cell_type": "code",
   "execution_count": 18,
   "id": "39caf98a",
   "metadata": {},
   "outputs": [
    {
     "data": {
      "text/plain": [
       "4536"
      ]
     },
     "execution_count": 18,
     "metadata": {},
     "output_type": "execute_result"
    }
   ],
   "source": [
    "object._test__a #way to call "
   ]
  },
  {
   "cell_type": "code",
   "execution_count": 24,
   "id": "4b1429d0",
   "metadata": {},
   "outputs": [
    {
     "data": {
      "text/plain": [
       "6"
      ]
     },
     "execution_count": 24,
     "metadata": {},
     "output_type": "execute_result"
    }
   ],
   "source": [
    "class test1(test):\n",
    "     def __init__(self, j, *args):\n",
    "            super(test1,self).__init__(*args)\n",
    "            self.j = j\n",
    "            \n",
    "variable_or_an_object_class1 = test1(4,5,6,7,8)\n",
    "variable_or_an_object_class1.b"
   ]
  },
  {
   "cell_type": "code",
   "execution_count": 25,
   "id": "9f513d1f",
   "metadata": {},
   "outputs": [
    {
     "data": {
      "text/plain": [
       "6"
      ]
     },
     "execution_count": 25,
     "metadata": {},
     "output_type": "execute_result"
    }
   ],
   "source": [
    "class test1(test):\n",
    "     def __init__(self, j, *args):\n",
    "            super(test1,self).__init__(*args)\n",
    "            self.j = j\n",
    "            \n",
    "variable_or_an_object_class1 = test1(4,5,6,7,8)\n",
    "variable_or_an_object_class1.b"
   ]
  },
  {
   "cell_type": "code",
   "execution_count": 26,
   "id": "202e37d8",
   "metadata": {},
   "outputs": [
    {
     "data": {
      "text/plain": [
       "4"
      ]
     },
     "execution_count": 26,
     "metadata": {},
     "output_type": "execute_result"
    }
   ],
   "source": [
    "variable_or_an_object_class1.j"
   ]
  },
  {
   "cell_type": "code",
   "execution_count": 27,
   "id": "9f7b6f20",
   "metadata": {},
   "outputs": [
    {
     "data": {
      "text/plain": [
       "3"
      ]
     },
     "execution_count": 27,
     "metadata": {},
     "output_type": "execute_result"
    }
   ],
   "source": [
    "variable_or_an_object_class1.test_custom(8)"
   ]
  },
  {
   "cell_type": "code",
   "execution_count": 29,
   "id": "6c95609e",
   "metadata": {},
   "outputs": [
    {
     "data": {
      "text/plain": [
       "6"
      ]
     },
     "execution_count": 29,
     "metadata": {},
     "output_type": "execute_result"
    }
   ],
   "source": [
    "variable_or_an_object_class1.b"
   ]
  },
  {
   "cell_type": "code",
   "execution_count": 30,
   "id": "b6b6ca1d",
   "metadata": {},
   "outputs": [
    {
     "data": {
      "text/plain": [
       "7"
      ]
     },
     "execution_count": 30,
     "metadata": {},
     "output_type": "execute_result"
    }
   ],
   "source": [
    "variable_or_an_object_class1.c"
   ]
  },
  {
   "cell_type": "code",
   "execution_count": 31,
   "id": "ebf51299",
   "metadata": {},
   "outputs": [
    {
     "data": {
      "text/plain": [
       "8"
      ]
     },
     "execution_count": 31,
     "metadata": {},
     "output_type": "execute_result"
    }
   ],
   "source": [
    "variable_or_an_object_class1.d"
   ]
  },
  {
   "cell_type": "code",
   "execution_count": 32,
   "id": "66b40c07",
   "metadata": {},
   "outputs": [
    {
     "ename": "AttributeError",
     "evalue": "'test1' object has no attribute 'a'",
     "output_type": "error",
     "traceback": [
      "\u001b[1;31m---------------------------------------------------------------------------\u001b[0m",
      "\u001b[1;31mAttributeError\u001b[0m                            Traceback (most recent call last)",
      "\u001b[1;32m~\\AppData\\Local\\Temp/ipykernel_604/1605502182.py\u001b[0m in \u001b[0;36m<module>\u001b[1;34m\u001b[0m\n\u001b[1;32m----> 1\u001b[1;33m \u001b[0mvariable_or_an_object_class1\u001b[0m\u001b[1;33m.\u001b[0m\u001b[0ma\u001b[0m\u001b[1;33m\u001b[0m\u001b[1;33m\u001b[0m\u001b[0m\n\u001b[0m",
      "\u001b[1;31mAttributeError\u001b[0m: 'test1' object has no attribute 'a'"
     ]
    }
   ],
   "source": [
    "variable_or_an_object_class1.a"
   ]
  },
  {
   "cell_type": "code",
   "execution_count": 33,
   "id": "1b9cdd20",
   "metadata": {},
   "outputs": [
    {
     "ename": "AttributeError",
     "evalue": "'test1' object has no attribute '__a'",
     "output_type": "error",
     "traceback": [
      "\u001b[1;31m---------------------------------------------------------------------------\u001b[0m",
      "\u001b[1;31mAttributeError\u001b[0m                            Traceback (most recent call last)",
      "\u001b[1;32m~\\AppData\\Local\\Temp/ipykernel_604/50663162.py\u001b[0m in \u001b[0;36m<module>\u001b[1;34m\u001b[0m\n\u001b[1;32m----> 1\u001b[1;33m \u001b[0mvariable_or_an_object_class1\u001b[0m\u001b[1;33m.\u001b[0m\u001b[0m__a\u001b[0m\u001b[1;33m\u001b[0m\u001b[1;33m\u001b[0m\u001b[0m\n\u001b[0m",
      "\u001b[1;31mAttributeError\u001b[0m: 'test1' object has no attribute '__a'"
     ]
    }
   ],
   "source": [
    "variable_or_an_object_class1.__a"
   ]
  },
  {
   "cell_type": "code",
   "execution_count": 34,
   "id": "f126dc8c",
   "metadata": {},
   "outputs": [
    {
     "data": {
      "text/plain": [
       "5"
      ]
     },
     "execution_count": 34,
     "metadata": {},
     "output_type": "execute_result"
    }
   ],
   "source": [
    "variable_or_an_object_class1._test__a"
   ]
  },
  {
   "cell_type": "code",
   "execution_count": 11,
   "id": "fdcb34a7",
   "metadata": {},
   "outputs": [
    {
     "name": "stdout",
     "output_type": "stream",
     "text": [
      "it is a function a of class test\n",
      "it is a function a of class test1\n"
     ]
    }
   ],
   "source": [
    "class test:\n",
    "    def a(self):\n",
    "        print(\"it is a function a of class test\")\n",
    "class test1:\n",
    "    def a(self):\n",
    "        print(\"it is a function a of class test1\")\n",
    "class test2(test, test1):\n",
    "    t = test()\n",
    "    t.a()\n",
    "    t1 = test1()\n",
    "    t1.a()\n",
    "    #print(\"It is a test2 class\")\n",
    "t2 = test2()"
   ]
  },
  {
   "cell_type": "code",
   "execution_count": 12,
   "id": "7f5b6931",
   "metadata": {},
   "outputs": [
    {
     "name": "stdout",
     "output_type": "stream",
     "text": [
      "it is a function a of class test\n",
      "it is a function a of class test1\n"
     ]
    }
   ],
   "source": [
    "class test:\n",
    "    def a(self):\n",
    "        print(\"it is a function a of class test\")\n",
    "class test1:\n",
    "    def a(self):\n",
    "        print(\"it is a function a of class test1\")\n",
    "class test2(test, test1):\n",
    "    def cccc(self):\n",
    "        test.a(self)\n",
    "        test1.a(self)\n",
    "\n",
    "t2 = test2()\n",
    "t2.cccc()"
   ]
  },
  {
   "cell_type": "code",
   "execution_count": 13,
   "id": "94821efc",
   "metadata": {},
   "outputs": [
    {
     "name": "stdout",
     "output_type": "stream",
     "text": [
      "it is a function a of class test\n"
     ]
    }
   ],
   "source": [
    "t2.a()"
   ]
  },
  {
   "cell_type": "code",
   "execution_count": 14,
   "id": "e241a342",
   "metadata": {},
   "outputs": [
    {
     "name": "stdout",
     "output_type": "stream",
     "text": [
      "it is a function a of class test\n",
      "it is a function a of class test1\n"
     ]
    }
   ],
   "source": [
    "class test:\n",
    "    def a(self):\n",
    "        print(\"it is a function a of class test\")\n",
    "class test1:\n",
    "    def a(self):\n",
    "        print(\"it is a function a of class test1\")\n",
    "class test2():\n",
    "    def cccc(self):\n",
    "        test.a(self)\n",
    "        test1.a(self)\n",
    "\n",
    "t2 = test2()\n",
    "t2.cccc()"
   ]
  },
  {
   "cell_type": "code",
   "execution_count": 15,
   "id": "c37440ce",
   "metadata": {},
   "outputs": [],
   "source": [
    "class test:\n",
    "    def a(self):\n",
    "        print(\"it is a function a of class test\")\n",
    "class test1:\n",
    "    def a(self):\n",
    "        print(\"it is a function a of class test1\")\n",
    "class test2([test, test1]):\n",
    "    def cccc(self):\n",
    "        super(self).a()\n",
    "\n",
    "\n",
    "t2 = test2()"
   ]
  },
  {
   "cell_type": "code",
   "execution_count": 16,
   "id": "1e7a15bf",
   "metadata": {},
   "outputs": [
    {
     "name": "stdout",
     "output_type": "stream",
     "text": [
      "it is a function a of class test\n"
     ]
    }
   ],
   "source": [
    "t2.a()"
   ]
  },
  {
   "cell_type": "code",
   "execution_count": 18,
   "id": "f4a3617c",
   "metadata": {},
   "outputs": [],
   "source": [
    "#incaptulation"
   ]
  },
  {
   "cell_type": "code",
   "execution_count": 35,
   "id": "010ed922",
   "metadata": {},
   "outputs": [],
   "source": [
    "class test:\n",
    "    def __init__(self,a,b,c):\n",
    "        self.a=a\n",
    "        self.b=b\n",
    "        self.c=c\n",
    "        \n",
    "    def __str__(self):\n",
    "        return \"this is the return from my test class\"\n",
    "\n",
    "class test1:\n",
    "    def __init__(self,a,b,c):\n",
    "        self.a=a\n",
    "        self.b=b\n",
    "        self.c=c\n",
    "        \n",
    "    def __str__(self):\n",
    "        return \"this is the return from my test1 class\"\n",
    "\n",
    "class test2:\n",
    "    def __init__(self,p,q,r):\n",
    "        self.p=p\n",
    "        self.q=q\n",
    "        self.r=r\n",
    "        \n",
    "    def __str__(self):\n",
    "        return \"this is the return from my test2 class\"\n",
    "    \n",
    "class final:\n",
    "    def __init__(self,x,y,z):\n",
    "        self.x=x\n",
    "        self.y=y\n",
    "        self.z=z\n",
    "        \n",
    "    def __str__(self):\n",
    "        return \"this is the return from my final class:  \"+ str(self.x) + str(self.y) + str(self.z)"
   ]
  },
  {
   "cell_type": "code",
   "execution_count": 36,
   "id": "41f94564",
   "metadata": {},
   "outputs": [],
   "source": [
    "t = test(4,5,6)\n",
    "t1= test1(3,4,5)\n",
    "t2 = test2(5,6,7)\n",
    "f=final(t,t1,t2)"
   ]
  },
  {
   "cell_type": "code",
   "execution_count": 37,
   "id": "303acf40",
   "metadata": {},
   "outputs": [
    {
     "name": "stdout",
     "output_type": "stream",
     "text": [
      "this is the return from my final class:  this is the return from my test classthis is the return from my test1 classthis is the return from my test2 class\n"
     ]
    }
   ],
   "source": [
    "print(f)"
   ]
  },
  {
   "cell_type": "code",
   "execution_count": 39,
   "id": "d24b2a16",
   "metadata": {},
   "outputs": [],
   "source": [
    "class test:\n",
    "    def __init__(self,a,b,c):\n",
    "        self.a=a\n",
    "        self.b=b\n",
    "        self.c=c\n",
    "        \n",
    "    def __str__(self):\n",
    "        return \"this is the return from my test class\"\n",
    "\n",
    "class test1:\n",
    "    def __init__(self,a,b,c):\n",
    "        self.a=a\n",
    "        self.b=b\n",
    "        self.c=c\n",
    "        \n",
    "    def __str__(self):\n",
    "        return \"this is the return from my test1 class\"\n",
    "\n",
    "class test2:\n",
    "    def __init__(self,p,q,r):\n",
    "        self.p=p\n",
    "        self.q=q\n",
    "        self.r=r\n",
    "        \n",
    "    def __str__(self):\n",
    "        return \"this is the return from my test2 class\"\n",
    "    \n",
    "class final:\n",
    "    def __init__(self,x,y,z):\n",
    "        self.x=x\n",
    "        self.y=y\n",
    "        self.z=z\n",
    "        \n",
    "    def __str__(self):\n",
    "        return \"this is the return from my final class:  \"+ str(self.x) + str(self.y) + str(self.z)"
   ]
  },
  {
   "cell_type": "code",
   "execution_count": 40,
   "id": "1bd8d515",
   "metadata": {},
   "outputs": [],
   "source": [
    "t = test(4,5,6)\n",
    "t1= test1(3,4,5)\n",
    "t2 = test2(5,6,7)\n",
    "f=final(t,t1,\"sudh\")"
   ]
  },
  {
   "cell_type": "code",
   "execution_count": 41,
   "id": "a7b0621e",
   "metadata": {},
   "outputs": [
    {
     "name": "stdout",
     "output_type": "stream",
     "text": [
      "this is the return from my final class:  this is the return from my test classthis is the return from my test1 classsudh\n"
     ]
    }
   ],
   "source": [
    "print(f)"
   ]
  },
  {
   "cell_type": "code",
   "execution_count": null,
   "id": "67d268e3",
   "metadata": {},
   "outputs": [],
   "source": []
  }
 ],
 "metadata": {
  "kernelspec": {
   "display_name": "Python 3 (ipykernel)",
   "language": "python",
   "name": "python3"
  },
  "language_info": {
   "codemirror_mode": {
    "name": "ipython",
    "version": 3
   },
   "file_extension": ".py",
   "mimetype": "text/x-python",
   "name": "python",
   "nbconvert_exporter": "python",
   "pygments_lexer": "ipython3",
   "version": "3.9.7"
  }
 },
 "nbformat": 4,
 "nbformat_minor": 5
}
