{
 "cells": [
  {
   "cell_type": "code",
   "execution_count": 1,
   "id": "3b10359f",
   "metadata": {},
   "outputs": [
    {
     "data": {
      "text/plain": [
       "'C:\\\\Users\\\\Utkarsh'"
      ]
     },
     "execution_count": 1,
     "metadata": {},
     "output_type": "execute_result"
    }
   ],
   "source": [
    "pwd()"
   ]
  },
  {
   "cell_type": "code",
   "execution_count": 2,
   "id": "53ec158f",
   "metadata": {},
   "outputs": [],
   "source": [
    "import os"
   ]
  },
  {
   "cell_type": "code",
   "execution_count": 3,
   "id": "af1d67f3",
   "metadata": {},
   "outputs": [],
   "source": [
    "os.mkdir(\"debugging\")"
   ]
  },
  {
   "cell_type": "code",
   "execution_count": 4,
   "id": "a1f43149",
   "metadata": {},
   "outputs": [],
   "source": [
    "os.chdir(os.getcwd() + \"\\\\\" + \"debugging\")"
   ]
  },
  {
   "cell_type": "code",
   "execution_count": 5,
   "id": "d1166199",
   "metadata": {},
   "outputs": [
    {
     "data": {
      "text/plain": [
       "'C:\\\\Users\\\\Utkarsh\\\\debugging'"
      ]
     },
     "execution_count": 5,
     "metadata": {},
     "output_type": "execute_result"
    }
   ],
   "source": [
    "pwd()"
   ]
  },
  {
   "cell_type": "code",
   "execution_count": 6,
   "id": "c742bfcc",
   "metadata": {},
   "outputs": [
    {
     "data": {
      "text/plain": [
       "'C:\\\\Users\\\\Utkarsh\\\\debugging'"
      ]
     },
     "execution_count": 6,
     "metadata": {},
     "output_type": "execute_result"
    }
   ],
   "source": [
    "os.getcwd()"
   ]
  },
  {
   "cell_type": "code",
   "execution_count": 7,
   "id": "85480cb3",
   "metadata": {},
   "outputs": [],
   "source": [
    "def testdebug():\n",
    "    l=[]\n",
    "    for i in range(10):\n",
    "        l.append(i)\n",
    "        print(\"we have appended your data in the created list\")\n",
    "    return l"
   ]
  },
  {
   "cell_type": "code",
   "execution_count": 8,
   "id": "96b1a480",
   "metadata": {},
   "outputs": [
    {
     "name": "stdout",
     "output_type": "stream",
     "text": [
      "we have appended your data in the created list\n",
      "we have appended your data in the created list\n",
      "we have appended your data in the created list\n",
      "we have appended your data in the created list\n",
      "we have appended your data in the created list\n",
      "we have appended your data in the created list\n",
      "we have appended your data in the created list\n",
      "we have appended your data in the created list\n",
      "we have appended your data in the created list\n",
      "we have appended your data in the created list\n"
     ]
    },
    {
     "data": {
      "text/plain": [
       "[0, 1, 2, 3, 4, 5, 6, 7, 8, 9]"
      ]
     },
     "execution_count": 8,
     "metadata": {},
     "output_type": "execute_result"
    }
   ],
   "source": [
    "testdebug()"
   ]
  },
  {
   "cell_type": "code",
   "execution_count": 9,
   "id": "4d1ad906",
   "metadata": {},
   "outputs": [],
   "source": [
    "import ipdb"
   ]
  },
  {
   "cell_type": "code",
   "execution_count": 11,
   "id": "09fc74f8",
   "metadata": {},
   "outputs": [
    {
     "name": "stdout",
     "output_type": "stream",
     "text": [
      "Collecting ipdb\n",
      "  Downloading ipdb-0.13.9.tar.gz (16 kB)\n",
      "Requirement already satisfied: setuptools in c:\\users\\utkarsh\\anaconda3\\lib\\site-packages (from ipdb) (58.0.4)\n",
      "Requirement already satisfied: ipython>=7.17.0 in c:\\users\\utkarsh\\anaconda3\\lib\\site-packages (from ipdb) (7.29.0)\n",
      "Requirement already satisfied: toml>=0.10.2 in c:\\users\\utkarsh\\anaconda3\\lib\\site-packages (from ipdb) (0.10.2)\n",
      "Requirement already satisfied: decorator in c:\\users\\utkarsh\\anaconda3\\lib\\site-packages (from ipdb) (5.1.0)\n",
      "Requirement already satisfied: matplotlib-inline in c:\\users\\utkarsh\\anaconda3\\lib\\site-packages (from ipython>=7.17.0->ipdb) (0.1.2)\n",
      "Requirement already satisfied: jedi>=0.16 in c:\\users\\utkarsh\\anaconda3\\lib\\site-packages (from ipython>=7.17.0->ipdb) (0.18.0)\n",
      "Requirement already satisfied: traitlets>=4.2 in c:\\users\\utkarsh\\anaconda3\\lib\\site-packages (from ipython>=7.17.0->ipdb) (5.1.0)\n",
      "Requirement already satisfied: backcall in c:\\users\\utkarsh\\anaconda3\\lib\\site-packages (from ipython>=7.17.0->ipdb) (0.2.0)\n",
      "Requirement already satisfied: pickleshare in c:\\users\\utkarsh\\anaconda3\\lib\\site-packages (from ipython>=7.17.0->ipdb) (0.7.5)\n",
      "Requirement already satisfied: colorama in c:\\users\\utkarsh\\anaconda3\\lib\\site-packages (from ipython>=7.17.0->ipdb) (0.4.4)\n",
      "Requirement already satisfied: prompt-toolkit!=3.0.0,!=3.0.1,<3.1.0,>=2.0.0 in c:\\users\\utkarsh\\anaconda3\\lib\\site-packages (from ipython>=7.17.0->ipdb) (3.0.20)\n",
      "Requirement already satisfied: pygments in c:\\users\\utkarsh\\anaconda3\\lib\\site-packages (from ipython>=7.17.0->ipdb) (2.10.0)\n",
      "Requirement already satisfied: parso<0.9.0,>=0.8.0 in c:\\users\\utkarsh\\anaconda3\\lib\\site-packages (from jedi>=0.16->ipython>=7.17.0->ipdb) (0.8.2)\n",
      "Requirement already satisfied: wcwidth in c:\\users\\utkarsh\\anaconda3\\lib\\site-packages (from prompt-toolkit!=3.0.0,!=3.0.1,<3.1.0,>=2.0.0->ipython>=7.17.0->ipdb) (0.2.5)\n",
      "Building wheels for collected packages: ipdb\n",
      "  Building wheel for ipdb (setup.py): started\n",
      "  Building wheel for ipdb (setup.py): finished with status 'done'\n",
      "  Created wheel for ipdb: filename=ipdb-0.13.9-py3-none-any.whl size=11648 sha256=7a4a03c63f1fb7751d196f688795e81efa0969218db42ec17c24b4157c02afd9\n",
      "  Stored in directory: c:\\users\\utkarsh\\appdata\\local\\pip\\cache\\wheels\\f7\\29\\9a\\cf774cd86e9802f075a0be1c9e0830bc062d07897b2e9e87cd\n",
      "Successfully built ipdb\n",
      "Installing collected packages: ipdb\n",
      "Successfully installed ipdb-0.13.9\n"
     ]
    }
   ],
   "source": [
    "!pip install ipdb"
   ]
  },
  {
   "cell_type": "code",
   "execution_count": 2,
   "id": "7cef83e8",
   "metadata": {},
   "outputs": [],
   "source": [
    "import ipdb"
   ]
  },
  {
   "cell_type": "code",
   "execution_count": 10,
   "id": "51519d7e",
   "metadata": {},
   "outputs": [],
   "source": [
    "def testdebug():\n",
    "    ipdb.set_trace()\n",
    "    l=[]\n",
    "    for i in range(10):\n",
    "        l.append(i)\n",
    "        print(\"we have appended your data in the created list\")\n",
    "    return l"
   ]
  },
  {
   "cell_type": "code",
   "execution_count": 11,
   "id": "c17a3dee",
   "metadata": {},
   "outputs": [
    {
     "name": "stdout",
     "output_type": "stream",
     "text": [
      "> \u001b[1;32mc:\\users\\utkarsh\\appdata\\local\\temp\\ipykernel_5476\\1381027099.py\u001b[0m(3)\u001b[0;36mtestdebug\u001b[1;34m()\u001b[0m\n",
      "\n",
      "ipdb> h\n",
      "\n",
      "Documented commands (type help <topic>):\n",
      "========================================\n",
      "EOF    commands   enable    ll        pp       s                until \n",
      "a      condition  exit      longlist  psource  skip_hidden      up    \n",
      "alias  cont       h         n         q        skip_predicates  w     \n",
      "args   context    help      next      quit     source           whatis\n",
      "b      continue   ignore    p         r        step             where \n",
      "break  d          interact  pdef      restart  tbreak         \n",
      "bt     debug      j         pdoc      return   u              \n",
      "c      disable    jump      pfile     retval   unalias        \n",
      "cl     display    l         pinfo     run      undisplay      \n",
      "clear  down       list      pinfo2    rv       unt            \n",
      "\n",
      "Miscellaneous help topics:\n",
      "==========================\n",
      "exec  pdb\n",
      "\n",
      "ipdb> next\n",
      "> \u001b[1;32mc:\\users\\utkarsh\\appdata\\local\\temp\\ipykernel_5476\\1381027099.py\u001b[0m(4)\u001b[0;36mtestdebug\u001b[1;34m()\u001b[0m\n",
      "\n",
      "ipdb> next\n",
      "> \u001b[1;32mc:\\users\\utkarsh\\appdata\\local\\temp\\ipykernel_5476\\1381027099.py\u001b[0m(5)\u001b[0;36mtestdebug\u001b[1;34m()\u001b[0m\n",
      "\n",
      "ipdb> next\n",
      "> \u001b[1;32mc:\\users\\utkarsh\\appdata\\local\\temp\\ipykernel_5476\\1381027099.py\u001b[0m(6)\u001b[0;36mtestdebug\u001b[1;34m()\u001b[0m\n",
      "\n",
      "ipdb> next\n",
      "we have appended your data in the created list\n",
      "> \u001b[1;32mc:\\users\\utkarsh\\appdata\\local\\temp\\ipykernel_5476\\1381027099.py\u001b[0m(4)\u001b[0;36mtestdebug\u001b[1;34m()\u001b[0m\n",
      "\n",
      "ipdb> i\n",
      "0\n",
      "ipdb> i=9\n",
      "ipdb> next\n",
      "> \u001b[1;32mc:\\users\\utkarsh\\appdata\\local\\temp\\ipykernel_5476\\1381027099.py\u001b[0m(5)\u001b[0;36mtestdebug\u001b[1;34m()\u001b[0m\n",
      "\n",
      "ipdb> i\n",
      "1\n",
      "ipdb> i==9\n",
      "False\n",
      "ipdb> i==1\n",
      "True\n",
      "ipdb> help\n",
      "\n",
      "Documented commands (type help <topic>):\n",
      "========================================\n",
      "EOF    commands   enable    ll        pp       s                until \n",
      "a      condition  exit      longlist  psource  skip_hidden      up    \n",
      "alias  cont       h         n         q        skip_predicates  w     \n",
      "args   context    help      next      quit     source           whatis\n",
      "b      continue   ignore    p         r        step             where \n",
      "break  d          interact  pdef      restart  tbreak         \n",
      "bt     debug      j         pdoc      return   u              \n",
      "c      disable    jump      pfile     retval   unalias        \n",
      "cl     display    l         pinfo     run      undisplay      \n",
      "clear  down       list      pinfo2    rv       unt            \n",
      "\n",
      "Miscellaneous help topics:\n",
      "==========================\n",
      "exec  pdb\n",
      "\n",
      "ipdb> help <jump>\n",
      "*** No help for '<jump>'\n",
      "ipdb> help jump\n",
      "j(ump) lineno\n",
      "        Set the next line that will be executed.  Only available in\n",
      "        the bottom-most frame.  This lets you jump back and execute\n",
      "        code again, or jump forward to skip code that you don't want\n",
      "        to run.\n",
      "\n",
      "        It should be noted that not all jumps are allowed -- for\n",
      "        instance it is not possible to jump into the middle of a\n",
      "        for loop or out of a finally clause.\n",
      "ipdb> next\n",
      "> \u001b[1;32mc:\\users\\utkarsh\\appdata\\local\\temp\\ipykernel_5476\\1381027099.py\u001b[0m(6)\u001b[0;36mtestdebug\u001b[1;34m()\u001b[0m\n",
      "\n",
      "ipdb> i\n",
      "1\n",
      "ipdb> i=8\n",
      "ipdb> i\n",
      "8\n",
      "ipdb> next\n",
      "we have appended your data in the created list\n",
      "> \u001b[1;32mc:\\users\\utkarsh\\appdata\\local\\temp\\ipykernel_5476\\1381027099.py\u001b[0m(4)\u001b[0;36mtestdebug\u001b[1;34m()\u001b[0m\n",
      "\n",
      "ipdb> next\n",
      "> \u001b[1;32mc:\\users\\utkarsh\\appdata\\local\\temp\\ipykernel_5476\\1381027099.py\u001b[0m(5)\u001b[0;36mtestdebug\u001b[1;34m()\u001b[0m\n",
      "\n",
      "ipdb> next\n",
      "> \u001b[1;32mc:\\users\\utkarsh\\appdata\\local\\temp\\ipykernel_5476\\1381027099.py\u001b[0m(6)\u001b[0;36mtestdebug\u001b[1;34m()\u001b[0m\n",
      "\n",
      "ipdb> next\n",
      "we have appended your data in the created list\n",
      "> \u001b[1;32mc:\\users\\utkarsh\\appdata\\local\\temp\\ipykernel_5476\\1381027099.py\u001b[0m(4)\u001b[0;36mtestdebug\u001b[1;34m()\u001b[0m\n",
      "\n",
      "ipdb> next\n",
      "> \u001b[1;32mc:\\users\\utkarsh\\appdata\\local\\temp\\ipykernel_5476\\1381027099.py\u001b[0m(5)\u001b[0;36mtestdebug\u001b[1;34m()\u001b[0m\n",
      "\n",
      "ipdb> next\n",
      "> \u001b[1;32mc:\\users\\utkarsh\\appdata\\local\\temp\\ipykernel_5476\\1381027099.py\u001b[0m(6)\u001b[0;36mtestdebug\u001b[1;34m()\u001b[0m\n",
      "\n",
      "ipdb> next\n",
      "we have appended your data in the created list\n",
      "> \u001b[1;32mc:\\users\\utkarsh\\appdata\\local\\temp\\ipykernel_5476\\1381027099.py\u001b[0m(4)\u001b[0;36mtestdebug\u001b[1;34m()\u001b[0m\n",
      "\n",
      "ipdb> next\n",
      "> \u001b[1;32mc:\\users\\utkarsh\\appdata\\local\\temp\\ipykernel_5476\\1381027099.py\u001b[0m(5)\u001b[0;36mtestdebug\u001b[1;34m()\u001b[0m\n",
      "\n",
      "ipdb> i\n",
      "4\n",
      "ipdb> next\n",
      "> \u001b[1;32mc:\\users\\utkarsh\\appdata\\local\\temp\\ipykernel_5476\\1381027099.py\u001b[0m(6)\u001b[0;36mtestdebug\u001b[1;34m()\u001b[0m\n",
      "\n",
      "ipdb> next\n",
      "we have appended your data in the created list\n",
      "> \u001b[1;32mc:\\users\\utkarsh\\appdata\\local\\temp\\ipykernel_5476\\1381027099.py\u001b[0m(4)\u001b[0;36mtestdebug\u001b[1;34m()\u001b[0m\n",
      "\n",
      "ipdb> next\n",
      "> \u001b[1;32mc:\\users\\utkarsh\\appdata\\local\\temp\\ipykernel_5476\\1381027099.py\u001b[0m(5)\u001b[0;36mtestdebug\u001b[1;34m()\u001b[0m\n",
      "\n",
      "ipdb> next\n",
      "> \u001b[1;32mc:\\users\\utkarsh\\appdata\\local\\temp\\ipykernel_5476\\1381027099.py\u001b[0m(6)\u001b[0;36mtestdebug\u001b[1;34m()\u001b[0m\n",
      "\n",
      "ipdb> next\n",
      "we have appended your data in the created list\n",
      "> \u001b[1;32mc:\\users\\utkarsh\\appdata\\local\\temp\\ipykernel_5476\\1381027099.py\u001b[0m(4)\u001b[0;36mtestdebug\u001b[1;34m()\u001b[0m\n",
      "\n",
      "ipdb> next\n",
      "> \u001b[1;32mc:\\users\\utkarsh\\appdata\\local\\temp\\ipykernel_5476\\1381027099.py\u001b[0m(5)\u001b[0;36mtestdebug\u001b[1;34m()\u001b[0m\n",
      "\n",
      "ipdb> next\n",
      "> \u001b[1;32mc:\\users\\utkarsh\\appdata\\local\\temp\\ipykernel_5476\\1381027099.py\u001b[0m(6)\u001b[0;36mtestdebug\u001b[1;34m()\u001b[0m\n",
      "\n",
      "ipdb> next\n",
      "we have appended your data in the created list\n",
      "> \u001b[1;32mc:\\users\\utkarsh\\appdata\\local\\temp\\ipykernel_5476\\1381027099.py\u001b[0m(4)\u001b[0;36mtestdebug\u001b[1;34m()\u001b[0m\n",
      "\n",
      "ipdb> next\n",
      "> \u001b[1;32mc:\\users\\utkarsh\\appdata\\local\\temp\\ipykernel_5476\\1381027099.py\u001b[0m(5)\u001b[0;36mtestdebug\u001b[1;34m()\u001b[0m\n",
      "\n",
      "ipdb> next\n",
      "> \u001b[1;32mc:\\users\\utkarsh\\appdata\\local\\temp\\ipykernel_5476\\1381027099.py\u001b[0m(6)\u001b[0;36mtestdebug\u001b[1;34m()\u001b[0m\n",
      "\n",
      "ipdb> \n",
      "we have appended your data in the created list\n",
      "> \u001b[1;32mc:\\users\\utkarsh\\appdata\\local\\temp\\ipykernel_5476\\1381027099.py\u001b[0m(4)\u001b[0;36mtestdebug\u001b[1;34m()\u001b[0m\n",
      "\n",
      "ipdb> next\n",
      "> \u001b[1;32mc:\\users\\utkarsh\\appdata\\local\\temp\\ipykernel_5476\\1381027099.py\u001b[0m(5)\u001b[0;36mtestdebug\u001b[1;34m()\u001b[0m\n",
      "\n",
      "ipdb> v\n",
      "*** NameError: name 'v' is not defined\n",
      "ipdb> next\n",
      "> \u001b[1;32mc:\\users\\utkarsh\\appdata\\local\\temp\\ipykernel_5476\\1381027099.py\u001b[0m(6)\u001b[0;36mtestdebug\u001b[1;34m()\u001b[0m\n",
      "\n",
      "ipdb> next\n",
      "we have appended your data in the created list\n",
      "> \u001b[1;32mc:\\users\\utkarsh\\appdata\\local\\temp\\ipykernel_5476\\1381027099.py\u001b[0m(4)\u001b[0;36mtestdebug\u001b[1;34m()\u001b[0m\n",
      "\n",
      "ipdb> next\n",
      "> \u001b[1;32mc:\\users\\utkarsh\\appdata\\local\\temp\\ipykernel_5476\\1381027099.py\u001b[0m(5)\u001b[0;36mtestdebug\u001b[1;34m()\u001b[0m\n",
      "\n",
      "ipdb> next\n",
      "> \u001b[1;32mc:\\users\\utkarsh\\appdata\\local\\temp\\ipykernel_5476\\1381027099.py\u001b[0m(6)\u001b[0;36mtestdebug\u001b[1;34m()\u001b[0m\n",
      "\n",
      "ipdb> v\n",
      "*** NameError: name 'v' is not defined\n",
      "ipdb> next\n",
      "we have appended your data in the created list\n",
      "> \u001b[1;32mc:\\users\\utkarsh\\appdata\\local\\temp\\ipykernel_5476\\1381027099.py\u001b[0m(4)\u001b[0;36mtestdebug\u001b[1;34m()\u001b[0m\n",
      "\n",
      "ipdb> v\n",
      "*** NameError: name 'v' is not defined\n",
      "ipdb> v\n",
      "*** NameError: name 'v' is not defined\n",
      "ipdb> v\n",
      "*** NameError: name 'v' is not defined\n",
      "ipdb> next\n",
      "> \u001b[1;32mc:\\users\\utkarsh\\appdata\\local\\temp\\ipykernel_5476\\1381027099.py\u001b[0m(7)\u001b[0;36mtestdebug\u001b[1;34m()\u001b[0m\n",
      "\n",
      "ipdb> next\n",
      "--Return--\n",
      "[0, 1, 2, 3, 4, 5, ...]\n",
      "> \u001b[1;32mc:\\users\\utkarsh\\appdata\\local\\temp\\ipykernel_5476\\1381027099.py\u001b[0m(7)\u001b[0;36mtestdebug\u001b[1;34m()\u001b[0m\n",
      "\n",
      "ipdb> next\n",
      "--Call--\n",
      "> \u001b[1;32mc:\\users\\utkarsh\\anaconda3\\lib\\site-packages\\ipython\\core\\displayhook.py\u001b[0m(252)\u001b[0;36m__call__\u001b[1;34m()\u001b[0m\n",
      "\u001b[1;32m    251 \u001b[1;33m\u001b[1;33m\u001b[0m\u001b[0m\n",
      "\u001b[0m\u001b[1;32m--> 252 \u001b[1;33m    \u001b[1;32mdef\u001b[0m \u001b[0m__call__\u001b[0m\u001b[1;33m(\u001b[0m\u001b[0mself\u001b[0m\u001b[1;33m,\u001b[0m \u001b[0mresult\u001b[0m\u001b[1;33m=\u001b[0m\u001b[1;32mNone\u001b[0m\u001b[1;33m)\u001b[0m\u001b[1;33m:\u001b[0m\u001b[1;33m\u001b[0m\u001b[1;33m\u001b[0m\u001b[0m\n",
      "\u001b[0m\u001b[1;32m    253 \u001b[1;33m        \"\"\"Printing with history cache management.\n",
      "\u001b[0m\n",
      "ipdb> i\n",
      "*** NameError: name 'i' is not defined\n",
      "ipdb> i\n",
      "*** NameError: name 'i' is not defined\n",
      "ipdb> c\n"
     ]
    },
    {
     "data": {
      "text/plain": [
       "[0, 1, 2, 3, 4, 5, 6, 7, 8, 9]"
      ]
     },
     "execution_count": 11,
     "metadata": {},
     "output_type": "execute_result"
    }
   ],
   "source": [
    "testdebug()"
   ]
  },
  {
   "cell_type": "code",
   "execution_count": 12,
   "id": "fcd123d5",
   "metadata": {},
   "outputs": [],
   "source": [
    "def testdebug():\n",
    "    ipdb.set_trace()\n",
    "    l=[]\n",
    "    for i in range(10):\n",
    "        for j in range(5):\n",
    "            l.append(i)\n",
    "            if i ==4:\n",
    "                continue\n",
    "            print(\"we have appended your data in the created list\")\n",
    "    return l"
   ]
  },
  {
   "cell_type": "code",
   "execution_count": null,
   "id": "83d8627b",
   "metadata": {},
   "outputs": [],
   "source": [
    "testdebug()"
   ]
  },
  {
   "cell_type": "code",
   "execution_count": null,
   "id": "91b849c1",
   "metadata": {},
   "outputs": [],
   "source": []
  }
 ],
 "metadata": {
  "kernelspec": {
   "display_name": "Python 3 (ipykernel)",
   "language": "python",
   "name": "python3"
  },
  "language_info": {
   "codemirror_mode": {
    "name": "ipython",
    "version": 3
   },
   "file_extension": ".py",
   "mimetype": "text/x-python",
   "name": "python",
   "nbconvert_exporter": "python",
   "pygments_lexer": "ipython3",
   "version": "3.9.7"
  }
 },
 "nbformat": 4,
 "nbformat_minor": 5
}
