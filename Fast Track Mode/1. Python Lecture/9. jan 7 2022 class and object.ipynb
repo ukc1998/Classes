{
 "cells": [
  {
   "cell_type": "code",
   "execution_count": 1,
   "id": "a4d7e841",
   "metadata": {},
   "outputs": [
    {
     "ename": "SyntaxError",
     "evalue": "invalid syntax (Temp/ipykernel_15088/3725635246.py, line 1)",
     "output_type": "error",
     "traceback": [
      "\u001b[1;36m  File \u001b[1;32m\"C:\\Users\\Utkarsh\\AppData\\Local\\Temp/ipykernel_15088/3725635246.py\"\u001b[1;36m, line \u001b[1;32m1\u001b[0m\n\u001b[1;33m    class car\u001b[0m\n\u001b[1;37m             ^\u001b[0m\n\u001b[1;31mSyntaxError\u001b[0m\u001b[1;31m:\u001b[0m invalid syntax\n"
     ]
    }
   ],
   "source": [
    "class car"
   ]
  },
  {
   "cell_type": "code",
   "execution_count": 2,
   "id": "9a393007",
   "metadata": {},
   "outputs": [
    {
     "ename": "IndentationError",
     "evalue": "expected an indented block (Temp/ipykernel_15088/2524229445.py, line 1)",
     "output_type": "error",
     "traceback": [
      "\u001b[1;36m  File \u001b[1;32m\"C:\\Users\\Utkarsh\\AppData\\Local\\Temp/ipykernel_15088/2524229445.py\"\u001b[1;36m, line \u001b[1;32m1\u001b[0m\n\u001b[1;33m    class car:\u001b[0m\n\u001b[1;37m              ^\u001b[0m\n\u001b[1;31mIndentationError\u001b[0m\u001b[1;31m:\u001b[0m expected an indented block\n"
     ]
    }
   ],
   "source": [
    "class car:"
   ]
  },
  {
   "cell_type": "code",
   "execution_count": 3,
   "id": "ddf6371e",
   "metadata": {},
   "outputs": [],
   "source": [
    "class car:\n",
    "    pass"
   ]
  },
  {
   "cell_type": "code",
   "execution_count": 4,
   "id": "98a39d30",
   "metadata": {},
   "outputs": [],
   "source": [
    "AudiQ7 = car()"
   ]
  },
  {
   "cell_type": "code",
   "execution_count": 5,
   "id": "55f7cc55",
   "metadata": {},
   "outputs": [
    {
     "data": {
      "text/plain": [
       "<__main__.car at 0x2ccea2b6be0>"
      ]
     },
     "execution_count": 5,
     "metadata": {},
     "output_type": "execute_result"
    }
   ],
   "source": [
    "AudiQ7"
   ]
  },
  {
   "cell_type": "code",
   "execution_count": 6,
   "id": "8100e6a4",
   "metadata": {},
   "outputs": [],
   "source": [
    "AudiQ7.mileage = 25\n",
    "AudiQ7.year = 2022\n",
    "AudiQ7.make = \"hjg\"\n",
    "AudiQ7.model = \"dfghfg\""
   ]
  },
  {
   "cell_type": "code",
   "execution_count": 7,
   "id": "0e19bcbb",
   "metadata": {},
   "outputs": [
    {
     "data": {
      "text/plain": [
       "25"
      ]
     },
     "execution_count": 7,
     "metadata": {},
     "output_type": "execute_result"
    }
   ],
   "source": [
    "AudiQ7.mileage"
   ]
  },
  {
   "cell_type": "code",
   "execution_count": 8,
   "id": "e3369e60",
   "metadata": {},
   "outputs": [
    {
     "ename": "NameError",
     "evalue": "name 'mileage' is not defined",
     "output_type": "error",
     "traceback": [
      "\u001b[1;31m---------------------------------------------------------------------------\u001b[0m",
      "\u001b[1;31mNameError\u001b[0m                                 Traceback (most recent call last)",
      "\u001b[1;32m~\\AppData\\Local\\Temp/ipykernel_15088/2831437708.py\u001b[0m in \u001b[0;36m<module>\u001b[1;34m\u001b[0m\n\u001b[1;32m----> 1\u001b[1;33m \u001b[0mmileage\u001b[0m\u001b[1;33m\u001b[0m\u001b[1;33m\u001b[0m\u001b[0m\n\u001b[0m",
      "\u001b[1;31mNameError\u001b[0m: name 'mileage' is not defined"
     ]
    }
   ],
   "source": [
    "mileage"
   ]
  },
  {
   "cell_type": "code",
   "execution_count": 9,
   "id": "6d70955e",
   "metadata": {},
   "outputs": [],
   "source": [
    "nano = car()"
   ]
  },
  {
   "cell_type": "code",
   "execution_count": 10,
   "id": "516833a0",
   "metadata": {},
   "outputs": [],
   "source": [
    "nano.mileage = 45\n",
    "nano.year = 2020\n",
    "nano.make = \"dfgdf\"\n",
    "nano.model = \"uknbhhhhhh\"\n",
    "nano.enginenumber = 4567455634"
   ]
  },
  {
   "cell_type": "code",
   "execution_count": 11,
   "id": "0dd4eabd",
   "metadata": {},
   "outputs": [
    {
     "name": "stdout",
     "output_type": "stream",
     "text": [
      "45 2022\n"
     ]
    }
   ],
   "source": [
    "print(nano.mileage, AudiQ7.year)"
   ]
  },
  {
   "cell_type": "code",
   "execution_count": 12,
   "id": "d11fa526",
   "metadata": {},
   "outputs": [
    {
     "name": "stdout",
     "output_type": "stream",
     "text": [
      "45 25\n"
     ]
    }
   ],
   "source": [
    "print(nano.mileage, AudiQ7.mileage)"
   ]
  },
  {
   "cell_type": "code",
   "execution_count": 13,
   "id": "76271855",
   "metadata": {},
   "outputs": [],
   "source": [
    "class car:\n",
    "    def __init__(self, mileage, year, make, model):\n",
    "        self.mileage=mileage\n",
    "        self.year=year\n",
    "        self.make=make\n",
    "        self.model=model"
   ]
  },
  {
   "cell_type": "code",
   "execution_count": 14,
   "id": "c05317ef",
   "metadata": {},
   "outputs": [
    {
     "ename": "TypeError",
     "evalue": "__init__() missing 4 required positional arguments: 'mileage', 'year', 'make', and 'model'",
     "output_type": "error",
     "traceback": [
      "\u001b[1;31m---------------------------------------------------------------------------\u001b[0m",
      "\u001b[1;31mTypeError\u001b[0m                                 Traceback (most recent call last)",
      "\u001b[1;32m~\\AppData\\Local\\Temp/ipykernel_15088/583999665.py\u001b[0m in \u001b[0;36m<module>\u001b[1;34m\u001b[0m\n\u001b[1;32m----> 1\u001b[1;33m \u001b[0mnano1\u001b[0m \u001b[1;33m=\u001b[0m \u001b[0mcar\u001b[0m\u001b[1;33m(\u001b[0m\u001b[1;33m)\u001b[0m\u001b[1;33m\u001b[0m\u001b[1;33m\u001b[0m\u001b[0m\n\u001b[0m",
      "\u001b[1;31mTypeError\u001b[0m: __init__() missing 4 required positional arguments: 'mileage', 'year', 'make', and 'model'"
     ]
    }
   ],
   "source": [
    "nano1 = car()"
   ]
  },
  {
   "cell_type": "code",
   "execution_count": 15,
   "id": "de7483c0",
   "metadata": {},
   "outputs": [],
   "source": [
    "nano1 = car(55, 2023, \"dfgdg\", \"era2.0\")"
   ]
  },
  {
   "cell_type": "code",
   "execution_count": 16,
   "id": "15bb48e1",
   "metadata": {},
   "outputs": [
    {
     "data": {
      "text/plain": [
       "<__main__.car at 0x2ccea2b6970>"
      ]
     },
     "execution_count": 16,
     "metadata": {},
     "output_type": "execute_result"
    }
   ],
   "source": [
    "nano1"
   ]
  },
  {
   "cell_type": "code",
   "execution_count": 17,
   "id": "7332979d",
   "metadata": {},
   "outputs": [
    {
     "data": {
      "text/plain": [
       "55"
      ]
     },
     "execution_count": 17,
     "metadata": {},
     "output_type": "execute_result"
    }
   ],
   "source": [
    "nano1.mileage"
   ]
  },
  {
   "cell_type": "code",
   "execution_count": 18,
   "id": "f667439e",
   "metadata": {},
   "outputs": [],
   "source": [
    "class car:\n",
    "    def __init__(self, mileage, year, model, make):\n",
    "        self.mileage=mileage\n",
    "        self.year=year\n",
    "        self.make=make\n",
    "        self.model=model\n",
    "        self.additional=xyz"
   ]
  },
  {
   "cell_type": "code",
   "execution_count": 19,
   "id": "d0358645",
   "metadata": {},
   "outputs": [
    {
     "ename": "TypeError",
     "evalue": "__init__() missing 4 required positional arguments: 'mileage', 'year', 'model', and 'make'",
     "output_type": "error",
     "traceback": [
      "\u001b[1;31m---------------------------------------------------------------------------\u001b[0m",
      "\u001b[1;31mTypeError\u001b[0m                                 Traceback (most recent call last)",
      "\u001b[1;32m~\\AppData\\Local\\Temp/ipykernel_15088/1429730826.py\u001b[0m in \u001b[0;36m<module>\u001b[1;34m\u001b[0m\n\u001b[1;32m----> 1\u001b[1;33m \u001b[0mnano2\u001b[0m \u001b[1;33m=\u001b[0m \u001b[0mcar\u001b[0m\u001b[1;33m(\u001b[0m\u001b[1;33m)\u001b[0m\u001b[1;33m\u001b[0m\u001b[1;33m\u001b[0m\u001b[0m\n\u001b[0m",
      "\u001b[1;31mTypeError\u001b[0m: __init__() missing 4 required positional arguments: 'mileage', 'year', 'model', and 'make'"
     ]
    }
   ],
   "source": [
    "nano2 = car()"
   ]
  },
  {
   "cell_type": "code",
   "execution_count": 20,
   "id": "eaf062c4",
   "metadata": {},
   "outputs": [
    {
     "ename": "NameError",
     "evalue": "name 'xyz' is not defined",
     "output_type": "error",
     "traceback": [
      "\u001b[1;31m---------------------------------------------------------------------------\u001b[0m",
      "\u001b[1;31mNameError\u001b[0m                                 Traceback (most recent call last)",
      "\u001b[1;32m~\\AppData\\Local\\Temp/ipykernel_15088/761577658.py\u001b[0m in \u001b[0;36m<module>\u001b[1;34m\u001b[0m\n\u001b[1;32m----> 1\u001b[1;33m \u001b[0mnano2\u001b[0m \u001b[1;33m=\u001b[0m \u001b[0mcar\u001b[0m\u001b[1;33m(\u001b[0m\u001b[1;36m65\u001b[0m\u001b[1;33m,\u001b[0m \u001b[1;36m2029\u001b[0m\u001b[1;33m,\u001b[0m \u001b[1;34m\"dhgfdhgfgdg\"\u001b[0m\u001b[1;33m,\u001b[0m \u001b[1;34m\"era3.0\"\u001b[0m\u001b[1;33m)\u001b[0m\u001b[1;33m\u001b[0m\u001b[1;33m\u001b[0m\u001b[0m\n\u001b[0m",
      "\u001b[1;32m~\\AppData\\Local\\Temp/ipykernel_15088/3285797128.py\u001b[0m in \u001b[0;36m__init__\u001b[1;34m(self, mileage, year, model, make)\u001b[0m\n\u001b[0;32m      5\u001b[0m         \u001b[0mself\u001b[0m\u001b[1;33m.\u001b[0m\u001b[0mmake\u001b[0m\u001b[1;33m=\u001b[0m\u001b[0mmake\u001b[0m\u001b[1;33m\u001b[0m\u001b[1;33m\u001b[0m\u001b[0m\n\u001b[0;32m      6\u001b[0m         \u001b[0mself\u001b[0m\u001b[1;33m.\u001b[0m\u001b[0mmodel\u001b[0m\u001b[1;33m=\u001b[0m\u001b[0mmodel\u001b[0m\u001b[1;33m\u001b[0m\u001b[1;33m\u001b[0m\u001b[0m\n\u001b[1;32m----> 7\u001b[1;33m         \u001b[0mself\u001b[0m\u001b[1;33m.\u001b[0m\u001b[0madditional\u001b[0m\u001b[1;33m=\u001b[0m\u001b[0mxyz\u001b[0m\u001b[1;33m\u001b[0m\u001b[1;33m\u001b[0m\u001b[0m\n\u001b[0m",
      "\u001b[1;31mNameError\u001b[0m: name 'xyz' is not defined"
     ]
    }
   ],
   "source": [
    "nano2 = car(65, 2029, \"dhgfdhgfgdg\", \"era3.0\")"
   ]
  },
  {
   "cell_type": "code",
   "execution_count": 21,
   "id": "d0ef5d34",
   "metadata": {},
   "outputs": [],
   "source": [
    "class car:\n",
    "    def __init__(self, mileage, year, model, make):\n",
    "        self.mileage=mileage\n",
    "        self.year=year\n",
    "        self.make=make\n",
    "        self.model=model\n",
    "        self.additional=\"xyz\""
   ]
  },
  {
   "cell_type": "code",
   "execution_count": 22,
   "id": "cefbe015",
   "metadata": {},
   "outputs": [
    {
     "ename": "TypeError",
     "evalue": "__init__() missing 4 required positional arguments: 'mileage', 'year', 'model', and 'make'",
     "output_type": "error",
     "traceback": [
      "\u001b[1;31m---------------------------------------------------------------------------\u001b[0m",
      "\u001b[1;31mTypeError\u001b[0m                                 Traceback (most recent call last)",
      "\u001b[1;32m~\\AppData\\Local\\Temp/ipykernel_15088/1429730826.py\u001b[0m in \u001b[0;36m<module>\u001b[1;34m\u001b[0m\n\u001b[1;32m----> 1\u001b[1;33m \u001b[0mnano2\u001b[0m \u001b[1;33m=\u001b[0m \u001b[0mcar\u001b[0m\u001b[1;33m(\u001b[0m\u001b[1;33m)\u001b[0m\u001b[1;33m\u001b[0m\u001b[1;33m\u001b[0m\u001b[0m\n\u001b[0m",
      "\u001b[1;31mTypeError\u001b[0m: __init__() missing 4 required positional arguments: 'mileage', 'year', 'model', and 'make'"
     ]
    }
   ],
   "source": [
    "nano2 = car()"
   ]
  },
  {
   "cell_type": "code",
   "execution_count": 23,
   "id": "fddaec81",
   "metadata": {},
   "outputs": [],
   "source": [
    "nano2 = car(65, 2029, \"dhgfdhgfgdg\", \"era3.0\")"
   ]
  },
  {
   "cell_type": "code",
   "execution_count": 24,
   "id": "594d8421",
   "metadata": {},
   "outputs": [
    {
     "data": {
      "text/plain": [
       "'xyz'"
      ]
     },
     "execution_count": 24,
     "metadata": {},
     "output_type": "execute_result"
    }
   ],
   "source": [
    "nano2.additional"
   ]
  },
  {
   "cell_type": "code",
   "execution_count": 25,
   "id": "98157b69",
   "metadata": {},
   "outputs": [],
   "source": [
    "class car:\n",
    "    def __init__(mileage, year, model, make):\n",
    "        self.mileage=mileage\n",
    "        self.year=year\n",
    "        self.make=make\n",
    "        self.model=model"
   ]
  },
  {
   "cell_type": "code",
   "execution_count": 26,
   "id": "9eb62ff6",
   "metadata": {},
   "outputs": [
    {
     "ename": "TypeError",
     "evalue": "__init__() takes 4 positional arguments but 5 were given",
     "output_type": "error",
     "traceback": [
      "\u001b[1;31m---------------------------------------------------------------------------\u001b[0m",
      "\u001b[1;31mTypeError\u001b[0m                                 Traceback (most recent call last)",
      "\u001b[1;32m~\\AppData\\Local\\Temp/ipykernel_15088/1212288580.py\u001b[0m in \u001b[0;36m<module>\u001b[1;34m\u001b[0m\n\u001b[1;32m----> 1\u001b[1;33m \u001b[0mnano32453\u001b[0m \u001b[1;33m=\u001b[0m \u001b[0mcar\u001b[0m\u001b[1;33m(\u001b[0m\u001b[1;36m34\u001b[0m\u001b[1;33m,\u001b[0m\u001b[1;36m2030\u001b[0m\u001b[1;33m,\u001b[0m\u001b[1;34m\"eraf243\"\u001b[0m\u001b[1;33m,\u001b[0m \u001b[1;34m\"dsfvsdf\"\u001b[0m\u001b[1;33m)\u001b[0m\u001b[1;33m\u001b[0m\u001b[1;33m\u001b[0m\u001b[0m\n\u001b[0m",
      "\u001b[1;31mTypeError\u001b[0m: __init__() takes 4 positional arguments but 5 were given"
     ]
    }
   ],
   "source": [
    "nano32453 = car(34,2030,\"eraf243\", \"dsfvsdf\")"
   ]
  },
  {
   "cell_type": "code",
   "execution_count": 27,
   "id": "fd5e1ce9",
   "metadata": {},
   "outputs": [
    {
     "ename": "NameError",
     "evalue": "name 'self' is not defined",
     "output_type": "error",
     "traceback": [
      "\u001b[1;31m---------------------------------------------------------------------------\u001b[0m",
      "\u001b[1;31mNameError\u001b[0m                                 Traceback (most recent call last)",
      "\u001b[1;32m~\\AppData\\Local\\Temp/ipykernel_15088/1830911003.py\u001b[0m in \u001b[0;36m<module>\u001b[1;34m\u001b[0m\n\u001b[1;32m----> 1\u001b[1;33m \u001b[0mnano32453\u001b[0m \u001b[1;33m=\u001b[0m \u001b[0mcar\u001b[0m\u001b[1;33m(\u001b[0m\u001b[1;36m34\u001b[0m\u001b[1;33m,\u001b[0m\u001b[1;36m2030\u001b[0m\u001b[1;33m,\u001b[0m\u001b[1;34m\"eraf243\"\u001b[0m\u001b[1;33m)\u001b[0m\u001b[1;33m\u001b[0m\u001b[1;33m\u001b[0m\u001b[0m\n\u001b[0m",
      "\u001b[1;32m~\\AppData\\Local\\Temp/ipykernel_15088/3581806222.py\u001b[0m in \u001b[0;36m__init__\u001b[1;34m(mileage, year, model, make)\u001b[0m\n\u001b[0;32m      1\u001b[0m \u001b[1;32mclass\u001b[0m \u001b[0mcar\u001b[0m\u001b[1;33m:\u001b[0m\u001b[1;33m\u001b[0m\u001b[1;33m\u001b[0m\u001b[0m\n\u001b[0;32m      2\u001b[0m     \u001b[1;32mdef\u001b[0m \u001b[0m__init__\u001b[0m\u001b[1;33m(\u001b[0m\u001b[0mmileage\u001b[0m\u001b[1;33m,\u001b[0m \u001b[0myear\u001b[0m\u001b[1;33m,\u001b[0m \u001b[0mmodel\u001b[0m\u001b[1;33m,\u001b[0m \u001b[0mmake\u001b[0m\u001b[1;33m)\u001b[0m\u001b[1;33m:\u001b[0m\u001b[1;33m\u001b[0m\u001b[1;33m\u001b[0m\u001b[0m\n\u001b[1;32m----> 3\u001b[1;33m         \u001b[0mself\u001b[0m\u001b[1;33m.\u001b[0m\u001b[0mmileage\u001b[0m\u001b[1;33m=\u001b[0m\u001b[0mmileage\u001b[0m\u001b[1;33m\u001b[0m\u001b[1;33m\u001b[0m\u001b[0m\n\u001b[0m\u001b[0;32m      4\u001b[0m         \u001b[0mself\u001b[0m\u001b[1;33m.\u001b[0m\u001b[0myear\u001b[0m\u001b[1;33m=\u001b[0m\u001b[0myear\u001b[0m\u001b[1;33m\u001b[0m\u001b[1;33m\u001b[0m\u001b[0m\n\u001b[0;32m      5\u001b[0m         \u001b[0mself\u001b[0m\u001b[1;33m.\u001b[0m\u001b[0mmake\u001b[0m\u001b[1;33m=\u001b[0m\u001b[0mmake\u001b[0m\u001b[1;33m\u001b[0m\u001b[1;33m\u001b[0m\u001b[0m\n",
      "\u001b[1;31mNameError\u001b[0m: name 'self' is not defined"
     ]
    }
   ],
   "source": [
    "nano32453 = car(34,2030,\"eraf243\")"
   ]
  },
  {
   "cell_type": "code",
   "execution_count": 28,
   "id": "4fe66251",
   "metadata": {},
   "outputs": [],
   "source": [
    "class car:\n",
    "    def __init__(a,mileage, year, model, make):\n",
    "        a.milage=mileage\n",
    "        a.year=year\n",
    "        a.make=make\n",
    "        a.model=model"
   ]
  },
  {
   "cell_type": "code",
   "execution_count": 29,
   "id": "55849454",
   "metadata": {},
   "outputs": [],
   "source": [
    "nano353 = car(34,2030,\"eraf243\", \"wssdfsddg\")"
   ]
  },
  {
   "cell_type": "code",
   "execution_count": 30,
   "id": "1fd7d3c5",
   "metadata": {},
   "outputs": [
    {
     "data": {
      "text/plain": [
       "'eraf243'"
      ]
     },
     "execution_count": 30,
     "metadata": {},
     "output_type": "execute_result"
    }
   ],
   "source": [
    "nano353.model"
   ]
  },
  {
   "cell_type": "code",
   "execution_count": 31,
   "id": "0e7e6e19",
   "metadata": {},
   "outputs": [],
   "source": [
    "class car:\n",
    "    def __init__(a,m, y, ma, mo):\n",
    "        a.mileage=mileage\n",
    "        a.year=year\n",
    "        a.make=make\n",
    "        a.model=model"
   ]
  },
  {
   "cell_type": "code",
   "execution_count": 33,
   "id": "eace8ff5",
   "metadata": {},
   "outputs": [],
   "source": [
    "class car:\n",
    "    def __init__(a,m, y, ma, mo):\n",
    "        a.mileage=m\n",
    "        a.year=y\n",
    "        a.make=ma\n",
    "        a.model=mo"
   ]
  },
  {
   "cell_type": "code",
   "execution_count": 34,
   "id": "5c52868a",
   "metadata": {},
   "outputs": [],
   "source": [
    "nano123 = car(100, 2050, \"dgfg\", \"ERA2k\")"
   ]
  },
  {
   "cell_type": "code",
   "execution_count": 35,
   "id": "3f5e47a8",
   "metadata": {},
   "outputs": [
    {
     "ename": "AttributeError",
     "evalue": "'car' object has no attribute 'ma'",
     "output_type": "error",
     "traceback": [
      "\u001b[1;31m---------------------------------------------------------------------------\u001b[0m",
      "\u001b[1;31mAttributeError\u001b[0m                            Traceback (most recent call last)",
      "\u001b[1;32m~\\AppData\\Local\\Temp/ipykernel_15088/1528223556.py\u001b[0m in \u001b[0;36m<module>\u001b[1;34m\u001b[0m\n\u001b[1;32m----> 1\u001b[1;33m \u001b[0mnano123\u001b[0m\u001b[1;33m.\u001b[0m\u001b[0mma\u001b[0m\u001b[1;33m\u001b[0m\u001b[1;33m\u001b[0m\u001b[0m\n\u001b[0m",
      "\u001b[1;31mAttributeError\u001b[0m: 'car' object has no attribute 'ma'"
     ]
    }
   ],
   "source": [
    "nano123.ma"
   ]
  },
  {
   "cell_type": "code",
   "execution_count": 36,
   "id": "94f9f616",
   "metadata": {},
   "outputs": [
    {
     "data": {
      "text/plain": [
       "'dgfg'"
      ]
     },
     "execution_count": 36,
     "metadata": {},
     "output_type": "execute_result"
    }
   ],
   "source": [
    "nano123.make"
   ]
  },
  {
   "cell_type": "code",
   "execution_count": 37,
   "id": "516a1c80",
   "metadata": {},
   "outputs": [],
   "source": [
    "class car:\n",
    "    def __init__(a,m, y, ma, mo):\n",
    "        a.milage=m\n",
    "        a.year=y\n",
    "        a.make=ma\n",
    "        a.model=mo\n",
    "        \n",
    "    def age(self, cuurentyear):\n",
    "        return cuurentyear - a.year"
   ]
  },
  {
   "cell_type": "code",
   "execution_count": 38,
   "id": "a4f2fb16",
   "metadata": {},
   "outputs": [],
   "source": [
    "nano67 = car(20, 2020, \"egdfg\", 23423)"
   ]
  },
  {
   "cell_type": "code",
   "execution_count": 39,
   "id": "54110e55",
   "metadata": {},
   "outputs": [
    {
     "data": {
      "text/plain": [
       "<bound method car.age of <__main__.car object at 0x000002CCEA2E0DF0>>"
      ]
     },
     "execution_count": 39,
     "metadata": {},
     "output_type": "execute_result"
    }
   ],
   "source": [
    "nano67.age"
   ]
  },
  {
   "cell_type": "code",
   "execution_count": 40,
   "id": "709cfec1",
   "metadata": {},
   "outputs": [
    {
     "ename": "TypeError",
     "evalue": "age() missing 1 required positional argument: 'cuurentyear'",
     "output_type": "error",
     "traceback": [
      "\u001b[1;31m---------------------------------------------------------------------------\u001b[0m",
      "\u001b[1;31mTypeError\u001b[0m                                 Traceback (most recent call last)",
      "\u001b[1;32m~\\AppData\\Local\\Temp/ipykernel_15088/3878755941.py\u001b[0m in \u001b[0;36m<module>\u001b[1;34m\u001b[0m\n\u001b[1;32m----> 1\u001b[1;33m \u001b[0mnano67\u001b[0m\u001b[1;33m.\u001b[0m\u001b[0mage\u001b[0m\u001b[1;33m(\u001b[0m\u001b[1;33m)\u001b[0m\u001b[1;33m\u001b[0m\u001b[1;33m\u001b[0m\u001b[0m\n\u001b[0m",
      "\u001b[1;31mTypeError\u001b[0m: age() missing 1 required positional argument: 'cuurentyear'"
     ]
    }
   ],
   "source": [
    "nano67.age()"
   ]
  },
  {
   "cell_type": "code",
   "execution_count": 41,
   "id": "b8256aa0",
   "metadata": {},
   "outputs": [
    {
     "ename": "NameError",
     "evalue": "name 'a' is not defined",
     "output_type": "error",
     "traceback": [
      "\u001b[1;31m---------------------------------------------------------------------------\u001b[0m",
      "\u001b[1;31mNameError\u001b[0m                                 Traceback (most recent call last)",
      "\u001b[1;32m~\\AppData\\Local\\Temp/ipykernel_15088/220541946.py\u001b[0m in \u001b[0;36m<module>\u001b[1;34m\u001b[0m\n\u001b[1;32m----> 1\u001b[1;33m \u001b[0mnano67\u001b[0m\u001b[1;33m.\u001b[0m\u001b[0mage\u001b[0m\u001b[1;33m(\u001b[0m\u001b[1;36m2022\u001b[0m\u001b[1;33m)\u001b[0m\u001b[1;33m\u001b[0m\u001b[1;33m\u001b[0m\u001b[0m\n\u001b[0m",
      "\u001b[1;32m~\\AppData\\Local\\Temp/ipykernel_15088/1918574564.py\u001b[0m in \u001b[0;36mage\u001b[1;34m(self, cuurentyear)\u001b[0m\n\u001b[0;32m      7\u001b[0m \u001b[1;33m\u001b[0m\u001b[0m\n\u001b[0;32m      8\u001b[0m     \u001b[1;32mdef\u001b[0m \u001b[0mage\u001b[0m\u001b[1;33m(\u001b[0m\u001b[0mself\u001b[0m\u001b[1;33m,\u001b[0m \u001b[0mcuurentyear\u001b[0m\u001b[1;33m)\u001b[0m\u001b[1;33m:\u001b[0m\u001b[1;33m\u001b[0m\u001b[1;33m\u001b[0m\u001b[0m\n\u001b[1;32m----> 9\u001b[1;33m         \u001b[1;32mreturn\u001b[0m \u001b[0mcuurentyear\u001b[0m \u001b[1;33m-\u001b[0m \u001b[0ma\u001b[0m\u001b[1;33m.\u001b[0m\u001b[0myear\u001b[0m\u001b[1;33m\u001b[0m\u001b[1;33m\u001b[0m\u001b[0m\n\u001b[0m",
      "\u001b[1;31mNameError\u001b[0m: name 'a' is not defined"
     ]
    }
   ],
   "source": [
    "nano67.age(2022)"
   ]
  },
  {
   "cell_type": "code",
   "execution_count": 42,
   "id": "9d63e58b",
   "metadata": {},
   "outputs": [],
   "source": [
    "class car:\n",
    "    def __init__(a,m, y, ma, mo):\n",
    "        a.milage=m\n",
    "        a.year=y\n",
    "        a.make=ma\n",
    "        a.model=mo\n",
    "        \n",
    "        def age(self, cuurentyear):\n",
    "            return cuurentyear - a.year"
   ]
  },
  {
   "cell_type": "code",
   "execution_count": 43,
   "id": "08c1007d",
   "metadata": {},
   "outputs": [],
   "source": [
    "nano67 = car(20, 2020, \"egdfg\", 23423)"
   ]
  },
  {
   "cell_type": "code",
   "execution_count": 44,
   "id": "a60e7223",
   "metadata": {},
   "outputs": [
    {
     "ename": "AttributeError",
     "evalue": "'car' object has no attribute 'age'",
     "output_type": "error",
     "traceback": [
      "\u001b[1;31m---------------------------------------------------------------------------\u001b[0m",
      "\u001b[1;31mAttributeError\u001b[0m                            Traceback (most recent call last)",
      "\u001b[1;32m~\\AppData\\Local\\Temp/ipykernel_15088/220541946.py\u001b[0m in \u001b[0;36m<module>\u001b[1;34m\u001b[0m\n\u001b[1;32m----> 1\u001b[1;33m \u001b[0mnano67\u001b[0m\u001b[1;33m.\u001b[0m\u001b[0mage\u001b[0m\u001b[1;33m(\u001b[0m\u001b[1;36m2022\u001b[0m\u001b[1;33m)\u001b[0m\u001b[1;33m\u001b[0m\u001b[1;33m\u001b[0m\u001b[0m\n\u001b[0m",
      "\u001b[1;31mAttributeError\u001b[0m: 'car' object has no attribute 'age'"
     ]
    }
   ],
   "source": [
    "nano67.age(2022)"
   ]
  },
  {
   "cell_type": "code",
   "execution_count": 45,
   "id": "1d8edf9c",
   "metadata": {},
   "outputs": [],
   "source": [
    "class car:\n",
    "    def __init__(a,m, y, ma, mo,age):\n",
    "        a.milage=m\n",
    "        a.year=y\n",
    "        a.make=ma\n",
    "        a.model=mo\n",
    "        a.age = age\n",
    "        \n",
    "        def age(self, cuurentyear):\n",
    "            return cuurentyear - a.year"
   ]
  },
  {
   "cell_type": "code",
   "execution_count": 46,
   "id": "8c3056f2",
   "metadata": {},
   "outputs": [
    {
     "ename": "AttributeError",
     "evalue": "'car' object has no attribute 'age'",
     "output_type": "error",
     "traceback": [
      "\u001b[1;31m---------------------------------------------------------------------------\u001b[0m",
      "\u001b[1;31mAttributeError\u001b[0m                            Traceback (most recent call last)",
      "\u001b[1;32m~\\AppData\\Local\\Temp/ipykernel_15088/220541946.py\u001b[0m in \u001b[0;36m<module>\u001b[1;34m\u001b[0m\n\u001b[1;32m----> 1\u001b[1;33m \u001b[0mnano67\u001b[0m\u001b[1;33m.\u001b[0m\u001b[0mage\u001b[0m\u001b[1;33m(\u001b[0m\u001b[1;36m2022\u001b[0m\u001b[1;33m)\u001b[0m\u001b[1;33m\u001b[0m\u001b[1;33m\u001b[0m\u001b[0m\n\u001b[0m",
      "\u001b[1;31mAttributeError\u001b[0m: 'car' object has no attribute 'age'"
     ]
    }
   ],
   "source": [
    "nano67.age(2022)"
   ]
  },
  {
   "cell_type": "code",
   "execution_count": 47,
   "id": "56d94827",
   "metadata": {},
   "outputs": [],
   "source": [
    "class car:\n",
    "    def __init__(a,m, y, ma, mo):\n",
    "        a.milage=m\n",
    "        a.year=y\n",
    "        a.make=ma\n",
    "        a.model=mo\n",
    "        \n",
    "    def age(self, cuurentyear):\n",
    "        return cuurentyear - self.year"
   ]
  },
  {
   "cell_type": "code",
   "execution_count": 48,
   "id": "063a6dcd",
   "metadata": {},
   "outputs": [],
   "source": [
    "nano67 = car(20, 2020, \"egdfg\", 23423)"
   ]
  },
  {
   "cell_type": "code",
   "execution_count": 49,
   "id": "280a8213",
   "metadata": {},
   "outputs": [
    {
     "data": {
      "text/plain": [
       "2"
      ]
     },
     "execution_count": 49,
     "metadata": {},
     "output_type": "execute_result"
    }
   ],
   "source": [
    "nano67.age(2022)"
   ]
  },
  {
   "cell_type": "code",
   "execution_count": 52,
   "id": "d11e1648",
   "metadata": {},
   "outputs": [],
   "source": [
    "class car:\n",
    "    def __init__(a,m, y, ma, mo):\n",
    "        a.mileage=m\n",
    "        a.year=y\n",
    "        a.make=ma\n",
    "        a.model=mo\n",
    "        \n",
    "    def age(self, cuurentyear):\n",
    "        return cuurentyear - self.year\n",
    "    \n",
    "    def mileage1(selfffff):\n",
    "        print(\"print a mileage of car\", selfffff.mileage)"
   ]
  },
  {
   "cell_type": "code",
   "execution_count": 53,
   "id": "09b86bb2",
   "metadata": {},
   "outputs": [],
   "source": [
    "nano67 = car(20, 2020, \"egdfg\", 23423)"
   ]
  },
  {
   "cell_type": "code",
   "execution_count": 54,
   "id": "db8bc5bb",
   "metadata": {},
   "outputs": [
    {
     "name": "stdout",
     "output_type": "stream",
     "text": [
      "print a mileage of car 20\n"
     ]
    }
   ],
   "source": [
    "nano67.mileage1()"
   ]
  },
  {
   "cell_type": "code",
   "execution_count": 55,
   "id": "a7ad164f",
   "metadata": {},
   "outputs": [
    {
     "data": {
      "text/plain": [
       "<__main__.car at 0x2ccea2e0fa0>"
      ]
     },
     "execution_count": 55,
     "metadata": {},
     "output_type": "execute_result"
    }
   ],
   "source": [
    "nano67"
   ]
  },
  {
   "cell_type": "code",
   "execution_count": 56,
   "id": "ddf20d3e",
   "metadata": {},
   "outputs": [],
   "source": [
    "class car:\n",
    "    def __init__(a,m, y, ma, mo):\n",
    "        a.mileage=m\n",
    "        a.year=y\n",
    "        a.make=ma\n",
    "        a.model=mo\n",
    "        \n",
    "    def age(self, cuurentyear):\n",
    "        return cuurentyear - self.year\n",
    "    \n",
    "    def mileage1(selfffff):\n",
    "        print(\"print a mileage of car\", selfffff.mileage)\n",
    "        \n",
    "    def __str__(c):\n",
    "        return \"this is my car class that i have created\""
   ]
  },
  {
   "cell_type": "code",
   "execution_count": 57,
   "id": "7687fa09",
   "metadata": {},
   "outputs": [],
   "source": [
    "nano67 = car(20, 2020, \"egdfg\", 23423)"
   ]
  },
  {
   "cell_type": "code",
   "execution_count": 58,
   "id": "c3f9f252",
   "metadata": {},
   "outputs": [
    {
     "data": {
      "text/plain": [
       "<__main__.car at 0x2ccea2d8640>"
      ]
     },
     "execution_count": 58,
     "metadata": {},
     "output_type": "execute_result"
    }
   ],
   "source": [
    "nano67"
   ]
  },
  {
   "cell_type": "code",
   "execution_count": 59,
   "id": "e3944fc2",
   "metadata": {},
   "outputs": [
    {
     "name": "stdout",
     "output_type": "stream",
     "text": [
      "this is my car class that i have created\n"
     ]
    }
   ],
   "source": [
    "print(nano67)"
   ]
  },
  {
   "cell_type": "code",
   "execution_count": 17,
   "id": "4c6bb6e2",
   "metadata": {},
   "outputs": [],
   "source": [
    "class student:\n",
    "    def __init__(self, name, rollnumber, joiningdate, currenttopic):\n",
    "        self.name=name\n",
    "        self.rollnumber=rollnumber\n",
    "        self.joiningdate=joiningdate\n",
    "        self.currenttopic=currenttopic\n",
    "        \n",
    "    def crt_topic(self):\n",
    "        print(\"current topic being discussed in my class is \", self.currenttopic)\n",
    "        \n",
    "    def str_roolno(self):\n",
    "        try:\n",
    "            if type(self.rollnumber) == str:\n",
    "                print(\"do nothing\")\n",
    "            else:\n",
    "                return(str(self.rollnumber))\n",
    "        except Exception as e:\n",
    "            print(\"this is my error message\", e)\n",
    "    def duration(self, currentdate):\n",
    "        print(\"duration of student in my class is: \",  currentdate - self.joiningdate)\n",
    "        \n",
    "    def __str__(self):\n",
    "        return \"this is student class where they can try to input their own data and they can try to fetch it\"\n",
    "        "
   ]
  },
  {
   "cell_type": "code",
   "execution_count": 18,
   "id": "02df9374",
   "metadata": {},
   "outputs": [
    {
     "ename": "TypeError",
     "evalue": "__init__() missing 4 required positional arguments: 'name', 'rollnumber', 'joiningdate', and 'currenttopic'",
     "output_type": "error",
     "traceback": [
      "\u001b[1;31m---------------------------------------------------------------------------\u001b[0m",
      "\u001b[1;31mTypeError\u001b[0m                                 Traceback (most recent call last)",
      "\u001b[1;32m~\\AppData\\Local\\Temp/ipykernel_6660/3930650533.py\u001b[0m in \u001b[0;36m<module>\u001b[1;34m\u001b[0m\n\u001b[1;32m----> 1\u001b[1;33m \u001b[0msrini\u001b[0m \u001b[1;33m=\u001b[0m \u001b[0mstudent\u001b[0m\u001b[1;33m(\u001b[0m\u001b[1;33m)\u001b[0m\u001b[1;33m\u001b[0m\u001b[1;33m\u001b[0m\u001b[0m\n\u001b[0m",
      "\u001b[1;31mTypeError\u001b[0m: __init__() missing 4 required positional arguments: 'name', 'rollnumber', 'joiningdate', and 'currenttopic'"
     ]
    }
   ],
   "source": [
    "srini = student()"
   ]
  },
  {
   "cell_type": "code",
   "execution_count": 19,
   "id": "7dba5921",
   "metadata": {},
   "outputs": [],
   "source": [
    "srini = student(\"srini\", 1323454, 2021, \"OOPS\")"
   ]
  },
  {
   "cell_type": "code",
   "execution_count": 20,
   "id": "98523a3a",
   "metadata": {},
   "outputs": [
    {
     "name": "stdout",
     "output_type": "stream",
     "text": [
      "duration of student in my class is:  2\n"
     ]
    }
   ],
   "source": [
    "srini.duration(2023)"
   ]
  },
  {
   "cell_type": "code",
   "execution_count": 21,
   "id": "f46b122f",
   "metadata": {},
   "outputs": [
    {
     "ename": "TypeError",
     "evalue": "'int' object is not callable",
     "output_type": "error",
     "traceback": [
      "\u001b[1;31m---------------------------------------------------------------------------\u001b[0m",
      "\u001b[1;31mTypeError\u001b[0m                                 Traceback (most recent call last)",
      "\u001b[1;32m~\\AppData\\Local\\Temp/ipykernel_6660/1811696911.py\u001b[0m in \u001b[0;36m<module>\u001b[1;34m\u001b[0m\n\u001b[1;32m----> 1\u001b[1;33m \u001b[0msrini\u001b[0m\u001b[1;33m.\u001b[0m\u001b[0mrollnumber\u001b[0m\u001b[1;33m(\u001b[0m\u001b[1;33m)\u001b[0m\u001b[1;33m\u001b[0m\u001b[1;33m\u001b[0m\u001b[0m\n\u001b[0m",
      "\u001b[1;31mTypeError\u001b[0m: 'int' object is not callable"
     ]
    }
   ],
   "source": [
    "srini.rollnumber()"
   ]
  },
  {
   "cell_type": "code",
   "execution_count": 22,
   "id": "c42a022b",
   "metadata": {},
   "outputs": [
    {
     "data": {
      "text/plain": [
       "'1323454'"
      ]
     },
     "execution_count": 22,
     "metadata": {},
     "output_type": "execute_result"
    }
   ],
   "source": [
    "srini.str_roolno()"
   ]
  },
  {
   "cell_type": "code",
   "execution_count": 26,
   "id": "55f41719",
   "metadata": {},
   "outputs": [],
   "source": [
    "mrunal= student(\"srini\", \"%%%%%%%%%\", 2021, \"OOPS\")"
   ]
  },
  {
   "cell_type": "code",
   "execution_count": 27,
   "id": "0a076716",
   "metadata": {},
   "outputs": [
    {
     "ename": "TypeError",
     "evalue": "'str' object is not callable",
     "output_type": "error",
     "traceback": [
      "\u001b[1;31m---------------------------------------------------------------------------\u001b[0m",
      "\u001b[1;31mTypeError\u001b[0m                                 Traceback (most recent call last)",
      "\u001b[1;32m~\\AppData\\Local\\Temp/ipykernel_6660/2482215055.py\u001b[0m in \u001b[0;36m<module>\u001b[1;34m\u001b[0m\n\u001b[1;32m----> 1\u001b[1;33m \u001b[0mmrunal\u001b[0m\u001b[1;33m.\u001b[0m\u001b[0mrollnumber\u001b[0m\u001b[1;33m(\u001b[0m\u001b[1;33m)\u001b[0m\u001b[1;33m\u001b[0m\u001b[1;33m\u001b[0m\u001b[0m\n\u001b[0m",
      "\u001b[1;31mTypeError\u001b[0m: 'str' object is not callable"
     ]
    }
   ],
   "source": [
    "mrunal.rollnumber()"
   ]
  },
  {
   "cell_type": "code",
   "execution_count": 31,
   "id": "4f6d9809",
   "metadata": {},
   "outputs": [],
   "source": [
    "sectionA = student([\"ram\", \"shyam\", \"bittu\", \"kittu\"], [445,435,345,2345], 2022, \"OOPS\")"
   ]
  },
  {
   "cell_type": "code",
   "execution_count": 29,
   "id": "7672a343",
   "metadata": {},
   "outputs": [],
   "source": [
    "class student:\n",
    "    def __init__(self, name, rollnumber, joiningdate, currenttopic):\n",
    "        self.name=name\n",
    "        self.rollnumber=rollnumber\n",
    "        self.joiningdate=joiningdate\n",
    "        self.currenttopic=currenttopic\n",
    "        \n",
    "    def nameparsing(self):\n",
    "        if type(self.name) == list:\n",
    "            for i in self.name:\n",
    "                print(\"the name of student is\", i)\n",
    "                \n",
    "        else:\n",
    "            print(\"provided name is not in the form of a list\")\n",
    "        \n",
    "    def crt_topic(self):\n",
    "        print(\"current topic being discussed in my class is \", self.currenttopic)\n",
    "        \n",
    "    def str_roolno(self):\n",
    "        try:\n",
    "            if type(self.rollnumber) == str:\n",
    "                print(\"do nothing\")\n",
    "            else:\n",
    "                return(str(self.rollnumber))\n",
    "        except Exception as e:\n",
    "            print(\"this is my error message\", e)\n",
    "    def duration(self, currentdate):\n",
    "        print(\"duration of student in my class is: \",  currentdate - self.joiningdate)\n",
    "        \n",
    "    def __str__(self):\n",
    "        return \"this is student class where they can try to input their own data and they can try to fetch it\"\n",
    "        "
   ]
  },
  {
   "cell_type": "code",
   "execution_count": 32,
   "id": "363495a5",
   "metadata": {},
   "outputs": [
    {
     "name": "stdout",
     "output_type": "stream",
     "text": [
      "the name of student is ram\n",
      "the name of student is shyam\n",
      "the name of student is bittu\n",
      "the name of student is kittu\n"
     ]
    }
   ],
   "source": [
    "sectionA.nameparsing()"
   ]
  },
  {
   "cell_type": "code",
   "execution_count": 3,
   "id": "54f4a941",
   "metadata": {},
   "outputs": [
    {
     "name": "stdout",
     "output_type": "stream",
     "text": [
      "Enter the mode in which you want to open the filew+\n",
      "Enter what you want to write in the fileIt is task given by Sudhanshu Sir in the classroom\n",
      "['It is task given by Sudhanshu Sir in the classroom']\n",
      "I was asked to append something in the previous file itself\n"
     ]
    }
   ],
   "source": [
    "#its a class task\n",
    "\n",
    "import logging as lg\n",
    "lg.basicConfig(filename='OOPS.log', level=lg.ERROR)\n",
    "\n",
    "class data:\n",
    "    def __init__(self, filename, filetype, date, size):\n",
    "        self.filename = filename\n",
    "        self.filetype = filetype\n",
    "        self.date = date\n",
    "        self.size = size\n",
    "        \n",
    "        \n",
    "        \n",
    "    def OPENERandWRITER(self):\n",
    "        mode = input(\"Enter the mode in which you want to open the file\")\n",
    "        try:\n",
    "            with open(self.filename+\".\"+self.filetype, mode) as f:\n",
    "                f.write(input(\"Enter what you want to write in the file\"))\n",
    "                f.close()\n",
    "                \n",
    "            \n",
    "                \n",
    "        except Exception as e:\n",
    "            self.LOGGER(e)\n",
    "            \n",
    "            \n",
    "        \n",
    "    def READER(self):\n",
    "        try:\n",
    "            with open(self.filename+\".\"+self.filetype, \"r\") as f:\n",
    "                f.seek(0)\n",
    "                print(f.readlines())\n",
    "                f.close()\n",
    "            \n",
    "        except FileNotFoundError as e:\n",
    "            self.LOGGER(e)\n",
    "        except Exception as e:\n",
    "            self.LOGGER(e)\n",
    "            \n",
    "            \n",
    "        \n",
    "    def APPENDER(self):\n",
    "        try:\n",
    "            with open(self.filename+\".\"+self.filetype, \"a\") as f:\n",
    "                f.seek(0)\n",
    "                f.write(input())\n",
    "                f.close()\n",
    "            \n",
    "        except FileNotFoundError as e:\n",
    "            self.LOGGER(e)\n",
    "        except Exception as e:\n",
    "            self.LOGGER(e)\n",
    "            \n",
    "    \n",
    "\n",
    "\n",
    "    def LOGGER(self, log):\n",
    "        lg.error(log) \n",
    "    \n",
    "        \n",
    "    def __str__(self):\n",
    "        return \"\"\"Its a data class\n",
    "        You can open a file and wrie something in it.\n",
    "        you can also read what you have written and \n",
    "        may append some data in it if needed further\"\"\"\n",
    "        \n",
    "    \n",
    "        \n",
    "Aruments_in_class_data = data(\"Practice\", \"txt\", \"16th jan 2022\", \"<5 mb\")\n",
    "Aruments_in_class_data.OPENERandWRITER()\n",
    "Aruments_in_class_data.READER()\n",
    "Aruments_in_class_data.APPENDER()"
   ]
  },
  {
   "cell_type": "code",
   "execution_count": null,
   "id": "de34e4db",
   "metadata": {},
   "outputs": [],
   "source": []
  }
 ],
 "metadata": {
  "kernelspec": {
   "display_name": "Python 3 (ipykernel)",
   "language": "python",
   "name": "python3"
  },
  "language_info": {
   "codemirror_mode": {
    "name": "ipython",
    "version": 3
   },
   "file_extension": ".py",
   "mimetype": "text/x-python",
   "name": "python",
   "nbconvert_exporter": "python",
   "pygments_lexer": "ipython3",
   "version": "3.9.7"
  }
 },
 "nbformat": 4,
 "nbformat_minor": 5
}
