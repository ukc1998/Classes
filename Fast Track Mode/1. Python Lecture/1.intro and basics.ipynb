{
 "cells": [
  {
   "cell_type": "code",
   "execution_count": 3,
   "id": "ccb97b37",
   "metadata": {},
   "outputs": [
    {
     "name": "stdout",
     "output_type": "stream",
     "text": [
      "input a number   ----fghn\n"
     ]
    },
    {
     "ename": "ValueError",
     "evalue": "invalid literal for int() with base 10: 'fghn'",
     "output_type": "error",
     "traceback": [
      "\u001b[1;31m---------------------------------------------------------------------------\u001b[0m",
      "\u001b[1;31mValueError\u001b[0m                                Traceback (most recent call last)",
      "\u001b[1;32m~\\AppData\\Local\\Temp/ipykernel_12000/3878958569.py\u001b[0m in \u001b[0;36m<module>\u001b[1;34m\u001b[0m\n\u001b[1;32m----> 1\u001b[1;33m \u001b[0ma\u001b[0m\u001b[1;33m=\u001b[0m\u001b[0mint\u001b[0m\u001b[1;33m(\u001b[0m\u001b[0minput\u001b[0m\u001b[1;33m(\u001b[0m\u001b[1;34m\"input a number   ----\"\u001b[0m\u001b[1;33m)\u001b[0m\u001b[1;33m)\u001b[0m\u001b[1;33m\u001b[0m\u001b[1;33m\u001b[0m\u001b[0m\n\u001b[0m\u001b[0;32m      2\u001b[0m \u001b[1;32mif\u001b[0m \u001b[0ma\u001b[0m \u001b[1;33m<\u001b[0m \u001b[1;36m50\u001b[0m\u001b[1;33m:\u001b[0m\u001b[1;33m\u001b[0m\u001b[1;33m\u001b[0m\u001b[0m\n\u001b[0;32m      3\u001b[0m     \u001b[0mprint\u001b[0m\u001b[1;33m(\u001b[0m\u001b[1;34m\"Data input is lesser than 50 and it's fine\"\u001b[0m\u001b[1;33m)\u001b[0m\u001b[1;33m\u001b[0m\u001b[1;33m\u001b[0m\u001b[0m\n",
      "\u001b[1;31mValueError\u001b[0m: invalid literal for int() with base 10: 'fghn'"
     ]
    }
   ],
   "source": [
    "a=int(input(\"input a number   ----\"))\n",
    "if a < 50:\n",
    "    print(\"Data input is lesser than 50 and it's fine\")"
   ]
  },
  {
   "cell_type": "code",
   "execution_count": 4,
   "id": "69532302",
   "metadata": {},
   "outputs": [
    {
     "name": "stdout",
     "output_type": "stream",
     "text": [
      "input a number   ----343234\n"
     ]
    }
   ],
   "source": [
    "a=int(input(\"input a number   ----\"))\n",
    "if a < 50:\n",
    "    print(\"Data input is lesser than 50 and it's fine\")"
   ]
  },
  {
   "cell_type": "code",
   "execution_count": 5,
   "id": "89923ac3",
   "metadata": {},
   "outputs": [
    {
     "name": "stdout",
     "output_type": "stream",
     "text": [
      "input a number   ----12\n",
      "Data input is lesser than 50 and it's fine\n"
     ]
    }
   ],
   "source": [
    "a=int(input(\"input a number   ----\"))\n",
    "if a < 50:\n",
    "    print(\"Data input is lesser than 50 and it's fine\")"
   ]
  },
  {
   "cell_type": "code",
   "execution_count": 6,
   "id": "43e14437",
   "metadata": {},
   "outputs": [
    {
     "name": "stdout",
     "output_type": "stream",
     "text": [
      "input a number   ----123\n",
      "Data input is Greater than 50\n"
     ]
    }
   ],
   "source": [
    "a=int(input(\"input a number   ----\"))\n",
    "if a < 50:\n",
    "    print(\"Data input is lesser than 50 and it's fine\")\n",
    "else:\n",
    "    print(\"Data input is Greater than 50\")"
   ]
  },
  {
   "cell_type": "code",
   "execution_count": null,
   "id": "c99463aa",
   "metadata": {},
   "outputs": [],
   "source": []
  }
 ],
 "metadata": {
  "kernelspec": {
   "display_name": "Python 3 (ipykernel)",
   "language": "python",
   "name": "python3"
  },
  "language_info": {
   "codemirror_mode": {
    "name": "ipython",
    "version": 3
   },
   "file_extension": ".py",
   "mimetype": "text/x-python",
   "name": "python",
   "nbconvert_exporter": "python",
   "pygments_lexer": "ipython3",
   "version": "3.9.7"
  }
 },
 "nbformat": 4,
 "nbformat_minor": 5
}
