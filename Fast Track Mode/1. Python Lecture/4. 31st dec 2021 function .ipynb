{
 "cells": [
  {
   "cell_type": "code",
   "execution_count": 1,
   "id": "8252bef8",
   "metadata": {},
   "outputs": [],
   "source": [
    "def test3(m,n):\n",
    "    return m*40, n*10, m+n"
   ]
  },
  {
   "cell_type": "code",
   "execution_count": 3,
   "id": "6835f8ff",
   "metadata": {},
   "outputs": [
    {
     "data": {
      "text/plain": [
       "(120, 50, 8)"
      ]
     },
     "execution_count": 3,
     "metadata": {},
     "output_type": "execute_result"
    }
   ],
   "source": [
    "test3(3,5)"
   ]
  },
  {
   "cell_type": "code",
   "execution_count": 4,
   "id": "b68a2c8a",
   "metadata": {},
   "outputs": [
    {
     "data": {
      "text/plain": [
       "tuple"
      ]
     },
     "execution_count": 4,
     "metadata": {},
     "output_type": "execute_result"
    }
   ],
   "source": [
    "type(test3(3,5))"
   ]
  },
  {
   "cell_type": "code",
   "execution_count": 5,
   "id": "f032310c",
   "metadata": {},
   "outputs": [],
   "source": [
    "a,b,c = test3(3,5)"
   ]
  },
  {
   "cell_type": "code",
   "execution_count": 6,
   "id": "76ab6b62",
   "metadata": {},
   "outputs": [
    {
     "data": {
      "text/plain": [
       "120"
      ]
     },
     "execution_count": 6,
     "metadata": {},
     "output_type": "execute_result"
    }
   ],
   "source": [
    "a"
   ]
  },
  {
   "cell_type": "code",
   "execution_count": 7,
   "id": "d5ba5955",
   "metadata": {},
   "outputs": [
    {
     "data": {
      "text/plain": [
       "50"
      ]
     },
     "execution_count": 7,
     "metadata": {},
     "output_type": "execute_result"
    }
   ],
   "source": [
    "b"
   ]
  },
  {
   "cell_type": "code",
   "execution_count": 8,
   "id": "825f7bbd",
   "metadata": {},
   "outputs": [
    {
     "data": {
      "text/plain": [
       "8"
      ]
     },
     "execution_count": 8,
     "metadata": {},
     "output_type": "execute_result"
    }
   ],
   "source": [
    "c"
   ]
  },
  {
   "cell_type": "code",
   "execution_count": 10,
   "id": "163cb547",
   "metadata": {},
   "outputs": [],
   "source": [
    "u,v, _ = test3(3,5)"
   ]
  },
  {
   "cell_type": "code",
   "execution_count": 11,
   "id": "e8d6765a",
   "metadata": {},
   "outputs": [
    {
     "data": {
      "text/plain": [
       "120"
      ]
     },
     "execution_count": 11,
     "metadata": {},
     "output_type": "execute_result"
    }
   ],
   "source": [
    "u"
   ]
  },
  {
   "cell_type": "code",
   "execution_count": 12,
   "id": "9a8235af",
   "metadata": {},
   "outputs": [
    {
     "data": {
      "text/plain": [
       "50"
      ]
     },
     "execution_count": 12,
     "metadata": {},
     "output_type": "execute_result"
    }
   ],
   "source": [
    "v"
   ]
  },
  {
   "cell_type": "code",
   "execution_count": 13,
   "id": "8ada9d0c",
   "metadata": {},
   "outputs": [
    {
     "data": {
      "text/plain": [
       "50"
      ]
     },
     "execution_count": 13,
     "metadata": {},
     "output_type": "execute_result"
    }
   ],
   "source": [
    "_"
   ]
  },
  {
   "cell_type": "code",
   "execution_count": 14,
   "id": "03f827ce",
   "metadata": {},
   "outputs": [
    {
     "ename": "ValueError",
     "evalue": "too many values to unpack (expected 2)",
     "output_type": "error",
     "traceback": [
      "\u001b[1;31m---------------------------------------------------------------------------\u001b[0m",
      "\u001b[1;31mValueError\u001b[0m                                Traceback (most recent call last)",
      "\u001b[1;32m~\\AppData\\Local\\Temp/ipykernel_10644/3509450221.py\u001b[0m in \u001b[0;36m<module>\u001b[1;34m\u001b[0m\n\u001b[1;32m----> 1\u001b[1;33m \u001b[0mu\u001b[0m\u001b[1;33m,\u001b[0m\u001b[0mv\u001b[0m\u001b[1;33m=\u001b[0m \u001b[0mtest3\u001b[0m\u001b[1;33m(\u001b[0m\u001b[1;36m3\u001b[0m\u001b[1;33m,\u001b[0m\u001b[1;36m5\u001b[0m\u001b[1;33m)\u001b[0m\u001b[1;33m\u001b[0m\u001b[1;33m\u001b[0m\u001b[0m\n\u001b[0m",
      "\u001b[1;31mValueError\u001b[0m: too many values to unpack (expected 2)"
     ]
    }
   ],
   "source": [
    "u,v= test3(3,5)"
   ]
  },
  {
   "cell_type": "code",
   "execution_count": 15,
   "id": "e69ed815",
   "metadata": {},
   "outputs": [],
   "source": [
    "u, _, w = test3(3,5)"
   ]
  },
  {
   "cell_type": "code",
   "execution_count": 16,
   "id": "10890dab",
   "metadata": {},
   "outputs": [
    {
     "data": {
      "text/plain": [
       "8"
      ]
     },
     "execution_count": 16,
     "metadata": {},
     "output_type": "execute_result"
    }
   ],
   "source": [
    "w"
   ]
  },
  {
   "cell_type": "code",
   "execution_count": 17,
   "id": "da6da7a6",
   "metadata": {},
   "outputs": [
    {
     "data": {
      "text/plain": [
       "120"
      ]
     },
     "execution_count": 17,
     "metadata": {},
     "output_type": "execute_result"
    }
   ],
   "source": [
    "u"
   ]
  },
  {
   "cell_type": "code",
   "execution_count": 18,
   "id": "d47d5c9a",
   "metadata": {},
   "outputs": [
    {
     "data": {
      "text/plain": [
       "120"
      ]
     },
     "execution_count": 18,
     "metadata": {},
     "output_type": "execute_result"
    }
   ],
   "source": [
    "_"
   ]
  },
  {
   "cell_type": "code",
   "execution_count": 19,
   "id": "ad360a76",
   "metadata": {},
   "outputs": [],
   "source": [
    "_,_,w =test3(3,5)"
   ]
  },
  {
   "cell_type": "code",
   "execution_count": 20,
   "id": "461aa665",
   "metadata": {},
   "outputs": [
    {
     "data": {
      "text/plain": [
       "50"
      ]
     },
     "execution_count": 20,
     "metadata": {},
     "output_type": "execute_result"
    }
   ],
   "source": [
    "_"
   ]
  },
  {
   "cell_type": "code",
   "execution_count": 21,
   "id": "0e2fb7b9",
   "metadata": {},
   "outputs": [
    {
     "data": {
      "text/plain": [
       "50"
      ]
     },
     "execution_count": 21,
     "metadata": {},
     "output_type": "execute_result"
    }
   ],
   "source": [
    "_"
   ]
  },
  {
   "cell_type": "code",
   "execution_count": 22,
   "id": "cc980033",
   "metadata": {},
   "outputs": [
    {
     "data": {
      "text/plain": [
       "8"
      ]
     },
     "execution_count": 22,
     "metadata": {},
     "output_type": "execute_result"
    }
   ],
   "source": [
    "w"
   ]
  },
  {
   "cell_type": "code",
   "execution_count": 23,
   "id": "672c89fd",
   "metadata": {},
   "outputs": [],
   "source": [
    "_,_,_= test3(3,5)"
   ]
  },
  {
   "cell_type": "code",
   "execution_count": 24,
   "id": "a094d361",
   "metadata": {},
   "outputs": [
    {
     "data": {
      "text/plain": [
       "8"
      ]
     },
     "execution_count": 24,
     "metadata": {},
     "output_type": "execute_result"
    }
   ],
   "source": [
    "_"
   ]
  },
  {
   "cell_type": "code",
   "execution_count": 26,
   "id": "867c11f2",
   "metadata": {},
   "outputs": [
    {
     "data": {
      "text/plain": [
       "8"
      ]
     },
     "execution_count": 26,
     "metadata": {},
     "output_type": "execute_result"
    }
   ],
   "source": [
    "_"
   ]
  },
  {
   "cell_type": "code",
   "execution_count": 27,
   "id": "6da90382",
   "metadata": {},
   "outputs": [],
   "source": [
    "def test10(n:30,m):\n",
    "    return n+m"
   ]
  },
  {
   "cell_type": "code",
   "execution_count": 33,
   "id": "3407178c",
   "metadata": {},
   "outputs": [
    {
     "ename": "TypeError",
     "evalue": "test10() missing 1 required positional argument: 'm'",
     "output_type": "error",
     "traceback": [
      "\u001b[1;31m---------------------------------------------------------------------------\u001b[0m",
      "\u001b[1;31mTypeError\u001b[0m                                 Traceback (most recent call last)",
      "\u001b[1;32m~\\AppData\\Local\\Temp/ipykernel_10644/2195685240.py\u001b[0m in \u001b[0;36m<module>\u001b[1;34m\u001b[0m\n\u001b[1;32m----> 1\u001b[1;33m \u001b[0mtest10\u001b[0m\u001b[1;33m(\u001b[0m\u001b[1;36m60\u001b[0m\u001b[1;33m)\u001b[0m\u001b[1;33m\u001b[0m\u001b[1;33m\u001b[0m\u001b[0m\n\u001b[0m",
      "\u001b[1;31mTypeError\u001b[0m: test10() missing 1 required positional argument: 'm'"
     ]
    }
   ],
   "source": [
    "test10(60)"
   ]
  },
  {
   "cell_type": "code",
   "execution_count": 30,
   "id": "d7501e32",
   "metadata": {},
   "outputs": [],
   "source": [
    "def test10(n,m:30):\n",
    "    return n+m"
   ]
  },
  {
   "cell_type": "code",
   "execution_count": 34,
   "id": "bbc7cb51",
   "metadata": {},
   "outputs": [
    {
     "ename": "TypeError",
     "evalue": "test10() missing 1 required positional argument: 'm'",
     "output_type": "error",
     "traceback": [
      "\u001b[1;31m---------------------------------------------------------------------------\u001b[0m",
      "\u001b[1;31mTypeError\u001b[0m                                 Traceback (most recent call last)",
      "\u001b[1;32m~\\AppData\\Local\\Temp/ipykernel_10644/2195685240.py\u001b[0m in \u001b[0;36m<module>\u001b[1;34m\u001b[0m\n\u001b[1;32m----> 1\u001b[1;33m \u001b[0mtest10\u001b[0m\u001b[1;33m(\u001b[0m\u001b[1;36m60\u001b[0m\u001b[1;33m)\u001b[0m\u001b[1;33m\u001b[0m\u001b[1;33m\u001b[0m\u001b[0m\n\u001b[0m",
      "\u001b[1;31mTypeError\u001b[0m: test10() missing 1 required positional argument: 'm'"
     ]
    }
   ],
   "source": [
    "test10(60)"
   ]
  },
  {
   "cell_type": "code",
   "execution_count": 35,
   "id": "043dc114",
   "metadata": {},
   "outputs": [],
   "source": [
    "def test10(n,m=30):\n",
    "    return n+m"
   ]
  },
  {
   "cell_type": "code",
   "execution_count": 36,
   "id": "5d207a83",
   "metadata": {},
   "outputs": [
    {
     "data": {
      "text/plain": [
       "90"
      ]
     },
     "execution_count": 36,
     "metadata": {},
     "output_type": "execute_result"
    }
   ],
   "source": [
    "test10(60)"
   ]
  },
  {
   "cell_type": "code",
   "execution_count": 37,
   "id": "2861b30c",
   "metadata": {},
   "outputs": [
    {
     "ename": "SyntaxError",
     "evalue": "non-default argument follows default argument (Temp/ipykernel_10644/1114327253.py, line 1)",
     "output_type": "error",
     "traceback": [
      "\u001b[1;36m  File \u001b[1;32m\"C:\\Users\\Utkarsh\\AppData\\Local\\Temp/ipykernel_10644/1114327253.py\"\u001b[1;36m, line \u001b[1;32m1\u001b[0m\n\u001b[1;33m    def test11(n=12,m):\u001b[0m\n\u001b[1;37m                     ^\u001b[0m\n\u001b[1;31mSyntaxError\u001b[0m\u001b[1;31m:\u001b[0m non-default argument follows default argument\n"
     ]
    }
   ],
   "source": [
    "def test11(n=12,m):\n",
    "    return n+m"
   ]
  },
  {
   "cell_type": "code",
   "execution_count": 38,
   "id": "55de5192",
   "metadata": {},
   "outputs": [],
   "source": [
    "def boolx(x=True, y=False):\n",
    "    return x+y"
   ]
  },
  {
   "cell_type": "code",
   "execution_count": 39,
   "id": "2747af22",
   "metadata": {},
   "outputs": [
    {
     "data": {
      "text/plain": [
       "1"
      ]
     },
     "execution_count": 39,
     "metadata": {},
     "output_type": "execute_result"
    }
   ],
   "source": [
    "boolx()"
   ]
  },
  {
   "cell_type": "code",
   "execution_count": 40,
   "id": "9495c840",
   "metadata": {},
   "outputs": [
    {
     "data": {
      "text/plain": [
       "0"
      ]
     },
     "execution_count": 40,
     "metadata": {},
     "output_type": "execute_result"
    }
   ],
   "source": [
    "boolx(False)"
   ]
  },
  {
   "cell_type": "code",
   "execution_count": 41,
   "id": "0890402b",
   "metadata": {},
   "outputs": [
    {
     "data": {
      "text/plain": [
       "8"
      ]
     },
     "execution_count": 41,
     "metadata": {},
     "output_type": "execute_result"
    }
   ],
   "source": [
    "boolx(False, 8)"
   ]
  },
  {
   "cell_type": "code",
   "execution_count": 42,
   "id": "7ea6b4f3",
   "metadata": {},
   "outputs": [
    {
     "data": {
      "text/plain": [
       "100"
      ]
     },
     "execution_count": 42,
     "metadata": {},
     "output_type": "execute_result"
    }
   ],
   "source": [
    "boolx(100, False)"
   ]
  },
  {
   "cell_type": "code",
   "execution_count": 44,
   "id": "02de491f",
   "metadata": {},
   "outputs": [],
   "source": [
    "def travel(bike=True, car=False):\n",
    "    plan_travel= bike or car\n",
    "    return bike, car, plan_travel"
   ]
  },
  {
   "cell_type": "code",
   "execution_count": 45,
   "id": "e845c7f5",
   "metadata": {},
   "outputs": [
    {
     "data": {
      "text/plain": [
       "(True, False, True)"
      ]
     },
     "execution_count": 45,
     "metadata": {},
     "output_type": "execute_result"
    }
   ],
   "source": [
    "travel()"
   ]
  },
  {
   "cell_type": "code",
   "execution_count": 46,
   "id": "edb900b6",
   "metadata": {},
   "outputs": [
    {
     "data": {
      "text/plain": [
       "(False, False, False)"
      ]
     },
     "execution_count": 46,
     "metadata": {},
     "output_type": "execute_result"
    }
   ],
   "source": [
    "travel(False) \n",
    "#bike=false (overrided)"
   ]
  },
  {
   "cell_type": "code",
   "execution_count": 47,
   "id": "59c7da52",
   "metadata": {},
   "outputs": [
    {
     "data": {
      "text/plain": [
       "(True, True, True)"
      ]
     },
     "execution_count": 47,
     "metadata": {},
     "output_type": "execute_result"
    }
   ],
   "source": [
    "travel(car=True) \n",
    "#car=True (overrided)"
   ]
  },
  {
   "cell_type": "code",
   "execution_count": 48,
   "id": "183532a8",
   "metadata": {},
   "outputs": [
    {
     "data": {
      "text/plain": [
       "(8, True, 8)"
      ]
     },
     "execution_count": 48,
     "metadata": {},
     "output_type": "execute_result"
    }
   ],
   "source": [
    "travel(_,True)"
   ]
  },
  {
   "cell_type": "code",
   "execution_count": 49,
   "id": "d38a7a05",
   "metadata": {},
   "outputs": [
    {
     "data": {
      "text/plain": [
       "8"
      ]
     },
     "execution_count": 49,
     "metadata": {},
     "output_type": "execute_result"
    }
   ],
   "source": [
    "_"
   ]
  },
  {
   "cell_type": "code",
   "execution_count": 51,
   "id": "16821155",
   "metadata": {},
   "outputs": [],
   "source": [
    "def test12(*args):\n",
    "    return args"
   ]
  },
  {
   "cell_type": "code",
   "execution_count": 52,
   "id": "d593b05b",
   "metadata": {},
   "outputs": [
    {
     "data": {
      "text/plain": [
       "('Asdfg',\n",
       " 'sadfg',\n",
       " 123,\n",
       " 2345,\n",
       " 2132454,\n",
       " 21345,\n",
       " 1234.21345,\n",
       " (1234+1234j),\n",
       " [123, 2134, 234, 1234, 'asdf'])"
      ]
     },
     "execution_count": 52,
     "metadata": {},
     "output_type": "execute_result"
    }
   ],
   "source": [
    "test12(\"Asdfg\", \"sadfg\", 123,2345,2132454,21345,1234.21345, 1234+1234j, [123,2134,234,1234,\"asdf\"])"
   ]
  },
  {
   "cell_type": "code",
   "execution_count": 66,
   "id": "404cb812",
   "metadata": {},
   "outputs": [],
   "source": [
    "def test13(*args):\n",
    "    l=[]\n",
    "    for i in args:\n",
    "        if type(i)==list:\n",
    "            l.append(i)\n",
    "    return l\n",
    "            "
   ]
  },
  {
   "cell_type": "code",
   "execution_count": 67,
   "id": "446598ce",
   "metadata": {},
   "outputs": [
    {
     "data": {
      "text/plain": [
       "[['sdfg', 21345, (1234+1234j)], [1, 2, 3, 4, 5]]"
      ]
     },
     "execution_count": 67,
     "metadata": {},
     "output_type": "execute_result"
    }
   ],
   "source": [
    "test13(\"asdfb\", \"sadfg\", 2134, 2134.2345,True,[\"sdfg\",21345,1234+1234j], [1,2,3,4,5])"
   ]
  },
  {
   "cell_type": "code",
   "execution_count": 68,
   "id": "cbf0dcc4",
   "metadata": {},
   "outputs": [],
   "source": [
    "def test16(**kwargs):\n",
    "    return kwargs"
   ]
  },
  {
   "cell_type": "code",
   "execution_count": 69,
   "id": "ae19cdc8",
   "metadata": {},
   "outputs": [
    {
     "data": {
      "text/plain": [
       "{'a': 5, 'b': 324, 'c': 3434, 'd': 1234354}"
      ]
     },
     "execution_count": 69,
     "metadata": {},
     "output_type": "execute_result"
    }
   ],
   "source": [
    "test16(a=5,b=324,c=3434,d=1234354)"
   ]
  },
  {
   "cell_type": "raw",
   "id": "68245b4e",
   "metadata": {},
   "source": [
    "#QUESTION: 1. Create a function to take any number of mixed data and try to create a lsit of separate data based on datatype and return multiple output. \n",
    "\n",
    "#QUESTION: 2. Create a function which will be able to use *args and **kwargs and it would be able to do all the list value concatenation and return a list."
   ]
  },
  {
   "cell_type": "code",
   "execution_count": 74,
   "id": "ccf0cbff",
   "metadata": {},
   "outputs": [],
   "source": [
    "def mixed_data_different_bucket(*args):\n",
    "    i=[]\n",
    "    f=[]\n",
    "    c=[]\n",
    "    b=[]\n",
    "    s=[]\n",
    "    l=[]\n",
    "    t=[]\n",
    "    d=[]\n",
    "    SET=[]\n",
    "    for j in args:\n",
    "            if type(j)==int:\n",
    "                i.append(j)\n",
    "            elif type(j)==float:\n",
    "                f.append(j)\n",
    "            elif type(j)==complex:\n",
    "                c.append(j)\n",
    "            elif type(j)==bool:\n",
    "                b.append(j)\n",
    "            elif type(j)==str:\n",
    "                s.append(j)\n",
    "            elif type(j)==list:\n",
    "                l.append(j)\n",
    "            elif type(j)==tuple:\n",
    "                t.append(j)\n",
    "            elif type(j)==dict:\n",
    "                d.append(j)\n",
    "            elif type(j)==set:\n",
    "                SET.append(j)\n",
    "    return i,f,c,b,s,l,t,d,SET"
   ]
  },
  {
   "cell_type": "code",
   "execution_count": 75,
   "id": "82fd2906",
   "metadata": {},
   "outputs": [
    {
     "data": {
      "text/plain": [
       "([1234],\n",
       " [],\n",
       " [],\n",
       " [],\n",
       " ['afsdgfhg'],\n",
       " [[23145, 32435465, 'Asdgfh']],\n",
       " [],\n",
       " [],\n",
       " [{1234, 13245, 2143546, 12343546}])"
      ]
     },
     "execution_count": 75,
     "metadata": {},
     "output_type": "execute_result"
    }
   ],
   "source": [
    "mixed_data_different_bucket(1234,\"afsdgfhg\",[23145,32435465,\"Asdgfh\"],{1234,13245,2143546,12343546})"
   ]
  },
  {
   "cell_type": "code",
   "execution_count": 3,
   "id": "2e0263f4",
   "metadata": {},
   "outputs": [],
   "source": [
    "def fun1(*args):\n",
    "    Data={}\n",
    "    for i in args:\n",
    "        if type(i) in Data:\n",
    "            Data[type(i)].append(i)\n",
    "        else:\n",
    "            Data[type(i)] = [i]\n",
    "    return Data"
   ]
  },
  {
   "cell_type": "code",
   "execution_count": 4,
   "id": "6cd9dc5c",
   "metadata": {},
   "outputs": [
    {
     "data": {
      "text/plain": [
       "{int: [1234],\n",
       " str: ['afsdgfhg'],\n",
       " list: [[23145, 32435465, 'Asdgfh']],\n",
       " set: [{1234, 13245, 2143546, 12343546}]}"
      ]
     },
     "execution_count": 4,
     "metadata": {},
     "output_type": "execute_result"
    }
   ],
   "source": [
    "fun1(1234,\"afsdgfhg\",[23145,32435465,\"Asdgfh\"],{1234,13245,2143546,12343546})"
   ]
  },
  {
   "cell_type": "code",
   "execution_count": 127,
   "id": "8a668d54",
   "metadata": {},
   "outputs": [
    {
     "data": {
      "text/plain": [
       "{int: [1234],\n",
       " str: ['afsdgfhg'],\n",
       " list: [[23145, 32435465, 'Asdgfh']],\n",
       " set: [{1234, 13245, 2143546, 12343546}]}"
      ]
     },
     "execution_count": 127,
     "metadata": {},
     "output_type": "execute_result"
    }
   ],
   "source": [
    "fun1(1234,\"afsdgfhg\",[23145,32435465,\"Asdgfh\"],{1234,13245,2143546,12343546})"
   ]
  },
  {
   "cell_type": "code",
   "execution_count": 81,
   "id": "33c7f36c",
   "metadata": {},
   "outputs": [],
   "source": [
    "def concatenatorrr(*args, **kwargs ):\n",
    "    l=[i for i in args]\n",
    "    d=[i[1] for i in kwargs.items() if type(i[1])==list]\n",
    "    return l,d"
   ]
  },
  {
   "cell_type": "code",
   "execution_count": 82,
   "id": "36c1baf1",
   "metadata": {},
   "outputs": [
    {
     "data": {
      "text/plain": [
       "([[4, 5, 6, 7, 8, 9], [5, 6, 7, 8, 9, 0], 5, 5, 6, 7], [])"
      ]
     },
     "execution_count": 82,
     "metadata": {},
     "output_type": "execute_result"
    }
   ],
   "source": [
    "concatenatorrr([4,5,6,7,8,9], [5,6,7,8,9,0], 5,5,6,7, a=34,b=21324, c=213425 )"
   ]
  },
  {
   "cell_type": "code",
   "execution_count": 83,
   "id": "ed6681cc",
   "metadata": {},
   "outputs": [
    {
     "data": {
      "text/plain": [
       "([[4, 5, 6, 7, 8, 9], [5, 6, 7, 8, 9, 0], 5, 5, 6, 7],\n",
       " [[123, 13243, 213, 213454]])"
      ]
     },
     "execution_count": 83,
     "metadata": {},
     "output_type": "execute_result"
    }
   ],
   "source": [
    "concatenatorrr([4,5,6,7,8,9], [5,6,7,8,9,0], 5,5,6,7, a=34,b=21324, c=213425, d=[123,13243,213,213454] )"
   ]
  },
  {
   "cell_type": "code",
   "execution_count": 84,
   "id": "80215e1d",
   "metadata": {},
   "outputs": [],
   "source": [
    "def test18(**kwargs):\n",
    "    return kwargs"
   ]
  },
  {
   "cell_type": "code",
   "execution_count": 85,
   "id": "7b5d7d6a",
   "metadata": {},
   "outputs": [
    {
     "data": {
      "text/plain": [
       "{'a': [1, 2, 3, 4, 5, 6],\n",
       " 'b': 6,\n",
       " 'c': 6,\n",
       " 'd': 78,\n",
       " 'e': 'sudh',\n",
       " 'f': [4, 5, 6, 7]}"
      ]
     },
     "execution_count": 85,
     "metadata": {},
     "output_type": "execute_result"
    }
   ],
   "source": [
    "test18(a=[1,2,3,4,5,6], b=6,c=6,d=78,e=\"sudh\", f=[4,5,6,7])"
   ]
  },
  {
   "cell_type": "code",
   "execution_count": 101,
   "id": "e2b3c42a",
   "metadata": {},
   "outputs": [],
   "source": [
    "def test19(**kwargs):\n",
    "    for i in kwargs.items():\n",
    "        print(i)\n",
    "    return kwargs\n"
   ]
  },
  {
   "cell_type": "code",
   "execution_count": 102,
   "id": "f0416d97",
   "metadata": {},
   "outputs": [
    {
     "name": "stdout",
     "output_type": "stream",
     "text": [
      "('a', [1, 2, 3, 4, 5, 6])\n",
      "('b', 6)\n",
      "('c', 6)\n",
      "('d', 78)\n",
      "('e', 'sudh')\n",
      "('f', [4, 5, 6, 7])\n"
     ]
    },
    {
     "data": {
      "text/plain": [
       "{'a': [1, 2, 3, 4, 5, 6],\n",
       " 'b': 6,\n",
       " 'c': 6,\n",
       " 'd': 78,\n",
       " 'e': 'sudh',\n",
       " 'f': [4, 5, 6, 7]}"
      ]
     },
     "execution_count": 102,
     "metadata": {},
     "output_type": "execute_result"
    }
   ],
   "source": [
    "test19(a=[1,2,3,4,5,6], b=6,c=6,d=78,e=\"sudh\", f=[4,5,6,7])"
   ]
  },
  {
   "cell_type": "code",
   "execution_count": 112,
   "id": "e0d14bbc",
   "metadata": {},
   "outputs": [],
   "source": [
    "def test20(**kwargs):\n",
    "    for i in kwargs.items():\n",
    "        if type(i[1])==list:\n",
    "            if \"sudh\" in i[1]:\n",
    "                print(\"your name was found in the following list: \")\n",
    "                print(i[1])\n",
    "    return kwargs\n"
   ]
  },
  {
   "cell_type": "code",
   "execution_count": 113,
   "id": "c4f3a99a",
   "metadata": {},
   "outputs": [
    {
     "name": "stdout",
     "output_type": "stream",
     "text": [
      "your name was found in the following list: \n",
      "['sudh', 1234567, (234+5678j)]\n"
     ]
    },
    {
     "data": {
      "text/plain": [
       "{'a': [1, 2, 3, 4, 5, 6],\n",
       " 'b': 6,\n",
       " 'c': 6,\n",
       " 'd': 78,\n",
       " 'e': ['sudh', 1234567, (234+5678j)],\n",
       " 'f': [4, 5, 6, 7]}"
      ]
     },
     "execution_count": 113,
     "metadata": {},
     "output_type": "execute_result"
    }
   ],
   "source": [
    "test20(a=[1,2,3,4,5,6], b=6,c=6,d=78,e=[\"sudh\", 1234567, 234+5678j], f=[4,5,6,7])"
   ]
  },
  {
   "cell_type": "code",
   "execution_count": 114,
   "id": "fd8b8552",
   "metadata": {},
   "outputs": [],
   "source": [
    "def test20(**kwargs):\n",
    "    for i in kwargs.values():\n",
    "        if type(i)==list:\n",
    "            if \"sudh\" in i:\n",
    "                print(\"your name was found in the following list: \")\n",
    "                print(i)\n",
    "    return kwargs\n"
   ]
  },
  {
   "cell_type": "code",
   "execution_count": 115,
   "id": "c654fb75",
   "metadata": {},
   "outputs": [
    {
     "name": "stdout",
     "output_type": "stream",
     "text": [
      "your name was found in the following list: \n",
      "['sudh', 1234567, (234+5678j)]\n"
     ]
    },
    {
     "data": {
      "text/plain": [
       "{'a': [1, 2, 3, 4, 5, 6],\n",
       " 'b': 6,\n",
       " 'c': 6,\n",
       " 'd': 78,\n",
       " 'e': ['sudh', 1234567, (234+5678j)],\n",
       " 'f': [4, 5, 6, 7]}"
      ]
     },
     "execution_count": 115,
     "metadata": {},
     "output_type": "execute_result"
    }
   ],
   "source": [
    "test20(a=[1,2,3,4,5,6], b=6,c=6,d=78,e=[\"sudh\", 1234567, 234+5678j], f=[4,5,6,7])"
   ]
  },
  {
   "cell_type": "code",
   "execution_count": null,
   "id": "b877756b",
   "metadata": {},
   "outputs": [],
   "source": [
    "(asctime)"
   ]
  }
 ],
 "metadata": {
  "kernelspec": {
   "display_name": "Python 3 (ipykernel)",
   "language": "python",
   "name": "python3"
  },
  "language_info": {
   "codemirror_mode": {
    "name": "ipython",
    "version": 3
   },
   "file_extension": ".py",
   "mimetype": "text/x-python",
   "name": "python",
   "nbconvert_exporter": "python",
   "pygments_lexer": "ipython3",
   "version": "3.9.7"
  }
 },
 "nbformat": 4,
 "nbformat_minor": 5
}
