{
 "cells": [
  {
   "cell_type": "code",
   "execution_count": 1,
   "id": "99f1824f",
   "metadata": {},
   "outputs": [
    {
     "ename": "FileNotFoundError",
     "evalue": "[Errno 2] No such file or directory: 'test.txt'",
     "output_type": "error",
     "traceback": [
      "\u001b[1;31m---------------------------------------------------------------------------\u001b[0m",
      "\u001b[1;31mFileNotFoundError\u001b[0m                         Traceback (most recent call last)",
      "\u001b[1;32m~\\AppData\\Local\\Temp/ipykernel_5328/1104003574.py\u001b[0m in \u001b[0;36m<module>\u001b[1;34m\u001b[0m\n\u001b[1;32m----> 1\u001b[1;33m \u001b[0mopen\u001b[0m\u001b[1;33m(\u001b[0m\u001b[1;34m\"test.txt\"\u001b[0m\u001b[1;33m)\u001b[0m\u001b[1;33m\u001b[0m\u001b[1;33m\u001b[0m\u001b[0m\n\u001b[0m",
      "\u001b[1;31mFileNotFoundError\u001b[0m: [Errno 2] No such file or directory: 'test.txt'"
     ]
    }
   ],
   "source": [
    "open(\"test.txt\")"
   ]
  },
  {
   "cell_type": "code",
   "execution_count": 7,
   "id": "961f78a8",
   "metadata": {},
   "outputs": [
    {
     "data": {
      "text/plain": [
       "<_io.TextIOWrapper name='test.txt' mode='w' encoding='cp1252'>"
      ]
     },
     "execution_count": 7,
     "metadata": {},
     "output_type": "execute_result"
    }
   ],
   "source": [
    "open(\"test.txt\", \"w\")"
   ]
  },
  {
   "cell_type": "code",
   "execution_count": 8,
   "id": "1c187a9c",
   "metadata": {},
   "outputs": [],
   "source": [
    "f=open(\"test.txt\", \"w\")"
   ]
  },
  {
   "cell_type": "code",
   "execution_count": 9,
   "id": "e503623c",
   "metadata": {},
   "outputs": [
    {
     "data": {
      "text/plain": [
       "20"
      ]
     },
     "execution_count": 9,
     "metadata": {},
     "output_type": "execute_result"
    }
   ],
   "source": [
    "f.write(\"sdfgdskjdfmkdkgkofkd\")"
   ]
  },
  {
   "cell_type": "code",
   "execution_count": 10,
   "id": "f129751c",
   "metadata": {},
   "outputs": [],
   "source": [
    "f.close()"
   ]
  },
  {
   "cell_type": "code",
   "execution_count": 11,
   "id": "ce0657f9",
   "metadata": {},
   "outputs": [],
   "source": [
    "f=open(\"test.txt\")"
   ]
  },
  {
   "cell_type": "code",
   "execution_count": 12,
   "id": "176c191b",
   "metadata": {},
   "outputs": [
    {
     "data": {
      "text/plain": [
       "'sdfgdskjdfmkdkgkofkd'"
      ]
     },
     "execution_count": 12,
     "metadata": {},
     "output_type": "execute_result"
    }
   ],
   "source": [
    "f.read()"
   ]
  },
  {
   "cell_type": "code",
   "execution_count": 13,
   "id": "cc04ea6f",
   "metadata": {},
   "outputs": [
    {
     "data": {
      "text/plain": [
       "'\\ndfdsgdfg\\ndfgdffgdfgdhgfdh\\nUtkarsh\\nShubham shghgjsdfghffjkjhfhjf'"
      ]
     },
     "execution_count": 13,
     "metadata": {},
     "output_type": "execute_result"
    }
   ],
   "source": [
    "f.read()"
   ]
  },
  {
   "cell_type": "code",
   "execution_count": 14,
   "id": "4b7acd73",
   "metadata": {},
   "outputs": [],
   "source": [
    "f=open(\"test.txt\")"
   ]
  },
  {
   "cell_type": "code",
   "execution_count": 15,
   "id": "ca18c5cb",
   "metadata": {},
   "outputs": [
    {
     "data": {
      "text/plain": [
       "'sdfgdskjdfmkdkgkofkd\\ndfdsgdfg\\ndfgdffgdfgdhgfdh\\nUtkarsh\\nShubham shghgjsdfghffjkjhfhjf'"
      ]
     },
     "execution_count": 15,
     "metadata": {},
     "output_type": "execute_result"
    }
   ],
   "source": [
    "f.read()"
   ]
  },
  {
   "cell_type": "code",
   "execution_count": 16,
   "id": "04b36471",
   "metadata": {},
   "outputs": [
    {
     "data": {
      "text/plain": [
       "''"
      ]
     },
     "execution_count": 16,
     "metadata": {},
     "output_type": "execute_result"
    }
   ],
   "source": [
    "f.read()"
   ]
  },
  {
   "cell_type": "code",
   "execution_count": 17,
   "id": "5a06901e",
   "metadata": {},
   "outputs": [
    {
     "data": {
      "text/plain": [
       "4"
      ]
     },
     "execution_count": 17,
     "metadata": {},
     "output_type": "execute_result"
    }
   ],
   "source": [
    "f.seek(4)"
   ]
  },
  {
   "cell_type": "code",
   "execution_count": 18,
   "id": "19e4aad1",
   "metadata": {},
   "outputs": [
    {
     "data": {
      "text/plain": [
       "'dskjdfmkdkgkofkd\\ndfdsgdfg\\ndfgdffgdfgdhgfdh\\nUtkarsh\\nShubham shghgjsdfghffjkjhfhjf'"
      ]
     },
     "execution_count": 18,
     "metadata": {},
     "output_type": "execute_result"
    }
   ],
   "source": [
    "f.read()"
   ]
  },
  {
   "cell_type": "code",
   "execution_count": 19,
   "id": "af8865e3",
   "metadata": {},
   "outputs": [
    {
     "data": {
      "text/plain": [
       "''"
      ]
     },
     "execution_count": 19,
     "metadata": {},
     "output_type": "execute_result"
    }
   ],
   "source": [
    "f.read()"
   ]
  },
  {
   "cell_type": "code",
   "execution_count": 20,
   "id": "4285359e",
   "metadata": {},
   "outputs": [
    {
     "data": {
      "text/plain": [
       "0"
      ]
     },
     "execution_count": 20,
     "metadata": {},
     "output_type": "execute_result"
    }
   ],
   "source": [
    "f.seek(0)"
   ]
  },
  {
   "cell_type": "code",
   "execution_count": 21,
   "id": "193915e0",
   "metadata": {},
   "outputs": [
    {
     "data": {
      "text/plain": [
       "'sdfgdskjdfmkdkgkofkd\\ndfdsgdfg\\ndfgdffgdfgdhgfdh\\nUtkarsh\\nShubham shghgjsdfghffjkjhfhjf'"
      ]
     },
     "execution_count": 21,
     "metadata": {},
     "output_type": "execute_result"
    }
   ],
   "source": [
    "f.read()"
   ]
  },
  {
   "cell_type": "code",
   "execution_count": 23,
   "id": "ccd71859",
   "metadata": {},
   "outputs": [],
   "source": [
    "f=open(\"test.txt\",\"r\")"
   ]
  },
  {
   "cell_type": "code",
   "execution_count": 24,
   "id": "fb46ab7f",
   "metadata": {},
   "outputs": [
    {
     "ename": "UnsupportedOperation",
     "evalue": "not writable",
     "output_type": "error",
     "traceback": [
      "\u001b[1;31m---------------------------------------------------------------------------\u001b[0m",
      "\u001b[1;31mUnsupportedOperation\u001b[0m                      Traceback (most recent call last)",
      "\u001b[1;32m~\\AppData\\Local\\Temp/ipykernel_5328/3670803051.py\u001b[0m in \u001b[0;36m<module>\u001b[1;34m\u001b[0m\n\u001b[1;32m----> 1\u001b[1;33m \u001b[0mf\u001b[0m\u001b[1;33m.\u001b[0m\u001b[0mwrite\u001b[0m\u001b[1;33m(\u001b[0m\u001b[1;34m\"ukc\"\u001b[0m\u001b[1;33m)\u001b[0m\u001b[1;33m\u001b[0m\u001b[1;33m\u001b[0m\u001b[0m\n\u001b[0m",
      "\u001b[1;31mUnsupportedOperation\u001b[0m: not writable"
     ]
    }
   ],
   "source": [
    "f.write(\"ukc\")"
   ]
  },
  {
   "cell_type": "code",
   "execution_count": 25,
   "id": "b3eebb4d",
   "metadata": {},
   "outputs": [
    {
     "data": {
      "text/plain": [
       "'sdfgdskjdfmkdkgkofkd\\ndfdsgdfg\\ndfgdffgdfgdhgfdh\\nUtkarsh\\nShubham shghgjsdfghffjkjhfhjf'"
      ]
     },
     "execution_count": 25,
     "metadata": {},
     "output_type": "execute_result"
    }
   ],
   "source": [
    "f.read()"
   ]
  },
  {
   "cell_type": "code",
   "execution_count": 37,
   "id": "5bdca1c6",
   "metadata": {},
   "outputs": [
    {
     "data": {
      "text/plain": [
       "46"
      ]
     },
     "execution_count": 37,
     "metadata": {},
     "output_type": "execute_result"
    }
   ],
   "source": [
    "f.seek(46)"
   ]
  },
  {
   "cell_type": "code",
   "execution_count": 38,
   "id": "21f1358d",
   "metadata": {},
   "outputs": [
    {
     "data": {
      "text/plain": [
       "'\\nUtkarsh'"
      ]
     },
     "execution_count": 38,
     "metadata": {},
     "output_type": "execute_result"
    }
   ],
   "source": [
    "f.read(8)"
   ]
  },
  {
   "cell_type": "code",
   "execution_count": 39,
   "id": "9152930e",
   "metadata": {},
   "outputs": [],
   "source": [
    "f.close()"
   ]
  },
  {
   "cell_type": "code",
   "execution_count": 41,
   "id": "d5bb1129",
   "metadata": {},
   "outputs": [],
   "source": [
    "f.close()"
   ]
  },
  {
   "cell_type": "code",
   "execution_count": 42,
   "id": "bb6a9bfb",
   "metadata": {},
   "outputs": [
    {
     "ename": "ValueError",
     "evalue": "I/O operation on closed file.",
     "output_type": "error",
     "traceback": [
      "\u001b[1;31m---------------------------------------------------------------------------\u001b[0m",
      "\u001b[1;31mValueError\u001b[0m                                Traceback (most recent call last)",
      "\u001b[1;32m~\\AppData\\Local\\Temp/ipykernel_5328/3059900045.py\u001b[0m in \u001b[0;36m<module>\u001b[1;34m\u001b[0m\n\u001b[1;32m----> 1\u001b[1;33m \u001b[0mf\u001b[0m\u001b[1;33m.\u001b[0m\u001b[0mread\u001b[0m\u001b[1;33m(\u001b[0m\u001b[1;33m)\u001b[0m\u001b[1;33m\u001b[0m\u001b[1;33m\u001b[0m\u001b[0m\n\u001b[0m",
      "\u001b[1;31mValueError\u001b[0m: I/O operation on closed file."
     ]
    }
   ],
   "source": [
    "f.read()"
   ]
  },
  {
   "cell_type": "code",
   "execution_count": 43,
   "id": "9b7d7370",
   "metadata": {},
   "outputs": [],
   "source": [
    "f=open(\"test.txt\", \"w\")"
   ]
  },
  {
   "cell_type": "code",
   "execution_count": 44,
   "id": "e75424c4",
   "metadata": {},
   "outputs": [
    {
     "data": {
      "text/plain": [
       "11"
      ]
     },
     "execution_count": 44,
     "metadata": {},
     "output_type": "execute_result"
    }
   ],
   "source": [
    "f.write(\"gfmkfdgjikk\")"
   ]
  },
  {
   "cell_type": "code",
   "execution_count": 46,
   "id": "48b4048c",
   "metadata": {},
   "outputs": [],
   "source": [
    "f.close()"
   ]
  },
  {
   "cell_type": "code",
   "execution_count": 49,
   "id": "facc02ab",
   "metadata": {},
   "outputs": [],
   "source": [
    "f=open(\"test.txt\", \"a\")"
   ]
  },
  {
   "cell_type": "code",
   "execution_count": 50,
   "id": "f5004379",
   "metadata": {},
   "outputs": [
    {
     "data": {
      "text/plain": [
       "3"
      ]
     },
     "execution_count": 50,
     "metadata": {},
     "output_type": "execute_result"
    }
   ],
   "source": [
    "f.write(\"ukc\")"
   ]
  },
  {
   "cell_type": "code",
   "execution_count": 52,
   "id": "03e93b25",
   "metadata": {},
   "outputs": [],
   "source": [
    "f=open(\"test.txt\", \"r\")"
   ]
  },
  {
   "cell_type": "code",
   "execution_count": 53,
   "id": "41ede367",
   "metadata": {},
   "outputs": [
    {
     "data": {
      "text/plain": [
       "'gfmkfdgjikkukc'"
      ]
     },
     "execution_count": 53,
     "metadata": {},
     "output_type": "execute_result"
    }
   ],
   "source": [
    "f.read()"
   ]
  },
  {
   "cell_type": "code",
   "execution_count": 69,
   "id": "8ea8dfcb",
   "metadata": {},
   "outputs": [],
   "source": [
    "f=open(\"test.txt\", \"wb\")"
   ]
  },
  {
   "cell_type": "code",
   "execution_count": 70,
   "id": "fbc14f78",
   "metadata": {},
   "outputs": [
    {
     "ename": "TypeError",
     "evalue": "a bytes-like object is required, not 'str'",
     "output_type": "error",
     "traceback": [
      "\u001b[1;31m---------------------------------------------------------------------------\u001b[0m",
      "\u001b[1;31mTypeError\u001b[0m                                 Traceback (most recent call last)",
      "\u001b[1;32m~\\AppData\\Local\\Temp/ipykernel_5328/3670803051.py\u001b[0m in \u001b[0;36m<module>\u001b[1;34m\u001b[0m\n\u001b[1;32m----> 1\u001b[1;33m \u001b[0mf\u001b[0m\u001b[1;33m.\u001b[0m\u001b[0mwrite\u001b[0m\u001b[1;33m(\u001b[0m\u001b[1;34m\"ukc\"\u001b[0m\u001b[1;33m)\u001b[0m\u001b[1;33m\u001b[0m\u001b[1;33m\u001b[0m\u001b[0m\n\u001b[0m",
      "\u001b[1;31mTypeError\u001b[0m: a bytes-like object is required, not 'str'"
     ]
    }
   ],
   "source": [
    "f.write(\"ukc\")"
   ]
  },
  {
   "cell_type": "code",
   "execution_count": 71,
   "id": "50bad343",
   "metadata": {},
   "outputs": [
    {
     "data": {
      "text/plain": [
       "13"
      ]
     },
     "execution_count": 71,
     "metadata": {},
     "output_type": "execute_result"
    }
   ],
   "source": [
    "f.write(b\"ukcjifsdfgdfg\")"
   ]
  },
  {
   "cell_type": "code",
   "execution_count": 72,
   "id": "eadabbc9",
   "metadata": {},
   "outputs": [],
   "source": [
    "f.close()"
   ]
  },
  {
   "cell_type": "code",
   "execution_count": 73,
   "id": "39facb27",
   "metadata": {},
   "outputs": [],
   "source": [
    "f=open(\"test.txt\", \"r\")"
   ]
  },
  {
   "cell_type": "code",
   "execution_count": 74,
   "id": "56c6906e",
   "metadata": {},
   "outputs": [
    {
     "data": {
      "text/plain": [
       "1"
      ]
     },
     "execution_count": 74,
     "metadata": {},
     "output_type": "execute_result"
    }
   ],
   "source": [
    "f.seek(1)"
   ]
  },
  {
   "cell_type": "code",
   "execution_count": 75,
   "id": "1571c61e",
   "metadata": {},
   "outputs": [
    {
     "data": {
      "text/plain": [
       "'kcjifsdfgdfg'"
      ]
     },
     "execution_count": 75,
     "metadata": {},
     "output_type": "execute_result"
    }
   ],
   "source": [
    "f.read(30)"
   ]
  },
  {
   "cell_type": "code",
   "execution_count": 76,
   "id": "7e921ac9",
   "metadata": {},
   "outputs": [
    {
     "data": {
      "text/plain": [
       "1"
      ]
     },
     "execution_count": 76,
     "metadata": {},
     "output_type": "execute_result"
    }
   ],
   "source": [
    "f.seek(1)"
   ]
  },
  {
   "cell_type": "code",
   "execution_count": 77,
   "id": "fdb7c073",
   "metadata": {},
   "outputs": [
    {
     "data": {
      "text/plain": [
       "'kc'"
      ]
     },
     "execution_count": 77,
     "metadata": {},
     "output_type": "execute_result"
    }
   ],
   "source": [
    "f.read(2)"
   ]
  },
  {
   "cell_type": "code",
   "execution_count": 78,
   "id": "5a277266",
   "metadata": {},
   "outputs": [
    {
     "ename": "ValueError",
     "evalue": "negative seek position -1",
     "output_type": "error",
     "traceback": [
      "\u001b[1;31m---------------------------------------------------------------------------\u001b[0m",
      "\u001b[1;31mValueError\u001b[0m                                Traceback (most recent call last)",
      "\u001b[1;32m~\\AppData\\Local\\Temp/ipykernel_5328/3865847746.py\u001b[0m in \u001b[0;36m<module>\u001b[1;34m\u001b[0m\n\u001b[1;32m----> 1\u001b[1;33m \u001b[0mf\u001b[0m\u001b[1;33m.\u001b[0m\u001b[0mseek\u001b[0m\u001b[1;33m(\u001b[0m\u001b[1;33m-\u001b[0m\u001b[1;36m1\u001b[0m\u001b[1;33m)\u001b[0m\u001b[1;33m\u001b[0m\u001b[1;33m\u001b[0m\u001b[0m\n\u001b[0m",
      "\u001b[1;31mValueError\u001b[0m: negative seek position -1"
     ]
    }
   ],
   "source": [
    "f.seek(-1)"
   ]
  },
  {
   "cell_type": "code",
   "execution_count": 79,
   "id": "cd251bd2",
   "metadata": {},
   "outputs": [
    {
     "ename": "UnsupportedOperation",
     "evalue": "can't do nonzero end-relative seeks",
     "output_type": "error",
     "traceback": [
      "\u001b[1;31m---------------------------------------------------------------------------\u001b[0m",
      "\u001b[1;31mUnsupportedOperation\u001b[0m                      Traceback (most recent call last)",
      "\u001b[1;32m~\\AppData\\Local\\Temp/ipykernel_5328/1273800031.py\u001b[0m in \u001b[0;36m<module>\u001b[1;34m\u001b[0m\n\u001b[1;32m----> 1\u001b[1;33m \u001b[0mf\u001b[0m\u001b[1;33m.\u001b[0m\u001b[0mseek\u001b[0m\u001b[1;33m(\u001b[0m\u001b[1;33m-\u001b[0m\u001b[1;36m3\u001b[0m\u001b[1;33m,\u001b[0m\u001b[1;36m2\u001b[0m\u001b[1;33m)\u001b[0m\u001b[1;33m\u001b[0m\u001b[1;33m\u001b[0m\u001b[0m\n\u001b[0m",
      "\u001b[1;31mUnsupportedOperation\u001b[0m: can't do nonzero end-relative seeks"
     ]
    }
   ],
   "source": [
    "f.seek(-3,2)"
   ]
  },
  {
   "cell_type": "code",
   "execution_count": 80,
   "id": "48713925",
   "metadata": {},
   "outputs": [],
   "source": [
    "f=open(\"test.txt\", \"rb\")"
   ]
  },
  {
   "cell_type": "code",
   "execution_count": 81,
   "id": "6ed57735",
   "metadata": {},
   "outputs": [
    {
     "data": {
      "text/plain": [
       "1"
      ]
     },
     "execution_count": 81,
     "metadata": {},
     "output_type": "execute_result"
    }
   ],
   "source": [
    "f.seek(1)"
   ]
  },
  {
   "cell_type": "code",
   "execution_count": 82,
   "id": "fdd75ac2",
   "metadata": {},
   "outputs": [
    {
     "data": {
      "text/plain": [
       "b'kc'"
      ]
     },
     "execution_count": 82,
     "metadata": {},
     "output_type": "execute_result"
    }
   ],
   "source": [
    "f.read(2)"
   ]
  },
  {
   "cell_type": "code",
   "execution_count": 83,
   "id": "7bf8c652",
   "metadata": {},
   "outputs": [
    {
     "data": {
      "text/plain": [
       "b'jifsdfgdfg'"
      ]
     },
     "execution_count": 83,
     "metadata": {},
     "output_type": "execute_result"
    }
   ],
   "source": [
    "f.read(30)"
   ]
  },
  {
   "cell_type": "code",
   "execution_count": 84,
   "id": "d72e2265",
   "metadata": {},
   "outputs": [
    {
     "ename": "OSError",
     "evalue": "[Errno 22] Invalid argument",
     "output_type": "error",
     "traceback": [
      "\u001b[1;31m---------------------------------------------------------------------------\u001b[0m",
      "\u001b[1;31mOSError\u001b[0m                                   Traceback (most recent call last)",
      "\u001b[1;32m~\\AppData\\Local\\Temp/ipykernel_5328/1627826503.py\u001b[0m in \u001b[0;36m<module>\u001b[1;34m\u001b[0m\n\u001b[1;32m----> 1\u001b[1;33m \u001b[0mf\u001b[0m\u001b[1;33m.\u001b[0m\u001b[0mseek\u001b[0m\u001b[1;33m(\u001b[0m\u001b[1;33m-\u001b[0m\u001b[1;36m3\u001b[0m\u001b[1;33m,\u001b[0m \u001b[1;36m0\u001b[0m\u001b[1;33m)\u001b[0m\u001b[1;33m\u001b[0m\u001b[1;33m\u001b[0m\u001b[0m\n\u001b[0m",
      "\u001b[1;31mOSError\u001b[0m: [Errno 22] Invalid argument"
     ]
    }
   ],
   "source": [
    "f.seek(-3, 0)"
   ]
  },
  {
   "cell_type": "code",
   "execution_count": 85,
   "id": "f9a670bb",
   "metadata": {},
   "outputs": [
    {
     "data": {
      "text/plain": [
       "10"
      ]
     },
     "execution_count": 85,
     "metadata": {},
     "output_type": "execute_result"
    }
   ],
   "source": [
    "f.seek(-3, 2)"
   ]
  },
  {
   "cell_type": "code",
   "execution_count": 86,
   "id": "1b5de908",
   "metadata": {},
   "outputs": [
    {
     "data": {
      "text/plain": [
       "7"
      ]
     },
     "execution_count": 86,
     "metadata": {},
     "output_type": "execute_result"
    }
   ],
   "source": [
    "f.seek(-3, 1)"
   ]
  },
  {
   "cell_type": "code",
   "execution_count": 87,
   "id": "b8c998d6",
   "metadata": {},
   "outputs": [],
   "source": [
    "f=open(\"test2.txt\", \"w\")"
   ]
  },
  {
   "cell_type": "code",
   "execution_count": 88,
   "id": "d59665dd",
   "metadata": {},
   "outputs": [
    {
     "data": {
      "text/plain": [
       "31"
      ]
     },
     "execution_count": 88,
     "metadata": {},
     "output_type": "execute_result"
    }
   ],
   "source": [
    "f.write(\"ilovemyindiaujsdhfvidshfuihidsf\")"
   ]
  },
  {
   "cell_type": "code",
   "execution_count": 90,
   "id": "24cf8962",
   "metadata": {},
   "outputs": [],
   "source": [
    "f.close()"
   ]
  },
  {
   "cell_type": "code",
   "execution_count": 91,
   "id": "d407403f",
   "metadata": {},
   "outputs": [],
   "source": [
    "f=open(\"test2.txt\", \"r\")"
   ]
  },
  {
   "cell_type": "code",
   "execution_count": 92,
   "id": "8580ec86",
   "metadata": {},
   "outputs": [
    {
     "data": {
      "text/plain": [
       "'ilovemyindiaujsdhfvidshfuihidsf'"
      ]
     },
     "execution_count": 92,
     "metadata": {},
     "output_type": "execute_result"
    }
   ],
   "source": [
    "f.read()"
   ]
  },
  {
   "cell_type": "code",
   "execution_count": 94,
   "id": "cb34ebaa",
   "metadata": {},
   "outputs": [
    {
     "data": {
      "text/plain": [
       "'\\nszdfgd\\ng\\ndzfg\\ndfg\\n\\ndshg\\nsfhg\\nsfg\\nh\\nfgh\\nffgh\\n\\n\\nshg\\nfsgh\\nsfg\\n\\n\\nsfdhgfdhfsg\\n'"
      ]
     },
     "execution_count": 94,
     "metadata": {},
     "output_type": "execute_result"
    }
   ],
   "source": [
    "f.read()"
   ]
  },
  {
   "cell_type": "code",
   "execution_count": 95,
   "id": "cc745e24",
   "metadata": {},
   "outputs": [
    {
     "data": {
      "text/plain": [
       "0"
      ]
     },
     "execution_count": 95,
     "metadata": {},
     "output_type": "execute_result"
    }
   ],
   "source": [
    "f.seek(0)"
   ]
  },
  {
   "cell_type": "code",
   "execution_count": 96,
   "id": "4e49524e",
   "metadata": {},
   "outputs": [
    {
     "data": {
      "text/plain": [
       "'ilovemyindiaujsdhfvidshfuihidsf\\n'"
      ]
     },
     "execution_count": 96,
     "metadata": {},
     "output_type": "execute_result"
    }
   ],
   "source": [
    "f.readline()"
   ]
  },
  {
   "cell_type": "code",
   "execution_count": 97,
   "id": "03e1a635",
   "metadata": {},
   "outputs": [
    {
     "data": {
      "text/plain": [
       "'szdfgd\\n'"
      ]
     },
     "execution_count": 97,
     "metadata": {},
     "output_type": "execute_result"
    }
   ],
   "source": [
    "f.readline()"
   ]
  },
  {
   "cell_type": "code",
   "execution_count": 98,
   "id": "1cf01c8b",
   "metadata": {},
   "outputs": [
    {
     "data": {
      "text/plain": [
       "'g\\n'"
      ]
     },
     "execution_count": 98,
     "metadata": {},
     "output_type": "execute_result"
    }
   ],
   "source": [
    "f.readline()"
   ]
  },
  {
   "cell_type": "code",
   "execution_count": 99,
   "id": "8e5c3140",
   "metadata": {},
   "outputs": [
    {
     "data": {
      "text/plain": [
       "'dzfg\\n'"
      ]
     },
     "execution_count": 99,
     "metadata": {},
     "output_type": "execute_result"
    }
   ],
   "source": [
    "f.readline()"
   ]
  },
  {
   "cell_type": "code",
   "execution_count": 100,
   "id": "98f77467",
   "metadata": {},
   "outputs": [
    {
     "data": {
      "text/plain": [
       "'dfg\\n'"
      ]
     },
     "execution_count": 100,
     "metadata": {},
     "output_type": "execute_result"
    }
   ],
   "source": [
    "f.readline()"
   ]
  },
  {
   "cell_type": "code",
   "execution_count": 101,
   "id": "90cf3b16",
   "metadata": {},
   "outputs": [
    {
     "data": {
      "text/plain": [
       "'\\n'"
      ]
     },
     "execution_count": 101,
     "metadata": {},
     "output_type": "execute_result"
    }
   ],
   "source": [
    "f.readline()"
   ]
  },
  {
   "cell_type": "code",
   "execution_count": 102,
   "id": "0a75a672",
   "metadata": {},
   "outputs": [
    {
     "data": {
      "text/plain": [
       "'dshg\\n'"
      ]
     },
     "execution_count": 102,
     "metadata": {},
     "output_type": "execute_result"
    }
   ],
   "source": [
    "f.readline(7)"
   ]
  },
  {
   "cell_type": "code",
   "execution_count": 103,
   "id": "b5a47cd6",
   "metadata": {},
   "outputs": [],
   "source": [
    "f.close()"
   ]
  },
  {
   "cell_type": "code",
   "execution_count": 104,
   "id": "10cf65d4",
   "metadata": {},
   "outputs": [],
   "source": [
    "f=open(\"test2.txt\", \"r\")"
   ]
  },
  {
   "cell_type": "code",
   "execution_count": 105,
   "id": "266c9bc3",
   "metadata": {},
   "outputs": [
    {
     "name": "stdout",
     "output_type": "stream",
     "text": [
      "ilovemyindiaujsdhfvidshfuihidsf\n",
      "\n",
      "szdfgd\n",
      "\n",
      "g\n",
      "\n",
      "dzfg\n",
      "\n",
      "dfg\n",
      "\n",
      "\n",
      "\n",
      "dshg\n",
      "\n",
      "sfhg\n",
      "\n",
      "sfg\n",
      "\n",
      "h\n",
      "\n",
      "fgh\n",
      "\n",
      "ffgh\n",
      "\n",
      "\n",
      "\n",
      "\n",
      "\n",
      "shg\n",
      "\n",
      "fsgh\n",
      "\n",
      "sfg\n",
      "\n",
      "\n",
      "\n",
      "\n",
      "\n",
      "sfdhgfdhfsg\n",
      "\n"
     ]
    }
   ],
   "source": [
    "for i in f:\n",
    "    print(i)"
   ]
  },
  {
   "cell_type": "code",
   "execution_count": 106,
   "id": "c3758b63",
   "metadata": {},
   "outputs": [],
   "source": [
    "f=open(\"test2.txt\", \"r\")"
   ]
  },
  {
   "cell_type": "code",
   "execution_count": 107,
   "id": "064e9e3e",
   "metadata": {},
   "outputs": [
    {
     "name": "stdout",
     "output_type": "stream",
     "text": [
      "ilovemyindiaujsdhfvidshfuihidsf\n",
      "szdfgd\n",
      "g\n",
      "dzfg\n",
      "dfg\n",
      "\n",
      "dshg\n",
      "sfhg\n",
      "sfg\n",
      "h\n",
      "fgh\n",
      "ffgh\n",
      "\n",
      "\n",
      "shg\n",
      "fsgh\n",
      "sfg\n",
      "\n",
      "\n",
      "sfdhgfdhfsg\n"
     ]
    }
   ],
   "source": [
    "for i in f:\n",
    "    print(i, end =\"\")"
   ]
  },
  {
   "cell_type": "code",
   "execution_count": 108,
   "id": "ec9b05f0",
   "metadata": {},
   "outputs": [],
   "source": [
    "f.close()"
   ]
  },
  {
   "cell_type": "code",
   "execution_count": 109,
   "id": "13f8c51c",
   "metadata": {},
   "outputs": [],
   "source": [
    "f=open(\"test2.txt\", \"r\")"
   ]
  },
  {
   "cell_type": "code",
   "execution_count": 110,
   "id": "e7650650",
   "metadata": {},
   "outputs": [
    {
     "data": {
      "text/plain": [
       "['ilovemyindiaujsdhfvidshfuihidsf\\n',\n",
       " 'szdfgd\\n',\n",
       " 'g\\n',\n",
       " 'dzfg\\n',\n",
       " 'dfg\\n',\n",
       " '\\n',\n",
       " 'dshg\\n',\n",
       " 'sfhg\\n',\n",
       " 'sfg\\n',\n",
       " 'h\\n',\n",
       " 'fgh\\n',\n",
       " 'ffgh\\n',\n",
       " '\\n',\n",
       " '\\n',\n",
       " 'shg\\n',\n",
       " 'fsgh\\n',\n",
       " 'sfg\\n',\n",
       " '\\n',\n",
       " '\\n',\n",
       " 'sfdhgfdhfsg\\n']"
      ]
     },
     "execution_count": 110,
     "metadata": {},
     "output_type": "execute_result"
    }
   ],
   "source": [
    "list(f)"
   ]
  },
  {
   "cell_type": "code",
   "execution_count": 111,
   "id": "ebbcede1",
   "metadata": {},
   "outputs": [],
   "source": [
    "f=open(\"test2.txt\", \"r+\")"
   ]
  },
  {
   "cell_type": "code",
   "execution_count": 112,
   "id": "02b105d4",
   "metadata": {},
   "outputs": [
    {
     "data": {
      "text/plain": [
       "3"
      ]
     },
     "execution_count": 112,
     "metadata": {},
     "output_type": "execute_result"
    }
   ],
   "source": [
    "f.write(\"ukc\")"
   ]
  },
  {
   "cell_type": "code",
   "execution_count": 118,
   "id": "b705862a",
   "metadata": {},
   "outputs": [],
   "source": [
    "f.close()"
   ]
  },
  {
   "cell_type": "code",
   "execution_count": 119,
   "id": "e631dd35",
   "metadata": {},
   "outputs": [],
   "source": [
    "f=open(\"test2.txt\", \"r+\")"
   ]
  },
  {
   "cell_type": "code",
   "execution_count": 120,
   "id": "59caa477",
   "metadata": {},
   "outputs": [],
   "source": [
    "f.writelines(\"writinglinessss hHAHAHHAHAHAHHA\")"
   ]
  },
  {
   "cell_type": "code",
   "execution_count": 121,
   "id": "bebf8653",
   "metadata": {},
   "outputs": [],
   "source": [
    "f.close()"
   ]
  },
  {
   "cell_type": "code",
   "execution_count": 122,
   "id": "b047d05f",
   "metadata": {},
   "outputs": [],
   "source": [
    "f=open(\"test2.txt\", \"r+\")"
   ]
  },
  {
   "cell_type": "code",
   "execution_count": 123,
   "id": "61ced0ea",
   "metadata": {},
   "outputs": [
    {
     "data": {
      "text/plain": [
       "2342"
      ]
     },
     "execution_count": 123,
     "metadata": {},
     "output_type": "execute_result"
    }
   ],
   "source": [
    "f.seek(2342)"
   ]
  },
  {
   "cell_type": "code",
   "execution_count": 124,
   "id": "a2e6c80f",
   "metadata": {},
   "outputs": [],
   "source": [
    "f.writelines(\"aaaahi re dada !!!!\")"
   ]
  },
  {
   "cell_type": "code",
   "execution_count": 125,
   "id": "47ee86db",
   "metadata": {},
   "outputs": [],
   "source": [
    "f.close()"
   ]
  },
  {
   "cell_type": "code",
   "execution_count": 126,
   "id": "ac629515",
   "metadata": {},
   "outputs": [],
   "source": [
    "f=open(\"test2.txt\", \"r+\")"
   ]
  },
  {
   "cell_type": "code",
   "execution_count": 127,
   "id": "c063826b",
   "metadata": {},
   "outputs": [
    {
     "data": {
      "text/plain": [
       "8"
      ]
     },
     "execution_count": 127,
     "metadata": {},
     "output_type": "execute_result"
    }
   ],
   "source": [
    "f.fileno()"
   ]
  },
  {
   "cell_type": "code",
   "execution_count": 129,
   "id": "2d9f6dc2",
   "metadata": {},
   "outputs": [],
   "source": [
    "f.close()"
   ]
  },
  {
   "cell_type": "code",
   "execution_count": 131,
   "id": "e7ffd7f8",
   "metadata": {},
   "outputs": [],
   "source": [
    "f=open(\"test.txt\", \"r+\")"
   ]
  },
  {
   "cell_type": "code",
   "execution_count": 132,
   "id": "6eb46805",
   "metadata": {},
   "outputs": [
    {
     "data": {
      "text/plain": [
       "9"
      ]
     },
     "execution_count": 132,
     "metadata": {},
     "output_type": "execute_result"
    }
   ],
   "source": [
    "f.fileno()"
   ]
  },
  {
   "cell_type": "code",
   "execution_count": 133,
   "id": "ce4d133f",
   "metadata": {},
   "outputs": [
    {
     "name": "stdout",
     "output_type": "stream",
     "text": [
      "Writing test5.txt\n"
     ]
    }
   ],
   "source": [
    "%%writefile test5.txt\n",
    "my name is Utkarsh"
   ]
  },
  {
   "cell_type": "code",
   "execution_count": 134,
   "id": "3b4acc8e",
   "metadata": {},
   "outputs": [],
   "source": [
    "import os"
   ]
  },
  {
   "cell_type": "code",
   "execution_count": 135,
   "id": "3245045c",
   "metadata": {},
   "outputs": [
    {
     "data": {
      "text/plain": [
       "'C:\\\\Users\\\\Utkarsh\\\\Untitled Folder'"
      ]
     },
     "execution_count": 135,
     "metadata": {},
     "output_type": "execute_result"
    }
   ],
   "source": [
    "pwd"
   ]
  },
  {
   "cell_type": "code",
   "execution_count": 137,
   "id": "2a23bf57",
   "metadata": {},
   "outputs": [
    {
     "data": {
      "text/plain": [
       "'C:\\\\Users\\\\Utkarsh\\\\Untitled Folder'"
      ]
     },
     "execution_count": 137,
     "metadata": {},
     "output_type": "execute_result"
    }
   ],
   "source": [
    "os.getcwd()"
   ]
  },
  {
   "cell_type": "code",
   "execution_count": 138,
   "id": "c60f7bb0",
   "metadata": {},
   "outputs": [
    {
     "data": {
      "text/plain": [
       "['.ipynb_checkpoints',\n",
       " 'recorded 1st jan function part 2 after break.ipynb',\n",
       " 'test.txt',\n",
       " 'test2.txt',\n",
       " 'test5.txt']"
      ]
     },
     "execution_count": 138,
     "metadata": {},
     "output_type": "execute_result"
    }
   ],
   "source": [
    "os.listdir()"
   ]
  },
  {
   "cell_type": "code",
   "execution_count": 140,
   "id": "37deb2a2",
   "metadata": {},
   "outputs": [
    {
     "data": {
      "text/plain": [
       "['.android',\n",
       " '.conda',\n",
       " '.condarc',\n",
       " '.continuum',\n",
       " '.ipynb_checkpoints',\n",
       " '.ipython',\n",
       " '.jupyter',\n",
       " '19th dec tak(for loop tak).ipynb',\n",
       " '20th dec live class.ipynb',\n",
       " '21st dec live class.ipynb',\n",
       " '23rd dec live class_define and create function.ipynb',\n",
       " '3D Objects',\n",
       " 'anaconda3',\n",
       " 'AppData',\n",
       " 'Application Data',\n",
       " 'Assignment_1_Solved.ipynb',\n",
       " 'Assignment_2_Solved.ipynb',\n",
       " 'Assignment_3.ipynb',\n",
       " 'Assignment_4_Solved.ipynb',\n",
       " 'Assignment_5_Solved.ipynb',\n",
       " 'Assignment_6_Solved.ipynb',\n",
       " 'Contacts',\n",
       " 'Cookies',\n",
       " 'Desktop',\n",
       " 'Documents',\n",
       " 'Downloads',\n",
       " 'Favorites',\n",
       " 'Holidayyyyyyyyyyyyyy_FUNCTION.ipynb',\n",
       " 'Links',\n",
       " 'Local Settings',\n",
       " 'MicrosoftEdgeBackups',\n",
       " 'Music',\n",
       " 'My Documents',\n",
       " 'NetHood',\n",
       " 'New folder',\n",
       " 'NTUSER.DAT',\n",
       " 'ntuser.dat.LOG1',\n",
       " 'ntuser.dat.LOG2',\n",
       " 'NTUSER.DAT{53b39e88-18c4-11ea-a811-000d3aa4692b}.TM.blf',\n",
       " 'NTUSER.DAT{53b39e88-18c4-11ea-a811-000d3aa4692b}.TMContainer00000000000000000001.regtrans-ms',\n",
       " 'NTUSER.DAT{53b39e88-18c4-11ea-a811-000d3aa4692b}.TMContainer00000000000000000002.regtrans-ms',\n",
       " 'ntuser.ini',\n",
       " 'OneDrive',\n",
       " 'Pictures',\n",
       " 'PrintHood',\n",
       " 'Recent',\n",
       " 'recorded 1st jan function part 2 before break.ipynb',\n",
       " 'recorded 31st dec function .ipynb',\n",
       " 'recorded Python_basics.ipynb',\n",
       " 'recorded Python_For_Loop.ipynb',\n",
       " 'recorded Python_While_Loop.ipynb',\n",
       " 'Saved Games',\n",
       " 'Searches',\n",
       " 'SendTo',\n",
       " 'Start Menu',\n",
       " 'Templates',\n",
       " 'Tracing',\n",
       " 'Untitled Folder',\n",
       " 'Videos']"
      ]
     },
     "execution_count": 140,
     "metadata": {},
     "output_type": "execute_result"
    }
   ],
   "source": [
    "os.listdir('C:\\\\Users\\\\Utkarsh') "
   ]
  },
  {
   "cell_type": "code",
   "execution_count": 141,
   "id": "202dcb65",
   "metadata": {},
   "outputs": [
    {
     "ename": "NameError",
     "evalue": "name 'test' is not defined",
     "output_type": "error",
     "traceback": [
      "\u001b[1;31m---------------------------------------------------------------------------\u001b[0m",
      "\u001b[1;31mNameError\u001b[0m                                 Traceback (most recent call last)",
      "\u001b[1;32m~\\AppData\\Local\\Temp/ipykernel_5328/317873265.py\u001b[0m in \u001b[0;36m<module>\u001b[1;34m\u001b[0m\n\u001b[1;32m----> 1\u001b[1;33m \u001b[1;32mif\u001b[0m \u001b[0mtest\u001b[0m\u001b[1;33m.\u001b[0m\u001b[0mtxt\u001b[0m \u001b[1;32min\u001b[0m \u001b[0mos\u001b[0m\u001b[1;33m.\u001b[0m\u001b[0mlistdir\u001b[0m\u001b[1;33m(\u001b[0m\u001b[1;33m)\u001b[0m\u001b[1;33m:\u001b[0m\u001b[1;33m\u001b[0m\u001b[1;33m\u001b[0m\u001b[0m\n\u001b[0m\u001b[0;32m      2\u001b[0m     \u001b[0mprint\u001b[0m\u001b[1;33m(\u001b[0m\u001b[1;34m\"The file is available in the current directory\"\u001b[0m\u001b[1;33m)\u001b[0m\u001b[1;33m\u001b[0m\u001b[1;33m\u001b[0m\u001b[0m\n\u001b[0;32m      3\u001b[0m \u001b[1;32melse\u001b[0m\u001b[1;33m:\u001b[0m\u001b[1;33m\u001b[0m\u001b[1;33m\u001b[0m\u001b[0m\n\u001b[0;32m      4\u001b[0m     \u001b[0mprint\u001b[0m\u001b[1;33m(\u001b[0m\u001b[1;34m\"The file is not available in the current directory\"\u001b[0m\u001b[1;33m)\u001b[0m\u001b[1;33m\u001b[0m\u001b[1;33m\u001b[0m\u001b[0m\n",
      "\u001b[1;31mNameError\u001b[0m: name 'test' is not defined"
     ]
    }
   ],
   "source": [
    "if test.txt in os.listdir():\n",
    "    print(\"The file is available in the current directory\")\n",
    "else:\n",
    "    print(\"The file is not available in the current directory\")"
   ]
  },
  {
   "cell_type": "code",
   "execution_count": 142,
   "id": "58e6e3c8",
   "metadata": {},
   "outputs": [
    {
     "name": "stdout",
     "output_type": "stream",
     "text": [
      "The file is available in the current directory\n"
     ]
    }
   ],
   "source": [
    "if \"test.txt\" in os.listdir():\n",
    "    print(\"The file is available in the current directory\")\n",
    "else:\n",
    "    print(\"The file is not available in the current directory\")"
   ]
  },
  {
   "cell_type": "code",
   "execution_count": 143,
   "id": "dc41affb",
   "metadata": {},
   "outputs": [
    {
     "name": "stdout",
     "output_type": "stream",
     "text": [
      "The file is not available in the current directory\n"
     ]
    }
   ],
   "source": [
    "if \"test23453.txt\" in os.listdir():\n",
    "    print(\"The file is available in the current directory\")\n",
    "else:\n",
    "    print(\"The file is not available in the current directory\")"
   ]
  },
  {
   "cell_type": "code",
   "execution_count": 150,
   "id": "c7756e63",
   "metadata": {},
   "outputs": [
    {
     "name": "stdout",
     "output_type": "stream",
     "text": [
      "The file is available in the current directory\n",
      "<_io.TextIOWrapper name='test.txt' mode='r+' encoding='cp1252'>\n"
     ]
    }
   ],
   "source": [
    "if \"test.txt\" in os.listdir():\n",
    "    print(\"The file is available in the current directory\")\n",
    "    f=open(\"test.txt\", \"r+\")\n",
    "    print(f)\n",
    "else:\n",
    "    print(\"The file is not available in the current directory\")"
   ]
  },
  {
   "cell_type": "code",
   "execution_count": 153,
   "id": "16233468",
   "metadata": {},
   "outputs": [
    {
     "name": "stdout",
     "output_type": "stream",
     "text": [
      "The file is available in the current directory and  it contains following:\n",
      "ukcjifsdfgdfg\n"
     ]
    }
   ],
   "source": [
    "if \"test.txt\" in os.listdir():\n",
    "    print(\"The file is available in the current directory and  it contains following:\")\n",
    "    f=open(\"test.txt\", \"r+\")\n",
    "    for i in f:\n",
    "        print(i)\n",
    "else:\n",
    "    print(\"The file is not available in the current directory\")"
   ]
  },
  {
   "cell_type": "code",
   "execution_count": 154,
   "id": "3491e3a7",
   "metadata": {},
   "outputs": [
    {
     "ename": "FileExistsError",
     "evalue": "[WinError 183] Cannot create a file when that file already exists: 'sudh'",
     "output_type": "error",
     "traceback": [
      "\u001b[1;31m---------------------------------------------------------------------------\u001b[0m",
      "\u001b[1;31mFileExistsError\u001b[0m                           Traceback (most recent call last)",
      "\u001b[1;32m~\\AppData\\Local\\Temp/ipykernel_5328/3189008667.py\u001b[0m in \u001b[0;36m<module>\u001b[1;34m\u001b[0m\n\u001b[1;32m----> 1\u001b[1;33m \u001b[0mos\u001b[0m\u001b[1;33m.\u001b[0m\u001b[0mmkdir\u001b[0m\u001b[1;33m(\u001b[0m\u001b[1;34m\"sudh\"\u001b[0m\u001b[1;33m)\u001b[0m\u001b[1;33m\u001b[0m\u001b[1;33m\u001b[0m\u001b[0m\n\u001b[0m",
      "\u001b[1;31mFileExistsError\u001b[0m: [WinError 183] Cannot create a file when that file already exists: 'sudh'"
     ]
    }
   ],
   "source": [
    "os.mkdir(\"sudh\")"
   ]
  },
  {
   "cell_type": "code",
   "execution_count": 156,
   "id": "a9dc8290",
   "metadata": {},
   "outputs": [],
   "source": [
    "if not os.path.isdir(\"sudh\"):\n",
    "    os.mkdir(\"sudh\")"
   ]
  },
  {
   "cell_type": "code",
   "execution_count": 157,
   "id": "d63e27e6",
   "metadata": {},
   "outputs": [
    {
     "ename": "PermissionError",
     "evalue": "[WinError 32] The process cannot access the file because it is being used by another process: 'test.txt' -> 'testrenamedtoxyz.txt'",
     "output_type": "error",
     "traceback": [
      "\u001b[1;31m---------------------------------------------------------------------------\u001b[0m",
      "\u001b[1;31mPermissionError\u001b[0m                           Traceback (most recent call last)",
      "\u001b[1;32m~\\AppData\\Local\\Temp/ipykernel_5328/3170612455.py\u001b[0m in \u001b[0;36m<module>\u001b[1;34m\u001b[0m\n\u001b[1;32m----> 1\u001b[1;33m \u001b[0mos\u001b[0m\u001b[1;33m.\u001b[0m\u001b[0mrename\u001b[0m\u001b[1;33m(\u001b[0m\u001b[1;34m\"test.txt\"\u001b[0m\u001b[1;33m,\u001b[0m \u001b[1;34m\"testrenamedtoxyz.txt\"\u001b[0m\u001b[1;33m)\u001b[0m\u001b[1;33m\u001b[0m\u001b[1;33m\u001b[0m\u001b[0m\n\u001b[0m",
      "\u001b[1;31mPermissionError\u001b[0m: [WinError 32] The process cannot access the file because it is being used by another process: 'test.txt' -> 'testrenamedtoxyz.txt'"
     ]
    }
   ],
   "source": [
    "os.rename(\"test.txt\", \"testrenamedtoxyz.txt\")"
   ]
  },
  {
   "cell_type": "code",
   "execution_count": 158,
   "id": "8dc36137",
   "metadata": {},
   "outputs": [],
   "source": [
    "f=open(\"test.txt\", \"r+\")"
   ]
  },
  {
   "cell_type": "code",
   "execution_count": 159,
   "id": "6d0461a3",
   "metadata": {},
   "outputs": [],
   "source": [
    "f.close()"
   ]
  },
  {
   "cell_type": "code",
   "execution_count": 160,
   "id": "3d8e6772",
   "metadata": {},
   "outputs": [
    {
     "ename": "PermissionError",
     "evalue": "[WinError 32] The process cannot access the file because it is being used by another process: 'test.txt' -> 'testrenamedtoxyz.txt'",
     "output_type": "error",
     "traceback": [
      "\u001b[1;31m---------------------------------------------------------------------------\u001b[0m",
      "\u001b[1;31mPermissionError\u001b[0m                           Traceback (most recent call last)",
      "\u001b[1;32m~\\AppData\\Local\\Temp/ipykernel_5328/3170612455.py\u001b[0m in \u001b[0;36m<module>\u001b[1;34m\u001b[0m\n\u001b[1;32m----> 1\u001b[1;33m \u001b[0mos\u001b[0m\u001b[1;33m.\u001b[0m\u001b[0mrename\u001b[0m\u001b[1;33m(\u001b[0m\u001b[1;34m\"test.txt\"\u001b[0m\u001b[1;33m,\u001b[0m \u001b[1;34m\"testrenamedtoxyz.txt\"\u001b[0m\u001b[1;33m)\u001b[0m\u001b[1;33m\u001b[0m\u001b[1;33m\u001b[0m\u001b[0m\n\u001b[0m",
      "\u001b[1;31mPermissionError\u001b[0m: [WinError 32] The process cannot access the file because it is being used by another process: 'test.txt' -> 'testrenamedtoxyz.txt'"
     ]
    }
   ],
   "source": [
    "os.rename(\"test.txt\", \"testrenamedtoxyz.txt\")"
   ]
  },
  {
   "cell_type": "code",
   "execution_count": 161,
   "id": "dde08f9c",
   "metadata": {},
   "outputs": [],
   "source": [
    "os.rmdir(\"sudh\")"
   ]
  },
  {
   "cell_type": "code",
   "execution_count": 162,
   "id": "597f9bae",
   "metadata": {},
   "outputs": [
    {
     "ename": "TypeError",
     "evalue": "move() missing 1 required positional argument: 'dst'",
     "output_type": "error",
     "traceback": [
      "\u001b[1;31m---------------------------------------------------------------------------\u001b[0m",
      "\u001b[1;31mTypeError\u001b[0m                                 Traceback (most recent call last)",
      "\u001b[1;32m~\\AppData\\Local\\Temp/ipykernel_5328/276683403.py\u001b[0m in \u001b[0;36m<module>\u001b[1;34m\u001b[0m\n\u001b[0;32m      1\u001b[0m \u001b[1;32mimport\u001b[0m \u001b[0mshutil\u001b[0m\u001b[1;33m\u001b[0m\u001b[1;33m\u001b[0m\u001b[0m\n\u001b[1;32m----> 2\u001b[1;33m \u001b[0mshutil\u001b[0m\u001b[1;33m.\u001b[0m\u001b[0mmove\u001b[0m\u001b[1;33m(\u001b[0m\u001b[1;34m\"C:\\\\Users\\\\Utkarsh\\\\Untitled Folder\"\u001b[0m\u001b[1;33m)\u001b[0m\u001b[1;33m\u001b[0m\u001b[1;33m\u001b[0m\u001b[0m\n\u001b[0m",
      "\u001b[1;31mTypeError\u001b[0m: move() missing 1 required positional argument: 'dst'"
     ]
    }
   ],
   "source": [
    "import shutil\n",
    "shutil.move(\"C:\\\\Users\\\\Utkarsh\\\\Untitled Folder\" )"
   ]
  },
  {
   "cell_type": "code",
   "execution_count": 1,
   "id": "4b458da1",
   "metadata": {},
   "outputs": [
    {
     "name": "stdout",
     "output_type": "stream",
     "text": [
      "srfthdryh\n",
      "sedrgsrthg\n",
      "fdh\n",
      "dfhg\n",
      "dfhgdfgh\n",
      "dfgh\n",
      "fgh\n",
      "ghfg\n",
      "dgjh\n",
      "dghj\n",
      "The data from the directory has been read and is printed as follows:\n",
      "srfthdryh\n",
      "sedrgsrthg\n",
      "fdh\n",
      "dfhg\n",
      "dfhgdfgh\n",
      "dfgh\n",
      "fgh\n",
      "ghfg\n",
      "dgjh\n",
      "dghj\n",
      "The printed data from the directory has been hold in a list as follows:\n",
      "['srfthdryh', 'sedrgsrthg', 'fdh', 'dfhg', 'dfhgdfgh', 'dfgh', 'fgh', 'ghfg', 'dgjh', 'dghj']\n"
     ]
    }
   ],
   "source": [
    "import os\n",
    "os.mkdir(\"CreatedDirectory\")\n",
    "os.chdir(os.getcwd()+\"\\\\CreatedDirectory\")\n",
    "    \n",
    "for i in range(10):\n",
    "    FileName= \"test\"+str(i)+\".txt\"\n",
    "    f=open(FileName, \"w\")\n",
    "    f.write(input())\n",
    "    f.close()\n",
    "print(\"The data from the directory has been read and is printed as follows:\")\n",
    "    \n",
    "for i in os.listdir():\n",
    "    f=open(i, \"r+\")\n",
    "    AllData=f.read()\n",
    "    f.close()\n",
    "    print(AllData)\n",
    "    \n",
    "print(\"The printed data from the directory has been hold in a list as follows:\")        \n",
    "ListOfData = []\n",
    "for i in os.listdir():\n",
    "    f=open(i, \"r+\")\n",
    "    ListOfData.append(f.read())\n",
    "    f.close()\n",
    "print(ListOfData)\n",
    "\n",
    "f = open(\"NewFile.txt\",\"w\")\n",
    "for i in ListOfData:\n",
    "    f.write(i)\n",
    "f.close()\n",
    "\n",
    "import shutil\n",
    "os.mkdir(\"C:\\\\Users\\\\Utkarsh\\\\NewDirectory\")\n",
    "for i in os.listdir() :\n",
    "    if i != \"NewFile.txt\":\n",
    "        shutil.move(i,\"C:\\\\Users\\\\Utkarsh\\\\NewDirectory\")\n",
    "\n",
    "\n",
    "\n",
    "            \n",
    "        \n",
    "        \n",
    "        \n",
    "        "
   ]
  },
  {
   "cell_type": "code",
   "execution_count": null,
   "id": "21bc3574",
   "metadata": {},
   "outputs": [],
   "source": []
  }
 ],
 "metadata": {
  "kernelspec": {
   "display_name": "Python 3 (ipykernel)",
   "language": "python",
   "name": "python3"
  },
  "language_info": {
   "codemirror_mode": {
    "name": "ipython",
    "version": 3
   },
   "file_extension": ".py",
   "mimetype": "text/x-python",
   "name": "python",
   "nbconvert_exporter": "python",
   "pygments_lexer": "ipython3",
   "version": "3.9.7"
  }
 },
 "nbformat": 4,
 "nbformat_minor": 5
}
