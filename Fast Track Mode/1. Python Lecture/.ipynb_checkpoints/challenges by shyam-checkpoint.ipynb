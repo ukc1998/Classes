{
 "cells": [
  {
   "cell_type": "code",
   "execution_count": 1,
   "id": "906b364b",
   "metadata": {},
   "outputs": [
    {
     "name": "stdout",
     "output_type": "stream",
     "text": [
      "Enter the number you want to check if the number i divisible by 7 or not:    2242\n",
      "The given number, 2242 is not divisible by 7\n"
     ]
    }
   ],
   "source": [
    "user_input = int(input(\"Enter the number you want to check if the number i divisible by 7 or not:    \"))\n",
    "\n",
    "if user_input%7 == 0:\n",
    "    print(f'The given number, {user_input} is divisible by 7')\n",
    "    \n",
    "else:\n",
    "    print(f'The given number, {user_input} is not divisible by 7')"
   ]
  },
  {
   "cell_type": "code",
   "execution_count": 2,
   "id": "645fe85d",
   "metadata": {},
   "outputs": [
    {
     "name": "stdout",
     "output_type": "stream",
     "text": [
      "Enter the number you want to check if the number i divisible by 7 or not:    3431234545\n",
      "The given number is not divisible by 7\n"
     ]
    }
   ],
   "source": [
    "user_input = input(\"Enter the number you want to check if the number i divisible by 7 or not:    \")\n",
    "\n",
    "patahai = [7,14,21,28,35,42,49,56,63,70,77,84,91,98]\n",
    "\n",
    "if (int(user_input) in patahai):\n",
    "    print(f'The given number is  divisible by 7')\n",
    "    \n",
    "elif int(user_input) > 70:\n",
    "    while len(user_input) > 2:\n",
    "        user_input = str(int(user_input[0:-1]) - int(user_input[-1])*2)\n",
    "        \n",
    "    if  (int(user_input) in patahai):\n",
    "        print(f'The given number is  divisible by 7')\n",
    "        \n",
    "    else:\n",
    "        print(f'The given number is not divisible by 7')\n",
    "        \n",
    "else:\n",
    "        print(f'The given number is not divisible by 7')"
   ]
  },
  {
   "cell_type": "code",
   "execution_count": 1,
   "id": "b5e1b40c",
   "metadata": {},
   "outputs": [
    {
     "name": "stdout",
     "output_type": "stream",
     "text": [
      "Enter any number: 2345345\n",
      "469069\n",
      "[1, 5, 469069]\n"
     ]
    }
   ],
   "source": [
    "user_input = eval(input(\"Enter any number: \"))\n",
    "\n",
    "store_room = []\n",
    "\n",
    "for i in range(1,user_input):\n",
    "    if user_input%i == 0:\n",
    "        store_room.append(i)\n",
    "        \n",
    "answer = max(store_room)\n",
    "print(answer)\n",
    "print(store_room)"
   ]
  }
 ],
 "metadata": {
  "kernelspec": {
   "display_name": "Python 3 (ipykernel)",
   "language": "python",
   "name": "python3"
  },
  "language_info": {
   "codemirror_mode": {
    "name": "ipython",
    "version": 3
   },
   "file_extension": ".py",
   "mimetype": "text/x-python",
   "name": "python",
   "nbconvert_exporter": "python",
   "pygments_lexer": "ipython3",
   "version": "3.9.7"
  }
 },
 "nbformat": 4,
 "nbformat_minor": 5
}
