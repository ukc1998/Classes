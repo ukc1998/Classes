{
 "cells": [
  {
   "cell_type": "code",
   "execution_count": 1,
   "id": "84696a3f",
   "metadata": {},
   "outputs": [
    {
     "name": "stdout",
     "output_type": "stream",
     "text": [
      "1\n",
      "2\n",
      "3\n",
      "4\n",
      "no 10 rs notes is available\n"
     ]
    }
   ],
   "source": [
    "notes=5\n",
    "i=1\n",
    "while i < notes:\n",
    "    print(i)\n",
    "    i=i+1\n",
    "else:\n",
    "    print(\"no 10 rs notes is available\")"
   ]
  },
  {
   "cell_type": "code",
   "execution_count": 5,
   "id": "cd91f6ae",
   "metadata": {},
   "outputs": [
    {
     "name": "stdout",
     "output_type": "stream",
     "text": [
      "1234\n",
      "no 10 rs notes is available\n"
     ]
    }
   ],
   "source": [
    "notes=5\n",
    "i=1\n",
    "while i < notes:\n",
    "    print(i, end=\"\")\n",
    "    i=i+1\n",
    "else:\n",
    "    print(\"\\nno 10 rs notes is available\")"
   ]
  },
  {
   "cell_type": "code",
   "execution_count": 6,
   "id": "1a5b92ab",
   "metadata": {},
   "outputs": [],
   "source": [
    "s=\"my name is sudhanshu\""
   ]
  },
  {
   "cell_type": "code",
   "execution_count": 7,
   "id": "f9c3a507",
   "metadata": {},
   "outputs": [
    {
     "data": {
      "text/plain": [
       "'m'"
      ]
     },
     "execution_count": 7,
     "metadata": {},
     "output_type": "execute_result"
    }
   ],
   "source": [
    "s[0]"
   ]
  },
  {
   "cell_type": "code",
   "execution_count": 8,
   "id": "283ee954",
   "metadata": {},
   "outputs": [
    {
     "name": "stdout",
     "output_type": "stream",
     "text": [
      "my name is sudhanshu"
     ]
    }
   ],
   "source": [
    "for i in s:\n",
    "    print(i, end=\"\")"
   ]
  },
  {
   "cell_type": "code",
   "execution_count": 9,
   "id": "a55a66b4",
   "metadata": {},
   "outputs": [
    {
     "name": "stdout",
     "output_type": "stream",
     "text": [
      "m\n",
      "y\n",
      " \n",
      "n\n",
      "a\n",
      "m\n",
      "e\n",
      " \n",
      "i\n",
      "s\n",
      " \n",
      "s\n",
      "u\n",
      "d\n",
      "h\n",
      "a\n",
      "n\n",
      "s\n",
      "h\n",
      "u\n"
     ]
    }
   ],
   "source": [
    "for i in s:\n",
    "    print(i)"
   ]
  },
  {
   "cell_type": "code",
   "execution_count": 13,
   "id": "f56a203e",
   "metadata": {},
   "outputs": [
    {
     "name": "stdout",
     "output_type": "stream",
     "text": [
      "m\n",
      "y\n",
      " \n",
      "n\n",
      "a\n",
      "m\n",
      "e\n",
      " \n",
      "i\n",
      "i got 's' in the string\n",
      "s\n",
      " \n",
      "i got 's' in the string\n",
      "s\n",
      "u\n",
      "d\n",
      "h\n",
      "a\n",
      "n\n",
      "i got 's' in the string\n",
      "s\n",
      "h\n",
      "u\n"
     ]
    }
   ],
   "source": [
    "for i in s:\n",
    "    if i == \"s\":\n",
    "        print(\"i got 's' in the string\" )\n",
    "    print(i)"
   ]
  },
  {
   "cell_type": "code",
   "execution_count": 16,
   "id": "6ea90111",
   "metadata": {},
   "outputs": [
    {
     "name": "stdout",
     "output_type": "stream",
     "text": [
      "m\n",
      "y\n",
      " \n",
      "n\n",
      "a\n",
      "m\n",
      "e\n",
      " \n",
      "i\n",
      "s\n",
      "i got 's' in the string\n",
      " \n",
      "s\n",
      "i got 's' in the string\n",
      "u\n",
      "d\n",
      "h\n",
      "a\n",
      "n\n",
      "s\n",
      "i got 's' in the string\n",
      "h\n",
      "u\n"
     ]
    }
   ],
   "source": [
    "for i in s:\n",
    "    print(i)\n",
    "    if i == \"s\":\n",
    "        print(\"i got 's' in the string\" )\n",
    "    "
   ]
  },
  {
   "cell_type": "code",
   "execution_count": 19,
   "id": "913ee9a7",
   "metadata": {},
   "outputs": [
    {
     "name": "stdout",
     "output_type": "stream",
     "text": [
      "m\n",
      "y\n",
      " \n",
      "n\n",
      "a\n",
      "m\n",
      "e\n",
      " \n",
      "i\n",
      "s\n",
      " \n",
      "s\n",
      "u\n",
      "d\n",
      "h\n",
      "a\n",
      "n\n",
      "s\n",
      "h\n",
      "u\n",
      "u is the last character of the string, s\n",
      "it is an else condition\n"
     ]
    }
   ],
   "source": [
    "for i in s:\n",
    "    print(i)\n",
    "else: \n",
    "    if i ==\"u\":\n",
    "        print (\"u is the last character of the string, s\")\n",
    "        print(\"it is an else condition\")"
   ]
  },
  {
   "cell_type": "code",
   "execution_count": 20,
   "id": "146274bf",
   "metadata": {},
   "outputs": [
    {
     "name": "stdout",
     "output_type": "stream",
     "text": [
      "m\n",
      "y\n",
      " \n",
      "a\n",
      "m\n",
      "e\n",
      " \n",
      "i\n",
      "s\n",
      " \n",
      "s\n",
      "u\n",
      "d\n",
      "h\n",
      "a\n",
      "s\n",
      "h\n",
      "u\n"
     ]
    }
   ],
   "source": [
    "for i in s:\n",
    "    if i == \"n\":\n",
    "        continue\n",
    "    print(i)"
   ]
  },
  {
   "cell_type": "code",
   "execution_count": 21,
   "id": "d5589ebc",
   "metadata": {},
   "outputs": [
    {
     "name": "stdout",
     "output_type": "stream",
     "text": [
      "m\n",
      "y\n",
      " \n"
     ]
    }
   ],
   "source": [
    "for i in s:\n",
    "    if i == \"n\":\n",
    "        break\n",
    "    print(i)"
   ]
  },
  {
   "cell_type": "code",
   "execution_count": 22,
   "id": "f66a2840",
   "metadata": {},
   "outputs": [
    {
     "name": "stdout",
     "output_type": "stream",
     "text": [
      "+\r\n",
      "++\r\n",
      "+++\r\n",
      "++++\r\n",
      "+++++\r\n",
      "++++++\r\n",
      "+++++++\r\n"
     ]
    }
   ],
   "source": [
    "n=7\n",
    "for i in range (0,n):\n",
    "    for j in range(0,i+1):\n",
    "        print(\"+\", end=\"\")\n",
    "    print(\"\\r\")"
   ]
  },
  {
   "cell_type": "code",
   "execution_count": 23,
   "id": "c5def6dd",
   "metadata": {},
   "outputs": [
    {
     "name": "stdout",
     "output_type": "stream",
     "text": [
      "+\n",
      "\n",
      "++\n",
      "\n",
      "+++\n",
      "\n",
      "++++\n",
      "\n",
      "+++++\n",
      "\n",
      "++++++\n",
      "\n",
      "+++++++\n",
      "\n"
     ]
    }
   ],
   "source": [
    "n=7\n",
    "for i in range (0,n):\n",
    "    for j in range(0,i+1):\n",
    "        print(\"+\", end=\"\")\n",
    "    print(\"\\n\")"
   ]
  },
  {
   "cell_type": "code",
   "execution_count": 24,
   "id": "e6155224",
   "metadata": {},
   "outputs": [
    {
     "name": "stdout",
     "output_type": "stream",
     "text": [
      "++++++++++++++++++++++++++++"
     ]
    }
   ],
   "source": [
    "n=7\n",
    "for i in range (0,n):\n",
    "    for j in range(0,i+1):\n",
    "        print(\"+\", end=\"\")\n",
    "        "
   ]
  },
  {
   "cell_type": "code",
   "execution_count": 25,
   "id": "46c3b727",
   "metadata": {},
   "outputs": [
    {
     "name": "stdout",
     "output_type": "stream",
     "text": [
      "+\n",
      "+\n",
      "+\n",
      "+\n",
      "+\n",
      "+\n",
      "+\n",
      "+\n",
      "+\n",
      "+\n",
      "+\n",
      "+\n",
      "+\n",
      "+\n",
      "+\n",
      "+\n",
      "+\n",
      "+\n",
      "+\n",
      "+\n",
      "+\n",
      "+\n",
      "+\n",
      "+\n",
      "+\n",
      "+\n",
      "+\n",
      "+\n"
     ]
    }
   ],
   "source": [
    "n=7\n",
    "for i in range (0,n):\n",
    "    for j in range(0,i+1):\n",
    "        print(\"+\", end=\"\\n\")\n",
    "        "
   ]
  },
  {
   "cell_type": "code",
   "execution_count": 27,
   "id": "c78cdda9",
   "metadata": {},
   "outputs": [
    {
     "name": "stdout",
     "output_type": "stream",
     "text": [
      "+++++++\r\n",
      "++++++\r\n",
      "+++++\r\n",
      "++++\r\n",
      "+++\r\n",
      "++\r\n",
      "+\r\n",
      "\r\n"
     ]
    }
   ],
   "source": [
    "n=8\n",
    "for i in range (n,0,-1):\n",
    "    for j in range (i-1,0,-1):\n",
    "        print(\"+\", end=\"\")\n",
    "    print(\"\\r\")"
   ]
  },
  {
   "cell_type": "code",
   "execution_count": 29,
   "id": "c371b705",
   "metadata": {},
   "outputs": [
    {
     "name": "stdout",
     "output_type": "stream",
     "text": [
      "     +++++++\r\n",
      "     ++++++\r\n",
      "     +++++\r\n",
      "     ++++\r\n",
      "     +++\r\n",
      "     ++\r\n",
      "     +\r\n",
      "     \r\n"
     ]
    }
   ],
   "source": [
    "n=8\n",
    "for i in range (n,0,-1):\n",
    "    print(\"     \", end=\"\")\n",
    "    for j in range (i-1,0,-1):\n",
    "        print(\"+\", end=\"\")\n",
    "    print(\"\\r\")"
   ]
  },
  {
   "cell_type": "code",
   "execution_count": 31,
   "id": "071bc8c1",
   "metadata": {},
   "outputs": [
    {
     "name": "stdout",
     "output_type": "stream",
     "text": [
      "enter number of rows    :   6\n",
      "+++++++++++\n",
      " +++++++++\n",
      "  +++++++\n",
      "   +++++\n",
      "    +++\n",
      "     +\n"
     ]
    }
   ],
   "source": [
    "n= int(input(\"enter number of rows    :   \"))\n",
    "for i in range (n,0,-1):\n",
    "    for j in range (n-i):\n",
    "        print(\" \", end=\"\")\n",
    "    for j in range (2*i - 1):\n",
    "        print(\"+\", end=\"\")\n",
    "    print(\"\\r\")"
   ]
  },
  {
   "cell_type": "code",
   "execution_count": 36,
   "id": "27c37648",
   "metadata": {},
   "outputs": [
    {
     "name": "stdout",
     "output_type": "stream",
     "text": [
      "enter number of rows    :   5\n",
      "+++++\n",
      " ++++\n",
      "  +++\n",
      "   ++\n",
      "    +\n",
      "     \n"
     ]
    }
   ],
   "source": [
    "n= int(input(\"enter number of rows    :   \"))\n",
    "for i in range (n+1,0,-1):\n",
    "    for j in range (n+1-i):\n",
    "        print(\" \", end=\"\")\n",
    "    for j in range (i - 1):\n",
    "        print(\"+\", end=\"\")\n",
    "    print(\"\\r\")"
   ]
  },
  {
   "cell_type": "code",
   "execution_count": 37,
   "id": "532ecb31",
   "metadata": {},
   "outputs": [
    {
     "name": "stdout",
     "output_type": "stream",
     "text": [
      "enter number of rows    :   5\n",
      "++++\n",
      " +++\n",
      "  ++\n",
      "   +\n",
      "    \n",
      "     \n"
     ]
    }
   ],
   "source": [
    "n= int(input(\"enter number of rows    :   \"))\n",
    "for i in range (n+1,0,-1):\n",
    "    for j in range (n+1-i):\n",
    "        print(\" \", end=\"\")\n",
    "    for j in range (i - 2):\n",
    "        print(\"+\", end=\"\")\n",
    "    print(\"\\r\")"
   ]
  },
  {
   "cell_type": "code",
   "execution_count": 38,
   "id": "9b5f72ca",
   "metadata": {},
   "outputs": [
    {
     "name": "stdout",
     "output_type": "stream",
     "text": [
      "enter number of rows    :   7\n",
      "+++++++\n",
      "++++++\n",
      " +++++\n",
      "  ++++\n",
      "   +++\n",
      "    ++\n",
      "     +\n",
      "      \n"
     ]
    }
   ],
   "source": [
    "n= int(input(\"enter number of rows    :   \"))\n",
    "for i in range (n+1,0,-1):\n",
    "    for j in range (n-i):\n",
    "        print(\" \", end=\"\")\n",
    "    for j in range (i - 1):\n",
    "        print(\"+\", end=\"\")\n",
    "    print(\"\\r\")"
   ]
  },
  {
   "cell_type": "code",
   "execution_count": 40,
   "id": "5b50ff8a",
   "metadata": {},
   "outputs": [
    {
     "name": "stdout",
     "output_type": "stream",
     "text": [
      "enter number of rows    :   9\n",
      "+++++++++\n",
      "++++++++\n",
      "+++++++\n",
      "++++++\n",
      " +++++\n",
      "  ++++\n",
      "   +++\n",
      "    ++\n",
      "     +\n",
      "      \n"
     ]
    }
   ],
   "source": [
    "n= int(input(\"enter number of rows    :   \"))\n",
    "for i in range (n+1,0,-1):\n",
    "    for j in range (n-i-2):\n",
    "        print(\" \", end=\"\")\n",
    "    for j in range (i - 1):\n",
    "        print(\"+\", end=\"\")\n",
    "    print(\"\\r\")"
   ]
  },
  {
   "cell_type": "code",
   "execution_count": 41,
   "id": "ffe2d148",
   "metadata": {},
   "outputs": [
    {
     "name": "stdout",
     "output_type": "stream",
     "text": [
      "        * * * * * * \r\n",
      "         * * * * * \r\n",
      "          * * * * \r\n",
      "           * * * \r\n",
      "            * * \r\n",
      "             * \r\n"
     ]
    }
   ],
   "source": [
    "def pattern(n):\n",
    "      k = 2*n -2\n",
    "      for i in range(n,-1,-1):\n",
    "           for j in range(k,0,-1):\n",
    "                print(end=\" \")\n",
    "           k = k +1\n",
    "           for j in range(0, i+1):\n",
    "                print(\"*\", end=\" \")\n",
    "           print(\"\\r\")\n",
    " \n",
    "pattern(5)\n"
   ]
  },
  {
   "cell_type": "code",
   "execution_count": 42,
   "id": "d3a54ce3",
   "metadata": {},
   "outputs": [
    {
     "name": "stdout",
     "output_type": "stream",
     "text": [
      "                * * * * * * * * * * \r\n",
      "                 * * * * * * * * * \r\n",
      "                  * * * * * * * * \r\n",
      "                   * * * * * * * \r\n",
      "                    * * * * * * \r\n",
      "                     * * * * * \r\n",
      "                      * * * * \r\n",
      "                       * * * \r\n",
      "                        * * \r\n",
      "                         * \r\n"
     ]
    }
   ],
   "source": [
    "pattern(9)"
   ]
  },
  {
   "cell_type": "code",
   "execution_count": 43,
   "id": "329f3298",
   "metadata": {},
   "outputs": [
    {
     "name": "stdout",
     "output_type": "stream",
     "text": [
      "        * * * * * * \n",
      "         * * * * * \n",
      "          * * * * \n",
      "           * * * \n",
      "            * * \n",
      "             * \n"
     ]
    }
   ],
   "source": [
    "num = 5\n",
    "m = 2 * num - 2\n",
    "for i in range(num, -1, -1):\n",
    "    for j in range(m, 0, -1):\n",
    "        print(end=\" \")\n",
    "    m = m + 1\n",
    "    for j in range(0, i + 1):\n",
    "        print(\"*\", end=\" \")\n",
    "    print(\"\")\n"
   ]
  },
  {
   "cell_type": "code",
   "execution_count": 44,
   "id": "c95aa52e",
   "metadata": {},
   "outputs": [
    {
     "name": "stdout",
     "output_type": "stream",
     "text": [
      "        * \n",
      "       * * \n",
      "      * * * \n",
      "     * * * * \n",
      "    * * * * * \n",
      "   * * * * * * \n",
      "  * * * * * * * \n",
      " * * * * * * * * \n",
      "* * * * * * * * * \n"
     ]
    }
   ],
   "source": [
    "n =9\n",
    "i=0\n",
    "while i < n :\n",
    "    print(' '*(n-i-1) + '* '*(i+1))\n",
    "    i +=1\n"
   ]
  },
  {
   "cell_type": "code",
   "execution_count": 45,
   "id": "e07ff682",
   "metadata": {},
   "outputs": [
    {
     "name": "stdout",
     "output_type": "stream",
     "text": [
      "    *\n",
      "   ***\n",
      "  *****\n",
      " *******\n",
      "*********\n"
     ]
    }
   ],
   "source": [
    "i=1\n",
    "k=1 #for printing starts with the increament of 2\n",
    "\n",
    "while i<=5:\n",
    "    b=1\n",
    "    while b<=5-i:\n",
    "        print(' ',end='')\n",
    "        b=b+1\n",
    "        \n",
    "    j=1\n",
    "    while j<=k:\n",
    "        print('*', end='')\n",
    "        j=j+1\n",
    "    print()\n",
    "    \n",
    "    k=k+2\n",
    "    \n",
    "    i=i+1\n"
   ]
  },
  {
   "cell_type": "code",
   "execution_count": 46,
   "id": "a6db3839",
   "metadata": {},
   "outputs": [
    {
     "name": "stdout",
     "output_type": "stream",
     "text": [
      "Please enter the amount of rows: 7\n",
      "      *\n",
      "     ***\n",
      "    *****\n",
      "   *******\n",
      "  *********\n",
      " ***********\n",
      "*************\n"
     ]
    }
   ],
   "source": [
    "userInput = int(input(\"Please enter the amount of rows: \"))\n",
    "\n",
    "row = 0\n",
    "while(row < userInput):\n",
    "    row += 1\n",
    "    spaces = userInput - row\n",
    "\n",
    "    spaces_counter = 0\n",
    "    while(spaces_counter < spaces):\n",
    "        print(\" \", end='')\n",
    "        spaces_counter += 1\n",
    "\n",
    "    num_stars = 2*row-1\n",
    "    while(num_stars > 0):\n",
    "        print(\"*\", end='')\n",
    "        num_stars -= 1\n",
    "\n",
    "    print()"
   ]
  },
  {
   "cell_type": "code",
   "execution_count": null,
   "id": "0d879bb7",
   "metadata": {},
   "outputs": [],
   "source": []
  }
 ],
 "metadata": {
  "kernelspec": {
   "display_name": "Python 3 (ipykernel)",
   "language": "python",
   "name": "python3"
  },
  "language_info": {
   "codemirror_mode": {
    "name": "ipython",
    "version": 3
   },
   "file_extension": ".py",
   "mimetype": "text/x-python",
   "name": "python",
   "nbconvert_exporter": "python",
   "pygments_lexer": "ipython3",
   "version": "3.9.7"
  }
 },
 "nbformat": 4,
 "nbformat_minor": 5
}
