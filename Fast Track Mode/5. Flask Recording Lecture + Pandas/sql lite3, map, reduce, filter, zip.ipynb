{
 "cells": [
  {
   "cell_type": "code",
   "execution_count": 1,
   "id": "694ccb6e",
   "metadata": {},
   "outputs": [],
   "source": [
    "import sqlite3"
   ]
  },
  {
   "cell_type": "code",
   "execution_count": 2,
   "id": "ca941855",
   "metadata": {},
   "outputs": [],
   "source": [
    "db = sqlite3.connect(\"ineuron.db\")"
   ]
  },
  {
   "cell_type": "code",
   "execution_count": 3,
   "id": "7bdd04db",
   "metadata": {},
   "outputs": [
    {
     "name": "stdout",
     "output_type": "stream",
     "text": [
      " Volume in drive C is Windows\n",
      " Volume Serial Number is C21A-2381\n",
      "\n",
      " Directory of C:\\Users\\Utkarsh\\Classes\\Fast Track Mode\\5. Flask Recording Lecture (Sudhanshu Sir)\n",
      "\n",
      "20-02-2022  10:32    <DIR>          .\n",
      "20-02-2022  10:32    <DIR>          ..\n",
      "20-02-2022  10:29    <DIR>          .ipynb_checkpoints\n",
      "19-02-2022  13:25         1,065,086 1. 18th Feb 2022_Pandas.ipynb\n",
      "20-02-2022  10:30           210,412 2. 19th Feb 2022_Pandas.ipynb\n",
      "10-02-2022  22:04    <DIR>          flask_demo\n",
      "19-02-2022  13:24             4,270 html_data0.csv\n",
      "19-02-2022  13:24             2,159 html_data1.csv\n",
      "19-02-2022  13:24             4,085 html_data2.csv\n",
      "19-02-2022  13:24             2,429 html_data3.csv\n",
      "19-02-2022  13:24             3,201 html_data4.csv\n",
      "19-02-2022  13:24             2,117 html_data5.csv\n",
      "20-02-2022  10:32                 0 ineuron.db\n",
      "19-02-2022  12:09           116,981 json_dump.csv\n",
      "19-02-2022  16:03             4,916 my_pickle\n",
      "18-02-2022  14:00            32,627 Player.csv\n",
      "18-02-2022  13:00            32,627 Player.csv.bak\n",
      "19-02-2022  09:04             2,468 players_data.csv\n",
      "18-02-2022  21:57    <DIR>          sample-excel-master\n",
      "18-02-2022  13:54               423 test.csv\n",
      "19-02-2022  16:17         1,137,688 test.h5\n",
      "20-02-2022  10:29                72 Untitled.ipynb\n",
      "              17 File(s)      2,621,561 bytes\n",
      "               5 Dir(s)  107,863,523,328 bytes free\n"
     ]
    }
   ],
   "source": [
    "%ls"
   ]
  },
  {
   "cell_type": "code",
   "execution_count": 4,
   "id": "bb186c76",
   "metadata": {},
   "outputs": [],
   "source": [
    "c= db.cursor() \n",
    "#after making a successfull connection with a db in my local system,\n",
    "# we are creating a cursor and storing it in a variable by the \n",
    "#help of which we will be able to execute queries as per our wish"
   ]
  },
  {
   "cell_type": "code",
   "execution_count": 5,
   "id": "7860be9f",
   "metadata": {},
   "outputs": [
    {
     "data": {
      "text/plain": [
       "<sqlite3.Cursor at 0x19cad3518f0>"
      ]
     },
     "execution_count": 5,
     "metadata": {},
     "output_type": "execute_result"
    }
   ],
   "source": [
    "c.execute(\"create table fsds(name text, batchid int, marks real)\") \n",
    "#just the datatype was different in SQL"
   ]
  },
  {
   "cell_type": "code",
   "execution_count": 6,
   "id": "028bc670",
   "metadata": {},
   "outputs": [
    {
     "name": "stdout",
     "output_type": "stream",
     "text": [
      " Volume in drive C is Windows\n",
      " Volume Serial Number is C21A-2381\n",
      "\n",
      " Directory of C:\\Users\\Utkarsh\\Classes\\Fast Track Mode\\5. Flask Recording Lecture (Sudhanshu Sir)\n",
      "\n",
      "\n",
      " Directory of C:\\Users\\Utkarsh\\Classes\\Fast Track Mode\\5. Flask Recording Lecture (Sudhanshu Sir)\n",
      "\n",
      "\n",
      " Directory of C:\\Users\\Utkarsh\\Classes\\Fast Track Mode\\5. Flask Recording Lecture (Sudhanshu Sir)\n",
      "\n",
      "\n",
      " Directory of C:\\Users\\Utkarsh\\Classes\\Fast Track Mode\\5. Flask Recording Lecture (Sudhanshu Sir)\n",
      "\n",
      "\n",
      " Directory of C:\\Users\\Utkarsh\\Classes\\Fast Track Mode\\5. Flask Recording Lecture (Sudhanshu Sir)\n",
      "\n",
      "\n",
      " Directory of C:\\Users\\Utkarsh\\Classes\\Fast Track Mode\\5. Flask Recording Lecture (Sudhanshu Sir)\n",
      "\n",
      "\n",
      " Directory of C:\\Users\\Utkarsh\\Classes\\Fast Track Mode\\5. Flask Recording Lecture (Sudhanshu Sir)\n",
      "\n",
      "\n",
      " Directory of C:\\Users\\Utkarsh\\Classes\\Fast Track Mode\\5. Flask Recording Lecture (Sudhanshu Sir)\n",
      "\n",
      "\n",
      " Directory of C:\\Users\\Utkarsh\\Classes\\Fast Track Mode\\5. Flask Recording Lecture (Sudhanshu Sir)\n",
      "\n",
      "\n",
      " Directory of C:\\Users\\Utkarsh\\Classes\\Fast Track Mode\\5. Flask Recording Lecture (Sudhanshu Sir)\n",
      "\n",
      "\n",
      " Directory of C:\\Users\\Utkarsh\\Classes\\Fast Track Mode\\5. Flask Recording Lecture (Sudhanshu Sir)\n",
      "\n",
      "\n",
      " Directory of C:\\Users\\Utkarsh\\Classes\\Fast Track Mode\\5. Flask Recording Lecture (Sudhanshu Sir)\n",
      "\n",
      "\n",
      " Directory of C:\\Users\\Utkarsh\\Classes\\Fast Track Mode\\5. Flask Recording Lecture (Sudhanshu Sir)\n",
      "\n",
      "\n",
      " Directory of C:\\Users\\Utkarsh\\Classes\\Fast Track Mode\\5. Flask Recording Lecture (Sudhanshu Sir)\n",
      "\n",
      "20-02-2022  10:37             8,192 ineuron.db\n",
      "               1 File(s)          8,192 bytes\n",
      "               0 Dir(s)  107,862,974,464 bytes free\n"
     ]
    }
   ],
   "source": [
    "%ls \n",
    "# now, we can see that the size of the ineuron.db file has increased"
   ]
  },
  {
   "cell_type": "code",
   "execution_count": 7,
   "id": "4f08fa74",
   "metadata": {},
   "outputs": [
    {
     "data": {
      "text/plain": [
       "<sqlite3.Cursor at 0x19cad3518f0>"
      ]
     },
     "execution_count": 7,
     "metadata": {},
     "output_type": "execute_result"
    }
   ],
   "source": [
    "c.execute(\"insert into fsds values('sudh', 1234, 345345.2353)\")"
   ]
  },
  {
   "cell_type": "code",
   "execution_count": 8,
   "id": "39dfba6b",
   "metadata": {},
   "outputs": [
    {
     "name": "stdout",
     "output_type": "stream",
     "text": [
      " Volume in drive C is Windows\n",
      " Volume Serial Number is C21A-2381\n",
      "\n",
      " Directory of C:\\Users\\Utkarsh\\Classes\\Fast Track Mode\\5. Flask Recording Lecture (Sudhanshu Sir)\n",
      "\n",
      "20-02-2022  10:39    <DIR>          .\n",
      "20-02-2022  10:39    <DIR>          ..\n",
      "20-02-2022  10:29    <DIR>          .ipynb_checkpoints\n",
      "19-02-2022  13:25         1,065,086 1. 18th Feb 2022_Pandas.ipynb\n",
      "20-02-2022  10:30           210,412 2. 19th Feb 2022_Pandas.ipynb\n",
      "10-02-2022  22:04    <DIR>          flask_demo\n",
      "19-02-2022  13:24             4,270 html_data0.csv\n",
      "19-02-2022  13:24             2,159 html_data1.csv\n",
      "19-02-2022  13:24             4,085 html_data2.csv\n",
      "19-02-2022  13:24             2,429 html_data3.csv\n",
      "19-02-2022  13:24             3,201 html_data4.csv\n",
      "19-02-2022  13:24             2,117 html_data5.csv\n",
      "20-02-2022  10:37             8,192 ineuron.db\n",
      "20-02-2022  10:39                 0 ineuron.db-journal\n",
      "19-02-2022  12:09           116,981 json_dump.csv\n",
      "19-02-2022  16:03             4,916 my_pickle\n",
      "18-02-2022  14:00            32,627 Player.csv\n",
      "18-02-2022  13:00            32,627 Player.csv.bak\n",
      "19-02-2022  09:04             2,468 players_data.csv\n",
      "18-02-2022  21:57    <DIR>          sample-excel-master\n",
      "18-02-2022  13:54               423 test.csv\n",
      "19-02-2022  16:17         1,137,688 test.h5\n",
      "20-02-2022  10:38             6,246 Untitled.ipynb\n",
      "              18 File(s)      2,635,927 bytes\n",
      "               5 Dir(s)  107,862,691,840 bytes free\n"
     ]
    }
   ],
   "source": [
    "%ls\n",
    "#again the size of the file has increased"
   ]
  },
  {
   "cell_type": "code",
   "execution_count": 10,
   "id": "cbde016a",
   "metadata": {},
   "outputs": [
    {
     "data": {
      "text/plain": [
       "<sqlite3.Cursor at 0x19cad3518f0>"
      ]
     },
     "execution_count": 10,
     "metadata": {},
     "output_type": "execute_result"
    }
   ],
   "source": [
    "c.execute(\"insert into fsds values('sudh', 1234, 345345.2353)\")\n",
    "c.execute(\"insert into fsds values('sudh', 1234, 345345.2353)\")\n",
    "c.execute(\"insert into fsds values('sudh', 1234, 345345.2353)\")\n",
    "c.execute(\"insert into fsds values('sudh', 1234, 345345.2353)\")\n",
    "c.execute(\"insert into fsds values('sudh', 1234, 345345.2353)\")\n",
    "c.execute(\"insert into fsds values('sudh', 1234, 345345.2353)\")\n",
    "c.execute(\"insert into fsds values('sudh', 1234, 345345.2353)\")\n",
    "c.execute(\"insert into fsds values('sudh', 1234, 345345.2353)\")"
   ]
  },
  {
   "cell_type": "code",
   "execution_count": 11,
   "id": "6bf87e96",
   "metadata": {},
   "outputs": [],
   "source": [
    "data = c.execute(\"select * from fsds\")"
   ]
  },
  {
   "cell_type": "code",
   "execution_count": 12,
   "id": "b569d4e4",
   "metadata": {},
   "outputs": [
    {
     "name": "stdout",
     "output_type": "stream",
     "text": [
      "('sudh', 1234, 345345.2353)\n",
      "('sudh', 1234, 345345.2353)\n",
      "('sudh', 1234, 345345.2353)\n",
      "('sudh', 1234, 345345.2353)\n",
      "('sudh', 1234, 345345.2353)\n",
      "('sudh', 1234, 345345.2353)\n",
      "('sudh', 1234, 345345.2353)\n",
      "('sudh', 1234, 345345.2353)\n",
      "('sudh', 1234, 345345.2353)\n"
     ]
    }
   ],
   "source": [
    "for i in data:\n",
    "    print(i)"
   ]
  },
  {
   "cell_type": "code",
   "execution_count": 13,
   "id": "2f4dfa3c",
   "metadata": {},
   "outputs": [],
   "source": [
    "db.commit()"
   ]
  },
  {
   "cell_type": "code",
   "execution_count": 14,
   "id": "cc64ab6a",
   "metadata": {},
   "outputs": [],
   "source": [
    "db.close()"
   ]
  },
  {
   "cell_type": "code",
   "execution_count": 15,
   "id": "f1c8c550",
   "metadata": {},
   "outputs": [
    {
     "name": "stdout",
     "output_type": "stream",
     "text": [
      " Volume in drive C is Windows\n",
      " Volume Serial Number is C21A-2381\n",
      "\n",
      " Directory of C:\\Users\\Utkarsh\\Classes\\Fast Track Mode\\5. Flask Recording Lecture (Sudhanshu Sir)\n",
      "\n",
      "20-02-2022  10:44    <DIR>          .\n",
      "20-02-2022  10:44    <DIR>          ..\n",
      "20-02-2022  10:29    <DIR>          .ipynb_checkpoints\n",
      "19-02-2022  13:25         1,065,086 1. 18th Feb 2022_Pandas.ipynb\n",
      "20-02-2022  10:30           210,412 2. 19th Feb 2022_Pandas.ipynb\n",
      "10-02-2022  22:04    <DIR>          flask_demo\n",
      "19-02-2022  13:24             4,270 html_data0.csv\n",
      "19-02-2022  13:24             2,159 html_data1.csv\n",
      "19-02-2022  13:24             4,085 html_data2.csv\n",
      "19-02-2022  13:24             2,429 html_data3.csv\n",
      "19-02-2022  13:24             3,201 html_data4.csv\n",
      "19-02-2022  13:24             2,117 html_data5.csv\n",
      "20-02-2022  10:43             8,192 ineuron.db\n",
      "19-02-2022  12:09           116,981 json_dump.csv\n",
      "19-02-2022  16:03             4,916 my_pickle\n",
      "18-02-2022  14:00            32,627 Player.csv\n",
      "18-02-2022  13:00            32,627 Player.csv.bak\n",
      "19-02-2022  09:04             2,468 players_data.csv\n",
      "18-02-2022  21:57    <DIR>          sample-excel-master\n",
      "18-02-2022  13:54               423 test.csv\n",
      "19-02-2022  16:17         1,137,688 test.h5\n",
      "20-02-2022  10:44            10,571 Untitled.ipynb\n",
      "              17 File(s)      2,640,252 bytes\n",
      "               5 Dir(s)  107,864,821,760 bytes free\n"
     ]
    }
   ],
   "source": [
    "#ineuron .journal is cache file that is auto generated and is deleted\n",
    "#on its own after commit and close operation\n",
    "\n",
    "%ls"
   ]
  },
  {
   "cell_type": "code",
   "execution_count": 16,
   "id": "e53cb999",
   "metadata": {},
   "outputs": [],
   "source": [
    "db = sqlite3.connect(\"ineuron.db\")"
   ]
  },
  {
   "cell_type": "code",
   "execution_count": 17,
   "id": "31b4d78c",
   "metadata": {},
   "outputs": [],
   "source": [
    "c=db.cursor()"
   ]
  },
  {
   "cell_type": "code",
   "execution_count": 21,
   "id": "d82e242f",
   "metadata": {},
   "outputs": [
    {
     "data": {
      "text/plain": [
       "<sqlite3.Cursor at 0x19cac86c420>"
      ]
     },
     "execution_count": 21,
     "metadata": {},
     "output_type": "execute_result"
    }
   ],
   "source": [
    "c.execute(\"select * from fsds where marks>400\")"
   ]
  },
  {
   "cell_type": "code",
   "execution_count": 22,
   "id": "6e2202f7",
   "metadata": {},
   "outputs": [],
   "source": [
    "data = c.execute(\"select * from fsds where marks>400\")"
   ]
  },
  {
   "cell_type": "code",
   "execution_count": 23,
   "id": "ea014b3e",
   "metadata": {},
   "outputs": [
    {
     "name": "stdout",
     "output_type": "stream",
     "text": [
      "('sudh', 1234, 345345.2353)\n",
      "('sudh', 1234, 345345.2353)\n",
      "('sudh', 1234, 345345.2353)\n",
      "('sudh', 1234, 345345.2353)\n",
      "('sudh', 1234, 345345.2353)\n",
      "('sudh', 1234, 345345.2353)\n",
      "('sudh', 1234, 345345.2353)\n",
      "('sudh', 1234, 345345.2353)\n",
      "('sudh', 1234, 345345.2353)\n"
     ]
    }
   ],
   "source": [
    "for i in data:\n",
    "    print(i)"
   ]
  },
  {
   "cell_type": "code",
   "execution_count": 29,
   "id": "8dfea192",
   "metadata": {},
   "outputs": [
    {
     "name": "stdout",
     "output_type": "stream",
     "text": [
      "('sudh', 1234, 345345.2353)\n",
      "('sudh', 1234, 345345.2353)\n",
      "('sudh', 1234, 345345.2353)\n",
      "('sudh', 1234, 345345.2353)\n",
      "('sudh', 1234, 345345.2353)\n",
      "('sudh', 1234, 345345.2353)\n",
      "('sudh', 1234, 345345.2353)\n",
      "('sudh', 1234, 345345.2353)\n",
      "('sudh', 1234, 345345.2353)\n"
     ]
    }
   ],
   "source": [
    "data = c.execute(\"select * from fsds where name = 'sudh'\")\n",
    "          \n",
    "for i in data:\n",
    "    print(i)"
   ]
  },
  {
   "cell_type": "code",
   "execution_count": 31,
   "id": "4f55e8b2",
   "metadata": {},
   "outputs": [
    {
     "name": "stdout",
     "output_type": "stream",
     "text": [
      "('sudh', 345345.2353)\n",
      "('sudh', 345345.2353)\n",
      "('sudh', 345345.2353)\n",
      "('sudh', 345345.2353)\n",
      "('sudh', 345345.2353)\n",
      "('sudh', 345345.2353)\n",
      "('sudh', 345345.2353)\n",
      "('sudh', 345345.2353)\n",
      "('sudh', 345345.2353)\n"
     ]
    }
   ],
   "source": [
    "data = c.execute(\"select name, marks from fsds\")\n",
    "\n",
    "for i in data:\n",
    "    print(i)"
   ]
  },
  {
   "cell_type": "code",
   "execution_count": 32,
   "id": "9c8b9e43",
   "metadata": {},
   "outputs": [
    {
     "name": "stdout",
     "output_type": "stream",
     "text": [
      "('sudh', 345345.2353)\n",
      "('sudh', 345345.2353)\n",
      "('sudh', 345345.2353)\n",
      "('sudh', 345345.2353)\n",
      "('sudh', 345345.2353)\n",
      "('sudh', 345345.2353)\n",
      "('sudh', 345345.2353)\n",
      "('sudh', 345345.2353)\n",
      "('sudh', 345345.2353)\n"
     ]
    }
   ],
   "source": [
    "data = c.execute(\"select name, marks from fsds order by marks\")\n",
    "\n",
    "for i in data:\n",
    "    print(i)"
   ]
  },
  {
   "cell_type": "code",
   "execution_count": 33,
   "id": "5f198f79",
   "metadata": {},
   "outputs": [],
   "source": [
    "db.close()"
   ]
  },
  {
   "cell_type": "code",
   "execution_count": 35,
   "id": "d0bf40dd",
   "metadata": {},
   "outputs": [],
   "source": [
    "db = sqlite3.connect(\"person.db\")"
   ]
  },
  {
   "cell_type": "code",
   "execution_count": 36,
   "id": "08c4bb5d",
   "metadata": {},
   "outputs": [],
   "source": [
    "c = db.cursor()"
   ]
  },
  {
   "cell_type": "code",
   "execution_count": 37,
   "id": "f104ab6c",
   "metadata": {},
   "outputs": [
    {
     "data": {
      "text/plain": [
       "<sqlite3.Cursor at 0x19cac9366c0>"
      ]
     },
     "execution_count": 37,
     "metadata": {},
     "output_type": "execute_result"
    }
   ],
   "source": [
    "c.execute(\"create table person_table(name text, emailid text, age int, salary float)\")"
   ]
  },
  {
   "cell_type": "code",
   "execution_count": 40,
   "id": "fba718a6",
   "metadata": {},
   "outputs": [
    {
     "data": {
      "text/plain": [
       "<sqlite3.Cursor at 0x19cac9366c0>"
      ]
     },
     "execution_count": 40,
     "metadata": {},
     "output_type": "execute_result"
    }
   ],
   "source": [
    "c.execute(\"insert into person_table values('sudh', 'sudhanshu@ineuron.ai', 234, 2343245)\")\n",
    "c.execute(\"insert into person_table values('prashant', 'prashant@ineuron.ai', 64, 24565)\")\n",
    "c.execute(\"insert into person_table values('krish', 'krish@ineuron.ai', 754, 875923)\")\n",
    "c.execute(\"insert into person_table values('sunny', 'sunny@ineuron.ai', 456, 54115)\")"
   ]
  },
  {
   "cell_type": "code",
   "execution_count": 41,
   "id": "c690aa64",
   "metadata": {},
   "outputs": [
    {
     "name": "stdout",
     "output_type": "stream",
     "text": [
      "('sudh', 'sudhanshu@ineuron.ai', 234, 2343245.0)\n",
      "('prashant', 'prashant@ineuron.ai', 64, 24565.0)\n",
      "('krish', 'krish@ineuron.ai', 754, 875923.0)\n",
      "('sunny', 'sunny@ineuron.ai', 456, 54115.0)\n"
     ]
    }
   ],
   "source": [
    "data = c.execute(\"select * from person_table\")\n",
    "for i in data:\n",
    "    print(i)"
   ]
  },
  {
   "cell_type": "code",
   "execution_count": 42,
   "id": "0c91daa4",
   "metadata": {},
   "outputs": [],
   "source": [
    "db.commit()"
   ]
  },
  {
   "cell_type": "code",
   "execution_count": 43,
   "id": "0fe4c1ae",
   "metadata": {},
   "outputs": [],
   "source": [
    "db.close()"
   ]
  },
  {
   "cell_type": "code",
   "execution_count": 44,
   "id": "d97a537e",
   "metadata": {},
   "outputs": [],
   "source": [
    "db = sqlite3.connect(\"ineuron.db\")"
   ]
  },
  {
   "cell_type": "code",
   "execution_count": 45,
   "id": "799e4491",
   "metadata": {},
   "outputs": [],
   "source": [
    "c = db.cursor()"
   ]
  },
  {
   "cell_type": "code",
   "execution_count": 46,
   "id": "efd09890",
   "metadata": {},
   "outputs": [
    {
     "data": {
      "text/plain": [
       "<sqlite3.Cursor at 0x19cac936260>"
      ]
     },
     "execution_count": 46,
     "metadata": {},
     "output_type": "execute_result"
    }
   ],
   "source": [
    "c.execute(\"drop table fsds\")"
   ]
  },
  {
   "cell_type": "code",
   "execution_count": 47,
   "id": "cd85d042",
   "metadata": {},
   "outputs": [],
   "source": [
    "db.commit()"
   ]
  },
  {
   "cell_type": "code",
   "execution_count": 48,
   "id": "89492a21",
   "metadata": {},
   "outputs": [
    {
     "name": "stdout",
     "output_type": "stream",
     "text": [
      " Volume in drive C is Windows\n",
      " Volume Serial Number is C21A-2381\n",
      "\n",
      " Directory of C:\\Users\\Utkarsh\\Classes\\Fast Track Mode\\5. Flask Recording Lecture (Sudhanshu Sir)\n",
      "\n",
      "20-02-2022  11:04    <DIR>          .\n",
      "20-02-2022  11:04    <DIR>          ..\n",
      "20-02-2022  10:29    <DIR>          .ipynb_checkpoints\n",
      "19-02-2022  13:25         1,065,086 1. 18th Feb 2022_Pandas.ipynb\n",
      "20-02-2022  10:30           210,412 2. 19th Feb 2022_Pandas.ipynb\n",
      "10-02-2022  22:04    <DIR>          flask_demo\n",
      "19-02-2022  13:24             4,270 html_data0.csv\n",
      "19-02-2022  13:24             2,159 html_data1.csv\n",
      "19-02-2022  13:24             4,085 html_data2.csv\n",
      "19-02-2022  13:24             2,429 html_data3.csv\n",
      "19-02-2022  13:24             3,201 html_data4.csv\n",
      "19-02-2022  13:24             2,117 html_data5.csv\n",
      "20-02-2022  11:04             8,192 ineuron.db\n",
      "19-02-2022  12:09           116,981 json_dump.csv\n",
      "19-02-2022  16:03             4,916 my_pickle\n",
      "20-02-2022  11:03             8,192 person.db\n",
      "18-02-2022  14:00            32,627 Player.csv\n",
      "18-02-2022  13:00            32,627 Player.csv.bak\n",
      "19-02-2022  09:04             2,468 players_data.csv\n",
      "18-02-2022  21:57    <DIR>          sample-excel-master\n",
      "18-02-2022  13:54               423 test.csv\n",
      "19-02-2022  16:17         1,137,688 test.h5\n",
      "20-02-2022  11:02            18,061 Untitled.ipynb\n",
      "              18 File(s)      2,655,934 bytes\n",
      "               5 Dir(s)  107,862,667,264 bytes free\n"
     ]
    }
   ],
   "source": [
    "%ls"
   ]
  },
  {
   "cell_type": "code",
   "execution_count": 49,
   "id": "1cd6b309",
   "metadata": {},
   "outputs": [],
   "source": [
    "db.close()"
   ]
  },
  {
   "cell_type": "code",
   "execution_count": 50,
   "id": "632fdba0",
   "metadata": {},
   "outputs": [],
   "source": [
    "db = sqlite3.connect(\"person.db\")"
   ]
  },
  {
   "cell_type": "code",
   "execution_count": 51,
   "id": "3529acf6",
   "metadata": {},
   "outputs": [],
   "source": [
    "c=db.cursor()"
   ]
  },
  {
   "cell_type": "code",
   "execution_count": 53,
   "id": "c3945e62",
   "metadata": {},
   "outputs": [
    {
     "data": {
      "text/plain": [
       "<sqlite3.Cursor at 0x19cac98d500>"
      ]
     },
     "execution_count": 53,
     "metadata": {},
     "output_type": "execute_result"
    }
   ],
   "source": [
    "c.execute(\"SELECT * FROM person_table limit 2\")"
   ]
  },
  {
   "cell_type": "code",
   "execution_count": 54,
   "id": "66021022",
   "metadata": {},
   "outputs": [],
   "source": [
    "data =  c.execute(\"SELECT * FROM person_table limit 2\")"
   ]
  },
  {
   "cell_type": "code",
   "execution_count": 55,
   "id": "3a07a1de",
   "metadata": {},
   "outputs": [
    {
     "name": "stdout",
     "output_type": "stream",
     "text": [
      "('sudh', 'sudhanshu@ineuron.ai', 234, 2343245.0)\n",
      "('prashant', 'prashant@ineuron.ai', 64, 24565.0)\n"
     ]
    }
   ],
   "source": [
    "for i in data:\n",
    "    print(i)"
   ]
  },
  {
   "cell_type": "code",
   "execution_count": 56,
   "id": "2259eeb7",
   "metadata": {},
   "outputs": [],
   "source": [
    "db.close()"
   ]
  },
  {
   "cell_type": "markdown",
   "id": "299d9ff8",
   "metadata": {},
   "source": [
    "## join operation:\n",
    "\n"
   ]
  },
  {
   "cell_type": "code",
   "execution_count": 57,
   "id": "c04a8cd0",
   "metadata": {},
   "outputs": [],
   "source": [
    "db = sqlite3.connect(\"jobdb.db\")"
   ]
  },
  {
   "cell_type": "code",
   "execution_count": 58,
   "id": "37553d9b",
   "metadata": {},
   "outputs": [],
   "source": [
    "c=db.cursor()"
   ]
  },
  {
   "cell_type": "code",
   "execution_count": 59,
   "id": "8b30245c",
   "metadata": {},
   "outputs": [
    {
     "data": {
      "text/plain": [
       "<sqlite3.Cursor at 0x19cac98dd50>"
      ]
     },
     "execution_count": 59,
     "metadata": {},
     "output_type": "execute_result"
    }
   ],
   "source": [
    "c.execute(\"create table student(student_id int,  student_name text, student_emailid text, marks int)\")"
   ]
  },
  {
   "cell_type": "code",
   "execution_count": 60,
   "id": "363ef8c6",
   "metadata": {},
   "outputs": [
    {
     "data": {
      "text/plain": [
       "<sqlite3.Cursor at 0x19cac98dd50>"
      ]
     },
     "execution_count": 60,
     "metadata": {},
     "output_type": "execute_result"
    }
   ],
   "source": [
    "c.execute(\"create table address(student_id int,  pincode int, location text, nearby text, phone_no text)\")"
   ]
  },
  {
   "cell_type": "code",
   "execution_count": 69,
   "id": "1e399728",
   "metadata": {},
   "outputs": [
    {
     "data": {
      "text/plain": [
       "<sqlite3.Cursor at 0x19cac98dd50>"
      ]
     },
     "execution_count": 69,
     "metadata": {},
     "output_type": "execute_result"
    }
   ],
   "source": [
    "c.execute(\"insert into student values(234, 'sudhanshu', 'sudhanshu@ineuron.ai', 245)\")\n",
    "c.execute(\"insert into student values(235, 'sudhanshu', 'sudhanshu@ineuron.ai', 255)\")\n",
    "c.execute(\"insert into student values(236, 'sudhanshu', 'sudhanshu@ineuron.ai', 215)\")\n",
    "c.execute(\"insert into student values(237, 'sudhanshu', 'sudhanshu@ineuron.ai', 275)\")\n",
    "c.execute(\"insert into student values(238, 'sudhanshu', 'sudhanshu@ineuron.ai', 255)\")\n",
    "c.execute(\"insert into student values(239, 'sudhanshu', 'sudhanshu@ineuron.ai', 225)\")\n",
    "c.execute(\"insert into student values(240, 'sudhanshu', 'sudhanshu@ineuron.ai', 295)\")\n",
    "c.execute(\"insert into student values(241, 'sudhanshu', 'sudhanshu@ineuron.ai', 235)\")\n",
    "c.execute(\"insert into student values(242, 'sudhanshu', 'sudhanshu@ineuron.ai', 255)\")"
   ]
  },
  {
   "cell_type": "code",
   "execution_count": 70,
   "id": "503162d0",
   "metadata": {},
   "outputs": [
    {
     "data": {
      "text/plain": [
       "<sqlite3.Cursor at 0x19cac98dd50>"
      ]
     },
     "execution_count": 70,
     "metadata": {},
     "output_type": "execute_result"
    }
   ],
   "source": [
    "c.execute(\"insert into address values(234, 560034, 'whitefield','ineuron_office', 24585578)\")\n",
    "c.execute(\"insert into address values(235, 560034, 'whitefield','ineuron_office', 25574744)\")\n",
    "c.execute(\"insert into address values(236, 560034, 'whitefield','ineuron_office', 21555555)\")\n",
    "c.execute(\"insert into address values(237, 560034, 'whitefield','ineuron_office', 27555555)\")\n",
    "c.execute(\"insert into address values(238, 560034, 'whitefield','ineuron_office', 25555555)\")\n",
    "c.execute(\"insert into address values(239, 560034, 'whitefield','ineuron_office', 22555555)\")\n",
    "c.execute(\"insert into address values(240, 560034, 'whitefield','ineuron_office', 29555555)\")\n",
    "c.execute(\"insert into address values(241, 560034, 'whitefield','ineuron_office', 23555555)\")\n",
    "c.execute(\"insert into address values(242, 560034, 'whitefield','ineuron_office', 25555555)\")"
   ]
  },
  {
   "cell_type": "code",
   "execution_count": 73,
   "id": "bcbd50fa",
   "metadata": {},
   "outputs": [
    {
     "name": "stdout",
     "output_type": "stream",
     "text": [
      "(234, 'sudhanshu', 'sudhanshu@ineuron.ai', 245)\n",
      "(235, 'sudhanshu', 'sudhanshu@ineuron.ai', 255)\n",
      "(236, 'sudhanshu', 'sudhanshu@ineuron.ai', 215)\n",
      "(237, 'sudhanshu', 'sudhanshu@ineuron.ai', 275)\n",
      "(238, 'sudhanshu', 'sudhanshu@ineuron.ai', 255)\n",
      "(239, 'sudhanshu', 'sudhanshu@ineuron.ai', 225)\n",
      "(240, 'sudhanshu', 'sudhanshu@ineuron.ai', 295)\n",
      "(241, 'sudhanshu', 'sudhanshu@ineuron.ai', 235)\n",
      "(242, 'sudhanshu', 'sudhanshu@ineuron.ai', 255)\n"
     ]
    }
   ],
   "source": [
    "for i in c.execute(\"select * from student\"):\n",
    "    print(i)"
   ]
  },
  {
   "cell_type": "code",
   "execution_count": 74,
   "id": "8e68d5ed",
   "metadata": {},
   "outputs": [
    {
     "name": "stdout",
     "output_type": "stream",
     "text": [
      "(234, 560034, 'whitefield', 'ineuron_office', '24585578')\n",
      "(235, 560034, 'whitefield', 'ineuron_office', '25574744')\n",
      "(236, 560034, 'whitefield', 'ineuron_office', '21555555')\n",
      "(237, 560034, 'whitefield', 'ineuron_office', '27555555')\n",
      "(238, 560034, 'whitefield', 'ineuron_office', '25555555')\n",
      "(239, 560034, 'whitefield', 'ineuron_office', '22555555')\n",
      "(240, 560034, 'whitefield', 'ineuron_office', '29555555')\n",
      "(241, 560034, 'whitefield', 'ineuron_office', '23555555')\n",
      "(242, 560034, 'whitefield', 'ineuron_office', '25555555')\n"
     ]
    }
   ],
   "source": [
    "for i in c.execute(\"select * from address\"):\n",
    "    print(i)"
   ]
  },
  {
   "cell_type": "code",
   "execution_count": 75,
   "id": "95746173",
   "metadata": {},
   "outputs": [
    {
     "name": "stdout",
     "output_type": "stream",
     "text": [
      "(234, 'sudhanshu', 'sudhanshu@ineuron.ai', 245, 234, 560034, 'whitefield', 'ineuron_office', '24585578')\n",
      "(235, 'sudhanshu', 'sudhanshu@ineuron.ai', 255, 235, 560034, 'whitefield', 'ineuron_office', '25574744')\n",
      "(236, 'sudhanshu', 'sudhanshu@ineuron.ai', 215, 236, 560034, 'whitefield', 'ineuron_office', '21555555')\n",
      "(237, 'sudhanshu', 'sudhanshu@ineuron.ai', 275, 237, 560034, 'whitefield', 'ineuron_office', '27555555')\n",
      "(238, 'sudhanshu', 'sudhanshu@ineuron.ai', 255, 238, 560034, 'whitefield', 'ineuron_office', '25555555')\n",
      "(239, 'sudhanshu', 'sudhanshu@ineuron.ai', 225, 239, 560034, 'whitefield', 'ineuron_office', '22555555')\n",
      "(240, 'sudhanshu', 'sudhanshu@ineuron.ai', 295, 240, 560034, 'whitefield', 'ineuron_office', '29555555')\n",
      "(241, 'sudhanshu', 'sudhanshu@ineuron.ai', 235, 241, 560034, 'whitefield', 'ineuron_office', '23555555')\n",
      "(242, 'sudhanshu', 'sudhanshu@ineuron.ai', 255, 242, 560034, 'whitefield', 'ineuron_office', '25555555')\n"
     ]
    }
   ],
   "source": [
    "for i in c.execute(\"SELECT * FROM student T1 LEFT JOIN ADDRESS T2 ON T1.student_id = T2.student_id\"):\n",
    "    print(i)"
   ]
  },
  {
   "cell_type": "code",
   "execution_count": 82,
   "id": "0d4522de",
   "metadata": {},
   "outputs": [
    {
     "data": {
      "text/html": [
       "<div>\n",
       "<style scoped>\n",
       "    .dataframe tbody tr th:only-of-type {\n",
       "        vertical-align: middle;\n",
       "    }\n",
       "\n",
       "    .dataframe tbody tr th {\n",
       "        vertical-align: top;\n",
       "    }\n",
       "\n",
       "    .dataframe thead th {\n",
       "        text-align: right;\n",
       "    }\n",
       "</style>\n",
       "<table border=\"1\" class=\"dataframe\">\n",
       "  <thead>\n",
       "    <tr style=\"text-align: right;\">\n",
       "      <th></th>\n",
       "      <th>(234</th>\n",
       "      <th>'sudhanshu'</th>\n",
       "      <th>'sudhanshu@ineuron.ai'</th>\n",
       "      <th>245</th>\n",
       "      <th>234</th>\n",
       "      <th>560034</th>\n",
       "      <th>'whitefield'</th>\n",
       "      <th>'ineuron_office'</th>\n",
       "      <th>'24585578')(235</th>\n",
       "      <th>'sudhanshu'.1</th>\n",
       "      <th>...</th>\n",
       "      <th>'ineuron_office'.7</th>\n",
       "      <th>'23555555')(242</th>\n",
       "      <th>'sudhanshu'.8</th>\n",
       "      <th>'sudhanshu@ineuron.ai'.8</th>\n",
       "      <th>255.2</th>\n",
       "      <th>242</th>\n",
       "      <th>560034.8</th>\n",
       "      <th>'whitefield'.8</th>\n",
       "      <th>'ineuron_office'.8</th>\n",
       "      <th>'25555555')</th>\n",
       "    </tr>\n",
       "  </thead>\n",
       "  <tbody>\n",
       "  </tbody>\n",
       "</table>\n",
       "<p>0 rows × 73 columns</p>\n",
       "</div>"
      ],
      "text/plain": [
       "Empty DataFrame\n",
       "Columns: [(234,  'sudhanshu',  'sudhanshu@ineuron.ai',  245,  234,  560034,  'whitefield',  'ineuron_office',  '24585578')(235,  'sudhanshu'.1,  'sudhanshu@ineuron.ai'.1,  255,  235,  560034.1,  'whitefield'.1,  'ineuron_office'.1,  '25574744')(236,  'sudhanshu'.2,  'sudhanshu@ineuron.ai'.2,  215,  236,  560034.2,  'whitefield'.2,  'ineuron_office'.2,  '21555555')(237,  'sudhanshu'.3,  'sudhanshu@ineuron.ai'.3,  275,  237,  560034.3,  'whitefield'.3,  'ineuron_office'.3,  '27555555')(238,  'sudhanshu'.4,  'sudhanshu@ineuron.ai'.4,  255.1,  238,  560034.4,  'whitefield'.4,  'ineuron_office'.4,  '25555555')(239,  'sudhanshu'.5,  'sudhanshu@ineuron.ai'.5,  225,  239,  560034.5,  'whitefield'.5,  'ineuron_office'.5,  '22555555')(240,  'sudhanshu'.6,  'sudhanshu@ineuron.ai'.6,  295,  240,  560034.6,  'whitefield'.6,  'ineuron_office'.6,  '29555555')(241,  'sudhanshu'.7,  'sudhanshu@ineuron.ai'.7,  235.1,  241,  560034.7,  'whitefield'.7,  'ineuron_office'.7,  '23555555')(242,  'sudhanshu'.8,  'sudhanshu@ineuron.ai'.8,  255.2,  242,  560034.8,  'whitefield'.8,  'ineuron_office'.8,  '25555555')]\n",
       "Index: []\n",
       "\n",
       "[0 rows x 73 columns]"
      ]
     },
     "execution_count": 82,
     "metadata": {},
     "output_type": "execute_result"
    }
   ],
   "source": [
    "store_room = []\n",
    "for i in c.execute(\"SELECT * FROM student T1 LEFT JOIN ADDRESS T2 ON T1.student_id = T2.student_id\"):\n",
    "    store_room.append(i)\n",
    "\n",
    "with open(\"newfile.csv\", \"w\") as file:\n",
    "    for i in store_room:\n",
    "        file.write(str(i))\n",
    "\n",
    "import pandas as pd\n",
    "pd.read_csv(\"newfile.csv\")\n",
    "\n",
    "##its a challenge for me to dump the left joined data into a proper table format"
   ]
  },
  {
   "cell_type": "code",
   "execution_count": null,
   "id": "04642aed",
   "metadata": {},
   "outputs": [],
   "source": [
    "store_room = []\n",
    "for i in c.execute(\"SELECT * FROM student T1 LEFT JOIN ADDRESS T2 ON T1.student_id = T2.student_id\"):\n",
    "    store_room.append(list(i))\n",
    "    \n",
    "for i in store_room:\n",
    "    variable = \"/n\".join()\n",
    "with open(\"newfile1.csv\", \"w\") as file:\n",
    "    for i in store_room:\n",
    "        file.write(str(i))\n",
    "\n",
    "import pandas as pd\n",
    "pd.read_csv(\"newfile.csv\")\n",
    "\n",
    "##its a challenge for me to dump the left joined data into a proper table format"
   ]
  },
  {
   "cell_type": "markdown",
   "id": "44c989ff",
   "metadata": {},
   "source": [
    "# map, reduce and filter"
   ]
  },
  {
   "cell_type": "markdown",
   "id": "f67de265",
   "metadata": {},
   "source": [
    "### map"
   ]
  },
  {
   "cell_type": "code",
   "execution_count": 85,
   "id": "6bec7213",
   "metadata": {},
   "outputs": [],
   "source": [
    "l = [1,2,3,4,5,6]"
   ]
  },
  {
   "cell_type": "code",
   "execution_count": 87,
   "id": "46176ea0",
   "metadata": {},
   "outputs": [
    {
     "data": {
      "text/plain": [
       "[6, 7, 8, 9, 10, 11]"
      ]
     },
     "execution_count": 87,
     "metadata": {},
     "output_type": "execute_result"
    }
   ],
   "source": [
    "l1 = []\n",
    "for i in l:\n",
    "    l1.append(i+5)\n",
    "l1"
   ]
  },
  {
   "cell_type": "code",
   "execution_count": 88,
   "id": "fa63cd67",
   "metadata": {},
   "outputs": [
    {
     "data": {
      "text/plain": [
       "[6, 7, 8, 9, 10, 11]"
      ]
     },
     "execution_count": 88,
     "metadata": {},
     "output_type": "execute_result"
    }
   ],
   "source": [
    "[i+5 for i in l]"
   ]
  },
  {
   "cell_type": "code",
   "execution_count": 89,
   "id": "fb98893f",
   "metadata": {},
   "outputs": [],
   "source": [
    "def test(a):\n",
    "    return a+5"
   ]
  },
  {
   "cell_type": "code",
   "execution_count": 90,
   "id": "be1d887b",
   "metadata": {},
   "outputs": [
    {
     "data": {
      "text/plain": [
       "<map at 0x19cae54fa90>"
      ]
     },
     "execution_count": 90,
     "metadata": {},
     "output_type": "execute_result"
    }
   ],
   "source": [
    "map(test,l)"
   ]
  },
  {
   "cell_type": "code",
   "execution_count": 91,
   "id": "706af792",
   "metadata": {},
   "outputs": [],
   "source": [
    "variable = map(test,l)"
   ]
  },
  {
   "cell_type": "code",
   "execution_count": 92,
   "id": "f99a0893",
   "metadata": {},
   "outputs": [
    {
     "name": "stdout",
     "output_type": "stream",
     "text": [
      "<map object at 0x0000019CAE54FAF0>\n"
     ]
    }
   ],
   "source": [
    "print(variable)"
   ]
  },
  {
   "cell_type": "code",
   "execution_count": 93,
   "id": "32b52b9f",
   "metadata": {},
   "outputs": [
    {
     "data": {
      "text/plain": [
       "[6, 7, 8, 9, 10, 11]"
      ]
     },
     "execution_count": 93,
     "metadata": {},
     "output_type": "execute_result"
    }
   ],
   "source": [
    "list(variable)"
   ]
  },
  {
   "cell_type": "markdown",
   "id": "15e63575",
   "metadata": {},
   "source": [
    "#map function is calling a specific function in the first argument and then it is performing the same function in the second iterable argument"
   ]
  },
  {
   "cell_type": "code",
   "execution_count": 94,
   "id": "acc7d10d",
   "metadata": {},
   "outputs": [
    {
     "data": {
      "text/plain": [
       "(823748734, 1647497468, 2471246202, 3294994936, 4118743670, 4942492404)"
      ]
     },
     "execution_count": 94,
     "metadata": {},
     "output_type": "execute_result"
    }
   ],
   "source": [
    "def test(a):\n",
    "    return a*823748734\n",
    "\n",
    "tuple(map(test,l))"
   ]
  },
  {
   "cell_type": "code",
   "execution_count": 95,
   "id": "f3b8e3bb",
   "metadata": {},
   "outputs": [],
   "source": [
    "l1 = [\"234\", \"345\", \"543\", \"5434\", \"34554\", \"763246\"]"
   ]
  },
  {
   "cell_type": "code",
   "execution_count": 96,
   "id": "c8e49271",
   "metadata": {},
   "outputs": [
    {
     "data": {
      "text/plain": [
       "[234, 345, 543, 5434, 34554, 763246]"
      ]
     },
     "execution_count": 96,
     "metadata": {},
     "output_type": "execute_result"
    }
   ],
   "source": [
    "def typecaster(a):\n",
    "    return int(a)\n",
    "list(map(typecaster,l1))"
   ]
  },
  {
   "cell_type": "code",
   "execution_count": 99,
   "id": "4eb0074c",
   "metadata": {},
   "outputs": [
    {
     "data": {
      "text/plain": [
       "[234, 345, 543, 5434, 34554, 763246]"
      ]
     },
     "execution_count": 99,
     "metadata": {},
     "output_type": "execute_result"
    }
   ],
   "source": [
    "list(map(lambda a : int(a), l1))"
   ]
  },
  {
   "cell_type": "code",
   "execution_count": 101,
   "id": "76f654d0",
   "metadata": {},
   "outputs": [
    {
     "data": {
      "text/plain": [
       "[239, 350, 548, 5439, 34559, 763251]"
      ]
     },
     "execution_count": 101,
     "metadata": {},
     "output_type": "execute_result"
    }
   ],
   "source": [
    "list(map(lambda a : int(a)+5, l1))"
   ]
  },
  {
   "cell_type": "markdown",
   "id": "5ffb3d94",
   "metadata": {},
   "source": [
    "### filter"
   ]
  },
  {
   "cell_type": "code",
   "execution_count": 102,
   "id": "38b9a5cc",
   "metadata": {},
   "outputs": [],
   "source": [
    "l = [4,5,6,7,78,8,78]"
   ]
  },
  {
   "cell_type": "code",
   "execution_count": 105,
   "id": "f6d9d177",
   "metadata": {},
   "outputs": [
    {
     "data": {
      "text/plain": [
       "[4, 6, 78, 8, 78]"
      ]
     },
     "execution_count": 105,
     "metadata": {},
     "output_type": "execute_result"
    }
   ],
   "source": [
    "def even_check(n):\n",
    "    if n%2==0:\n",
    "        return n\n",
    "    \n",
    "list(filter(even_check, l))"
   ]
  },
  {
   "cell_type": "markdown",
   "id": "f08e2123",
   "metadata": {},
   "source": [
    "#map = for loop(it understands TRUE for every element)\n",
    "\n",
    "#filter = for loop + True for a given condition\n"
   ]
  },
  {
   "cell_type": "code",
   "execution_count": 108,
   "id": "15011c52",
   "metadata": {},
   "outputs": [
    {
     "data": {
      "text/plain": [
       "[4, 6, 78, 8, 78]"
      ]
     },
     "execution_count": 108,
     "metadata": {},
     "output_type": "execute_result"
    }
   ],
   "source": [
    "list(filter(lambda x : x%2==0,l))"
   ]
  },
  {
   "cell_type": "markdown",
   "id": "504174c9",
   "metadata": {},
   "source": [
    "### reduce"
   ]
  },
  {
   "cell_type": "code",
   "execution_count": 109,
   "id": "1f6ca870",
   "metadata": {},
   "outputs": [],
   "source": [
    "from functools import reduce"
   ]
  },
  {
   "cell_type": "code",
   "execution_count": 110,
   "id": "ba7a8096",
   "metadata": {},
   "outputs": [],
   "source": [
    "l = [3,4,5,6,7,3,8]"
   ]
  },
  {
   "cell_type": "code",
   "execution_count": 111,
   "id": "6334c052",
   "metadata": {},
   "outputs": [
    {
     "data": {
      "text/plain": [
       "36"
      ]
     },
     "execution_count": 111,
     "metadata": {},
     "output_type": "execute_result"
    }
   ],
   "source": [
    "sum(l)"
   ]
  },
  {
   "cell_type": "code",
   "execution_count": 114,
   "id": "c2a7a237",
   "metadata": {},
   "outputs": [
    {
     "data": {
      "text/plain": [
       "60480"
      ]
     },
     "execution_count": 114,
     "metadata": {},
     "output_type": "execute_result"
    }
   ],
   "source": [
    "reduce(lambda x,y: x*y, l )"
   ]
  },
  {
   "cell_type": "code",
   "execution_count": 115,
   "id": "62f3254b",
   "metadata": {},
   "outputs": [
    {
     "data": {
      "text/plain": [
       "36"
      ]
     },
     "execution_count": 115,
     "metadata": {},
     "output_type": "execute_result"
    }
   ],
   "source": [
    "reduce(lambda x,y: x+y, l )"
   ]
  },
  {
   "cell_type": "code",
   "execution_count": 117,
   "id": "1cda0635",
   "metadata": {},
   "outputs": [],
   "source": [
    "l =[3]"
   ]
  },
  {
   "cell_type": "code",
   "execution_count": 118,
   "id": "eb55dc61",
   "metadata": {},
   "outputs": [
    {
     "data": {
      "text/plain": [
       "3"
      ]
     },
     "execution_count": 118,
     "metadata": {},
     "output_type": "execute_result"
    }
   ],
   "source": [
    "reduce(lambda x,y: x+y, l)"
   ]
  },
  {
   "cell_type": "code",
   "execution_count": 116,
   "id": "3113edc0",
   "metadata": {},
   "outputs": [
    {
     "ename": "TypeError",
     "evalue": "reduce() arg 2 must support iteration",
     "output_type": "error",
     "traceback": [
      "\u001b[1;31m---------------------------------------------------------------------------\u001b[0m",
      "\u001b[1;31mTypeError\u001b[0m                                 Traceback (most recent call last)",
      "\u001b[1;32m~\\AppData\\Local\\Temp/ipykernel_12156/2153066777.py\u001b[0m in \u001b[0;36m<module>\u001b[1;34m\u001b[0m\n\u001b[1;32m----> 1\u001b[1;33m \u001b[0mreduce\u001b[0m\u001b[1;33m(\u001b[0m\u001b[1;32mlambda\u001b[0m \u001b[0mx\u001b[0m\u001b[1;33m,\u001b[0m\u001b[0my\u001b[0m\u001b[1;33m:\u001b[0m \u001b[0mx\u001b[0m\u001b[1;33m+\u001b[0m\u001b[0my\u001b[0m\u001b[1;33m,\u001b[0m \u001b[1;36m5\u001b[0m \u001b[1;33m)\u001b[0m\u001b[1;33m\u001b[0m\u001b[1;33m\u001b[0m\u001b[0m\n\u001b[0m",
      "\u001b[1;31mTypeError\u001b[0m: reduce() arg 2 must support iteration"
     ]
    }
   ],
   "source": [
    "reduce(lambda x,y: x+y, 5 )"
   ]
  },
  {
   "cell_type": "markdown",
   "id": "66c5f260",
   "metadata": {},
   "source": [
    "### zip"
   ]
  },
  {
   "cell_type": "code",
   "execution_count": 119,
   "id": "1deefda3",
   "metadata": {},
   "outputs": [
    {
     "data": {
      "text/plain": [
       "[(1, 4), (2, 5), (3, 6), (4, 7), (5, 7)]"
      ]
     },
     "execution_count": 119,
     "metadata": {},
     "output_type": "execute_result"
    }
   ],
   "source": [
    "l= [1,2,3,4,5]\n",
    "l1 = [4,5,6,7,7]\n",
    "\n",
    "list(zip(l,l1))"
   ]
  },
  {
   "cell_type": "markdown",
   "id": "885b86c1",
   "metadata": {},
   "source": [
    "Task for today:\n",
    "\n",
    "1. try to find out the count of each and every word in a respective file. return a list of tuple with word and its respective count.\n",
    "\n",
    "sample ouput [(\"sudh\", 6),(\"kumar\",8)]\n",
    "\n",
    "2. Try to perform a reduce operation to get a count of all the words starting with same alphabet\n",
    "\n",
    "sample output [(a,234),(b,456),........]\n",
    "\n",
    "3. filter all the words from dataset\n",
    "\n",
    "\n",
    "\n",
    "4. create a tuple set of all the records available in all the five files and then store it in sqlite DB. \n",
    "\n",
    "#zip operation\n",
    "\n",
    "\n",
    "https://archive.ics.uci.edu/ml/machine-learning-databases/bag-of-words/"
   ]
  },
  {
   "cell_type": "code",
   "execution_count": null,
   "id": "08104612",
   "metadata": {},
   "outputs": [],
   "source": [
    "\"\"\"Task for today :\n",
    "  dataset -   https://archive.ics.uci.edu/ml/datasets/Bag+of+Words\n",
    "    \n",
    "    q1 = try to find out a count of each and every word in a respective file return a list of tuple with word and its respective count \n",
    "       sample example -  [('sudh', 6 ) , ('kumar',3)]\n",
    "    q2 = try to perform a reduce operation to get a count of all the word starting with same alphabet\n",
    "        sample examle = [(a,56) , (b,34),...........]\n",
    "    q3 = Try to filter out all the words from dataset . \n",
    "    \n",
    "    .001.abstract = abstract\n",
    "    =.002 = delete\n",
    "    q4 = create a tuple set of all the records avaialble in all the five file and then store it in sqllite DB . \n",
    "    (aah,>=,354,fdsf,wer)\n",
    "    \n",
    "    Top 10 will be able to get kids neuron \"\"\""
   ]
  }
 ],
 "metadata": {
  "kernelspec": {
   "display_name": "Python 3 (ipykernel)",
   "language": "python",
   "name": "python3"
  },
  "language_info": {
   "codemirror_mode": {
    "name": "ipython",
    "version": 3
   },
   "file_extension": ".py",
   "mimetype": "text/x-python",
   "name": "python",
   "nbconvert_exporter": "python",
   "pygments_lexer": "ipython3",
   "version": "3.9.7"
  }
 },
 "nbformat": 4,
 "nbformat_minor": 5
}
