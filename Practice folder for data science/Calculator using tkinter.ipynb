{
 "cells": [
  {
   "cell_type": "code",
   "execution_count": 1,
   "id": "ed814a31",
   "metadata": {},
   "outputs": [],
   "source": [
    "from tkinter import *\n",
    "\n",
    "expression = \"\"\n",
    "\n",
    "def press(num):\n",
    "    global expression\n",
    "    expression = expression + str(num)\n",
    "    equation.set(expression)\n",
    "    \n",
    "def equalpress():\n",
    "    try:\n",
    "        global expression\n",
    "        total = str(eval(expression))\n",
    "        \n",
    "        equation.set(total)\n",
    "        expression = \"\"\n",
    "    except:\n",
    "        equation.set(\" error \")\n",
    "        expression = \"\""
   ]
  },
  {
   "cell_type": "code",
   "execution_count": 4,
   "id": "49cb3cab",
   "metadata": {},
   "outputs": [],
   "source": [
    "# Driver code\n",
    "if __name__ == \"__main__\":\n",
    " # create a GUI window\n",
    "    gui = Tk()\n",
    "# set the background colour of GUI window\n",
    "    gui.configure(background=\"light green\")\n",
    "# set the title of GUI window\n",
    "    gui.title(\"Simple Calculator\")\n",
    "# set the configuration of GUI window\n",
    "    gui.geometry(\"270x150\")\n",
    "# we create an instance of this class\n",
    "    equation = StringVar()\n",
    "# create the text entry box for\n",
    "    expression_field = Entry(gui, textvariable=equation)\n",
    "# grid method is used for placing\n",
    "    expression_field.grid(columnspan=4, ipadx=70)\n",
    "# create a Buttons and place at a particular.\n",
    "    button1 = Button(gui, text=' 1 ', fg='black', bg='red',\n",
    "    command=lambda: press(1), height=1, width=7)\n",
    "    button1.grid(row=2, column=0)\n",
    "    button2 = Button(gui, text=' 2 ', fg='black', bg='red',\n",
    "    command=lambda: press(2), height=1, width=7)\n",
    "    button2.grid(row=2, column=1)\n",
    "    button3 = Button(gui, text=' 3 ', fg='black', bg='red',\n",
    "    command=lambda: press(3), height=1, width=7)\n",
    "    button3.grid(row=2, column=2)\n",
    "    plus = Button(gui, text=' + ', fg='black', bg='red',\n",
    "    command=lambda: press(\"+\"), height=1, width=7)\n",
    "    plus.grid(row=2, column=3)\n",
    "    equal = Button(gui, text=' = ', fg='black', bg='red',\n",
    "    command=equalpress, height=1, width=7)\n",
    "    equal.grid(row=5, column=2)\n",
    "    clear = Button(gui, text='Clear', fg='black', bg='red',\n",
    "    command=lambda: press('clear'), height=1, width=7)\n",
    "    clear.grid(row=5, column='1')\n",
    "    Decimal= Button(gui, text='.', fg='black', bg='red',\n",
    "    command=lambda: press('.'), height=1, width=7)\n",
    "    Decimal.grid(row=6, column=0)\n",
    " # start the GUI\n",
    "gui.mainloop()\n",
    "\n",
    "# link: https://towardsdatascience.com/5-best-python-projects-with-codes-that-you-can-complete-within-an-hour-fb112e15ef44"
   ]
  }
 ],
 "metadata": {
  "kernelspec": {
   "display_name": "Python 3 (ipykernel)",
   "language": "python",
   "name": "python3"
  },
  "language_info": {
   "codemirror_mode": {
    "name": "ipython",
    "version": 3
   },
   "file_extension": ".py",
   "mimetype": "text/x-python",
   "name": "python",
   "nbconvert_exporter": "python",
   "pygments_lexer": "ipython3",
   "version": "3.9.7"
  }
 },
 "nbformat": 4,
 "nbformat_minor": 5
}
