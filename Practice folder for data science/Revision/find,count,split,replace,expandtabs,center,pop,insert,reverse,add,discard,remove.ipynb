{
 "cells": [
  {
   "cell_type": "code",
   "execution_count": 1,
   "id": "e5d7e985",
   "metadata": {},
   "outputs": [],
   "source": [
    "a = 'i am working with ineuron'"
   ]
  },
  {
   "cell_type": "code",
   "execution_count": 2,
   "id": "58835d0b",
   "metadata": {},
   "outputs": [
    {
     "data": {
      "text/plain": [
       "10"
      ]
     },
     "execution_count": 2,
     "metadata": {},
     "output_type": "execute_result"
    }
   ],
   "source": [
    "a.find(\"n\") #to find the index value of the first n"
   ]
  },
  {
   "cell_type": "code",
   "execution_count": 3,
   "id": "f53a57c4",
   "metadata": {},
   "outputs": [
    {
     "data": {
      "text/plain": [
       "4"
      ]
     },
     "execution_count": 3,
     "metadata": {},
     "output_type": "execute_result"
    }
   ],
   "source": [
    "a.count(\"i\")"
   ]
  },
  {
   "cell_type": "code",
   "execution_count": 4,
   "id": "9d29668f",
   "metadata": {},
   "outputs": [
    {
     "data": {
      "text/plain": [
       "['i', 'am', 'working', 'with', 'ineuron']"
      ]
     },
     "execution_count": 4,
     "metadata": {},
     "output_type": "execute_result"
    }
   ],
   "source": [
    "a.split() #it takes white space by default"
   ]
  },
  {
   "cell_type": "code",
   "execution_count": 5,
   "id": "f832eda2",
   "metadata": {},
   "outputs": [
    {
     "data": {
      "text/plain": [
       "['i', 'am', 'working', 'with', 'ineuron']"
      ]
     },
     "execution_count": 5,
     "metadata": {},
     "output_type": "execute_result"
    }
   ],
   "source": [
    "a.split(\" \") #here, we can give any delimeter for splitting"
   ]
  },
  {
   "cell_type": "code",
   "execution_count": 6,
   "id": "3a205495",
   "metadata": {},
   "outputs": [],
   "source": [
    " l=a.split()"
   ]
  },
  {
   "cell_type": "code",
   "execution_count": 7,
   "id": "86125602",
   "metadata": {},
   "outputs": [
    {
     "data": {
      "text/plain": [
       "list"
      ]
     },
     "execution_count": 7,
     "metadata": {},
     "output_type": "execute_result"
    }
   ],
   "source": [
    "type(l)"
   ]
  },
  {
   "cell_type": "code",
   "execution_count": 8,
   "id": "0c1adb21",
   "metadata": {},
   "outputs": [],
   "source": [
    "s=\"sudh\""
   ]
  },
  {
   "cell_type": "code",
   "execution_count": 9,
   "id": "3ea60c32",
   "metadata": {},
   "outputs": [
    {
     "data": {
      "text/plain": [
       "'sdhfugheurfgdh'"
      ]
     },
     "execution_count": 9,
     "metadata": {},
     "output_type": "execute_result"
    }
   ],
   "source": [
    "s.replace(\"u\", \"dhfugheurfg\")"
   ]
  },
  {
   "cell_type": "code",
   "execution_count": 10,
   "id": "abc32c4b",
   "metadata": {},
   "outputs": [
    {
     "data": {
      "text/plain": [
       "'utkarsh choubey'"
      ]
     },
     "execution_count": 10,
     "metadata": {},
     "output_type": "execute_result"
    }
   ],
   "source": [
    "\"utkarsh\\tchoubey\".expandtabs() # 1 tab = 3 white-spaces"
   ]
  },
  {
   "cell_type": "code",
   "execution_count": 11,
   "id": "fdce8f06",
   "metadata": {},
   "outputs": [
    {
     "data": {
      "text/plain": [
       "'utkarsh  choubey'"
      ]
     },
     "execution_count": 11,
     "metadata": {},
     "output_type": "execute_result"
    }
   ],
   "source": [
    "\"utkarsh\\tchoubey\".expandtabs(3)"
   ]
  },
  {
   "cell_type": "code",
   "execution_count": 12,
   "id": "df247f14",
   "metadata": {},
   "outputs": [
    {
     "data": {
      "text/plain": [
       "'tttsudhttt'"
      ]
     },
     "execution_count": 12,
     "metadata": {},
     "output_type": "execute_result"
    }
   ],
   "source": [
    "s.center(10,'t') \n",
    "# center function will first find the length off the given string\n",
    "#if the length is smaller than the first parameter, then it would procced from left end and will try to center the string,\n",
    "#otherwise, it would bring no change"
   ]
  },
  {
   "cell_type": "code",
   "execution_count": 13,
   "id": "9a7a8233",
   "metadata": {},
   "outputs": [
    {
     "data": {
      "text/plain": [
       "'tttsudhtt'"
      ]
     },
     "execution_count": 13,
     "metadata": {},
     "output_type": "execute_result"
    }
   ],
   "source": [
    "s.center(9,'t') "
   ]
  },
  {
   "cell_type": "code",
   "execution_count": 14,
   "id": "fbba678e",
   "metadata": {},
   "outputs": [
    {
     "data": {
      "text/plain": [
       "'sudh'"
      ]
     },
     "execution_count": 14,
     "metadata": {},
     "output_type": "execute_result"
    }
   ],
   "source": [
    "s.center(3,'t') "
   ]
  },
  {
   "cell_type": "code",
   "execution_count": 15,
   "id": "e9bb72ec",
   "metadata": {},
   "outputs": [],
   "source": [
    "l2 = ['xyz', 'pqr', 546.567, 'sudh']"
   ]
  },
  {
   "cell_type": "code",
   "execution_count": 16,
   "id": "ad473bec",
   "metadata": {},
   "outputs": [
    {
     "ename": "TypeError",
     "evalue": "'str' object cannot be interpreted as an integer",
     "output_type": "error",
     "traceback": [
      "\u001b[1;31m---------------------------------------------------------------------------\u001b[0m",
      "\u001b[1;31mTypeError\u001b[0m                                 Traceback (most recent call last)",
      "\u001b[1;32m~\\AppData\\Local\\Temp/ipykernel_11184/1409119850.py\u001b[0m in \u001b[0;36m<module>\u001b[1;34m\u001b[0m\n\u001b[1;32m----> 1\u001b[1;33m \u001b[0ml2\u001b[0m\u001b[1;33m.\u001b[0m\u001b[0mpop\u001b[0m\u001b[1;33m(\u001b[0m\u001b[1;34m\"sudh\"\u001b[0m\u001b[1;33m)\u001b[0m \u001b[1;31m# pop function takes index as input\u001b[0m\u001b[1;33m\u001b[0m\u001b[1;33m\u001b[0m\u001b[0m\n\u001b[0m",
      "\u001b[1;31mTypeError\u001b[0m: 'str' object cannot be interpreted as an integer"
     ]
    }
   ],
   "source": [
    "l2.pop(\"sudh\") \n",
    "# pop function takes index as input\n",
    "#it permanently removes the element"
   ]
  },
  {
   "cell_type": "code",
   "execution_count": 17,
   "id": "4f045b8d",
   "metadata": {},
   "outputs": [
    {
     "data": {
      "text/plain": [
       "'sudh'"
      ]
     },
     "execution_count": 17,
     "metadata": {},
     "output_type": "execute_result"
    }
   ],
   "source": [
    "l2.pop(-1)"
   ]
  },
  {
   "cell_type": "code",
   "execution_count": 18,
   "id": "f92f3f0b",
   "metadata": {},
   "outputs": [
    {
     "data": {
      "text/plain": [
       "['xyz', 'pqr', 546.567]"
      ]
     },
     "execution_count": 18,
     "metadata": {},
     "output_type": "execute_result"
    }
   ],
   "source": [
    "l2"
   ]
  },
  {
   "cell_type": "code",
   "execution_count": 19,
   "id": "eb649fd8",
   "metadata": {},
   "outputs": [
    {
     "data": {
      "text/plain": [
       "546.567"
      ]
     },
     "execution_count": 19,
     "metadata": {},
     "output_type": "execute_result"
    }
   ],
   "source": [
    "l2.pop() \n",
    "\n",
    "#by default, index value = 1,,,,,i.e. it always try to remove last element by default"
   ]
  },
  {
   "cell_type": "code",
   "execution_count": 20,
   "id": "84b75738",
   "metadata": {},
   "outputs": [
    {
     "data": {
      "text/plain": [
       "['xyz', 'pqr']"
      ]
     },
     "execution_count": 20,
     "metadata": {},
     "output_type": "execute_result"
    }
   ],
   "source": [
    "l2"
   ]
  },
  {
   "cell_type": "code",
   "execution_count": 21,
   "id": "a14d2b50",
   "metadata": {},
   "outputs": [],
   "source": [
    "l2.insert(1, \"fjhdfhjhzfg\")\n",
    "\n",
    "#insert fn tries to insert a given value at a given index"
   ]
  },
  {
   "cell_type": "code",
   "execution_count": 22,
   "id": "a7441b13",
   "metadata": {},
   "outputs": [
    {
     "data": {
      "text/plain": [
       "['xyz', 'fjhdfhjhzfg', 'pqr']"
      ]
     },
     "execution_count": 22,
     "metadata": {},
     "output_type": "execute_result"
    }
   ],
   "source": [
    "l2"
   ]
  },
  {
   "cell_type": "code",
   "execution_count": 23,
   "id": "4ba984fb",
   "metadata": {},
   "outputs": [],
   "source": [
    "l2 = [3423432, [534, 'fdgdf', 554.34534534, True], 'pqr', 'fjhdfhjhzfg', 'xyz']"
   ]
  },
  {
   "cell_type": "code",
   "execution_count": 24,
   "id": "e309191c",
   "metadata": {},
   "outputs": [
    {
     "data": {
      "text/plain": [
       "['xyz', 'fjhdfhjhzfg', 'pqr', [534, 'fdgdf', 554.34534534, True], 3423432]"
      ]
     },
     "execution_count": 24,
     "metadata": {},
     "output_type": "execute_result"
    }
   ],
   "source": [
    "l2[::-1] #it is just for temporary reversing"
   ]
  },
  {
   "cell_type": "code",
   "execution_count": 25,
   "id": "8e27a8ed",
   "metadata": {},
   "outputs": [
    {
     "data": {
      "text/plain": [
       "[3423432, [534, 'fdgdf', 554.34534534, True], 'pqr', 'fjhdfhjhzfg', 'xyz']"
      ]
     },
     "execution_count": 25,
     "metadata": {},
     "output_type": "execute_result"
    }
   ],
   "source": [
    "l2"
   ]
  },
  {
   "cell_type": "code",
   "execution_count": 26,
   "id": "3ce732d5",
   "metadata": {},
   "outputs": [],
   "source": [
    "l2.reverse() # #it is just for permanent reversing"
   ]
  },
  {
   "cell_type": "code",
   "execution_count": 27,
   "id": "c3235c96",
   "metadata": {},
   "outputs": [
    {
     "data": {
      "text/plain": [
       "['xyz', 'fjhdfhjhzfg', 'pqr', [534, 'fdgdf', 554.34534534, True], 3423432]"
      ]
     },
     "execution_count": 27,
     "metadata": {},
     "output_type": "execute_result"
    }
   ],
   "source": [
    "l2"
   ]
  },
  {
   "cell_type": "code",
   "execution_count": 28,
   "id": "b6ee6fcd",
   "metadata": {},
   "outputs": [
    {
     "data": {
      "text/plain": [
       "['xyz', 'fjhdfhjhzfg', 'pqr', [534, 'fdgdf', 554.34534534, True], 3423432]"
      ]
     },
     "execution_count": 28,
     "metadata": {},
     "output_type": "execute_result"
    }
   ],
   "source": [
    "l2"
   ]
  },
  {
   "cell_type": "code",
   "execution_count": 29,
   "id": "2f17bb38",
   "metadata": {},
   "outputs": [],
   "source": [
    "s2 = {1, 2, 3, 4, 5, 555}"
   ]
  },
  {
   "cell_type": "code",
   "execution_count": 30,
   "id": "83e98b7c",
   "metadata": {},
   "outputs": [],
   "source": [
    "s2.add(\"sdfgdfg\")"
   ]
  },
  {
   "cell_type": "code",
   "execution_count": 31,
   "id": "02844645",
   "metadata": {},
   "outputs": [
    {
     "data": {
      "text/plain": [
       "{1, 2, 3, 4, 5, 555, 'sdfgdfg'}"
      ]
     },
     "execution_count": 31,
     "metadata": {},
     "output_type": "execute_result"
    }
   ],
   "source": [
    "s2"
   ]
  },
  {
   "cell_type": "code",
   "execution_count": 32,
   "id": "ac11a8b0",
   "metadata": {},
   "outputs": [
    {
     "ename": "TypeError",
     "evalue": "unhashable type: 'list'",
     "output_type": "error",
     "traceback": [
      "\u001b[1;31m---------------------------------------------------------------------------\u001b[0m",
      "\u001b[1;31mTypeError\u001b[0m                                 Traceback (most recent call last)",
      "\u001b[1;32m~\\AppData\\Local\\Temp/ipykernel_11184/648796071.py\u001b[0m in \u001b[0;36m<module>\u001b[1;34m\u001b[0m\n\u001b[1;32m----> 1\u001b[1;33m \u001b[1;33m{\u001b[0m\u001b[1;33m[\u001b[0m\u001b[1;36m3\u001b[0m\u001b[1;33m,\u001b[0m\u001b[1;36m4\u001b[0m\u001b[1;33m,\u001b[0m\u001b[1;36m5\u001b[0m\u001b[1;33m,\u001b[0m\u001b[1;36m6\u001b[0m\u001b[1;33m]\u001b[0m\u001b[1;33m,\u001b[0m\u001b[1;36m3\u001b[0m\u001b[1;33m,\u001b[0m\u001b[1;36m4\u001b[0m\u001b[1;33m,\u001b[0m\u001b[1;36m5\u001b[0m\u001b[1;33m,\u001b[0m\u001b[1;36m3\u001b[0m\u001b[1;33m,\u001b[0m\u001b[1;36m4\u001b[0m\u001b[1;33m,\u001b[0m\u001b[1;36m5\u001b[0m\u001b[1;33m}\u001b[0m\u001b[1;33m\u001b[0m\u001b[1;33m\u001b[0m\u001b[0m\n\u001b[0m\u001b[0;32m      2\u001b[0m \u001b[1;33m\u001b[0m\u001b[0m\n\u001b[0;32m      3\u001b[0m \u001b[1;31m#a set cannot contain a list(mutable entity), but can contain a tuple or string(immutable entity)\u001b[0m\u001b[1;33m\u001b[0m\u001b[1;33m\u001b[0m\u001b[0m\n",
      "\u001b[1;31mTypeError\u001b[0m: unhashable type: 'list'"
     ]
    }
   ],
   "source": [
    "{[3,4,5,6],3,4,5,3,4,5}\n",
    "\n",
    "#a set cannot contain a list or set(mutable entity), but can contain a tuple or string(immutable entity)"
   ]
  },
  {
   "cell_type": "code",
   "execution_count": 33,
   "id": "3f25e7e3",
   "metadata": {},
   "outputs": [
    {
     "data": {
      "text/plain": [
       "{(3, 4, 5, 6), 3, 4, 5}"
      ]
     },
     "execution_count": 33,
     "metadata": {},
     "output_type": "execute_result"
    }
   ],
   "source": [
    "{(3,4,5,6),3,4,5,3,4,5}"
   ]
  },
  {
   "cell_type": "code",
   "execution_count": 35,
   "id": "c7a3f1bc",
   "metadata": {},
   "outputs": [
    {
     "ename": "TypeError",
     "evalue": "unhashable type: 'set'",
     "output_type": "error",
     "traceback": [
      "\u001b[1;31m---------------------------------------------------------------------------\u001b[0m",
      "\u001b[1;31mTypeError\u001b[0m                                 Traceback (most recent call last)",
      "\u001b[1;32m~\\AppData\\Local\\Temp/ipykernel_11184/133743627.py\u001b[0m in \u001b[0;36m<module>\u001b[1;34m\u001b[0m\n\u001b[1;32m----> 1\u001b[1;33m \u001b[1;33m{\u001b[0m\u001b[1;33m{\u001b[0m\u001b[1;36m3\u001b[0m\u001b[1;33m,\u001b[0m\u001b[1;36m4\u001b[0m\u001b[1;33m,\u001b[0m\u001b[1;36m5\u001b[0m\u001b[1;33m,\u001b[0m\u001b[1;36m6\u001b[0m\u001b[1;33m}\u001b[0m\u001b[1;33m,\u001b[0m\u001b[1;36m3\u001b[0m\u001b[1;33m,\u001b[0m\u001b[1;36m4\u001b[0m\u001b[1;33m,\u001b[0m\u001b[1;36m5\u001b[0m\u001b[1;33m,\u001b[0m\u001b[1;36m3\u001b[0m\u001b[1;33m,\u001b[0m\u001b[1;36m4\u001b[0m\u001b[1;33m,\u001b[0m\u001b[1;36m5\u001b[0m\u001b[1;33m}\u001b[0m\u001b[1;33m\u001b[0m\u001b[1;33m\u001b[0m\u001b[0m\n\u001b[0m",
      "\u001b[1;31mTypeError\u001b[0m: unhashable type: 'set'"
     ]
    }
   ],
   "source": [
    "{{3,4,5,6},3,4,5,3,4,5}"
   ]
  },
  {
   "cell_type": "code",
   "execution_count": 36,
   "id": "1900e413",
   "metadata": {},
   "outputs": [
    {
     "data": {
      "text/plain": [
       "{(3, 4, 5, 6), 3, 4, 5}"
      ]
     },
     "execution_count": 36,
     "metadata": {},
     "output_type": "execute_result"
    }
   ],
   "source": [
    "s = {(3,4,5,6),3,4,5,3,4,5}\n",
    "\n",
    "s"
   ]
  },
  {
   "cell_type": "code",
   "execution_count": 37,
   "id": "96c40e98",
   "metadata": {},
   "outputs": [],
   "source": [
    "s.remove(4)"
   ]
  },
  {
   "cell_type": "code",
   "execution_count": 38,
   "id": "548d5b12",
   "metadata": {},
   "outputs": [
    {
     "data": {
      "text/plain": [
       "{(3, 4, 5, 6), 3, 5}"
      ]
     },
     "execution_count": 38,
     "metadata": {},
     "output_type": "execute_result"
    }
   ],
   "source": [
    "s"
   ]
  },
  {
   "cell_type": "code",
   "execution_count": 39,
   "id": "988040a0",
   "metadata": {},
   "outputs": [],
   "source": [
    "s.discard(7) #it does not give any error even if the element is not present"
   ]
  },
  {
   "cell_type": "code",
   "execution_count": 40,
   "id": "55c32054",
   "metadata": {},
   "outputs": [
    {
     "ename": "KeyError",
     "evalue": "7",
     "output_type": "error",
     "traceback": [
      "\u001b[1;31m---------------------------------------------------------------------------\u001b[0m",
      "\u001b[1;31mKeyError\u001b[0m                                  Traceback (most recent call last)",
      "\u001b[1;32m~\\AppData\\Local\\Temp/ipykernel_11184/3088759934.py\u001b[0m in \u001b[0;36m<module>\u001b[1;34m\u001b[0m\n\u001b[1;32m----> 1\u001b[1;33m \u001b[0ms\u001b[0m\u001b[1;33m.\u001b[0m\u001b[0mremove\u001b[0m\u001b[1;33m(\u001b[0m\u001b[1;36m7\u001b[0m\u001b[1;33m)\u001b[0m\u001b[1;33m\u001b[0m\u001b[1;33m\u001b[0m\u001b[0m\n\u001b[0m",
      "\u001b[1;31mKeyError\u001b[0m: 7"
     ]
    }
   ],
   "source": [
    "s.remove(7)#itgives error if the element is not present"
   ]
  },
  {
   "cell_type": "code",
   "execution_count": 41,
   "id": "f3923344",
   "metadata": {},
   "outputs": [
    {
     "ename": "TypeError",
     "evalue": "'set' object is not subscriptable",
     "output_type": "error",
     "traceback": [
      "\u001b[1;31m---------------------------------------------------------------------------\u001b[0m",
      "\u001b[1;31mTypeError\u001b[0m                                 Traceback (most recent call last)",
      "\u001b[1;32m~\\AppData\\Local\\Temp/ipykernel_11184/1043733909.py\u001b[0m in \u001b[0;36m<module>\u001b[1;34m\u001b[0m\n\u001b[1;32m----> 1\u001b[1;33m \u001b[0ms\u001b[0m\u001b[1;33m[\u001b[0m\u001b[1;33m:\u001b[0m\u001b[1;33m:\u001b[0m\u001b[1;33m-\u001b[0m\u001b[1;36m1\u001b[0m\u001b[1;33m]\u001b[0m\u001b[1;33m\u001b[0m\u001b[1;33m\u001b[0m\u001b[0m\n\u001b[0m\u001b[0;32m      2\u001b[0m \u001b[1;33m\u001b[0m\u001b[0m\n\u001b[0;32m      3\u001b[0m \u001b[1;31m#'set' object is not subscriptable\u001b[0m\u001b[1;33m\u001b[0m\u001b[1;33m\u001b[0m\u001b[0m\n",
      "\u001b[1;31mTypeError\u001b[0m: 'set' object is not subscriptable"
     ]
    }
   ],
   "source": [
    "s[::-1] \n",
    "\n",
    "#'set' object is not subscriptable"
   ]
  },
  {
   "cell_type": "code",
   "execution_count": null,
   "id": "65731557",
   "metadata": {},
   "outputs": [],
   "source": []
  }
 ],
 "metadata": {
  "kernelspec": {
   "display_name": "Python 3 (ipykernel)",
   "language": "python",
   "name": "python3"
  },
  "language_info": {
   "codemirror_mode": {
    "name": "ipython",
    "version": 3
   },
   "file_extension": ".py",
   "mimetype": "text/x-python",
   "name": "python",
   "nbconvert_exporter": "python",
   "pygments_lexer": "ipython3",
   "version": "3.9.7"
  }
 },
 "nbformat": 4,
 "nbformat_minor": 5
}
