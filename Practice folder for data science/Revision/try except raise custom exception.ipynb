{
 "cells": [
  {
   "cell_type": "code",
   "execution_count": 1,
   "id": "240cc961",
   "metadata": {},
   "outputs": [
    {
     "name": "stdout",
     "output_type": "stream",
     "text": [
      "sdf\n",
      "calling my raise exception you have entered an unacceptable value\n"
     ]
    }
   ],
   "source": [
    "def test(a):\n",
    "    if a  == \"sudh\" or type(a)!= int:\n",
    "        #raising exception for a\n",
    "        raise ValueError(\"you have entered an unacceptable value\") \n",
    "    return a\n",
    "\n",
    "try:\n",
    "    a=input()\n",
    "    test(a)\n",
    "except Exception as e:\n",
    "    print(\"calling my raise exception\" , e)"
   ]
  }
 ],
 "metadata": {
  "kernelspec": {
   "display_name": "Python 3 (ipykernel)",
   "language": "python",
   "name": "python3"
  },
  "language_info": {
   "codemirror_mode": {
    "name": "ipython",
    "version": 3
   },
   "file_extension": ".py",
   "mimetype": "text/x-python",
   "name": "python",
   "nbconvert_exporter": "python",
   "pygments_lexer": "ipython3",
   "version": "3.9.7"
  }
 },
 "nbformat": 4,
 "nbformat_minor": 5
}
